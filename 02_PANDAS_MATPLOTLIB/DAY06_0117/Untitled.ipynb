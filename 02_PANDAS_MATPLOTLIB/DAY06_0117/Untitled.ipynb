{
 "cells": [
  {
   "cell_type": "code",
   "execution_count": null,
   "id": "f7505a76-42ae-4ec7-9164-9e39dfd72607",
   "metadata": {},
   "outputs": [],
   "source": [
    "### [ 데이터기반 시각화 ]\n",
    "- 데이터 : 남북한발전전략.xlsx\n",
    "- 남북한 수력발전전력에 대한 시각화"
   ]
  },
  {
   "cell_type": "code",
   "execution_count": null,
   "id": "d8069aed-7634-4a78-bb89-243d9e92804c",
   "metadata": {},
   "outputs": [],
   "source": [
    "(1) 모듈 로딩 <hr>"
   ]
  },
  {
   "cell_type": "code",
   "execution_count": null,
   "id": "a4336790-cdb7-44ba-81c5-904f3b56dd46",
   "metadata": {},
   "outputs": [],
   "source": [
    "import pandas as pd\n",
    "import matplotlib.pyplot as plt"
   ]
  },
  {
   "cell_type": "code",
   "execution_count": 1,
   "id": "a97a4223-a59d-4c99-ae40-7ddb4fe573bc",
   "metadata": {},
   "outputs": [
    {
     "ename": "SyntaxError",
     "evalue": "invalid syntax (3109366216.py, line 1)",
     "output_type": "error",
     "traceback": [
      "\u001b[1;36m  Cell \u001b[1;32mIn[1], line 1\u001b[1;36m\u001b[0m\n\u001b[1;33m    (2) 데이터 준비 <hr>\u001b[0m\n\u001b[1;37m        ^\u001b[0m\n\u001b[1;31mSyntaxError\u001b[0m\u001b[1;31m:\u001b[0m invalid syntax\n"
     ]
    }
   ],
   "source": [
    "(2) 데이터 준비 <hr>"
   ]
  },
  {
   "cell_type": "code",
   "execution_count": null,
   "id": "7cf5ad03-22bd-4370-aa98-9de0b90d7b9c",
   "metadata": {},
   "outputs": [],
   "source": [
    "file = '../DATA/"
   ]
  }
 ],
 "metadata": {
  "kernelspec": {
   "display_name": "Python 3 (ipykernel)",
   "language": "python",
   "name": "python3"
  },
  "language_info": {
   "codemirror_mode": {
    "name": "ipython",
    "version": 3
   },
   "file_extension": ".py",
   "mimetype": "text/x-python",
   "name": "python",
   "nbconvert_exporter": "python",
   "pygments_lexer": "ipython3",
   "version": "3.8.18"
  }
 },
 "nbformat": 4,
 "nbformat_minor": 5
}
