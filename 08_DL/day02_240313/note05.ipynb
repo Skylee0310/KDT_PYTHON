{
 "cells": [
  {
   "cell_type": "markdown",
   "metadata": {},
   "source": [
    "### 텐서 연결 & 결합"
   ]
  },
  {
   "cell_type": "code",
   "execution_count": 4,
   "metadata": {},
   "outputs": [],
   "source": [
    "# 모듈 로딩\n",
    "import torch"
   ]
  },
  {
   "cell_type": "code",
   "execution_count": 10,
   "metadata": {},
   "outputs": [],
   "source": [
    "# 텐서 데이터 생성\n",
    "torch.manual_seed(12)\n",
    "\n",
    "# torch.rand(텐서 사이즈) => 임의의 0.<=x<1. 실수 (= 0보다 크거나 같고 1보다 작은 실수 값)\n",
    "x = torch.rand(2,10) # 2 X 10\n",
    "\n",
    "# torch.randint(숫자1, 숫자2, (텐서 사이즈)) =>임의의 정수 : low <= y < high\n",
    "y = torch.randint(0, 2, (10,)) # 1X10 벡터\n",
    "z = torch.randint(0, 2, (2, 10)) # 2X10 매트릭스"
   ]
  },
  {
   "cell_type": "code",
   "execution_count": 11,
   "metadata": {},
   "outputs": [
    {
     "name": "stdout",
     "output_type": "stream",
     "text": [
      "x = tensor([[0.4657, 0.2328, 0.4527, 0.5871, 0.4086, 0.1272, 0.6373, 0.2421, 0.7312,\n",
      "         0.7224],\n",
      "        [0.1992, 0.6948, 0.5830, 0.6318, 0.5559, 0.1262, 0.9790, 0.8443, 0.1256,\n",
      "         0.4456]])\n",
      "y = tensor([0, 1, 0, 0, 1, 0, 1, 1, 0, 0])\n",
      "z = tensor([[1, 1, 0, 1, 1, 0, 0, 0, 0, 0],\n",
      "        [0, 0, 1, 1, 1, 1, 0, 0, 0, 0]])\n"
     ]
    }
   ],
   "source": [
    "print(f'x = {x}')\n",
    "print(f'y = {y}')\n",
    "print(f'z = {z}')\n"
   ]
  },
  {
   "cell_type": "code",
   "execution_count": 13,
   "metadata": {},
   "outputs": [
    {
     "name": "stdout",
     "output_type": "stream",
     "text": [
      "x=> torch.Size([2, 10]), 2D\n",
      "y=> torch.Size([10]), 1D\n",
      "z=> torch.Size([2, 10]), 2D\n"
     ]
    }
   ],
   "source": [
    "print(f'x=> {x.shape}, {x.ndim}D') \n",
    "print(f'y=> {y.shape}, {y.ndim}D') \n",
    "print(f'z=> {z.shape}, {z.ndim}D') "
   ]
  },
  {
   "cell_type": "code",
   "execution_count": 18,
   "metadata": {},
   "outputs": [
    {
     "name": "stdout",
     "output_type": "stream",
     "text": [
      "[xy]\n",
      "tensor([[0.4657, 0.2328, 0.4527, 0.5871, 0.4086, 0.1272, 0.6373, 0.2421, 0.7312,\n",
      "         0.7224],\n",
      "        [0.1992, 0.6948, 0.5830, 0.6318, 0.5559, 0.1262, 0.9790, 0.8443, 0.1256,\n",
      "         0.4456],\n",
      "        [1.0000, 1.0000, 0.0000, 1.0000, 1.0000, 0.0000, 0.0000, 0.0000, 0.0000,\n",
      "         0.0000],\n",
      "        [0.0000, 0.0000, 1.0000, 1.0000, 1.0000, 1.0000, 0.0000, 0.0000, 0.0000,\n",
      "         0.0000]])\n",
      "torch.Size([4, 10]), 2D\n"
     ]
    }
   ],
   "source": [
    "# tensor 연결 cat([텐서1, 텐서2 ...])\n",
    "xz = torch.cat([x, z], dim=0)\n",
    "print(f'[xy]\\n{xz}\\n{xz.shape}, {xz.ndim}D')"
   ]
  },
  {
   "cell_type": "code",
   "execution_count": 20,
   "metadata": {},
   "outputs": [
    {
     "data": {
      "text/plain": [
       "torch.return_types.max(\n",
       "values=tensor([1.0000, 1.0000, 1.0000, 1.0000, 1.0000, 1.0000, 0.9790, 0.8443, 0.7312,\n",
       "        0.7224]),\n",
       "indices=tensor([2, 2, 3, 2, 2, 3, 1, 1, 0, 0]))"
      ]
     },
     "execution_count": 20,
     "metadata": {},
     "output_type": "execute_result"
    }
   ],
   "source": [
    "# \n",
    "xz.max(dim=0)\n",
    "\n",
    "# dim=0 첫번째 차원에 대해서 최댓값을 구한 것\n",
    "# 출력 값 =>\n",
    "#           values = 각 열에 대한 최댓값을 모두 출력\n",
    "#           indices = values 값의 인덱스 출력."
   ]
  },
  {
   "attachments": {
    "image.png": {
     "image/png": "[encoded data removed]"
    }
   },
   "cell_type": "markdown",
   "metadata": {},
   "source": [
    "![image.png](attachment:image.png)"
   ]
  },
  {
   "cell_type": "code",
   "execution_count": 23,
   "metadata": {},
   "outputs": [
    {
     "name": "stdout",
     "output_type": "stream",
     "text": [
      "maxValue => tensor([1.0000, 1.0000, 1.0000, 1.0000, 1.0000, 1.0000, 0.9790, 0.8443, 0.7312,\n",
      "        0.7224])\n",
      "maxIndex => tensor([2, 2, 3, 2, 2, 3, 1, 1, 0, 0])\n"
     ]
    }
   ],
   "source": [
    "# ▲ 열 단위의 최댓값 및 최댓값의 인덱스\n",
    "maxValue = xz.max(dim=0)[0] # 각 열에 대한 최댓값\n",
    "maxIndex = xz.max(dim=0)[1] # 최댓값의 인덱스\n",
    "print(f'maxValue => {maxValue}\\nmaxIndex => {maxIndex}')"
   ]
  },
  {
   "attachments": {
    "image.png": {
     "image/png": "[encoded data removed]"
    }
   },
   "cell_type": "markdown",
   "metadata": {},
   "source": [
    "![image.png](attachment:image.png)"
   ]
  },
  {
   "cell_type": "code",
   "execution_count": 26,
   "metadata": {},
   "outputs": [
    {
     "name": "stdout",
     "output_type": "stream",
     "text": [
      "maxValue => tensor([0.7312, 0.9790, 1.0000, 1.0000])\n",
      "maxIndex => tensor([8, 6, 0, 2])\n"
     ]
    }
   ],
   "source": [
    "# ▲ 행 단위의 최댓값 및 최댓값의 인덱스\n",
    "maxValue = xz.max(dim=1)[0] \n",
    "maxIndex = xz.max(dim=1)[1]\n",
    "print(f'maxValue => {maxValue}\\nmaxIndex => {maxIndex}')\n",
    "\n",
    "# 안에 들어 있는 거 일수록 차원이 높은 듯..!"
   ]
  },
  {
   "cell_type": "code",
   "execution_count": 27,
   "metadata": {},
   "outputs": [
    {
     "data": {
      "text/html": [
       "<div>\n",
       "<style scoped>\n",
       "    .dataframe tbody tr th:only-of-type {\n",
       "        vertical-align: middle;\n",
       "    }\n",
       "\n",
       "    .dataframe tbody tr th {\n",
       "        vertical-align: top;\n",
       "    }\n",
       "\n",
       "    .dataframe thead th {\n",
       "        text-align: right;\n",
       "    }\n",
       "</style>\n",
       "<table border=\"1\" class=\"dataframe\">\n",
       "  <thead>\n",
       "    <tr style=\"text-align: right;\">\n",
       "      <th></th>\n",
       "      <th>A</th>\n",
       "      <th>B</th>\n",
       "      <th>C</th>\n",
       "    </tr>\n",
       "  </thead>\n",
       "  <tbody>\n",
       "    <tr>\n",
       "      <th>0</th>\n",
       "      <td>10</td>\n",
       "      <td>20</td>\n",
       "      <td>30</td>\n",
       "    </tr>\n",
       "    <tr>\n",
       "      <th>1</th>\n",
       "      <td>11</td>\n",
       "      <td>22</td>\n",
       "      <td>33</td>\n",
       "    </tr>\n",
       "  </tbody>\n",
       "</table>\n",
       "</div>"
      ],
      "text/plain": [
       "    A   B   C\n",
       "0  10  20  30\n",
       "1  11  22  33"
      ]
     },
     "execution_count": 27,
     "metadata": {},
     "output_type": "execute_result"
    }
   ],
   "source": [
    "import pandas as pd\n",
    "data = pd.DataFrame({'A':[10, 11], 'B':[20,22], 'C':[30,33]})\n",
    "data"
   ]
  },
  {
   "cell_type": "code",
   "execution_count": 32,
   "metadata": {},
   "outputs": [
    {
     "data": {
      "text/plain": [
       "(A    11\n",
       " B    22\n",
       " C    33\n",
       " dtype: int64,\n",
       " 0    30\n",
       " 1    33\n",
       " dtype: int64)"
      ]
     },
     "execution_count": 32,
     "metadata": {},
     "output_type": "execute_result"
    }
   ],
   "source": [
    "data.max(), data.max(axis=1) \n",
    "# axis=1 로 하면 해당 행에서 가장 큰 값을 찾아줌. (default는 axis = 0 (열))\n",
    "# 집계함수는 다 이모냥으로 돌아간다."
   ]
  },
  {
   "cell_type": "code",
   "execution_count": null,
   "metadata": {},
   "outputs": [],
   "source": []
  }
 ],
 "metadata": {
  "kernelspec": {
   "display_name": "Torch_py38",
   "language": "python",
   "name": "python3"
  },
  "language_info": {
   "codemirror_mode": {
    "name": "ipython",
    "version": 3
   },
   "file_extension": ".py",
   "mimetype": "text/x-python",
   "name": "python",
   "nbconvert_exporter": "python",
   "pygments_lexer": "ipython3",
   "version": "3.8.18"
  }
 },
 "nbformat": 4,
 "nbformat_minor": 2
}
