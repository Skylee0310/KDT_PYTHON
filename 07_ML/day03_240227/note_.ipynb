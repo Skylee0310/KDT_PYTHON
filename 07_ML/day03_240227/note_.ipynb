{
 "cells": [
  {
   "cell_type": "markdown",
   "metadata": {},
   "source": [
    "## 데이터 균형 ▶ 균형 데이터\n",
    "<hr>"
   ]
  },
  {
   "cell_type": "markdown",
   "metadata": {},
   "source": [
    "Pythonで理解する統計分析の基礎"
   ]
  },
  {
   "cell_type": "markdown",
   "metadata": {},
   "source": [
    "### ◎ 클래스 간 데이터 불균형을 해결하는 방법"
   ]
  },
  {
   "cell_type": "markdown",
   "metadata": {},
   "source": [
    "◆ 균형 데이터"
   ]
  },
  {
   "cell_type": "markdown",
   "metadata": {},
   "source": [
    "- 언더/다운샘플링(under sampling)"
   ]
  },
  {
   "cell_type": "markdown",
   "metadata": {},
   "source": [
    "- 업 샘플링(up sampling)"
   ]
  },
  {
   "cell_type": "markdown",
   "metadata": {},
   "source": [
    "◆ 데이터 변환"
   ]
  },
  {
   "cell_type": "markdown",
   "metadata": {},
   "source": []
  },
  {
   "cell_type": "markdown",
   "metadata": {},
   "source": [
    "◆ 과대적합 : 훈련 데이터 셋에 특화된/최적화된 모델\n",
    "- -> 새로운 데이터에 대한 오차 발생률 高"
   ]
  },
  {
   "cell_type": "markdown",
   "metadata": {},
   "source": [
    "◆ 과소적합 : 훈련 데이터 셋의 규칙과 패턴이 반영되지 않는 모델\n",
    "- 훈련 데이터 오류가 줄어들지 않음.\n",
    "- 원인 : 학습 횟수 부족, 데이터(특성)이 부족하여 모델 지나치게 단순"
   ]
  },
  {
   "cell_type": "markdown",
   "metadata": {},
   "source": [
    "◆ 최적적합\n",
    "- 훈련 데이터 셋의 규칙 및 패턴이 \"일반화\"된 모델\n",
    "- 훈련 데이터셋과 새로운 데이터에 대한 오차 및 정확도가 비슷함.\n",
    "- 새로운 데이터에 대한 정확도가 높음.\n",
    "\n",
    "<hr>\n",
    "\n",
    "- 편중되지 않은 다양성 갖춘 데이터로 학습 진행.\n",
    "- 양질의 많은 데이터\n",
    "- 모델 복잡도 적정수준 설정"
   ]
  },
  {
   "cell_type": "markdown",
   "metadata": {},
   "source": []
  },
  {
   "cell_type": "markdown",
   "metadata": {},
   "source": [
    "- 선형회귀\n",
    "- 다항회귀\n",
    "- 다중회귀\n",
    "- 로지스틱 회귀 => 분류"
   ]
  },
  {
   "cell_type": "markdown",
   "metadata": {},
   "source": [
    "◎ 선형회귀\n",
    "\n",
    "y = ax+b"
   ]
  }
 ],
 "metadata": {
  "language_info": {
   "name": "python"
  }
 },
 "nbformat": 4,
 "nbformat_minor": 2
}
