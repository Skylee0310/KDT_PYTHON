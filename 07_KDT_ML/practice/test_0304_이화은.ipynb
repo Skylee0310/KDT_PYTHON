{
 "cells": [
  {
   "cell_type": "markdown",
   "metadata": {},
   "source": [
    "16. 아래 데이터셋을 기반으로 분류 회귀 모델을 완성 후 성능평가까지 구현하세요  - : iris.csv 데이터셋  \n",
    " - 조건  \n",
    " * : 3 2 분류 개 품종 중 개 선택하여 이진 분류 진행  \n",
    " * : 3 1 , 4 회귀 개 품종 중 개 선택 개 피쳐 중 꽃잎의 길이값 예측 회귀 \n"
   ]
  },
  {
   "cell_type": "code",
   "execution_count": 28,
   "metadata": {},
   "outputs": [],
   "source": [
    "# 모듈 로딩\n",
    "import pandas as pd\n",
    "import numpy as np\n",
    "import matplotlib.pyplot as plt\n",
    "import koreanize_matplotlib\n",
    "from sklearn.model_selection import train_test_split\n",
    "from sklearn.neighbors import KNeighborsClassifier\n",
    "from sklearn.linear_model import LogisticRegression\n",
    "from sklearn.metrics import accuracy_score, f1_score, recall_score"
   ]
  },
  {
   "cell_type": "code",
   "execution_count": 29,
   "metadata": {},
   "outputs": [],
   "source": [
    "# 데이터 확인\n",
    "file = './data/iris.csv'\n",
    "pd.read_csv(file)\n",
    "irisDF = pd.read_csv(file)"
   ]
  },
  {
   "cell_type": "code",
   "execution_count": 30,
   "metadata": {},
   "outputs": [
    {
     "data": {
      "text/plain": [
       "sepal.length    0\n",
       "sepal.width     0\n",
       "petal.length    0\n",
       "petal.width     0\n",
       "variety         0\n",
       "dtype: int64"
      ]
     },
     "execution_count": 30,
     "metadata": {},
     "output_type": "execute_result"
    }
   ],
   "source": [
    "# 데이터 전처리 (결측값 확인)\n",
    "irisDF.isna().sum()"
   ]
  },
  {
   "cell_type": "code",
   "execution_count": 31,
   "metadata": {},
   "outputs": [
    {
     "data": {
      "text/plain": [
       "1"
      ]
     },
     "execution_count": 31,
     "metadata": {},
     "output_type": "execute_result"
    }
   ],
   "source": [
    "# 데이터 전처리 (중복값 확인)\n",
    "irisDF.duplicated().sum()"
   ]
  },
  {
   "cell_type": "code",
   "execution_count": 56,
   "metadata": {},
   "outputs": [
    {
     "data": {
      "text/plain": [
       "sepal.length  sepal.width  petal.length  petal.width  variety   \n",
       "5.8           2.7          5.1           1.9          Virginica     2\n",
       "6.2           2.2          4.5           1.5          Versicolor    1\n",
       "              2.9          4.3           1.3          Versicolor    1\n",
       "              3.4          5.4           2.3          Virginica     1\n",
       "6.3           2.3          4.4           1.3          Versicolor    1\n",
       "                                                                   ..\n",
       "5.4           3.9          1.3           0.4          Setosa        1\n",
       "                           1.7           0.4          Setosa        1\n",
       "5.5           2.3          4.0           1.3          Versicolor    1\n",
       "              2.4          3.7           1.0          Versicolor    1\n",
       "7.9           3.8          6.4           2.0          Virginica     1\n",
       "Name: count, Length: 149, dtype: int64"
      ]
     },
     "execution_count": 56,
     "metadata": {},
     "output_type": "execute_result"
    }
   ],
   "source": [
    "irisDF.value_counts()"
   ]
  },
  {
   "cell_type": "code",
   "execution_count": 32,
   "metadata": {},
   "outputs": [
    {
     "data": {
      "text/plain": [
       "{'whiskers': [<matplotlib.lines.Line2D at 0x2f066ff43d0>,\n",
       "  <matplotlib.lines.Line2D at 0x2f066ff4670>,\n",
       "  <matplotlib.lines.Line2D at 0x2f0670025e0>,\n",
       "  <matplotlib.lines.Line2D at 0x2f067002880>,\n",
       "  <matplotlib.lines.Line2D at 0x2f06700f880>,\n",
       "  <matplotlib.lines.Line2D at 0x2f066db4820>,\n",
       "  <matplotlib.lines.Line2D at 0x2f06700fcd0>,\n",
       "  <matplotlib.lines.Line2D at 0x2f06700ff70>],\n",
       " 'caps': [<matplotlib.lines.Line2D at 0x2f066ff4910>,\n",
       "  <matplotlib.lines.Line2D at 0x2f066fd5eb0>,\n",
       "  <matplotlib.lines.Line2D at 0x2f067002b20>,\n",
       "  <matplotlib.lines.Line2D at 0x2f067002dc0>,\n",
       "  <matplotlib.lines.Line2D at 0x2f066d1fd60>,\n",
       "  <matplotlib.lines.Line2D at 0x2f066df3e50>,\n",
       "  <matplotlib.lines.Line2D at 0x2f066f72250>,\n",
       "  <matplotlib.lines.Line2D at 0x2f066f724f0>],\n",
       " 'boxes': [<matplotlib.lines.Line2D at 0x2f066ff4130>,\n",
       "  <matplotlib.lines.Line2D at 0x2f067002340>,\n",
       "  <matplotlib.lines.Line2D at 0x2f06700f5e0>,\n",
       "  <matplotlib.lines.Line2D at 0x2f06700fa30>],\n",
       " 'medians': [<matplotlib.lines.Line2D at 0x2f066ff4dc0>,\n",
       "  <matplotlib.lines.Line2D at 0x2f06700f0a0>,\n",
       "  <matplotlib.lines.Line2D at 0x2f066df32b0>,\n",
       "  <matplotlib.lines.Line2D at 0x2f066f72790>],\n",
       " 'fliers': [<matplotlib.lines.Line2D at 0x2f0670020a0>,\n",
       "  <matplotlib.lines.Line2D at 0x2f06700f340>,\n",
       "  <matplotlib.lines.Line2D at 0x2f06700f7c0>,\n",
       "  <matplotlib.lines.Line2D at 0x2f066f72a30>],\n",
       " 'means': []}"
      ]
     },
     "execution_count": 32,
     "metadata": {},
     "output_type": "execute_result"
    },
    {
     "data": {
      "image/png": "[encoded data removed]",
      "text/plain": [
       "<Figure size 640x480 with 1 Axes>"
      ]
     },
     "metadata": {},
     "output_type": "display_data"
    }
   ],
   "source": [
    "# 데이터 전처리 (이상치 확인)\n",
    "plt.boxplot(irisDF[irisDF.columns[:-1]]) # 마지막 컬럼인 variety를 제외한 컬럼을 박스그래프로 시각화 후 확인."
   ]
  },
  {
   "cell_type": "code",
   "execution_count": 55,
   "metadata": {},
   "outputs": [],
   "source": [
    "# 사분위수로 이상치 제거 \n",
    "q3 = irisDF[irisDF.columns[2]].quantile(0.75)\n",
    "q1 = irisDF[irisDF.columns[2]].quantile(0.25)\n",
    "iqr = q3-q1\n",
    "bd = 1.5*iqr\n",
    "\n",
    "# idx1 = irisDF[irisDF.columns[2]>q3+bd]\n",
    "# idx2 = irisDF[irisDF.columns[2]<q1-bd]"
   ]
  },
  {
   "cell_type": "code",
   "execution_count": 57,
   "metadata": {},
   "outputs": [],
   "source": [
    "twoDF = irisDF.iloc[:100]\n",
    "twoDF = twoDF.replace({'Setosa':0, 'Versicolor':1})\n",
    "#twoDF\n",
    "targetDF = twoDF['variety']\n",
    "featureDF = twoDF[twoDF.columns[:-1]]"
   ]
  },
  {
   "cell_type": "code",
   "execution_count": 58,
   "metadata": {},
   "outputs": [],
   "source": [
    "X_train, X_test, y_train, y_test = train_test_split(featureDF, targetDF, test_size = 0.2, stratify=targetDF)"
   ]
  },
  {
   "cell_type": "code",
   "execution_count": 59,
   "metadata": {},
   "outputs": [
    {
     "data": {
      "text/html": [
       "<style>#sk-container-id-3 {color: black;}#sk-container-id-3 pre{padding: 0;}#sk-container-id-3 div.sk-toggleable {background-color: white;}#sk-container-id-3 label.sk-toggleable__label {cursor: pointer;display: block;width: 100%;margin-bottom: 0;padding: 0.3em;box-sizing: border-box;text-align: center;}#sk-container-id-3 label.sk-toggleable__label-arrow:before {content: \"▸\";float: left;margin-right: 0.25em;color: #696969;}#sk-container-id-3 label.sk-toggleable__label-arrow:hover:before {color: black;}#sk-container-id-3 div.sk-estimator:hover label.sk-toggleable__label-arrow:before {color: black;}#sk-container-id-3 div.sk-toggleable__content {max-height: 0;max-width: 0;overflow: hidden;text-align: left;background-color: #f0f8ff;}#sk-container-id-3 div.sk-toggleable__content pre {margin: 0.2em;color: black;border-radius: 0.25em;background-color: #f0f8ff;}#sk-container-id-3 input.sk-toggleable__control:checked~div.sk-toggleable__content {max-height: 200px;max-width: 100%;overflow: auto;}#sk-container-id-3 input.sk-toggleable__control:checked~label.sk-toggleable__label-arrow:before {content: \"▾\";}#sk-container-id-3 div.sk-estimator input.sk-toggleable__control:checked~label.sk-toggleable__label {background-color: #d4ebff;}#sk-container-id-3 div.sk-label input.sk-toggleable__control:checked~label.sk-toggleable__label {background-color: #d4ebff;}#sk-container-id-3 input.sk-hidden--visually {border: 0;clip: rect(1px 1px 1px 1px);clip: rect(1px, 1px, 1px, 1px);height: 1px;margin: -1px;overflow: hidden;padding: 0;position: absolute;width: 1px;}#sk-container-id-3 div.sk-estimator {font-family: monospace;background-color: #f0f8ff;border: 1px dotted black;border-radius: 0.25em;box-sizing: border-box;margin-bottom: 0.5em;}#sk-container-id-3 div.sk-estimator:hover {background-color: #d4ebff;}#sk-container-id-3 div.sk-parallel-item::after {content: \"\";width: 100%;border-bottom: 1px solid gray;flex-grow: 1;}#sk-container-id-3 div.sk-label:hover label.sk-toggleable__label {background-color: #d4ebff;}#sk-container-id-3 div.sk-serial::before {content: \"\";position: absolute;border-left: 1px solid gray;box-sizing: border-box;top: 0;bottom: 0;left: 50%;z-index: 0;}#sk-container-id-3 div.sk-serial {display: flex;flex-direction: column;align-items: center;background-color: white;padding-right: 0.2em;padding-left: 0.2em;position: relative;}#sk-container-id-3 div.sk-item {position: relative;z-index: 1;}#sk-container-id-3 div.sk-parallel {display: flex;align-items: stretch;justify-content: center;background-color: white;position: relative;}#sk-container-id-3 div.sk-item::before, #sk-container-id-3 div.sk-parallel-item::before {content: \"\";position: absolute;border-left: 1px solid gray;box-sizing: border-box;top: 0;bottom: 0;left: 50%;z-index: -1;}#sk-container-id-3 div.sk-parallel-item {display: flex;flex-direction: column;z-index: 1;position: relative;background-color: white;}#sk-container-id-3 div.sk-parallel-item:first-child::after {align-self: flex-end;width: 50%;}#sk-container-id-3 div.sk-parallel-item:last-child::after {align-self: flex-start;width: 50%;}#sk-container-id-3 div.sk-parallel-item:only-child::after {width: 0;}#sk-container-id-3 div.sk-dashed-wrapped {border: 1px dashed gray;margin: 0 0.4em 0.5em 0.4em;box-sizing: border-box;padding-bottom: 0.4em;background-color: white;}#sk-container-id-3 div.sk-label label {font-family: monospace;font-weight: bold;display: inline-block;line-height: 1.2em;}#sk-container-id-3 div.sk-label-container {text-align: center;}#sk-container-id-3 div.sk-container {/* jupyter's `normalize.less` sets `[hidden] { display: none; }` but bootstrap.min.css set `[hidden] { display: none !important; }` so we also need the `!important` here to be able to override the default hidden behavior on the sphinx rendered scikit-learn.org. See: https://github.com/scikit-learn/scikit-learn/issues/21755 */display: inline-block !important;position: relative;}#sk-container-id-3 div.sk-text-repr-fallback {display: none;}</style><div id=\"sk-container-id-3\" class=\"sk-top-container\"><div class=\"sk-text-repr-fallback\"><pre>KNeighborsClassifier()</pre><b>In a Jupyter environment, please rerun this cell to show the HTML representation or trust the notebook. <br />On GitHub, the HTML representation is unable to render, please try loading this page with nbviewer.org.</b></div><div class=\"sk-container\" hidden><div class=\"sk-item\"><div class=\"sk-estimator sk-toggleable\"><input class=\"sk-toggleable__control sk-hidden--visually\" id=\"sk-estimator-id-3\" type=\"checkbox\" checked><label for=\"sk-estimator-id-3\" class=\"sk-toggleable__label sk-toggleable__label-arrow\">KNeighborsClassifier</label><div class=\"sk-toggleable__content\"><pre>KNeighborsClassifier()</pre></div></div></div></div></div>"
      ],
      "text/plain": [
       "KNeighborsClassifier()"
      ]
     },
     "execution_count": 59,
     "metadata": {},
     "output_type": "execute_result"
    }
   ],
   "source": [
    "model = KNeighborsClassifier()\n",
    "model.fit(X_train, y_train)"
   ]
  },
  {
   "cell_type": "code",
   "execution_count": 60,
   "metadata": {},
   "outputs": [],
   "source": [
    "trainScoreList = []\n",
    "testScoreList = []\n",
    "for k in range(1, 50) :\n",
    "    model.fit(X_train, y_train)\n",
    "    train = model.score(X_train, y_train)\n",
    "    test = model.score(X_test, y_test)\n",
    "    trainScoreList.append(train)\n",
    "    testScoreList.append(test)\n",
    "\n",
    "train_idx = trainScoreList.index(max(trainScoreList))\n",
    "test_idx = testScoreList.index(max(testScoreList))\n"
   ]
  },
  {
   "cell_type": "code",
   "execution_count": 61,
   "metadata": {},
   "outputs": [
    {
     "data": {
      "text/plain": [
       "1.0"
      ]
     },
     "execution_count": 61,
     "metadata": {},
     "output_type": "execute_result"
    }
   ],
   "source": [
    "model = KNeighborsClassifier(n_neighbors=train_idx+1)\n",
    "model.fit(X_train, y_train)\n",
    "model.score(X_test, y_test)"
   ]
  },
  {
   "cell_type": "code",
   "execution_count": 62,
   "metadata": {},
   "outputs": [
    {
     "data": {
      "text/plain": [
       "1.0"
      ]
     },
     "execution_count": 62,
     "metadata": {},
     "output_type": "execute_result"
    }
   ],
   "source": [
    "model = KNeighborsClassifier(n_neighbors=test_idx+1)\n",
    "model.fit(X_train, y_train)\n",
    "model.score(X_test, y_test)"
   ]
  },
  {
   "cell_type": "code",
   "execution_count": 63,
   "metadata": {},
   "outputs": [
    {
     "data": {
      "text/plain": [
       "array([[0., 1.],\n",
       "       [0., 1.],\n",
       "       [0., 1.],\n",
       "       [1., 0.],\n",
       "       [0., 1.],\n",
       "       [1., 0.],\n",
       "       [0., 1.],\n",
       "       [1., 0.],\n",
       "       [1., 0.],\n",
       "       [1., 0.],\n",
       "       [1., 0.],\n",
       "       [0., 1.],\n",
       "       [0., 1.],\n",
       "       [0., 1.],\n",
       "       [1., 0.],\n",
       "       [0., 1.],\n",
       "       [1., 0.],\n",
       "       [0., 1.],\n",
       "       [1., 0.],\n",
       "       [1., 0.]])"
      ]
     },
     "execution_count": 63,
     "metadata": {},
     "output_type": "execute_result"
    }
   ],
   "source": [
    "# 성능평가\n",
    "model.predict(X_train)\n",
    "model.predict_proba(X_train)\n",
    "model.predict(X_test)\n",
    "model.predict_proba(X_test)"
   ]
  },
  {
   "cell_type": "code",
   "execution_count": null,
   "metadata": {},
   "outputs": [],
   "source": []
  },
  {
   "cell_type": "code",
   "execution_count": null,
   "metadata": {},
   "outputs": [],
   "source": []
  },
  {
   "cell_type": "code",
   "execution_count": null,
   "metadata": {},
   "outputs": [],
   "source": []
  },
  {
   "cell_type": "code",
   "execution_count": null,
   "metadata": {},
   "outputs": [],
   "source": []
  }
 ],
 "metadata": {
  "kernelspec": {
   "display_name": "EXAM_ML",
   "language": "python",
   "name": "python3"
  },
  "language_info": {
   "codemirror_mode": {
    "name": "ipython",
    "version": 3
   },
   "file_extension": ".py",
   "mimetype": "text/x-python",
   "name": "python",
   "nbconvert_exporter": "python",
   "pygments_lexer": "ipython3",
   "version": "3.9.18"
  }
 },
 "nbformat": 4,
 "nbformat_minor": 2
}
