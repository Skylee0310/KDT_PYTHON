{
 "cells": [
  {
   "cell_type": "code",
   "execution_count": 1,
   "metadata": {},
   "outputs": [],
   "source": [
    "import torch\n",
    "import pandas as pd\n",
    "import numpy as np\n",
    "import csv"
   ]
  },
  {
   "cell_type": "code",
   "execution_count": 2,
   "metadata": {},
   "outputs": [],
   "source": [
    "# 데이터 파일 => csv 파일 : 구분자 (';'), 첫번째 줄 컬럼명 skip, 데이터 타입 - 실수\n",
    "file = '../data/winequality-white.csv'"
   ]
  },
  {
   "cell_type": "code",
   "execution_count": 11,
   "metadata": {},
   "outputs": [
    {
     "name": "stdout",
     "output_type": "stream",
     "text": [
      "type => <class 'numpy.ndarray'>\n",
      "wineNP.shape => (4898, 12)\n"
     ]
    }
   ],
   "source": [
    "# 넘파이로 불러오기.\n",
    "wineNP = np.loadtxt(file, dtype=np.float32, delimiter =';', skiprows=1)\n",
    "print(f'type => {type(wineNP)}\\nwineNP.shape => {wineNP.shape}')"
   ]
  },
  {
   "cell_type": "code",
   "execution_count": 13,
   "metadata": {},
   "outputs": [
    {
     "name": "stdout",
     "output_type": "stream",
     "text": [
      "col_list => ['fixed acidity', 'volatile acidity', 'citric acid', 'residual sugar', 'chlorides', 'free sulfur dioxide', 'total sulfur dioxide', 'density', 'pH', 'sulphates', 'alcohol', 'quality']\n",
      "type => <class 'list'>\n"
     ]
    }
   ],
   "source": [
    "col_list = next(csv.reader(open(file), delimiter=';')) \n",
    "# next() 함수를 사용하여 CSV 리더 객체에서 헤더 or 첫 번째 데이터 행을 리스트형으로 가져옴.p\n",
    "print(f'col_list => {col_list}\\ntype => {type(col_list)}')"
   ]
  },
  {
   "cell_type": "code",
   "execution_count": 15,
   "metadata": {},
   "outputs": [
    {
     "name": "stdout",
     "output_type": "stream",
     "text": [
      "type => <class 'torch.Tensor'>\n",
      "wineNP.shape => torch.Size([4898, 12])\n"
     ]
    }
   ],
   "source": [
    "# np.ndarray => tensor 변환\n",
    "wineTensor = torch.from_numpy(wineNP)\n",
    "print(f'type => {type(wineTensor)}\\nwineNP.shape => {wineTensor.shape}')"
   ]
  },
  {
   "cell_type": "code",
   "execution_count": 16,
   "metadata": {},
   "outputs": [],
   "source": [
    "feature = wineTensor[:-1] # 맨마지막 컬럼이 타겟(와인 품질)\n",
    "target = wineTensor[-1] # 맨마지막 컬럼이 타겟(와인 품질)"
   ]
  },
  {
   "cell_type": "code",
   "execution_count": 17,
   "metadata": {},
   "outputs": [
    {
     "data": {
      "text/plain": [
       "(tensor([[ 7.0000,  0.2700,  0.3600,  ...,  0.4500,  8.8000,  6.0000],\n",
       "         [ 6.3000,  0.3000,  0.3400,  ...,  0.4900,  9.5000,  6.0000],\n",
       "         [ 8.1000,  0.2800,  0.4000,  ...,  0.4400, 10.1000,  6.0000],\n",
       "         ...,\n",
       "         [ 6.6000,  0.3200,  0.3600,  ...,  0.4600,  9.6000,  5.0000],\n",
       "         [ 6.5000,  0.2400,  0.1900,  ...,  0.4600,  9.4000,  6.0000],\n",
       "         [ 5.5000,  0.2900,  0.3000,  ...,  0.3800, 12.8000,  7.0000]]),\n",
       " tensor([6.0000e+00, 2.1000e-01, 3.8000e-01, 8.0000e-01, 2.0000e-02, 2.2000e+01,\n",
       "         9.8000e+01, 9.8941e-01, 3.2600e+00, 3.2000e-01, 1.1800e+01, 6.0000e+00]))"
      ]
     },
     "execution_count": 17,
     "metadata": {},
     "output_type": "execute_result"
    }
   ],
   "source": [
    "feature, target"
   ]
  },
  {
   "cell_type": "code",
   "execution_count": null,
   "metadata": {},
   "outputs": [],
   "source": []
  }
 ],
 "metadata": {
  "kernelspec": {
   "display_name": "Torch_py38",
   "language": "python",
   "name": "python3"
  },
  "language_info": {
   "codemirror_mode": {
    "name": "ipython",
    "version": 3
   },
   "file_extension": ".py",
   "mimetype": "text/x-python",
   "name": "python",
   "nbconvert_exporter": "python",
   "pygments_lexer": "ipython3",
   "version": "3.8.18"
  }
 },
 "nbformat": 4,
 "nbformat_minor": 2
}
