{
 "cells": [
  {
   "cell_type": "markdown",
   "metadata": {},
   "source": [
    "### Dataset & DataLoader 살펴보기\n",
    "- Pytorch에서 배치크기만 데이터를 조절하기 위한 메카니즘\n",
    "- Dataset : 사용 데이터를 기반으로 사용자 정의 클래스 작성\n",
    "- DataLoader : 지정된 Dataset에서 지정된 batch size만큼 피처와 타겟을 추출하여 전달"
   ]
  },
  {
   "cell_type": "markdown",
   "metadata": {},
   "source": [
    "[1] 모듈 로딩 및 데이터 준비 <hr>"
   ]
  },
  {
   "cell_type": "code",
   "execution_count": 73,
   "metadata": {},
   "outputs": [],
   "source": [
    "# 모듈 로딩\n",
    "import torch\n",
    "import torch.nn as nn\n",
    "from torch.utils.data import Dataset, DataLoader\n",
    "from torch.utils.data import TensorDataset # TensorDataset 클래스 로딩\n",
    "\n",
    "import numpy as np\n",
    "import pandas as pd"
   ]
  },
  {
   "cell_type": "markdown",
   "metadata": {},
   "source": [
    "- 사용자 정의 데이터셋 생성"
   ]
  },
  {
   "cell_type": "code",
   "execution_count": 74,
   "metadata": {},
   "outputs": [],
   "source": [
    "# 데이터 준비 \n",
    "filename = '../data/iris.csv'"
   ]
  },
  {
   "cell_type": "code",
   "execution_count": 75,
   "metadata": {},
   "outputs": [],
   "source": [
    "irisDF = pd.read_csv(filename)"
   ]
  },
  {
   "cell_type": "code",
   "execution_count": 76,
   "metadata": {},
   "outputs": [
    {
     "data": {
      "text/plain": [
       "array([[5.1, 3.5, 1.4, 0.2],\n",
       "       [4.9, 3. , 1.4, 0.2]])"
      ]
     },
     "execution_count": 76,
     "metadata": {},
     "output_type": "execute_result"
    }
   ],
   "source": [
    "irisNP = np.loadtxt(filename, delimiter=',', usecols=[0, 1, 2, 3], skiprows=1)\n",
    "irisNP[:2]"
   ]
  },
  {
   "cell_type": "code",
   "execution_count": 77,
   "metadata": {},
   "outputs": [],
   "source": [
    "# 사용자 정의 DataSet 클래스\n",
    "class DLDataset(Dataset) :\n",
    "     \n",
    "    #초기화 함수 콜백 함수\n",
    "    def __init__(self, x_data, y_data) :\n",
    "        super().__init__()\n",
    "        \n",
    "        # x, y 데이터 --> ndarray\n",
    "        x_data = x_data.values if isinstance(x_data, pd.DataFrame) else x_data\n",
    "        y_data = y_data.values if isinstance(y_data, pd.DataFrame) else y_data\n",
    "        \n",
    "        # x, y 데이터 --> tensor\n",
    "        self.feature = torch.FloatTensor(x_data)\n",
    "        self.target = torch.LongTensor(y_data)\n",
    "        print('[target & target SHAPE]', self.target.shape, self.target.ndim)\n",
    "\n",
    "\n",
    "    # 데이터셋의 개수 확인 함수 콜백 함수\n",
    "    def __len__(self) :\n",
    "        return self.target.shape[0]\n",
    "\n",
    "    # 특정 인덱스 데이터+라벨 반환 콜백 함수 (Call back function)\n",
    "    def __getitem__(self, index):\n",
    "        return self.feature[index], self.target[index]"
   ]
  },
  {
   "cell_type": "markdown",
   "metadata": {},
   "source": [
    "[2-2] 데이터셋 인스턴스 생성"
   ]
  },
  {
   "cell_type": "code",
   "execution_count": 78,
   "metadata": {},
   "outputs": [
    {
     "name": "stdout",
     "output_type": "stream",
     "text": [
      "featureDF => (150, 4), 2D\n",
      "targetSR => (150,), 1D\n"
     ]
    }
   ],
   "source": [
    "# 피처와 라벨로 분리\n",
    "featureDF = irisDF[irisDF.columns[:-1]]\n",
    "# targetSR = irisDF[irisDF.columns[-1]].to_frame()\n",
    "targetSR = irisDF[irisDF.columns[-1]]\n",
    "\n",
    "print(f'featureDF => {featureDF.shape}, {featureDF.ndim}D')\n",
    "print(f'targetSR => {targetSR.shape}, {targetSR.ndim}D')"
   ]
  },
  {
   "cell_type": "code",
   "execution_count": 79,
   "metadata": {},
   "outputs": [
    {
     "name": "stdout",
     "output_type": "stream",
     "text": [
      "targetNP => (150, 1), 2\n"
     ]
    }
   ],
   "source": [
    "# object 타입 타겟 => int 타입 타겟 변환\n",
    "from sklearn.preprocessing import LabelEncoder\n",
    "\n",
    "targetNP = LabelEncoder().fit_transform(targetSR) # 다시 쓸 일 없을 때는 이렇게 써도 됨.\n",
    "targetNP = targetNP.reshape(-1, 1)\n",
    "\n",
    "print(f'targetNP => {targetNP.shape}, {targetNP.ndim}')"
   ]
  },
  {
   "cell_type": "code",
   "execution_count": 80,
   "metadata": {},
   "outputs": [
    {
     "name": "stdout",
     "output_type": "stream",
     "text": [
      "[target & target SHAPE] torch.Size([150, 1]) 2\n"
     ]
    }
   ],
   "source": [
    "# 데이터셋 생성 DF, NP\n",
    "my_dataset = DLDataset(irisNP, targetNP)"
   ]
  },
  {
   "cell_type": "code",
   "execution_count": 81,
   "metadata": {},
   "outputs": [
    {
     "data": {
      "text/plain": [
       "((tensor([5.1000, 3.5000, 1.4000, 0.2000]), tensor([0])),\n",
       " sepal.length    5.1\n",
       " sepal.width     3.5\n",
       " petal.length    1.4\n",
       " petal.width     0.2\n",
       " Name: 0, dtype: float64,\n",
       " array([0]))"
      ]
     },
     "execution_count": 81,
     "metadata": {},
     "output_type": "execute_result"
    }
   ],
   "source": [
    "my_dataset[0], featureDF.iloc[0], targetNP[0]"
   ]
  },
  {
   "cell_type": "code",
   "execution_count": 82,
   "metadata": {},
   "outputs": [
    {
     "name": "stdout",
     "output_type": "stream",
     "text": [
      "[target & target SHAPE] torch.Size([150, 1]) 2\n"
     ]
    }
   ],
   "source": [
    "my_dataset2 = DLDataset(irisNP, targetNP) # numpy, numpy"
   ]
  },
  {
   "cell_type": "markdown",
   "metadata": {},
   "source": [
    "[2-3] 학습용, 검증용, 테스트용 Dataset <hr> "
   ]
  },
  {
   "cell_type": "code",
   "execution_count": 83,
   "metadata": {},
   "outputs": [
    {
     "name": "stdout",
     "output_type": "stream",
     "text": [
      "trainDS => 105개\t validDS => 15개\t testDS => 30개\n",
      "\n",
      "[Subset 속성]\n",
      "indices : [42, 95, 30, 64, 52, 35, 130, 40, 82, 17, 108, 94, 68, 97, 117, 127, 41, 44, 57, 140, 149, 32, 23, 102, 16, 113, 71, 18, 67, 66, 0, 25, 101, 112, 91, 3, 59, 116, 86, 84, 106, 142, 43, 39, 26, 98, 93, 20, 87, 19, 120, 114, 7, 63, 76, 89, 36, 45, 37, 56, 58, 122, 51, 145, 24, 21, 105, 62, 15, 11, 48, 133, 88, 50, 6, 134, 111, 8, 49, 75, 69, 124, 4, 147, 80, 100, 99, 141, 47, 107, 13, 109, 129, 28, 38, 53, 121, 5, 55, 31, 73, 74, 54, 29, 12]\n",
      "dataset : <__main__.DLDataset object at 0x0000022F6D2319D0>\n",
      "\n",
      "[Subset 속성]\n",
      "indices : [22, 104, 81, 1, 103, 125, 85, 2, 96, 128, 27, 118, 77, 110, 146]\n",
      "dataset : <__main__.DLDataset object at 0x0000022F6D2319D0>\n"
     ]
    }
   ],
   "source": [
    "# 파이토치\n",
    "from torch.utils.data import random_split\n",
    "\n",
    "# 학습용, 검증용, 테스트용 데이터 비율\n",
    "seed = torch.Generator().manual_seed(42)\n",
    "trainDS, validDS, testDS = random_split(my_dataset2, [0.7, 0.1, 0.2], generator = seed)\n",
    "\n",
    "print(f'trainDS => {len(trainDS)}개\\t validDS => {len(validDS)}개\\t testDS => {len(testDS)}개\\n')\n",
    "\n",
    "print(f'[Subset 속성]\\nindices : {trainDS.indices}\\ndataset : {trainDS.dataset}\\n')\n",
    "print(f'[Subset 속성]\\nindices : {validDS.indices}\\ndataset : {validDS.dataset}')"
   ]
  },
  {
   "cell_type": "markdown",
   "metadata": {},
   "source": [
    "[3] DataLoader 생성 : 학습용, 검증용, 테스트용 <hr>"
   ]
  },
  {
   "cell_type": "code",
   "execution_count": 84,
   "metadata": {},
   "outputs": [
    {
     "data": {
      "text/plain": [
       "(21, 3, 6)"
      ]
     },
     "execution_count": 84,
     "metadata": {},
     "output_type": "execute_result"
    }
   ],
   "source": [
    "# DataLoader 생성\n",
    "# drop_last 매개변수 : 배치 사이즈로 데이터셋 분리 후 남는 데이터 처리 방법 설정 [기본 : False]\n",
    "batch = 5\n",
    "trainDL =DataLoader(trainDS, batch_size=batch) # batch_size : 구간을 몇개로 나눌 건지.\n",
    "validDL =DataLoader(validDS, batch_size=batch) #drop_last : 배치\n",
    "testDL =DataLoader(testDS, batch_size=batch)  \n",
    "\n",
    "len(trainDL), len(validDL), len(testDL)"
   ]
  },
  {
   "cell_type": "code",
   "execution_count": 85,
   "metadata": {},
   "outputs": [
    {
     "name": "stdout",
     "output_type": "stream",
     "text": [
      "batch_size : 5\n",
      "\n",
      "trainDS => 105개\t validDS => 15개\t testDS => 30개\n",
      "\n",
      "trainDL => 21개\t validDS => 3개\t testDS => 6개\n",
      "\n"
     ]
    }
   ],
   "source": [
    "# Epoch 당 반복 단위\n",
    "print(f'batch_size : {batch}\\n')\n",
    "print(f'trainDS => {len(trainDS)}개\\t validDS => {len(validDS)}개\\t testDS => {len(testDS)}개\\n')\n",
    "print(f'trainDL => {len(trainDL)}개\\t validDS => {len(validDL)}개\\t testDS => {len(testDL)}개\\n')"
   ]
  },
  {
   "cell_type": "code",
   "execution_count": 86,
   "metadata": {},
   "outputs": [
    {
     "name": "stdout",
     "output_type": "stream",
     "text": [
      "[0] feature torch.Size([5, 4])\n",
      "[1] feature torch.Size([5, 4])\n",
      "[2] feature torch.Size([5, 4])\n",
      "[3] feature torch.Size([5, 4])\n",
      "[4] feature torch.Size([5, 4])\n",
      "[5] feature torch.Size([5, 4])\n",
      "[6] feature torch.Size([5, 4])\n",
      "[7] feature torch.Size([5, 4])\n",
      "[8] feature torch.Size([5, 4])\n",
      "[9] feature torch.Size([5, 4])\n",
      "[10] feature torch.Size([5, 4])\n",
      "[11] feature torch.Size([5, 4])\n",
      "[12] feature torch.Size([5, 4])\n",
      "[13] feature torch.Size([5, 4])\n",
      "[14] feature torch.Size([5, 4])\n",
      "[15] feature torch.Size([5, 4])\n",
      "[16] feature torch.Size([5, 4])\n",
      "[17] feature torch.Size([5, 4])\n",
      "[18] feature torch.Size([5, 4])\n",
      "[19] feature torch.Size([5, 4])\n",
      "[20] feature torch.Size([5, 4])\n"
     ]
    }
   ],
   "source": [
    "# DataLoader 속성\n",
    "\n",
    "for _, (feature, target) in enumerate(trainDL) :\n",
    "    print(f'[{_}] feature {feature.shape}')\n",
    "    # 로더에서 가지고 온 데이터 만큼 학습 진행"
   ]
  },
  {
   "cell_type": "markdown",
   "metadata": {},
   "source": [
    "[4] Model 클래스 정의 : 입/출력 피처 수, 층(layer) 수, 은닉층의 노드 수 <hr>\n",
    "- 구조 설계\n",
    "    * 입력층 : 입력 <= 피처 개수 iris 4개 \n",
    "    * 은닉층 : 마음대로 알아서 \n",
    "    * 출력층 : 타겟의 개수 ▶ [분류] 타겟 클래스 개수 [회귀] 1개\n"
   ]
  },
  {
   "cell_type": "code",
   "execution_count": 87,
   "metadata": {},
   "outputs": [],
   "source": [
    "# 모델 클래스 정의\n",
    "# 클래스명 : CMdl \n",
    "class CMdl(nn.Module) :\n",
    "    \n",
    "    # 구성 요소 정의\n",
    "    def __init__(self, in_, out_) :\n",
    "        super().__init__()\n",
    "        self.input_layer = nn.Linear(in_, 100)\n",
    "        self.relu=nn.ReLU()\n",
    "        self.hidden_layer=nn.Linear(100, 27)\n",
    "        self.output_layer = nn.Linear(27 ,out_)\n",
    "    \n",
    "    # 순방향 학습 진행 함수\n",
    "    def forward(self, x):\n",
    "        y = self.input_layer(x) # w1*1 + w2+2....Wn+b 100개 반환\n",
    "        y = self.ReLU(y)            # renu() 결과 100개 반환\n",
    "        y = self.hidden_layer(y)    # w1*1 + w2+2....Wn+b 27개 반환\n",
    "        y = self.ReLU(y)            # 결과 3개\n",
    "        y = self.output_layer(y)    # w1*1 + w2+2....Wn+b 27개 반환\n",
    "\n",
    "        return y\n"
   ]
  },
  {
   "cell_type": "markdown",
   "metadata": {},
   "source": [
    "[5] 학습 준비 : 실행 디바이스, 모델, 최적화, 손실함수 학습횟수, 학습함수, 평가함수, 예측 함수 <hr>\n"
   ]
  },
  {
   "cell_type": "code",
   "execution_count": 88,
   "metadata": {},
   "outputs": [],
   "source": [
    "# 실생 디바이스 실행.\n",
    "DEVICE = 'cuda'if torch.cuda.is_available() else 'cpu'\n",
    "\n",
    "# 학습 횟수\n",
    "EPOCHS = 50\n"
   ]
  },
  {
   "cell_type": "code",
   "execution_count": 89,
   "metadata": {},
   "outputs": [
    {
     "name": "stdout",
     "output_type": "stream",
     "text": [
      "IN : 4, OUT : 3\n",
      "CMdl(\n",
      "  (input_layer): Linear(in_features=4, out_features=100, bias=True)\n",
      "  (relu): ReLU()\n",
      "  (hidden_layer): Linear(in_features=100, out_features=27, bias=True)\n",
      "  (output_layer): Linear(in_features=27, out_features=3, bias=True)\n",
      ")\n"
     ]
    }
   ],
   "source": [
    "\n",
    "# 모델 인스턴스\n",
    "IN, OUT = my_dataset.feature.shape[1], len(np.unique(targetSR))\n",
    "mdl = CMdl(IN, OUT).to(DEVICE)\n",
    "print(f'IN : {IN}, OUT : {OUT}')\n",
    "print(mdl)"
   ]
  },
  {
   "cell_type": "code",
   "execution_count": 90,
   "metadata": {},
   "outputs": [],
   "source": [
    "# 손실함수\n",
    "LOSS_FN = nn.CrossEntropyLoss().to(DEVICE)\n",
    "\n",
    "# 최적화 인스턴스\n",
    "import torch.optim as optim\n",
    "OPTIMIZER = optim.Adam(mdl.parameters())"
   ]
  },
  {
   "cell_type": "markdown",
   "metadata": {},
   "source": [
    "- 학습 및 검증 관련 함수 정의"
   ]
  },
  {
   "cell_type": "code",
   "execution_count": 91,
   "metadata": {},
   "outputs": [],
   "source": [
    "import torchmetrics.functional as metrics\n",
    "from torchmetrics.classification import Accuracy"
   ]
  },
  {
   "cell_type": "code",
   "execution_count": 92,
   "metadata": {},
   "outputs": [
    {
     "data": {
      "text/plain": [
       "tensor(0.)"
      ]
     },
     "execution_count": 92,
     "metadata": {},
     "output_type": "execute_result"
    }
   ],
   "source": [
    "preds = torch.randn(10,5).softmax(dim=1)\n",
    "target = torch.randint(5,(10,))\n",
    "\n",
    "metrics.accuracy(preds, target, task='multiclass', num_classes=5)"
   ]
  },
  {
   "cell_type": "code",
   "execution_count": 93,
   "metadata": {},
   "outputs": [],
   "source": [
    "# 손실함수 인스턴스 \n",
    "LOSS_FN = nn.CrossEntropyLoss().to(DEVICE) # 다중분류니까\n",
    "\n",
    "# 최적화 인스턴스\n",
    "OPTIMIZER = optim.Adam(mdl.parameters())"
   ]
  },
  {
   "cell_type": "code",
   "execution_count": 94,
   "metadata": {},
   "outputs": [],
   "source": [
    "# 학습 진행 함수 : \n",
    "def training() :\n",
    "    # 학습 모드 => 정규화, 경사 하강법, 드랍아웃 등의 기능 활성화\n",
    "    mdl.train() \n",
    "\n",
    "    # 배치 크기 만큼 학습 진행 및 저장\n",
    "    train_loss = []\n",
    "    for cnt, (feature, target) in enumerate(trainDL) :\n",
    "        print(cnt, feature, target)\n",
    "        feature, target = feature.to(DEVICE), target.to(DEVICE)\n",
    "        target = target.squeeze\n",
    "        # 학습 \n",
    "        pre_target = mdl(feature)\n",
    "        print(f'pre_target => {pre_target.shape}, {pre_target.ndim}D')\n",
    "        #print(f'target => {target.shape}, {target.ndim}D')\n",
    "        \n",
    "        # 손실 계산\n",
    "        loss = LOSS_FN(pre_target, target)\n",
    "        train_loss.append(loss)\n",
    "\n",
    "        # W, b 업데이트\n",
    "        OPTIMIZER.zero_grad()\n",
    "        loss.backward()\n",
    "        OPTIMIZER.step()\n",
    "\n",
    "        # 배치 단위 학습 메시지 출력 \n",
    "        #print(f'[Train {cnt} batch LOSS] ==> {loss}')\n",
    "\n",
    "    # 학습 진행 메시지 출력\n",
    "    print(f'[Train loss] ==> {loss}')\n",
    "\n",
    "    return train_loss"
   ]
  },
  {
   "cell_type": "code",
   "execution_count": 95,
   "metadata": {},
   "outputs": [],
   "source": [
    "# 검증 및 평가 진행 함수\n",
    "# 매개변수 dataLoader : 검증 또는 테스트 데이터셋에 대한 Loader\n",
    "def testing(dataLoader) :\n",
    "    # 추론모드 => 정규화, 경사하강법, 드랍아웃 등의 기능 비활성화\n",
    "    mdl.eval()\n",
    "\n",
    "    with torch.no_grad():\n",
    "        # 배치크기만큼 학습 진행 및 저장\n",
    "        val_loss =[]\n",
    "        for cnt, (feature, target) in enumerate(dataLoader) :\n",
    "            # 배치 크기 만큼의 학습 데이터 준비\n",
    "            feature, target = feature.to(DEVICE), target.to(DEVICE)\n",
    "            target = target.squeeze()\n",
    "\n",
    "            # 학습 \n",
    "            pre_target = mdl(feature)\n",
    "\n",
    "            # 손실 계산\n",
    "            loss = LOSS_FN(pre_target, target)\n",
    "            val_loss.append(loss)\n",
    "            \n",
    "            # 배치 단위 학습 진행 메시지 출력\n",
    "            print(f'[Train {cnt} batch LOSS] => {loss}')\n",
    "\n",
    "\n",
    "    \n",
    "\n",
    "    # 에포크 단위 학습 진행 메시지 출력\n",
    "    acc = metrics.accuracy(pre_target, target, task = 'multiclass', num_classes=3)\n",
    "    print(f'[valid loss] ==> {loss}, [valid loss] = {acc}')"
   ]
  },
  {
   "cell_type": "code",
   "execution_count": 96,
   "metadata": {},
   "outputs": [],
   "source": [
    "def predict():\n",
    "    pass"
   ]
  },
  {
   "cell_type": "markdown",
   "metadata": {},
   "source": [
    "[6] 학습 진행 <hr>"
   ]
  },
  {
   "cell_type": "code",
   "execution_count": 97,
   "metadata": {},
   "outputs": [
    {
     "name": "stdout",
     "output_type": "stream",
     "text": [
      "0 tensor([[4.4000, 3.2000, 1.3000, 0.2000],\n",
      "        [5.7000, 3.0000, 4.2000, 1.2000],\n",
      "        [4.8000, 3.1000, 1.6000, 0.2000],\n",
      "        [5.6000, 2.9000, 3.6000, 1.3000],\n",
      "        [6.9000, 3.1000, 4.9000, 1.5000]]) tensor([[0],\n",
      "        [1],\n",
      "        [0],\n",
      "        [1],\n",
      "        [1]])\n"
     ]
    },
    {
     "ename": "AttributeError",
     "evalue": "'CMdl' object has no attribute 'ReLU'",
     "output_type": "error",
     "traceback": [
      "\u001b[1;31m---------------------------------------------------------------------------\u001b[0m",
      "\u001b[1;31mAttributeError\u001b[0m                            Traceback (most recent call last)",
      "Cell \u001b[1;32mIn[97], line 5\u001b[0m\n\u001b[0;32m      1\u001b[0m \u001b[38;5;66;03m# 지정된 횟수 만큼 처음부터 끝까지 학습 및 검증 진행\u001b[39;00m\n\u001b[0;32m      2\u001b[0m \u001b[38;5;66;03m# 목표 : 최적(오차Error 최소화)의 W, b를 가진 모델\u001b[39;00m\n\u001b[0;32m      3\u001b[0m \u001b[38;5;28;01mfor\u001b[39;00m eps \u001b[38;5;129;01min\u001b[39;00m \u001b[38;5;28mrange\u001b[39m(EPOCHS) :\n\u001b[0;32m      4\u001b[0m     \u001b[38;5;66;03m# 학습\u001b[39;00m\n\u001b[1;32m----> 5\u001b[0m     train_loss \u001b[38;5;241m=\u001b[39m \u001b[43mtraining\u001b[49m\u001b[43m(\u001b[49m\u001b[43m)\u001b[49m\n\u001b[0;32m      7\u001b[0m     \u001b[38;5;66;03m# 검증\u001b[39;00m\n\u001b[0;32m      8\u001b[0m     valid_loss \u001b[38;5;241m=\u001b[39m testing()\n",
      "Cell \u001b[1;32mIn[94], line 13\u001b[0m, in \u001b[0;36mtraining\u001b[1;34m()\u001b[0m\n\u001b[0;32m     11\u001b[0m target \u001b[38;5;241m=\u001b[39m target\u001b[38;5;241m.\u001b[39msqueeze\n\u001b[0;32m     12\u001b[0m \u001b[38;5;66;03m# 학습 \u001b[39;00m\n\u001b[1;32m---> 13\u001b[0m pre_target \u001b[38;5;241m=\u001b[39m \u001b[43mmdl\u001b[49m\u001b[43m(\u001b[49m\u001b[43mfeature\u001b[49m\u001b[43m)\u001b[49m\n\u001b[0;32m     14\u001b[0m \u001b[38;5;28mprint\u001b[39m(\u001b[38;5;124mf\u001b[39m\u001b[38;5;124m'\u001b[39m\u001b[38;5;124mpre_target => \u001b[39m\u001b[38;5;132;01m{\u001b[39;00mpre_target\u001b[38;5;241m.\u001b[39mshape\u001b[38;5;132;01m}\u001b[39;00m\u001b[38;5;124m, \u001b[39m\u001b[38;5;132;01m{\u001b[39;00mpre_target\u001b[38;5;241m.\u001b[39mndim\u001b[38;5;132;01m}\u001b[39;00m\u001b[38;5;124mD\u001b[39m\u001b[38;5;124m'\u001b[39m)\n\u001b[0;32m     15\u001b[0m \u001b[38;5;66;03m#print(f'target => {target.shape}, {target.ndim}D')\u001b[39;00m\n\u001b[0;32m     16\u001b[0m \n\u001b[0;32m     17\u001b[0m \u001b[38;5;66;03m# 손실 계산\u001b[39;00m\n",
      "File \u001b[1;32mc:\\ProgramData\\anaconda3\\envs\\Torch_py38\\lib\\site-packages\\torch\\nn\\modules\\module.py:1511\u001b[0m, in \u001b[0;36mModule._wrapped_call_impl\u001b[1;34m(self, *args, **kwargs)\u001b[0m\n\u001b[0;32m   1509\u001b[0m     \u001b[38;5;28;01mreturn\u001b[39;00m \u001b[38;5;28mself\u001b[39m\u001b[38;5;241m.\u001b[39m_compiled_call_impl(\u001b[38;5;241m*\u001b[39margs, \u001b[38;5;241m*\u001b[39m\u001b[38;5;241m*\u001b[39mkwargs)  \u001b[38;5;66;03m# type: ignore[misc]\u001b[39;00m\n\u001b[0;32m   1510\u001b[0m \u001b[38;5;28;01melse\u001b[39;00m:\n\u001b[1;32m-> 1511\u001b[0m     \u001b[38;5;28;01mreturn\u001b[39;00m \u001b[38;5;28;43mself\u001b[39;49m\u001b[38;5;241;43m.\u001b[39;49m\u001b[43m_call_impl\u001b[49m\u001b[43m(\u001b[49m\u001b[38;5;241;43m*\u001b[39;49m\u001b[43margs\u001b[49m\u001b[43m,\u001b[49m\u001b[43m \u001b[49m\u001b[38;5;241;43m*\u001b[39;49m\u001b[38;5;241;43m*\u001b[39;49m\u001b[43mkwargs\u001b[49m\u001b[43m)\u001b[49m\n",
      "File \u001b[1;32mc:\\ProgramData\\anaconda3\\envs\\Torch_py38\\lib\\site-packages\\torch\\nn\\modules\\module.py:1520\u001b[0m, in \u001b[0;36mModule._call_impl\u001b[1;34m(self, *args, **kwargs)\u001b[0m\n\u001b[0;32m   1515\u001b[0m \u001b[38;5;66;03m# If we don't have any hooks, we want to skip the rest of the logic in\u001b[39;00m\n\u001b[0;32m   1516\u001b[0m \u001b[38;5;66;03m# this function, and just call forward.\u001b[39;00m\n\u001b[0;32m   1517\u001b[0m \u001b[38;5;28;01mif\u001b[39;00m \u001b[38;5;129;01mnot\u001b[39;00m (\u001b[38;5;28mself\u001b[39m\u001b[38;5;241m.\u001b[39m_backward_hooks \u001b[38;5;129;01mor\u001b[39;00m \u001b[38;5;28mself\u001b[39m\u001b[38;5;241m.\u001b[39m_backward_pre_hooks \u001b[38;5;129;01mor\u001b[39;00m \u001b[38;5;28mself\u001b[39m\u001b[38;5;241m.\u001b[39m_forward_hooks \u001b[38;5;129;01mor\u001b[39;00m \u001b[38;5;28mself\u001b[39m\u001b[38;5;241m.\u001b[39m_forward_pre_hooks\n\u001b[0;32m   1518\u001b[0m         \u001b[38;5;129;01mor\u001b[39;00m _global_backward_pre_hooks \u001b[38;5;129;01mor\u001b[39;00m _global_backward_hooks\n\u001b[0;32m   1519\u001b[0m         \u001b[38;5;129;01mor\u001b[39;00m _global_forward_hooks \u001b[38;5;129;01mor\u001b[39;00m _global_forward_pre_hooks):\n\u001b[1;32m-> 1520\u001b[0m     \u001b[38;5;28;01mreturn\u001b[39;00m \u001b[43mforward_call\u001b[49m\u001b[43m(\u001b[49m\u001b[38;5;241;43m*\u001b[39;49m\u001b[43margs\u001b[49m\u001b[43m,\u001b[49m\u001b[43m \u001b[49m\u001b[38;5;241;43m*\u001b[39;49m\u001b[38;5;241;43m*\u001b[39;49m\u001b[43mkwargs\u001b[49m\u001b[43m)\u001b[49m\n\u001b[0;32m   1522\u001b[0m \u001b[38;5;28;01mtry\u001b[39;00m:\n\u001b[0;32m   1523\u001b[0m     result \u001b[38;5;241m=\u001b[39m \u001b[38;5;28;01mNone\u001b[39;00m\n",
      "Cell \u001b[1;32mIn[87], line 16\u001b[0m, in \u001b[0;36mCMdl.forward\u001b[1;34m(self, x)\u001b[0m\n\u001b[0;32m     14\u001b[0m \u001b[38;5;28;01mdef\u001b[39;00m \u001b[38;5;21mforward\u001b[39m(\u001b[38;5;28mself\u001b[39m, x):\n\u001b[0;32m     15\u001b[0m     y \u001b[38;5;241m=\u001b[39m \u001b[38;5;28mself\u001b[39m\u001b[38;5;241m.\u001b[39minput_layer(x) \u001b[38;5;66;03m# w1*1 + w2+2....Wn+b 100개 반환\u001b[39;00m\n\u001b[1;32m---> 16\u001b[0m     y \u001b[38;5;241m=\u001b[39m \u001b[38;5;28;43mself\u001b[39;49m\u001b[38;5;241;43m.\u001b[39;49m\u001b[43mReLU\u001b[49m(y)            \u001b[38;5;66;03m# renu() 결과 100개 반환\u001b[39;00m\n\u001b[0;32m     17\u001b[0m     y \u001b[38;5;241m=\u001b[39m \u001b[38;5;28mself\u001b[39m\u001b[38;5;241m.\u001b[39mhidden_layer(y)    \u001b[38;5;66;03m# w1*1 + w2+2....Wn+b 27개 반환\u001b[39;00m\n\u001b[0;32m     18\u001b[0m     y \u001b[38;5;241m=\u001b[39m \u001b[38;5;28mself\u001b[39m\u001b[38;5;241m.\u001b[39mReLU(y)            \u001b[38;5;66;03m# 결과 3개\u001b[39;00m\n",
      "File \u001b[1;32mc:\\ProgramData\\anaconda3\\envs\\Torch_py38\\lib\\site-packages\\torch\\nn\\modules\\module.py:1688\u001b[0m, in \u001b[0;36mModule.__getattr__\u001b[1;34m(self, name)\u001b[0m\n\u001b[0;32m   1686\u001b[0m     \u001b[38;5;28;01mif\u001b[39;00m name \u001b[38;5;129;01min\u001b[39;00m modules:\n\u001b[0;32m   1687\u001b[0m         \u001b[38;5;28;01mreturn\u001b[39;00m modules[name]\n\u001b[1;32m-> 1688\u001b[0m \u001b[38;5;28;01mraise\u001b[39;00m \u001b[38;5;167;01mAttributeError\u001b[39;00m(\u001b[38;5;124mf\u001b[39m\u001b[38;5;124m\"\u001b[39m\u001b[38;5;124m'\u001b[39m\u001b[38;5;132;01m{\u001b[39;00m\u001b[38;5;28mtype\u001b[39m(\u001b[38;5;28mself\u001b[39m)\u001b[38;5;241m.\u001b[39m\u001b[38;5;18m__name__\u001b[39m\u001b[38;5;132;01m}\u001b[39;00m\u001b[38;5;124m'\u001b[39m\u001b[38;5;124m object has no attribute \u001b[39m\u001b[38;5;124m'\u001b[39m\u001b[38;5;132;01m{\u001b[39;00mname\u001b[38;5;132;01m}\u001b[39;00m\u001b[38;5;124m'\u001b[39m\u001b[38;5;124m\"\u001b[39m)\n",
      "\u001b[1;31mAttributeError\u001b[0m: 'CMdl' object has no attribute 'ReLU'"
     ]
    }
   ],
   "source": [
    "# 지정된 횟수 만큼 처음부터 끝까지 학습 및 검증 진행\n",
    "# 목표 : 최적(오차Error 최소화)의 W, b를 가진 모델\n",
    "for eps in range(EPOCHS) :\n",
    "    # 학습\n",
    "    train_loss = training()\n",
    "    \n",
    "    # 검증\n",
    "    valid_loss = testing()\n",
    "    print(f'[{eps}/{EPOCHS}] {sum(train_loss)/len(train_loss)}, Valid : {sum(valid_loss)/len(valid_loss)}')"
   ]
  },
  {
   "cell_type": "code",
   "execution_count": null,
   "metadata": {},
   "outputs": [],
   "source": []
  },
  {
   "cell_type": "code",
   "execution_count": null,
   "metadata": {},
   "outputs": [],
   "source": []
  }
 ],
 "metadata": {
  "kernelspec": {
   "display_name": "Torch_py38",
   "language": "python",
   "name": "python3"
  },
  "language_info": {
   "codemirror_mode": {
    "name": "ipython",
    "version": 3
   },
   "file_extension": ".py",
   "mimetype": "text/x-python",
   "name": "python",
   "nbconvert_exporter": "python",
   "pygments_lexer": "ipython3",
   "version": "3.8.18"
  }
 },
 "nbformat": 4,
 "nbformat_minor": 2
}
