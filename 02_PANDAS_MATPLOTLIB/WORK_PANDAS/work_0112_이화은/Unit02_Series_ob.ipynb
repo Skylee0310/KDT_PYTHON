{
 "cells": [
  {
   "cell_type": "markdown",
   "id": "052a4bc8-37e0-458f-844c-270430a401e8",
   "metadata": {},
   "source": [
    "# 2. Series 객체"
   ]
  },
  {
   "cell_type": "code",
   "execution_count": 297,
   "id": "956246bf-0458-46ef-aa40-aa4a164eb8aa",
   "metadata": {},
   "outputs": [],
   "source": [
    "# 0112"
   ]
  },
  {
   "cell_type": "markdown",
   "id": "a01e8478-8ef4-49b7-b550-3b6ddb5a4a03",
   "metadata": {},
   "source": [
    "2.1 Series의 개요"
   ]
  },
  {
   "cell_type": "code",
   "execution_count": 298,
   "id": "fb1f85ee-7591-431c-8a02-ab39216f40ef",
   "metadata": {},
   "outputs": [],
   "source": [
    "import pandas as pd\n",
    "import numpy as np"
   ]
  },
  {
   "cell_type": "markdown",
   "id": "6d519536-9efd-4eae-800c-fc98d8416f71",
   "metadata": {},
   "source": [
    "2.1.1 클래스 및 인스턴스"
   ]
  },
  {
   "cell_type": "code",
   "execution_count": 299,
   "id": "047056b0-01fe-4e89-9c8c-79f828c9eb93",
   "metadata": {},
   "outputs": [
    {
     "data": {
      "text/plain": [
       "Series([], dtype: object)"
      ]
     },
     "execution_count": 299,
     "metadata": {},
     "output_type": "execute_result"
    }
   ],
   "source": [
    "pd.Series()"
   ]
  },
  {
   "cell_type": "markdown",
   "id": "f66b4666-1811-4af5-b79d-7b9e642ad035",
   "metadata": {},
   "source": [
    "2.1.2 Series 값 채우기"
   ]
  },
  {
   "cell_type": "code",
   "execution_count": 300,
   "id": "9e677f97-0d54-4bb0-a563-02efee2b121f",
   "metadata": {},
   "outputs": [
    {
     "data": {
      "text/plain": [
       "0     Chocolate\n",
       "1       Vanilla\n",
       "2    Strawberry\n",
       "3    Rum Raisin\n",
       "dtype: object"
      ]
     },
     "execution_count": 300,
     "metadata": {},
     "output_type": "execute_result"
    }
   ],
   "source": [
    "ice_cream_flavors =[\n",
    "    \"Chocolate\",\n",
    "    \"Vanilla\",\n",
    "    \"Strawberry\",\n",
    "    \"Rum Raisin\",\n",
    "]\n",
    "pd.Series(ice_cream_flavors)\n",
    "    "
   ]
  },
  {
   "cell_type": "code",
   "execution_count": 301,
   "id": "ebf5d2c6-6918-4882-bbc1-1782c8f6ab1f",
   "metadata": {},
   "outputs": [
    {
     "data": {
      "text/plain": [
       "0     Chocolate\n",
       "1       Vanilla\n",
       "2    Strawberry\n",
       "3    Rum Raisin\n",
       "dtype: object"
      ]
     },
     "execution_count": 301,
     "metadata": {},
     "output_type": "execute_result"
    }
   ],
   "source": [
    "# 다음 두 줄은 결과가 동일합니다.\n",
    "pd.Series(ice_cream_flavors)\n",
    "pd.Series(data = ice_cream_flavors)"
   ]
  },
  {
   "cell_type": "markdown",
   "id": "a15f6a89-9c26-4dd1-b04f-7d9a02708cd1",
   "metadata": {},
   "source": [
    "2.1.3 Series 인덱스 사용자 정의"
   ]
  },
  {
   "cell_type": "code",
   "execution_count": 302,
   "id": "62474e08-6c4f-4bdf-833d-55d07fd15349",
   "metadata": {},
   "outputs": [],
   "source": [
    "days_of_week = (\"Monday\", \"Wednesday\", \"Friday\", \"Saturday\")"
   ]
  },
  {
   "cell_type": "code",
   "execution_count": 303,
   "id": "9db8ea2a-55be-4669-bd14-3f09f4ffe302",
   "metadata": {},
   "outputs": [
    {
     "data": {
      "text/plain": [
       "Monday        Chocolate\n",
       "Wednesday       Vanilla\n",
       "Friday       Strawberry\n",
       "Saturday     Rum Raisin\n",
       "dtype: object"
      ]
     },
     "execution_count": 303,
     "metadata": {},
     "output_type": "execute_result"
    }
   ],
   "source": [
    "# 다음 두 줄은 결과가 동일합니다.\n",
    "pd.Series(ice_cream_flavors, day_of_week)\n",
    "pd.Series(data = ice_cream_flavors, index = days_of_week) #인덱스에 요일 데이터를 부여."
   ]
  },
  {
   "cell_type": "code",
   "execution_count": 304,
   "id": "aa157ed3-024b-4c76-8397-c3ff650e7301",
   "metadata": {},
   "outputs": [],
   "source": [
    "days_of_week = (\"Monday\", \"Wednesday\", \"Friday\", \"Wednesday\") # 중복 허용."
   ]
  },
  {
   "cell_type": "code",
   "execution_count": 305,
   "id": "77acac4e-8e76-44d7-81f3-5fd91d145f1a",
   "metadata": {},
   "outputs": [
    {
     "data": {
      "text/plain": [
       "Monday        Chocolate\n",
       "Wednesday       Vanilla\n",
       "Friday       Strawberry\n",
       "Wednesday    Rum Raisin\n",
       "dtype: object"
      ]
     },
     "execution_count": 305,
     "metadata": {},
     "output_type": "execute_result"
    }
   ],
   "source": [
    "# 다음 두 줄은 결과가 동일합니다.\n",
    "pd.Series(ice_cream_flavors, day_of_week)\n",
    "pd.Series(data = ice_cream_flavors, index = days_of_week)"
   ]
  },
  {
   "cell_type": "code",
   "execution_count": 306,
   "id": "d148ad72-7088-4d39-bb38-170047aee812",
   "metadata": {},
   "outputs": [
    {
     "data": {
      "text/plain": [
       "0     True\n",
       "1    False\n",
       "2    False\n",
       "dtype: bool"
      ]
     },
     "execution_count": 306,
     "metadata": {},
     "output_type": "execute_result"
    }
   ],
   "source": [
    "bunch_of_bools=[True, False, False]\n",
    "pd.Series(bunch_of_bools)"
   ]
  },
  {
   "cell_type": "code",
   "execution_count": 307,
   "id": "263245aa-8cde-4cc0-b84a-beed53549ccb",
   "metadata": {},
   "outputs": [
    {
     "data": {
      "text/plain": [
       "Open     985.32\n",
       "Close    950.44\n",
       "dtype: float64"
      ]
     },
     "execution_count": 307,
     "metadata": {},
     "output_type": "execute_result"
    }
   ],
   "source": [
    "stock_prices = [985.32, 950.44]\n",
    "time_of_day = ['Open', 'Close']\n",
    "pd.Series(data=stock_prices, index = time_of_day)"
   ]
  },
  {
   "cell_type": "code",
   "execution_count": 308,
   "id": "78173751-8ccf-4270-b947-da886b92235a",
   "metadata": {},
   "outputs": [
    {
     "data": {
      "text/plain": [
       "0     4\n",
       "1     8\n",
       "2    15\n",
       "3    16\n",
       "4    23\n",
       "5    42\n",
       "dtype: int64"
      ]
     },
     "execution_count": 308,
     "metadata": {},
     "output_type": "execute_result"
    }
   ],
   "source": [
    "lucky_numbers = [4, 8, 15, 16, 23, 42]\n",
    "pd.Series(lucky_numbers)"
   ]
  },
  {
   "cell_type": "code",
   "execution_count": 309,
   "id": "58f85f1e-6f13-4833-9f69-68411933baee",
   "metadata": {},
   "outputs": [
    {
     "data": {
      "text/plain": [
       "0     4.0\n",
       "1     8.0\n",
       "2    15.0\n",
       "3    16.0\n",
       "4    23.0\n",
       "5    42.0\n",
       "dtype: float64"
      ]
     },
     "execution_count": 309,
     "metadata": {},
     "output_type": "execute_result"
    }
   ],
   "source": [
    "lucky_numbers = [4, 8, 15, 16, 23, 42]\n",
    "pd.Series(lucky_numbers, dtype = \"float\") #dtype 매개 변수를 사용하면 형 변환 가능."
   ]
  },
  {
   "cell_type": "markdown",
   "id": "887f1f36-1384-436d-b6ea-1f34084fbd87",
   "metadata": {},
   "source": [
    "2.1.4 결측값이 있는 Series 생성"
   ]
  },
  {
   "cell_type": "code",
   "execution_count": 310,
   "id": "1754fe71-0320-4958-a88c-87d79d0f4f85",
   "metadata": {},
   "outputs": [
    {
     "data": {
      "text/plain": [
       "0    94.0\n",
       "1    88.0\n",
       "2     NaN\n",
       "3    91.0\n",
       "dtype: float64"
      ]
     },
     "execution_count": 310,
     "metadata": {},
     "output_type": "execute_result"
    }
   ],
   "source": [
    "temperatures = [ 94, 88, np.nan, 91 ] #numpy.nan = 은 결측값. 값이 비어 있음.\n",
    "pd.Series(data = temperatures)"
   ]
  },
  {
   "cell_type": "markdown",
   "id": "5326441f-4fd5-41e5-a8fb-c05677125aea",
   "metadata": {},
   "source": [
    "2.2 파이썬 객체에서 Series 생성\n",
    "dict : 키 - 쌍의 모음."
   ]
  },
  {
   "cell_type": "code",
   "execution_count": 311,
   "id": "236f71c7-a373-49f0-8a0f-a126a1f40938",
   "metadata": {},
   "outputs": [
    {
     "data": {
      "text/plain": [
       "Cereal              125\n",
       "Chocolate Bar       406\n",
       "Ice Cream Sundae    342\n",
       "dtype: int64"
      ]
     },
     "execution_count": 311,
     "metadata": {},
     "output_type": "execute_result"
    }
   ],
   "source": [
    "calorie_info = {\n",
    "    \"Cereal\" : 125,\n",
    "    \"Chocolate Bar\" : 406,\n",
    "    \"Ice Cream Sundae\" : 342,\n",
    "}\n",
    "diet = pd.Series(calorie_info)\n",
    "diet"
   ]
  },
  {
   "cell_type": "markdown",
   "id": "ef4aa599-618c-47e3-8c97-8a16a819178c",
   "metadata": {},
   "source": [
    "tuple : 변경할 수 없는 리스트"
   ]
  },
  {
   "cell_type": "code",
   "execution_count": 312,
   "id": "2d194cd0-0351-46c1-92a2-973d402ec646",
   "metadata": {},
   "outputs": [
    {
     "data": {
      "text/plain": [
       "0      Red\n",
       "1    Green\n",
       "2     Blue\n",
       "dtype: object"
      ]
     },
     "execution_count": 312,
     "metadata": {},
     "output_type": "execute_result"
    }
   ],
   "source": [
    "pd.Series(data = (\"Red\", \"Green\", \"Blue\"))"
   ]
  },
  {
   "cell_type": "code",
   "execution_count": 313,
   "id": "4f00c07b-771e-414b-859d-5e7af50e8d54",
   "metadata": {},
   "outputs": [
    {
     "data": {
      "text/plain": [
       "0     (120, 41, 26)\n",
       "1    (196, 165, 45)\n",
       "dtype: object"
      ]
     },
     "execution_count": 313,
     "metadata": {},
     "output_type": "execute_result"
    }
   ],
   "source": [
    "rgb_color = [(120, 41, 26), (196, 165, 45)] \n",
    "# Series를 생성하기 위해서는 튜플을 리스트로 감싸야 함.\n",
    "# 튜플은 주소 및 요소로 구성된 행의 값을 나타낼 때 적합.\n",
    "pd.Series(data = rgb_color)"
   ]
  },
  {
   "cell_type": "markdown",
   "id": "88ec1ad9-767f-4df6-96d7-29049e8904a9",
   "metadata": {},
   "source": [
    "set은 순서가 없는 고유한 값의 컬렉션"
   ]
  },
  {
   "cell_type": "code",
   "execution_count": 314,
   "id": "ab27ab24-dd9d-417f-9976-8951da785c86",
   "metadata": {},
   "outputs": [
    {
     "data": {
      "text/plain": [
       "0    Ricky\n",
       "1    Bobby\n",
       "dtype: object"
      ]
     },
     "execution_count": 314,
     "metadata": {},
     "output_type": "execute_result"
    }
   ],
   "source": [
    "my_set = {\"Ricky\", \"Bobby\"}\n",
    "#pd.Series(my_set) #TypeError 발생, \n",
    "pd.Series(list(my_set)) #set를 Series 생성자에 전달하기 전 정렬된 자료 구조(튜플, 리스트 등)로 변환."
   ]
  },
  {
   "cell_type": "code",
   "execution_count": 315,
   "id": "5e876e5f-134f-4c6b-8777-46e02387268f",
   "metadata": {},
   "outputs": [
    {
     "data": {
      "text/plain": [
       "0    Ricky\n",
       "1    Bobby\n",
       "dtype: object"
      ]
     },
     "execution_count": 315,
     "metadata": {},
     "output_type": "execute_result"
    }
   ],
   "source": [
    "pd.Series(tuple(my_set))"
   ]
  },
  {
   "cell_type": "code",
   "execution_count": 316,
   "id": "6c673993-8acb-43fe-ab3f-c895d7c0475b",
   "metadata": {},
   "outputs": [
    {
     "data": {
      "text/plain": [
       "array([49, 47, 93, 36, 46,  2, 23, 10, 94,  6])"
      ]
     },
     "execution_count": 316,
     "metadata": {},
     "output_type": "execute_result"
    }
   ],
   "source": [
    "random_data = np.random.randint(1, 101, 10) \n",
    "#np의 randint 함수로 1부터 100 사이의 수를 10개 생성.\n",
    "random_data"
   ]
  },
  {
   "cell_type": "code",
   "execution_count": 317,
   "id": "22e80590-b105-47fd-88a1-8873c8b9cf7e",
   "metadata": {},
   "outputs": [
    {
     "data": {
      "text/plain": [
       "0    49\n",
       "1    47\n",
       "2    93\n",
       "3    36\n",
       "4    46\n",
       "5     2\n",
       "6    23\n",
       "7    10\n",
       "8    94\n",
       "9     6\n",
       "dtype: int32"
      ]
     },
     "execution_count": 317,
     "metadata": {},
     "output_type": "execute_result"
    }
   ],
   "source": [
    "pd.Series(random_data)"
   ]
  },
  {
   "cell_type": "markdown",
   "id": "eda9d697-2e8a-44dd-b48a-14239182fe87",
   "metadata": {},
   "source": [
    "2.3 Series의 속성"
   ]
  },
  {
   "cell_type": "code",
   "execution_count": 318,
   "id": "306caa0e-4b11-44d2-bd41-73c865dda020",
   "metadata": {},
   "outputs": [
    {
     "data": {
      "text/plain": [
       "{'Cereal': 125, 'Chocolate Bar': 406, 'Ice Cream Sundae': 342}"
      ]
     },
     "execution_count": 318,
     "metadata": {},
     "output_type": "execute_result"
    }
   ],
   "source": [
    "calorie_info"
   ]
  },
  {
   "cell_type": "code",
   "execution_count": 319,
   "id": "0c5fbc6d-8ffe-4341-8c41-9de01f33608d",
   "metadata": {},
   "outputs": [
    {
     "data": {
      "text/plain": [
       "Cereal              125\n",
       "Chocolate Bar       406\n",
       "Ice Cream Sundae    342\n",
       "dtype: int64"
      ]
     },
     "execution_count": 319,
     "metadata": {},
     "output_type": "execute_result"
    }
   ],
   "source": [
    "pd.Series(calorie_info)"
   ]
  },
  {
   "cell_type": "code",
   "execution_count": 320,
   "id": "e0447171-2e34-4b74-b8b4-5480ef205473",
   "metadata": {},
   "outputs": [
    {
     "data": {
      "text/plain": [
       "array([125, 406, 342], dtype=int64)"
      ]
     },
     "execution_count": 320,
     "metadata": {},
     "output_type": "execute_result"
    }
   ],
   "source": [
    "diet.values # Series의 데이터 값 반환"
   ]
  },
  {
   "cell_type": "code",
   "execution_count": 321,
   "id": "9c3a9c61-b9ac-4275-abab-52c0dac302bc",
   "metadata": {},
   "outputs": [
    {
     "data": {
      "text/plain": [
       "numpy.ndarray"
      ]
     },
     "execution_count": 321,
     "metadata": {},
     "output_type": "execute_result"
    }
   ],
   "source": [
    "type(diet.values)"
   ]
  },
  {
   "cell_type": "code",
   "execution_count": 322,
   "id": "ade9f8a4-a323-4009-b2f7-9d148addb3a1",
   "metadata": {},
   "outputs": [
    {
     "data": {
      "text/plain": [
       "Index(['Cereal', 'Chocolate Bar', 'Ice Cream Sundae'], dtype='object')"
      ]
     },
     "execution_count": 322,
     "metadata": {},
     "output_type": "execute_result"
    }
   ],
   "source": [
    "diet.index # Series의 인덱스 값 반환"
   ]
  },
  {
   "cell_type": "code",
   "execution_count": 323,
   "id": "5ac7675b-f015-4c64-b1c1-afa5bbedf3ab",
   "metadata": {},
   "outputs": [
    {
     "data": {
      "text/plain": [
       "pandas.core.indexes.base.Index"
      ]
     },
     "execution_count": 323,
     "metadata": {},
     "output_type": "execute_result"
    }
   ],
   "source": [
    "type(diet.index)"
   ]
  },
  {
   "cell_type": "code",
   "execution_count": 324,
   "id": "1a17f1fe-ff87-49fb-abbf-03b53eedfa08",
   "metadata": {},
   "outputs": [
    {
     "data": {
      "text/plain": [
       "dtype('int64')"
      ]
     },
     "execution_count": 324,
     "metadata": {},
     "output_type": "execute_result"
    }
   ],
   "source": [
    "diet.dtype # 시리즈의 데이터 타입을 반환합니다"
   ]
  },
  {
   "cell_type": "code",
   "execution_count": 325,
   "id": "155a6f28-c131-4858-a6a6-34173ca26d3f",
   "metadata": {},
   "outputs": [
    {
     "data": {
      "text/plain": [
       "3"
      ]
     },
     "execution_count": 325,
     "metadata": {},
     "output_type": "execute_result"
    }
   ],
   "source": [
    "diet.size #시리즈의 원소 개수를 반환합니다."
   ]
  },
  {
   "cell_type": "code",
   "execution_count": 326,
   "id": "21a2e19d-4341-486b-8651-df1e71bc6237",
   "metadata": {},
   "outputs": [
    {
     "data": {
      "text/plain": [
       "(3,)"
      ]
     },
     "execution_count": 326,
     "metadata": {},
     "output_type": "execute_result"
    }
   ],
   "source": [
    "diet.shape #시리즈의 차원을 반환합니다."
   ]
  },
  {
   "cell_type": "code",
   "execution_count": 327,
   "id": "0aae2052-ba0e-4fb6-8ca4-8d252d108560",
   "metadata": {},
   "outputs": [
    {
     "data": {
      "text/plain": [
       "True"
      ]
     },
     "execution_count": 327,
     "metadata": {},
     "output_type": "execute_result"
    }
   ],
   "source": [
    "diet.is_unique # 중복 항목이 없으면 True, 있으면 False"
   ]
  },
  {
   "cell_type": "code",
   "execution_count": 328,
   "id": "c66faf59-c4a0-4152-ba26-9d85d3274334",
   "metadata": {},
   "outputs": [
    {
     "data": {
      "text/plain": [
       "False"
      ]
     },
     "execution_count": 328,
     "metadata": {},
     "output_type": "execute_result"
    }
   ],
   "source": [
    "pd.Series(data = [3, 3]).is_unique"
   ]
  },
  {
   "cell_type": "code",
   "execution_count": 329,
   "id": "cf1fb710-b107-4ba2-8b4f-671535433293",
   "metadata": {},
   "outputs": [],
   "source": [
    "#pd.Series(data = [1, 3, 6]).is_monotonic ====> 더 이상 지원 X "
   ]
  },
  {
   "cell_type": "code",
   "execution_count": 330,
   "id": "020fa21d-0d53-4e81-9339-f122585ddfbf",
   "metadata": {},
   "outputs": [
    {
     "data": {
      "text/plain": [
       "False"
      ]
     },
     "execution_count": 330,
     "metadata": {},
     "output_type": "execute_result"
    }
   ],
   "source": [
    "pd.Series(data = [1, 3, 6]).is_monotonic_decreasing"
   ]
  },
  {
   "cell_type": "code",
   "execution_count": 331,
   "id": "9ac84698-e753-43b0-b627-0e3e5a06b868",
   "metadata": {},
   "outputs": [
    {
     "data": {
      "text/plain": [
       "True"
      ]
     },
     "execution_count": 331,
     "metadata": {},
     "output_type": "execute_result"
    }
   ],
   "source": [
    "pd.Series(data = [1, 3, 6]).is_monotonic_increasing"
   ]
  },
  {
   "cell_type": "markdown",
   "id": "9b29e543-0a93-4cec-8800-9843c3e1939b",
   "metadata": {},
   "source": [
    "2.4 첫 번째 행과 마지막 행 검색\n",
    "- 속성 : 객체, 자료구조가 자체적으로 나타낼 수 잇는 특성 or 세부사항.(객체의 상태 정의)\n",
    "- 메서드 : 객체에서 수행할 수 있는 작업이나 명령. 객체 속성의 일부를 분석, 계산하거나 조작(객체의 동작 정의)"
   ]
  },
  {
   "cell_type": "code",
   "execution_count": 332,
   "id": "bf11dc8d-37ac-41cc-b365-809a2f8a0f43",
   "metadata": {},
   "outputs": [
    {
     "data": {
      "text/plain": [
       "0       0\n",
       "1       5\n",
       "2      10\n",
       "3      15\n",
       "4      20\n",
       "     ... \n",
       "95    475\n",
       "96    480\n",
       "97    485\n",
       "98    490\n",
       "99    495\n",
       "Length: 100, dtype: int64"
      ]
     },
     "execution_count": 332,
     "metadata": {},
     "output_type": "execute_result"
    }
   ],
   "source": [
    "values = range(0, 500, 5) #0에서 449까지 5씩 증가하는 범위\n",
    "nums = pd.Series(data = values) #Series 생성.\n",
    "nums"
   ]
  },
  {
   "cell_type": "code",
   "execution_count": 333,
   "id": "33a82569-69de-411d-a2e0-ff7886f6dd75",
   "metadata": {},
   "outputs": [
    {
     "data": {
      "text/plain": [
       "0     0\n",
       "1     5\n",
       "2    10\n",
       "dtype: int64"
      ]
     },
     "execution_count": 333,
     "metadata": {},
     "output_type": "execute_result"
    }
   ],
   "source": [
    "nums.head(3) #위에서부터 5줄 출력"
   ]
  },
  {
   "cell_type": "code",
   "execution_count": 334,
   "id": "701022ca-6904-48c3-b3ea-fdee8766665b",
   "metadata": {},
   "outputs": [
    {
     "data": {
      "text/plain": [
       "0     0\n",
       "1     5\n",
       "2    10\n",
       "dtype: int64"
      ]
     },
     "execution_count": 334,
     "metadata": {},
     "output_type": "execute_result"
    }
   ],
   "source": [
    "nums.head(n = 3)"
   ]
  },
  {
   "cell_type": "code",
   "execution_count": 335,
   "id": "d682e9ae-3408-4d3b-b050-4e0011e58b25",
   "metadata": {},
   "outputs": [
    {
     "data": {
      "text/plain": [
       "0     0\n",
       "1     5\n",
       "2    10\n",
       "3    15\n",
       "4    20\n",
       "dtype: int64"
      ]
     },
     "execution_count": 335,
     "metadata": {},
     "output_type": "execute_result"
    }
   ],
   "source": [
    "nums.head() #기본적으로 5행 반환"
   ]
  },
  {
   "cell_type": "code",
   "execution_count": 336,
   "id": "2a896cc2-6993-43c7-a439-432f3235ba16",
   "metadata": {},
   "outputs": [
    {
     "data": {
      "text/plain": [
       "94    470\n",
       "95    475\n",
       "96    480\n",
       "97    485\n",
       "98    490\n",
       "99    495\n",
       "dtype: int64"
      ]
     },
     "execution_count": 336,
     "metadata": {},
     "output_type": "execute_result"
    }
   ],
   "source": [
    "nums.tail(6) #아래에서부터 6행 반환"
   ]
  },
  {
   "cell_type": "code",
   "execution_count": 337,
   "id": "d9d4a304-291c-45fd-a78c-31ca15a89457",
   "metadata": {},
   "outputs": [
    {
     "data": {
      "text/plain": [
       "<bound method NDFrame.tail of 0       0\n",
       "1       5\n",
       "2      10\n",
       "3      15\n",
       "4      20\n",
       "     ... \n",
       "95    475\n",
       "96    480\n",
       "97    485\n",
       "98    490\n",
       "99    495\n",
       "Length: 100, dtype: int64>"
      ]
     },
     "execution_count": 337,
     "metadata": {},
     "output_type": "execute_result"
    }
   ],
   "source": [
    "nums.tail #기본값으로 5 설정."
   ]
  },
  {
   "cell_type": "markdown",
   "id": "4ae1480f-050b-4eb2-a085-0efa7b37ba29",
   "metadata": {},
   "source": [
    "2.5 수학 연산"
   ]
  },
  {
   "cell_type": "markdown",
   "id": "e1d9b623-d3ab-4d0d-abf9-57bb2d204512",
   "metadata": {},
   "source": [
    "2.5.1. 통계 연산"
   ]
  },
  {
   "cell_type": "code",
   "execution_count": 338,
   "id": "3cba35db-5786-431f-ab20-fca332f77f74",
   "metadata": {},
   "outputs": [
    {
     "data": {
      "text/plain": [
       "0    1.0\n",
       "1    2.0\n",
       "2    3.0\n",
       "3    NaN\n",
       "4    4.0\n",
       "5    5.0\n",
       "dtype: float64"
      ]
     },
     "execution_count": 338,
     "metadata": {},
     "output_type": "execute_result"
    }
   ],
   "source": [
    "numbers = pd.Series([1,2,3, np.nan, 4, 5])\n",
    "numbers"
   ]
  },
  {
   "cell_type": "code",
   "execution_count": 339,
   "id": "cd11663d-9db7-4cfa-a43e-015585bb34f2",
   "metadata": {},
   "outputs": [
    {
     "data": {
      "text/plain": [
       "5"
      ]
     },
     "execution_count": 339,
     "metadata": {},
     "output_type": "execute_result"
    }
   ],
   "source": [
    "numbers.count() # null이 아닌 값의 개수를 계산"
   ]
  },
  {
   "cell_type": "code",
   "execution_count": 340,
   "id": "6777d9da-3eda-46b5-a75c-18febd93d83c",
   "metadata": {},
   "outputs": [
    {
     "data": {
      "text/plain": [
       "15.0"
      ]
     },
     "execution_count": 340,
     "metadata": {},
     "output_type": "execute_result"
    }
   ],
   "source": [
    "numbers.sum() # Series의 값을 모두 더합니다."
   ]
  },
  {
   "cell_type": "markdown",
   "id": "5574dc65-2692-48b0-ae56-5360d57318fe",
   "metadata": {},
   "source": [
    "- 대부분의 수학적 메서드는 기본적으로 결측값 무시.\n",
    "- skipna 매개 변수에 =False를 전달하면 강제로 결측값 포함."
   ]
  },
  {
   "cell_type": "code",
   "execution_count": 341,
   "id": "a6b97cea-61de-4fb9-b93d-fb7d1181d7c6",
   "metadata": {},
   "outputs": [
    {
     "data": {
      "text/plain": [
       "nan"
      ]
     },
     "execution_count": 341,
     "metadata": {},
     "output_type": "execute_result"
    }
   ],
   "source": [
    "numbers.sum(skipna = False) #알수없는 nan값을 포함할 수 없어서 반환값 nan"
   ]
  },
  {
   "cell_type": "code",
   "execution_count": 342,
   "id": "97d1e794-0309-4c03-ab51-d50ae7fdee5b",
   "metadata": {},
   "outputs": [
    {
     "data": {
      "text/plain": [
       "15.0"
      ]
     },
     "execution_count": 342,
     "metadata": {},
     "output_type": "execute_result"
    }
   ],
   "source": [
    "numbers.sum(min_count = 3) #sum 메서드의 min_count 매개변수는 Series가 보유해야 하는 유효한 값의 최소 개수를 설정.\n",
    "#numbers가 값을 3개 이상 갖고 있으면 합계를 반환."
   ]
  },
  {
   "cell_type": "code",
   "execution_count": 343,
   "id": "c192fe33-a52b-48a3-bc9b-c1bea80348d1",
   "metadata": {},
   "outputs": [
    {
     "data": {
      "text/plain": [
       "nan"
      ]
     },
     "execution_count": 343,
     "metadata": {},
     "output_type": "execute_result"
    }
   ],
   "source": [
    "numbers.sum(min_count = 6) #numbers의 유효한 값은 5개이므로 조건을 충족하지 못해 nan을 반환"
   ]
  },
  {
   "cell_type": "code",
   "execution_count": 344,
   "id": "40523a8d-192f-42dc-b4f5-505d9f2ebc60",
   "metadata": {},
   "outputs": [
    {
     "data": {
      "text/plain": [
       "120.0"
      ]
     },
     "execution_count": 344,
     "metadata": {},
     "output_type": "execute_result"
    }
   ],
   "source": [
    "numbers.product() #product() 변수는 Series의 모든 값을 곱한다."
   ]
  },
  {
   "cell_type": "code",
   "execution_count": 345,
   "id": "e2ccecf1-8006-4d99-92dd-1140335f1d1d",
   "metadata": {},
   "outputs": [
    {
     "data": {
      "text/plain": [
       "nan"
      ]
     },
     "execution_count": 345,
     "metadata": {},
     "output_type": "execute_result"
    }
   ],
   "source": [
    "numbers.product(skipna = False) #결측값 포함."
   ]
  },
  {
   "cell_type": "code",
   "execution_count": 346,
   "id": "69d20c71-e653-4066-b553-ec62c7c867fe",
   "metadata": {},
   "outputs": [
    {
     "data": {
      "text/plain": [
       "120.0"
      ]
     },
     "execution_count": 346,
     "metadata": {},
     "output_type": "execute_result"
    }
   ],
   "source": [
    "numbers.product(min_count = 3)"
   ]
  },
  {
   "cell_type": "code",
   "execution_count": 347,
   "id": "70220c1b-244c-4e8f-90d1-3bb5411c9515",
   "metadata": {},
   "outputs": [
    {
     "data": {
      "text/plain": [
       "0    1.0\n",
       "1    2.0\n",
       "2    3.0\n",
       "3    NaN\n",
       "4    4.0\n",
       "5    5.0\n",
       "dtype: float64"
      ]
     },
     "execution_count": 347,
     "metadata": {},
     "output_type": "execute_result"
    }
   ],
   "source": [
    "numbers"
   ]
  },
  {
   "cell_type": "code",
   "execution_count": 348,
   "id": "9c32ba3e-c7a2-48fc-9e45-9e54ba63ccd1",
   "metadata": {},
   "outputs": [
    {
     "data": {
      "text/plain": [
       "0     1.0\n",
       "1     3.0\n",
       "2     6.0\n",
       "3     NaN\n",
       "4    10.0\n",
       "5    15.0\n",
       "dtype: float64"
      ]
     },
     "execution_count": 348,
     "metadata": {},
     "output_type": "execute_result"
    }
   ],
   "source": [
    "numbers.cumsum() #누적합계를 값으로 가지는 새 Series를 반환."
   ]
  },
  {
   "cell_type": "code",
   "execution_count": 349,
   "id": "2c2fc396-7838-4944-90c4-f3add687503e",
   "metadata": {},
   "outputs": [
    {
     "data": {
      "text/plain": [
       "0    1.0\n",
       "1    3.0\n",
       "2    6.0\n",
       "3    NaN\n",
       "4    NaN\n",
       "5    NaN\n",
       "dtype: float64"
      ]
     },
     "execution_count": 349,
     "metadata": {},
     "output_type": "execute_result"
    }
   ],
   "source": [
    "numbers.cumsum(skipna = False) #nan 이전까지 누적값을 나열하고 나머지 값에 대해 nan 나열."
   ]
  },
  {
   "cell_type": "code",
   "execution_count": 350,
   "id": "02c18427-8838-4920-9f92-17a9390387fb",
   "metadata": {},
   "outputs": [
    {
     "data": {
      "text/plain": [
       "0    1.0\n",
       "1    2.0\n",
       "2    3.0\n",
       "3    NaN\n",
       "4    4.0\n",
       "5    5.0\n",
       "dtype: float64"
      ]
     },
     "execution_count": 350,
     "metadata": {},
     "output_type": "execute_result"
    }
   ],
   "source": [
    "numbers"
   ]
  },
  {
   "cell_type": "code",
   "execution_count": 351,
   "id": "7e402f36-025b-4324-aecb-dbfe54480ae0",
   "metadata": {},
   "outputs": [
    {
     "data": {
      "text/plain": [
       "0         NaN\n",
       "1    1.000000\n",
       "2    0.500000\n",
       "3    0.000000\n",
       "4    0.333333\n",
       "5    0.250000\n",
       "dtype: float64"
      ]
     },
     "execution_count": 351,
     "metadata": {},
     "output_type": "execute_result"
    }
   ],
   "source": [
    "numbers.pct_change() #한 Series 값에서 다음 값까지의 변동 비율을 반환.\n",
    "# 현제 인덱스 값에서 이전 인덱스 값을 뺀다음 결과를 이전 인덱스 값으로 나눈다."
   ]
  },
  {
   "cell_type": "code",
   "execution_count": 352,
   "id": "f11ef917-db62-4f58-adee-58d388461247",
   "metadata": {},
   "outputs": [
    {
     "data": {
      "text/plain": [
       "0         NaN\n",
       "1    1.000000\n",
       "2    0.500000\n",
       "3    0.000000\n",
       "4    0.333333\n",
       "5    0.250000\n",
       "dtype: float64"
      ]
     },
     "execution_count": 352,
     "metadata": {},
     "output_type": "execute_result"
    }
   ],
   "source": [
    "#아래 세 줄은 결과가 동일하다.\n",
    "numbers.pct_change()\n",
    "numbers.pct_change(fill_method = \"pad\")\n",
    "numbers.pct_change(fill_method = \"ffill\")"
   ]
  },
  {
   "cell_type": "code",
   "execution_count": 353,
   "id": "b72cf0ee-c66c-4bb2-b809-f4c2231cc4c9",
   "metadata": {},
   "outputs": [
    {
     "data": {
      "text/plain": [
       "0         NaN\n",
       "1    1.000000\n",
       "2    0.500000\n",
       "3    0.333333\n",
       "4    0.000000\n",
       "5    0.250000\n",
       "dtype: float64"
      ]
     },
     "execution_count": 353,
     "metadata": {},
     "output_type": "execute_result"
    }
   ],
   "source": [
    "# 다음 두 줄은 결과가 동일합니다.\n",
    "numbers.pct_change(fill_method = \"bfill\")\n",
    "numbers.pct_change(fill_method = \"backfill\")"
   ]
  },
  {
   "cell_type": "code",
   "execution_count": 354,
   "id": "a7e2bd88-2420-4637-a27e-8be8ddd6403d",
   "metadata": {},
   "outputs": [
    {
     "data": {
      "text/plain": [
       "3.0"
      ]
     },
     "execution_count": 354,
     "metadata": {},
     "output_type": "execute_result"
    }
   ],
   "source": [
    "numbers.mean() #Series 값의 평균 반환."
   ]
  },
  {
   "cell_type": "code",
   "execution_count": 355,
   "id": "d788ed5c-d445-4254-ad17-96b57b2c8d01",
   "metadata": {},
   "outputs": [
    {
     "data": {
      "text/plain": [
       "3.0"
      ]
     },
     "execution_count": 355,
     "metadata": {},
     "output_type": "execute_result"
    }
   ],
   "source": [
    "numbers.median() #정렬된 Series 값에서 가운데 숫자 반환."
   ]
  },
  {
   "cell_type": "code",
   "execution_count": 356,
   "id": "28c517c3-000f-4380-8c67-fb5cf23e6bfc",
   "metadata": {},
   "outputs": [
    {
     "data": {
      "text/plain": [
       "1.5811388300841898"
      ]
     },
     "execution_count": 356,
     "metadata": {},
     "output_type": "execute_result"
    }
   ],
   "source": [
    "numbers.std() # 표준편차 반환"
   ]
  },
  {
   "cell_type": "code",
   "execution_count": 357,
   "id": "d80a4001-e833-439e-a6f4-b0cf92b48d28",
   "metadata": {},
   "outputs": [
    {
     "data": {
      "text/plain": [
       "5.0"
      ]
     },
     "execution_count": 357,
     "metadata": {},
     "output_type": "execute_result"
    }
   ],
   "source": [
    "numbers.max()"
   ]
  },
  {
   "cell_type": "code",
   "execution_count": 358,
   "id": "fdee3021-b28a-49fa-8b48-33aaf1d7300d",
   "metadata": {},
   "outputs": [
    {
     "data": {
      "text/plain": [
       "1.0"
      ]
     },
     "execution_count": 358,
     "metadata": {},
     "output_type": "execute_result"
    }
   ],
   "source": [
    "numbers.min()"
   ]
  },
  {
   "cell_type": "code",
   "execution_count": 359,
   "id": "3fb92a89-7bd6-42bd-94bf-21d30c95e038",
   "metadata": {},
   "outputs": [
    {
     "data": {
      "text/plain": [
       "0       koala\n",
       "1    aardvark\n",
       "2       zebra\n",
       "dtype: object"
      ]
     },
     "execution_count": 359,
     "metadata": {},
     "output_type": "execute_result"
    }
   ],
   "source": [
    "animals = pd.Series([\"koala\", \"aardvark\", \"zebra\"])\n",
    "animals"
   ]
  },
  {
   "cell_type": "code",
   "execution_count": 360,
   "id": "747fb93f-d7e5-4be6-a77e-32e1ec520e1c",
   "metadata": {},
   "outputs": [
    {
     "data": {
      "text/plain": [
       "'zebra'"
      ]
     },
     "execution_count": 360,
     "metadata": {},
     "output_type": "execute_result"
    }
   ],
   "source": [
    "animals.max()"
   ]
  },
  {
   "cell_type": "code",
   "execution_count": 361,
   "id": "645b02c0-3057-4dab-a28b-dce146555eb7",
   "metadata": {},
   "outputs": [
    {
     "data": {
      "text/plain": [
       "'aardvark'"
      ]
     },
     "execution_count": 361,
     "metadata": {},
     "output_type": "execute_result"
    }
   ],
   "source": [
    "animals.min()"
   ]
  },
  {
   "cell_type": "code",
   "execution_count": 362,
   "id": "2c47dc73-33a0-4a2c-b389-4510cf981dcb",
   "metadata": {},
   "outputs": [
    {
     "data": {
      "text/plain": [
       "count    5.000000\n",
       "mean     3.000000\n",
       "std      1.581139\n",
       "min      1.000000\n",
       "25%      2.000000\n",
       "50%      3.000000\n",
       "75%      4.000000\n",
       "max      5.000000\n",
       "dtype: float64"
      ]
     },
     "execution_count": 362,
     "metadata": {},
     "output_type": "execute_result"
    }
   ],
   "source": [
    "numbers.describe() #개수, 평균, 표준편차를 포함한 통계 평과 반환."
   ]
  },
  {
   "cell_type": "code",
   "execution_count": 363,
   "id": "0f251c4d-6a80-46eb-a19b-10a2d6091f65",
   "metadata": {},
   "outputs": [
    {
     "data": {
      "text/plain": [
       "5    5.0\n",
       "3    NaN\n",
       "0    1.0\n",
       "dtype: float64"
      ]
     },
     "execution_count": 363,
     "metadata": {},
     "output_type": "execute_result"
    }
   ],
   "source": [
    "numbers.sample(3) # Series 안에서 임의의 값을 선택(NaN 제외), NaN이 존재하면 소수점을 반환."
   ]
  },
  {
   "cell_type": "code",
   "execution_count": 364,
   "id": "4015390e-929f-4f86-a748-df6171b94fa4",
   "metadata": {},
   "outputs": [],
   "source": [
    "authors = pd.Series(\n",
    "    [\"Hemingway\", \"Orwell\", \"Dostoevsky\", \"Fitzgerald\", \"Orwell\"])"
   ]
  },
  {
   "cell_type": "code",
   "execution_count": 365,
   "id": "0dfd8495-afb4-44c6-ab4f-efd9bd9a1647",
   "metadata": {},
   "outputs": [
    {
     "data": {
      "text/plain": [
       "array(['Hemingway', 'Orwell', 'Dostoevsky', 'Fitzgerald'], dtype=object)"
      ]
     },
     "execution_count": 365,
     "metadata": {},
     "output_type": "execute_result"
    }
   ],
   "source": [
    "authors.unique() #중복값을 제외하고 반환."
   ]
  },
  {
   "cell_type": "code",
   "execution_count": 366,
   "id": "81f4fa80-502c-4b25-bf08-7bc7b3e745c5",
   "metadata": {},
   "outputs": [
    {
     "data": {
      "text/plain": [
       "4"
      ]
     },
     "execution_count": 366,
     "metadata": {},
     "output_type": "execute_result"
    }
   ],
   "source": [
    "authors.nunique() #고유값의 개수를 반환."
   ]
  },
  {
   "cell_type": "markdown",
   "id": "8955948a-2f4c-4fbb-8fa2-80096d93f1f3",
   "metadata": {},
   "source": [
    "2.5.2 산술 연산."
   ]
  },
  {
   "cell_type": "code",
   "execution_count": 367,
   "id": "492d5774-736c-4fd5-8d57-e22e091cd958",
   "metadata": {},
   "outputs": [
    {
     "data": {
      "text/plain": [
       "A     5.0\n",
       "B     NaN\n",
       "C    15.0\n",
       "dtype: float64"
      ]
     },
     "execution_count": 367,
     "metadata": {},
     "output_type": "execute_result"
    }
   ],
   "source": [
    "s1 = pd.Series(data = [5, np.nan, 15], index = [\"A\", \"B\", \"C\"])\n",
    "s1"
   ]
  },
  {
   "cell_type": "code",
   "execution_count": 368,
   "id": "53ee1279-0488-4450-80cb-02194874a0ad",
   "metadata": {},
   "outputs": [
    {
     "data": {
      "text/plain": [
       "A     8.0\n",
       "B     NaN\n",
       "C    18.0\n",
       "dtype: float64"
      ]
     },
     "execution_count": 368,
     "metadata": {},
     "output_type": "execute_result"
    }
   ],
   "source": [
    "s1 + 3"
   ]
  },
  {
   "cell_type": "code",
   "execution_count": 369,
   "id": "658d2dd6-9676-4a98-86e9-e9abe4f661ee",
   "metadata": {},
   "outputs": [
    {
     "data": {
      "text/plain": [
       "A     8.0\n",
       "B     NaN\n",
       "C    18.0\n",
       "dtype: float64"
      ]
     },
     "execution_count": 369,
     "metadata": {},
     "output_type": "execute_result"
    }
   ],
   "source": [
    "s1.add(3)"
   ]
  },
  {
   "cell_type": "code",
   "execution_count": 370,
   "id": "b60af65a-5a36-4641-b0f1-8b571809d2bf",
   "metadata": {},
   "outputs": [
    {
     "data": {
      "text/plain": [
       "A     0.0\n",
       "B     NaN\n",
       "C    10.0\n",
       "dtype: float64"
      ]
     },
     "execution_count": 370,
     "metadata": {},
     "output_type": "execute_result"
    }
   ],
   "source": [
    "s1 - 5"
   ]
  },
  {
   "cell_type": "code",
   "execution_count": 371,
   "id": "8235ac2b-1602-4207-8d91-7ef1e263104d",
   "metadata": {},
   "outputs": [
    {
     "data": {
      "text/plain": [
       "A     0.0\n",
       "B     NaN\n",
       "C    10.0\n",
       "dtype: float64"
      ]
     },
     "execution_count": 371,
     "metadata": {},
     "output_type": "execute_result"
    }
   ],
   "source": [
    "s1.sub(5)"
   ]
  },
  {
   "cell_type": "code",
   "execution_count": 372,
   "id": "8bd3a544-1172-4dd8-8a42-c078c76dc437",
   "metadata": {},
   "outputs": [
    {
     "data": {
      "text/plain": [
       "A     0.0\n",
       "B     NaN\n",
       "C    10.0\n",
       "dtype: float64"
      ]
     },
     "execution_count": 372,
     "metadata": {},
     "output_type": "execute_result"
    }
   ],
   "source": [
    "s1.subtract(5)"
   ]
  },
  {
   "cell_type": "code",
   "execution_count": 373,
   "id": "4c3e9026-f81e-4087-91b6-5aa899d8f9a0",
   "metadata": {},
   "outputs": [
    {
     "data": {
      "text/plain": [
       "A    10.0\n",
       "B     NaN\n",
       "C    30.0\n",
       "dtype: float64"
      ]
     },
     "execution_count": 373,
     "metadata": {},
     "output_type": "execute_result"
    }
   ],
   "source": [
    "s1*2"
   ]
  },
  {
   "cell_type": "code",
   "execution_count": 374,
   "id": "2bef87e2-5039-4fc0-bfb8-f320fe9390ef",
   "metadata": {},
   "outputs": [
    {
     "data": {
      "text/plain": [
       "A    10.0\n",
       "B     NaN\n",
       "C    30.0\n",
       "dtype: float64"
      ]
     },
     "execution_count": 374,
     "metadata": {},
     "output_type": "execute_result"
    }
   ],
   "source": [
    "s1.mul(2)"
   ]
  },
  {
   "cell_type": "code",
   "execution_count": 375,
   "id": "8748da7f-8a61-4a4c-af31-6ef6967fed9f",
   "metadata": {},
   "outputs": [
    {
     "data": {
      "text/plain": [
       "A    2.5\n",
       "B    NaN\n",
       "C    7.5\n",
       "dtype: float64"
      ]
     },
     "execution_count": 375,
     "metadata": {},
     "output_type": "execute_result"
    }
   ],
   "source": [
    "s1/2"
   ]
  },
  {
   "cell_type": "code",
   "execution_count": 376,
   "id": "15552001-1646-4888-bd9f-02d96c455663",
   "metadata": {},
   "outputs": [
    {
     "data": {
      "text/plain": [
       "A    2.5\n",
       "B    NaN\n",
       "C    7.5\n",
       "dtype: float64"
      ]
     },
     "execution_count": 376,
     "metadata": {},
     "output_type": "execute_result"
    }
   ],
   "source": [
    "s1.div(2)"
   ]
  },
  {
   "cell_type": "code",
   "execution_count": 377,
   "id": "3fb1dbe1-3244-4370-b5a2-8ef7b7964df5",
   "metadata": {},
   "outputs": [
    {
     "data": {
      "text/plain": [
       "A    1.0\n",
       "B    NaN\n",
       "C    3.0\n",
       "dtype: float64"
      ]
     },
     "execution_count": 377,
     "metadata": {},
     "output_type": "execute_result"
    }
   ],
   "source": [
    "s1//4"
   ]
  },
  {
   "cell_type": "code",
   "execution_count": 378,
   "id": "3e5524a0-44a4-49a5-a84b-f5ae681aabbb",
   "metadata": {},
   "outputs": [
    {
     "data": {
      "text/plain": [
       "<bound method flex_method_SERIES.<locals>.flex_wrapper of A     5.0\n",
       "B     NaN\n",
       "C    15.0\n",
       "dtype: float64>"
      ]
     },
     "execution_count": 378,
     "metadata": {},
     "output_type": "execute_result"
    }
   ],
   "source": [
    "s1.floordiv"
   ]
  },
  {
   "cell_type": "code",
   "execution_count": 379,
   "id": "e0ad92ed-6d26-4529-8ad3-df6f640d87e9",
   "metadata": {},
   "outputs": [
    {
     "data": {
      "text/plain": [
       "A    1.0\n",
       "B    NaN\n",
       "C    3.0\n",
       "dtype: float64"
      ]
     },
     "execution_count": 379,
     "metadata": {},
     "output_type": "execute_result"
    }
   ],
   "source": [
    "s1.floordiv(4)"
   ]
  },
  {
   "cell_type": "code",
   "execution_count": 380,
   "id": "efa9d82a-f442-4fb9-a4bf-669e556a0b10",
   "metadata": {},
   "outputs": [
    {
     "data": {
      "text/plain": [
       "A    2.0\n",
       "B    NaN\n",
       "C    0.0\n",
       "dtype: float64"
      ]
     },
     "execution_count": 380,
     "metadata": {},
     "output_type": "execute_result"
    }
   ],
   "source": [
    "s1%3"
   ]
  },
  {
   "cell_type": "code",
   "execution_count": 381,
   "id": "4b91be05-dbea-474c-a1d0-6d67e246ed10",
   "metadata": {},
   "outputs": [
    {
     "data": {
      "text/plain": [
       "A    2.0\n",
       "B    NaN\n",
       "C    0.0\n",
       "dtype: float64"
      ]
     },
     "execution_count": 381,
     "metadata": {},
     "output_type": "execute_result"
    }
   ],
   "source": [
    "s1.mod(3)"
   ]
  },
  {
   "cell_type": "markdown",
   "id": "3a7d5361-b735-45f7-904b-eaa2a60704fc",
   "metadata": {},
   "source": [
    "2.5.3 브로드캐스팅"
   ]
  },
  {
   "cell_type": "code",
   "execution_count": 382,
   "id": "3a426aeb-828c-4e0c-aeb7-89449c72b3dc",
   "metadata": {},
   "outputs": [],
   "source": [
    "s1 = pd.Series([1, 2, 3], index = ['A', 'B', 'C'])\n",
    "s2 = pd.Series([4,5,6], index = ['A', 'B', 'C'])"
   ]
  },
  {
   "cell_type": "code",
   "execution_count": 383,
   "id": "101e0756-77c0-4954-974f-8f8050c0e546",
   "metadata": {},
   "outputs": [
    {
     "data": {
      "text/plain": [
       "A    5\n",
       "B    7\n",
       "C    9\n",
       "dtype: int64"
      ]
     },
     "execution_count": 383,
     "metadata": {},
     "output_type": "execute_result"
    }
   ],
   "source": [
    "s1+s2"
   ]
  },
  {
   "cell_type": "code",
   "execution_count": 384,
   "id": "d58d8919-6222-4472-b339-ba470e540540",
   "metadata": {},
   "outputs": [],
   "source": [
    "s1 = pd.Series(data = [3, 6, np.nan, 12])\n",
    "s2 = pd.Series(data = [2, 6, np.nan, 12])"
   ]
  },
  {
   "cell_type": "code",
   "execution_count": 385,
   "id": "c807a75e-7a63-41bc-8e6a-42e6c3eabcb7",
   "metadata": {},
   "outputs": [
    {
     "data": {
      "text/plain": [
       "0    False\n",
       "1     True\n",
       "2    False\n",
       "3     True\n",
       "dtype: bool"
      ]
     },
     "execution_count": 385,
     "metadata": {},
     "output_type": "execute_result"
    }
   ],
   "source": [
    "s1 == s2"
   ]
  },
  {
   "cell_type": "code",
   "execution_count": 386,
   "id": "7542cf32-8223-47c7-9a8a-6ab079da21d4",
   "metadata": {},
   "outputs": [
    {
     "data": {
      "text/plain": [
       "0    False\n",
       "1     True\n",
       "2    False\n",
       "3     True\n",
       "dtype: bool"
      ]
     },
     "execution_count": 386,
     "metadata": {},
     "output_type": "execute_result"
    }
   ],
   "source": [
    "s1.eq(s2)"
   ]
  },
  {
   "cell_type": "code",
   "execution_count": 387,
   "id": "bd5a580d-564e-41ea-a873-4269975d6c09",
   "metadata": {},
   "outputs": [
    {
     "data": {
      "text/plain": [
       "0     True\n",
       "1    False\n",
       "2     True\n",
       "3    False\n",
       "dtype: bool"
      ]
     },
     "execution_count": 387,
     "metadata": {},
     "output_type": "execute_result"
    }
   ],
   "source": [
    "s1 != s2"
   ]
  },
  {
   "cell_type": "code",
   "execution_count": 388,
   "id": "6c93452f-29f1-467c-b5f8-a0ac78cf0454",
   "metadata": {},
   "outputs": [
    {
     "data": {
      "text/plain": [
       "0     True\n",
       "1    False\n",
       "2     True\n",
       "3    False\n",
       "dtype: bool"
      ]
     },
     "execution_count": 388,
     "metadata": {},
     "output_type": "execute_result"
    }
   ],
   "source": [
    "s1.ne(s2)"
   ]
  },
  {
   "cell_type": "code",
   "execution_count": 389,
   "id": "450e4e66-3e9a-4225-8bfa-8d4294e6ac9c",
   "metadata": {},
   "outputs": [],
   "source": [
    "s1 =pd.Series(\n",
    "    data = [5, 10, 15], index = [\"A\", \"B\", \"C\"])"
   ]
  },
  {
   "cell_type": "code",
   "execution_count": 390,
   "id": "51ef1f08-148b-4634-97f3-a5fed5be08ec",
   "metadata": {},
   "outputs": [],
   "source": [
    "s2 = pd.Series(\n",
    "    data = [4, 8, 12, 14], index = [\"B\", \"C\", \"D\", \"E\"]) #91Page"
   ]
  },
  {
   "cell_type": "code",
   "execution_count": 391,
   "id": "3262bbe1-52bd-4877-bed4-53cdf688cd72",
   "metadata": {},
   "outputs": [
    {
     "data": {
      "text/plain": [
       "A     NaN\n",
       "B    14.0\n",
       "C    23.0\n",
       "D     NaN\n",
       "E     NaN\n",
       "dtype: float64"
      ]
     },
     "execution_count": 391,
     "metadata": {},
     "output_type": "execute_result"
    }
   ],
   "source": [
    "s1+s2 #판다스는 두 Series에서 공유 인덱스 레이블을 나란히 놓고 필요한 경우 NaN을 넣어 데이터를 나열."
   ]
  },
  {
   "cell_type": "markdown",
   "id": "61767dd1-5c64-48d8-939f-a356be9b3afe",
   "metadata": {},
   "source": [
    "2.6 Series를 파이썬의 내장 함수에 전달"
   ]
  },
  {
   "cell_type": "code",
   "execution_count": 392,
   "id": "d2a9f83d-3113-442e-954a-cc3d1897e2a6",
   "metadata": {},
   "outputs": [],
   "source": [
    "cities = pd.Series(\n",
    "    data = [\"San Francisco\", \"Los Angeles\", \"Las Vegas\", np.nan])"
   ]
  },
  {
   "cell_type": "code",
   "execution_count": 393,
   "id": "ed9b415a-ede7-465a-8c5e-293561f1e56b",
   "metadata": {},
   "outputs": [
    {
     "data": {
      "text/plain": [
       "4"
      ]
     },
     "execution_count": 393,
     "metadata": {},
     "output_type": "execute_result"
    }
   ],
   "source": [
    "len(cities)"
   ]
  },
  {
   "cell_type": "code",
   "execution_count": 394,
   "id": "c7f5fa64-a671-4604-9b99-4945f2f4d176",
   "metadata": {},
   "outputs": [
    {
     "data": {
      "text/plain": [
       "pandas.core.series.Series"
      ]
     },
     "execution_count": 394,
     "metadata": {},
     "output_type": "execute_result"
    }
   ],
   "source": [
    "type(cities)"
   ]
  },
  {
   "cell_type": "code",
   "execution_count": 395,
   "id": "a3adb031-86ed-4c42-90ef-debf45bde3fa",
   "metadata": {},
   "outputs": [
    {
     "data": {
      "text/plain": [
       "['T',\n",
       " '_AXIS_LEN',\n",
       " '_AXIS_ORDERS',\n",
       " '_AXIS_TO_AXIS_NUMBER',\n",
       " '_HANDLED_TYPES',\n",
       " '__abs__',\n",
       " '__add__',\n",
       " '__and__',\n",
       " '__annotations__',\n",
       " '__array__',\n",
       " '__array_priority__',\n",
       " '__array_ufunc__',\n",
       " '__bool__',\n",
       " '__class__',\n",
       " '__contains__',\n",
       " '__copy__',\n",
       " '__deepcopy__',\n",
       " '__delattr__',\n",
       " '__delitem__',\n",
       " '__dict__',\n",
       " '__dir__',\n",
       " '__divmod__',\n",
       " '__doc__',\n",
       " '__eq__',\n",
       " '__finalize__',\n",
       " '__float__',\n",
       " '__floordiv__',\n",
       " '__format__',\n",
       " '__ge__',\n",
       " '__getattr__',\n",
       " '__getattribute__',\n",
       " '__getitem__',\n",
       " '__getstate__',\n",
       " '__gt__',\n",
       " '__hash__',\n",
       " '__iadd__',\n",
       " '__iand__',\n",
       " '__ifloordiv__',\n",
       " '__imod__',\n",
       " '__imul__',\n",
       " '__init__',\n",
       " '__init_subclass__',\n",
       " '__int__',\n",
       " '__invert__',\n",
       " '__ior__',\n",
       " '__ipow__',\n",
       " '__isub__',\n",
       " '__iter__',\n",
       " '__itruediv__',\n",
       " '__ixor__',\n",
       " '__le__',\n",
       " '__len__',\n",
       " '__lt__',\n",
       " '__matmul__',\n",
       " '__mod__',\n",
       " '__module__',\n",
       " '__mul__',\n",
       " '__ne__',\n",
       " '__neg__',\n",
       " '__new__',\n",
       " '__nonzero__',\n",
       " '__or__',\n",
       " '__pos__',\n",
       " '__pow__',\n",
       " '__radd__',\n",
       " '__rand__',\n",
       " '__rdivmod__',\n",
       " '__reduce__',\n",
       " '__reduce_ex__',\n",
       " '__repr__',\n",
       " '__rfloordiv__',\n",
       " '__rmatmul__',\n",
       " '__rmod__',\n",
       " '__rmul__',\n",
       " '__ror__',\n",
       " '__round__',\n",
       " '__rpow__',\n",
       " '__rsub__',\n",
       " '__rtruediv__',\n",
       " '__rxor__',\n",
       " '__setattr__',\n",
       " '__setitem__',\n",
       " '__setstate__',\n",
       " '__sizeof__',\n",
       " '__str__',\n",
       " '__sub__',\n",
       " '__subclasshook__',\n",
       " '__truediv__',\n",
       " '__weakref__',\n",
       " '__xor__',\n",
       " '_accessors',\n",
       " '_accum_func',\n",
       " '_add_numeric_operations',\n",
       " '_agg_examples_doc',\n",
       " '_agg_see_also_doc',\n",
       " '_align_frame',\n",
       " '_align_series',\n",
       " '_append',\n",
       " '_arith_method',\n",
       " '_as_manager',\n",
       " '_attrs',\n",
       " '_binop',\n",
       " '_can_hold_na',\n",
       " '_check_inplace_and_allows_duplicate_labels',\n",
       " '_check_inplace_setting',\n",
       " '_check_is_chained_assignment_possible',\n",
       " '_check_label_or_level_ambiguity',\n",
       " '_check_setitem_copy',\n",
       " '_clear_item_cache',\n",
       " '_clip_with_one_bound',\n",
       " '_clip_with_scalar',\n",
       " '_cmp_method',\n",
       " '_consolidate',\n",
       " '_consolidate_inplace',\n",
       " '_construct_axes_dict',\n",
       " '_construct_result',\n",
       " '_constructor',\n",
       " '_constructor_expanddim',\n",
       " '_convert_dtypes',\n",
       " '_data',\n",
       " '_dir_additions',\n",
       " '_dir_deletions',\n",
       " '_drop_axis',\n",
       " '_drop_labels_or_levels',\n",
       " '_duplicated',\n",
       " '_find_valid_index',\n",
       " '_flags',\n",
       " '_get_axis',\n",
       " '_get_axis_name',\n",
       " '_get_axis_number',\n",
       " '_get_axis_resolvers',\n",
       " '_get_block_manager_axis',\n",
       " '_get_bool_data',\n",
       " '_get_cacher',\n",
       " '_get_cleaned_column_resolvers',\n",
       " '_get_index_resolvers',\n",
       " '_get_label_or_level_values',\n",
       " '_get_numeric_data',\n",
       " '_get_value',\n",
       " '_get_values',\n",
       " '_get_values_tuple',\n",
       " '_get_with',\n",
       " '_gotitem',\n",
       " '_hidden_attrs',\n",
       " '_indexed_same',\n",
       " '_info_axis',\n",
       " '_info_axis_name',\n",
       " '_info_axis_number',\n",
       " '_init_dict',\n",
       " '_init_mgr',\n",
       " '_inplace_method',\n",
       " '_internal_names',\n",
       " '_internal_names_set',\n",
       " '_is_cached',\n",
       " '_is_copy',\n",
       " '_is_label_or_level_reference',\n",
       " '_is_label_reference',\n",
       " '_is_level_reference',\n",
       " '_is_mixed_type',\n",
       " '_is_view',\n",
       " '_item_cache',\n",
       " '_ixs',\n",
       " '_logical_func',\n",
       " '_logical_method',\n",
       " '_map_values',\n",
       " '_maybe_update_cacher',\n",
       " '_memory_usage',\n",
       " '_metadata',\n",
       " '_mgr',\n",
       " '_min_count_stat_function',\n",
       " '_name',\n",
       " '_needs_reindex_multi',\n",
       " '_protect_consolidate',\n",
       " '_reduce',\n",
       " '_references',\n",
       " '_reindex_axes',\n",
       " '_reindex_indexer',\n",
       " '_reindex_multi',\n",
       " '_reindex_with_indexers',\n",
       " '_rename',\n",
       " '_replace_single',\n",
       " '_repr_data_resource_',\n",
       " '_repr_latex_',\n",
       " '_reset_cache',\n",
       " '_reset_cacher',\n",
       " '_set_as_cached',\n",
       " '_set_axis',\n",
       " '_set_axis_name',\n",
       " '_set_axis_nocheck',\n",
       " '_set_is_copy',\n",
       " '_set_labels',\n",
       " '_set_name',\n",
       " '_set_value',\n",
       " '_set_values',\n",
       " '_set_with',\n",
       " '_set_with_engine',\n",
       " '_slice',\n",
       " '_stat_axis',\n",
       " '_stat_axis_name',\n",
       " '_stat_axis_number',\n",
       " '_stat_function',\n",
       " '_stat_function_ddof',\n",
       " '_take',\n",
       " '_take_with_is_copy',\n",
       " '_to_latex_via_styler',\n",
       " '_typ',\n",
       " '_update_inplace',\n",
       " '_validate_dtype',\n",
       " '_values',\n",
       " '_where',\n",
       " 'abs',\n",
       " 'add',\n",
       " 'add_prefix',\n",
       " 'add_suffix',\n",
       " 'agg',\n",
       " 'aggregate',\n",
       " 'align',\n",
       " 'all',\n",
       " 'any',\n",
       " 'apply',\n",
       " 'argmax',\n",
       " 'argmin',\n",
       " 'argsort',\n",
       " 'array',\n",
       " 'asfreq',\n",
       " 'asof',\n",
       " 'astype',\n",
       " 'at',\n",
       " 'at_time',\n",
       " 'attrs',\n",
       " 'autocorr',\n",
       " 'axes',\n",
       " 'backfill',\n",
       " 'between',\n",
       " 'between_time',\n",
       " 'bfill',\n",
       " 'bool',\n",
       " 'clip',\n",
       " 'combine',\n",
       " 'combine_first',\n",
       " 'compare',\n",
       " 'convert_dtypes',\n",
       " 'copy',\n",
       " 'corr',\n",
       " 'count',\n",
       " 'cov',\n",
       " 'cummax',\n",
       " 'cummin',\n",
       " 'cumprod',\n",
       " 'cumsum',\n",
       " 'describe',\n",
       " 'diff',\n",
       " 'div',\n",
       " 'divide',\n",
       " 'divmod',\n",
       " 'dot',\n",
       " 'drop',\n",
       " 'drop_duplicates',\n",
       " 'droplevel',\n",
       " 'dropna',\n",
       " 'dtype',\n",
       " 'dtypes',\n",
       " 'duplicated',\n",
       " 'empty',\n",
       " 'eq',\n",
       " 'equals',\n",
       " 'ewm',\n",
       " 'expanding',\n",
       " 'explode',\n",
       " 'factorize',\n",
       " 'ffill',\n",
       " 'fillna',\n",
       " 'filter',\n",
       " 'first',\n",
       " 'first_valid_index',\n",
       " 'flags',\n",
       " 'floordiv',\n",
       " 'ge',\n",
       " 'get',\n",
       " 'groupby',\n",
       " 'gt',\n",
       " 'hasnans',\n",
       " 'head',\n",
       " 'hist',\n",
       " 'iat',\n",
       " 'idxmax',\n",
       " 'idxmin',\n",
       " 'iloc',\n",
       " 'index',\n",
       " 'infer_objects',\n",
       " 'info',\n",
       " 'interpolate',\n",
       " 'is_monotonic_decreasing',\n",
       " 'is_monotonic_increasing',\n",
       " 'is_unique',\n",
       " 'isin',\n",
       " 'isna',\n",
       " 'isnull',\n",
       " 'item',\n",
       " 'items',\n",
       " 'keys',\n",
       " 'kurt',\n",
       " 'kurtosis',\n",
       " 'last',\n",
       " 'last_valid_index',\n",
       " 'le',\n",
       " 'loc',\n",
       " 'lt',\n",
       " 'map',\n",
       " 'mask',\n",
       " 'max',\n",
       " 'mean',\n",
       " 'median',\n",
       " 'memory_usage',\n",
       " 'min',\n",
       " 'mod',\n",
       " 'mode',\n",
       " 'mul',\n",
       " 'multiply',\n",
       " 'name',\n",
       " 'nbytes',\n",
       " 'ndim',\n",
       " 'ne',\n",
       " 'nlargest',\n",
       " 'notna',\n",
       " 'notnull',\n",
       " 'nsmallest',\n",
       " 'nunique',\n",
       " 'pad',\n",
       " 'pct_change',\n",
       " 'pipe',\n",
       " 'plot',\n",
       " 'pop',\n",
       " 'pow',\n",
       " 'prod',\n",
       " 'product',\n",
       " 'quantile',\n",
       " 'radd',\n",
       " 'rank',\n",
       " 'ravel',\n",
       " 'rdiv',\n",
       " 'rdivmod',\n",
       " 'reindex',\n",
       " 'reindex_like',\n",
       " 'rename',\n",
       " 'rename_axis',\n",
       " 'reorder_levels',\n",
       " 'repeat',\n",
       " 'replace',\n",
       " 'resample',\n",
       " 'reset_index',\n",
       " 'rfloordiv',\n",
       " 'rmod',\n",
       " 'rmul',\n",
       " 'rolling',\n",
       " 'round',\n",
       " 'rpow',\n",
       " 'rsub',\n",
       " 'rtruediv',\n",
       " 'sample',\n",
       " 'searchsorted',\n",
       " 'sem',\n",
       " 'set_axis',\n",
       " 'set_flags',\n",
       " 'shape',\n",
       " 'shift',\n",
       " 'size',\n",
       " 'skew',\n",
       " 'sort_index',\n",
       " 'sort_values',\n",
       " 'squeeze',\n",
       " 'std',\n",
       " 'str',\n",
       " 'sub',\n",
       " 'subtract',\n",
       " 'sum',\n",
       " 'swapaxes',\n",
       " 'swaplevel',\n",
       " 'tail',\n",
       " 'take',\n",
       " 'to_clipboard',\n",
       " 'to_csv',\n",
       " 'to_dict',\n",
       " 'to_excel',\n",
       " 'to_frame',\n",
       " 'to_hdf',\n",
       " 'to_json',\n",
       " 'to_latex',\n",
       " 'to_list',\n",
       " 'to_markdown',\n",
       " 'to_numpy',\n",
       " 'to_period',\n",
       " 'to_pickle',\n",
       " 'to_sql',\n",
       " 'to_string',\n",
       " 'to_timestamp',\n",
       " 'to_xarray',\n",
       " 'transform',\n",
       " 'transpose',\n",
       " 'truediv',\n",
       " 'truncate',\n",
       " 'tz_convert',\n",
       " 'tz_localize',\n",
       " 'unique',\n",
       " 'unstack',\n",
       " 'update',\n",
       " 'value_counts',\n",
       " 'values',\n",
       " 'var',\n",
       " 'view',\n",
       " 'where',\n",
       " 'xs']"
      ]
     },
     "execution_count": 395,
     "metadata": {},
     "output_type": "execute_result"
    }
   ],
   "source": [
    "dir(cities) #객체의 속성과 메서드를 문자열로 리스트에 담아 반환."
   ]
  },
  {
   "cell_type": "code",
   "execution_count": 396,
   "id": "70bfc869-fec1-42f5-8022-ff07712919a0",
   "metadata": {},
   "outputs": [
    {
     "data": {
      "text/plain": [
       "['San Francisco', 'Los Angeles', 'Las Vegas', nan]"
      ]
     },
     "execution_count": 396,
     "metadata": {},
     "output_type": "execute_result"
    }
   ],
   "source": [
    "list(cities)"
   ]
  },
  {
   "cell_type": "code",
   "execution_count": 397,
   "id": "f2b8587a-8537-4ab4-94da-f850c61080fb",
   "metadata": {},
   "outputs": [
    {
     "data": {
      "text/plain": [
       "{0: 'San Francisco', 1: 'Los Angeles', 2: 'Las Vegas', 3: nan}"
      ]
     },
     "execution_count": 397,
     "metadata": {},
     "output_type": "execute_result"
    }
   ],
   "source": [
    "dict(cities)"
   ]
  },
  {
   "cell_type": "code",
   "execution_count": 398,
   "id": "15343fcc-5bee-4257-afd0-8616409e55a1",
   "metadata": {},
   "outputs": [
    {
     "data": {
      "text/plain": [
       "0    San Francisco\n",
       "1      Los Angeles\n",
       "2        Las Vegas\n",
       "3              NaN\n",
       "dtype: object"
      ]
     },
     "execution_count": 398,
     "metadata": {},
     "output_type": "execute_result"
    }
   ],
   "source": [
    "cities"
   ]
  },
  {
   "cell_type": "code",
   "execution_count": 399,
   "id": "10ed3770-3a59-44bf-971c-3e13dfab261e",
   "metadata": {},
   "outputs": [
    {
     "data": {
      "text/plain": [
       "False"
      ]
     },
     "execution_count": 399,
     "metadata": {},
     "output_type": "execute_result"
    }
   ],
   "source": [
    "\"Las Vegas\" in cities"
   ]
  },
  {
   "cell_type": "code",
   "execution_count": 400,
   "id": "1bf666d9-9649-4cf9-926c-8ebc4ae31cf2",
   "metadata": {},
   "outputs": [
    {
     "data": {
      "text/plain": [
       "True"
      ]
     },
     "execution_count": 400,
     "metadata": {},
     "output_type": "execute_result"
    }
   ],
   "source": [
    "2 in cities"
   ]
  },
  {
   "cell_type": "code",
   "execution_count": 401,
   "id": "102f14b6-a79a-4dae-9eb8-d83a13b9ea9d",
   "metadata": {},
   "outputs": [
    {
     "data": {
      "text/plain": [
       "True"
      ]
     },
     "execution_count": 401,
     "metadata": {},
     "output_type": "execute_result"
    }
   ],
   "source": [
    "\"Las Vegas\" in cities.values"
   ]
  },
  {
   "cell_type": "code",
   "execution_count": 402,
   "id": "d71ba481-a389-4373-93f1-0526d49f278c",
   "metadata": {},
   "outputs": [
    {
     "data": {
      "text/plain": [
       "True"
      ]
     },
     "execution_count": 402,
     "metadata": {},
     "output_type": "execute_result"
    }
   ],
   "source": [
    "100 not in cities"
   ]
  },
  {
   "cell_type": "code",
   "execution_count": 403,
   "id": "fcbfa889-22c1-47a0-a760-83b10c3eabdb",
   "metadata": {},
   "outputs": [
    {
     "data": {
      "text/plain": [
       "True"
      ]
     },
     "execution_count": 403,
     "metadata": {},
     "output_type": "execute_result"
    }
   ],
   "source": [
    "\"Paris\" not in cities.values"
   ]
  },
  {
   "cell_type": "markdown",
   "id": "70f4fe8f-4555-4e02-b34f-81bba39cc1d5",
   "metadata": {},
   "source": [
    "# 2.7 코딩 챌린지"
   ]
  },
  {
   "cell_type": "code",
   "execution_count": 404,
   "id": "5360bad5-3bbf-4b3f-b524-9bbd3758b597",
   "metadata": {},
   "outputs": [],
   "source": [
    "superheroes = [\n",
    "    \"Batman\",\n",
    "    \"Superman\", \n",
    "    \"Spider-Man\",\n",
    "    \"Iron Man\",\n",
    "    \"Captain America\",\n",
    "    \"Wonder Woman\"]"
   ]
  },
  {
   "cell_type": "code",
   "execution_count": 405,
   "id": "fc728e36-d5b1-411a-a920-084710f7bd7b",
   "metadata": {},
   "outputs": [],
   "source": [
    "strength_levels = (100, 120, 90, 95, 110, 120)"
   ]
  },
  {
   "cell_type": "markdown",
   "id": "9bc60190-150c-486e-951c-b779197b9064",
   "metadata": {},
   "source": [
    "1. 슈퍼 히어로 리스트를 사용하여 새 Series 객체의 값을 채우세요."
   ]
  },
  {
   "cell_type": "code",
   "execution_count": 406,
   "id": "ed12b1be-3b50-4c5f-bab6-e89af558a8c7",
   "metadata": {},
   "outputs": [
    {
     "data": {
      "text/plain": [
       "0             Batman\n",
       "1           Superman\n",
       "2         Spider-Man\n",
       "3           Iron Man\n",
       "4    Captain America\n",
       "5       Wonder Woman\n",
       "dtype: object"
      ]
     },
     "execution_count": 406,
     "metadata": {},
     "output_type": "execute_result"
    }
   ],
   "source": [
    "pd.Series(superheroes)"
   ]
  },
  {
   "cell_type": "markdown",
   "id": "32c8d1ff-6c98-46ea-b150-29f0bc666b2d",
   "metadata": {},
   "source": [
    "2. 능력치 튜플을 사용하여 새 Series 객체의 값을 채우세요."
   ]
  },
  {
   "cell_type": "code",
   "execution_count": null,
   "id": "5dd7c9df-2c5b-4188-b815-3f4636cd3c66",
   "metadata": {},
   "outputs": [],
   "source": [
    "pd.Series(strength_levels)"
   ]
  },
  {
   "cell_type": "code",
   "execution_count": null,
   "id": "a0258f0f-8711-4d47-8c6b-8026c9c86f35",
   "metadata": {},
   "outputs": [],
   "source": [
    "3. 슈퍼 히어로 리스트를 인덱스, 능력치 튜플을 값으로 사용하여 새 Series를 생성하세요. heroes 변수에 Series를 할당하세요."
   ]
  },
  {
   "cell_type": "code",
   "execution_count": null,
   "id": "c8f16edb-35bb-40a0-bfd2-7ee9c31f97a7",
   "metadata": {},
   "outputs": [],
   "source": [
    "heroes = pd.Series(index = superheroes, data = strength_levels)"
   ]
  },
  {
   "cell_type": "markdown",
   "id": "2245a27d-379b-49e5-8e89-49bef2fbac0e",
   "metadata": {},
   "source": [
    "4. heroes Series의 처음 2개 행을 추출하세요."
   ]
  },
  {
   "cell_type": "code",
   "execution_count": null,
   "id": "4560c5da-dff6-4416-a199-13370b0ab059",
   "metadata": {},
   "outputs": [],
   "source": [
    "heroes.head(2)"
   ]
  },
  {
   "cell_type": "markdown",
   "id": "a43d7c2f-e137-44cd-af63-d47ae81f13a9",
   "metadata": {},
   "source": [
    "5. heroes Series의 마지막 4개 행을 추출하세요."
   ]
  },
  {
   "cell_type": "code",
   "execution_count": null,
   "id": "eff95a40-3ee7-43da-99b5-4af4b9002a29",
   "metadata": {},
   "outputs": [],
   "source": [
    "heroes.tail(4)"
   ]
  },
  {
   "cell_type": "markdown",
   "id": "2bb21637-60a9-4298-8f89-be5140ce879e",
   "metadata": {},
   "source": [
    "6. heroes Series에 있는 고유한 값의 개수를 구하세요."
   ]
  },
  {
   "cell_type": "code",
   "execution_count": null,
   "id": "b2c628b2-b33b-4d99-b852-1b5518028431",
   "metadata": {},
   "outputs": [],
   "source": [
    "heroes.size"
   ]
  },
  {
   "cell_type": "markdown",
   "id": "00cd1df4-df90-4cce-85b1-7fc4206d01ff",
   "metadata": {},
   "source": [
    "7. heroes Series에 있는 슈퍼 히어로의 평균 능력치를 구하세요."
   ]
  },
  {
   "cell_type": "code",
   "execution_count": null,
   "id": "adc763e5-9caf-4a40-b166-b8cd8e330729",
   "metadata": {},
   "outputs": [],
   "source": [
    "heroes.mean()"
   ]
  },
  {
   "cell_type": "markdown",
   "id": "45b0fd54-1427-4ed6-9c30-7728b0a54df9",
   "metadata": {},
   "source": [
    "7. heroes Series에 있는 슈퍼 히어로의 최소/최대 능력치를 구하세요."
   ]
  },
  {
   "cell_type": "code",
   "execution_count": null,
   "id": "dc27c184-9d2c-4896-8bc6-4e8c03293a31",
   "metadata": {},
   "outputs": [],
   "source": [
    "max(heroes), min(heroes)"
   ]
  },
  {
   "cell_type": "markdown",
   "id": "8dc55757-73c7-414d-a2c0-7cec895b62ac",
   "metadata": {},
   "source": [
    "8. 능력치가 2배가 되면 각 슈퍼 히어로의 능력치는 얼마인지 구하세요."
   ]
  },
  {
   "cell_type": "code",
   "execution_count": null,
   "id": "cc0dd874-392a-4eb3-897c-86d5b94a7fd0",
   "metadata": {},
   "outputs": [],
   "source": [
    "heroes*2"
   ]
  },
  {
   "cell_type": "markdown",
   "id": "2bc5bb1d-708b-4e60-82ae-449ce2fd29b1",
   "metadata": {},
   "source": [
    "9. heroes Series를 파이썬 딕셔너리로 변환하세요."
   ]
  },
  {
   "cell_type": "code",
   "execution_count": null,
   "id": "09603f27-a9d6-4d05-bcb8-6370997e1df3",
   "metadata": {},
   "outputs": [],
   "source": [
    "dict(heroes)"
   ]
  },
  {
   "cell_type": "code",
   "execution_count": null,
   "id": "d18e5638-3d37-4f6a-af3a-6f2ff1e3c582",
   "metadata": {},
   "outputs": [],
   "source": []
  }
 ],
 "metadata": {
  "kernelspec": {
   "display_name": "Python 3 (ipykernel)",
   "language": "python",
   "name": "python3"
  },
  "language_info": {
   "codemirror_mode": {
    "name": "ipython",
    "version": 3
   },
   "file_extension": ".py",
   "mimetype": "text/x-python",
   "name": "python",
   "nbconvert_exporter": "python",
   "pygments_lexer": "ipython3",
   "version": "3.8.18"
  }
 },
 "nbformat": 4,
 "nbformat_minor": 5
}
