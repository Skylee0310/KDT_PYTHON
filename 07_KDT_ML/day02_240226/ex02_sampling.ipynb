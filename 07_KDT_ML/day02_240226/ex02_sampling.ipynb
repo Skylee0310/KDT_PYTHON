{
 "cells": [
  {
   "cell_type": "markdown",
   "metadata": {},
   "source": [
    "### 표본추출/샘플링\n",
    "- 전체 데이터에서 일부 데이터를 추출\n",
    "- pandas.DataFrame.sample() 메서드\n",
    "- 복원 추출 -> 추출된 데이터를 다시 추가해서 추출하는 방식\n",
    "- 비복원 추출 : 추출된 데이터를 제거 후 남은 데이터에서 추출하는 방식"
   ]
  },
  {
   "cell_type": "code",
   "execution_count": 1,
   "metadata": {},
   "outputs": [],
   "source": [
    "import pandas as pd"
   ]
  },
  {
   "cell_type": "code",
   "execution_count": 3,
   "metadata": {},
   "outputs": [
    {
     "data": {
      "text/html": [
       "<div>\n",
       "<style scoped>\n",
       "    .dataframe tbody tr th:only-of-type {\n",
       "        vertical-align: middle;\n",
       "    }\n",
       "\n",
       "    .dataframe tbody tr th {\n",
       "        vertical-align: top;\n",
       "    }\n",
       "\n",
       "    .dataframe thead th {\n",
       "        text-align: right;\n",
       "    }\n",
       "</style>\n",
       "<table border=\"1\" class=\"dataframe\">\n",
       "  <thead>\n",
       "    <tr style=\"text-align: right;\">\n",
       "      <th></th>\n",
       "      <th>kor</th>\n",
       "      <th>math</th>\n",
       "      <th>eng</th>\n",
       "    </tr>\n",
       "  </thead>\n",
       "  <tbody>\n",
       "    <tr>\n",
       "      <th>0</th>\n",
       "      <td>10</td>\n",
       "      <td>11</td>\n",
       "      <td>111</td>\n",
       "    </tr>\n",
       "    <tr>\n",
       "      <th>1</th>\n",
       "      <td>20</td>\n",
       "      <td>22</td>\n",
       "      <td>222</td>\n",
       "    </tr>\n",
       "    <tr>\n",
       "      <th>2</th>\n",
       "      <td>30</td>\n",
       "      <td>33</td>\n",
       "      <td>333</td>\n",
       "    </tr>\n",
       "  </tbody>\n",
       "</table>\n",
       "</div>"
      ],
      "text/plain": [
       "   kor  math  eng\n",
       "0   10    11  111\n",
       "1   20    22  222\n",
       "2   30    33  333"
      ]
     },
     "execution_count": 3,
     "metadata": {},
     "output_type": "execute_result"
    }
   ],
   "source": [
    "# 임의의 데이터 생성\n",
    "dataDF = pd.DataFrame({'kor':[10,20,30],\n",
    "                        'math':[11,22,33],\n",
    "                        'eng':[111,222,333]})\n",
    "dataDF"
   ]
  },
  {
   "cell_type": "code",
   "execution_count": 14,
   "metadata": {},
   "outputs": [
    {
     "name": "stdout",
     "output_type": "stream",
     "text": [
      "[1번]\n",
      "   kor  math  eng\n",
      "1   20    22  222\n",
      "2   30    33  333\n",
      "0   10    11  111\n",
      "[2번]\n",
      "   kor  math  eng\n",
      "1   20    22  222\n",
      "0   10    11  111\n",
      "2   30    33  333\n",
      "[3번]\n",
      "   kor  math  eng\n",
      "0   10    11  111\n",
      "1   20    22  222\n",
      "2   30    33  333\n",
      "[4번]\n",
      "   kor  math  eng\n",
      "1   20    22  222\n",
      "0   10    11  111\n",
      "2   30    33  333\n",
      "[5번]\n",
      "   kor  math  eng\n",
      "2   30    33  333\n",
      "1   20    22  222\n",
      "0   10    11  111\n"
     ]
    }
   ],
   "source": [
    "# 1 개의 샘플/표본 데이터 추출 => [기본, 비복원] ▶ 전체 데이터 수 초과 X / [설정] 복원 ▶ 매개변수 True 설정.\n",
    "# 추출 기준 축(axis)로 설정.\n",
    "for cnt in range(1,6) : \n",
    "    print(f'[{cnt}번]')\n",
    "    print(dataDF.sample(n=3)) # 중복 상관 없이 5번 뽑아서 출력.\n",
    "    #print(dataDF.sample(n=2, axis ='columns')) # 중복 상관 없이 컬럼 2개씩 추출 * 5\n",
    "    #print(dataDF.sample(n=4, axis ='columns')) # 중복 상관 없이 컬럼 2개씩 추출 * 5 ▶ 전체 데이터 수 초과 不可\n"
   ]
  },
  {
   "cell_type": "code",
   "execution_count": null,
   "metadata": {},
   "outputs": [],
   "source": [
    "# 1 개의 샘플/표본 데이터 추출 => [기본, 비복원] ▶ 전체 데이터 수 초과 X / [설정] 복원 ▶ 매개변수 True 설정.\n",
    "# 추출 기준 축(axis)로 설정.\n",
    "for cnt in range(1,6) : \n",
    "    print(f'[{cnt}번]')\n",
    "    #print(dataDF.sample(n=2) # 중복 상관 없이 5번 뽑아서 출력.\n",
    "    print(dataDF.sample(n=2, axis ='columns')) # 중복 상관 없이 컬럼 2개씩 추출 * 5\n",
    "\n",
    "\n",
    "\n",
    "    #print(dataDF.sample(n=4, axis ='columns')) # 중복 상관 없이 컬럼 2개씩 추출 * 5 ▶ 전체 데이터 수 초과 不可\n"
   ]
  },
  {
   "cell_type": "code",
   "execution_count": null,
   "metadata": {},
   "outputs": [],
   "source": []
  }
 ],
 "metadata": {
  "kernelspec": {
   "display_name": "EXAM_ML",
   "language": "python",
   "name": "python3"
  },
  "language_info": {
   "codemirror_mode": {
    "name": "ipython",
    "version": 3
   },
   "file_extension": ".py",
   "mimetype": "text/x-python",
   "name": "python",
   "nbconvert_exporter": "python",
   "pygments_lexer": "ipython3",
   "version": "3.9.18"
  }
 },
 "nbformat": 4,
 "nbformat_minor": 2
}
