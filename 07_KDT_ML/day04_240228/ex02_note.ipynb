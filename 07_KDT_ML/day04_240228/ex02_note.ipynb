{
 "cells": [
  {
   "cell_type": "markdown",
   "metadata": {},
   "source": [
    "### 목표 : 다중 속성/피처를 기반으로 수치값 예측\n",
    "-  데이터 : fish.csv\n",
    "- 피    처 : 4개 Length, Diagonal, Height, Width\n",
    "- 타    겟 : 수치값 Weight\n",
    "- 학습 유형 : 지도 학습 + 회귀\n",
    "- 알고리즘 : 데이터 확인 후 결정"
   ]
  },
  {
   "cell_type": "markdown",
   "metadata": {},
   "source": [
    "### 1. 모듈 로딩 및 데이터 준비\n",
    "1) 모듈\n",
    "- pandas, numpy, matplotlib.pyplot as plt"
   ]
  }
 ],
 "metadata": {
  "kernelspec": {
   "display_name": "EXAM_ML",
   "language": "python",
   "name": "python3"
  },
  "language_info": {
   "name": "python",
   "version": "3.9.18"
  }
 },
 "nbformat": 4,
 "nbformat_minor": 2
}
