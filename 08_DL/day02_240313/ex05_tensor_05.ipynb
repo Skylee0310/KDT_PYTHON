{
 "cells": [
  {
   "cell_type": "markdown",
   "metadata": {},
   "source": [
    "### 텐서 연결 & 결합"
   ]
  },
  {
   "cell_type": "code",
   "execution_count": 1,
   "metadata": {},
   "outputs": [],
   "source": [
    "# 모듈 로딩\n",
    "import torch"
   ]
  },
  {
   "cell_type": "code",
   "execution_count": 20,
   "metadata": {},
   "outputs": [],
   "source": [
    "# 텐서 데이터 생성 \n",
    "torch.manual_seed(12)\n",
    "\n",
    "# 임의의 0.<=~<1. 실수\n",
    "x=torch.rand(2,10)\n",
    "\n",
    "# 임의의 정수 : low<= ~ < high\n",
    "y=torch.randint(0,2, (10,))\n",
    "y2=torch.randint(0,2, (2, 10))"
   ]
  },
  {
   "cell_type": "code",
   "execution_count": 21,
   "metadata": {},
   "outputs": [
    {
     "name": "stdout",
     "output_type": "stream",
     "text": [
      "tensor([[1, 1, 0, 1, 1, 0, 0, 0, 0, 0],\n",
      "        [0, 0, 1, 1, 1, 1, 0, 0, 0, 0]])\n",
      "tensor([[0.4657, 0.2328, 0.4527, 0.5871, 0.4086, 0.1272, 0.6373, 0.2421, 0.7312,\n",
      "         0.7224],\n",
      "        [0.1992, 0.6948, 0.5830, 0.6318, 0.5559, 0.1262, 0.9790, 0.8443, 0.1256,\n",
      "         0.4456]])\n"
     ]
    }
   ],
   "source": [
    "print(y2)\n",
    "print(x)"
   ]
  },
  {
   "cell_type": "code",
   "execution_count": 18,
   "metadata": {},
   "outputs": [
    {
     "name": "stdout",
     "output_type": "stream",
     "text": [
      "x=> torch.Size([2, 10]), 2D\n",
      "y=> torch.Size([10]), 1D\n",
      "y=> torch.Size([2, 10]), 2D\n"
     ]
    }
   ],
   "source": [
    "print(f'x=> {x.shape}, {x.ndim}D') \n",
    "print(f'y=> {y.shape}, {y.ndim}D') \n",
    "print(f'y=> {y2.shape}, {y2.ndim}D') "
   ]
  },
  {
   "cell_type": "code",
   "execution_count": 26,
   "metadata": {},
   "outputs": [
    {
     "name": "stdout",
     "output_type": "stream",
     "text": [
      "xy1=>torch.Size([4, 10]), 2D\n"
     ]
    }
   ],
   "source": [
    "# tensor 연결 cat([텐서1, 텐서2 ...])\n",
    "xy1 = torch.cat([x, y2], dim=0) \n",
    "print(f'xy1=>{xy1.shape}, {xy1.ndim}D')\n"
   ]
  },
  {
   "cell_type": "code",
   "execution_count": 27,
   "metadata": {},
   "outputs": [
    {
     "data": {
      "text/plain": [
       "torch.return_types.max(\n",
       "values=tensor([1.0000, 1.0000, 1.0000, 1.0000, 1.0000, 1.0000, 0.9790, 0.8443, 0.7312,\n",
       "        0.7224]),\n",
       "indices=tensor([2, 2, 3, 2, 2, 3, 1, 1, 0, 0]))"
      ]
     },
     "execution_count": 27,
     "metadata": {},
     "output_type": "execute_result"
    }
   ],
   "source": [
    "xy1.max(dim=0)"
   ]
  },
  {
   "cell_type": "code",
   "execution_count": 37,
   "metadata": {},
   "outputs": [
    {
     "data": {
      "text/plain": [
       "(tensor([0.7312, 0.9790, 1.0000, 1.0000]), tensor([8, 6, 0, 2]))"
      ]
     },
     "execution_count": 37,
     "metadata": {},
     "output_type": "execute_result"
    }
   ],
   "source": [
    "# 행 단위의 최댓값 및 최댓값의 인덱스\n",
    "maxValue = xy1.max(dim=1)[0] # 최댓값\n",
    "maxIndex = xy1.max(dim=1)[1] # 최댓값의 인덱스\n",
    "maxValue, maxIndex"
   ]
  },
  {
   "cell_type": "code",
   "execution_count": 39,
   "metadata": {},
   "outputs": [
    {
     "data": {
      "text/plain": [
       "(tensor([1.0000, 1.0000, 1.0000, 1.0000, 1.0000, 1.0000, 0.9790, 0.8443, 0.7312,\n",
       "         0.7224]),\n",
       " tensor([2, 2, 3, 2, 2, 3, 1, 1, 0, 0]))"
      ]
     },
     "execution_count": 39,
     "metadata": {},
     "output_type": "execute_result"
    }
   ],
   "source": [
    "# 열 단위의 최댓값 및 최댓값의 인덱스\n",
    "maxValue = xy1.max(dim=0)[0] # 최댓값\n",
    "maxIndex = xy1.max(dim=0)[1] # 최댓값의 인덱스\n",
    "maxValue, maxIndex"
   ]
  },
  {
   "cell_type": "code",
   "execution_count": 45,
   "metadata": {},
   "outputs": [
    {
     "data": {
      "text/html": [
       "<div>\n",
       "<style scoped>\n",
       "    .dataframe tbody tr th:only-of-type {\n",
       "        vertical-align: middle;\n",
       "    }\n",
       "\n",
       "    .dataframe tbody tr th {\n",
       "        vertical-align: top;\n",
       "    }\n",
       "\n",
       "    .dataframe thead th {\n",
       "        text-align: right;\n",
       "    }\n",
       "</style>\n",
       "<table border=\"1\" class=\"dataframe\">\n",
       "  <thead>\n",
       "    <tr style=\"text-align: right;\">\n",
       "      <th></th>\n",
       "      <th>A</th>\n",
       "      <th>B</th>\n",
       "      <th>C</th>\n",
       "    </tr>\n",
       "  </thead>\n",
       "  <tbody>\n",
       "    <tr>\n",
       "      <th>0</th>\n",
       "      <td>10</td>\n",
       "      <td>20</td>\n",
       "      <td>30</td>\n",
       "    </tr>\n",
       "    <tr>\n",
       "      <th>1</th>\n",
       "      <td>11</td>\n",
       "      <td>22</td>\n",
       "      <td>33</td>\n",
       "    </tr>\n",
       "  </tbody>\n",
       "</table>\n",
       "</div>"
      ],
      "text/plain": [
       "    A   B   C\n",
       "0  10  20  30\n",
       "1  11  22  33"
      ]
     },
     "execution_count": 45,
     "metadata": {},
     "output_type": "execute_result"
    }
   ],
   "source": [
    "import pandas as pd\n",
    "data = pd.DataFrame({'A':[10, 11], 'B':[20,22], 'C':[30,33]})\n",
    "data"
   ]
  },
  {
   "cell_type": "code",
   "execution_count": 50,
   "metadata": {},
   "outputs": [
    {
     "data": {
      "text/plain": [
       "(A    11\n",
       " B    22\n",
       " C    33\n",
       " dtype: int64,\n",
       " 0    30\n",
       " 1    33\n",
       " dtype: int64)"
      ]
     },
     "execution_count": 50,
     "metadata": {},
     "output_type": "execute_result"
    }
   ],
   "source": [
    "data.max(), data.max(axis=1) # axis=1 로 하면 해당 행에서 가장 큰 값을 찾아줌. 집계함수는 다 이모냥으로 돌아간다."
   ]
  }
 ],
 "metadata": {
  "kernelspec": {
   "display_name": "Torch_py38",
   "language": "python",
   "name": "python3"
  },
  "language_info": {
   "codemirror_mode": {
    "name": "ipython",
    "version": 3
   },
   "file_extension": ".py",
   "mimetype": "text/x-python",
   "name": "python",
   "nbconvert_exporter": "python",
   "pygments_lexer": "ipython3",
   "version": "3.8.18"
  }
 },
 "nbformat": 4,
 "nbformat_minor": 2
}
