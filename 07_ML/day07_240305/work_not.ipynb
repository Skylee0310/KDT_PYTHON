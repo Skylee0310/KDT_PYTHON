{
 "cells": [
  {
   "cell_type": "markdown",
   "metadata": {},
   "source": [
    "1. 데이터 처리\n",
    "    - 결측치 이상값 중복값 확인\n",
    "    - 이상치가 너무 많아서 제거하지는 않았음.\n",
    "    - 히스토그램 그려봄.\n",
    "    - nunique() 각 특성의 고유값 확인\n",
    "    - corr로 상관계수 확인 -> 타겟과 다른 컬럼들과의 관계를 산점도로 그려봄.\n",
    "    - 범주형 - 수치형 간 데이터 상관계수 : poinbiserialr을 쓰면 좀더 정확해진다고 함.\n",
    "    - 상관계수에 절댓값 취해서 0.4보다 큰 것만 피처로 선택.(6개정도 있었음.)\n",
    "    - 상관행렬을 sns 시본 히트맵으로 시각화.\n",
    "    - 훈련데이터와 학습데이터 분리\n",
    "    - 결측치가 하나라도 있는 행 제거.\n",
    "    - 스케일링\n",
    "\n",
    "2. 학습 \n",
    "    - 피처추가 degree = 2"
   ]
  },
  {
   "cell_type": "markdown",
   "metadata": {},
   "source": [
    "상관 계수\n",
    "- 타겟이랑 가장 관련있는 피처 확인\n",
    "- 피처들끼리도 상관계수를 확인해 보고 연관성이 높은 것들 찾아서 줄이기!\n",
    "- "
   ]
  },
  {
   "cell_type": "code",
   "execution_count": null,
   "metadata": {},
   "outputs": [],
   "source": [
    "#auto-sklearn"
   ]
  },
  {
   "cell_type": "code",
   "execution_count": null,
   "metadata": {},
   "outputs": [],
   "source": []
  },
  {
   "cell_type": "code",
   "execution_count": null,
   "metadata": {},
   "outputs": [],
   "source": []
  }
 ],
 "metadata": {
  "kernelspec": {
   "display_name": "EXAM_ML",
   "language": "python",
   "name": "python3"
  },
  "language_info": {
   "codemirror_mode": {
    "name": "ipython",
    "version": 3
   },
   "file_extension": ".py",
   "mimetype": "text/x-python",
   "name": "python",
   "nbconvert_exporter": "python",
   "pygments_lexer": "ipython3",
   "version": "3.9.18"
  }
 },
 "nbformat": 4,
 "nbformat_minor": 2
}
