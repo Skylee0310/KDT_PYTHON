{
 "cells": [
  {
   "cell_type": "markdown",
   "id": "f8582f8c",
   "metadata": {},
   "source": [
    "### 시가 생선 계산 서비스 구현\n",
    "\n",
    "- 주요 학습 : 지도학습 -> 회귀\n",
    "- 세부 학습 : 선형회귀(LinearRegression)\n",
    "    * 이유 : 데이터의 분포가 선형관계임"
   ]
  },
  {
   "cell_type": "markdown",
   "id": "b241f0c5",
   "metadata": {},
   "source": [
    "### [1] 데이터 준비 및 확인"
   ]
  },
  {
   "cell_type": "code",
   "execution_count": 1,
   "id": "87ca89d6",
   "metadata": {},
   "outputs": [],
   "source": [
    "filename='../../data/fish.csv'"
   ]
  },
  {
   "cell_type": "code",
   "execution_count": 2,
   "id": "942c5da1",
   "metadata": {},
   "outputs": [],
   "source": [
    "import pandas as pd\n",
    "import numpy as np\n",
    "import matplotlib.pyplot as plt\n",
    "import seaborn as sns\n",
    "from sklearn.model_selection import train_test_split\n",
    "from sklearn.linear_model import LinearRegression"
   ]
  },
  {
   "cell_type": "code",
   "execution_count": 3,
   "id": "5f35d4c4",
   "metadata": {},
   "outputs": [],
   "source": [
    "#  74번~ 129번 => perch 농어 데이터\n",
    "fishDF=pd.read_csv(filename,\n",
    "                    header=None, \n",
    "                    skiprows=73, \n",
    "                    skipfooter=31,\n",
    "                    usecols=[1, 2],     # 1 - Weight, 2 - Length\n",
    "                    engine='python')   # skipfooter 매개변수 사용 시 지정"
   ]
  },
  {
   "cell_type": "code",
   "execution_count": 4,
   "id": "a749cebd",
   "metadata": {},
   "outputs": [],
   "source": [
    "fishDF.columns=['Weight','Length' ]"
   ]
  },
  {
   "cell_type": "code",
   "execution_count": 5,
   "id": "a3e817dc",
   "metadata": {},
   "outputs": [
    {
     "name": "stdout",
     "output_type": "stream",
     "text": [
      "<class 'pandas.core.frame.DataFrame'>\n",
      "RangeIndex: 56 entries, 0 to 55\n",
      "Data columns (total 2 columns):\n",
      " #   Column  Non-Null Count  Dtype  \n",
      "---  ------  --------------  -----  \n",
      " 0   Weight  56 non-null     float64\n",
      " 1   Length  56 non-null     float64\n",
      "dtypes: float64(2)\n",
      "memory usage: 1.0 KB\n"
     ]
    }
   ],
   "source": [
    "fishDF.info()"
   ]
  },
  {
   "cell_type": "code",
   "execution_count": 6,
   "id": "2cbda827",
   "metadata": {},
   "outputs": [
    {
     "data": {
      "text/html": [
       "<div>\n",
       "<style scoped>\n",
       "    .dataframe tbody tr th:only-of-type {\n",
       "        vertical-align: middle;\n",
       "    }\n",
       "\n",
       "    .dataframe tbody tr th {\n",
       "        vertical-align: top;\n",
       "    }\n",
       "\n",
       "    .dataframe thead th {\n",
       "        text-align: right;\n",
       "    }\n",
       "</style>\n",
       "<table border=\"1\" class=\"dataframe\">\n",
       "  <thead>\n",
       "    <tr style=\"text-align: right;\">\n",
       "      <th></th>\n",
       "      <th>Weight</th>\n",
       "      <th>Length</th>\n",
       "    </tr>\n",
       "  </thead>\n",
       "  <tbody>\n",
       "    <tr>\n",
       "      <th>count</th>\n",
       "      <td>56.000000</td>\n",
       "      <td>56.000000</td>\n",
       "    </tr>\n",
       "    <tr>\n",
       "      <th>mean</th>\n",
       "      <td>382.239286</td>\n",
       "      <td>27.892857</td>\n",
       "    </tr>\n",
       "    <tr>\n",
       "      <th>std</th>\n",
       "      <td>347.617717</td>\n",
       "      <td>9.021668</td>\n",
       "    </tr>\n",
       "    <tr>\n",
       "      <th>min</th>\n",
       "      <td>5.900000</td>\n",
       "      <td>8.400000</td>\n",
       "    </tr>\n",
       "    <tr>\n",
       "      <th>25%</th>\n",
       "      <td>120.000000</td>\n",
       "      <td>21.825000</td>\n",
       "    </tr>\n",
       "    <tr>\n",
       "      <th>50%</th>\n",
       "      <td>207.500000</td>\n",
       "      <td>25.300000</td>\n",
       "    </tr>\n",
       "    <tr>\n",
       "      <th>75%</th>\n",
       "      <td>692.500000</td>\n",
       "      <td>36.625000</td>\n",
       "    </tr>\n",
       "    <tr>\n",
       "      <th>max</th>\n",
       "      <td>1100.000000</td>\n",
       "      <td>44.000000</td>\n",
       "    </tr>\n",
       "  </tbody>\n",
       "</table>\n",
       "</div>"
      ],
      "text/plain": [
       "            Weight     Length\n",
       "count    56.000000  56.000000\n",
       "mean    382.239286  27.892857\n",
       "std     347.617717   9.021668\n",
       "min       5.900000   8.400000\n",
       "25%     120.000000  21.825000\n",
       "50%     207.500000  25.300000\n",
       "75%     692.500000  36.625000\n",
       "max    1100.000000  44.000000"
      ]
     },
     "execution_count": 6,
     "metadata": {},
     "output_type": "execute_result"
    }
   ],
   "source": [
    "fishDF.describe()"
   ]
  },
  {
   "cell_type": "markdown",
   "id": "05d9e632",
   "metadata": {},
   "source": [
    "### [2] 데이터 분석"
   ]
  },
  {
   "cell_type": "code",
   "execution_count": 7,
   "id": "61003730",
   "metadata": {},
   "outputs": [
    {
     "data": {
      "image/png": "[encoded data removed]",
      "text/plain": [
       "<Figure size 640x480 with 1 Axes>"
      ]
     },
     "metadata": {},
     "output_type": "display_data"
    }
   ],
   "source": [
    "# 시각화해서 확인 \n",
    "import matplotlib.pyplot as plt\n",
    "\n",
    "# 수치 데이터의 관계 그래프 => 산점도(scatter)\n",
    "plt.scatter(fishDF.Length, fishDF.Weight)\n",
    "plt.xlabel('Length')\n",
    "plt.ylabel('Weight')\n",
    "plt.show()"
   ]
  },
  {
   "cell_type": "code",
   "execution_count": 8,
   "id": "f9c44fa0",
   "metadata": {},
   "outputs": [
    {
     "data": {
      "text/html": [
       "<div>\n",
       "<style scoped>\n",
       "    .dataframe tbody tr th:only-of-type {\n",
       "        vertical-align: middle;\n",
       "    }\n",
       "\n",
       "    .dataframe tbody tr th {\n",
       "        vertical-align: top;\n",
       "    }\n",
       "\n",
       "    .dataframe thead th {\n",
       "        text-align: right;\n",
       "    }\n",
       "</style>\n",
       "<table border=\"1\" class=\"dataframe\">\n",
       "  <thead>\n",
       "    <tr style=\"text-align: right;\">\n",
       "      <th></th>\n",
       "      <th>Weight</th>\n",
       "      <th>Length</th>\n",
       "    </tr>\n",
       "  </thead>\n",
       "  <tbody>\n",
       "    <tr>\n",
       "      <th>Weight</th>\n",
       "      <td>1.000000</td>\n",
       "      <td>0.958656</td>\n",
       "    </tr>\n",
       "    <tr>\n",
       "      <th>Length</th>\n",
       "      <td>0.958656</td>\n",
       "      <td>1.000000</td>\n",
       "    </tr>\n",
       "  </tbody>\n",
       "</table>\n",
       "</div>"
      ],
      "text/plain": [
       "          Weight    Length\n",
       "Weight  1.000000  0.958656\n",
       "Length  0.958656  1.000000"
      ]
     },
     "execution_count": 8,
     "metadata": {},
     "output_type": "execute_result"
    }
   ],
   "source": [
    "# 상관계수 수치과\n",
    "fishDF.corr()"
   ]
  },
  {
   "cell_type": "markdown",
   "id": "6e93947a",
   "metadata": {},
   "source": [
    "### [3]  데이터 가공"
   ]
  },
  {
   "cell_type": "markdown",
   "id": "46335482",
   "metadata": {},
   "source": [
    "- [3-1] 특성/피쳐 데이터와 타겟 데이터 분리"
   ]
  },
  {
   "cell_type": "code",
   "execution_count": 9,
   "id": "16953b9c",
   "metadata": {},
   "outputs": [],
   "source": [
    "# 학습 진행 ==> fit(2D, 1D)\n",
    "# 학습 진행 후 ==> 모델파라미터(Model Parameter) : 기울기/가중치와 절편\n",
    "# 학습에 사용할 특성 테이터 => 2D\n",
    "featureDF=fishDF.Length.to_frame()\n",
    "\n",
    "# 학습에 사용할 타겟 데이터 => 1D\n",
    "targetDF=fishDF.Weight.copy()"
   ]
  },
  {
   "cell_type": "code",
   "execution_count": 10,
   "id": "ea012ccb",
   "metadata": {},
   "outputs": [
    {
     "data": {
      "text/plain": [
       "(   Length\n",
       " 0     8.4\n",
       " 1    13.7,\n",
       " RangeIndex(start=0, stop=56, step=1))"
      ]
     },
     "execution_count": 10,
     "metadata": {},
     "output_type": "execute_result"
    }
   ],
   "source": [
    "featureDF.head(2), featureDF.index"
   ]
  },
  {
   "cell_type": "code",
   "execution_count": 11,
   "id": "334e5563",
   "metadata": {},
   "outputs": [
    {
     "data": {
      "text/plain": [
       "0     5.9\n",
       "1    32.0\n",
       "Name: Weight, dtype: float64"
      ]
     },
     "execution_count": 11,
     "metadata": {},
     "output_type": "execute_result"
    }
   ],
   "source": [
    "targetDF.head(2)"
   ]
  },
  {
   "cell_type": "markdown",
   "id": "ec1f85a8",
   "metadata": {},
   "source": [
    "- [3-2] 훈련용/테스트용 데이터 분리"
   ]
  },
  {
   "cell_type": "code",
   "execution_count": 12,
   "id": "6c844b81",
   "metadata": {},
   "outputs": [],
   "source": [
    "from sklearn.model_selection import train_test_split"
   ]
  },
  {
   "cell_type": "code",
   "execution_count": 13,
   "id": "ef6d1499",
   "metadata": {},
   "outputs": [],
   "source": [
    "# 기본 : 훈련:테스트 = 75% 25%\n",
    "# 반환값 : 튜플 형태,  훈련데이터셋과 테스트데이터셋\n",
    "train_X, test_X, train_y, test_y=train_test_split(  featureDF, \n",
    "                                                    targetDF,\n",
    "                                                    random_state=42)"
   ]
  },
  {
   "cell_type": "code",
   "execution_count": 14,
   "id": "42a4e561",
   "metadata": {},
   "outputs": [
    {
     "name": "stdout",
     "output_type": "stream",
     "text": [
      "train_X :42개, 2차원, (42, 1)\n",
      "test_X :14개, 2차원, (14, 1)\n"
     ]
    }
   ],
   "source": [
    "print(f'train_X :{len(train_X)}개, {train_X.ndim}차원, {train_X.shape}')\n",
    "print(f'test_X :{len(test_X)}개, {test_X.ndim}차원, {test_X.shape}')"
   ]
  },
  {
   "cell_type": "markdown",
   "id": "7eb1aa54",
   "metadata": {},
   "source": [
    "### [4] 학습  => 학습방법 즉 문제해결 방법 변경\n",
    "#### 선형회귀\n",
    "- 최대한 많은 데이터를 만족하는 선형회귀식을 생성함\n",
    "    * 방법 : 제공된 데이터와 타겟을 기준으로 선형회귀식을 생성"
   ]
  },
  {
   "cell_type": "code",
   "execution_count": 15,
   "id": "b6441843",
   "metadata": {},
   "outputs": [],
   "source": [
    "# 객체 생성 \n",
    "reg = LinearRegression()"
   ]
  },
  {
   "cell_type": "code",
   "execution_count": 16,
   "id": "58aa37ab",
   "metadata": {},
   "outputs": [
    {
     "data": {
      "text/html": [
       "<style>#sk-container-id-1 {color: black;}#sk-container-id-1 pre{padding: 0;}#sk-container-id-1 div.sk-toggleable {background-color: white;}#sk-container-id-1 label.sk-toggleable__label {cursor: pointer;display: block;width: 100%;margin-bottom: 0;padding: 0.3em;box-sizing: border-box;text-align: center;}#sk-container-id-1 label.sk-toggleable__label-arrow:before {content: \"▸\";float: left;margin-right: 0.25em;color: #696969;}#sk-container-id-1 label.sk-toggleable__label-arrow:hover:before {color: black;}#sk-container-id-1 div.sk-estimator:hover label.sk-toggleable__label-arrow:before {color: black;}#sk-container-id-1 div.sk-toggleable__content {max-height: 0;max-width: 0;overflow: hidden;text-align: left;background-color: #f0f8ff;}#sk-container-id-1 div.sk-toggleable__content pre {margin: 0.2em;color: black;border-radius: 0.25em;background-color: #f0f8ff;}#sk-container-id-1 input.sk-toggleable__control:checked~div.sk-toggleable__content {max-height: 200px;max-width: 100%;overflow: auto;}#sk-container-id-1 input.sk-toggleable__control:checked~label.sk-toggleable__label-arrow:before {content: \"▾\";}#sk-container-id-1 div.sk-estimator input.sk-toggleable__control:checked~label.sk-toggleable__label {background-color: #d4ebff;}#sk-container-id-1 div.sk-label input.sk-toggleable__control:checked~label.sk-toggleable__label {background-color: #d4ebff;}#sk-container-id-1 input.sk-hidden--visually {border: 0;clip: rect(1px 1px 1px 1px);clip: rect(1px, 1px, 1px, 1px);height: 1px;margin: -1px;overflow: hidden;padding: 0;position: absolute;width: 1px;}#sk-container-id-1 div.sk-estimator {font-family: monospace;background-color: #f0f8ff;border: 1px dotted black;border-radius: 0.25em;box-sizing: border-box;margin-bottom: 0.5em;}#sk-container-id-1 div.sk-estimator:hover {background-color: #d4ebff;}#sk-container-id-1 div.sk-parallel-item::after {content: \"\";width: 100%;border-bottom: 1px solid gray;flex-grow: 1;}#sk-container-id-1 div.sk-label:hover label.sk-toggleable__label {background-color: #d4ebff;}#sk-container-id-1 div.sk-serial::before {content: \"\";position: absolute;border-left: 1px solid gray;box-sizing: border-box;top: 0;bottom: 0;left: 50%;z-index: 0;}#sk-container-id-1 div.sk-serial {display: flex;flex-direction: column;align-items: center;background-color: white;padding-right: 0.2em;padding-left: 0.2em;position: relative;}#sk-container-id-1 div.sk-item {position: relative;z-index: 1;}#sk-container-id-1 div.sk-parallel {display: flex;align-items: stretch;justify-content: center;background-color: white;position: relative;}#sk-container-id-1 div.sk-item::before, #sk-container-id-1 div.sk-parallel-item::before {content: \"\";position: absolute;border-left: 1px solid gray;box-sizing: border-box;top: 0;bottom: 0;left: 50%;z-index: -1;}#sk-container-id-1 div.sk-parallel-item {display: flex;flex-direction: column;z-index: 1;position: relative;background-color: white;}#sk-container-id-1 div.sk-parallel-item:first-child::after {align-self: flex-end;width: 50%;}#sk-container-id-1 div.sk-parallel-item:last-child::after {align-self: flex-start;width: 50%;}#sk-container-id-1 div.sk-parallel-item:only-child::after {width: 0;}#sk-container-id-1 div.sk-dashed-wrapped {border: 1px dashed gray;margin: 0 0.4em 0.5em 0.4em;box-sizing: border-box;padding-bottom: 0.4em;background-color: white;}#sk-container-id-1 div.sk-label label {font-family: monospace;font-weight: bold;display: inline-block;line-height: 1.2em;}#sk-container-id-1 div.sk-label-container {text-align: center;}#sk-container-id-1 div.sk-container {/* jupyter's `normalize.less` sets `[hidden] { display: none; }` but bootstrap.min.css set `[hidden] { display: none !important; }` so we also need the `!important` here to be able to override the default hidden behavior on the sphinx rendered scikit-learn.org. See: https://github.com/scikit-learn/scikit-learn/issues/21755 */display: inline-block !important;position: relative;}#sk-container-id-1 div.sk-text-repr-fallback {display: none;}</style><div id=\"sk-container-id-1\" class=\"sk-top-container\"><div class=\"sk-text-repr-fallback\"><pre>LinearRegression()</pre><b>In a Jupyter environment, please rerun this cell to show the HTML representation or trust the notebook. <br />On GitHub, the HTML representation is unable to render, please try loading this page with nbviewer.org.</b></div><div class=\"sk-container\" hidden><div class=\"sk-item\"><div class=\"sk-estimator sk-toggleable\"><input class=\"sk-toggleable__control sk-hidden--visually\" id=\"sk-estimator-id-1\" type=\"checkbox\" checked><label for=\"sk-estimator-id-1\" class=\"sk-toggleable__label sk-toggleable__label-arrow\">LinearRegression</label><div class=\"sk-toggleable__content\"><pre>LinearRegression()</pre></div></div></div></div></div>"
      ],
      "text/plain": [
       "LinearRegression()"
      ]
     },
     "execution_count": 16,
     "metadata": {},
     "output_type": "execute_result"
    }
   ],
   "source": [
    "# fit()==> 학습\n",
    "reg.fit(train_X, train_y)"
   ]
  },
  {
   "cell_type": "code",
   "execution_count": 17,
   "id": "077b9c36",
   "metadata": {},
   "outputs": [
    {
     "data": {
      "text/plain": [
       "'기울기/가중치 : [39.01714496]'"
      ]
     },
     "execution_count": 17,
     "metadata": {},
     "output_type": "execute_result"
    }
   ],
   "source": [
    "# 학습 후 결정된 파라미터 즉 모델파라미터 확인\n",
    "f'기울기/가중치 : {reg.coef_}'"
   ]
  },
  {
   "cell_type": "code",
   "execution_count": 18,
   "id": "8ac91592",
   "metadata": {},
   "outputs": [
    {
     "data": {
      "text/plain": [
       "'절편/바이어스 : -709.0186449535477'"
      ]
     },
     "execution_count": 18,
     "metadata": {},
     "output_type": "execute_result"
    }
   ],
   "source": [
    "f'절편/바이어스 : {reg.intercept_}'"
   ]
  },
  {
   "cell_type": "markdown",
   "id": "476bd3ee",
   "metadata": {},
   "source": [
    "### [5] 평가"
   ]
  },
  {
   "cell_type": "code",
   "execution_count": 19,
   "id": "93543a98",
   "metadata": {},
   "outputs": [],
   "source": [
    "train_score = reg.score(train_X, train_y)\n",
    "test_score =reg.score(test_X, test_y)"
   ]
  },
  {
   "cell_type": "code",
   "execution_count": 20,
   "id": "42b2977d",
   "metadata": {},
   "outputs": [
    {
     "name": "stdout",
     "output_type": "stream",
     "text": [
      "훈  련 결과 점수 : 0.9398463339976041\n",
      "테스트 결과 점수 : 0.8247503123313559\n"
     ]
    }
   ],
   "source": [
    "print(f'훈  련 결과 점수 : {train_score}' )\n",
    "print(f'테스트 결과 점수 : {test_score}' )"
   ]
  },
  {
   "cell_type": "markdown",
   "id": "26822ab8",
   "metadata": {},
   "source": [
    "### [4] 예측"
   ]
  },
  {
   "cell_type": "code",
   "execution_count": 21,
   "id": "2ee34620",
   "metadata": {},
   "outputs": [
    {
     "data": {
      "text/plain": [
       "(2,)"
      ]
     },
     "execution_count": 21,
     "metadata": {},
     "output_type": "execute_result"
    }
   ],
   "source": [
    "new_data_=pd.DataFrame([[39.2], [12.7]], columns=['Length'])\n",
    "\n",
    "pre_y = reg.predict(new_data_)\n",
    "pre_y.shape"
   ]
  },
  {
   "cell_type": "code",
   "execution_count": 22,
   "id": "4f894e88",
   "metadata": {},
   "outputs": [
    {
     "data": {
      "text/plain": [
       "array([ 820.45343762, -213.50090392])"
      ]
     },
     "execution_count": 22,
     "metadata": {},
     "output_type": "execute_result"
    }
   ],
   "source": [
    "pre_y"
   ]
  },
  {
   "cell_type": "markdown",
   "id": "28db7516",
   "metadata": {},
   "source": [
    "- 시각화 => 회귀선"
   ]
  },
  {
   "cell_type": "code",
   "execution_count": 23,
   "id": "0a407a32",
   "metadata": {},
   "outputs": [
    {
     "data": {
      "image/png": "[encoded data removed]",
      "text/plain": [
       "<Figure size 640x480 with 1 Axes>"
      ]
     },
     "metadata": {},
     "output_type": "display_data"
    }
   ],
   "source": [
    "import matplotlib.pyplot as plt\n",
    "\n",
    "# 수치 데이터의 관계 그래프 => 산점도(scatter)\n",
    "plt.scatter(train_X, train_y, label='Fish')\n",
    "\n",
    "# 선형회귀에서 구한 y=ax+b 공식의 직선 긋기\n",
    "plt.plot(test_X,reg.predict(test_X), 'r-', label='Reg Line')\n",
    "\n",
    "plt.plot(new_data_, pre_y, '^g', label='New Data')\n",
    "\n",
    "plt.xlabel('Length')\n",
    "plt.ylabel('Weight')\n",
    "plt.legend()\n",
    "plt.grid()\n",
    "plt.show()"
   ]
  },
  {
   "cell_type": "markdown",
   "id": "5f2897ca",
   "metadata": {},
   "source": [
    "###  다항회귀 => Polynorminal\n",
    "\n",
    "- 기존에 가진 특성으로 조합해서 새로운 특성 추가하기\n",
    "- 사용 클래스 : PolynomialFeatures"
   ]
  },
  {
   "cell_type": "code",
   "execution_count": 24,
   "id": "016502ff",
   "metadata": {},
   "outputs": [],
   "source": [
    "from sklearn.preprocessing import PolynomialFeatures"
   ]
  },
  {
   "cell_type": "code",
   "execution_count": 25,
   "id": "9b1cb656",
   "metadata": {},
   "outputs": [],
   "source": [
    "# 특성 생성 객체 생성\n",
    "poly=PolynomialFeatures(degree=2)\n",
    "\n",
    "# 현재 3개 특성 가진 데이터 전달해서 2차원 형태의 특성 생성\n",
    "# (1) 입력 받은 데이터의 특성이 몇개 존재하는지 파악\n",
    "poly.fit(train_X)\n",
    "\n",
    "# (2) 존재하는 특성을 활용해서 새로운 특성 생성\n",
    "poly_train=poly.transform(train_X)\n",
    "poly_test=poly.transform(test_X)"
   ]
  },
  {
   "cell_type": "code",
   "execution_count": 26,
   "id": "d68f7d15",
   "metadata": {},
   "outputs": [
    {
     "name": "stdout",
     "output_type": "stream",
     "text": [
      "train_X : (42, 1)  poly_train : (42, 3)\n",
      "test_X  : (14, 1)   poly_test  : (14, 3)\n",
      "feature name  : ['1' 'Length' 'Length^2']\n"
     ]
    }
   ],
   "source": [
    "# 특성 확인\n",
    "print(f'train_X : {train_X.shape}  poly_train : {poly_train.shape}')\n",
    "print(f'test_X  : {test_X.shape}   poly_test  : {poly_test.shape}')\n",
    "\n",
    "print(f'feature name  : {poly.get_feature_names_out()}')"
   ]
  },
  {
   "cell_type": "code",
   "execution_count": 27,
   "id": "f91aa3f7",
   "metadata": {},
   "outputs": [
    {
     "data": {
      "text/plain": [
       "array([[  1.  ,  19.6 , 384.16],\n",
       "       [  1.  ,  22.  , 484.  ]])"
      ]
     },
     "execution_count": 27,
     "metadata": {},
     "output_type": "execute_result"
    }
   ],
   "source": [
    "poly_train[:2]"
   ]
  },
  {
   "cell_type": "code",
   "execution_count": 29,
   "id": "3c242697",
   "metadata": {},
   "outputs": [
    {
     "name": "stdout",
     "output_type": "stream",
     "text": [
      "기울기 계수 : (3,), [  0.         -21.55792498   1.01433211]\n",
      "절편   계수 : 116.05021078278179\n"
     ]
    }
   ],
   "source": [
    "# 모델 객체 생성\n",
    "regModel2=LinearRegression()\n",
    "\n",
    "# 학습\n",
    "regModel2.fit(poly_train, train_y)\n",
    "\n",
    "# 모델 파라미터 확인\n",
    "print(f'기울기 계수 : {regModel2.coef_.shape}, {regModel2.coef_}')     \n",
    "print(f'절편   계수 : {regModel2.intercept_}')"
   ]
  },
  {
   "cell_type": "code",
   "execution_count": 31,
   "id": "fe265c4d",
   "metadata": {},
   "outputs": [
    {
     "name": "stdout",
     "output_type": "stream",
     "text": [
      "훈련 성능 : 0.9706807451768623, 테스트 성능 : 0.977593510832512\n"
     ]
    }
   ],
   "source": [
    "# 성능평가 \n",
    "train_score = regModel2.score(poly_train, train_y)\n",
    "test_score  = regModel2.score(poly_test, test_y)\n",
    "\n",
    "print(f'훈련 성능 : {train_score}, 테스트 성능 : {test_score}') "
   ]
  },
  {
   "cell_type": "markdown",
   "id": "9ecd61bb",
   "metadata": {},
   "source": [
    "- 다항 회귀식 \n",
    "    * 2차 다항식 경우 => $y=W_1x^2_1 + W_2x_2 + W_3x_3 + b $ \n",
    "    * n차 다항식 경우 => $y=W_1x^n_1 + W_2x^n-1_2 + ... + b $ "
   ]
  },
  {
   "cell_type": "code",
   "execution_count": 32,
   "id": "6cda4052",
   "metadata": {},
   "outputs": [],
   "source": [
    "x=np.linspace(6,45)\n",
    "y=(1*regModel2.coef_[0]) + \\\n",
    "   (x * regModel2.coef_[1]) + \\\n",
    "   ((x**2)*regModel2.coef_[2]) + regModel2.intercept_"
   ]
  },
  {
   "cell_type": "code",
   "execution_count": 33,
   "id": "17a01920",
   "metadata": {},
   "outputs": [
    {
     "data": {
      "image/png": "[encoded data removed]",
      "text/plain": [
       "<Figure size 640x480 with 1 Axes>"
      ]
     },
     "metadata": {},
     "output_type": "display_data"
    }
   ],
   "source": [
    "import matplotlib.pyplot as plt\n",
    "\n",
    "# 수치 데이터의 관계 그래프 => 산점도(scatter)\n",
    "plt.scatter(train_X, train_y, label='Fish')\n",
    "\n",
    "# 선형회귀에서 구한 y=ax+b 공식의 직선 긋기\n",
    "plt.plot(x, y, 'r-', label='Polynominal Line')\n",
    "\n",
    "plt.xlabel('Length')\n",
    "plt.ylabel('Weight')\n",
    "plt.legend()\n",
    "plt.grid()\n",
    "plt.show()"
   ]
  },
  {
   "cell_type": "code",
   "execution_count": null,
   "id": "926f9cfc",
   "metadata": {},
   "outputs": [],
   "source": []
  }
 ],
 "metadata": {
  "kernelspec": {
   "display_name": "EXAM_ML",
   "language": "python",
   "name": "python3"
  },
  "language_info": {
   "codemirror_mode": {
    "name": "ipython",
    "version": 3
   },
   "file_extension": ".py",
   "mimetype": "text/x-python",
   "name": "python",
   "nbconvert_exporter": "python",
   "pygments_lexer": "ipython3",
   "version": "3.9.18"
  }
 },
 "nbformat": 4,
 "nbformat_minor": 5
}
