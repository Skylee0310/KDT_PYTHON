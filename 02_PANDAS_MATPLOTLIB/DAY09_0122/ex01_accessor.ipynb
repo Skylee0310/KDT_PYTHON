{
 "cells": [
  {
   "cell_type": "markdown",
   "id": "ca94dd90-f63a-4e6c-b896-ed8332293833",
   "metadata": {},
   "source": [
    "ex) \n",
    "관련이 높은 거 ->  상관계수 비교 corr "
   ]
  },
  {
   "cell_type": "markdown",
   "id": "7a292faf-741f-4134-85fa-bb9d2bc3bd87",
   "metadata": {},
   "source": [
    "## [ 접근자 accessor ]\n",
    "- Series/DataFrame의 데이터가 날짜시간(datetime), 문자열(object), 범주형(Category)등의 경우 데이터 타입과 관련된 전용의 함수들을 사용할 수 있도록 해주는 속성.\n",
    "- Series.str.문자열처리관련함수명()\n",
    "- Series.dt.날짜시간처리관련속성명"
   ]
  },
  {
   "cell_type": "markdown",
   "id": "eb9f0ea3-4a72-4dcd-bcd5-f6eee8716c03",
   "metadata": {},
   "source": [
    "(1) 모듈 로딩 <hr>"
   ]
  },
  {
   "cell_type": "code",
   "execution_count": 1,
   "id": "6166c0ec-75d1-4ee0-a618-ea8958554a73",
   "metadata": {},
   "outputs": [],
   "source": [
    "import pandas as pd\n",
    "import numpy as np"
   ]
  },
  {
   "cell_type": "markdown",
   "id": "46e7ca6f-679e-4f4c-b3b6-0dcb7c038478",
   "metadata": {},
   "source": [
    "(2) 데이터 준비 <hr>"
   ]
  },
  {
   "cell_type": "code",
   "execution_count": 2,
   "id": "88f7a4ac-39a5-46ac-9d09-0ae7061b4a58",
   "metadata": {},
   "outputs": [],
   "source": [
    "datas = {'name':[\"홍 길동\", \"이 나영\", \"마 징가\", \"베 토벤\"], \n",
    "         'age':[10, 21, 73, 89],\n",
    "         'reg_date':['2000/01/23', '2020/11/08', '1999/5/4', '1987/12/24']} \n",
    "#딕셔너리로 데이터프레임을 만들면 key가 컬럼명으로 들어감.\n",
    "# 리스트를 데이터프레임을 만들면 행으로 입력됨\n",
    "\n",
    "datas2 = [[\"홍 길동\", \"이 나영\", \"마 징가\", \"베 토벤\"], \n",
    "         [10, 21, 73, 89],\n",
    "         ['2000/01/23', '2020/11/08', '1999/5/4', '1987/12/24']]"
   ]
  },
  {
   "cell_type": "markdown",
   "id": "49ffd2c2-2e5f-4b04-b8d4-d71c53cf7f12",
   "metadata": {},
   "source": [
    "(3) 데이터 저장 <hr>"
   ]
  },
  {
   "cell_type": "code",
   "execution_count": 3,
   "id": "6256631b-3c84-4891-b9b7-2f19e5e177f6",
   "metadata": {},
   "outputs": [
    {
     "data": {
      "text/html": [
       "<div>\n",
       "<style scoped>\n",
       "    .dataframe tbody tr th:only-of-type {\n",
       "        vertical-align: middle;\n",
       "    }\n",
       "\n",
       "    .dataframe tbody tr th {\n",
       "        vertical-align: top;\n",
       "    }\n",
       "\n",
       "    .dataframe thead th {\n",
       "        text-align: right;\n",
       "    }\n",
       "</style>\n",
       "<table border=\"1\" class=\"dataframe\">\n",
       "  <thead>\n",
       "    <tr style=\"text-align: right;\">\n",
       "      <th></th>\n",
       "      <th>name</th>\n",
       "      <th>age</th>\n",
       "      <th>reg_date</th>\n",
       "    </tr>\n",
       "  </thead>\n",
       "  <tbody>\n",
       "    <tr>\n",
       "      <th>0</th>\n",
       "      <td>홍 길동</td>\n",
       "      <td>10</td>\n",
       "      <td>2000/01/23</td>\n",
       "    </tr>\n",
       "    <tr>\n",
       "      <th>1</th>\n",
       "      <td>이 나영</td>\n",
       "      <td>21</td>\n",
       "      <td>2020/11/08</td>\n",
       "    </tr>\n",
       "    <tr>\n",
       "      <th>2</th>\n",
       "      <td>마 징가</td>\n",
       "      <td>73</td>\n",
       "      <td>1999/5/4</td>\n",
       "    </tr>\n",
       "    <tr>\n",
       "      <th>3</th>\n",
       "      <td>베 토벤</td>\n",
       "      <td>89</td>\n",
       "      <td>1987/12/24</td>\n",
       "    </tr>\n",
       "  </tbody>\n",
       "</table>\n",
       "</div>"
      ],
      "text/plain": [
       "   name  age    reg_date\n",
       "0  홍 길동   10  2000/01/23\n",
       "1  이 나영   21  2020/11/08\n",
       "2  마 징가   73    1999/5/4\n",
       "3  베 토벤   89  1987/12/24"
      ]
     },
     "execution_count": 3,
     "metadata": {},
     "output_type": "execute_result"
    }
   ],
   "source": [
    "# 딕셔너리 ===> 데이터프레임\n",
    "df1=pd.DataFrame(datas)\n",
    "df1"
   ]
  },
  {
   "cell_type": "code",
   "execution_count": 4,
   "id": "a9d12b99-0af7-49f3-859a-0110c9aee2a0",
   "metadata": {},
   "outputs": [
    {
     "data": {
      "text/html": [
       "<div>\n",
       "<style scoped>\n",
       "    .dataframe tbody tr th:only-of-type {\n",
       "        vertical-align: middle;\n",
       "    }\n",
       "\n",
       "    .dataframe tbody tr th {\n",
       "        vertical-align: top;\n",
       "    }\n",
       "\n",
       "    .dataframe thead th {\n",
       "        text-align: right;\n",
       "    }\n",
       "</style>\n",
       "<table border=\"1\" class=\"dataframe\">\n",
       "  <thead>\n",
       "    <tr style=\"text-align: right;\">\n",
       "      <th></th>\n",
       "      <th>0</th>\n",
       "      <th>1</th>\n",
       "      <th>2</th>\n",
       "      <th>3</th>\n",
       "    </tr>\n",
       "  </thead>\n",
       "  <tbody>\n",
       "    <tr>\n",
       "      <th>0</th>\n",
       "      <td>홍 길동</td>\n",
       "      <td>이 나영</td>\n",
       "      <td>마 징가</td>\n",
       "      <td>베 토벤</td>\n",
       "    </tr>\n",
       "    <tr>\n",
       "      <th>1</th>\n",
       "      <td>10</td>\n",
       "      <td>21</td>\n",
       "      <td>73</td>\n",
       "      <td>89</td>\n",
       "    </tr>\n",
       "    <tr>\n",
       "      <th>2</th>\n",
       "      <td>2000/01/23</td>\n",
       "      <td>2020/11/08</td>\n",
       "      <td>1999/5/4</td>\n",
       "      <td>1987/12/24</td>\n",
       "    </tr>\n",
       "  </tbody>\n",
       "</table>\n",
       "</div>"
      ],
      "text/plain": [
       "            0           1         2           3\n",
       "0        홍 길동        이 나영      마 징가        베 토벤\n",
       "1          10          21        73          89\n",
       "2  2000/01/23  2020/11/08  1999/5/4  1987/12/24"
      ]
     },
     "execution_count": 4,
     "metadata": {},
     "output_type": "execute_result"
    }
   ],
   "source": [
    "# 리스트 ===> 데이터프레임\n",
    "df1=pd.DataFrame(datas2)\n",
    "df1"
   ]
  },
  {
   "cell_type": "markdown",
   "id": "00922c09-8fb7-4566-9897-6ed626a6c1e7",
   "metadata": {},
   "source": [
    "(4) 데이터 정보 확인 <hr>"
   ]
  },
  {
   "cell_type": "code",
   "execution_count": 5,
   "id": "7b79b631-6102-4d9d-b91d-7b54617f2ac9",
   "metadata": {},
   "outputs": [
    {
     "name": "stdout",
     "output_type": "stream",
     "text": [
      "<class 'pandas.core.frame.DataFrame'>\n",
      "RangeIndex: 3 entries, 0 to 2\n",
      "Data columns (total 4 columns):\n",
      " #   Column  Non-Null Count  Dtype \n",
      "---  ------  --------------  ----- \n",
      " 0   0       3 non-null      object\n",
      " 1   1       3 non-null      object\n",
      " 2   2       3 non-null      object\n",
      " 3   3       3 non-null      object\n",
      "dtypes: object(4)\n",
      "memory usage: 224.0+ bytes\n"
     ]
    }
   ],
   "source": [
    "# 데이터의 전체 기본 정보 => info()\n",
    "df1.info()"
   ]
  },
  {
   "cell_type": "markdown",
   "id": "ae0e4724-acb5-42a0-9d7f-1f1e243eef71",
   "metadata": {},
   "source": [
    "(5) 데이터 전처리 <hr>"
   ]
  },
  {
   "cell_type": "markdown",
   "id": "21b8d17b-1c04-4e56-bbf4-2c321ef4241e",
   "metadata": {},
   "source": [
    "- (5-1) 행 <=> 열 치환 : T"
   ]
  },
  {
   "cell_type": "code",
   "execution_count": 6,
   "id": "f5b3b989-6380-49e9-a162-40a121c630d8",
   "metadata": {},
   "outputs": [
    {
     "name": "stdout",
     "output_type": "stream",
     "text": [
      "<class 'pandas.core.frame.DataFrame'>\n",
      "RangeIndex: 4 entries, 0 to 3\n",
      "Data columns (total 3 columns):\n",
      " #   Column  Non-Null Count  Dtype \n",
      "---  ------  --------------  ----- \n",
      " 0   0       4 non-null      object\n",
      " 1   1       4 non-null      object\n",
      " 2   2       4 non-null      object\n",
      "dtypes: object(3)\n",
      "memory usage: 224.0+ bytes\n"
     ]
    }
   ],
   "source": [
    "df1 = df1.T\n",
    "df1.info()"
   ]
  },
  {
   "cell_type": "code",
   "execution_count": 7,
   "id": "d1a2106e-0e4c-4fcd-9ee7-5b7f83a7e433",
   "metadata": {},
   "outputs": [
    {
     "data": {
      "text/html": [
       "<div>\n",
       "<style scoped>\n",
       "    .dataframe tbody tr th:only-of-type {\n",
       "        vertical-align: middle;\n",
       "    }\n",
       "\n",
       "    .dataframe tbody tr th {\n",
       "        vertical-align: top;\n",
       "    }\n",
       "\n",
       "    .dataframe thead th {\n",
       "        text-align: right;\n",
       "    }\n",
       "</style>\n",
       "<table border=\"1\" class=\"dataframe\">\n",
       "  <thead>\n",
       "    <tr style=\"text-align: right;\">\n",
       "      <th></th>\n",
       "      <th>0</th>\n",
       "      <th>1</th>\n",
       "      <th>2</th>\n",
       "    </tr>\n",
       "  </thead>\n",
       "  <tbody>\n",
       "    <tr>\n",
       "      <th>0</th>\n",
       "      <td>홍 길동</td>\n",
       "      <td>10</td>\n",
       "      <td>2000/01/23</td>\n",
       "    </tr>\n",
       "    <tr>\n",
       "      <th>1</th>\n",
       "      <td>이 나영</td>\n",
       "      <td>21</td>\n",
       "      <td>2020/11/08</td>\n",
       "    </tr>\n",
       "    <tr>\n",
       "      <th>2</th>\n",
       "      <td>마 징가</td>\n",
       "      <td>73</td>\n",
       "      <td>1999/5/4</td>\n",
       "    </tr>\n",
       "    <tr>\n",
       "      <th>3</th>\n",
       "      <td>베 토벤</td>\n",
       "      <td>89</td>\n",
       "      <td>1987/12/24</td>\n",
       "    </tr>\n",
       "  </tbody>\n",
       "</table>\n",
       "</div>"
      ],
      "text/plain": [
       "      0   1           2\n",
       "0  홍 길동  10  2000/01/23\n",
       "1  이 나영  21  2020/11/08\n",
       "2  마 징가  73    1999/5/4\n",
       "3  베 토벤  89  1987/12/24"
      ]
     },
     "execution_count": 7,
     "metadata": {},
     "output_type": "execute_result"
    }
   ],
   "source": [
    "df1.head()"
   ]
  },
  {
   "cell_type": "code",
   "execution_count": 8,
   "id": "37037a13-f4f3-4bdc-a4bd-a716d620c4ce",
   "metadata": {},
   "outputs": [],
   "source": [
    "# 1번 컬럼 : object => 정수\n",
    "df1[1] = df1[1].astype('uint8') # uint ----> 부호가 붙어있지 않은 숫자. # 64면 8바이트"
   ]
  },
  {
   "cell_type": "code",
   "execution_count": 9,
   "id": "e4188e4d-5b8f-4dcd-b29d-6df4330e458d",
   "metadata": {},
   "outputs": [
    {
     "data": {
      "text/plain": [
       "0    object\n",
       "1     uint8\n",
       "2    object\n",
       "dtype: object"
      ]
     },
     "execution_count": 9,
     "metadata": {},
     "output_type": "execute_result"
    }
   ],
   "source": [
    "df1.dtypes"
   ]
  },
  {
   "cell_type": "code",
   "execution_count": 10,
   "id": "107a67f9-961c-468f-b2d4-9b0f6b33d595",
   "metadata": {},
   "outputs": [
    {
     "data": {
      "text/html": [
       "<div>\n",
       "<style scoped>\n",
       "    .dataframe tbody tr th:only-of-type {\n",
       "        vertical-align: middle;\n",
       "    }\n",
       "\n",
       "    .dataframe tbody tr th {\n",
       "        vertical-align: top;\n",
       "    }\n",
       "\n",
       "    .dataframe thead th {\n",
       "        text-align: right;\n",
       "    }\n",
       "</style>\n",
       "<table border=\"1\" class=\"dataframe\">\n",
       "  <thead>\n",
       "    <tr style=\"text-align: right;\">\n",
       "      <th></th>\n",
       "      <th>0</th>\n",
       "      <th>1</th>\n",
       "      <th>2</th>\n",
       "    </tr>\n",
       "  </thead>\n",
       "  <tbody>\n",
       "    <tr>\n",
       "      <th>0</th>\n",
       "      <td>홍 길동</td>\n",
       "      <td>10</td>\n",
       "      <td>2000-01-23</td>\n",
       "    </tr>\n",
       "    <tr>\n",
       "      <th>1</th>\n",
       "      <td>이 나영</td>\n",
       "      <td>21</td>\n",
       "      <td>2020-11-08</td>\n",
       "    </tr>\n",
       "    <tr>\n",
       "      <th>2</th>\n",
       "      <td>마 징가</td>\n",
       "      <td>73</td>\n",
       "      <td>1999-05-04</td>\n",
       "    </tr>\n",
       "    <tr>\n",
       "      <th>3</th>\n",
       "      <td>베 토벤</td>\n",
       "      <td>89</td>\n",
       "      <td>1987-12-24</td>\n",
       "    </tr>\n",
       "  </tbody>\n",
       "</table>\n",
       "</div>"
      ],
      "text/plain": [
       "      0   1          2\n",
       "0  홍 길동  10 2000-01-23\n",
       "1  이 나영  21 2020-11-08\n",
       "2  마 징가  73 1999-05-04\n",
       "3  베 토벤  89 1987-12-24"
      ]
     },
     "execution_count": 10,
     "metadata": {},
     "output_type": "execute_result"
    }
   ],
   "source": [
    "# 2번 컬럼 : object => datetime64[ns]\n",
    "df1[2]=df1[2].astype('datetime64[ns]')\n",
    "df1"
   ]
  },
  {
   "cell_type": "code",
   "execution_count": 11,
   "id": "70ab2349-5f64-4a95-8193-0c7ea52d8718",
   "metadata": {},
   "outputs": [
    {
     "data": {
      "text/plain": [
       "0            object\n",
       "1             uint8\n",
       "2    datetime64[ns]\n",
       "dtype: object"
      ]
     },
     "execution_count": 11,
     "metadata": {},
     "output_type": "execute_result"
    }
   ],
   "source": [
    "df1.dtypes"
   ]
  },
  {
   "cell_type": "markdown",
   "id": "fc9958e9-b845-4aad-bf1c-9b0ad20db78c",
   "metadata": {},
   "source": [
    "(5-3) 0번 컬럼의 이름을 성과 이름으로 분리."
   ]
  },
  {
   "cell_type": "code",
   "execution_count": 12,
   "id": "3e3aa8cc-a475-46df-aa76-9e8a64e5899f",
   "metadata": {},
   "outputs": [
    {
     "data": {
      "text/plain": [
       "0    홍 길동\n",
       "1    이 나영\n",
       "2    마 징가\n",
       "3    베 토벤\n",
       "Name: 0, dtype: object"
      ]
     },
     "execution_count": 12,
     "metadata": {},
     "output_type": "execute_result"
    }
   ],
   "source": [
    "#0번 컬럼만 추출 => Series\n",
    "nameSR = df1[0]\n",
    "nameSR"
   ]
  },
  {
   "cell_type": "code",
   "execution_count": 13,
   "id": "7c7282ab-c189-4eb5-b384-b9c5ab93de96",
   "metadata": {},
   "outputs": [
    {
     "data": {
      "text/plain": [
       "(str, '이 나영', ['이', '나영'])"
      ]
     },
     "execution_count": 13,
     "metadata": {},
     "output_type": "execute_result"
    }
   ],
   "source": [
    "# '이 나영' 데이터를 추출 => 성과 이름으로 분리\n",
    "type(nameSR[1]), nameSR[1].upper(), nameSR[1].split()"
   ]
  },
  {
   "cell_type": "code",
   "execution_count": 14,
   "id": "a07f808d-01cf-40a1-9c59-5dee1144b719",
   "metadata": {},
   "outputs": [],
   "source": [
    "#nameSR[1].split()"
   ]
  },
  {
   "cell_type": "code",
   "execution_count": 15,
   "id": "1bc2f410-eaeb-4a27-832d-d83f7cafddc7",
   "metadata": {
    "scrolled": true
   },
   "outputs": [],
   "source": [
    "# for idx in range(nameSR.shape[0]) :\n",
    "#     nameSR[idx] = nameSR[idx].split()\n",
    "# nameSR"
   ]
  },
  {
   "cell_type": "code",
   "execution_count": 16,
   "id": "d8c3a0c6-2019-457a-b4a2-ac1fca8ec35e",
   "metadata": {},
   "outputs": [],
   "source": [
    "namesDF = nameSR.str.split(expand=True)"
   ]
  },
  {
   "cell_type": "code",
   "execution_count": 17,
   "id": "cff2651d-0351-4b84-8172-a75e004dfae3",
   "metadata": {},
   "outputs": [
    {
     "data": {
      "text/plain": [
       "(      0   1          2\n",
       " 0  홍 길동  10 2000-01-23\n",
       " 1  이 나영  21 2020-11-08\n",
       " 2  마 징가  73 1999-05-04\n",
       " 3  베 토벤  89 1987-12-24,\n",
       "    0   1\n",
       " 0  홍  길동\n",
       " 1  이  나영\n",
       " 2  마  징가\n",
       " 3  베  토벤)"
      ]
     },
     "execution_count": 17,
     "metadata": {},
     "output_type": "execute_result"
    }
   ],
   "source": [
    "df1, namesDF"
   ]
  },
  {
   "cell_type": "markdown",
   "id": "2dd20d2a-2da8-4e5f-912b-6ad2a26812ae",
   "metadata": {},
   "source": [
    "- (5-4) 두 개의 DataFrame을 컬럼 방향으로 연결."
   ]
  },
  {
   "cell_type": "code",
   "execution_count": 18,
   "id": "6801b13d-2f78-46e9-a514-72c3cd32e0ef",
   "metadata": {},
   "outputs": [
    {
     "data": {
      "text/html": [
       "<div>\n",
       "<style scoped>\n",
       "    .dataframe tbody tr th:only-of-type {\n",
       "        vertical-align: middle;\n",
       "    }\n",
       "\n",
       "    .dataframe tbody tr th {\n",
       "        vertical-align: top;\n",
       "    }\n",
       "\n",
       "    .dataframe thead th {\n",
       "        text-align: right;\n",
       "    }\n",
       "</style>\n",
       "<table border=\"1\" class=\"dataframe\">\n",
       "  <thead>\n",
       "    <tr style=\"text-align: right;\">\n",
       "      <th></th>\n",
       "      <th>0</th>\n",
       "      <th>1</th>\n",
       "      <th>2</th>\n",
       "    </tr>\n",
       "  </thead>\n",
       "  <tbody>\n",
       "    <tr>\n",
       "      <th>0</th>\n",
       "      <td>홍 길동</td>\n",
       "      <td>10</td>\n",
       "      <td>2000-01-23</td>\n",
       "    </tr>\n",
       "    <tr>\n",
       "      <th>1</th>\n",
       "      <td>이 나영</td>\n",
       "      <td>21</td>\n",
       "      <td>2020-11-08</td>\n",
       "    </tr>\n",
       "    <tr>\n",
       "      <th>2</th>\n",
       "      <td>마 징가</td>\n",
       "      <td>73</td>\n",
       "      <td>1999-05-04</td>\n",
       "    </tr>\n",
       "    <tr>\n",
       "      <th>3</th>\n",
       "      <td>베 토벤</td>\n",
       "      <td>89</td>\n",
       "      <td>1987-12-24</td>\n",
       "    </tr>\n",
       "    <tr>\n",
       "      <th>0</th>\n",
       "      <td>홍</td>\n",
       "      <td>길동</td>\n",
       "      <td>NaT</td>\n",
       "    </tr>\n",
       "    <tr>\n",
       "      <th>1</th>\n",
       "      <td>이</td>\n",
       "      <td>나영</td>\n",
       "      <td>NaT</td>\n",
       "    </tr>\n",
       "    <tr>\n",
       "      <th>2</th>\n",
       "      <td>마</td>\n",
       "      <td>징가</td>\n",
       "      <td>NaT</td>\n",
       "    </tr>\n",
       "    <tr>\n",
       "      <th>3</th>\n",
       "      <td>베</td>\n",
       "      <td>토벤</td>\n",
       "      <td>NaT</td>\n",
       "    </tr>\n",
       "  </tbody>\n",
       "</table>\n",
       "</div>"
      ],
      "text/plain": [
       "      0   1          2\n",
       "0  홍 길동  10 2000-01-23\n",
       "1  이 나영  21 2020-11-08\n",
       "2  마 징가  73 1999-05-04\n",
       "3  베 토벤  89 1987-12-24\n",
       "0     홍  길동        NaT\n",
       "1     이  나영        NaT\n",
       "2     마  징가        NaT\n",
       "3     베  토벤        NaT"
      ]
     },
     "execution_count": 18,
     "metadata": {},
     "output_type": "execute_result"
    }
   ],
   "source": [
    "pd.concat([df1, namesDF]) #기본값은 행으로 연결. / 컬럼이 같은 곳에 들어감. 날짜/시간 컬럼이 없어서 NaT(Not A Time)로 채워짐."
   ]
  },
  {
   "cell_type": "code",
   "execution_count": 19,
   "id": "a4d82d71-6b5f-4c78-8671-15a4f932b8f8",
   "metadata": {},
   "outputs": [
    {
     "data": {
      "text/html": [
       "<div>\n",
       "<style scoped>\n",
       "    .dataframe tbody tr th:only-of-type {\n",
       "        vertical-align: middle;\n",
       "    }\n",
       "\n",
       "    .dataframe tbody tr th {\n",
       "        vertical-align: top;\n",
       "    }\n",
       "\n",
       "    .dataframe thead th {\n",
       "        text-align: right;\n",
       "    }\n",
       "</style>\n",
       "<table border=\"1\" class=\"dataframe\">\n",
       "  <thead>\n",
       "    <tr style=\"text-align: right;\">\n",
       "      <th></th>\n",
       "      <th>0</th>\n",
       "      <th>1</th>\n",
       "      <th>2</th>\n",
       "      <th>3</th>\n",
       "      <th>4</th>\n",
       "    </tr>\n",
       "  </thead>\n",
       "  <tbody>\n",
       "    <tr>\n",
       "      <th>0</th>\n",
       "      <td>홍 길동</td>\n",
       "      <td>10</td>\n",
       "      <td>2000-01-23</td>\n",
       "      <td>홍</td>\n",
       "      <td>길동</td>\n",
       "    </tr>\n",
       "    <tr>\n",
       "      <th>1</th>\n",
       "      <td>이 나영</td>\n",
       "      <td>21</td>\n",
       "      <td>2020-11-08</td>\n",
       "      <td>이</td>\n",
       "      <td>나영</td>\n",
       "    </tr>\n",
       "    <tr>\n",
       "      <th>2</th>\n",
       "      <td>마 징가</td>\n",
       "      <td>73</td>\n",
       "      <td>1999-05-04</td>\n",
       "      <td>마</td>\n",
       "      <td>징가</td>\n",
       "    </tr>\n",
       "    <tr>\n",
       "      <th>3</th>\n",
       "      <td>베 토벤</td>\n",
       "      <td>89</td>\n",
       "      <td>1987-12-24</td>\n",
       "      <td>베</td>\n",
       "      <td>토벤</td>\n",
       "    </tr>\n",
       "  </tbody>\n",
       "</table>\n",
       "</div>"
      ],
      "text/plain": [
       "      0   1          2  3   4\n",
       "0  홍 길동  10 2000-01-23  홍  길동\n",
       "1  이 나영  21 2020-11-08  이  나영\n",
       "2  마 징가  73 1999-05-04  마  징가\n",
       "3  베 토벤  89 1987-12-24  베  토벤"
      ]
     },
     "execution_count": 19,
     "metadata": {},
     "output_type": "execute_result"
    }
   ],
   "source": [
    "pd.concat([df1, namesDF], axis = 'columns', ignore_index=True) \n",
    "# 값을 컬럼으로 설정. axis =1로 설정해도 됨. / ignore_index = True : 원래 있던 인덱스를 무시하고 새로 설정."
   ]
  },
  {
   "cell_type": "markdown",
   "id": "dca0eeed-c1a6-47e3-9a1a-52686dcccfea",
   "metadata": {},
   "source": [
    "- (5-5) 2번 컬럼에서 년, 월, 일을 분리\n",
    "  "
   ]
  },
  {
   "cell_type": "code",
   "execution_count": 20,
   "id": "cace5108-22e0-4983-930a-c9b232cdf238",
   "metadata": {},
   "outputs": [
    {
     "data": {
      "text/plain": [
       "0   2000-01-23\n",
       "1   2020-11-08\n",
       "2   1999-05-04\n",
       "3   1987-12-24\n",
       "Name: 2, dtype: datetime64[ns]"
      ]
     },
     "execution_count": 20,
     "metadata": {},
     "output_type": "execute_result"
    }
   ],
   "source": [
    "df1[2]"
   ]
  },
  {
   "cell_type": "code",
   "execution_count": 21,
   "id": "3f78ca8b-162a-461f-9304-86d766a6bba9",
   "metadata": {},
   "outputs": [],
   "source": [
    "yearSR = df1[2].dt.year"
   ]
  },
  {
   "cell_type": "code",
   "execution_count": 22,
   "id": "4ebdf84e-af1b-4589-9170-ea7e83ed0182",
   "metadata": {},
   "outputs": [],
   "source": [
    "monthSR = df1[2].dt.month"
   ]
  },
  {
   "cell_type": "code",
   "execution_count": 23,
   "id": "cb7c80de-50cf-453a-8912-a330e7708eaf",
   "metadata": {},
   "outputs": [],
   "source": [
    "daySR = df1[2].dt.day"
   ]
  },
  {
   "cell_type": "code",
   "execution_count": 24,
   "id": "e358c165-e774-4d64-82bf-0cfb54d960c8",
   "metadata": {},
   "outputs": [
    {
     "data": {
      "text/html": [
       "<div>\n",
       "<style scoped>\n",
       "    .dataframe tbody tr th:only-of-type {\n",
       "        vertical-align: middle;\n",
       "    }\n",
       "\n",
       "    .dataframe tbody tr th {\n",
       "        vertical-align: top;\n",
       "    }\n",
       "\n",
       "    .dataframe thead th {\n",
       "        text-align: right;\n",
       "    }\n",
       "</style>\n",
       "<table border=\"1\" class=\"dataframe\">\n",
       "  <thead>\n",
       "    <tr style=\"text-align: right;\">\n",
       "      <th></th>\n",
       "      <th>0</th>\n",
       "      <th>1</th>\n",
       "      <th>2</th>\n",
       "      <th>3</th>\n",
       "    </tr>\n",
       "  </thead>\n",
       "  <tbody>\n",
       "    <tr>\n",
       "      <th>0</th>\n",
       "      <td>홍 길동</td>\n",
       "      <td>10</td>\n",
       "      <td>2000-01-23</td>\n",
       "      <td>2000</td>\n",
       "    </tr>\n",
       "    <tr>\n",
       "      <th>1</th>\n",
       "      <td>이 나영</td>\n",
       "      <td>21</td>\n",
       "      <td>2020-11-08</td>\n",
       "      <td>2020</td>\n",
       "    </tr>\n",
       "    <tr>\n",
       "      <th>2</th>\n",
       "      <td>마 징가</td>\n",
       "      <td>73</td>\n",
       "      <td>1999-05-04</td>\n",
       "      <td>1999</td>\n",
       "    </tr>\n",
       "    <tr>\n",
       "      <th>3</th>\n",
       "      <td>베 토벤</td>\n",
       "      <td>89</td>\n",
       "      <td>1987-12-24</td>\n",
       "      <td>1987</td>\n",
       "    </tr>\n",
       "  </tbody>\n",
       "</table>\n",
       "</div>"
      ],
      "text/plain": [
       "      0   1          2     3\n",
       "0  홍 길동  10 2000-01-23  2000\n",
       "1  이 나영  21 2020-11-08  2020\n",
       "2  마 징가  73 1999-05-04  1999\n",
       "3  베 토벤  89 1987-12-24  1987"
      ]
     },
     "execution_count": 24,
     "metadata": {},
     "output_type": "execute_result"
    }
   ],
   "source": [
    "pd.concat([df1, yearSR], axis = 1, ignore_index=True) #"
   ]
  },
  {
   "cell_type": "markdown",
   "id": "f42f3258-7111-417a-a020-d76a60a8436b",
   "metadata": {},
   "source": [
    "- (5-6) 현재 DataFrame을 파일로 저장하기 => pandas.to_XXX(\"파일경로+파일명\")"
   ]
  },
  {
   "cell_type": "code",
   "execution_count": 25,
   "id": "18a8751e-0259-4d7a-bad2-8d95adaa18d1",
   "metadata": {},
   "outputs": [],
   "source": [
    "#csv => 데이터와 데이터의 구분자\n",
    "filename = './backup.csv'              # 현재위치에 저장시 '파일명.csv'만 작성."
   ]
  },
  {
   "cell_type": "code",
   "execution_count": 30,
   "id": "955b88c4-0a47-4e8b-8299-7bd6710489bd",
   "metadata": {},
   "outputs": [],
   "source": [
    "df1.to_csv(filename, sep=\" \", header = False, index = False) # 구분자 공백. header = False : 헤더 없어짐./ index = False 인덱스 없어짐."
   ]
  },
  {
   "cell_type": "code",
   "execution_count": 32,
   "id": "29b2f512-e5b5-42af-b637-5192392b6468",
   "metadata": {},
   "outputs": [
    {
     "data": {
      "text/html": [
       "<div>\n",
       "<style scoped>\n",
       "    .dataframe tbody tr th:only-of-type {\n",
       "        vertical-align: middle;\n",
       "    }\n",
       "\n",
       "    .dataframe tbody tr th {\n",
       "        vertical-align: top;\n",
       "    }\n",
       "\n",
       "    .dataframe thead th {\n",
       "        text-align: right;\n",
       "    }\n",
       "</style>\n",
       "<table border=\"1\" class=\"dataframe\">\n",
       "  <thead>\n",
       "    <tr style=\"text-align: right;\">\n",
       "      <th></th>\n",
       "      <th>0</th>\n",
       "      <th>1</th>\n",
       "      <th>2</th>\n",
       "    </tr>\n",
       "  </thead>\n",
       "  <tbody>\n",
       "    <tr>\n",
       "      <th>0</th>\n",
       "      <td>홍 길동</td>\n",
       "      <td>10</td>\n",
       "      <td>2000-01-23</td>\n",
       "    </tr>\n",
       "    <tr>\n",
       "      <th>1</th>\n",
       "      <td>이 나영</td>\n",
       "      <td>21</td>\n",
       "      <td>2020-11-08</td>\n",
       "    </tr>\n",
       "    <tr>\n",
       "      <th>2</th>\n",
       "      <td>마 징가</td>\n",
       "      <td>73</td>\n",
       "      <td>1999-05-04</td>\n",
       "    </tr>\n",
       "    <tr>\n",
       "      <th>3</th>\n",
       "      <td>베 토벤</td>\n",
       "      <td>89</td>\n",
       "      <td>1987-12-24</td>\n",
       "    </tr>\n",
       "  </tbody>\n",
       "</table>\n",
       "</div>"
      ],
      "text/plain": [
       "      0   1           2\n",
       "0  홍 길동  10  2000-01-23\n",
       "1  이 나영  21  2020-11-08\n",
       "2  마 징가  73  1999-05-04\n",
       "3  베 토벤  89  1987-12-24"
      ]
     },
     "execution_count": 32,
     "metadata": {},
     "output_type": "execute_result"
    }
   ],
   "source": [
    "pd.read_csv(filename, header=None, sep=\" \")"
   ]
  },
  {
   "cell_type": "markdown",
   "id": "a14e2ef5-51d9-4577-b9d2-87bed8457e43",
   "metadata": {},
   "source": [
    "구성 형태와 속성이 균일하다면 행 또는 열중에 어느 한 방향으로 이어붙이는 것. -> 일관성 유지.\n",
    "\n",
    "<파라미터>\n",
    "\n",
    "axis = 0 인덱스(axis = 'index')\n",
    "\n",
    "axis = 1 컬럼(axis = 'columns')\n",
    "\n",
    "join ='outer' ----> 열 이름 합집합\n",
    "\n",
    "keys =[] ----> 행/열 이름 재정의"
   ]
  },
  {
   "cell_type": "code",
   "execution_count": null,
   "id": "f141b70e-ae09-4221-b628-435c237d0860",
   "metadata": {},
   "outputs": [],
   "source": []
  }
 ],
 "metadata": {
  "kernelspec": {
   "display_name": "Python 3 (ipykernel)",
   "language": "python",
   "name": "python3"
  },
  "language_info": {
   "codemirror_mode": {
    "name": "ipython",
    "version": 3
   },
   "file_extension": ".py",
   "mimetype": "text/x-python",
   "name": "python",
   "nbconvert_exporter": "python",
   "pygments_lexer": "ipython3",
   "version": "3.8.18"
  }
 },
 "nbformat": 4,
 "nbformat_minor": 5
}
