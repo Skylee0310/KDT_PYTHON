{
 "cells": [
  {
   "cell_type": "markdown",
   "id": "f8582f8c",
   "metadata": {},
   "source": [
    "### 시가 생선 계산 서비스 구현\n",
    "\n",
    "- 주요 학습 : 지도학습 -> 회귀\n",
    "- 세부 학습 : 선형회귀(LinearRegression)\n",
    "    * 이유 : 데이터의 분포가 선형관계임"
   ]
  },
  {
   "cell_type": "markdown",
   "id": "b241f0c5",
   "metadata": {},
   "source": [
    "### [1] 데이터 준비 및 확인"
   ]
  },
  {
   "cell_type": "code",
   "execution_count": 1,
   "id": "87ca89d6",
   "metadata": {},
   "outputs": [],
   "source": [
    "filename='../../data/fish.csv'"
   ]
  },
  {
   "cell_type": "code",
   "execution_count": 2,
   "id": "942c5da1",
   "metadata": {},
   "outputs": [],
   "source": [
    "import pandas as pd\n",
    "import numpy as np\n",
    "import matplotlib.pyplot as plt\n",
    "import seaborn as sns\n",
    "from sklearn.model_selection import train_test_split\n",
    "from sklearn.linear_model import LinearRegression"
   ]
  },
  {
   "cell_type": "code",
   "execution_count": 3,
   "id": "5f35d4c4",
   "metadata": {},
   "outputs": [],
   "source": [
    "#  74번~ 129번 => perch 농어 데이터\n",
    "fishDF=pd.read_csv(filename,\n",
    "                    header=None, \n",
    "                    skiprows=73, \n",
    "                    skipfooter=31,\n",
    "                    usecols=[1, 2],     # 1 - Weight, 2 - Length\n",
    "                    engine='python')   # skipfooter 매개변수 사용 시 지정"
   ]
  },
  {
   "cell_type": "code",
   "execution_count": 4,
   "id": "a749cebd",
   "metadata": {},
   "outputs": [],
   "source": [
    "fishDF.columns=['Weight','Length' ]"
   ]
  },
  {
   "cell_type": "code",
   "execution_count": 5,
   "id": "a3e817dc",
   "metadata": {},
   "outputs": [
    {
     "name": "stdout",
     "output_type": "stream",
     "text": [
      "<class 'pandas.core.frame.DataFrame'>\n",
      "RangeIndex: 56 entries, 0 to 55\n",
      "Data columns (total 2 columns):\n",
      " #   Column  Non-Null Count  Dtype  \n",
      "---  ------  --------------  -----  \n",
      " 0   Weight  56 non-null     float64\n",
      " 1   Length  56 non-null     float64\n",
      "dtypes: float64(2)\n",
      "memory usage: 1.0 KB\n"
     ]
    }
   ],
   "source": [
    "fishDF.info()"
   ]
  },
  {
   "cell_type": "code",
   "execution_count": 6,
   "id": "2cbda827",
   "metadata": {},
   "outputs": [
    {
     "data": {
      "text/html": [
       "<div>\n",
       "<style scoped>\n",
       "    .dataframe tbody tr th:only-of-type {\n",
       "        vertical-align: middle;\n",
       "    }\n",
       "\n",
       "    .dataframe tbody tr th {\n",
       "        vertical-align: top;\n",
       "    }\n",
       "\n",
       "    .dataframe thead th {\n",
       "        text-align: right;\n",
       "    }\n",
       "</style>\n",
       "<table border=\"1\" class=\"dataframe\">\n",
       "  <thead>\n",
       "    <tr style=\"text-align: right;\">\n",
       "      <th></th>\n",
       "      <th>Weight</th>\n",
       "      <th>Length</th>\n",
       "    </tr>\n",
       "  </thead>\n",
       "  <tbody>\n",
       "    <tr>\n",
       "      <th>count</th>\n",
       "      <td>56.000000</td>\n",
       "      <td>56.000000</td>\n",
       "    </tr>\n",
       "    <tr>\n",
       "      <th>mean</th>\n",
       "      <td>382.239286</td>\n",
       "      <td>27.892857</td>\n",
       "    </tr>\n",
       "    <tr>\n",
       "      <th>std</th>\n",
       "      <td>347.617717</td>\n",
       "      <td>9.021668</td>\n",
       "    </tr>\n",
       "    <tr>\n",
       "      <th>min</th>\n",
       "      <td>5.900000</td>\n",
       "      <td>8.400000</td>\n",
       "    </tr>\n",
       "    <tr>\n",
       "      <th>25%</th>\n",
       "      <td>120.000000</td>\n",
       "      <td>21.825000</td>\n",
       "    </tr>\n",
       "    <tr>\n",
       "      <th>50%</th>\n",
       "      <td>207.500000</td>\n",
       "      <td>25.300000</td>\n",
       "    </tr>\n",
       "    <tr>\n",
       "      <th>75%</th>\n",
       "      <td>692.500000</td>\n",
       "      <td>36.625000</td>\n",
       "    </tr>\n",
       "    <tr>\n",
       "      <th>max</th>\n",
       "      <td>1100.000000</td>\n",
       "      <td>44.000000</td>\n",
       "    </tr>\n",
       "  </tbody>\n",
       "</table>\n",
       "</div>"
      ],
      "text/plain": [
       "            Weight     Length\n",
       "count    56.000000  56.000000\n",
       "mean    382.239286  27.892857\n",
       "std     347.617717   9.021668\n",
       "min       5.900000   8.400000\n",
       "25%     120.000000  21.825000\n",
       "50%     207.500000  25.300000\n",
       "75%     692.500000  36.625000\n",
       "max    1100.000000  44.000000"
      ]
     },
     "execution_count": 6,
     "metadata": {},
     "output_type": "execute_result"
    }
   ],
   "source": [
    "fishDF.describe()"
   ]
  },
  {
   "cell_type": "markdown",
   "id": "05d9e632",
   "metadata": {},
   "source": [
    "### [2] 데이터 분석"
   ]
  },
  {
   "cell_type": "code",
   "execution_count": 7,
   "id": "61003730",
   "metadata": {},
   "outputs": [
    {
     "data": {
      "image/png": "[encoded data removed]",
      "text/plain": [
       "<Figure size 640x480 with 1 Axes>"
      ]
     },
     "metadata": {},
     "output_type": "display_data"
    }
   ],
   "source": [
    "# 시각화해서 확인 \n",
    "import matplotlib.pyplot as plt\n",
    "\n",
    "# 수치 데이터의 관계 그래프 => 산점도(scatter)\n",
    "plt.scatter(fishDF.Length, fishDF.Weight)\n",
    "plt.xlabel('Length')\n",
    "plt.ylabel('Weight')\n",
    "plt.show()"
   ]
  },
  {
   "cell_type": "code",
   "execution_count": 8,
   "id": "f9c44fa0",
   "metadata": {},
   "outputs": [
    {
     "data": {
      "text/html": [
       "<div>\n",
       "<style scoped>\n",
       "    .dataframe tbody tr th:only-of-type {\n",
       "        vertical-align: middle;\n",
       "    }\n",
       "\n",
       "    .dataframe tbody tr th {\n",
       "        vertical-align: top;\n",
       "    }\n",
       "\n",
       "    .dataframe thead th {\n",
       "        text-align: right;\n",
       "    }\n",
       "</style>\n",
       "<table border=\"1\" class=\"dataframe\">\n",
       "  <thead>\n",
       "    <tr style=\"text-align: right;\">\n",
       "      <th></th>\n",
       "      <th>Weight</th>\n",
       "      <th>Length</th>\n",
       "    </tr>\n",
       "  </thead>\n",
       "  <tbody>\n",
       "    <tr>\n",
       "      <th>Weight</th>\n",
       "      <td>1.000000</td>\n",
       "      <td>0.958656</td>\n",
       "    </tr>\n",
       "    <tr>\n",
       "      <th>Length</th>\n",
       "      <td>0.958656</td>\n",
       "      <td>1.000000</td>\n",
       "    </tr>\n",
       "  </tbody>\n",
       "</table>\n",
       "</div>"
      ],
      "text/plain": [
       "          Weight    Length\n",
       "Weight  1.000000  0.958656\n",
       "Length  0.958656  1.000000"
      ]
     },
     "execution_count": 8,
     "metadata": {},
     "output_type": "execute_result"
    }
   ],
   "source": [
    "# 상관계수 수치과\n",
    "fishDF.corr()"
   ]
  },
  {
   "cell_type": "markdown",
   "id": "6e93947a",
   "metadata": {},
   "source": [
    "### [3]  데이터 가공"
   ]
  },
  {
   "cell_type": "markdown",
   "id": "46335482",
   "metadata": {},
   "source": [
    "- [3-1] 특성/피쳐 데이터와 타겟 데이터 분리"
   ]
  },
  {
   "cell_type": "code",
   "execution_count": 9,
   "id": "16953b9c",
   "metadata": {},
   "outputs": [],
   "source": [
    "# 학습 진행 ==> fit(2D, 1D)\n",
    "# 학습 진행 후 ==> 모델파라미터(Model Parameter) : 기울기/가중치와 절편\n",
    "# 학습에 사용할 특성 테이터 => 2D\n",
    "featureDF=fishDF.Length.to_frame()\n",
    "\n",
    "# 학습에 사용할 타겟 데이터 => 1D\n",
    "targetDF=fishDF.Weight.copy()"
   ]
  },
  {
   "cell_type": "code",
   "execution_count": 10,
   "id": "ea012ccb",
   "metadata": {},
   "outputs": [
    {
     "data": {
      "text/plain": [
       "(   Length\n",
       " 0     8.4\n",
       " 1    13.7,\n",
       " RangeIndex(start=0, stop=56, step=1))"
      ]
     },
     "execution_count": 10,
     "metadata": {},
     "output_type": "execute_result"
    }
   ],
   "source": [
    "featureDF.head(2), featureDF.index"
   ]
  },
  {
   "cell_type": "code",
   "execution_count": 11,
   "id": "334e5563",
   "metadata": {},
   "outputs": [
    {
     "data": {
      "text/plain": [
       "0     5.9\n",
       "1    32.0\n",
       "Name: Weight, dtype: float64"
      ]
     },
     "execution_count": 11,
     "metadata": {},
     "output_type": "execute_result"
    }
   ],
   "source": [
    "targetDF.head(2)"
   ]
  },
  {
   "cell_type": "markdown",
   "id": "ec1f85a8",
   "metadata": {},
   "source": [
    "- [3-2] 훈련용/테스트용 데이터 분리"
   ]
  },
  {
   "cell_type": "code",
   "execution_count": 12,
   "id": "6c844b81",
   "metadata": {},
   "outputs": [],
   "source": [
    "from sklearn.model_selection import train_test_split"
   ]
  },
  {
   "cell_type": "code",
   "execution_count": 13,
   "id": "ef6d1499",
   "metadata": {},
   "outputs": [],
   "source": [
    "# 기본 : 훈련:테스트 = 75% 25%\n",
    "# 반환값 : 튜플 형태,  훈련데이터셋과 테스트데이터셋\n",
    "train_X, test_X, train_y, test_y=train_test_split(  featureDF, \n",
    "                                                    targetDF,\n",
    "                                                    random_state=42)"
   ]
  },
  {
   "cell_type": "code",
   "execution_count": 14,
   "id": "42a4e561",
   "metadata": {},
   "outputs": [
    {
     "name": "stdout",
     "output_type": "stream",
     "text": [
      "train_X :42개, 2차원, (42, 1)\n",
      "test_X :14개, 2차원, (14, 1)\n"
     ]
    }
   ],
   "source": [
    "print(f'train_X :{len(train_X)}개, {train_X.ndim}차원, {train_X.shape}')\n",
    "print(f'test_X :{len(test_X)}개, {test_X.ndim}차원, {test_X.shape}')"
   ]
  },
  {
   "cell_type": "markdown",
   "id": "7eb1aa54",
   "metadata": {},
   "source": [
    "### [4] 학습  => 학습방법 즉 문제해결 방법 변경\n",
    "#### 선형회귀\n",
    "- 최대한 많은 데이터를 만족하는 선형회귀식을 생성함\n",
    "    * 방법 : 제공된 데이터와 타겟을 기준으로 선형회귀식을 생성"
   ]
  },
  {
   "cell_type": "code",
   "execution_count": 15,
   "id": "b6441843",
   "metadata": {},
   "outputs": [],
   "source": [
    "# 객체 생성 \n",
    "reg = LinearRegression()"
   ]
  },
  {
   "cell_type": "code",
   "execution_count": 16,
   "id": "58aa37ab",
   "metadata": {},
   "outputs": [
    {
     "data": {
      "text/html": [
       "<style>#sk-container-id-1 {color: black;}#sk-container-id-1 pre{padding: 0;}#sk-container-id-1 div.sk-toggleable {background-color: white;}#sk-container-id-1 label.sk-toggleable__label {cursor: pointer;display: block;width: 100%;margin-bottom: 0;padding: 0.3em;box-sizing: border-box;text-align: center;}#sk-container-id-1 label.sk-toggleable__label-arrow:before {content: \"▸\";float: left;margin-right: 0.25em;color: #696969;}#sk-container-id-1 label.sk-toggleable__label-arrow:hover:before {color: black;}#sk-container-id-1 div.sk-estimator:hover label.sk-toggleable__label-arrow:before {color: black;}#sk-container-id-1 div.sk-toggleable__content {max-height: 0;max-width: 0;overflow: hidden;text-align: left;background-color: #f0f8ff;}#sk-container-id-1 div.sk-toggleable__content pre {margin: 0.2em;color: black;border-radius: 0.25em;background-color: #f0f8ff;}#sk-container-id-1 input.sk-toggleable__control:checked~div.sk-toggleable__content {max-height: 200px;max-width: 100%;overflow: auto;}#sk-container-id-1 input.sk-toggleable__control:checked~label.sk-toggleable__label-arrow:before {content: \"▾\";}#sk-container-id-1 div.sk-estimator input.sk-toggleable__control:checked~label.sk-toggleable__label {background-color: #d4ebff;}#sk-container-id-1 div.sk-label input.sk-toggleable__control:checked~label.sk-toggleable__label {background-color: #d4ebff;}#sk-container-id-1 input.sk-hidden--visually {border: 0;clip: rect(1px 1px 1px 1px);clip: rect(1px, 1px, 1px, 1px);height: 1px;margin: -1px;overflow: hidden;padding: 0;position: absolute;width: 1px;}#sk-container-id-1 div.sk-estimator {font-family: monospace;background-color: #f0f8ff;border: 1px dotted black;border-radius: 0.25em;box-sizing: border-box;margin-bottom: 0.5em;}#sk-container-id-1 div.sk-estimator:hover {background-color: #d4ebff;}#sk-container-id-1 div.sk-parallel-item::after {content: \"\";width: 100%;border-bottom: 1px solid gray;flex-grow: 1;}#sk-container-id-1 div.sk-label:hover label.sk-toggleable__label {background-color: #d4ebff;}#sk-container-id-1 div.sk-serial::before {content: \"\";position: absolute;border-left: 1px solid gray;box-sizing: border-box;top: 0;bottom: 0;left: 50%;z-index: 0;}#sk-container-id-1 div.sk-serial {display: flex;flex-direction: column;align-items: center;background-color: white;padding-right: 0.2em;padding-left: 0.2em;position: relative;}#sk-container-id-1 div.sk-item {position: relative;z-index: 1;}#sk-container-id-1 div.sk-parallel {display: flex;align-items: stretch;justify-content: center;background-color: white;position: relative;}#sk-container-id-1 div.sk-item::before, #sk-container-id-1 div.sk-parallel-item::before {content: \"\";position: absolute;border-left: 1px solid gray;box-sizing: border-box;top: 0;bottom: 0;left: 50%;z-index: -1;}#sk-container-id-1 div.sk-parallel-item {display: flex;flex-direction: column;z-index: 1;position: relative;background-color: white;}#sk-container-id-1 div.sk-parallel-item:first-child::after {align-self: flex-end;width: 50%;}#sk-container-id-1 div.sk-parallel-item:last-child::after {align-self: flex-start;width: 50%;}#sk-container-id-1 div.sk-parallel-item:only-child::after {width: 0;}#sk-container-id-1 div.sk-dashed-wrapped {border: 1px dashed gray;margin: 0 0.4em 0.5em 0.4em;box-sizing: border-box;padding-bottom: 0.4em;background-color: white;}#sk-container-id-1 div.sk-label label {font-family: monospace;font-weight: bold;display: inline-block;line-height: 1.2em;}#sk-container-id-1 div.sk-label-container {text-align: center;}#sk-container-id-1 div.sk-container {/* jupyter's `normalize.less` sets `[hidden] { display: none; }` but bootstrap.min.css set `[hidden] { display: none !important; }` so we also need the `!important` here to be able to override the default hidden behavior on the sphinx rendered scikit-learn.org. See: https://github.com/scikit-learn/scikit-learn/issues/21755 */display: inline-block !important;position: relative;}#sk-container-id-1 div.sk-text-repr-fallback {display: none;}</style><div id=\"sk-container-id-1\" class=\"sk-top-container\"><div class=\"sk-text-repr-fallback\"><pre>LinearRegression()</pre><b>In a Jupyter environment, please rerun this cell to show the HTML representation or trust the notebook. <br />On GitHub, the HTML representation is unable to render, please try loading this page with nbviewer.org.</b></div><div class=\"sk-container\" hidden><div class=\"sk-item\"><div class=\"sk-estimator sk-toggleable\"><input class=\"sk-toggleable__control sk-hidden--visually\" id=\"sk-estimator-id-1\" type=\"checkbox\" checked><label for=\"sk-estimator-id-1\" class=\"sk-toggleable__label sk-toggleable__label-arrow\">LinearRegression</label><div class=\"sk-toggleable__content\"><pre>LinearRegression()</pre></div></div></div></div></div>"
      ],
      "text/plain": [
       "LinearRegression()"
      ]
     },
     "execution_count": 16,
     "metadata": {},
     "output_type": "execute_result"
    }
   ],
   "source": [
    "# fit()==> 학습\n",
    "reg.fit(train_X, train_y)"
   ]
  },
  {
   "cell_type": "code",
   "execution_count": 17,
   "id": "077b9c36",
   "metadata": {},
   "outputs": [
    {
     "data": {
      "text/plain": [
       "'기울기/가중치 : [39.01714496]'"
      ]
     },
     "execution_count": 17,
     "metadata": {},
     "output_type": "execute_result"
    }
   ],
   "source": [
    "# 학습 후 결정된 파라미터 즉 모델파라미터 확인\n",
    "f'기울기/가중치 : {reg.coef_}'"
   ]
  },
  {
   "cell_type": "code",
   "execution_count": 18,
   "id": "8ac91592",
   "metadata": {},
   "outputs": [
    {
     "data": {
      "text/plain": [
       "'절편/바이어스 : -709.0186449535477'"
      ]
     },
     "execution_count": 18,
     "metadata": {},
     "output_type": "execute_result"
    }
   ],
   "source": [
    "f'절편/바이어스 : {reg.intercept_}'"
   ]
  },
  {
   "cell_type": "markdown",
   "id": "476bd3ee",
   "metadata": {},
   "source": [
    "### [5] 평가"
   ]
  },
  {
   "cell_type": "code",
   "execution_count": 19,
   "id": "93543a98",
   "metadata": {},
   "outputs": [],
   "source": [
    "train_score = reg.score(train_X, train_y)\n",
    "test_score =reg.score(test_X, test_y)"
   ]
  },
  {
   "cell_type": "code",
   "execution_count": 20,
   "id": "42b2977d",
   "metadata": {},
   "outputs": [
    {
     "name": "stdout",
     "output_type": "stream",
     "text": [
      "훈  련 결과 점수 : 0.9398463339976041\n",
      "테스트 결과 점수 : 0.8247503123313559\n"
     ]
    }
   ],
   "source": [
    "print(f'훈  련 결과 점수 : {train_score}' )\n",
    "print(f'테스트 결과 점수 : {test_score}' )"
   ]
  },
  {
   "cell_type": "markdown",
   "id": "26822ab8",
   "metadata": {},
   "source": [
    "### [4] 예측"
   ]
  },
  {
   "cell_type": "code",
   "execution_count": 21,
   "id": "2ee34620",
   "metadata": {},
   "outputs": [
    {
     "data": {
      "text/plain": [
       "(2,)"
      ]
     },
     "execution_count": 21,
     "metadata": {},
     "output_type": "execute_result"
    }
   ],
   "source": [
    "new_data_=pd.DataFrame([[39.2], [12.7]], columns=['Length'])\n",
    "\n",
    "pre_y = reg.predict(new_data_)\n",
    "pre_y.shape"
   ]
  },
  {
   "cell_type": "code",
   "execution_count": 22,
   "id": "4f894e88",
   "metadata": {},
   "outputs": [
    {
     "data": {
      "text/plain": [
       "array([ 820.45343762, -213.50090392])"
      ]
     },
     "execution_count": 22,
     "metadata": {},
     "output_type": "execute_result"
    }
   ],
   "source": [
    "pre_y"
   ]
  },
  {
   "cell_type": "markdown",
   "id": "28db7516",
   "metadata": {},
   "source": [
    "- 시각화 => 회귀선"
   ]
  },
  {
   "cell_type": "code",
   "execution_count": 23,
   "id": "0a407a32",
   "metadata": {},
   "outputs": [
    {
     "data": {
      "image/png": "[encoded data removed]",
      "text/plain": [
       "<Figure size 640x480 with 1 Axes>"
      ]
     },
     "metadata": {},
     "output_type": "display_data"
    }
   ],
   "source": [
    "import matplotlib.pyplot as plt\n",
    "\n",
    "# 수치 데이터의 관계 그래프 => 산점도(scatter)\n",
    "plt.scatter(train_X, train_y, label='Fish')\n",
    "\n",
    "# 선형회귀에서 구한 y=ax+b 공식의 직선 긋기\n",
    "plt.plot(test_X,reg.predict(test_X), 'r-', label='Reg Line')\n",
    "\n",
    "#plt.plot(new_data_, pre_y, '^g', label='New Data')\n",
    "\n",
    "plt.xlabel('Length')\n",
    "plt.ylabel('Weight')\n",
    "plt.legend()\n",
    "plt.grid()\n",
    "plt.show()"
   ]
  },
  {
   "cell_type": "markdown",
   "id": "75bbbd6a",
   "metadata": {},
   "source": [
    "### 다항회귀(Polynominal Regression)\n",
    "\n",
    "- 여러개의 피쳐/속성을 가진 경우 정확도를 올리기 위해서 사용하는 방식\n",
    "- 직선의 데이터 분포가 아닌 경우, 곡선으로 많은 데이터를 만족하는 모델 구현\n",
    "- scikit-learn에는 전용 클래스 없음\n",
    "    * 대신 전처리 즉 preporcessing 모듈에 피쳐/속성을 n차원 다항으로 변형시켜줌\n",
    "    * PolynominalFeature 클래스 \n",
    "    \n",
    "- 회귀식이 복잡\n",
    "    * 2차원 다항식 경우  => $y=W_1X_1^2+W_2X_2+W_3X_3+b$"
   ]
  },
  {
   "cell_type": "markdown",
   "id": "2b0f301c",
   "metadata": {},
   "source": [
    "### [1] 피쳐/특성 공학 기반  ==> 특성 증가"
   ]
  },
  {
   "cell_type": "markdown",
   "id": "603c818a",
   "metadata": {},
   "source": [
    "- 길이(Length) 피쳐를 증강 ==> 2차원으로 "
   ]
  },
  {
   "cell_type": "code",
   "execution_count": 24,
   "id": "1ed1604f",
   "metadata": {},
   "outputs": [],
   "source": [
    "from sklearn.preprocessing import PolynomialFeatures"
   ]
  },
  {
   "cell_type": "code",
   "execution_count": 25,
   "id": "c7cedc23",
   "metadata": {},
   "outputs": [],
   "source": [
    "# 차수 변수 \n",
    "n_degree = 2"
   ]
  },
  {
   "cell_type": "code",
   "execution_count": 26,
   "id": "d10fab00",
   "metadata": {},
   "outputs": [],
   "source": [
    "# (1) 객체 생성\n",
    "poly=PolynomialFeatures(degree=n_degree)"
   ]
  },
  {
   "cell_type": "code",
   "execution_count": 27,
   "id": "4323df13",
   "metadata": {},
   "outputs": [],
   "source": [
    "# (2) 생성된 다항특성객체에 학습 진행 ===>  주어진 데이터의 피쳐를 2차원 변형\n",
    "#  => x, x^2 , 1\n",
    "poly.fit(train_X)\n",
    "\n",
    "# (3) 변형 하기\n",
    "poly_train= poly.transform(train_X)\n",
    "poly_test=poly.transform(test_X)"
   ]
  },
  {
   "cell_type": "code",
   "execution_count": 28,
   "id": "6d6d85e5",
   "metadata": {},
   "outputs": [
    {
     "name": "stdout",
     "output_type": "stream",
     "text": [
      "['Length']\n",
      "['1' 'Length' 'Length^2']\n"
     ]
    }
   ],
   "source": [
    "# 입력한 피쳐 확인\n",
    "print( poly.feature_names_in_ )\n",
    "\n",
    "# 생성된 피쳐 확인\n",
    "print( poly.get_feature_names_out() )"
   ]
  },
  {
   "cell_type": "code",
   "execution_count": 29,
   "id": "26093f6b",
   "metadata": {},
   "outputs": [
    {
     "name": "stdout",
     "output_type": "stream",
     "text": [
      "전 (42, 1) ==> 후 (42, 3)\n"
     ]
    }
   ],
   "source": [
    "# 변형 전후 형태(shape) 확인\n",
    "print(f'전 {train_X.shape} ==> 후 {poly_train.shape}')"
   ]
  },
  {
   "cell_type": "code",
   "execution_count": 30,
   "id": "8474411f",
   "metadata": {},
   "outputs": [
    {
     "data": {
      "text/html": [
       "<div>\n",
       "<style scoped>\n",
       "    .dataframe tbody tr th:only-of-type {\n",
       "        vertical-align: middle;\n",
       "    }\n",
       "\n",
       "    .dataframe tbody tr th {\n",
       "        vertical-align: top;\n",
       "    }\n",
       "\n",
       "    .dataframe thead th {\n",
       "        text-align: right;\n",
       "    }\n",
       "</style>\n",
       "<table border=\"1\" class=\"dataframe\">\n",
       "  <thead>\n",
       "    <tr style=\"text-align: right;\">\n",
       "      <th></th>\n",
       "      <th>Length</th>\n",
       "    </tr>\n",
       "  </thead>\n",
       "  <tbody>\n",
       "    <tr>\n",
       "      <th>8</th>\n",
       "      <td>19.6</td>\n",
       "    </tr>\n",
       "  </tbody>\n",
       "</table>\n",
       "</div>"
      ],
      "text/plain": [
       "   Length\n",
       "8    19.6"
      ]
     },
     "execution_count": 30,
     "metadata": {},
     "output_type": "execute_result"
    }
   ],
   "source": [
    "train_X.head(1)"
   ]
  },
  {
   "cell_type": "code",
   "execution_count": 31,
   "id": "ea3abc12",
   "metadata": {},
   "outputs": [
    {
     "data": {
      "text/plain": [
       "array([[  1.  ,  19.6 , 384.16]])"
      ]
     },
     "execution_count": 31,
     "metadata": {},
     "output_type": "execute_result"
    }
   ],
   "source": [
    "poly_train[:1]"
   ]
  },
  {
   "cell_type": "markdown",
   "id": "8587775c",
   "metadata": {},
   "source": [
    "### [2] 학습 진행"
   ]
  },
  {
   "cell_type": "code",
   "execution_count": 32,
   "id": "06ecb3e7",
   "metadata": {},
   "outputs": [
    {
     "data": {
      "text/html": [
       "<style>#sk-container-id-2 {color: black;}#sk-container-id-2 pre{padding: 0;}#sk-container-id-2 div.sk-toggleable {background-color: white;}#sk-container-id-2 label.sk-toggleable__label {cursor: pointer;display: block;width: 100%;margin-bottom: 0;padding: 0.3em;box-sizing: border-box;text-align: center;}#sk-container-id-2 label.sk-toggleable__label-arrow:before {content: \"▸\";float: left;margin-right: 0.25em;color: #696969;}#sk-container-id-2 label.sk-toggleable__label-arrow:hover:before {color: black;}#sk-container-id-2 div.sk-estimator:hover label.sk-toggleable__label-arrow:before {color: black;}#sk-container-id-2 div.sk-toggleable__content {max-height: 0;max-width: 0;overflow: hidden;text-align: left;background-color: #f0f8ff;}#sk-container-id-2 div.sk-toggleable__content pre {margin: 0.2em;color: black;border-radius: 0.25em;background-color: #f0f8ff;}#sk-container-id-2 input.sk-toggleable__control:checked~div.sk-toggleable__content {max-height: 200px;max-width: 100%;overflow: auto;}#sk-container-id-2 input.sk-toggleable__control:checked~label.sk-toggleable__label-arrow:before {content: \"▾\";}#sk-container-id-2 div.sk-estimator input.sk-toggleable__control:checked~label.sk-toggleable__label {background-color: #d4ebff;}#sk-container-id-2 div.sk-label input.sk-toggleable__control:checked~label.sk-toggleable__label {background-color: #d4ebff;}#sk-container-id-2 input.sk-hidden--visually {border: 0;clip: rect(1px 1px 1px 1px);clip: rect(1px, 1px, 1px, 1px);height: 1px;margin: -1px;overflow: hidden;padding: 0;position: absolute;width: 1px;}#sk-container-id-2 div.sk-estimator {font-family: monospace;background-color: #f0f8ff;border: 1px dotted black;border-radius: 0.25em;box-sizing: border-box;margin-bottom: 0.5em;}#sk-container-id-2 div.sk-estimator:hover {background-color: #d4ebff;}#sk-container-id-2 div.sk-parallel-item::after {content: \"\";width: 100%;border-bottom: 1px solid gray;flex-grow: 1;}#sk-container-id-2 div.sk-label:hover label.sk-toggleable__label {background-color: #d4ebff;}#sk-container-id-2 div.sk-serial::before {content: \"\";position: absolute;border-left: 1px solid gray;box-sizing: border-box;top: 0;bottom: 0;left: 50%;z-index: 0;}#sk-container-id-2 div.sk-serial {display: flex;flex-direction: column;align-items: center;background-color: white;padding-right: 0.2em;padding-left: 0.2em;position: relative;}#sk-container-id-2 div.sk-item {position: relative;z-index: 1;}#sk-container-id-2 div.sk-parallel {display: flex;align-items: stretch;justify-content: center;background-color: white;position: relative;}#sk-container-id-2 div.sk-item::before, #sk-container-id-2 div.sk-parallel-item::before {content: \"\";position: absolute;border-left: 1px solid gray;box-sizing: border-box;top: 0;bottom: 0;left: 50%;z-index: -1;}#sk-container-id-2 div.sk-parallel-item {display: flex;flex-direction: column;z-index: 1;position: relative;background-color: white;}#sk-container-id-2 div.sk-parallel-item:first-child::after {align-self: flex-end;width: 50%;}#sk-container-id-2 div.sk-parallel-item:last-child::after {align-self: flex-start;width: 50%;}#sk-container-id-2 div.sk-parallel-item:only-child::after {width: 0;}#sk-container-id-2 div.sk-dashed-wrapped {border: 1px dashed gray;margin: 0 0.4em 0.5em 0.4em;box-sizing: border-box;padding-bottom: 0.4em;background-color: white;}#sk-container-id-2 div.sk-label label {font-family: monospace;font-weight: bold;display: inline-block;line-height: 1.2em;}#sk-container-id-2 div.sk-label-container {text-align: center;}#sk-container-id-2 div.sk-container {/* jupyter's `normalize.less` sets `[hidden] { display: none; }` but bootstrap.min.css set `[hidden] { display: none !important; }` so we also need the `!important` here to be able to override the default hidden behavior on the sphinx rendered scikit-learn.org. See: https://github.com/scikit-learn/scikit-learn/issues/21755 */display: inline-block !important;position: relative;}#sk-container-id-2 div.sk-text-repr-fallback {display: none;}</style><div id=\"sk-container-id-2\" class=\"sk-top-container\"><div class=\"sk-text-repr-fallback\"><pre>LinearRegression()</pre><b>In a Jupyter environment, please rerun this cell to show the HTML representation or trust the notebook. <br />On GitHub, the HTML representation is unable to render, please try loading this page with nbviewer.org.</b></div><div class=\"sk-container\" hidden><div class=\"sk-item\"><div class=\"sk-estimator sk-toggleable\"><input class=\"sk-toggleable__control sk-hidden--visually\" id=\"sk-estimator-id-2\" type=\"checkbox\" checked><label for=\"sk-estimator-id-2\" class=\"sk-toggleable__label sk-toggleable__label-arrow\">LinearRegression</label><div class=\"sk-toggleable__content\"><pre>LinearRegression()</pre></div></div></div></div></div>"
      ],
      "text/plain": [
       "LinearRegression()"
      ]
     },
     "execution_count": 32,
     "metadata": {},
     "output_type": "execute_result"
    }
   ],
   "source": [
    "reg3=LinearRegression()\n",
    "\n",
    "reg3.fit(poly_train, train_y)"
   ]
  },
  {
   "cell_type": "code",
   "execution_count": 33,
   "id": "2d9fbad2",
   "metadata": {},
   "outputs": [
    {
     "data": {
      "text/plain": [
       "(array([  0.        , -21.55792498,   1.01433211]), 116.05021078278179)"
      ]
     },
     "execution_count": 33,
     "metadata": {},
     "output_type": "execute_result"
    }
   ],
   "source": [
    "# 학습 후 기울기/계수 및 절편 확인\n",
    "reg3.coef_, reg3.intercept_"
   ]
  },
  {
   "cell_type": "markdown",
   "id": "10a826ae",
   "metadata": {},
   "source": [
    "### [3] 평가"
   ]
  },
  {
   "cell_type": "code",
   "execution_count": 34,
   "id": "ac0e1f79",
   "metadata": {},
   "outputs": [],
   "source": [
    "train_score = reg3.score(poly_train, train_y)\n",
    "test_score = reg3.score(poly_test, test_y)"
   ]
  },
  {
   "cell_type": "code",
   "execution_count": 35,
   "id": "4ecfed59",
   "metadata": {},
   "outputs": [
    {
     "name": "stdout",
     "output_type": "stream",
     "text": [
      "학습점수: 0.9706807451768623\n",
      "테스트점수: 0.977593510832512\n"
     ]
    }
   ],
   "source": [
    "print(f'학습점수: {train_score}\\n테스트점수: {test_score}')"
   ]
  },
  {
   "cell_type": "markdown",
   "id": "7414d268",
   "metadata": {},
   "source": [
    "### [4] 시각화"
   ]
  },
  {
   "cell_type": "code",
   "execution_count": 36,
   "id": "9b62273b",
   "metadata": {},
   "outputs": [],
   "source": [
    "# 다항회귀식 ---------------------------------------\n",
    "x = np.linspace(11, 45)\n",
    "y = (reg3.coef_[0]*1)+ \\\n",
    "    (reg3.coef_[1]*x)+ \\\n",
    "    (reg3.coef_[2]*(x**2)) + reg3.intercept_"
   ]
  },
  {
   "cell_type": "code",
   "execution_count": 37,
   "id": "6dd37658",
   "metadata": {},
   "outputs": [
    {
     "data": {
      "text/plain": [
       "(array([11.        , 11.69387755, 12.3877551 , 13.08163265, 13.7755102 ]),\n",
       " array([ 1.64722125,  2.6611177 ,  4.65174711,  7.61910948, 11.56320481]))"
      ]
     },
     "execution_count": 37,
     "metadata": {},
     "output_type": "execute_result"
    }
   ],
   "source": [
    "x[:5], y[:5]"
   ]
  },
  {
   "cell_type": "code",
   "execution_count": 38,
   "id": "e4dfffbd",
   "metadata": {},
   "outputs": [
    {
     "data": {
      "text/plain": [
       "(42, 1)"
      ]
     },
     "execution_count": 38,
     "metadata": {},
     "output_type": "execute_result"
    }
   ],
   "source": [
    "train_X_=train_X.sort_values(by='Length').to_numpy()\n",
    "#test_X_=test_X_.reshape(-1)\n",
    "#test_X_.shape\n",
    "train_X_.shape"
   ]
  },
  {
   "cell_type": "code",
   "execution_count": 39,
   "id": "3266736e",
   "metadata": {},
   "outputs": [
    {
     "data": {
      "text/plain": [
       "(42, 1)"
      ]
     },
     "execution_count": 39,
     "metadata": {},
     "output_type": "execute_result"
    }
   ],
   "source": [
    "pre_y_ = np.sort(reg3.predict(poly_train))\n",
    "pre_y_= np.round(pre_y_, 1)\n",
    "pre_y_=pre_y_.reshape((-1,1))\n",
    "pre_y_.shape"
   ]
  },
  {
   "cell_type": "code",
   "execution_count": 40,
   "id": "124fb002",
   "metadata": {},
   "outputs": [
    {
     "data": {
      "text/plain": [
       "array([[  13.7,   11.1],\n",
       "       [  15. ,   20.9],\n",
       "       [  17.4,   48. ],\n",
       "       [  18.7,   67.6],\n",
       "       [  19. ,   72.6],\n",
       "       [  19.6,   83.2],\n",
       "       [  20. ,   90.6],\n",
       "       [  21. ,  110.7],\n",
       "       [  21. ,  110.7],\n",
       "       [  22. ,  132.7],\n",
       "       [  22. ,  132.7],\n",
       "       [  22. ,  132.7],\n",
       "       [  22. ,  132.7],\n",
       "       [  22. ,  132.7],\n",
       "       [  22.5,  144.5],\n",
       "       [  22.7,  149.4],\n",
       "       [  23. ,  156.8],\n",
       "       [  23.5,  169.6],\n",
       "       [  24. ,  182.9],\n",
       "       [  24. ,  182.9],\n",
       "       [  25. ,  211.1],\n",
       "       [  25.6,  228.9],\n",
       "       [  26.5,  257.1],\n",
       "       [  27.5,  290.3],\n",
       "       [  27.5,  290.3],\n",
       "       [  28.7,  332.8],\n",
       "       [  32.8,  500.2],\n",
       "       [  34.5,  579.6],\n",
       "       [  35. ,  604.1],\n",
       "       [  36. ,  654.5],\n",
       "       [  36.5,  680.5],\n",
       "       [  37. ,  707. ],\n",
       "       [  37. ,  707. ],\n",
       "       [  39. ,  818.1],\n",
       "       [  39. ,  818.1],\n",
       "       [  40. ,  876.7],\n",
       "       [  40. ,  876.7],\n",
       "       [  40. ,  876.7],\n",
       "       [  42. ,  999.9],\n",
       "       [  43. , 1064.6],\n",
       "       [  43. , 1064.6],\n",
       "       [  44. , 1131.2]])"
      ]
     },
     "execution_count": 40,
     "metadata": {},
     "output_type": "execute_result"
    }
   ],
   "source": [
    "np.concatenate([train_X_, pre_y_], axis=1)"
   ]
  },
  {
   "cell_type": "code",
   "execution_count": 41,
   "id": "e3f1f5af",
   "metadata": {},
   "outputs": [
    {
     "data": {
      "image/png": "[encoded data removed]",
      "text/plain": [
       "<Figure size 640x480 with 1 Axes>"
      ]
     },
     "metadata": {},
     "output_type": "display_data"
    }
   ],
   "source": [
    "#plt.plot(x, y, 'r', label='FISH DATA')\n",
    "plt.scatter(train_X, train_y, label='POLY LINE')\n",
    "plt.plot(train_X_,pre_y_, 'r--',label='Poly Reg Line')\n",
    "plt.xlabel('Length')\n",
    "plt.ylabel('Weight')\n",
    "plt.legend()\n",
    "plt.grid()\n",
    "plt.show()"
   ]
  },
  {
   "cell_type": "code",
   "execution_count": 42,
   "id": "b1d09f4e",
   "metadata": {},
   "outputs": [],
   "source": [
    "train_X_=train_X.sort_values(by='Length')"
   ]
  },
  {
   "cell_type": "markdown",
   "id": "205be2b7",
   "metadata": {},
   "source": [
    "### 예측 => predict()"
   ]
  },
  {
   "cell_type": "code",
   "execution_count": 43,
   "id": "8deb26b8",
   "metadata": {},
   "outputs": [
    {
     "data": {
      "text/plain": [
       "(14, 1)"
      ]
     },
     "execution_count": 43,
     "metadata": {},
     "output_type": "execute_result"
    }
   ],
   "source": [
    "test_X.shape"
   ]
  },
  {
   "cell_type": "code",
   "execution_count": 44,
   "id": "2e56a12d",
   "metadata": {},
   "outputs": [
    {
     "data": {
      "text/plain": [
       "array([   6.5349146 ,   56.6511646 ,  290.29593158,  117.05874344,\n",
       "        144.50252913,  876.66458663,  382.21135986,  199.55847561,\n",
       "        818.09027497,  110.65424646, 1097.65040817,   33.01314491,\n",
       "        307.66468513,  283.49043666])"
      ]
     },
     "execution_count": 44,
     "metadata": {},
     "output_type": "execute_result"
    }
   ],
   "source": [
    "reg3.predict(poly.transform(test_X))"
   ]
  },
  {
   "cell_type": "code",
   "execution_count": null,
   "id": "38172f6c",
   "metadata": {},
   "outputs": [],
   "source": []
  },
  {
   "cell_type": "code",
   "execution_count": null,
   "id": "79091c73",
   "metadata": {},
   "outputs": [],
   "source": []
  }
 ],
 "metadata": {
  "kernelspec": {
   "display_name": "ai_book",
   "language": "python",
   "name": "ai_book"
  },
  "language_info": {
   "codemirror_mode": {
    "name": "ipython",
    "version": 3
   },
   "file_extension": ".py",
   "mimetype": "text/x-python",
   "name": "python",
   "nbconvert_exporter": "python",
   "pygments_lexer": "ipython3",
   "version": "3.11.4"
  }
 },
 "nbformat": 4,
 "nbformat_minor": 5
}
