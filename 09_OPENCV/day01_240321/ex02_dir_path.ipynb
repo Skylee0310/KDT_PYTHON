{
 "cells": [
  {
   "cell_type": "markdown",
   "metadata": {},
   "source": [
    "## 폴더 및 파일 다루기"
   ]
  },
  {
   "cell_type": "code",
   "execution_count": 1,
   "metadata": {},
   "outputs": [],
   "source": [
    "## 모듈 로딩\n",
    "\n",
    "import os"
   ]
  },
  {
   "cell_type": "code",
   "execution_count": 3,
   "metadata": {},
   "outputs": [
    {
     "data": {
      "text/plain": [
       "True"
      ]
     },
     "execution_count": 3,
     "metadata": {},
     "output_type": "execute_result"
    }
   ],
   "source": [
    "## 특정 폴더 내의 모든 데이터 리스트 가져오기\n",
    "my_folder = '../data/'\n",
    "\n",
    "# 해당 폴더 또는 파일이 존재하는지 검사 => 결과 : True, False\n",
    "os.path.exists(my_folder)"
   ]
  },
  {
   "cell_type": "code",
   "execution_count": 11,
   "metadata": {},
   "outputs": [
    {
     "name": "stdout",
     "output_type": "stream",
     "text": [
      "data ---- True\n",
      "image ---- True\n",
      "iris.csv ---- False\n",
      "iris2.csv ---- False\n",
      "model ---- True\n",
      "wine-quality.csv ---- False\n",
      "winequality-white.csv ---- False\n"
     ]
    }
   ],
   "source": [
    "# 폴더 내 모든 파일, 폴더 리스트 변환\n",
    "datalist = os.listdir(my_folder) # 폴더 안에 있는 걸 다 가지고 옴.리스트\n",
    "for data_name in datalist :\n",
    "    # 폴더 여부 체크 => os.isdir(경로)\n",
    "    print(data_name, os.path.isdir(my_folder+data_name), sep = ' ---- ') #경로까지 같이 입력."
   ]
  },
  {
   "cell_type": "code",
   "execution_count": 23,
   "metadata": {},
   "outputs": [
    {
     "name": "stdout",
     "output_type": "stream",
     "text": [
      "<data>\n",
      "→ .student.csv\n",
      "→ activity_labels.txt\n",
      "→ archive (3)\n",
      "→ archive (3).zip\n",
      "→ archive.zip\n",
      "→ auto-mpg.csv\n",
      "→ auto-mpg.csv.part\n",
      "→ breast+cancer+wisconsin+diagnostic\n",
      "→ diabetes.csv\n",
      "→ fish.csv\n",
      "→ hotel_bookings.csv\n",
      "→ house_columns.txt\n",
      "→ HousingData.csv\n",
      "→ human\n",
      "→ human_activity.zip\n",
      "→ iris.csv\n",
      "→ iris2.csv\n",
      "→ perch3.csv\n",
      "→ student-mat.csv\n",
      "→ student-por.csv\n",
      "→ tested.csv\n",
      "→ titanic.csv\n",
      "→ wdbc (2).csv\n",
      "→ wdbc.csv\n",
      "==================================================\n",
      "<image>\n",
      "→ anyujin.jpg\n",
      "→ kimheejin.jpg\n",
      "→ xuguanghan.jpg\n",
      "==================================================\n",
      "iris.csv\n",
      "==================================================\n",
      "iris2.csv\n",
      "==================================================\n",
      "<model>\n",
      "→ best_model.pth\n",
      "==================================================\n",
      "wine-quality.csv\n",
      "==================================================\n",
      "winequality-white.csv\n",
      "==================================================\n"
     ]
    }
   ],
   "source": [
    "# data 폴더 아래에 파일이면 파일명만 출력 폴더라면 폴더 아래 데이터 리스트 출력.\n",
    "\n",
    "my_folder = '../data/'\n",
    "datalist = os.listdir(my_folder)\n",
    "\n",
    "for data_name in datalist :\n",
    "    if os.path.isdir(my_folder+data_name) :\n",
    "        print(f'<{data_name}>')\n",
    "        # sublist = os.listdir(my_folder+data_name) --> 변수에 담으면 좀 더 깔끔\n",
    "        for data_name2 in os.listdir(my_folder+data_name) :\n",
    "            print('→', data_name2)\n",
    "        print('='*50)\n",
    "    else :\n",
    "        print(data_name)\n",
    "        print('='*50)"
   ]
  },
  {
   "cell_type": "code",
   "execution_count": 60,
   "metadata": {},
   "outputs": [
    {
     "name": "stdout",
     "output_type": "stream",
     "text": [
      "[.csv] : \n",
      " → iris.csv\n",
      " → iris2.csv\n",
      " → wine-quality.csv\n",
      " → winequality-white.csv\n"
     ]
    }
   ],
   "source": [
    "# 원하는 데이터 파일 즉, 확장자만 지정해서 해당 파일만 가져오기.\n",
    "datalist = os.listdir(my_folder)\n",
    "# data_type = '.jpg'\n",
    "\n",
    "def print_data(datalist, data_type) :\n",
    "    print(f'[{data_type}] : ')\n",
    "    for data_name in datalist :\n",
    "        if data_type in data_name :\n",
    "            print(' →', data_name)\n",
    "\n",
    "print_data(datalist, '.csv')\n",
    "\n",
    "\n",
    "# endswith('.csv')\n",
    "# find('.csv')\n",
    "# os.path.splitext('.csv')\n"
   ]
  },
  {
   "cell_type": "code",
   "execution_count": 58,
   "metadata": {},
   "outputs": [
    {
     "name": "stdout",
     "output_type": "stream",
     "text": [
      "['data']\n",
      "['image']\n",
      "['iris', 'csv']\n",
      "['iris2', 'csv']\n",
      "['kimheejin', 'jpg']\n",
      "['model']\n",
      "['wine-quality', 'csv']\n",
      "['winequality-white', 'csv']\n"
     ]
    }
   ],
   "source": [
    "for data_name in datalist :\n",
    "    dataL = data_name.split('.')\n",
    "    print(dataL)\n",
    "\n"
   ]
  },
  {
   "cell_type": "code",
   "execution_count": 3,
   "metadata": {},
   "outputs": [
    {
     "data": {
      "text/plain": [
       "'4.5.0'"
      ]
     },
     "execution_count": 3,
     "metadata": {},
     "output_type": "execute_result"
    }
   ],
   "source": [
    "import cv2\n",
    "cv2.__version__"
   ]
  },
  {
   "cell_type": "code",
   "execution_count": null,
   "metadata": {},
   "outputs": [],
   "source": []
  }
 ],
 "metadata": {
  "kernelspec": {
   "display_name": "Torch_py38",
   "language": "python",
   "name": "python3"
  },
  "language_info": {
   "codemirror_mode": {
    "name": "ipython",
    "version": 3
   },
   "file_extension": ".py",
   "mimetype": "text/x-python",
   "name": "python",
   "nbconvert_exporter": "python",
   "pygments_lexer": "ipython3",
   "version": "3.8.12"
  }
 },
 "nbformat": 4,
 "nbformat_minor": 2
}
