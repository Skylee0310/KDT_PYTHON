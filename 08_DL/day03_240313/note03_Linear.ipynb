{
 "cells": [
  {
   "cell_type": "markdown",
   "metadata": {},
   "source": [
    "### [Pytorch기반 선형회귀] <hr>"
   ]
  },
  {
   "cell_type": "markdown",
   "metadata": {},
   "source": [
    "- [1] 모듈 로딩 및 데이터 준비 <hr>"
   ]
  },
  {
   "cell_type": "code",
   "execution_count": 1,
   "metadata": {},
   "outputs": [],
   "source": [
    "import torch                            # 파이토치 텐서 및 기본 함수들 관련 모듈\n",
    "import torch.nn as nn                   # 인공신경망 층 관련 모듈\n",
    "import torch.nn.functional as F         # 인공신경망 관련 함수들 모듈\n",
    "import torch.optim as optim             # 인공신경망 최적화 관련 모듈"
   ]
  },
  {
   "cell_type": "code",
   "execution_count": 2,
   "metadata": {},
   "outputs": [
    {
     "data": {
      "text/plain": [
       "<torch._C.Generator at 0x2091c08f490>"
      ]
     },
     "execution_count": 2,
     "metadata": {},
     "output_type": "execute_result"
    }
   ],
   "source": [
    "# 랜덤 시드 설정\n",
    "torch.manual_seed(1)"
   ]
  },
  {
   "cell_type": "code",
   "execution_count": 3,
   "metadata": {},
   "outputs": [],
   "source": [
    "# 데이터 준비\n",
    "Xtrn = torch.FloatTensor([[1], [2], [3]]) # 1 X 3\n",
    "ytrn = torch.FloatTensor([[2], [4], [6]]) # 1 X 3"
   ]
  },
  {
   "cell_type": "code",
   "execution_count": 4,
   "metadata": {},
   "outputs": [
    {
     "name": "stdout",
     "output_type": "stream",
     "text": [
      "[Xtrain] \n",
      "tensor([[1.],\n",
      "        [2.],\n",
      "        [3.]])\n",
      "Xtrain.shape : torch.Size([3, 1])\tXtrain.ndim : 2\n",
      "\n",
      "[ytrain] \n",
      "tensor([[2.],\n",
      "        [4.],\n",
      "        [6.]])\n",
      "ytrain.shape : torch.Size([3, 1])\tytrain.ndim : 2\n"
     ]
    }
   ],
   "source": [
    "# 데이터 확인 \n",
    "print(f'[Xtrain] \\n{Xtrn}\\nXtrain.shape : {Xtrn.shape}\\tXtrain.ndim : {Xtrn.ndim}\\n')\n",
    "print(f'[ytrain] \\n{ytrn}\\nytrain.shape : {ytrn.shape}\\tytrain.ndim : {ytrn.ndim}')"
   ]
  },
  {
   "cell_type": "markdown",
   "metadata": {},
   "source": [
    "- [2] 학습 위한 준비 <hr>"
   ]
  },
  {
   "cell_type": "code",
   "execution_count": 5,
   "metadata": {},
   "outputs": [],
   "source": [
    "# 가중치 및 절편 데이터 생성 및 초기화\n",
    "# - 가중치 W            : 0으로 초기화하고 학습 통해 값이 변경된다.\n",
    "# - requires_grad=True : 학습을 통해 계속 값이 변경되는 변수.\n",
    "# - torch.zeros(텐서 원소 개수)\n",
    "\n",
    "w = torch.zeros(1, requires_grad=True) # 크기가 1인 텐서 생성.\n",
    "b = torch.zeros(1, requires_grad=True) # requires_grad = 연산 그래프에서 기울기를 추적해야 함\n",
    "\n",
    "# 역전파(backpropagation) 과정에서 해당 파라미터에 대한 기울기를 계산하는 데 사용됩니다.\n",
    "\n",
    "# 가중치(w)와 편향(b)을 모두 0으로 초기화"
   ]
  },
  {
   "cell_type": "code",
   "execution_count": 18,
   "metadata": {},
   "outputs": [],
   "source": [
    "# 경사하강법 설정 : w,b 업데이트 \n",
    "# w, b 변수, 학습률 지정\n",
    "optimizer = optim.SGD([w, b], lr=0.01)"
   ]
  },
  {
   "cell_type": "markdown",
   "metadata": {},
   "source": [
    "학습률(lr) : \n",
    "- 각 반복 단계에서 모델 파라미터를 조정하는 양을 결정하는 하이퍼파라미터\n",
    "- 모델이 수렴할 수 있는 속도와 정확도를 결정\n",
    "\n",
    "학습률 高 :\n",
    "- 매개변수 업데이트가 크게 이루어지므로 학습 속도가 빨라짐.\n",
    "- 최적값을 찾지 못할 수 있음.\n",
    "- 수렴 불안정\n",
    "\n",
    "학습률 低 :\n",
    "- 매개변수 업데이트가 작게 이루어지므로 학습이 안정적으로 진행\n",
    "- 최적값에 수렴하는 데 시간이 오래 걸릴 수 있음."
   ]
  },
  {
   "cell_type": "markdown",
   "metadata": {},
   "source": [
    "- [3] 학습 진행 <hr>"
   ]
  },
  {
   "cell_type": "code",
   "execution_count": 19,
   "metadata": {},
   "outputs": [
    {
     "name": "stdout",
     "output_type": "stream",
     "text": [
      "수식을 w로 미분한 값 : tensor([-0.0376])\n",
      "업데이트 된 w : tensor([-0.0376]), b : tensor([0.0855])\n",
      "Epoch    0/100 W: 1.844, b: 0.355 Cost: 0.018130\n",
      "수식을 w로 미분한 값 : tensor([-0.0375])\n",
      "업데이트 된 w : tensor([-0.0375]), b : tensor([0.0853])\n",
      "수식을 w로 미분한 값 : tensor([-0.0374])\n",
      "업데이트 된 w : tensor([-0.0374]), b : tensor([0.0850])\n",
      "수식을 w로 미분한 값 : tensor([-0.0373])\n",
      "업데이트 된 w : tensor([-0.0373]), b : tensor([0.0848])\n",
      "수식을 w로 미분한 값 : tensor([-0.0372])\n",
      "업데이트 된 w : tensor([-0.0372]), b : tensor([0.0846])\n",
      "수식을 w로 미분한 값 : tensor([-0.0371])\n",
      "업데이트 된 w : tensor([-0.0371]), b : tensor([0.0844])\n",
      "수식을 w로 미분한 값 : tensor([-0.0371])\n",
      "업데이트 된 w : tensor([-0.0371]), b : tensor([0.0842])\n",
      "수식을 w로 미분한 값 : tensor([-0.0370])\n",
      "업데이트 된 w : tensor([-0.0370]), b : tensor([0.0840])\n",
      "수식을 w로 미분한 값 : tensor([-0.0369])\n",
      "업데이트 된 w : tensor([-0.0369]), b : tensor([0.0838])\n",
      "수식을 w로 미분한 값 : tensor([-0.0368])\n",
      "업데이트 된 w : tensor([-0.0368]), b : tensor([0.0836])\n",
      "수식을 w로 미분한 값 : tensor([-0.0367])\n",
      "업데이트 된 w : tensor([-0.0367]), b : tensor([0.0834])\n",
      "수식을 w로 미분한 값 : tensor([-0.0366])\n",
      "업데이트 된 w : tensor([-0.0366]), b : tensor([0.0832])\n",
      "수식을 w로 미분한 값 : tensor([-0.0365])\n",
      "업데이트 된 w : tensor([-0.0365]), b : tensor([0.0830])\n",
      "수식을 w로 미분한 값 : tensor([-0.0364])\n",
      "업데이트 된 w : tensor([-0.0364]), b : tensor([0.0828])\n",
      "수식을 w로 미분한 값 : tensor([-0.0363])\n",
      "업데이트 된 w : tensor([-0.0363]), b : tensor([0.0826])\n",
      "수식을 w로 미분한 값 : tensor([-0.0363])\n",
      "업데이트 된 w : tensor([-0.0363]), b : tensor([0.0824])\n",
      "수식을 w로 미분한 값 : tensor([-0.0362])\n",
      "업데이트 된 w : tensor([-0.0362]), b : tensor([0.0822])\n",
      "수식을 w로 미분한 값 : tensor([-0.0361])\n",
      "업데이트 된 w : tensor([-0.0361]), b : tensor([0.0820])\n",
      "수식을 w로 미분한 값 : tensor([-0.0360])\n",
      "업데이트 된 w : tensor([-0.0360]), b : tensor([0.0818])\n",
      "수식을 w로 미분한 값 : tensor([-0.0359])\n",
      "업데이트 된 w : tensor([-0.0359]), b : tensor([0.0816])\n",
      "수식을 w로 미분한 값 : tensor([-0.0358])\n",
      "업데이트 된 w : tensor([-0.0358]), b : tensor([0.0814])\n",
      "수식을 w로 미분한 값 : tensor([-0.0357])\n",
      "업데이트 된 w : tensor([-0.0357]), b : tensor([0.0812])\n",
      "수식을 w로 미분한 값 : tensor([-0.0357])\n",
      "업데이트 된 w : tensor([-0.0357]), b : tensor([0.0811])\n",
      "수식을 w로 미분한 값 : tensor([-0.0356])\n",
      "업데이트 된 w : tensor([-0.0356]), b : tensor([0.0809])\n",
      "수식을 w로 미분한 값 : tensor([-0.0355])\n",
      "업데이트 된 w : tensor([-0.0355]), b : tensor([0.0807])\n",
      "수식을 w로 미분한 값 : tensor([-0.0354])\n",
      "업데이트 된 w : tensor([-0.0354]), b : tensor([0.0805])\n",
      "수식을 w로 미분한 값 : tensor([-0.0353])\n",
      "업데이트 된 w : tensor([-0.0353]), b : tensor([0.0803])\n",
      "수식을 w로 미분한 값 : tensor([-0.0352])\n",
      "업데이트 된 w : tensor([-0.0352]), b : tensor([0.0801])\n",
      "수식을 w로 미분한 값 : tensor([-0.0351])\n",
      "업데이트 된 w : tensor([-0.0351]), b : tensor([0.0799])\n",
      "수식을 w로 미분한 값 : tensor([-0.0351])\n",
      "업데이트 된 w : tensor([-0.0351]), b : tensor([0.0797])\n",
      "수식을 w로 미분한 값 : tensor([-0.0350])\n",
      "업데이트 된 w : tensor([-0.0350]), b : tensor([0.0795])\n",
      "수식을 w로 미분한 값 : tensor([-0.0349])\n",
      "업데이트 된 w : tensor([-0.0349]), b : tensor([0.0793])\n",
      "수식을 w로 미분한 값 : tensor([-0.0348])\n",
      "업데이트 된 w : tensor([-0.0348]), b : tensor([0.0791])\n",
      "수식을 w로 미분한 값 : tensor([-0.0347])\n",
      "업데이트 된 w : tensor([-0.0347]), b : tensor([0.0789])\n",
      "수식을 w로 미분한 값 : tensor([-0.0346])\n",
      "업데이트 된 w : tensor([-0.0346]), b : tensor([0.0787])\n",
      "수식을 w로 미분한 값 : tensor([-0.0346])\n",
      "업데이트 된 w : tensor([-0.0346]), b : tensor([0.0786])\n",
      "수식을 w로 미분한 값 : tensor([-0.0345])\n",
      "업데이트 된 w : tensor([-0.0345]), b : tensor([0.0784])\n",
      "수식을 w로 미분한 값 : tensor([-0.0344])\n",
      "업데이트 된 w : tensor([-0.0344]), b : tensor([0.0782])\n",
      "수식을 w로 미분한 값 : tensor([-0.0343])\n",
      "업데이트 된 w : tensor([-0.0343]), b : tensor([0.0780])\n",
      "수식을 w로 미분한 값 : tensor([-0.0342])\n",
      "업데이트 된 w : tensor([-0.0342]), b : tensor([0.0778])\n",
      "수식을 w로 미분한 값 : tensor([-0.0341])\n",
      "업데이트 된 w : tensor([-0.0341]), b : tensor([0.0776])\n",
      "수식을 w로 미분한 값 : tensor([-0.0341])\n",
      "업데이트 된 w : tensor([-0.0341]), b : tensor([0.0774])\n",
      "수식을 w로 미분한 값 : tensor([-0.0340])\n",
      "업데이트 된 w : tensor([-0.0340]), b : tensor([0.0772])\n",
      "수식을 w로 미분한 값 : tensor([-0.0339])\n",
      "업데이트 된 w : tensor([-0.0339]), b : tensor([0.0771])\n",
      "수식을 w로 미분한 값 : tensor([-0.0338])\n",
      "업데이트 된 w : tensor([-0.0338]), b : tensor([0.0769])\n",
      "수식을 w로 미분한 값 : tensor([-0.0337])\n",
      "업데이트 된 w : tensor([-0.0337]), b : tensor([0.0767])\n",
      "수식을 w로 미분한 값 : tensor([-0.0337])\n",
      "업데이트 된 w : tensor([-0.0337]), b : tensor([0.0765])\n",
      "수식을 w로 미분한 값 : tensor([-0.0336])\n",
      "업데이트 된 w : tensor([-0.0336]), b : tensor([0.0763])\n",
      "수식을 w로 미분한 값 : tensor([-0.0335])\n",
      "업데이트 된 w : tensor([-0.0335]), b : tensor([0.0761])\n",
      "수식을 w로 미분한 값 : tensor([-0.0334])\n",
      "업데이트 된 w : tensor([-0.0334]), b : tensor([0.0760])\n",
      "수식을 w로 미분한 값 : tensor([-0.0333])\n",
      "업데이트 된 w : tensor([-0.0333]), b : tensor([0.0758])\n",
      "수식을 w로 미분한 값 : tensor([-0.0333])\n",
      "업데이트 된 w : tensor([-0.0333]), b : tensor([0.0756])\n",
      "수식을 w로 미분한 값 : tensor([-0.0332])\n",
      "업데이트 된 w : tensor([-0.0332]), b : tensor([0.0754])\n",
      "수식을 w로 미분한 값 : tensor([-0.0331])\n",
      "업데이트 된 w : tensor([-0.0331]), b : tensor([0.0752])\n",
      "수식을 w로 미분한 값 : tensor([-0.0330])\n",
      "업데이트 된 w : tensor([-0.0330]), b : tensor([0.0750])\n",
      "수식을 w로 미분한 값 : tensor([-0.0329])\n",
      "업데이트 된 w : tensor([-0.0329]), b : tensor([0.0749])\n",
      "수식을 w로 미분한 값 : tensor([-0.0329])\n",
      "업데이트 된 w : tensor([-0.0329]), b : tensor([0.0747])\n",
      "수식을 w로 미분한 값 : tensor([-0.0328])\n",
      "업데이트 된 w : tensor([-0.0328]), b : tensor([0.0745])\n",
      "수식을 w로 미분한 값 : tensor([-0.0327])\n",
      "업데이트 된 w : tensor([-0.0327]), b : tensor([0.0743])\n",
      "수식을 w로 미분한 값 : tensor([-0.0326])\n",
      "업데이트 된 w : tensor([-0.0326]), b : tensor([0.0741])\n",
      "수식을 w로 미분한 값 : tensor([-0.0325])\n",
      "업데이트 된 w : tensor([-0.0325]), b : tensor([0.0740])\n",
      "수식을 w로 미분한 값 : tensor([-0.0325])\n",
      "업데이트 된 w : tensor([-0.0325]), b : tensor([0.0738])\n",
      "수식을 w로 미분한 값 : tensor([-0.0324])\n",
      "업데이트 된 w : tensor([-0.0324]), b : tensor([0.0736])\n",
      "수식을 w로 미분한 값 : tensor([-0.0323])\n",
      "업데이트 된 w : tensor([-0.0323]), b : tensor([0.0734])\n",
      "수식을 w로 미분한 값 : tensor([-0.0322])\n",
      "업데이트 된 w : tensor([-0.0322]), b : tensor([0.0733])\n",
      "수식을 w로 미분한 값 : tensor([-0.0321])\n",
      "업데이트 된 w : tensor([-0.0321]), b : tensor([0.0731])\n",
      "수식을 w로 미분한 값 : tensor([-0.0321])\n",
      "업데이트 된 w : tensor([-0.0321]), b : tensor([0.0729])\n",
      "수식을 w로 미분한 값 : tensor([-0.0320])\n",
      "업데이트 된 w : tensor([-0.0320]), b : tensor([0.0727])\n",
      "수식을 w로 미분한 값 : tensor([-0.0319])\n",
      "업데이트 된 w : tensor([-0.0319]), b : tensor([0.0726])\n",
      "수식을 w로 미분한 값 : tensor([-0.0318])\n",
      "업데이트 된 w : tensor([-0.0318]), b : tensor([0.0724])\n",
      "수식을 w로 미분한 값 : tensor([-0.0318])\n",
      "업데이트 된 w : tensor([-0.0318]), b : tensor([0.0722])\n",
      "수식을 w로 미분한 값 : tensor([-0.0317])\n",
      "업데이트 된 w : tensor([-0.0317]), b : tensor([0.0720])\n",
      "수식을 w로 미분한 값 : tensor([-0.0316])\n",
      "업데이트 된 w : tensor([-0.0316]), b : tensor([0.0719])\n",
      "수식을 w로 미분한 값 : tensor([-0.0315])\n",
      "업데이트 된 w : tensor([-0.0315]), b : tensor([0.0717])\n",
      "수식을 w로 미분한 값 : tensor([-0.0315])\n",
      "업데이트 된 w : tensor([-0.0315]), b : tensor([0.0715])\n",
      "수식을 w로 미분한 값 : tensor([-0.0314])\n",
      "업데이트 된 w : tensor([-0.0314]), b : tensor([0.0713])\n",
      "수식을 w로 미분한 값 : tensor([-0.0313])\n",
      "업데이트 된 w : tensor([-0.0313]), b : tensor([0.0712])\n",
      "수식을 w로 미분한 값 : tensor([-0.0312])\n",
      "업데이트 된 w : tensor([-0.0312]), b : tensor([0.0710])\n",
      "수식을 w로 미분한 값 : tensor([-0.0312])\n",
      "업데이트 된 w : tensor([-0.0312]), b : tensor([0.0708])\n",
      "수식을 w로 미분한 값 : tensor([-0.0311])\n",
      "업데이트 된 w : tensor([-0.0311]), b : tensor([0.0707])\n",
      "수식을 w로 미분한 값 : tensor([-0.0310])\n",
      "업데이트 된 w : tensor([-0.0310]), b : tensor([0.0705])\n",
      "수식을 w로 미분한 값 : tensor([-0.0309])\n",
      "업데이트 된 w : tensor([-0.0309]), b : tensor([0.0703])\n",
      "수식을 w로 미분한 값 : tensor([-0.0309])\n",
      "업데이트 된 w : tensor([-0.0309]), b : tensor([0.0702])\n",
      "수식을 w로 미분한 값 : tensor([-0.0308])\n",
      "업데이트 된 w : tensor([-0.0308]), b : tensor([0.0700])\n",
      "수식을 w로 미분한 값 : tensor([-0.0307])\n",
      "업데이트 된 w : tensor([-0.0307]), b : tensor([0.0698])\n",
      "수식을 w로 미분한 값 : tensor([-0.0306])\n",
      "업데이트 된 w : tensor([-0.0306]), b : tensor([0.0696])\n",
      "수식을 w로 미분한 값 : tensor([-0.0306])\n",
      "업데이트 된 w : tensor([-0.0306]), b : tensor([0.0695])\n",
      "수식을 w로 미분한 값 : tensor([-0.0305])\n",
      "업데이트 된 w : tensor([-0.0305]), b : tensor([0.0693])\n",
      "수식을 w로 미분한 값 : tensor([-0.0304])\n",
      "업데이트 된 w : tensor([-0.0304]), b : tensor([0.0691])\n",
      "수식을 w로 미분한 값 : tensor([-0.0303])\n",
      "업데이트 된 w : tensor([-0.0303]), b : tensor([0.0690])\n",
      "수식을 w로 미분한 값 : tensor([-0.0303])\n",
      "업데이트 된 w : tensor([-0.0303]), b : tensor([0.0688])\n",
      "수식을 w로 미분한 값 : tensor([-0.0302])\n",
      "업데이트 된 w : tensor([-0.0302]), b : tensor([0.0687])\n",
      "수식을 w로 미분한 값 : tensor([-0.0301])\n",
      "업데이트 된 w : tensor([-0.0301]), b : tensor([0.0685])\n",
      "수식을 w로 미분한 값 : tensor([-0.0301])\n",
      "업데이트 된 w : tensor([-0.0301]), b : tensor([0.0683])\n",
      "수식을 w로 미분한 값 : tensor([-0.0300])\n",
      "업데이트 된 w : tensor([-0.0300]), b : tensor([0.0682])\n",
      "수식을 w로 미분한 값 : tensor([-0.0299])\n",
      "업데이트 된 w : tensor([-0.0299]), b : tensor([0.0680])\n",
      "수식을 w로 미분한 값 : tensor([-0.0298])\n",
      "업데이트 된 w : tensor([-0.0298]), b : tensor([0.0678])\n",
      "수식을 w로 미분한 값 : tensor([-0.0298])\n",
      "업데이트 된 w : tensor([-0.0298]), b : tensor([0.0677])\n",
      "수식을 w로 미분한 값 : tensor([-0.0297])\n",
      "업데이트 된 w : tensor([-0.0297]), b : tensor([0.0675])\n",
      "수식을 w로 미분한 값 : tensor([-0.0296])\n",
      "업데이트 된 w : tensor([-0.0296]), b : tensor([0.0673])\n",
      "수식을 w로 미분한 값 : tensor([-0.0296])\n",
      "업데이트 된 w : tensor([-0.0296]), b : tensor([0.0672])\n",
      "Epoch  100/100 W: 1.877, b: 0.279 Cost: 0.011203\n"
     ]
    }
   ],
   "source": [
    "# 학습 진행\n",
    "# - 에포크 : 처음부터 ~ 끝까지 학습하는 것 의미 \n",
    "\n",
    "nb_epochs = 100                 # 100번 학습\n",
    "\n",
    "for epoch in range(nb_epochs + 1):\n",
    "    # 예측값 H(x) 계산 ! H(x) = wx + b\n",
    "    # w = 가중치, x = 입력데이터, b = 편향\n",
    "\n",
    "    y_pred = w * Xtrn + b\n",
    "\n",
    "    # cost 계산 = 합((예측값 - 정답 ) **2 ) ---> 평균제곱오차 MSE\n",
    "    cost = torch.mean((y_pred - ytrn) ** 2) \n",
    "    # 선형회귀 모델일 떄는 평균 제곱 오차(MSE)\n",
    "    # 분류 모델일 때는 Cross Entropy Error, log loss를 사용.\n",
    "\n",
    "    # cost로 H(x) 개선 - 최적화 단계.\n",
    "    optimizer.zero_grad()           # gradient 0으로 초기화\n",
    "    cost.backward()                 # 비용 함수 미분하여 gradient 계산\n",
    "    print(f'수식을 w로 미분한 값 : {w.grad}')\n",
    "\n",
    "    optimizer.step()                # step => W, b 업데이트\n",
    "    print(f'업데이트 된 w : {w.grad}, b : {b.grad}')\n",
    "\n",
    "    # 100번마다 로그 출력\n",
    "    if epoch % 100 == 0:\n",
    "        print(f'Epoch {epoch:4d}/{nb_epochs} W: {w.item():.3f}, b: {b.item():.3f} Cost: {cost.item():.6f}')\n",
    "    "
   ]
  },
  {
   "cell_type": "markdown",
   "metadata": {},
   "source": [
    "[4] 학습 후 모델 파라미터 확인 <hr>"
   ]
  },
  {
   "cell_type": "code",
   "execution_count": 20,
   "metadata": {},
   "outputs": [
    {
     "data": {
      "text/plain": [
       "(tensor([1.8774], requires_grad=True), tensor([0.2788], requires_grad=True))"
      ]
     },
     "execution_count": 20,
     "metadata": {},
     "output_type": "execute_result"
    }
   ],
   "source": [
    "w, b"
   ]
  },
  {
   "cell_type": "code",
   "execution_count": 21,
   "metadata": {},
   "outputs": [
    {
     "data": {
      "text/plain": [
       "(1.8773620128631592, 0.27878478169441223)"
      ]
     },
     "execution_count": 21,
     "metadata": {},
     "output_type": "execute_result"
    }
   ],
   "source": [
    "# 학습 완료 후의 w, b 텐서 값 확인 \n",
    "w.item(), b.item() # 값만 빼오고 싶을 때는 .item() 메서드 사용."
   ]
  },
  {
   "cell_type": "markdown",
   "metadata": {},
   "source": [
    "[5] 예측 <hr>"
   ]
  },
  {
   "cell_type": "code",
   "execution_count": 9,
   "metadata": {},
   "outputs": [
    {
     "data": {
      "text/plain": [
       "5.815145969390869"
      ]
     },
     "execution_count": 9,
     "metadata": {},
     "output_type": "execute_result"
    }
   ],
   "source": [
    "### ===> x값 넣고 y값 확인\n",
    "pre_y = w*3+b\n",
    "pre_y.item()"
   ]
  },
  {
   "cell_type": "markdown",
   "metadata": {},
   "source": [
    "pre_y = w*3 + b :\n",
    "- 주어진 가중치 w와 편향 b를 사용하여 예측값 'pre_y'를 계산\n",
    "- 선형 회귀 모델에서는 입력 변수 'x'와 가중치 'w'를 곱하고 편향 b를 더하여 예측값을 계산\n",
    "- 여기서 *3은 입력 변수를 3으로 곱하는 것을 의미\n",
    "\n",
    "pre_y.item() : \n",
    "- 계산된 예측값 'pre_y'를 스칼라 값으로 변환하여 반환\n",
    "- 이렇게 함으로써 텐서에서 스칼라 값을 추출"
   ]
  },
  {
   "cell_type": "code",
   "execution_count": null,
   "metadata": {},
   "outputs": [],
   "source": []
  },
  {
   "cell_type": "code",
   "execution_count": null,
   "metadata": {},
   "outputs": [],
   "source": []
  },
  {
   "cell_type": "code",
   "execution_count": null,
   "metadata": {},
   "outputs": [],
   "source": []
  }
 ],
 "metadata": {
  "kernelspec": {
   "display_name": "Torch_py38",
   "language": "python",
   "name": "python3"
  },
  "language_info": {
   "codemirror_mode": {
    "name": "ipython",
    "version": 3
   },
   "file_extension": ".py",
   "mimetype": "text/x-python",
   "name": "python",
   "nbconvert_exporter": "python",
   "pygments_lexer": "ipython3",
   "version": "3.8.18"
  }
 },
 "nbformat": 4,
 "nbformat_minor": 2
}
