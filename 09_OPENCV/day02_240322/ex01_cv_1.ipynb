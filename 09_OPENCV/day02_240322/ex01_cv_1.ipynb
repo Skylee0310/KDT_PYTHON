{
 "cells": [
  {
   "cell_type": "markdown",
   "metadata": {},
   "source": [
    "cv.imread(filename,[flags])\n",
    "- filename : Name of ile to be loaded\n",
    "- flags  "
   ]
  },
  {
   "cell_type": "markdown",
   "metadata": {},
   "source": [
    "#### 기본적인 이미지 다루기"
   ]
  },
  {
   "cell_type": "code",
   "execution_count": 1,
   "metadata": {},
   "outputs": [],
   "source": [
    "import cv2\n",
    "import numpy as np              # 반환값이 numpy라서 로딩해야함."
   ]
  },
  {
   "cell_type": "markdown",
   "metadata": {},
   "source": [
    "[1] 이미지 데이터 로딩 <hr>\n",
    "- 컬러 / 회색 이미지 변환 로딩 가능"
   ]
  },
  {
   "cell_type": "code",
   "execution_count": 3,
   "metadata": {},
   "outputs": [],
   "source": [
    "file = 'C:/Users/KDP-48/PythonProject/Data/KDT-09-OpenCV/data/image/angry.jpg'"
   ]
  },
  {
   "cell_type": "code",
   "execution_count": 4,
   "metadata": {},
   "outputs": [],
   "source": [
    "# 컬러 이미지 로딩\n",
    "img_rgb = cv2.imread(file, cv2.IMREAD_COLOR)\n",
    "\n",
    "# 회색 이미지 로딩\n",
    "img_gray = cv2.imread(file, cv2.IMREAD_GRAYSCALE)"
   ]
  },
  {
   "cell_type": "markdown",
   "metadata": {},
   "source": []
  },
  {
   "cell_type": "code",
   "execution_count": 5,
   "metadata": {},
   "outputs": [
    {
     "name": "stdout",
     "output_type": "stream",
     "text": [
      "[COLOR IMAGE]\n",
      "SHAPE : (384, 384, 3)     DIM : 3D\n",
      "DTYPE : uint8     SIZE : 442368BYTE\n",
      "\n",
      "[COLOR IMAGE]\n",
      "SHAPE : (384, 384)     DIM : 2D\n",
      "DTYPE : uint8     SIZE : 147456BYTE\n"
     ]
    }
   ],
   "source": [
    "# 컬러 이미지 데이터 정보 확인\n",
    "print(f'[COLOR IMAGE]')\n",
    "print(f'SHAPE : {img_rgb.shape}     DIM : {img_rgb.ndim}D')\n",
    "print(f'DTYPE : {img_rgb.dtype}     SIZE : {img_rgb.size}BYTE')\n",
    "print()\n",
    "\n",
    "# 회색 이미지 데이터 정보 확인\n",
    "print(f'[COLOR IMAGE]')\n",
    "print(f'SHAPE : {img_gray.shape}     DIM : {img_gray.ndim}D')\n",
    "print(f'DTYPE : {img_gray.dtype}     SIZE : {img_gray.size}BYTE')"
   ]
  },
  {
   "cell_type": "code",
   "execution_count": 6,
   "metadata": {},
   "outputs": [],
   "source": [
    "# # 이미지 창 띄우기\n",
    "# cv2.imshow('[COLOR]', img_rgb)\n",
    "\n",
    "# # 이미지 창 제어\n",
    "# cv2.waitKey()\n",
    "\n",
    "# # 이미지 창 닫기\n",
    "# cv2.destroyAllWindows()"
   ]
  },
  {
   "cell_type": "code",
   "execution_count": 7,
   "metadata": {},
   "outputs": [],
   "source": [
    "# if img_rgb is not None :\n",
    "#     cv2.imshow('[COLOR]', img_rgb)\n",
    "#     while True :\n",
    "#         # 이미지 창 제어    \n",
    "#         key = cv2.waitKey()                 # 키 입력 대기\n",
    "#         print(f'key => {key} - {hex(key)}') # 입력 키 출력\n",
    "\n",
    "#         if key == 27 : # 엔터 키 => 13  # ESC 일 때 화면 종료\n",
    "#             cv2.destroyAllWindows()\n",
    "#             break\n",
    "\n",
    "# else:\n",
    "#     print('No image file!')"
   ]
  },
  {
   "cell_type": "markdown",
   "metadata": {},
   "source": [
    "ret = cv2.imwrite(이미지 경로 포함 파일명, 데이터)"
   ]
  },
  {
   "cell_type": "code",
   "execution_count": 8,
   "metadata": {},
   "outputs": [],
   "source": [
    "# 회색 이미지 로딩\n",
    "img_gray = cv2.imread(file, cv2.IMREAD_GRAYSCALE)\n",
    "\n",
    "save_filename = 'C:/Users/KDP-48/PythonProject/Data/KDT-09-OpenCV/data/image/gray_angry.jpg'\n",
    "gray_file = cv2.imwrite(save_filename, img_gray) # 흑백 이미지 저장"
   ]
  },
  {
   "cell_type": "markdown",
   "metadata": {},
   "source": [
    "multi_channel = cv2.split(image)"
   ]
  },
  {
   "cell_type": "code",
   "execution_count": 9,
   "metadata": {},
   "outputs": [],
   "source": [
    "# 채널 이미지 분리\n",
    "import time\n",
    "# 컬러 이미지 로딩\n",
    "img_rgb = cv2.imread(file, cv2.IMREAD_COLOR)\n",
    "\n",
    "img_b, img_g, img_r = cv2.split(img_rgb)\n",
    "#인덱스로도 분리 가능.\n",
    "#b, g, r = img_rgb[:, :, 0], img_rgb[:, :, 1], img_rgb[:, :, 2]\n",
    "\n",
    "cv2.imshow('[BLUE CHANNEL]', img_b)\n",
    "cv2.waitKey(3000) # 3초 = 3000 --> 3초 후 자동 꺼짐\n",
    "cv2.destroyAllWindows()\n",
    "\n",
    "cv2.imshow('[GREEN CHANNEL]', img_g)\n",
    "cv2.waitKey(3000) # 3초 = 3000 --> 3초 후 자동 꺼짐\n",
    "cv2.destroyAllWindows()\n",
    "\n",
    "\n",
    "cv2.imshow('[RED CHANNEL]', img_r)\n",
    "cv2.waitKey(3000) # 3초 = 3000 --> 3초 후 자동 꺼짐\n",
    "cv2.destroyAllWindows()"
   ]
  },
  {
   "cell_type": "code",
   "execution_count": 10,
   "metadata": {},
   "outputs": [],
   "source": [
    "# 이미지 데이터 채널 병합/변경\n",
    "img_rgb = cv2.imread(file, cv2.IMREAD_COLOR)\n",
    "\n",
    "img_b, img_g, img_r = cv2.split(img_rgb)\n",
    "\n",
    "img_rgb = cv2.merge((img_r, img_g, img_b)) #채널 순서 변경.\n",
    "\n",
    "cv2.imshow('[RGB IMAGE]', img_rgb)\n",
    "cv2.waitKey(4000)\n",
    "cv2.destroyAllWindows()"
   ]
  },
  {
   "cell_type": "code",
   "execution_count": 11,
   "metadata": {},
   "outputs": [],
   "source": [
    "# 이미지 채널 BGR ▶ HSV\n",
    "\n",
    "img_rgb = cv2.imread(file, cv2.IMREAD_COLOR)\n",
    "\n",
    "# BGR -> HSV\n",
    "src_hsv = cv2.cvtColor(img_rgb, cv2.COLOR_BGR2HSV)\n",
    "planes = cv2.split(src_hsv)\n",
    "\n",
    "cv2.imshow('[HSV IMG]', src_hsv)\n",
    "if cv2.waitKey() or cv2.getWindowProperty('[HSV IMG]', cv2.WND_PROP_VISIBLE) <1 : # 3초 = 3000 --> 3초 후 자동 꺼짐\n",
    "    # 이미지 창 닫기\n",
    "    cv2.destroyAllWindows()"
   ]
  },
  {
   "cell_type": "code",
   "execution_count": 12,
   "metadata": {},
   "outputs": [],
   "source": [
    "# Matplotlib 등 3장 보기."
   ]
  },
  {
   "cell_type": "code",
   "execution_count": 13,
   "metadata": {},
   "outputs": [],
   "source": [
    "# 도화지 만들기\n",
    "h, w = 500, 500\n",
    "\n",
    "img_w=np.full((h, w), 255, dtype=np.uint8)\n",
    "# ret = cv2.imwrite(file, img_w)\n",
    "# ret"
   ]
  },
  {
   "cell_type": "code",
   "execution_count": 14,
   "metadata": {},
   "outputs": [
    {
     "data": {
      "text/plain": [
       "((300, 300), 2)"
      ]
     },
     "execution_count": 14,
     "metadata": {},
     "output_type": "execute_result"
    }
   ],
   "source": [
    "# 도화지 만들기\n",
    "img = np.zeros((300, 300), dtype=np.uint8)\n",
    "img.shape, img.ndim\n",
    "\n",
    "# 흰 도화지 만들기\n",
    "img_white = np.full((300, 300), 255, dtype=np.uint8)\n",
    "img_white.shape, img_white.ndim"
   ]
  },
  {
   "cell_type": "code",
   "execution_count": 15,
   "metadata": {},
   "outputs": [
    {
     "name": "stdout",
     "output_type": "stream",
     "text": [
      "[[0 0 0 ... 0 0 0]\n",
      " [0 0 0 ... 0 0 0]\n",
      " [0 0 0 ... 0 0 0]\n",
      " ...\n",
      " [0 0 0 ... 0 0 0]\n",
      " [0 0 0 ... 0 0 0]\n",
      " [0 0 0 ... 0 0 0]]\n"
     ]
    }
   ],
   "source": [
    "# 이미지 데이터에 그림 그리기\n",
    "cv2.line(img, (10, 10), (70,70), (255,0,0))\n",
    "print(img)"
   ]
  },
  {
   "cell_type": "code",
   "execution_count": 16,
   "metadata": {},
   "outputs": [],
   "source": [
    "# 화면에 출력\n",
    "cv2.imshow('[BLACK]', img)\n",
    "cv2.imshow('[WHITE]', img_white)\n",
    "cv2.waitKey(3000)\n",
    "cv2.destroyAllWindows()\n"
   ]
  },
  {
   "cell_type": "code",
   "execution_count": 17,
   "metadata": {},
   "outputs": [],
   "source": [
    "# 이미지는 left 탑부터 값을 카운팅.\n",
    "# 파란색 1px짜리 데이터 생성\n",
    "cv2.line(img_rgb, (50, 50), (150, 50), (255, 0, 0), cv2.LINE_AA)\n",
    "cv2.imshow('[COLOR]', img_rgb)\n",
    "cv2.waitKey()\n",
    "cv2.destroyAllWindows()"
   ]
  },
  {
   "cell_type": "code",
   "execution_count": 18,
   "metadata": {},
   "outputs": [],
   "source": [
    "h, w = 500, 500\n",
    "\n",
    "img_w=np.full((h, w), 255, dtype=np.uint8)\n",
    "#cv2.imwrite(file, img_w)\n",
    "cv2.rectangle(img_w, (500, 200), (1000, 400), (255, 0, 0), 5, cv2.LINE_8)\n",
    "cv2.imshow('[RECTANGLE]', img_w)\n",
    "cv2.waitKey()\n",
    "cv2.destroyAllWindows()"
   ]
  },
  {
   "cell_type": "code",
   "execution_count": 19,
   "metadata": {},
   "outputs": [],
   "source": [
    "cv2.circle(img_rgb, (300, 300), 50, (0,255,0), cv2.FILLED, cv2.LINE_4)\n",
    "cv2.imshow('[CIRCLE]', img_rgb)\n",
    "cv2.waitKey(4000)\n",
    "cv2.destroyAllWindows()"
   ]
  },
  {
   "cell_type": "code",
   "execution_count": 20,
   "metadata": {},
   "outputs": [],
   "source": [
    "\n",
    "cv2.ellipse(img_rgb, (50, 300), (50,75), 15, 0, 180, (0,255,2), 2)\n",
    "cv2.imshow('[ellipse]', img_rgb)\n",
    "cv2.waitKey(4000)\n",
    "cv2.destroyAllWindows()"
   ]
  },
  {
   "cell_type": "code",
   "execution_count": 21,
   "metadata": {},
   "outputs": [],
   "source": [
    "src = np.zeros((768, 1366, 3), dtype=np.uint8)\n",
    "\n",
    "src = cv2.line(src, (100, 100), (1200, 100), (0, 0, 255), 3, cv2.LINE_AA)\n",
    "src = cv2.circle(src, (300, 300), 50, (0, 255, 0), cv2.FILLED, cv2.LINE_4)\n",
    "src = cv2.rectangle(src, (500, 200), (1000, 400), (255, 0, 0), 5, cv2.LINE_8)\n",
    "src = cv2.ellipse(src, (1200, 300), (100, 50), 0, 90, 180, (255, 255, 0), 2)"
   ]
  },
  {
   "cell_type": "code",
   "execution_count": 22,
   "metadata": {},
   "outputs": [],
   "source": [
    "pts1 =np.array([[100, 500], [300, 500], [200, 600]])\n",
    "pts2 =np.array([[600, 500], [800, 500], [700,600]])\n",
    "src = cv2.polylines(src, [pts1], True, (0, 255, 255), 2)\n",
    "src = cv2.fillPoly(src, [pts2], (255, 0, 255), cv2.LINE_AA)\n",
    "src = cv2.putText(src, \"HAPPY\", (900, 600), cv2.FONT_HERSHEY_COMPLEX, 2, (255, 255, 255), 3)\n",
    "\n",
    "cv2.imshow('src', src)\n",
    "cv2.waitKey()\n",
    "cv2.destroyAllWindows()"
   ]
  }
 ],
 "metadata": {
  "kernelspec": {
   "display_name": "Torch_py38",
   "language": "python",
   "name": "python3"
  },
  "language_info": {
   "codemirror_mode": {
    "name": "ipython",
    "version": 3
   },
   "file_extension": ".py",
   "mimetype": "text/x-python",
   "name": "python",
   "nbconvert_exporter": "python",
   "pygments_lexer": "ipython3",
   "version": "3.8.12"
  }
 },
 "nbformat": 4,
 "nbformat_minor": 2
}
