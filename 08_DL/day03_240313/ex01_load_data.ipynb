{
 "cells": [
  {
   "cell_type": "markdown",
   "metadata": {},
   "source": [
    "### "
   ]
  },
  {
   "cell_type": "markdown",
   "metadata": {},
   "source": [
    "### 데이터로딩 및 텐서 변환"
   ]
  },
  {
   "cell_type": "code",
   "execution_count": 10,
   "metadata": {},
   "outputs": [],
   "source": [
    "# 모듈 로딩\n",
    "import imageio.v2 # 이미지 데이터 관련 모듈\n",
    "import torch # Pytorch 텐서 및 기본 함수 관련 모듈"
   ]
  },
  {
   "cell_type": "code",
   "execution_count": 15,
   "metadata": {},
   "outputs": [],
   "source": [
    "# 이미지 데이터 로딩\n",
    "filename = '../data/image/kimheejin.jpg'"
   ]
  },
  {
   "cell_type": "code",
   "execution_count": 16,
   "metadata": {},
   "outputs": [
    {
     "name": "stdout",
     "output_type": "stream",
     "text": [
      "(467, 700, 3) 3\n"
     ]
    }
   ],
   "source": [
    "# ndarray 타입의 이미지 데이터.\n",
    "img_data = imageio.v2.imread(filename) # DeprecationWarning 떄문에 imageio.v2.imread라고 쓰기.\n",
    "print(img_data.shape, img_data.ndim)"
   ]
  },
  {
   "cell_type": "code",
   "execution_count": 17,
   "metadata": {},
   "outputs": [],
   "source": [
    "# ndarray => tensor 변환\n",
    "img_t1 = torch.tensor(img_data) # copying\n",
    "img_t2 = torch.from_numpy(img_data) # sharing\n",
    "img_t3 = torch.as_tensor(img_data) # sharing"
   ]
  },
  {
   "cell_type": "code",
   "execution_count": 18,
   "metadata": {},
   "outputs": [
    {
     "name": "stdout",
     "output_type": "stream",
     "text": [
      "torch.Size([467, 700, 3]) 3\n",
      "torch.Size([467, 700, 3]) 3\n",
      "torch.Size([467, 700, 3]) 3\n"
     ]
    }
   ],
   "source": [
    "# ndarray => tensor 변환 [행(높이), 열(너비), 채널]\n",
    "print(img_t1.shape, img_t1.ndim)\n",
    "print(img_t2.shape, img_t2.ndim)\n",
    "print(img_t3.shape, img_t3.ndim)"
   ]
  },
  {
   "cell_type": "code",
   "execution_count": 20,
   "metadata": {},
   "outputs": [
    {
     "data": {
      "text/plain": [
       "torch.Size([3, 467, 700])"
      ]
     },
     "execution_count": 20,
     "metadata": {},
     "output_type": "execute_result"
    }
   ],
   "source": [
    "# ndarray => tensor 변환 [행(높이), 열(너비), 채널] => [채널, 행(높이), 열(너비)]\n",
    "img_t1.permute(2,0,1).shape"
   ]
  },
  {
   "cell_type": "code",
   "execution_count": 21,
   "metadata": {},
   "outputs": [],
   "source": [
    "# [처음------------------------끝] = 에포크\n",
    "# [처음-----|----------|-------끝] 이렇게 임의로 자른 부분/덩어리 == 배치(barch) 사이즈 (보통 32개로 나누었을때 성능이 좋았음.)"
   ]
  },
  {
   "cell_type": "code",
   "execution_count": null,
   "metadata": {},
   "outputs": [],
   "source": []
  }
 ],
 "metadata": {
  "kernelspec": {
   "display_name": "Torch_py38",
   "language": "python",
   "name": "python3"
  },
  "language_info": {
   "codemirror_mode": {
    "name": "ipython",
    "version": 3
   },
   "file_extension": ".py",
   "mimetype": "text/x-python",
   "name": "python",
   "nbconvert_exporter": "python",
   "pygments_lexer": "ipython3",
   "version": "3.8.18"
  }
 },
 "nbformat": 4,
 "nbformat_minor": 2
}
