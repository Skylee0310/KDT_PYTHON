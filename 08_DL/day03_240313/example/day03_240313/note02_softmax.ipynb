{
 "cells": [
  {
   "cell_type": "markdown",
   "metadata": {},
   "source": [
    "### 다중분류(Multi-Class Classification)\n",
    "---\n",
    "- 3 개 이상의 답 중 1개를 고르는 경우\n",
    "- 비용함수(Cost Function)  => Cross Entropy\n",
    "    * 이진 교차 엔트로피(Binary Cross Entropy)와 유사한 방식으로 계산"
   ]
  },
  {
   "cell_type": "code",
   "execution_count": 2,
   "metadata": {},
   "outputs": [],
   "source": [
    "# 모듈 로딩\n",
    "import torch\n",
    "import torch.nn.functional as F"
   ]
  },
  {
   "cell_type": "code",
   "execution_count": 3,
   "metadata": {},
   "outputs": [
    {
     "data": {
      "text/plain": [
       "<torch._C.Generator at 0x199cf4978b0>"
      ]
     },
     "execution_count": 3,
     "metadata": {},
     "output_type": "execute_result"
    }
   ],
   "source": [
    "# 랜덤 시드 설정\n",
    "torch.manual_seed(1)"
   ]
  },
  {
   "cell_type": "code",
   "execution_count": 4,
   "metadata": {},
   "outputs": [
    {
     "name": "stdout",
     "output_type": "stream",
     "text": [
      "torch.Size([3]) 1차원 tensor([1., 2., 3.])\n"
     ]
    }
   ],
   "source": [
    "# 데이터 생성\n",
    "z = torch.FloatTensor([1, 2, 3])\n",
    "print(z.shape, f'{z.ndim}차원', z)"
   ]
  },
  {
   "cell_type": "code",
   "execution_count": 5,
   "metadata": {},
   "outputs": [
    {
     "name": "stdout",
     "output_type": "stream",
     "text": [
      "tensor([0.0900, 0.2447, 0.6652]) tensor(1.)\n"
     ]
    }
   ],
   "source": [
    "# 소프트맥스 함수 적용\n",
    "# F.softmax(텐서, dim=softmax를 수행할 차원)\n",
    "hypothesis = F.softmax(z, dim=0) # dim=0 : 소프트맥스를 계산할 차원을 지정(여기서는 0번째 차원을 기준 / 소프트맥스 계산 )\n",
    "print(hypothesis, hypothesis.sum()) # 소프트맥스 함수를 적용한 결과인 hypothesis와 그 합을 계산하여 출력\n",
    "\n",
    "\n",
    "# 소프트맥스 함수는 각 클래스에 대한 확률을 계산\n",
    "# 이 확률은 0부터 1 사이의 값으로 정규화되기 때문에 소프트맥스 함수를 적용한 결과의 모든 요소를 합하면 => 1"
   ]
  },
  {
   "cell_type": "code",
   "execution_count": 6,
   "metadata": {},
   "outputs": [
    {
     "name": "stdout",
     "output_type": "stream",
     "text": [
      "torch.Size([3, 5])\n",
      "2차원\n",
      "tensor([[0.7576, 0.2793, 0.4031, 0.7347, 0.0293],\n",
      "        [0.7999, 0.3971, 0.7544, 0.5695, 0.4388],\n",
      "        [0.6387, 0.5247, 0.6826, 0.3051, 0.4635]], requires_grad=True)\n"
     ]
    }
   ],
   "source": [
    "z2 = torch.rand(3, 5, requires_grad=True) # ( 무작위의 실수가 들어있는 3 X 5 행렬 )\n",
    "print(z2.shape, f'{z2.ndim}차원', z2, sep='\\n')"
   ]
  },
  {
   "cell_type": "markdown",
   "metadata": {},
   "source": [
    "torch.rand\n",
    "- 주어진 모양에 맞는 텐서를 만들고, 그 텐서의 각 요소에 대해 0과 1 사이의 무작위한 값을 할당\n",
    "- requires_grad = True : 기울기 계산. ( 텐서를 사용하여 역전파 과정을 수행 )"
   ]
  },
  {
   "cell_type": "code",
   "execution_count": 9,
   "metadata": {},
   "outputs": [
    {
     "name": "stdout",
     "output_type": "stream",
     "text": [
      "tensor([[0.2645, 0.1639, 0.1855, 0.2585, 0.1277],\n",
      "        [0.2430, 0.1624, 0.2322, 0.1930, 0.1694],\n",
      "        [0.2226, 0.1986, 0.2326, 0.1594, 0.1868]], grad_fn=<SoftmaxBackward0>) tensor(3.0000, grad_fn=<SumBackward0>)\n"
     ]
    }
   ],
   "source": [
    "# dim=1 ==> (3, 5)에서 5가지에 대한 값 \n",
    "\n",
    "hypothesis = F.softmax(z2, dim=1) # 예측 확률을 계산.  dim =1 이므로 1번째 차원을 기준으로 소프트맥스를 계산\n",
    "\n",
    "print(hypothesis, hypothesis.sum())\n",
    "#소프트맥스 함수를 적용한 결과인 hypothesis와 그 각각의 합을 계산하여 출력 (행별로 1 + 1 + 1)"
   ]
  },
  {
   "cell_type": "markdown",
   "metadata": {},
   "source": [
    "### One-Hot-Encoding\n",
    "- squeeze() / unsqueeze() 살펴보기"
   ]
  },
  {
   "cell_type": "code",
   "execution_count": null,
   "metadata": {},
   "outputs": [],
   "source": []
  },
  {
   "cell_type": "code",
   "execution_count": null,
   "metadata": {},
   "outputs": [],
   "source": []
  }
 ],
 "metadata": {
  "kernelspec": {
   "display_name": "Torch_py38",
   "language": "python",
   "name": "python3"
  },
  "language_info": {
   "codemirror_mode": {
    "name": "ipython",
    "version": 3
   },
   "file_extension": ".py",
   "mimetype": "text/x-python",
   "name": "python",
   "nbconvert_exporter": "python",
   "pygments_lexer": "ipython3",
   "version": "3.8.18"
  }
 },
 "nbformat": 4,
 "nbformat_minor": 2
}
