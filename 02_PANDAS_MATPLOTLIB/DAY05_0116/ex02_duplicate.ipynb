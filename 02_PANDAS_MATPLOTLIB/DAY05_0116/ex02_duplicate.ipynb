{
 "cells": [
  {
   "cell_type": "markdown",
   "id": "c48fe62d-88a8-47c3-9aa0-d0688fdfb0c1",
   "metadata": {},
   "source": [
    "*¨✼•.¸¸.•ᓭི༏ᓯྀ*¨✼•.¸¸.•ᓭི༏ᓯྀ*¨✼•.¸¸.•ᓭི༏ᓯྀ•.¸¸.•✼*¨*"
   ]
  },
  {
   "cell_type": "markdown",
   "id": "12c64792-4057-4e5d-b3f7-3555f9c30dc2",
   "metadata": {},
   "source": [
    "## [ 중복 데이터 처리 ]\n",
    "- 중복 데이터 기준 == 행(row)\n",
    "- 행 단위로 모든 컬럼의 값이 완전히 똑같은 데이터를 중복 데이터라고 한다.\n",
    "- 보통 제거 처리!"
   ]
  },
  {
   "cell_type": "markdown",
   "id": "806e9d5c-d55b-4151-a62b-e3c230d7c7b0",
   "metadata": {},
   "source": [
    "*¨✼•.¸¸.•ᓭི༏ᓯྀ*¨✼•.¸¸.•ᓭི༏ᓯྀ*¨✼•.¸¸.•ᓭི༏ᓯྀ•.¸¸.•✼*¨*"
   ]
  },
  {
   "cell_type": "markdown",
   "id": "a685cca3-4a5e-4756-9dd8-217fe8f80f39",
   "metadata": {},
   "source": [
    "(1) 모듈로딩 <hr>"
   ]
  },
  {
   "cell_type": "code",
   "execution_count": 6,
   "id": "28d78a08-0016-4b6c-bb25-1f36b6858b2d",
   "metadata": {},
   "outputs": [],
   "source": [
    "import pandas as pd"
   ]
  },
  {
   "cell_type": "markdown",
   "id": "2bf216c4-82ff-44de-811e-e220220abeb5",
   "metadata": {},
   "source": [
    "(2) 데이터 준비 <hr>"
   ]
  },
  {
   "cell_type": "code",
   "execution_count": 7,
   "id": "7448f593-f676-4f68-9dc7-77aa68cf8a42",
   "metadata": {},
   "outputs": [],
   "source": [
    "file = '../DATA/employees.csv'"
   ]
  },
  {
   "cell_type": "markdown",
   "id": "08faabcf-e56e-4b18-babe-29d38338ef14",
   "metadata": {},
   "source": [
    "(3) 데이터 저장 : CSV -> DF <hr>"
   ]
  },
  {
   "cell_type": "code",
   "execution_count": 8,
   "id": "f4a1acc8-9abb-4bbe-83b3-f535f7c5ad32",
   "metadata": {},
   "outputs": [],
   "source": [
    "empDF = pd.read_csv(file)"
   ]
  },
  {
   "cell_type": "markdown",
   "id": "bd9296a3-e99b-4e31-9edc-fe425026f931",
   "metadata": {},
   "source": [
    "(4) 데이터 확인<hr>"
   ]
  },
  {
   "cell_type": "code",
   "execution_count": 9,
   "id": "e6ad99cb-4d0c-4861-8123-172b461bf0ef",
   "metadata": {},
   "outputs": [
    {
     "name": "stdout",
     "output_type": "stream",
     "text": [
      "<class 'pandas.core.frame.DataFrame'>\n",
      "RangeIndex: 1001 entries, 0 to 1000\n",
      "Data columns (total 6 columns):\n",
      " #   Column      Non-Null Count  Dtype  \n",
      "---  ------      --------------  -----  \n",
      " 0   First Name  933 non-null    object \n",
      " 1   Gender      854 non-null    object \n",
      " 2   Start Date  999 non-null    object \n",
      " 3   Salary      999 non-null    float64\n",
      " 4   Mgmt        933 non-null    object \n",
      " 5   Team        957 non-null    object \n",
      "dtypes: float64(1), object(5)\n",
      "memory usage: 47.0+ KB\n"
     ]
    }
   ],
   "source": [
    "empDF.info()"
   ]
  },
  {
   "cell_type": "markdown",
   "id": "b4e73002-7e42-425b-a72c-712e662b7957",
   "metadata": {},
   "source": [
    "(5) 데이터 전처리 => 나. 중복 데이터 처리."
   ]
  },
  {
   "cell_type": "markdown",
   "id": "a006b401-0a4c-48ec-8796-3da9b7aed55a",
   "metadata": {},
   "source": [
    "- 중복 데이터 체크 => duplicated() : 중복이면 True\n",
    "- 중복 데이터 처리 => drop_duplicated() : 삭제"
   ]
  },
  {
   "cell_type": "code",
   "execution_count": 12,
   "id": "6ecb9f24-5e32-4d17-864e-24fb9840405a",
   "metadata": {},
   "outputs": [
    {
     "data": {
      "text/plain": [
       "0"
      ]
     },
     "execution_count": 12,
     "metadata": {},
     "output_type": "execute_result"
    }
   ],
   "source": [
    "# 행단위로 완전히 일치하는 행 검사 => 0개\n",
    "empDF.duplicated().sum()"
   ]
  },
  {
   "cell_type": "code",
   "execution_count": 13,
   "id": "ba00788e-0311-4278-bf18-bbb0c1c10f09",
   "metadata": {},
   "outputs": [],
   "source": [
    "# Team 컬럼 검사"
   ]
  },
  {
   "cell_type": "code",
   "execution_count": 17,
   "id": "e35fdd21-164f-4d7a-9ac6-da0c356aaa37",
   "metadata": {},
   "outputs": [
    {
     "data": {
      "text/plain": [
       "990"
      ]
     },
     "execution_count": 17,
     "metadata": {},
     "output_type": "execute_result"
    }
   ],
   "source": [
    "empDF.Team.duplicated().sum() # 개수 확인 : Team 항목에서 값이 서로 일치하는 건수는 990건이다."
   ]
  },
  {
   "cell_type": "code",
   "execution_count": 19,
   "id": "64b1925b-e655-457b-b344-525b5a84d79a",
   "metadata": {},
   "outputs": [
    {
     "data": {
      "text/plain": [
       "10"
      ]
     },
     "execution_count": 19,
     "metadata": {},
     "output_type": "execute_result"
    }
   ],
   "source": [
    "empDF.Team.nunique() #고유값의 개수"
   ]
  },
  {
   "cell_type": "code",
   "execution_count": 22,
   "id": "31f0d9b3-b951-4a06-84bd-1869eda6aeda",
   "metadata": {},
   "outputs": [
    {
     "data": {
      "text/plain": [
       "0        Marketing\n",
       "1              NaN\n",
       "2          Finance\n",
       "4               IT\n",
       "5            Legal\n",
       "6          Product\n",
       "8      Engineering\n",
       "9     Business Dev\n",
       "12              HR\n",
       "13           Sales\n",
       "40    Distribution\n",
       "Name: Team, dtype: object"
      ]
     },
     "execution_count": 22,
     "metadata": {},
     "output_type": "execute_result"
    }
   ],
   "source": [
    "empDF.Team.drop_duplicates()"
   ]
  },
  {
   "cell_type": "code",
   "execution_count": 23,
   "id": "feb4a17b-6b43-4281-8c55-c83196faf82d",
   "metadata": {},
   "outputs": [
    {
     "data": {
      "text/plain": [
       "Series([], Name: Team, dtype: object)"
      ]
     },
     "execution_count": 23,
     "metadata": {},
     "output_type": "execute_result"
    }
   ],
   "source": [
    "empDF.Team.drop_duplicates(keep=False)"
   ]
  },
  {
   "cell_type": "markdown",
   "id": "aa75056c-c472-4184-a617-f298ca7527f7",
   "metadata": {},
   "source": [
    "꒦꒷꒦꒷꒦꒷꒦꒷꒦꒷꒦꒷꒷꒦꒷꒦꒷꒷꒦꒷꒦꒷"
   ]
  },
  {
   "cell_type": "markdown",
   "id": "d66aaff4-113d-4b60-8231-185b25e3973f",
   "metadata": {},
   "source": [
    "════════ ೋღ 🌺 ღೋ ════════"
   ]
  },
  {
   "cell_type": "code",
   "execution_count": null,
   "id": "b9b7b366-8e48-456f-afeb-45edfdd10689",
   "metadata": {},
   "outputs": [],
   "source": []
  }
 ],
 "metadata": {
  "kernelspec": {
   "display_name": "Python 3 (ipykernel)",
   "language": "python",
   "name": "python3"
  },
  "language_info": {
   "codemirror_mode": {
    "name": "ipython",
    "version": 3
   },
   "file_extension": ".py",
   "mimetype": "text/x-python",
   "name": "python",
   "nbconvert_exporter": "python",
   "pygments_lexer": "ipython3",
   "version": "3.8.18"
  }
 },
 "nbformat": 4,
 "nbformat_minor": 5
}
