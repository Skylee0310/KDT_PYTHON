{
 "cells": [
  {
   "cell_type": "markdown",
   "metadata": {},
   "source": [
    "전이학습"
   ]
  },
  {
   "cell_type": "markdown",
   "metadata": {},
   "source": [
    "- 큰 데이터 셋을 사용하여 훈련된 모델의 가중치를 사용\n",
    "\n",
    "- 특정 대상을 예측하도록 훈련된 모델을 다른 대상에 사용하는 것.\n",
    "\n",
    "- 사전 훈련된 모델을 갖고 와서 마지막 완전 연결층 부분만 새로 생성."
   ]
  },
  {
   "cell_type": "markdown",
   "metadata": {},
   "source": [
    "- 작은 데이터셋 학습시 과대 적합 예방.\n",
    "- 학습 빠르게 수행."
   ]
  },
  {
   "cell_type": "markdown",
   "metadata": {},
   "source": [
    "#### 전이 학습 "
   ]
  },
  {
   "cell_type": "code",
   "execution_count": 2,
   "metadata": {},
   "outputs": [],
   "source": [
    "import torch\n",
    "import torch.nn as nn\n",
    "import torch.optim as optim\n",
    "from torch.utils.data import DataLoader\n",
    "\n",
    "from torchvision.datasets import ImageFolder\n",
    "import torchvision.transforms as transforms\n",
    "from torchvision.models import resnet18, ResNet18_Weights\n",
    "\n",
    "from torchinfo import summary                                           # 모델 볼 수 있음.\n",
    "from torchmetrics.functional.classification import multiclass_accuracy"
   ]
  },
  {
   "cell_type": "code",
   "execution_count": 6,
   "metadata": {},
   "outputs": [
    {
     "name": "stdout",
     "output_type": "stream",
     "text": [
      "['afolder', 'bfolder']\n",
      "[0, 0, 0, 0, 0, 0, 0, 0, 0, 0, 0, 0, 0, 0, 0, 0, 0, 0, 0, 0, 0, 0, 0, 0, 0, 0, 0, 0, 0, 0, 0, 0, 0, 0, 0, 0, 0, 0, 0, 0, 0, 0, 0, 0, 0, 0, 0, 0, 0, 0, 0, 0, 0, 0, 0, 0, 0, 0, 0, 0, 0, 0, 0, 0, 0, 0, 0, 0, 0, 0, 0, 0, 0, 0, 0, 0, 0, 0, 0, 0, 0, 0, 0, 0, 0, 0, 0, 0, 0, 0, 0, 0, 0, 0, 0, 0, 0, 0, 0, 0, 0, 1, 1, 1, 1, 1, 1, 1, 1, 1, 1, 1, 1, 1, 1, 1, 1, 1, 1, 1, 1, 1, 1, 1, 1, 1, 1, 1, 1, 1, 1, 1, 1, 1, 1, 1, 1, 1, 1, 1, 1, 1, 1, 1, 1, 1, 1, 1, 1, 1, 1, 1, 1, 1, 1, 1, 1, 1, 1, 1, 1, 1, 1]\n",
      "[('../data/image\\\\afolder\\\\angry\\\\0AvKtuzA7LfxnKaO0bey9mQMLnxXad73.jpg', 0), ('../data/image\\\\afolder\\\\angry\\\\0C5yo7GxMy8lztxNZvSdfEx2gSPRTR701.jpg', 0), ('../data/image\\\\afolder\\\\angry\\\\0C9jEgFQHsh36W5U2u5CA98lB7C5eX806.jpg', 0), ('../data/image\\\\afolder\\\\angry\\\\0RXraPIKC00Dz1qkuMbj8XbuR80g5Z893.jpg', 0), ('../data/image\\\\afolder\\\\angry\\\\0TSpHUDh1xIQthYrtH8E1UZQ72rcTZ68.jpg', 0), ('../data/image\\\\afolder\\\\angry\\\\0aNyXBrmNA7XdefwHvgO2n1rnpqQAp885.jpg', 0), ('../data/image\\\\afolder\\\\angry\\\\0dWl0dRT9Pc98fjFSvGOXlGlE0B4E6267.jpg', 0), ('../data/image\\\\afolder\\\\angry\\\\0da4j6Ehkb6Ml0YBRiWmsBU2wEMoXP409.jpg', 0), ('../data/image\\\\afolder\\\\angry\\\\0jgI6KwR6IGvq9CAMBB3srLRa0W7z7192.jpg', 0), ('../data/image\\\\afolder\\\\angry\\\\0nhvFJW7Q5S48PygRMOimUipiYweig911.jpg', 0), ('../data/image\\\\afolder\\\\angry\\\\0qqRaCQQtAQj2PGIRQrNJa1rnnx36W620.jpg', 0), ('../data/image\\\\afolder\\\\angry\\\\0rAH60FVXqnFBJPzGVSxzEe22APpFS734.jpg', 0), ('../data/image\\\\afolder\\\\angry\\\\0rdx3OrwENAIWpp9Bunro1ku6Zwbqv6.jpg', 0), ('../data/image\\\\afolder\\\\angry\\\\0tVivKVWy9s7Zp3vR7LN1syiMBfAoR375.jpg', 0), ('../data/image\\\\afolder\\\\angry\\\\0vltcJWTxKRV0vXzb1Ij2qqDNSheoD824.jpg', 0), ('../data/image\\\\afolder\\\\angry\\\\1GFNdPDe8wXTXZPBboGHYLJtAYolJq648.jpg', 0), ('../data/image\\\\afolder\\\\angry\\\\1GHtV7mn7v7qvHSx8vZy1vqYiZNQhd689.jpg', 0), ('../data/image\\\\afolder\\\\angry\\\\1IRXdTCcJO8H4W7NCbVAS6cPoHRP2Z831.jpg', 0), ('../data/image\\\\afolder\\\\angry\\\\1JG6hK4SpWtBZ02lgHdquFtERBHoeU568.jpg', 0), ('../data/image\\\\afolder\\\\angry\\\\1LmcTejRp8jgHZo3nbPjgmO34R2J6T153.jpg', 0), ('../data/image\\\\afolder\\\\angry\\\\1MLMzBLgXPxaPHQRgs2Ws2UQJJZsaG300.jpg', 0), ('../data/image\\\\afolder\\\\angry\\\\1OIYiVdFbBN5bnKkFGCbLyBcuUrpww110.jpg', 0), ('../data/image\\\\afolder\\\\angry\\\\1Rrc95i0R7xsjSQszhHQeH97EfdGMy728.jpg', 0), ('../data/image\\\\afolder\\\\angry\\\\1Utns729zOhE2nUIHDPWEbVKz98uaW11.jpg', 0), ('../data/image\\\\afolder\\\\angry\\\\1XO0BbeilTxjEAu7L1u8rdaJfi280V401.jpg', 0), ('../data/image\\\\afolder\\\\angry\\\\1aHBBQ71qEibU3fl15oivhwKxhiF6C302.jpg', 0), ('../data/image\\\\afolder\\\\angry\\\\1dndVMGjpetphxG6rVVempH947atN9743.jpg', 0), ('../data/image\\\\afolder\\\\angry\\\\1uhQzgHPPAF1xGTS9fiquWOc3kn3hC887.jpg', 0), ('../data/image\\\\afolder\\\\angry\\\\1y1fS58cYhmVko5Dm9DuawUiNwf6Iq695.jpg', 0), ('../data/image\\\\afolder\\\\angry\\\\2G9O3I44mYAOEwzH1kXPGqK7ol9yiT175.jpg', 0), ('../data/image\\\\afolder\\\\angry\\\\2Jwl0P0JFuHBQZaYLjSf3dcr8N3Q2l981.jpg', 0), ('../data/image\\\\afolder\\\\angry\\\\2NwriLCOmm7Rnjngwth3PRVzRx0LpS117.jpg', 0), ('../data/image\\\\afolder\\\\angry\\\\2PbL2ZpSjgZgVBhe1sU0QVQP0owxj8896.jpg', 0), ('../data/image\\\\afolder\\\\angry\\\\2RjDxA7ONK70VKnqz74UtaJ4iAzwL5427.jpg', 0), ('../data/image\\\\afolder\\\\angry\\\\2Z3F76YYccn0y2EIi94q4LtiToKJ5A367.jpg', 0), ('../data/image\\\\afolder\\\\angry\\\\2ZPv4ojTV9BXHf8L2fxDgcNBKV8an1314.jpg', 0), ('../data/image\\\\afolder\\\\angry\\\\2eKFOJGFQbj7DHmHuT6OpKBxPBY3DL836.jpg', 0), ('../data/image\\\\afolder\\\\angry\\\\2hFcQKYGlSslGwu63BIf3S80N0BTdi591.jpg', 0), ('../data/image\\\\afolder\\\\angry\\\\2mXnwOmNvsF3PgZySCuudkrlSF8tdr8.jpg', 0), ('../data/image\\\\afolder\\\\angry\\\\2tGMhtdM6yMN3Ih89Z389Dc00mhNvs234.jpg', 0), ('../data/image\\\\afolder\\\\angry\\\\2tkW5QsTS7t7jKlF9nMrKfAIbSkAe3490.jpg', 0), ('../data/image\\\\afolder\\\\angry\\\\2xfqieE0L7gJyWf1eZemiCmkNqdTJF218.jpg', 0), ('../data/image\\\\afolder\\\\angry\\\\2ygVh7IsyzAlX8ipws7vRBxA2O6SXv414.jpg', 0), ('../data/image\\\\afolder\\\\angry\\\\3ATa8Ox9pApGol67I4hCHo97FSEDw7350.jpg', 0), ('../data/image\\\\afolder\\\\angry\\\\3GT6pXffwN7eYLwLaUpmzDZjoH5Axs335.jpg', 0), ('../data/image\\\\afolder\\\\angry\\\\3LkXo6fYAKX6v4Lf43SwpmUPJKsD9N143.jpg', 0), ('../data/image\\\\afolder\\\\angry\\\\3PgtS7bC8dlPTH5e1Yg4S0FWIhAbCo788.jpg', 0), ('../data/image\\\\afolder\\\\angry\\\\3e7ne7hPR6zHzv8kjUkZ0DKoJNatJX22.jpg', 0), ('../data/image\\\\afolder\\\\angry\\\\3gNqRVAOOxGGxL64hG2fXa2apwIDio797.jpg', 0), ('../data/image\\\\afolder\\\\angry\\\\3gP2x8fCoDjqVQMOFqg1AgCKSKvvaB463.jpg', 0), ('../data/image\\\\afolder\\\\happy\\\\04FMq3exmYnLxQ85XzYhS0a9Mrb5Ic420.jpg', 0), ('../data/image\\\\afolder\\\\happy\\\\0GrVKDw4Z8nWqf3iMC3Q0PcruUz8eL906.jpg', 0), ('../data/image\\\\afolder\\\\happy\\\\0dula1RWC0ZyjlrqEwuVHgtxHp5kme443.jpg', 0), ('../data/image\\\\afolder\\\\happy\\\\0fmy0dTY2aV0kGQ8UEDgWDrbGyxnac904.jpg', 0), ('../data/image\\\\afolder\\\\happy\\\\0gPGcGO2OZ5pSKJ2JsTjQsggUdYr5J831.jpg', 0), ('../data/image\\\\afolder\\\\happy\\\\0qsAKugWJt0CSJU8q3YRAu9oH4d6ve716.jpg', 0), ('../data/image\\\\afolder\\\\happy\\\\1Aq4mqVzaUweEhMaLKOTViQ79CbBLJ874.jpg', 0), ('../data/image\\\\afolder\\\\happy\\\\1Bd8w8zWibVSb2nyQoLMRNcVKWELba270.jpg', 0), ('../data/image\\\\afolder\\\\happy\\\\1CghnczvrarpRY5zxNmPP3XiphsFlf335.jpg', 0), ('../data/image\\\\afolder\\\\happy\\\\1FqOKTZh7f5YIqx7gffFH3zNx86BOq922.jpg', 0), ('../data/image\\\\afolder\\\\happy\\\\1INB5yzmwJu7vUpjU3VDwsN4Bo5RTU518.jpg', 0), ('../data/image\\\\afolder\\\\happy\\\\1KdEGoZwPog5YjCMf2TiptauslILYK862.jpg', 0), ('../data/image\\\\afolder\\\\happy\\\\1LtUW3q6hr4s3kRY0tYDmxGHBsxv6I170.jpg', 0), ('../data/image\\\\afolder\\\\happy\\\\1QIdwVXbPpnc8oBhsyr9Pod4tJC6aL81.jpg', 0), ('../data/image\\\\afolder\\\\happy\\\\1TrpN5SuraWqXW8KjLR8oWoPuHQqBR217.jpg', 0), ('../data/image\\\\afolder\\\\happy\\\\1WD5LzIEQw2bdLjL1xwebrHxKWRv0u418.jpg', 0), ('../data/image\\\\afolder\\\\happy\\\\1aDAhxgUV8TWkvos7L8MaZ9dj0fpBH965.jpg', 0), ('../data/image\\\\afolder\\\\happy\\\\1id4uEflgMojRxkrMM9NQkcZrKSF11148.jpg', 0), ('../data/image\\\\afolder\\\\happy\\\\1qoRBbSqCqsTt0UgKLu8KQ66ASgVbC371.jpg', 0), ('../data/image\\\\afolder\\\\happy\\\\1rtKfsXhuqXt28uEPA59oZbuqvMmli87.jpg', 0), ('../data/image\\\\afolder\\\\happy\\\\2AoiPsaOr4YiEGxiOAhfMQpZ3K77nc168.jpg', 0), ('../data/image\\\\afolder\\\\happy\\\\2D8jUt58l5H0Dqfbes9UA7EEghaB3X938.jpg', 0), ('../data/image\\\\afolder\\\\happy\\\\2I2DpnyqzV96rY55fSZWzXytCAy69i492.jpg', 0), ('../data/image\\\\afolder\\\\happy\\\\2IukSIQn4FnHZ14wUvJQOFgzoFJoQp644.jpg', 0), ('../data/image\\\\afolder\\\\happy\\\\2Iz5eQQQQJjcLiEKmOwMrigGdH0Vbx419.jpg', 0), ('../data/image\\\\afolder\\\\happy\\\\2JshHf2MffRx6A4rDs3gumuxM0UG5c744.jpg', 0), ('../data/image\\\\afolder\\\\happy\\\\2OLkWxmeUiHwvuR6eKTwX1GmBiJq7y614.jpg', 0), ('../data/image\\\\afolder\\\\happy\\\\2PMycjJEDQtHeUtWu81squhGQ64Tb3186.jpg', 0), ('../data/image\\\\afolder\\\\happy\\\\2XArFisfLiSpKYAcge9YmC4c249CSL936.jpg', 0), ('../data/image\\\\afolder\\\\happy\\\\2ajEK1akISq6AyEMp5LaVnZtylCRCA156.jpg', 0), ('../data/image\\\\afolder\\\\happy\\\\2bTgz4J27gn7fzsSfJmH1qBrZk1L0G759.jpg', 0), ('../data/image\\\\afolder\\\\happy\\\\2bVW67KtR6xL7eph5kzXcLeBMoGojl273.jpg', 0), ('../data/image\\\\afolder\\\\happy\\\\2c4fOfz8Gkt3oRuCzo8Ojc05adVHDp471.jpg', 0), ('../data/image\\\\afolder\\\\happy\\\\2g8zKcajchadcLVCJ7rR09Z3pdgvVb454.jpg', 0), ('../data/image\\\\afolder\\\\happy\\\\2gUa6Q1EmPsDanb1TRdPt6Im0llmf7616.jpg', 0), ('../data/image\\\\afolder\\\\happy\\\\2hAmgXf8tDs3PZ3AQzXpCLGMkzsb09583.jpg', 0), ('../data/image\\\\afolder\\\\happy\\\\2m1KybFdRJfD6HiYURg8x1ko2wOVGG20.jpg', 0), ('../data/image\\\\afolder\\\\happy\\\\2mSDYmclz1x8Nyg86GAelsDQRwbxZS447.jpg', 0), ('../data/image\\\\afolder\\\\happy\\\\2nBcJrbC9A4h7SOnKhetMkHbYuZzQ8929.jpg', 0), ('../data/image\\\\afolder\\\\happy\\\\3AWb03npjQq2CcIFlhIeP71fTncsib407.jpg', 0), ('../data/image\\\\afolder\\\\happy\\\\3CZjxXu89ghmUtDObskJxmtz3D3owi28.jpg', 0), ('../data/image\\\\afolder\\\\happy\\\\3G64DoD00YQdXZz5BMNcMfXgeZ4uBK431.jpg', 0), ('../data/image\\\\afolder\\\\happy\\\\3IghK4UAmOKUtiWYcHGrjZL6see2M094.jpg', 0), ('../data/image\\\\afolder\\\\happy\\\\3JAR7WDW9Enm8oZzBXZZaNoDqbOurA588.jpg', 0), ('../data/image\\\\afolder\\\\happy\\\\3UDm39yJJ5hnt947CUEAhkLVOE1skm801.jpg', 0), ('../data/image\\\\afolder\\\\happy\\\\3g2aTvQ5CCdQjTx6EQhZS9hf6Wai87941.jpg', 0), ('../data/image\\\\afolder\\\\happy\\\\3kjfQ3dDjZvjQYNVuheVcUgz6IRzTE704.jpg', 0), ('../data/image\\\\afolder\\\\happy\\\\3m1GrLuPiILiokp11Rbb7RlprXskYU983.jpg', 0), ('../data/image\\\\afolder\\\\happy\\\\3t9u0v6Bk551Sib6R75gxjoSHtSggk223.jpg', 0), ('../data/image\\\\afolder\\\\happy\\\\3uXyuIJKqPXiuuXfUPSvTc5INNTPOO370.jpg', 0), ('../data/image\\\\afolder\\\\happy\\\\3xk8U7bwmo6N8xe1TfqXxHV333CbC4457.jpg', 0), ('../data/image\\\\bfolder\\\\angry\\\\YOl3FW5SRUiKGNQx6javZP4CoPowCv853.jpg', 1), ('../data/image\\\\bfolder\\\\angry\\\\YVaRwhhILO63p4TmfwXUqgpPU3kiCy560.jpg', 1), ('../data/image\\\\bfolder\\\\angry\\\\Ypr5JzbA1KpqkjBoHBybspkAhkPTKr960.jpg', 1), ('../data/image\\\\bfolder\\\\angry\\\\YrUAM48nyzq9fazPWAvkMvaf4Wo0CR945.jpg', 1), ('../data/image\\\\bfolder\\\\angry\\\\YtPh35V62VIVEtGjycJvjfYsqSoF1d741.jpg', 1), ('../data/image\\\\bfolder\\\\angry\\\\Z1LvV6pZShKUjgtpuTqjPpQixzJWXi148.jpg', 1), ('../data/image\\\\bfolder\\\\angry\\\\Z3yigxcnioiiHwErVHm4WmULbHg1vZ445.jpg', 1), ('../data/image\\\\bfolder\\\\angry\\\\ZiaoMZ8e6EA5Yq8PceZNXl895NAP3z48.jpg', 1), ('../data/image\\\\bfolder\\\\angry\\\\Zp93ND3JJY6pPgBrl2yW49bVi3krW374.jpg', 1), ('../data/image\\\\bfolder\\\\angry\\\\ZpYp8GWZpA2gCsgrAiRhWHJkRkh4zr162.jpg', 1), ('../data/image\\\\bfolder\\\\angry\\\\ZqPbtvmypGwrZeNv7RVGX994r17dQV303.jpg', 1), ('../data/image\\\\bfolder\\\\angry\\\\yLVpgPD9klsyWE6W9vGrf2MjHaykjV859.jpg', 1), ('../data/image\\\\bfolder\\\\angry\\\\yRbmSaJ8HfAQx9mQDdUr9lFjjHqdik312.jpg', 1), ('../data/image\\\\bfolder\\\\angry\\\\yRcom7uaLXI2FP5k0YzQ8xdjGFuSiX670.jpg', 1), ('../data/image\\\\bfolder\\\\angry\\\\yTB3SAzCfmEykiMRH5T8U9N3EfX0pv661.jpg', 1), ('../data/image\\\\bfolder\\\\angry\\\\yTMpnB19f7J5ss9usqxqm0fFO0Z6WL376.jpg', 1), ('../data/image\\\\bfolder\\\\angry\\\\yn26ana7CTsQhHYMNgTaaNF3wkAf5n907.jpg', 1), ('../data/image\\\\bfolder\\\\angry\\\\yuJ9WdC5NYLZxaJ7L5Y4vkc3ntZhbA178.jpg', 1), ('../data/image\\\\bfolder\\\\angry\\\\yuPffBsyoaRI9GfdxktQteyDCGd09h333.jpg', 1), ('../data/image\\\\bfolder\\\\angry\\\\yymIKCWkoPs4nSX0NWZPbHVFU6No6e598.jpg', 1), ('../data/image\\\\bfolder\\\\angry\\\\z7GGcy9hbOuFG3lBoiDFhUyCoEqOfn916.jpg', 1), ('../data/image\\\\bfolder\\\\angry\\\\z8xwVFJXv78M9thwq99tAsI8FOvZl0108.jpg', 1), ('../data/image\\\\bfolder\\\\angry\\\\zEym9zDFMJrdSJlNhDiWqHwP1EpiUd12.jpg', 1), ('../data/image\\\\bfolder\\\\angry\\\\zGZDewph699wNh5YGzypBdI9sMRpVw452.jpg', 1), ('../data/image\\\\bfolder\\\\angry\\\\zH4dvR3Rgbw8OKJ79w6TD4nvGMvuHA765.jpg', 1), ('../data/image\\\\bfolder\\\\angry\\\\zoCBMornppQTwDFe02eyWuqhZPpkmA555.jpg', 1), ('../data/image\\\\bfolder\\\\happy\\\\YG1izTs8Y5OuTa4ORgwbiffqCdOhKP701.jpg', 1), ('../data/image\\\\bfolder\\\\happy\\\\YKo0TstSdJ6gDn8ZXzAFFeI8zphX2E651.jpg', 1), ('../data/image\\\\bfolder\\\\happy\\\\YS9dQx8Zz71jV3w6RmmrgMWQEBf17K47.jpg', 1), ('../data/image\\\\bfolder\\\\happy\\\\YUYyF8sJ8DOjVFcEtcevj3MQuHCiBN951.jpg', 1), ('../data/image\\\\bfolder\\\\happy\\\\YXxSPBesAN0NlzLJqEhmaFzrIzuXZ6772.jpg', 1), ('../data/image\\\\bfolder\\\\happy\\\\YZcrxN327oo685MbuzmghpoWXMpZrn820.jpg', 1), ('../data/image\\\\bfolder\\\\happy\\\\YZnkP927iYhczC5aHofUMxhwIVcvRW414.jpg', 1), ('../data/image\\\\bfolder\\\\happy\\\\Yg3WXXW3PSKxawkooLzrgse55sCxqJ19.jpg', 1), ('../data/image\\\\bfolder\\\\happy\\\\Yl5X3RY3Xa4TH5YrOXAu8akTepM3Cr634.jpg', 1), ('../data/image\\\\bfolder\\\\happy\\\\YyBd9mc15T44hhEE5KmevY2oB2Akxb864.jpg', 1), ('../data/image\\\\bfolder\\\\happy\\\\YzfHtTXWH952qzh9q2EbchzbsI2MEl999.jpg', 1), ('../data/image\\\\bfolder\\\\happy\\\\Z6vwfyCe7fqBOhiVAKv5oJ1tk8TTE7639.jpg', 1), ('../data/image\\\\bfolder\\\\happy\\\\Z8f3R8yrlVUqLBCsNPZVQwu5YlO6GW603.jpg', 1), ('../data/image\\\\bfolder\\\\happy\\\\Z9NbJjRRvZx9pD4Aew9XdWS9GO26Ev802.jpg', 1), ('../data/image\\\\bfolder\\\\happy\\\\Z9whFQFv8yjXkVXSPkFCXo1VRIRA77432.jpg', 1), ('../data/image\\\\bfolder\\\\happy\\\\ZbVnSwCPrrozpcbfkiDEYuAILWpmTS734.jpg', 1), ('../data/image\\\\bfolder\\\\happy\\\\ZbZ4Wu1XajaFaZmARmrrs6FdyLvuhu343.jpg', 1), ('../data/image\\\\bfolder\\\\happy\\\\ZdV4Px0YVVbLfBAov4VfFPwA65bRfq300.jpg', 1), ('../data/image\\\\bfolder\\\\happy\\\\yGrZJYX6Gphnb3DvELrXcCTkzO0mKP840.jpg', 1), ('../data/image\\\\bfolder\\\\happy\\\\yIqALIKxdpU7ly8LWZ5iIYRyPqqAtr648.jpg', 1), ('../data/image\\\\bfolder\\\\happy\\\\yL8XhkVwZBqJ4shKyds99X6FEPsHKI159.jpg', 1), ('../data/image\\\\bfolder\\\\happy\\\\yMF1ARBibLS8eVdAH7nyk4YOEWOwmk152.jpg', 1), ('../data/image\\\\bfolder\\\\happy\\\\yPa9Cu8apBnykl0xqSW0YedU037CwI363.jpg', 1), ('../data/image\\\\bfolder\\\\happy\\\\yQrTS6ChFdORB7i5Xsnx9L73Sv8fWS996.jpg', 1), ('../data/image\\\\bfolder\\\\happy\\\\yZ1Yxop4dZxyUb1eH8KoAdWgt2TFpV647.jpg', 1), ('../data/image\\\\bfolder\\\\happy\\\\ygv6N4weRVMf6UKoSeekgHi245ATn5928.jpg', 1), ('../data/image\\\\bfolder\\\\happy\\\\yhHCe4oyXs8QdaIJK1Jcr2IHugv6Gq487.jpg', 1), ('../data/image\\\\bfolder\\\\happy\\\\yiLuykjzojf67vYUdthnxLmEZh2bSK641.jpg', 1), ('../data/image\\\\bfolder\\\\happy\\\\ylxNfZPKF077QaGLNndByfr4NJIpII814.jpg', 1), ('../data/image\\\\bfolder\\\\happy\\\\yooGjgFRSonAnlkPsRYXBLVuUO0Mtv29.jpg', 1), ('../data/image\\\\bfolder\\\\happy\\\\ypP2xTc1AeyhdLlGCgls8Ds4k4L7EA318.jpg', 1), ('../data/image\\\\bfolder\\\\happy\\\\ysAbRcUdE4D4YZASHsnJBv7uIKUkzS539.jpg', 1), ('../data/image\\\\bfolder\\\\happy\\\\yzzpy6G6gUJ4pVlc0uMfIsjaUGxyl2908.jpg', 1), ('../data/image\\\\bfolder\\\\happy\\\\zBQcFuv5Rb88RchOFTXvR4gN91tAyC406.jpg', 1), ('../data/image\\\\bfolder\\\\happy\\\\zBff0H3zGhd69hVBYhHQuB76Ke256P30.jpg', 1), ('../data/image\\\\bfolder\\\\happy\\\\zCcd606aIqoBap82j2cmN5tLxdkwV6543.jpg', 1)]\n"
     ]
    }
   ],
   "source": [
    "### 데이터 정보\n",
    "img_dir = '../data/image'\n",
    "\n",
    "# Resnet 전처리 \n",
    "# resize+size = [256] interpolation = InterpolationMode.BILINEAR\n",
    "# central crop of crop_size = [224]\n",
    "# first rescaled to [0.0, 1.0] and then\n",
    "# nomalized using mean = [0.485, 0.456, 0.406] and std = [0.229, 0.224, 0.225]\n",
    "preprocessing = transforms.Compose([\n",
    "    transforms.Resize(256, interpolation=transforms.InterpolationMode.BILINEAR),\n",
    "    transforms.CenterCrop(224),\n",
    "    transforms.ToTensor(),\n",
    "    transforms.Normalize((0.485, 0.456, 0.406), (0.229, 0.224, 0.225))\n",
    "])\n",
    "\n",
    "# 이미지 데이터셋 생성\n",
    "imgDS = ImageFolder(root=img_dir, transform = preprocessing)\n",
    "\n",
    "print(imgDS.classes, imgDS.targets, imgDS.imgs, sep='\\n')"
   ]
  },
  {
   "cell_type": "code",
   "execution_count": 7,
   "metadata": {},
   "outputs": [
    {
     "name": "stdout",
     "output_type": "stream",
     "text": [
      "torch.Size([3, 3, 224, 224]) tensor([1, 0, 1])\n",
      "torch.Size([3, 3, 224, 224]) tensor([1, 0, 1])\n",
      "torch.Size([3, 3, 224, 224]) tensor([1, 1, 1])\n",
      "torch.Size([3, 3, 224, 224]) tensor([1, 0, 0])\n",
      "torch.Size([3, 3, 224, 224]) tensor([0, 0, 0])\n",
      "torch.Size([3, 3, 224, 224]) tensor([1, 0, 0])\n",
      "torch.Size([3, 3, 224, 224]) tensor([0, 0, 0])\n",
      "torch.Size([3, 3, 224, 224]) tensor([0, 0, 1])\n",
      "torch.Size([3, 3, 224, 224]) tensor([0, 0, 1])\n",
      "torch.Size([3, 3, 224, 224]) tensor([0, 0, 0])\n",
      "torch.Size([3, 3, 224, 224]) tensor([0, 0, 1])\n",
      "torch.Size([3, 3, 224, 224]) tensor([0, 0, 1])\n",
      "torch.Size([3, 3, 224, 224]) tensor([1, 0, 0])\n",
      "torch.Size([3, 3, 224, 224]) tensor([1, 1, 0])\n",
      "torch.Size([3, 3, 224, 224]) tensor([0, 0, 0])\n",
      "torch.Size([3, 3, 224, 224]) tensor([0, 0, 1])\n",
      "torch.Size([3, 3, 224, 224]) tensor([0, 0, 1])\n",
      "torch.Size([3, 3, 224, 224]) tensor([0, 0, 1])\n",
      "torch.Size([3, 3, 224, 224]) tensor([0, 0, 0])\n",
      "torch.Size([3, 3, 224, 224]) tensor([1, 0, 0])\n",
      "torch.Size([3, 3, 224, 224]) tensor([1, 1, 0])\n",
      "torch.Size([3, 3, 224, 224]) tensor([0, 0, 0])\n",
      "torch.Size([3, 3, 224, 224]) tensor([0, 1, 0])\n",
      "torch.Size([3, 3, 224, 224]) tensor([0, 0, 0])\n",
      "torch.Size([3, 3, 224, 224]) tensor([1, 1, 0])\n",
      "torch.Size([3, 3, 224, 224]) tensor([1, 0, 0])\n",
      "torch.Size([3, 3, 224, 224]) tensor([1, 0, 0])\n",
      "torch.Size([3, 3, 224, 224]) tensor([0, 0, 0])\n",
      "torch.Size([3, 3, 224, 224]) tensor([1, 1, 0])\n",
      "torch.Size([3, 3, 224, 224]) tensor([0, 1, 1])\n",
      "torch.Size([3, 3, 224, 224]) tensor([0, 1, 0])\n",
      "torch.Size([3, 3, 224, 224]) tensor([1, 0, 1])\n",
      "torch.Size([3, 3, 224, 224]) tensor([0, 1, 1])\n",
      "torch.Size([3, 3, 224, 224]) tensor([1, 0, 0])\n",
      "torch.Size([3, 3, 224, 224]) tensor([1, 1, 0])\n",
      "torch.Size([3, 3, 224, 224]) tensor([0, 1, 0])\n",
      "torch.Size([3, 3, 224, 224]) tensor([0, 1, 1])\n",
      "torch.Size([3, 3, 224, 224]) tensor([0, 0, 1])\n",
      "torch.Size([3, 3, 224, 224]) tensor([1, 1, 1])\n",
      "torch.Size([3, 3, 224, 224]) tensor([1, 0, 1])\n",
      "torch.Size([3, 3, 224, 224]) tensor([1, 0, 0])\n",
      "torch.Size([3, 3, 224, 224]) tensor([0, 0, 1])\n",
      "torch.Size([3, 3, 224, 224]) tensor([1, 0, 0])\n",
      "torch.Size([3, 3, 224, 224]) tensor([1, 1, 0])\n",
      "torch.Size([3, 3, 224, 224]) tensor([0, 0, 0])\n",
      "torch.Size([3, 3, 224, 224]) tensor([1, 1, 1])\n",
      "torch.Size([3, 3, 224, 224]) tensor([0, 0, 1])\n",
      "torch.Size([3, 3, 224, 224]) tensor([0, 0, 0])\n",
      "torch.Size([3, 3, 224, 224]) tensor([0, 0, 0])\n",
      "torch.Size([3, 3, 224, 224]) tensor([0, 1, 0])\n",
      "torch.Size([3, 3, 224, 224]) tensor([0, 1, 0])\n",
      "torch.Size([3, 3, 224, 224]) tensor([0, 0, 0])\n",
      "torch.Size([3, 3, 224, 224]) tensor([0, 1, 1])\n",
      "torch.Size([3, 3, 224, 224]) tensor([1, 0, 0])\n"
     ]
    }
   ],
   "source": [
    "# 데이터 로더 생성\n",
    "imgDL = DataLoader(imgDS, batch_size=3, shuffle = True, drop_last=True)\n",
    "for (img, label) in imgDL :\n",
    "    print(img.shape, label)"
   ]
  },
  {
   "cell_type": "code",
   "execution_count": 9,
   "metadata": {},
   "outputs": [
    {
     "name": "stderr",
     "output_type": "stream",
     "text": [
      "Downloading: \"https://download.pytorch.org/models/resnet18-f37072fd.pth\" to C:\\Users\\KDP-48/.cache\\torch\\hub\\checkpoints\\resnet18-f37072fd.pth\n",
      "100.0%\n"
     ]
    }
   ],
   "source": [
    "# 모델 설계 및 설정\n",
    "\n",
    "# 사전 학습된 모델 인스턴스 생성\n",
    "res_model = resnet18(weights=ResNet18_Weights.DEFAULT)\n",
    "\n",
    "# 전결합층 변경\n",
    "# in_features : FeatureMap에서 받은 피처 수, Out_features : 출력/분류 클래스 수\n",
    "res_model.fc=nn.Linear(in_features=512, out_features=3)"
   ]
  },
  {
   "cell_type": "code",
   "execution_count": 10,
   "metadata": {},
   "outputs": [
    {
     "data": {
      "text/plain": [
       "==========================================================================================\n",
       "Layer (type:depth-idx)                   Output Shape              Param #\n",
       "==========================================================================================\n",
       "ResNet                                   [3, 3]                    --\n",
       "├─Conv2d: 1-1                            [3, 64, 112, 112]         9,408\n",
       "├─BatchNorm2d: 1-2                       [3, 64, 112, 112]         128\n",
       "├─ReLU: 1-3                              [3, 64, 112, 112]         --\n",
       "├─MaxPool2d: 1-4                         [3, 64, 56, 56]           --\n",
       "├─Sequential: 1-5                        [3, 64, 56, 56]           --\n",
       "│    └─BasicBlock: 2-1                   [3, 64, 56, 56]           --\n",
       "│    │    └─Conv2d: 3-1                  [3, 64, 56, 56]           36,864\n",
       "│    │    └─BatchNorm2d: 3-2             [3, 64, 56, 56]           128\n",
       "│    │    └─ReLU: 3-3                    [3, 64, 56, 56]           --\n",
       "│    │    └─Conv2d: 3-4                  [3, 64, 56, 56]           36,864\n",
       "│    │    └─BatchNorm2d: 3-5             [3, 64, 56, 56]           128\n",
       "│    │    └─ReLU: 3-6                    [3, 64, 56, 56]           --\n",
       "│    └─BasicBlock: 2-2                   [3, 64, 56, 56]           --\n",
       "│    │    └─Conv2d: 3-7                  [3, 64, 56, 56]           36,864\n",
       "│    │    └─BatchNorm2d: 3-8             [3, 64, 56, 56]           128\n",
       "│    │    └─ReLU: 3-9                    [3, 64, 56, 56]           --\n",
       "│    │    └─Conv2d: 3-10                 [3, 64, 56, 56]           36,864\n",
       "│    │    └─BatchNorm2d: 3-11            [3, 64, 56, 56]           128\n",
       "│    │    └─ReLU: 3-12                   [3, 64, 56, 56]           --\n",
       "├─Sequential: 1-6                        [3, 128, 28, 28]          --\n",
       "│    └─BasicBlock: 2-3                   [3, 128, 28, 28]          --\n",
       "│    │    └─Conv2d: 3-13                 [3, 128, 28, 28]          73,728\n",
       "│    │    └─BatchNorm2d: 3-14            [3, 128, 28, 28]          256\n",
       "│    │    └─ReLU: 3-15                   [3, 128, 28, 28]          --\n",
       "│    │    └─Conv2d: 3-16                 [3, 128, 28, 28]          147,456\n",
       "│    │    └─BatchNorm2d: 3-17            [3, 128, 28, 28]          256\n",
       "│    │    └─Sequential: 3-18             [3, 128, 28, 28]          8,448\n",
       "│    │    └─ReLU: 3-19                   [3, 128, 28, 28]          --\n",
       "│    └─BasicBlock: 2-4                   [3, 128, 28, 28]          --\n",
       "│    │    └─Conv2d: 3-20                 [3, 128, 28, 28]          147,456\n",
       "│    │    └─BatchNorm2d: 3-21            [3, 128, 28, 28]          256\n",
       "│    │    └─ReLU: 3-22                   [3, 128, 28, 28]          --\n",
       "│    │    └─Conv2d: 3-23                 [3, 128, 28, 28]          147,456\n",
       "│    │    └─BatchNorm2d: 3-24            [3, 128, 28, 28]          256\n",
       "│    │    └─ReLU: 3-25                   [3, 128, 28, 28]          --\n",
       "├─Sequential: 1-7                        [3, 256, 14, 14]          --\n",
       "│    └─BasicBlock: 2-5                   [3, 256, 14, 14]          --\n",
       "│    │    └─Conv2d: 3-26                 [3, 256, 14, 14]          294,912\n",
       "│    │    └─BatchNorm2d: 3-27            [3, 256, 14, 14]          512\n",
       "│    │    └─ReLU: 3-28                   [3, 256, 14, 14]          --\n",
       "│    │    └─Conv2d: 3-29                 [3, 256, 14, 14]          589,824\n",
       "│    │    └─BatchNorm2d: 3-30            [3, 256, 14, 14]          512\n",
       "│    │    └─Sequential: 3-31             [3, 256, 14, 14]          33,280\n",
       "│    │    └─ReLU: 3-32                   [3, 256, 14, 14]          --\n",
       "│    └─BasicBlock: 2-6                   [3, 256, 14, 14]          --\n",
       "│    │    └─Conv2d: 3-33                 [3, 256, 14, 14]          589,824\n",
       "│    │    └─BatchNorm2d: 3-34            [3, 256, 14, 14]          512\n",
       "│    │    └─ReLU: 3-35                   [3, 256, 14, 14]          --\n",
       "│    │    └─Conv2d: 3-36                 [3, 256, 14, 14]          589,824\n",
       "│    │    └─BatchNorm2d: 3-37            [3, 256, 14, 14]          512\n",
       "│    │    └─ReLU: 3-38                   [3, 256, 14, 14]          --\n",
       "├─Sequential: 1-8                        [3, 512, 7, 7]            --\n",
       "│    └─BasicBlock: 2-7                   [3, 512, 7, 7]            --\n",
       "│    │    └─Conv2d: 3-39                 [3, 512, 7, 7]            1,179,648\n",
       "│    │    └─BatchNorm2d: 3-40            [3, 512, 7, 7]            1,024\n",
       "│    │    └─ReLU: 3-41                   [3, 512, 7, 7]            --\n",
       "│    │    └─Conv2d: 3-42                 [3, 512, 7, 7]            2,359,296\n",
       "│    │    └─BatchNorm2d: 3-43            [3, 512, 7, 7]            1,024\n",
       "│    │    └─Sequential: 3-44             [3, 512, 7, 7]            132,096\n",
       "│    │    └─ReLU: 3-45                   [3, 512, 7, 7]            --\n",
       "│    └─BasicBlock: 2-8                   [3, 512, 7, 7]            --\n",
       "│    │    └─Conv2d: 3-46                 [3, 512, 7, 7]            2,359,296\n",
       "│    │    └─BatchNorm2d: 3-47            [3, 512, 7, 7]            1,024\n",
       "│    │    └─ReLU: 3-48                   [3, 512, 7, 7]            --\n",
       "│    │    └─Conv2d: 3-49                 [3, 512, 7, 7]            2,359,296\n",
       "│    │    └─BatchNorm2d: 3-50            [3, 512, 7, 7]            1,024\n",
       "│    │    └─ReLU: 3-51                   [3, 512, 7, 7]            --\n",
       "├─AdaptiveAvgPool2d: 1-9                 [3, 512, 1, 1]            --\n",
       "├─Linear: 1-10                           [3, 3]                    1,539\n",
       "==========================================================================================\n",
       "Total params: 11,178,051\n",
       "Trainable params: 11,178,051\n",
       "Non-trainable params: 0\n",
       "Total mult-adds (G): 5.44\n",
       "==========================================================================================\n",
       "Input size (MB): 1.81\n",
       "Forward/backward pass size (MB): 119.22\n",
       "Params size (MB): 44.71\n",
       "Estimated Total Size (MB): 165.74\n",
       "=========================================================================================="
      ]
     },
     "execution_count": 10,
     "metadata": {},
     "output_type": "execute_result"
    }
   ],
   "source": [
    "summary(res_model, (3, 3, 224, 224))"
   ]
  },
  {
   "cell_type": "code",
   "execution_count": 19,
   "metadata": {},
   "outputs": [
    {
     "name": "stdout",
     "output_type": "stream",
     "text": [
      "conv1.weight False             ====>  False\n",
      "bn1.weight False             ====>  False\n",
      "bn1.bias False             ====>  False\n",
      "layer1.0.conv1.weight False             ====>  False\n",
      "layer1.0.bn1.weight False             ====>  False\n",
      "layer1.0.bn1.bias False             ====>  False\n",
      "layer1.0.conv2.weight False             ====>  False\n",
      "layer1.0.bn2.weight False             ====>  False\n",
      "layer1.0.bn2.bias False             ====>  False\n",
      "layer1.1.conv1.weight False             ====>  False\n",
      "layer1.1.bn1.weight False             ====>  False\n",
      "layer1.1.bn1.bias False             ====>  False\n",
      "layer1.1.conv2.weight False             ====>  False\n",
      "layer1.1.bn2.weight False             ====>  False\n",
      "layer1.1.bn2.bias False             ====>  False\n",
      "layer2.0.conv1.weight False             ====>  False\n",
      "layer2.0.bn1.weight False             ====>  False\n",
      "layer2.0.bn1.bias False             ====>  False\n",
      "layer2.0.conv2.weight False             ====>  False\n",
      "layer2.0.bn2.weight False             ====>  False\n",
      "layer2.0.bn2.bias False             ====>  False\n",
      "layer2.0.downsample.0.weight False             ====>  False\n",
      "layer2.0.downsample.1.weight False             ====>  False\n",
      "layer2.0.downsample.1.bias False             ====>  False\n",
      "layer2.1.conv1.weight False             ====>  False\n",
      "layer2.1.bn1.weight False             ====>  False\n",
      "layer2.1.bn1.bias False             ====>  False\n",
      "layer2.1.conv2.weight False             ====>  False\n",
      "layer2.1.bn2.weight False             ====>  False\n",
      "layer2.1.bn2.bias False             ====>  False\n",
      "layer3.0.conv1.weight False             ====>  False\n",
      "layer3.0.bn1.weight False             ====>  False\n",
      "layer3.0.bn1.bias False             ====>  False\n",
      "layer3.0.conv2.weight False             ====>  False\n",
      "layer3.0.bn2.weight False             ====>  False\n",
      "layer3.0.bn2.bias False             ====>  False\n",
      "layer3.0.downsample.0.weight False             ====>  False\n",
      "layer3.0.downsample.1.weight False             ====>  False\n",
      "layer3.0.downsample.1.bias False             ====>  False\n",
      "layer3.1.conv1.weight False             ====>  False\n",
      "layer3.1.bn1.weight False             ====>  False\n",
      "layer3.1.bn1.bias False             ====>  False\n",
      "layer3.1.conv2.weight False             ====>  False\n",
      "layer3.1.bn2.weight False             ====>  False\n",
      "layer3.1.bn2.bias False             ====>  False\n",
      "layer4.0.conv1.weight False             ====>  False\n",
      "layer4.0.bn1.weight False             ====>  False\n",
      "layer4.0.bn1.bias False             ====>  False\n",
      "layer4.0.conv2.weight False             ====>  False\n",
      "layer4.0.bn2.weight False             ====>  False\n",
      "layer4.0.bn2.bias False             ====>  False\n",
      "layer4.0.downsample.0.weight False             ====>  False\n",
      "layer4.0.downsample.1.weight False             ====>  False\n",
      "layer4.0.downsample.1.bias False             ====>  False\n",
      "layer4.1.conv1.weight False             ====>  False\n",
      "layer4.1.bn1.weight False             ====>  False\n",
      "layer4.1.bn1.bias False             ====>  False\n",
      "layer4.1.conv2.weight False             ====>  False\n",
      "layer4.1.bn2.weight False             ====>  False\n",
      "layer4.1.bn2.bias False             ====>  False\n",
      "fc.weight True             ====>  False\n",
      "fc.bias True             ====>  False\n",
      "weight False          ====>  True\n",
      "bias False          ====>  True\n"
     ]
    }
   ],
   "source": [
    "## ResNet18 Feature Module 파라미터 requires_grad = True ==> False 비활성화\n",
    "for name, param in res_model.named_parameters() :\n",
    "    print(name, param.requires_grad, end='             ====>  ')\n",
    "    param.requires_grad = False\n",
    "    print(param.requires_grad)\n",
    "\n",
    "# ResNet18 Full Connected Module 파라미터 requires_grad = False ===> True 활성화\n",
    "for name, param in res_model.fc.named_parameters():\n",
    "    print(name, param.requires_grad, end=\"          ====>  \")\n",
    "    param.requires_grad= True\n",
    "    print(param.requires_grad)\n"
   ]
  },
  {
   "cell_type": "code",
   "execution_count": 15,
   "metadata": {},
   "outputs": [],
   "source": [
    "# 학습 준비\n",
    "optimizer = optim.Adam(res_model.fc.parameters())\n",
    "loss_fn = nn.CrossEntropyLoss()                     # 손실함수 정의\n",
    "EPOCHS = 3"
   ]
  },
  {
   "cell_type": "code",
   "execution_count": 22,
   "metadata": {},
   "outputs": [],
   "source": [
    "# 모델 설계 및 설정\n",
    "\n",
    "# 사전 학습된 모델 인스턴스 생성\n",
    "res_model = resnet18(weights=ResNet18_Weights.DEFAULT)\n",
    "\n",
    "# 전결합층 변경\n",
    "### in_features : FeatureMap에서 받은 피처 수, out_features : 출력/ 분류 클래스 수\n",
    "res_model.fc = nn.Linear(in_features = 512, out_features=3)"
   ]
  },
  {
   "cell_type": "code",
   "execution_count": null,
   "metadata": {},
   "outputs": [],
   "source": []
  }
 ],
 "metadata": {
  "kernelspec": {
   "display_name": "Torch_py38",
   "language": "python",
   "name": "python3"
  },
  "language_info": {
   "codemirror_mode": {
    "name": "ipython",
    "version": 3
   },
   "file_extension": ".py",
   "mimetype": "text/x-python",
   "name": "python",
   "nbconvert_exporter": "python",
   "pygments_lexer": "ipython3",
   "version": "3.8.12"
  }
 },
 "nbformat": 4,
 "nbformat_minor": 2
}
