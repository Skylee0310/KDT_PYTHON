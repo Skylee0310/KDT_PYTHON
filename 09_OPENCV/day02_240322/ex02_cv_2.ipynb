{
 "cells": [
  {
   "cell_type": "code",
   "execution_count": 3,
   "metadata": {},
   "outputs": [],
   "source": [
    "import cv2"
   ]
  },
  {
   "cell_type": "code",
   "execution_count": 57,
   "metadata": {},
   "outputs": [],
   "source": [
    "# 이미지 파일 및 정면 얼굴 인식 모델 경로\n",
    "frontalface_model = '../data/haarcascades/haarcascade_frontalface_alt.xml'\n",
    "#frontalface_model = '../data/haarcascades/haarcascade_smile.xml'\n",
    "img_file ='../data/image/xuguanghan.jpg'\n",
    "#img_file = '../data/image/KDT.jpg'\n",
    "#img_file='../data/image/angry.jpg'"
   ]
  },
  {
   "cell_type": "code",
   "execution_count": 58,
   "metadata": {},
   "outputs": [],
   "source": [
    "# 정면얼굴 인식 모델 로딩\n",
    "face_detector = cv2.CascadeClassifier(frontalface_model)"
   ]
  },
  {
   "cell_type": "code",
   "execution_count": 59,
   "metadata": {},
   "outputs": [
    {
     "name": "stdout",
     "output_type": "stream",
     "text": [
      "**face_detections RESULT\n",
      "[[181  89 242 242]]\n"
     ]
    }
   ],
   "source": [
    "# 이미지 데이터 로딩\n",
    "imgNP = cv2.imread(img_file)\n",
    "\n",
    "# 이미지에서 정면 얼굴 인식 ==> [결과] 인식된 얼굴 수 만큼 위치정보(x,y,w,h) 반환\n",
    "face_detections = face_detector.detectMultiScale(imgNP) # detect(imgNP, scaleFactor = 1.5, minNeighbor=10)\n",
    "print(f'**face_detections RESULT\\n{face_detections}')\n"
   ]
  },
  {
   "cell_type": "code",
   "execution_count": 60,
   "metadata": {},
   "outputs": [],
   "source": [
    "# 인식된 정면 얼굴 ROI 표시\n",
    "for (x,y,w,h) in face_detections:\n",
    "    cv2.rectangle(imgNP, (x,y), (x+w, y+h), (0,255,0), 2)\n",
    "\n",
    "# 화면 출력\n",
    "cv2.imshow('[M]', imgNP)\n",
    "\n",
    "# 키 입력 및 X 버튼에 따른 창 닫기\n",
    "if cv2.waitKey() or cv2.getWindowProperty('image', cv2.WND_PROP_VISIBLE)<1 :\n",
    "    cv2.destroyAllWindows()"
   ]
  },
  {
   "cell_type": "code",
   "execution_count": null,
   "metadata": {},
   "outputs": [],
   "source": [
    "# import cv2\n",
    "# frontalface_model = '../data/haarcascades/haarcascade_eye.xml'\n",
    "# avi_file = './big_buck.avi'\n",
    "# face_detector = cv2.CascadeClassifier(frontalface_model)\n",
    "\n",
    "# #cap = cv2.VideoCapture(avi_file)\n",
    "# cap = cv2.VideoCapture(0) # 카메라 키기 \n",
    "# while True:\n",
    "#     ret, frame = cap.read()\n",
    "#     if ret:\n",
    "#         cv2.imshow('frame', frame)\n",
    "#         face_detections = face_detector.detectMultiScale(frame) # detectMultiScale(frame, scaleFactor=1.5, minNeighbors=5)\n",
    "#         for (x, y, w, h) in face_detections:\n",
    "#             cv2.rectangle(frame, (x, y), (x + w, y + h), (0, 255, 0), 2)\n",
    "#         cv2.imshow('frame', frame)\n",
    "#         cv2.waitKey(40)\n",
    "#     else:\n",
    "#         break\n",
    "    \n",
    "# cap.release()\n",
    "# cv2.destroyAllWindows()\n"
   ]
  },
  {
   "cell_type": "code",
   "execution_count": 61,
   "metadata": {},
   "outputs": [],
   "source": [
    "# 1. 영상용\n",
    "\n",
    "# frontalface_model = '../data/haarcascades/haarcascade_frontalface_alt.xml'\n",
    "# video_file = '../data/video/1234.mp4'\n",
    "\n",
    "# face_detector = cv2.CascadeClassifier(frontalface_model)\n",
    "# camera = cv2.VideoCapture(video_file)\n",
    "\n",
    "# if not camera.isOpened():\n",
    "#     print(\"비디오 파일을 열 수 없습니다.\")\n",
    "#     exit()\n",
    "\n",
    "# while True:\n",
    "#     # 비디오 프레임 읽기\n",
    "#     ret, frame = camera.read()\n",
    "\n",
    "#     if not ret:\n",
    "#         print(\"비디오 프레임을 읽을 수 없습니다.\")\n",
    "#         break\n",
    "\n",
    "#     # 얼굴 검출\n",
    "#     face_detections = face_detector.detectMultiScale(frame)\n",
    "\n",
    "#     # 검출된 얼굴에 사각형 그리기\n",
    "#     for (x, y, w, h) in face_detections:\n",
    "#         cv2.rectangle(frame, (x, y), (x+w, y+h), (0, 255, 0), 2)\n",
    "\n",
    "#     # 프레임 화면에 표시\n",
    "#     cv2.imshow('Face Detection', frame) \n",
    "\n",
    "#     # 'q' 키를 누르면 종료\n",
    "#     if cv2.waitKey(1) & 0xFF == ord('q'):\n",
    "#         break\n",
    "\n",
    "# # 리소스 해제\n",
    "# camera.release()\n",
    "# cv2.destroyAllWindows()\n",
    "\n",
    "\n",
    "# 2. cctv 웹캠용\n",
    "\n",
    "# import cv2\n",
    "# import time\n",
    "# import sys\n",
    "# import numpy as np\n",
    "\n",
    "# frontalface_model = '../data/haarcascades/haarcascade_frontalface_alt.xml'\n",
    "# video_file = '../data/video/1234.mp4'\n",
    "\n",
    "# face_detector = cv2.CascadeClassifier(frontalface_model)\n",
    "# camera = cv2.VideoCapture(0)\n",
    "\n",
    "# if not camera.isOpened():\n",
    "#     print(\"비디오 파일을 열 수 없습니다.\")\n",
    "#     exit()\n",
    "\n",
    "# while True:\n",
    "#     # 비디오 프레임 읽기\n",
    "#     ret, frame = camera.read()\n",
    "\n",
    "#     if not ret:\n",
    "#         print(\"비디오 프레임을 읽을 수 없습니다.\")\n",
    "#         break\n",
    "\n",
    "#     # 얼굴 검출\n",
    "#     face_detections = face_detector.detectMultiScale(frame)\n",
    "    \n",
    "#     # 검출된 얼굴에 사각형 그리기\n",
    "#     for (x, y, w, h) in face_detections:\n",
    "#         cv2.rectangle(frame, (x, y), (x+w, y+h), (0, 255, 0), 2)\n",
    "\n",
    "#     # 프레임 화면에 표시\n",
    "#     cv2.imshow('Face Detection', frame) \n",
    "\n",
    "#     # 'q' 키를 누르면 종료\n",
    "#     if cv2.waitKey(1) & 0xFF == ord('q'):\n",
    "#         break\n",
    "\n",
    "# # 리소스 해제\n",
    "# camera.release()\n",
    "# cv2.destroyAllWindows()"
   ]
  },
  {
   "cell_type": "code",
   "execution_count": null,
   "metadata": {},
   "outputs": [],
   "source": []
  }
 ],
 "metadata": {
  "kernelspec": {
   "display_name": "Torch_py38",
   "language": "python",
   "name": "python3"
  },
  "language_info": {
   "codemirror_mode": {
    "name": "ipython",
    "version": 3
   },
   "file_extension": ".py",
   "mimetype": "text/x-python",
   "name": "python",
   "nbconvert_exporter": "python",
   "pygments_lexer": "ipython3",
   "version": "3.8.12"
  }
 },
 "nbformat": 4,
 "nbformat_minor": 2
}
