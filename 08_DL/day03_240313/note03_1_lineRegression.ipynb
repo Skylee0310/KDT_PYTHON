{
 "cells": [
  {
   "cell_type": "markdown",
   "metadata": {},
   "source": [
    "### [Pytorch기반 선형 회귀] <hr>"
   ]
  },
  {
   "cell_type": "markdown",
   "metadata": {},
   "source": [
    "-[1] 모듈 로딩 및 데이터 준비 <hr>"
   ]
  },
  {
   "cell_type": "code",
   "execution_count": 2,
   "metadata": {},
   "outputs": [],
   "source": [
    "# 모듈 로딩\n",
    "import torch                        # 파이토치 텐서 및 기본 함수들 관련 모듈    \n",
    "import torch.nn as nn               # 인공신경망 층 관련 모듈\n",
    "import torch.nn.functional as F     # 인공신경망 관련 함수들 모듈\n",
    "import torch.optim as optim         # 인공신경망 최적화 관련 모듈"
   ]
  },
  {
   "cell_type": "code",
   "execution_count": 3,
   "metadata": {},
   "outputs": [
    {
     "data": {
      "text/plain": [
       "<torch._C.Generator at 0x1f76e4d94b0>"
      ]
     },
     "execution_count": 3,
     "metadata": {},
     "output_type": "execute_result"
    }
   ],
   "source": [
    "# 랜덤 시드 설정\n",
    "torch.manual_seed(1)"
   ]
  },
  {
   "cell_type": "code",
   "execution_count": 5,
   "metadata": {},
   "outputs": [],
   "source": [
    "# 데이터 준비\n",
    "Xtrn = torch.FloatTensor([[1], [2], [3]]) # 3X1 실수형 텐서 데이터 생성\n",
    "ytrn = torch.FloatTensor([[2], [4], [6]]) # 3X1 실수형 텐서 데이터 생성"
   ]
  },
  {
   "cell_type": "code",
   "execution_count": 9,
   "metadata": {},
   "outputs": [
    {
     "name": "stdout",
     "output_type": "stream",
     "text": [
      "Xtrn : torch.Size([3, 1])\n",
      "차원 : 2D\n",
      "tensor([[1.],\n",
      "        [2.],\n",
      "        [3.]])\n",
      "\n",
      "ytrn : torch.Size([3, 1])\n",
      "차원 : 2D\n",
      "tensor([[2.],\n",
      "        [4.],\n",
      "        [6.]])\n"
     ]
    }
   ],
   "source": [
    "print(f'Xtrn : {Xtrn.shape}\\n차원 : {Xtrn.ndim}D\\n{Xtrn}\\n')\n",
    "print(f'ytrn : {ytrn.shape}\\n차원 : {ytrn.ndim}D\\n{ytrn}')"
   ]
  },
  {
   "cell_type": "markdown",
   "metadata": {},
   "source": [
    "[2] 학습 준비 <hr>"
   ]
  },
  {
   "cell_type": "code",
   "execution_count": 17,
   "metadata": {},
   "outputs": [],
   "source": [
    "# 가중치 및 절편 데이터 생성 및 초기화\n",
    "# - 가중치 w                 : 0으로 초기화하고 학습을 통해 값이 변경되는 변수를 명시.\n",
    "# - requires_grad = True    : 기울기(gradient)를 계산할 수 있도록 설정\n",
    "# torch.zeros(텐서 원소 개수)"
   ]
  },
  {
   "cell_type": "code",
   "execution_count": 14,
   "metadata": {},
   "outputs": [
    {
     "name": "stdout",
     "output_type": "stream",
     "text": [
      "W : tensor([0.], requires_grad=True), b : tensor([0.], requires_grad=True)\n"
     ]
    }
   ],
   "source": [
    "W = torch.zeros(1, requires_grad=True) # 가중치\n",
    "b = torch.zeros(1, requires_grad=True) # 편향\n",
    "print(f'W : {W}, b : {b}')"
   ]
  },
  {
   "cell_type": "code",
   "execution_count": 15,
   "metadata": {},
   "outputs": [],
   "source": [
    "# 경사하강법 설정 : W, b 업데이트\n",
    "# W,b 변수, 학습률지정\n",
    "# 확률적 경사 하강법(Stochastic Gradient Descent, SGD)을 사용하여 모델의 파라미터를 최적화하는 옵티마이저를 생성\n",
    "optimizer = optim.SGD([W, b], lr=0.01) "
   ]
  },
  {
   "cell_type": "markdown",
   "metadata": {},
   "source": [
    "[3] 학습 진행 <hr>"
   ]
  },
  {
   "cell_type": "code",
   "execution_count": 20,
   "metadata": {},
   "outputs": [
    {
     "name": "stdout",
     "output_type": "stream",
     "text": [
      "수식을 w로 미분한 값 : tensor([-0.0613])\n",
      "업데이트 된 W : tensor([-0.0613]), b : tensor([0.1389])\n",
      "Epoch    0/100 W: 1.746, b: 0.577 Cost: 0.047939\n",
      "수식을 w로 미분한 값 : tensor([-0.0611])\n",
      "업데이트 된 W : tensor([-0.0611]), b : tensor([0.1386])\n",
      "수식을 w로 미분한 값 : tensor([-0.0609])\n",
      "업데이트 된 W : tensor([-0.0609]), b : tensor([0.1383])\n",
      "수식을 w로 미분한 값 : tensor([-0.0608])\n",
      "업데이트 된 W : tensor([-0.0608]), b : tensor([0.1379])\n",
      "수식을 w로 미분한 값 : tensor([-0.0606])\n",
      "업데이트 된 W : tensor([-0.0606]), b : tensor([0.1376])\n",
      "수식을 w로 미분한 값 : tensor([-0.0605])\n",
      "업데이트 된 W : tensor([-0.0605]), b : tensor([0.1373])\n",
      "수식을 w로 미분한 값 : tensor([-0.0603])\n",
      "업데이트 된 W : tensor([-0.0603]), b : tensor([0.1369])\n",
      "수식을 w로 미분한 값 : tensor([-0.0602])\n",
      "업데이트 된 W : tensor([-0.0602]), b : tensor([0.1366])\n",
      "수식을 w로 미분한 값 : tensor([-0.0600])\n",
      "업데이트 된 W : tensor([-0.0600]), b : tensor([0.1363])\n",
      "수식을 w로 미분한 값 : tensor([-0.0599])\n",
      "업데이트 된 W : tensor([-0.0599]), b : tensor([0.1360])\n",
      "수식을 w로 미분한 값 : tensor([-0.0597])\n",
      "업데이트 된 W : tensor([-0.0597]), b : tensor([0.1356])\n",
      "수식을 w로 미분한 값 : tensor([-0.0596])\n",
      "업데이트 된 W : tensor([-0.0596]), b : tensor([0.1353])\n",
      "수식을 w로 미분한 값 : tensor([-0.0594])\n",
      "업데이트 된 W : tensor([-0.0594]), b : tensor([0.1350])\n",
      "수식을 w로 미분한 값 : tensor([-0.0593])\n",
      "업데이트 된 W : tensor([-0.0593]), b : tensor([0.1347])\n",
      "수식을 w로 미분한 값 : tensor([-0.0591])\n",
      "업데이트 된 W : tensor([-0.0591]), b : tensor([0.1344])\n",
      "수식을 w로 미분한 값 : tensor([-0.0590])\n",
      "업데이트 된 W : tensor([-0.0590]), b : tensor([0.1340])\n",
      "수식을 w로 미분한 값 : tensor([-0.0588])\n",
      "업데이트 된 W : tensor([-0.0588]), b : tensor([0.1337])\n",
      "수식을 w로 미분한 값 : tensor([-0.0587])\n",
      "업데이트 된 W : tensor([-0.0587]), b : tensor([0.1334])\n",
      "수식을 w로 미분한 값 : tensor([-0.0586])\n",
      "업데이트 된 W : tensor([-0.0586]), b : tensor([0.1331])\n",
      "수식을 w로 미분한 값 : tensor([-0.0584])\n",
      "업데이트 된 W : tensor([-0.0584]), b : tensor([0.1327])\n",
      "수식을 w로 미분한 값 : tensor([-0.0583])\n",
      "업데이트 된 W : tensor([-0.0583]), b : tensor([0.1324])\n",
      "수식을 w로 미분한 값 : tensor([-0.0581])\n",
      "업데이트 된 W : tensor([-0.0581]), b : tensor([0.1321])\n",
      "수식을 w로 미분한 값 : tensor([-0.0580])\n",
      "업데이트 된 W : tensor([-0.0580]), b : tensor([0.1318])\n",
      "수식을 w로 미분한 값 : tensor([-0.0578])\n",
      "업데이트 된 W : tensor([-0.0578]), b : tensor([0.1315])\n",
      "수식을 w로 미분한 값 : tensor([-0.0577])\n",
      "업데이트 된 W : tensor([-0.0577]), b : tensor([0.1312])\n",
      "수식을 w로 미분한 값 : tensor([-0.0576])\n",
      "업데이트 된 W : tensor([-0.0576]), b : tensor([0.1308])\n",
      "수식을 w로 미분한 값 : tensor([-0.0574])\n",
      "업데이트 된 W : tensor([-0.0574]), b : tensor([0.1305])\n",
      "수식을 w로 미분한 값 : tensor([-0.0573])\n",
      "업데이트 된 W : tensor([-0.0573]), b : tensor([0.1302])\n",
      "수식을 w로 미분한 값 : tensor([-0.0572])\n",
      "업데이트 된 W : tensor([-0.0572]), b : tensor([0.1299])\n",
      "수식을 w로 미분한 값 : tensor([-0.0570])\n",
      "업데이트 된 W : tensor([-0.0570]), b : tensor([0.1296])\n",
      "수식을 w로 미분한 값 : tensor([-0.0569])\n",
      "업데이트 된 W : tensor([-0.0569]), b : tensor([0.1293])\n",
      "수식을 w로 미분한 값 : tensor([-0.0567])\n",
      "업데이트 된 W : tensor([-0.0567]), b : tensor([0.1290])\n",
      "수식을 w로 미분한 값 : tensor([-0.0566])\n",
      "업데이트 된 W : tensor([-0.0566]), b : tensor([0.1287])\n",
      "수식을 w로 미분한 값 : tensor([-0.0565])\n",
      "업데이트 된 W : tensor([-0.0565]), b : tensor([0.1284])\n",
      "수식을 w로 미분한 값 : tensor([-0.0563])\n",
      "업데이트 된 W : tensor([-0.0563]), b : tensor([0.1280])\n",
      "수식을 w로 미분한 값 : tensor([-0.0562])\n",
      "업데이트 된 W : tensor([-0.0562]), b : tensor([0.1277])\n",
      "수식을 w로 미분한 값 : tensor([-0.0561])\n",
      "업데이트 된 W : tensor([-0.0561]), b : tensor([0.1274])\n",
      "수식을 w로 미분한 값 : tensor([-0.0559])\n",
      "업데이트 된 W : tensor([-0.0559]), b : tensor([0.1271])\n",
      "수식을 w로 미분한 값 : tensor([-0.0558])\n",
      "업데이트 된 W : tensor([-0.0558]), b : tensor([0.1268])\n",
      "수식을 w로 미분한 값 : tensor([-0.0557])\n",
      "업데이트 된 W : tensor([-0.0557]), b : tensor([0.1265])\n",
      "수식을 w로 미분한 값 : tensor([-0.0555])\n",
      "업데이트 된 W : tensor([-0.0555]), b : tensor([0.1262])\n",
      "수식을 w로 미분한 값 : tensor([-0.0554])\n",
      "업데이트 된 W : tensor([-0.0554]), b : tensor([0.1259])\n",
      "수식을 w로 미분한 값 : tensor([-0.0553])\n",
      "업데이트 된 W : tensor([-0.0553]), b : tensor([0.1256])\n",
      "수식을 w로 미분한 값 : tensor([-0.0551])\n",
      "업데이트 된 W : tensor([-0.0551]), b : tensor([0.1253])\n",
      "수식을 w로 미분한 값 : tensor([-0.0550])\n",
      "업데이트 된 W : tensor([-0.0550]), b : tensor([0.1250])\n",
      "수식을 w로 미분한 값 : tensor([-0.0549])\n",
      "업데이트 된 W : tensor([-0.0549]), b : tensor([0.1247])\n",
      "수식을 w로 미분한 값 : tensor([-0.0547])\n",
      "업데이트 된 W : tensor([-0.0547]), b : tensor([0.1244])\n",
      "수식을 w로 미분한 값 : tensor([-0.0546])\n",
      "업데이트 된 W : tensor([-0.0546]), b : tensor([0.1241])\n",
      "수식을 w로 미분한 값 : tensor([-0.0545])\n",
      "업데이트 된 W : tensor([-0.0545]), b : tensor([0.1238])\n",
      "수식을 w로 미분한 값 : tensor([-0.0543])\n",
      "업데이트 된 W : tensor([-0.0543]), b : tensor([0.1235])\n",
      "수식을 w로 미분한 값 : tensor([-0.0542])\n",
      "업데이트 된 W : tensor([-0.0542]), b : tensor([0.1232])\n",
      "수식을 w로 미분한 값 : tensor([-0.0541])\n",
      "업데이트 된 W : tensor([-0.0541]), b : tensor([0.1229])\n",
      "수식을 w로 미분한 값 : tensor([-0.0539])\n",
      "업데이트 된 W : tensor([-0.0539]), b : tensor([0.1226])\n",
      "수식을 w로 미분한 값 : tensor([-0.0538])\n",
      "업데이트 된 W : tensor([-0.0538]), b : tensor([0.1223])\n",
      "수식을 w로 미분한 값 : tensor([-0.0537])\n",
      "업데이트 된 W : tensor([-0.0537]), b : tensor([0.1220])\n",
      "수식을 w로 미분한 값 : tensor([-0.0536])\n",
      "업데이트 된 W : tensor([-0.0536]), b : tensor([0.1217])\n",
      "수식을 w로 미분한 값 : tensor([-0.0534])\n",
      "업데이트 된 W : tensor([-0.0534]), b : tensor([0.1214])\n",
      "수식을 w로 미분한 값 : tensor([-0.0533])\n",
      "업데이트 된 W : tensor([-0.0533]), b : tensor([0.1212])\n",
      "수식을 w로 미분한 값 : tensor([-0.0532])\n",
      "업데이트 된 W : tensor([-0.0532]), b : tensor([0.1209])\n",
      "수식을 w로 미분한 값 : tensor([-0.0530])\n",
      "업데이트 된 W : tensor([-0.0530]), b : tensor([0.1206])\n",
      "수식을 w로 미분한 값 : tensor([-0.0529])\n",
      "업데이트 된 W : tensor([-0.0529]), b : tensor([0.1203])\n",
      "수식을 w로 미분한 값 : tensor([-0.0528])\n",
      "업데이트 된 W : tensor([-0.0528]), b : tensor([0.1200])\n",
      "수식을 w로 미분한 값 : tensor([-0.0527])\n",
      "업데이트 된 W : tensor([-0.0527]), b : tensor([0.1197])\n",
      "수식을 w로 미분한 값 : tensor([-0.0525])\n",
      "업데이트 된 W : tensor([-0.0525]), b : tensor([0.1194])\n",
      "수식을 w로 미분한 값 : tensor([-0.0524])\n",
      "업데이트 된 W : tensor([-0.0524]), b : tensor([0.1191])\n",
      "수식을 w로 미분한 값 : tensor([-0.0523])\n",
      "업데이트 된 W : tensor([-0.0523]), b : tensor([0.1188])\n",
      "수식을 w로 미분한 값 : tensor([-0.0522])\n",
      "업데이트 된 W : tensor([-0.0522]), b : tensor([0.1186])\n",
      "수식을 w로 미분한 값 : tensor([-0.0520])\n",
      "업데이트 된 W : tensor([-0.0520]), b : tensor([0.1183])\n",
      "수식을 w로 미분한 값 : tensor([-0.0519])\n",
      "업데이트 된 W : tensor([-0.0519]), b : tensor([0.1180])\n",
      "수식을 w로 미분한 값 : tensor([-0.0518])\n",
      "업데이트 된 W : tensor([-0.0518]), b : tensor([0.1177])\n",
      "수식을 w로 미분한 값 : tensor([-0.0517])\n",
      "업데이트 된 W : tensor([-0.0517]), b : tensor([0.1174])\n",
      "수식을 w로 미분한 값 : tensor([-0.0515])\n",
      "업데이트 된 W : tensor([-0.0515]), b : tensor([0.1171])\n",
      "수식을 w로 미분한 값 : tensor([-0.0514])\n",
      "업데이트 된 W : tensor([-0.0514]), b : tensor([0.1169])\n",
      "수식을 w로 미분한 값 : tensor([-0.0513])\n",
      "업데이트 된 W : tensor([-0.0513]), b : tensor([0.1166])\n",
      "수식을 w로 미분한 값 : tensor([-0.0512])\n",
      "업데이트 된 W : tensor([-0.0512]), b : tensor([0.1163])\n",
      "수식을 w로 미분한 값 : tensor([-0.0510])\n",
      "업데이트 된 W : tensor([-0.0510]), b : tensor([0.1160])\n",
      "수식을 w로 미분한 값 : tensor([-0.0509])\n",
      "업데이트 된 W : tensor([-0.0509]), b : tensor([0.1157])\n",
      "수식을 w로 미분한 값 : tensor([-0.0508])\n",
      "업데이트 된 W : tensor([-0.0508]), b : tensor([0.1155])\n",
      "수식을 w로 미분한 값 : tensor([-0.0507])\n",
      "업데이트 된 W : tensor([-0.0507]), b : tensor([0.1152])\n",
      "수식을 w로 미분한 값 : tensor([-0.0505])\n",
      "업데이트 된 W : tensor([-0.0505]), b : tensor([0.1149])\n",
      "수식을 w로 미분한 값 : tensor([-0.0504])\n",
      "업데이트 된 W : tensor([-0.0504]), b : tensor([0.1146])\n",
      "수식을 w로 미분한 값 : tensor([-0.0503])\n",
      "업데이트 된 W : tensor([-0.0503]), b : tensor([0.1144])\n",
      "수식을 w로 미분한 값 : tensor([-0.0502])\n",
      "업데이트 된 W : tensor([-0.0502]), b : tensor([0.1141])\n",
      "수식을 w로 미분한 값 : tensor([-0.0501])\n",
      "업데이트 된 W : tensor([-0.0501]), b : tensor([0.1138])\n",
      "수식을 w로 미분한 값 : tensor([-0.0499])\n",
      "업데이트 된 W : tensor([-0.0499]), b : tensor([0.1135])\n",
      "수식을 w로 미분한 값 : tensor([-0.0498])\n",
      "업데이트 된 W : tensor([-0.0498]), b : tensor([0.1133])\n",
      "수식을 w로 미분한 값 : tensor([-0.0497])\n",
      "업데이트 된 W : tensor([-0.0497]), b : tensor([0.1130])\n",
      "수식을 w로 미분한 값 : tensor([-0.0496])\n",
      "업데이트 된 W : tensor([-0.0496]), b : tensor([0.1127])\n",
      "수식을 w로 미분한 값 : tensor([-0.0495])\n",
      "업데이트 된 W : tensor([-0.0495]), b : tensor([0.1124])\n",
      "수식을 w로 미분한 값 : tensor([-0.0493])\n",
      "업데이트 된 W : tensor([-0.0493]), b : tensor([0.1122])\n",
      "수식을 w로 미분한 값 : tensor([-0.0492])\n",
      "업데이트 된 W : tensor([-0.0492]), b : tensor([0.1119])\n",
      "수식을 w로 미분한 값 : tensor([-0.0491])\n",
      "업데이트 된 W : tensor([-0.0491]), b : tensor([0.1116])\n",
      "수식을 w로 미분한 값 : tensor([-0.0490])\n",
      "업데이트 된 W : tensor([-0.0490]), b : tensor([0.1114])\n",
      "수식을 w로 미분한 값 : tensor([-0.0489])\n",
      "업데이트 된 W : tensor([-0.0489]), b : tensor([0.1111])\n",
      "수식을 w로 미분한 값 : tensor([-0.0488])\n",
      "업데이트 된 W : tensor([-0.0488]), b : tensor([0.1108])\n",
      "수식을 w로 미분한 값 : tensor([-0.0486])\n",
      "업데이트 된 W : tensor([-0.0486]), b : tensor([0.1106])\n",
      "수식을 w로 미분한 값 : tensor([-0.0485])\n",
      "업데이트 된 W : tensor([-0.0485]), b : tensor([0.1103])\n",
      "수식을 w로 미분한 값 : tensor([-0.0484])\n",
      "업데이트 된 W : tensor([-0.0484]), b : tensor([0.1100])\n",
      "수식을 w로 미분한 값 : tensor([-0.0483])\n",
      "업데이트 된 W : tensor([-0.0483]), b : tensor([0.1098])\n",
      "수식을 w로 미분한 값 : tensor([-0.0482])\n",
      "업데이트 된 W : tensor([-0.0482]), b : tensor([0.1095])\n",
      "수식을 w로 미분한 값 : tensor([-0.0481])\n",
      "업데이트 된 W : tensor([-0.0481]), b : tensor([0.1092])\n",
      "Epoch  100/100 W: 1.801, b: 0.453 Cost: 0.029624\n"
     ]
    }
   ],
   "source": [
    "# 학습 진행 \n",
    "# -> 에포크 : 처음부터 끝까지 학습.\n",
    "\n",
    "nb_epochs = 100                 # 100번 학습\n",
    "\n",
    "for epoch in range(nb_epochs + 1):\n",
    "    # 예측값 H(x) 계산 = Wx + b\n",
    "    pre_y = W * Xtrn +b\n",
    "\n",
    "    # cost(손실값) 계산 = 합((예측값 - 정답)**2)\n",
    "    # 평균 제곱 오차(Mean Squared Error, MSE)를 계산하는 코드\n",
    "    # => 모델의 성능을 평가하고, 이를 통해 모델의 학습을 조정할 수 있음.\n",
    "    cost = torch.mean((pre_y - ytrn) **2)\n",
    "\n",
    "    # cost로 예측값 H(x) 개선\n",
    "    optimizer.zero_grad()   # gradient 0으로 초기화\n",
    "    cost.backward() # 비용 함수 미분하여 gradient 계산\n",
    "    print(f'수식을 w로 미분한 값 : {W.grad}')\n",
    "\n",
    "    optimizer.step()        # step => W, b 업데이트\n",
    "    print(f'업데이트 된 W : {W.grad}, b : {b.grad}')\n",
    "    \n",
    "    # 100번마다 로그 출력\n",
    "    if epoch % 100 == 0:\n",
    "        print(f'Epoch {epoch:4d}/{nb_epochs} W: { W.item():.3f}, b: {b.item():.3f} Cost: {cost.item():.6f}')\n",
    "\n"
   ]
  },
  {
   "cell_type": "markdown",
   "metadata": {},
   "source": [
    "- [4] 학습 후 모델 파라미터 확인 <hr>"
   ]
  },
  {
   "cell_type": "code",
   "execution_count": 22,
   "metadata": {},
   "outputs": [
    {
     "data": {
      "text/plain": [
       "(1.8005797863006592, 0.45332908630371094)"
      ]
     },
     "execution_count": 22,
     "metadata": {},
     "output_type": "execute_result"
    }
   ],
   "source": [
    "# 학습 완료 후의 W, b 텐서 값 확인\n",
    "# W 그냥 W 출력하면 => tensor([1.8006], requires_grad=True)\n",
    "# 값만 출력하고 싶을 때는 .item()메서드 사용.\n",
    "W.item(), b.item()"
   ]
  },
  {
   "cell_type": "markdown",
   "metadata": {},
   "source": [
    "- [5] 예측 <hr>"
   ]
  },
  {
   "cell_type": "code",
   "execution_count": 23,
   "metadata": {},
   "outputs": [
    {
     "data": {
      "text/plain": [
       "5.855068206787109"
      ]
     },
     "execution_count": 23,
     "metadata": {},
     "output_type": "execute_result"
    }
   ],
   "source": [
    "### ===> x값 넣고 y값 확인\n",
    "pre_y = W*3+b\n",
    "pre_y.item()"
   ]
  },
  {
   "cell_type": "code",
   "execution_count": null,
   "metadata": {},
   "outputs": [],
   "source": []
  }
 ],
 "metadata": {
  "kernelspec": {
   "display_name": "Torch_py38",
   "language": "python",
   "name": "python3"
  },
  "language_info": {
   "codemirror_mode": {
    "name": "ipython",
    "version": 3
   },
   "file_extension": ".py",
   "mimetype": "text/x-python",
   "name": "python",
   "nbconvert_exporter": "python",
   "pygments_lexer": "ipython3",
   "version": "3.8.18"
  }
 },
 "nbformat": 4,
 "nbformat_minor": 2
}
