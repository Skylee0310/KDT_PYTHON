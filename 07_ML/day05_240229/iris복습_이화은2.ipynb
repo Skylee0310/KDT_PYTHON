{
 "cells": [
  {
   "cell_type": "markdown",
   "metadata": {},
   "source": [
    "### 붓꽃 분류 예측 모델 만들기\n",
    "- (1) 데이터 : iris.csv\n",
    "- (2) 타  겟 : variety\n",
    "- (3) 피  처 : petal, sepal...."
   ]
  },
  {
   "cell_type": "markdown",
   "metadata": {},
   "source": [
    "- 모듈 import \n",
    "- 데이터 불러오기\n",
    "- 데이터 전처리\n",
    "- (필요하다면 )상관관계 확인 (corr, 시각화) ==> 분류모델이기 때문에 target과 feature \n",
    "- (필요하다면) 스케일링\n",
    "- 훈련용 데이터 / 학습용 데이터 나누기\n",
    "- 학습\n",
    "- 성능평가"
   ]
  },
  {
   "cell_type": "code",
   "execution_count": 2,
   "metadata": {},
   "outputs": [],
   "source": [
    "import pandas as pd\n",
    "import numpy as np\n",
    "import matplotlib.pyplot as plt"
   ]
  },
  {
   "cell_type": "code",
   "execution_count": 3,
   "metadata": {},
   "outputs": [
    {
     "name": "stdout",
     "output_type": "stream",
     "text": [
      "<class 'pandas.core.frame.DataFrame'>\n",
      "RangeIndex: 150 entries, 0 to 149\n",
      "Data columns (total 5 columns):\n",
      " #   Column        Non-Null Count  Dtype  \n",
      "---  ------        --------------  -----  \n",
      " 0   sepal.length  150 non-null    float64\n",
      " 1   sepal.width   150 non-null    float64\n",
      " 2   petal.length  150 non-null    float64\n",
      " 3   petal.width   150 non-null    float64\n",
      " 4   variety       150 non-null    object \n",
      "dtypes: float64(4), object(1)\n",
      "memory usage: 6.0+ KB\n"
     ]
    }
   ],
   "source": [
    "file = '../data/iris.csv'\n",
    "irisDF = pd.read_csv(file)\n",
    "irisDF.info()"
   ]
  },
  {
   "cell_type": "code",
   "execution_count": 4,
   "metadata": {},
   "outputs": [
    {
     "data": {
      "text/plain": [
       "sepal.length    0\n",
       "sepal.width     0\n",
       "petal.length    0\n",
       "petal.width     0\n",
       "variety         0\n",
       "dtype: int64"
      ]
     },
     "execution_count": 4,
     "metadata": {},
     "output_type": "execute_result"
    }
   ],
   "source": [
    "# 결측치 확인 => 결측치 없음.\n",
    "irisDF.isna().sum()"
   ]
  },
  {
   "cell_type": "code",
   "execution_count": 5,
   "metadata": {},
   "outputs": [
    {
     "data": {
      "text/plain": [
       "0         Setosa\n",
       "1         Setosa\n",
       "2         Setosa\n",
       "3         Setosa\n",
       "4         Setosa\n",
       "         ...    \n",
       "145    Virginica\n",
       "146    Virginica\n",
       "147    Virginica\n",
       "148    Virginica\n",
       "149    Virginica\n",
       "Name: variety, Length: 150, dtype: object"
      ]
     },
     "execution_count": 5,
     "metadata": {},
     "output_type": "execute_result"
    }
   ],
   "source": [
    "irisDF['variety']"
   ]
  },
  {
   "cell_type": "code",
   "execution_count": 6,
   "metadata": {},
   "outputs": [
    {
     "data": {
      "text/plain": [
       "{'whiskers': [<matplotlib.lines.Line2D at 0x238aee0afd0>,\n",
       "  <matplotlib.lines.Line2D at 0x238aee2b2b0>,\n",
       "  <matplotlib.lines.Line2D at 0x238aee382e0>,\n",
       "  <matplotlib.lines.Line2D at 0x238aee38580>,\n",
       "  <matplotlib.lines.Line2D at 0x238aee46580>,\n",
       "  <matplotlib.lines.Line2D at 0x238aee46820>,\n",
       "  <matplotlib.lines.Line2D at 0x238aee53820>,\n",
       "  <matplotlib.lines.Line2D at 0x238aee53ac0>],\n",
       " 'caps': [<matplotlib.lines.Line2D at 0x238aee2b550>,\n",
       "  <matplotlib.lines.Line2D at 0x238aee2b7f0>,\n",
       "  <matplotlib.lines.Line2D at 0x238aee38820>,\n",
       "  <matplotlib.lines.Line2D at 0x238aee38ac0>,\n",
       "  <matplotlib.lines.Line2D at 0x238aee46ac0>,\n",
       "  <matplotlib.lines.Line2D at 0x238aee46d60>,\n",
       "  <matplotlib.lines.Line2D at 0x238aee53d60>,\n",
       "  <matplotlib.lines.Line2D at 0x238aee60040>],\n",
       " 'boxes': [<matplotlib.lines.Line2D at 0x238aee0ad30>,\n",
       "  <matplotlib.lines.Line2D at 0x238aee38040>,\n",
       "  <matplotlib.lines.Line2D at 0x238aee462e0>,\n",
       "  <matplotlib.lines.Line2D at 0x238aee53580>],\n",
       " 'medians': [<matplotlib.lines.Line2D at 0x238aee2ba90>,\n",
       "  <matplotlib.lines.Line2D at 0x238aee38d60>,\n",
       "  <matplotlib.lines.Line2D at 0x238aee53040>,\n",
       "  <matplotlib.lines.Line2D at 0x238aee602e0>],\n",
       " 'fliers': [<matplotlib.lines.Line2D at 0x238aee2bd30>,\n",
       "  <matplotlib.lines.Line2D at 0x238aee46040>,\n",
       "  <matplotlib.lines.Line2D at 0x238aee532e0>,\n",
       "  <matplotlib.lines.Line2D at 0x238aee60580>],\n",
       " 'means': []}"
      ]
     },
     "execution_count": 6,
     "metadata": {},
     "output_type": "execute_result"
    },
    {
     "data": {
      "image/png": "[encoded data removed]",
      "text/plain": [
       "<Figure size 640x480 with 1 Axes>"
      ]
     },
     "metadata": {},
     "output_type": "display_data"
    }
   ],
   "source": [
    "# boxplot을 통해 \n",
    "plt.boxplot(irisDF[irisDF.columns[:-1]])"
   ]
  },
  {
   "cell_type": "code",
   "execution_count": 7,
   "metadata": {},
   "outputs": [],
   "source": [
    "# 사분위 수를 활용한 이상치 제거\n",
    "def remove_outlier(df, col, n):\n",
    "    q1 = df[col].quantile(0.25)\n",
    "    q3 = df[col].quantile(0.75)\n",
    "\n",
    "    iqr = q3-q1\n",
    "\n",
    "    boundary = iqr*n\n",
    "\n",
    "    idx1 = df[df[col]>q3+boundary].index\n",
    "    idx2 = df[df[col]<q1-boundary].index\n",
    "\n",
    "    df = df.drop(idx1) # 최댓값보다 큰 이상치 drop\n",
    "    df = df.drop(idx2) # 최솟값보다 작은 이상치 drop\n",
    "    df = df.reset_index(drop=True)\n",
    "    return df"
   ]
  },
  {
   "cell_type": "code",
   "execution_count": 8,
   "metadata": {},
   "outputs": [
    {
     "data": {
      "text/html": [
       "<div>\n",
       "<style scoped>\n",
       "    .dataframe tbody tr th:only-of-type {\n",
       "        vertical-align: middle;\n",
       "    }\n",
       "\n",
       "    .dataframe tbody tr th {\n",
       "        vertical-align: top;\n",
       "    }\n",
       "\n",
       "    .dataframe thead th {\n",
       "        text-align: right;\n",
       "    }\n",
       "</style>\n",
       "<table border=\"1\" class=\"dataframe\">\n",
       "  <thead>\n",
       "    <tr style=\"text-align: right;\">\n",
       "      <th></th>\n",
       "      <th>sepal.length</th>\n",
       "      <th>sepal.width</th>\n",
       "      <th>petal.length</th>\n",
       "      <th>petal.width</th>\n",
       "      <th>variety</th>\n",
       "    </tr>\n",
       "  </thead>\n",
       "  <tbody>\n",
       "    <tr>\n",
       "      <th>0</th>\n",
       "      <td>5.1</td>\n",
       "      <td>3.5</td>\n",
       "      <td>1.4</td>\n",
       "      <td>0.2</td>\n",
       "      <td>Setosa</td>\n",
       "    </tr>\n",
       "    <tr>\n",
       "      <th>1</th>\n",
       "      <td>4.9</td>\n",
       "      <td>3.0</td>\n",
       "      <td>1.4</td>\n",
       "      <td>0.2</td>\n",
       "      <td>Setosa</td>\n",
       "    </tr>\n",
       "    <tr>\n",
       "      <th>2</th>\n",
       "      <td>4.7</td>\n",
       "      <td>3.2</td>\n",
       "      <td>1.3</td>\n",
       "      <td>0.2</td>\n",
       "      <td>Setosa</td>\n",
       "    </tr>\n",
       "    <tr>\n",
       "      <th>3</th>\n",
       "      <td>4.6</td>\n",
       "      <td>3.1</td>\n",
       "      <td>1.5</td>\n",
       "      <td>0.2</td>\n",
       "      <td>Setosa</td>\n",
       "    </tr>\n",
       "    <tr>\n",
       "      <th>4</th>\n",
       "      <td>5.0</td>\n",
       "      <td>3.6</td>\n",
       "      <td>1.4</td>\n",
       "      <td>0.2</td>\n",
       "      <td>Setosa</td>\n",
       "    </tr>\n",
       "    <tr>\n",
       "      <th>...</th>\n",
       "      <td>...</td>\n",
       "      <td>...</td>\n",
       "      <td>...</td>\n",
       "      <td>...</td>\n",
       "      <td>...</td>\n",
       "    </tr>\n",
       "    <tr>\n",
       "      <th>141</th>\n",
       "      <td>6.7</td>\n",
       "      <td>3.0</td>\n",
       "      <td>5.2</td>\n",
       "      <td>2.3</td>\n",
       "      <td>Virginica</td>\n",
       "    </tr>\n",
       "    <tr>\n",
       "      <th>142</th>\n",
       "      <td>6.3</td>\n",
       "      <td>2.5</td>\n",
       "      <td>5.0</td>\n",
       "      <td>1.9</td>\n",
       "      <td>Virginica</td>\n",
       "    </tr>\n",
       "    <tr>\n",
       "      <th>143</th>\n",
       "      <td>6.5</td>\n",
       "      <td>3.0</td>\n",
       "      <td>5.2</td>\n",
       "      <td>2.0</td>\n",
       "      <td>Virginica</td>\n",
       "    </tr>\n",
       "    <tr>\n",
       "      <th>144</th>\n",
       "      <td>6.2</td>\n",
       "      <td>3.4</td>\n",
       "      <td>5.4</td>\n",
       "      <td>2.3</td>\n",
       "      <td>Virginica</td>\n",
       "    </tr>\n",
       "    <tr>\n",
       "      <th>145</th>\n",
       "      <td>5.9</td>\n",
       "      <td>3.0</td>\n",
       "      <td>5.1</td>\n",
       "      <td>1.8</td>\n",
       "      <td>Virginica</td>\n",
       "    </tr>\n",
       "  </tbody>\n",
       "</table>\n",
       "<p>146 rows × 5 columns</p>\n",
       "</div>"
      ],
      "text/plain": [
       "     sepal.length  sepal.width  petal.length  petal.width    variety\n",
       "0             5.1          3.5           1.4          0.2     Setosa\n",
       "1             4.9          3.0           1.4          0.2     Setosa\n",
       "2             4.7          3.2           1.3          0.2     Setosa\n",
       "3             4.6          3.1           1.5          0.2     Setosa\n",
       "4             5.0          3.6           1.4          0.2     Setosa\n",
       "..            ...          ...           ...          ...        ...\n",
       "141           6.7          3.0           5.2          2.3  Virginica\n",
       "142           6.3          2.5           5.0          1.9  Virginica\n",
       "143           6.5          3.0           5.2          2.0  Virginica\n",
       "144           6.2          3.4           5.4          2.3  Virginica\n",
       "145           5.9          3.0           5.1          1.8  Virginica\n",
       "\n",
       "[146 rows x 5 columns]"
      ]
     },
     "execution_count": 8,
     "metadata": {},
     "output_type": "execute_result"
    }
   ],
   "source": [
    "irisDF = remove_outlier(irisDF, 'sepal.width', 1.5)\n",
    "irisDF"
   ]
  },
  {
   "cell_type": "code",
   "execution_count": 9,
   "metadata": {},
   "outputs": [
    {
     "data": {
      "text/plain": [
       "{'whiskers': [<matplotlib.lines.Line2D at 0x238aeea09a0>,\n",
       "  <matplotlib.lines.Line2D at 0x238aeea0c40>,\n",
       "  <matplotlib.lines.Line2D at 0x238aeeb0c70>,\n",
       "  <matplotlib.lines.Line2D at 0x238aeeb0f10>,\n",
       "  <matplotlib.lines.Line2D at 0x238aeebef10>,\n",
       "  <matplotlib.lines.Line2D at 0x238aeecb1f0>,\n",
       "  <matplotlib.lines.Line2D at 0x238aeeda1f0>,\n",
       "  <matplotlib.lines.Line2D at 0x238aeeda490>],\n",
       " 'caps': [<matplotlib.lines.Line2D at 0x238aeea0ee0>,\n",
       "  <matplotlib.lines.Line2D at 0x238aeeb01c0>,\n",
       "  <matplotlib.lines.Line2D at 0x238aeebe1f0>,\n",
       "  <matplotlib.lines.Line2D at 0x238aeebe490>,\n",
       "  <matplotlib.lines.Line2D at 0x238aeecb490>,\n",
       "  <matplotlib.lines.Line2D at 0x238aeecb730>,\n",
       "  <matplotlib.lines.Line2D at 0x238aeeda730>,\n",
       "  <matplotlib.lines.Line2D at 0x238aeeda9d0>],\n",
       " 'boxes': [<matplotlib.lines.Line2D at 0x238aeea0700>,\n",
       "  <matplotlib.lines.Line2D at 0x238aeeb09a0>,\n",
       "  <matplotlib.lines.Line2D at 0x238aeebec70>,\n",
       "  <matplotlib.lines.Line2D at 0x238aeecbf10>],\n",
       " 'medians': [<matplotlib.lines.Line2D at 0x238aeeb0460>,\n",
       "  <matplotlib.lines.Line2D at 0x238aeebe730>,\n",
       "  <matplotlib.lines.Line2D at 0x238aeecb9d0>,\n",
       "  <matplotlib.lines.Line2D at 0x238aeedac70>],\n",
       " 'fliers': [<matplotlib.lines.Line2D at 0x238aeeb0700>,\n",
       "  <matplotlib.lines.Line2D at 0x238aeebe9d0>,\n",
       "  <matplotlib.lines.Line2D at 0x238aeecbc70>,\n",
       "  <matplotlib.lines.Line2D at 0x238aeedaf10>],\n",
       " 'means': []}"
      ]
     },
     "execution_count": 9,
     "metadata": {},
     "output_type": "execute_result"
    },
    {
     "data": {
      "image/png": "[encoded data removed]",
      "text/plain": [
       "<Figure size 640x480 with 1 Axes>"
      ]
     },
     "metadata": {},
     "output_type": "display_data"
    }
   ],
   "source": [
    "plt.boxplot(irisDF[irisDF.columns[:-1]])"
   ]
  },
  {
   "cell_type": "code",
   "execution_count": 10,
   "metadata": {},
   "outputs": [
    {
     "data": {
      "text/plain": [
       "1"
      ]
     },
     "execution_count": 10,
     "metadata": {},
     "output_type": "execute_result"
    }
   ],
   "source": [
    "# 중복값 확인 => 1개 있음. \n",
    "irisDF.duplicated().sum()"
   ]
  },
  {
   "cell_type": "code",
   "execution_count": 11,
   "metadata": {},
   "outputs": [
    {
     "data": {
      "text/plain": [
       "variety\n",
       "Virginica     50\n",
       "Versicolor    49\n",
       "Setosa        47\n",
       "Name: count, dtype: int64"
      ]
     },
     "execution_count": 11,
     "metadata": {},
     "output_type": "execute_result"
    }
   ],
   "source": [
    "irisDF['variety'].value_counts() # 이상치가 삭제됨으로써 각 값의 비율이 달라짐."
   ]
  },
  {
   "cell_type": "code",
   "execution_count": 12,
   "metadata": {},
   "outputs": [],
   "source": [
    "irisDF = irisDF.replace({'Setosa':0, 'Versicolor':1, 'Virginica':2})\n",
    "#irisDF"
   ]
  },
  {
   "cell_type": "code",
   "execution_count": 13,
   "metadata": {},
   "outputs": [],
   "source": [
    "featureDF = irisDF[irisDF.columns[:-1]]\n",
    "targetDF = irisDF['variety']"
   ]
  },
  {
   "cell_type": "code",
   "execution_count": 14,
   "metadata": {},
   "outputs": [],
   "source": [
    "from sklearn.model_selection import train_test_split\n",
    "X_train, X_test, y_train, y_test = train_test_split(featureDF, targetDF, test_size=0.2, stratify=targetDF) # 이상치를 지우면서 50/49/47 됐으니까 비율 맞춰주기."
   ]
  },
  {
   "cell_type": "code",
   "execution_count": 15,
   "metadata": {},
   "outputs": [
    {
     "name": "stdout",
     "output_type": "stream",
     "text": [
      "X_train : (116, 4)\n",
      "     sepal.length  sepal.width  petal.length  petal.width\n",
      "6             4.6          3.4           1.4          0.3\n",
      "136           6.7          3.1           5.6          2.4\n",
      "\n",
      "y_train : (116,)\n",
      "6      0\n",
      "136    2\n",
      "Name: variety, dtype: int64\n",
      "\n",
      "X_test : (30, 4)\n",
      "    sepal.length  sepal.width  petal.length  petal.width\n",
      "32           5.0          3.2           1.2          0.2\n",
      "40           5.0          3.5           1.6          0.6\n",
      "\n",
      "y_test : (30,)\n",
      "32    0\n",
      "40    0\n",
      "Name: variety, dtype: int64\n"
     ]
    }
   ],
   "source": [
    "def print_shape(X_train, X_test, y_train, y_test) :\n",
    "    print(f\"X_train : {X_train.shape}\")\n",
    "    print(X_train.head(2))\n",
    "    print()\n",
    "    print(f\"y_train : {y_train.shape}\")\n",
    "    print(y_train.head(2))\n",
    "    print()\n",
    "    print(f\"X_test : {X_test.shape}\")\n",
    "    print(X_test.head(2))\n",
    "    print()\n",
    "    print(f\"y_test : {y_test.shape}\")\n",
    "    print(y_test.head(2))\n",
    "print_shape(X_train, X_test, y_train, y_test)"
   ]
  },
  {
   "cell_type": "code",
   "execution_count": 16,
   "metadata": {},
   "outputs": [
    {
     "data": {
      "text/plain": [
       "0.9666666666666667"
      ]
     },
     "execution_count": 16,
     "metadata": {},
     "output_type": "execute_result"
    }
   ],
   "source": [
    "from sklearn.neighbors import KNeighborsClassifier\n",
    "model = KNeighborsClassifier()\n",
    "model.fit(X_train, y_train)\n",
    "model.score(X_test, y_test)"
   ]
  },
  {
   "cell_type": "code",
   "execution_count": 17,
   "metadata": {},
   "outputs": [
    {
     "data": {
      "text/plain": [
       "0.9333333333333333"
      ]
     },
     "execution_count": 17,
     "metadata": {},
     "output_type": "execute_result"
    }
   ],
   "source": [
    "from sklearn.svm import SVC\n",
    "\n",
    "model2 = SVC()\n",
    "model2.fit(X_train, y_train)\n",
    "model2.score(X_test, y_test)"
   ]
  },
  {
   "cell_type": "code",
   "execution_count": 18,
   "metadata": {},
   "outputs": [
    {
     "data": {
      "text/plain": [
       "0.9666666666666667"
      ]
     },
     "execution_count": 18,
     "metadata": {},
     "output_type": "execute_result"
    }
   ],
   "source": [
    "from sklearn.linear_model import LogisticRegression\n",
    "\n",
    "model3 = LogisticRegression(max_iter=200)\n",
    "model3.fit(X_train, y_train)\n",
    "model3.score(X_test, y_test)"
   ]
  },
  {
   "cell_type": "code",
   "execution_count": 19,
   "metadata": {},
   "outputs": [
    {
     "name": "stdout",
     "output_type": "stream",
     "text": [
      "[0 0 1 0 1 1 0 0 1 0 1 1 2 2 1 2 0 1 2 1 1 2 2 2 1 2 2 0 0 0]\n",
      "\n",
      "[0 0 1 0 1 1 0 0 1 0 1 1 2 2 1 2 0 1 2 1 1 2 2 1 1 2 2 0 0 0]\n",
      "\n",
      "[0 0 1 0 1 1 0 0 1 0 1 1 2 2 1 2 0 1 2 1 1 2 2 2 1 2 2 0 0 0]\n"
     ]
    }
   ],
   "source": [
    "y_preK = model.predict(X_test)\n",
    "y_preS = model2.predict(X_test)\n",
    "y_preL = model3.predict(X_test)\n",
    "print(y_preK, y_preS, y_preL, sep='\\n\\n')"
   ]
  },
  {
   "cell_type": "code",
   "execution_count": 20,
   "metadata": {},
   "outputs": [
    {
     "name": "stdout",
     "output_type": "stream",
     "text": [
      "KNN r2_score = 0.95\n",
      "SVC r2_score = 0.9\n",
      "Log r2_score = 0.95\n",
      "\n",
      "KNN mean_squared_error= 0.03333333333333333\n",
      "SVC mean_squared_error= 0.06666666666666667\n",
      "Log mean_squared_error= 0.03333333333333333\n",
      "\n",
      "KNN mean_absolute_error= 0.03333333333333333\n",
      "SVC mean_absolute_error= 0.06666666666666667\n",
      "Log mean_absolute_error= 0.03333333333333333\n",
      "\n"
     ]
    }
   ],
   "source": [
    "from sklearn.metrics import mean_absolute_error, mean_squared_error, r2_score\n",
    "# 결정 계수의 값\n",
    "print('KNN r2_score =', r2_score(y_test, y_preK))\n",
    "print('SVC r2_score =', r2_score(y_test, y_preS))\n",
    "print('Log r2_score =', r2_score(y_test, y_preL))\n",
    "print()\n",
    "\n",
    "# 평균제곱오차 \n",
    "print('KNN mean_squared_error=', mean_squared_error(y_test, y_preK))\n",
    "print('SVC mean_squared_error=', mean_squared_error(y_test, y_preS))\n",
    "print('Log mean_squared_error=', mean_squared_error(y_test, y_preL))\n",
    "print()\n",
    "\n",
    "# 평균절댓값오차\n",
    "print('KNN mean_absolute_error=', mean_absolute_error(y_test, y_preK))\n",
    "print('SVC mean_absolute_error=', mean_absolute_error(y_test, y_preS))\n",
    "print('Log mean_absolute_error=', mean_absolute_error(y_test, y_preL))\n",
    "print()\n"
   ]
  },
  {
   "cell_type": "code",
   "execution_count": 21,
   "metadata": {},
   "outputs": [
    {
     "data": {
      "text/html": [
       "<div>\n",
       "<style scoped>\n",
       "    .dataframe tbody tr th:only-of-type {\n",
       "        vertical-align: middle;\n",
       "    }\n",
       "\n",
       "    .dataframe tbody tr th {\n",
       "        vertical-align: top;\n",
       "    }\n",
       "\n",
       "    .dataframe thead th {\n",
       "        text-align: right;\n",
       "    }\n",
       "</style>\n",
       "<table border=\"1\" class=\"dataframe\">\n",
       "  <thead>\n",
       "    <tr style=\"text-align: right;\">\n",
       "      <th></th>\n",
       "      <th>sepal.length</th>\n",
       "      <th>sepal.width</th>\n",
       "      <th>petal.length</th>\n",
       "      <th>petal.width</th>\n",
       "    </tr>\n",
       "  </thead>\n",
       "  <tbody>\n",
       "    <tr>\n",
       "      <th>0</th>\n",
       "      <td>7</td>\n",
       "      <td>5</td>\n",
       "      <td>10</td>\n",
       "      <td>13</td>\n",
       "    </tr>\n",
       "  </tbody>\n",
       "</table>\n",
       "</div>"
      ],
      "text/plain": [
       "   sepal.length  sepal.width  petal.length  petal.width\n",
       "0             7            5            10           13"
      ]
     },
     "execution_count": 21,
     "metadata": {},
     "output_type": "execute_result"
    }
   ],
   "source": [
    "new_data = pd.DataFrame({'sepal.length':7,\n",
    "                        'sepal.width': 5,\n",
    "                        'petal.length':10,\n",
    "                        'petal.width':13}, index=range(0,1))\n",
    "new_data"
   ]
  },
  {
   "cell_type": "code",
   "execution_count": 22,
   "metadata": {},
   "outputs": [
    {
     "data": {
      "text/plain": [
       "array([2], dtype=int64)"
      ]
     },
     "execution_count": 22,
     "metadata": {},
     "output_type": "execute_result"
    }
   ],
   "source": [
    "# 예측\n",
    "y_pre2 = model.predict(new_data)\n",
    "y_pre2"
   ]
  },
  {
   "cell_type": "code",
   "execution_count": 23,
   "metadata": {},
   "outputs": [
    {
     "data": {
      "text/plain": [
       "<matplotlib.collections.PathCollection at 0x238b1bd2610>"
      ]
     },
     "execution_count": 23,
     "metadata": {},
     "output_type": "execute_result"
    },
    {
     "data": {
      "image/png": "[encoded data removed]",
      "text/plain": [
       "<Figure size 640x480 with 1 Axes>"
      ]
     },
     "metadata": {},
     "output_type": "display_data"
    }
   ],
   "source": [
    "plt.scatter(featureDF['sepal.length'], featureDF['sepal.width'], c = targetDF)"
   ]
  },
  {
   "cell_type": "code",
   "execution_count": 24,
   "metadata": {},
   "outputs": [
    {
     "data": {
      "text/plain": [
       "0"
      ]
     },
     "execution_count": 24,
     "metadata": {},
     "output_type": "execute_result"
    }
   ],
   "source": [
    "trainScoreList = []\n",
    "testScoreList = []\n",
    "\n",
    "for k in range(1, 40) :\n",
    "    modelK = KNeighborsClassifier(n_neighbors=k)\n",
    "    modelK.fit(X_train, y_train)\n",
    "    trainScoreList.append(modelK.score(X_train, y_train))\n",
    "    testScoreList.append(modelK.score(X_test, y_test))\n",
    "trainScoreList.index(max(trainScoreList)) #0+1\n",
    "testScoreList.index(max(testScoreList)) #36+1"
   ]
  },
  {
   "cell_type": "code",
   "execution_count": 25,
   "metadata": {},
   "outputs": [
    {
     "name": "stdout",
     "output_type": "stream",
     "text": [
      "train score :  0.9482758620689655 \t test score : 0.9333333333333333\n"
     ]
    }
   ],
   "source": [
    "modelK = KNeighborsClassifier(n_neighbors = 37)\n",
    "modelK.fit(X_train, y_train)\n",
    "print('train score : ', modelK.score(X_train, y_train), '\\t', 'test score :', modelK.score(X_test, y_test))"
   ]
  },
  {
   "cell_type": "code",
   "execution_count": 27,
   "metadata": {},
   "outputs": [
    {
     "data": {
      "image/png": "[encoded data removed]",
      "text/plain": [
       "<Figure size 640x480 with 1 Axes>"
      ]
     },
     "metadata": {},
     "output_type": "display_data"
    }
   ],
   "source": [
    "# K 갯수에  따른 학습용/테스트용 점수 시각화\n",
    "plt.plot(trainScoreList, \"b--\", label = \"Train Score\")\n",
    "plt.plot(testScoreList, \"r-\", label = \"Test Score\")\n",
    "plt.title(\"K & Score\")\n",
    "plt.xlabel(\"K\")\n",
    "plt.ylabel(\"Score\")\n",
    "plt.legend()\n",
    "plt.show()"
   ]
  },
  {
   "cell_type": "code",
   "execution_count": null,
   "metadata": {},
   "outputs": [],
   "source": []
  }
 ],
 "metadata": {
  "kernelspec": {
   "display_name": "EXAM_ML",
   "language": "python",
   "name": "python3"
  },
  "language_info": {
   "codemirror_mode": {
    "name": "ipython",
    "version": 3
   },
   "file_extension": ".py",
   "mimetype": "text/x-python",
   "name": "python",
   "nbconvert_exporter": "python",
   "pygments_lexer": "ipython3",
   "version": "3.9.18"
  }
 },
 "nbformat": 4,
 "nbformat_minor": 2
}
