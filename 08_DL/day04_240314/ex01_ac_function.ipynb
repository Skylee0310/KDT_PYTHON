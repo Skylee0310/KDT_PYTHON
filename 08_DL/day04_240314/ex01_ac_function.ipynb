{
 "cells": [
  {
   "cell_type": "markdown",
   "metadata": {},
   "source": [
    "### Softmax(), sigmoid() 함수 <hr> \n",
    "- sigmoid() : y=wx+b 결과 1개 전달 받음 ===> 반환 : 0.0 ~ 1.0 사이 값으로 변환 => 이진분류\n",
    "- softmax() : y=wx+b 결과 n개 전달 받음 => 반환 : 여러 개의 결과 값의 합이 1.0이 되도록 변환 => 다중 분류 "
   ]
  },
  {
   "cell_type": "code",
   "execution_count": 2,
   "metadata": {},
   "outputs": [],
   "source": [
    "# 모듈 로딩\n",
    "import torch                    # 토치 기본 모듈. Tensor 및 기본 함수들.\n",
    "import torch.nn.functional as F # 파이토치 인공신경망 관련 함수들"
   ]
  },
  {
   "cell_type": "code",
   "execution_count": 3,
   "metadata": {},
   "outputs": [
    {
     "data": {
      "text/plain": [
       "torch.Size([5])"
      ]
     },
     "execution_count": 3,
     "metadata": {},
     "output_type": "execute_result"
    }
   ],
   "source": [
    "# 임의의 데이터 생성\n",
    "data1 = torch.tensor([1,2,1,1,2])\n",
    "data1.shape"
   ]
  },
  {
   "cell_type": "code",
   "execution_count": 4,
   "metadata": {},
   "outputs": [
    {
     "data": {
      "text/plain": [
       "tensor([0.7311, 0.8808, 0.7311, 0.7311, 0.8808])"
      ]
     },
     "execution_count": 4,
     "metadata": {},
     "output_type": "execute_result"
    }
   ],
   "source": [
    "F.sigmoid(data1) #자동계산 해줬는데 이게 뭔지 모르겠다."
   ]
  },
  {
   "cell_type": "markdown",
   "metadata": {},
   "source": [
    "- softmax()"
   ]
  },
  {
   "cell_type": "code",
   "execution_count": 5,
   "metadata": {},
   "outputs": [],
   "source": [
    "# softmax(\n",
    "#     input: Tensor,\n",
    "#     dim: int | None = ...,\n",
    "#     _stacklevel: int = ...,\n",
    "#     dtype: _dtype | None = ...\n",
    "# ) -> Tensor"
   ]
  },
  {
   "cell_type": "code",
   "execution_count": 6,
   "metadata": {},
   "outputs": [
    {
     "data": {
      "text/plain": [
       "(torch.Size([1, 5]), tensor([[1, 2, 1, 1, 2]]))"
      ]
     },
     "execution_count": 6,
     "metadata": {},
     "output_type": "execute_result"
    }
   ],
   "source": [
    "# 임의의 데이터\n",
    "data2 = data1.unsqueeze(dim=0) # 1행 5열\n",
    "data2.shape, data2"
   ]
  },
  {
   "cell_type": "code",
   "execution_count": 7,
   "metadata": {},
   "outputs": [
    {
     "data": {
      "text/plain": [
       "tensor([[ 0.5322, -0.1336,  1.5211],\n",
       "        [-0.5798, -1.0136, -0.8902]])"
      ]
     },
     "execution_count": 7,
     "metadata": {},
     "output_type": "execute_result"
    }
   ],
   "source": [
    "input = torch.randn(2,3)\n",
    "input"
   ]
  },
  {
   "cell_type": "code",
   "execution_count": 8,
   "metadata": {},
   "outputs": [
    {
     "name": "stderr",
     "output_type": "stream",
     "text": [
      "C:\\Users\\KDP-48\\AppData\\Local\\Temp\\ipykernel_9140\\3352805213.py:1: UserWarning: Implicit dimension choice for softmax has been deprecated. Change the call to include dim=X as an argument.\n",
      "  output = F.softmax(input)\n"
     ]
    },
    {
     "data": {
      "text/plain": [
       "tensor([[0.2380, 0.1223, 0.6397],\n",
       "        [0.4199, 0.2722, 0.3079]])"
      ]
     },
     "execution_count": 8,
     "metadata": {},
     "output_type": "execute_result"
    }
   ],
   "source": [
    "output = F.softmax(input)\n",
    "output"
   ]
  },
  {
   "cell_type": "code",
   "execution_count": 9,
   "metadata": {},
   "outputs": [
    {
     "data": {
      "text/plain": [
       "tensor([1.0000, 1.0000])"
      ]
     },
     "execution_count": 9,
     "metadata": {},
     "output_type": "execute_result"
    }
   ],
   "source": [
    "output.sum(dim=1) # 각 행의 합"
   ]
  },
  {
   "cell_type": "code",
   "execution_count": 10,
   "metadata": {},
   "outputs": [
    {
     "data": {
      "text/plain": [
       "2"
      ]
     },
     "execution_count": 10,
     "metadata": {},
     "output_type": "execute_result"
    }
   ],
   "source": [
    "output.max(dim=1)[1][0].item()"
   ]
  },
  {
   "cell_type": "code",
   "execution_count": 11,
   "metadata": {},
   "outputs": [
    {
     "data": {
      "text/plain": [
       "tensor([2, 0])"
      ]
     },
     "execution_count": 11,
     "metadata": {},
     "output_type": "execute_result"
    }
   ],
   "source": [
    "output.argmax(dim=1)"
   ]
  },
  {
   "cell_type": "markdown",
   "metadata": {},
   "source": [
    "[1] 모듈 로딩 및 데이터 준비 <hr>\n",
    "scikit-learn에서 데이터 다운 및 확인"
   ]
  },
  {
   "cell_type": "code",
   "execution_count": 12,
   "metadata": {},
   "outputs": [],
   "source": [
    "# 모듈 로딩\n",
    "from sklearn.datasets import fetch_openml\n",
    "import pandas as pd\n",
    "import numpy as np\n",
    "\n",
    "import torch\n",
    "import torch.nn as nn           # LinearRegression 기능의 클래스 linear\n",
    "import torch.nn.functional as F # 손실함수\n",
    "import torch.optim as optim     # 경사하강법 기반의 최적화 관련 모듈"
   ]
  },
  {
   "cell_type": "code",
   "execution_count": 13,
   "metadata": {},
   "outputs": [],
   "source": [
    "# 데이터 준비\n",
    "fashion_db = 'fashion-mnist'\n",
    "\n",
    "fashion_data = fetch_openml(name=fashion_db, parser='auto') #as_frame = False\n",
    "# type(fashion_data) => 분명 frame으로 들어온다셨는데 왜 저는 bunch로 들어올까요...?"
   ]
  },
  {
   "cell_type": "code",
   "execution_count": 14,
   "metadata": {},
   "outputs": [],
   "source": [
    "feature = fashion_data['data']\n",
    "target = fashion_data['target']"
   ]
  },
  {
   "cell_type": "code",
   "execution_count": 15,
   "metadata": {},
   "outputs": [
    {
     "name": "stdout",
     "output_type": "stream",
     "text": [
      "FEATURE => (70000, 784), 2D\n",
      "TARGET => (70000,), 1D\n"
     ]
    }
   ],
   "source": [
    "# 피처와 타겟 개수 확인\n",
    "print(f'FEATURE => {feature.shape}, {feature.ndim}D')\n",
    "print(f'TARGET => {target.shape}, {target.ndim}D')"
   ]
  },
  {
   "cell_type": "code",
   "execution_count": 16,
   "metadata": {},
   "outputs": [
    {
     "name": "stdout",
     "output_type": "stream",
     "text": [
      "FEATURE => ['pixel1', 'pixel2', 'pixel3', 'pixel4', 'pixel5', 'pixel6', 'pixel7', 'pixel8', 'pixel9', 'pixel10', 'pixel11', 'pixel12', 'pixel13', 'pixel14', 'pixel15', 'pixel16', 'pixel17', 'pixel18', 'pixel19', 'pixel20', 'pixel21', 'pixel22', 'pixel23', 'pixel24', 'pixel25', 'pixel26', 'pixel27', 'pixel28', 'pixel29', 'pixel30', 'pixel31', 'pixel32', 'pixel33', 'pixel34', 'pixel35', 'pixel36', 'pixel37', 'pixel38', 'pixel39', 'pixel40', 'pixel41', 'pixel42', 'pixel43', 'pixel44', 'pixel45', 'pixel46', 'pixel47', 'pixel48', 'pixel49', 'pixel50', 'pixel51', 'pixel52', 'pixel53', 'pixel54', 'pixel55', 'pixel56', 'pixel57', 'pixel58', 'pixel59', 'pixel60', 'pixel61', 'pixel62', 'pixel63', 'pixel64', 'pixel65', 'pixel66', 'pixel67', 'pixel68', 'pixel69', 'pixel70', 'pixel71', 'pixel72', 'pixel73', 'pixel74', 'pixel75', 'pixel76', 'pixel77', 'pixel78', 'pixel79', 'pixel80', 'pixel81', 'pixel82', 'pixel83', 'pixel84', 'pixel85', 'pixel86', 'pixel87', 'pixel88', 'pixel89', 'pixel90', 'pixel91', 'pixel92', 'pixel93', 'pixel94', 'pixel95', 'pixel96', 'pixel97', 'pixel98', 'pixel99', 'pixel100', 'pixel101', 'pixel102', 'pixel103', 'pixel104', 'pixel105', 'pixel106', 'pixel107', 'pixel108', 'pixel109', 'pixel110', 'pixel111', 'pixel112', 'pixel113', 'pixel114', 'pixel115', 'pixel116', 'pixel117', 'pixel118', 'pixel119', 'pixel120', 'pixel121', 'pixel122', 'pixel123', 'pixel124', 'pixel125', 'pixel126', 'pixel127', 'pixel128', 'pixel129', 'pixel130', 'pixel131', 'pixel132', 'pixel133', 'pixel134', 'pixel135', 'pixel136', 'pixel137', 'pixel138', 'pixel139', 'pixel140', 'pixel141', 'pixel142', 'pixel143', 'pixel144', 'pixel145', 'pixel146', 'pixel147', 'pixel148', 'pixel149', 'pixel150', 'pixel151', 'pixel152', 'pixel153', 'pixel154', 'pixel155', 'pixel156', 'pixel157', 'pixel158', 'pixel159', 'pixel160', 'pixel161', 'pixel162', 'pixel163', 'pixel164', 'pixel165', 'pixel166', 'pixel167', 'pixel168', 'pixel169', 'pixel170', 'pixel171', 'pixel172', 'pixel173', 'pixel174', 'pixel175', 'pixel176', 'pixel177', 'pixel178', 'pixel179', 'pixel180', 'pixel181', 'pixel182', 'pixel183', 'pixel184', 'pixel185', 'pixel186', 'pixel187', 'pixel188', 'pixel189', 'pixel190', 'pixel191', 'pixel192', 'pixel193', 'pixel194', 'pixel195', 'pixel196', 'pixel197', 'pixel198', 'pixel199', 'pixel200', 'pixel201', 'pixel202', 'pixel203', 'pixel204', 'pixel205', 'pixel206', 'pixel207', 'pixel208', 'pixel209', 'pixel210', 'pixel211', 'pixel212', 'pixel213', 'pixel214', 'pixel215', 'pixel216', 'pixel217', 'pixel218', 'pixel219', 'pixel220', 'pixel221', 'pixel222', 'pixel223', 'pixel224', 'pixel225', 'pixel226', 'pixel227', 'pixel228', 'pixel229', 'pixel230', 'pixel231', 'pixel232', 'pixel233', 'pixel234', 'pixel235', 'pixel236', 'pixel237', 'pixel238', 'pixel239', 'pixel240', 'pixel241', 'pixel242', 'pixel243', 'pixel244', 'pixel245', 'pixel246', 'pixel247', 'pixel248', 'pixel249', 'pixel250', 'pixel251', 'pixel252', 'pixel253', 'pixel254', 'pixel255', 'pixel256', 'pixel257', 'pixel258', 'pixel259', 'pixel260', 'pixel261', 'pixel262', 'pixel263', 'pixel264', 'pixel265', 'pixel266', 'pixel267', 'pixel268', 'pixel269', 'pixel270', 'pixel271', 'pixel272', 'pixel273', 'pixel274', 'pixel275', 'pixel276', 'pixel277', 'pixel278', 'pixel279', 'pixel280', 'pixel281', 'pixel282', 'pixel283', 'pixel284', 'pixel285', 'pixel286', 'pixel287', 'pixel288', 'pixel289', 'pixel290', 'pixel291', 'pixel292', 'pixel293', 'pixel294', 'pixel295', 'pixel296', 'pixel297', 'pixel298', 'pixel299', 'pixel300', 'pixel301', 'pixel302', 'pixel303', 'pixel304', 'pixel305', 'pixel306', 'pixel307', 'pixel308', 'pixel309', 'pixel310', 'pixel311', 'pixel312', 'pixel313', 'pixel314', 'pixel315', 'pixel316', 'pixel317', 'pixel318', 'pixel319', 'pixel320', 'pixel321', 'pixel322', 'pixel323', 'pixel324', 'pixel325', 'pixel326', 'pixel327', 'pixel328', 'pixel329', 'pixel330', 'pixel331', 'pixel332', 'pixel333', 'pixel334', 'pixel335', 'pixel336', 'pixel337', 'pixel338', 'pixel339', 'pixel340', 'pixel341', 'pixel342', 'pixel343', 'pixel344', 'pixel345', 'pixel346', 'pixel347', 'pixel348', 'pixel349', 'pixel350', 'pixel351', 'pixel352', 'pixel353', 'pixel354', 'pixel355', 'pixel356', 'pixel357', 'pixel358', 'pixel359', 'pixel360', 'pixel361', 'pixel362', 'pixel363', 'pixel364', 'pixel365', 'pixel366', 'pixel367', 'pixel368', 'pixel369', 'pixel370', 'pixel371', 'pixel372', 'pixel373', 'pixel374', 'pixel375', 'pixel376', 'pixel377', 'pixel378', 'pixel379', 'pixel380', 'pixel381', 'pixel382', 'pixel383', 'pixel384', 'pixel385', 'pixel386', 'pixel387', 'pixel388', 'pixel389', 'pixel390', 'pixel391', 'pixel392', 'pixel393', 'pixel394', 'pixel395', 'pixel396', 'pixel397', 'pixel398', 'pixel399', 'pixel400', 'pixel401', 'pixel402', 'pixel403', 'pixel404', 'pixel405', 'pixel406', 'pixel407', 'pixel408', 'pixel409', 'pixel410', 'pixel411', 'pixel412', 'pixel413', 'pixel414', 'pixel415', 'pixel416', 'pixel417', 'pixel418', 'pixel419', 'pixel420', 'pixel421', 'pixel422', 'pixel423', 'pixel424', 'pixel425', 'pixel426', 'pixel427', 'pixel428', 'pixel429', 'pixel430', 'pixel431', 'pixel432', 'pixel433', 'pixel434', 'pixel435', 'pixel436', 'pixel437', 'pixel438', 'pixel439', 'pixel440', 'pixel441', 'pixel442', 'pixel443', 'pixel444', 'pixel445', 'pixel446', 'pixel447', 'pixel448', 'pixel449', 'pixel450', 'pixel451', 'pixel452', 'pixel453', 'pixel454', 'pixel455', 'pixel456', 'pixel457', 'pixel458', 'pixel459', 'pixel460', 'pixel461', 'pixel462', 'pixel463', 'pixel464', 'pixel465', 'pixel466', 'pixel467', 'pixel468', 'pixel469', 'pixel470', 'pixel471', 'pixel472', 'pixel473', 'pixel474', 'pixel475', 'pixel476', 'pixel477', 'pixel478', 'pixel479', 'pixel480', 'pixel481', 'pixel482', 'pixel483', 'pixel484', 'pixel485', 'pixel486', 'pixel487', 'pixel488', 'pixel489', 'pixel490', 'pixel491', 'pixel492', 'pixel493', 'pixel494', 'pixel495', 'pixel496', 'pixel497', 'pixel498', 'pixel499', 'pixel500', 'pixel501', 'pixel502', 'pixel503', 'pixel504', 'pixel505', 'pixel506', 'pixel507', 'pixel508', 'pixel509', 'pixel510', 'pixel511', 'pixel512', 'pixel513', 'pixel514', 'pixel515', 'pixel516', 'pixel517', 'pixel518', 'pixel519', 'pixel520', 'pixel521', 'pixel522', 'pixel523', 'pixel524', 'pixel525', 'pixel526', 'pixel527', 'pixel528', 'pixel529', 'pixel530', 'pixel531', 'pixel532', 'pixel533', 'pixel534', 'pixel535', 'pixel536', 'pixel537', 'pixel538', 'pixel539', 'pixel540', 'pixel541', 'pixel542', 'pixel543', 'pixel544', 'pixel545', 'pixel546', 'pixel547', 'pixel548', 'pixel549', 'pixel550', 'pixel551', 'pixel552', 'pixel553', 'pixel554', 'pixel555', 'pixel556', 'pixel557', 'pixel558', 'pixel559', 'pixel560', 'pixel561', 'pixel562', 'pixel563', 'pixel564', 'pixel565', 'pixel566', 'pixel567', 'pixel568', 'pixel569', 'pixel570', 'pixel571', 'pixel572', 'pixel573', 'pixel574', 'pixel575', 'pixel576', 'pixel577', 'pixel578', 'pixel579', 'pixel580', 'pixel581', 'pixel582', 'pixel583', 'pixel584', 'pixel585', 'pixel586', 'pixel587', 'pixel588', 'pixel589', 'pixel590', 'pixel591', 'pixel592', 'pixel593', 'pixel594', 'pixel595', 'pixel596', 'pixel597', 'pixel598', 'pixel599', 'pixel600', 'pixel601', 'pixel602', 'pixel603', 'pixel604', 'pixel605', 'pixel606', 'pixel607', 'pixel608', 'pixel609', 'pixel610', 'pixel611', 'pixel612', 'pixel613', 'pixel614', 'pixel615', 'pixel616', 'pixel617', 'pixel618', 'pixel619', 'pixel620', 'pixel621', 'pixel622', 'pixel623', 'pixel624', 'pixel625', 'pixel626', 'pixel627', 'pixel628', 'pixel629', 'pixel630', 'pixel631', 'pixel632', 'pixel633', 'pixel634', 'pixel635', 'pixel636', 'pixel637', 'pixel638', 'pixel639', 'pixel640', 'pixel641', 'pixel642', 'pixel643', 'pixel644', 'pixel645', 'pixel646', 'pixel647', 'pixel648', 'pixel649', 'pixel650', 'pixel651', 'pixel652', 'pixel653', 'pixel654', 'pixel655', 'pixel656', 'pixel657', 'pixel658', 'pixel659', 'pixel660', 'pixel661', 'pixel662', 'pixel663', 'pixel664', 'pixel665', 'pixel666', 'pixel667', 'pixel668', 'pixel669', 'pixel670', 'pixel671', 'pixel672', 'pixel673', 'pixel674', 'pixel675', 'pixel676', 'pixel677', 'pixel678', 'pixel679', 'pixel680', 'pixel681', 'pixel682', 'pixel683', 'pixel684', 'pixel685', 'pixel686', 'pixel687', 'pixel688', 'pixel689', 'pixel690', 'pixel691', 'pixel692', 'pixel693', 'pixel694', 'pixel695', 'pixel696', 'pixel697', 'pixel698', 'pixel699', 'pixel700', 'pixel701', 'pixel702', 'pixel703', 'pixel704', 'pixel705', 'pixel706', 'pixel707', 'pixel708', 'pixel709', 'pixel710', 'pixel711', 'pixel712', 'pixel713', 'pixel714', 'pixel715', 'pixel716', 'pixel717', 'pixel718', 'pixel719', 'pixel720', 'pixel721', 'pixel722', 'pixel723', 'pixel724', 'pixel725', 'pixel726', 'pixel727', 'pixel728', 'pixel729', 'pixel730', 'pixel731', 'pixel732', 'pixel733', 'pixel734', 'pixel735', 'pixel736', 'pixel737', 'pixel738', 'pixel739', 'pixel740', 'pixel741', 'pixel742', 'pixel743', 'pixel744', 'pixel745', 'pixel746', 'pixel747', 'pixel748', 'pixel749', 'pixel750', 'pixel751', 'pixel752', 'pixel753', 'pixel754', 'pixel755', 'pixel756', 'pixel757', 'pixel758', 'pixel759', 'pixel760', 'pixel761', 'pixel762', 'pixel763', 'pixel764', 'pixel765', 'pixel766', 'pixel767', 'pixel768', 'pixel769', 'pixel770', 'pixel771', 'pixel772', 'pixel773', 'pixel774', 'pixel775', 'pixel776', 'pixel777', 'pixel778', 'pixel779', 'pixel780', 'pixel781', 'pixel782', 'pixel783', 'pixel784']\n",
      "TARGET => ['class']\n",
      "CATEGORIES => None\n",
      "CATEGORIES => ['9', '0', '3', '2', '7', '5', '1', '6', '4', '8']\n",
      "Categories (10, object): ['0', '1', '2', '3', ..., '6', '7', '8', '9']\n"
     ]
    }
   ],
   "source": [
    "# 분류 확인 \n",
    "print(f'FEATURE => {fashion_data[\"feature_names\"]}')\n",
    "print(f'TARGET => {fashion_data[\"target_names\"]}')\n",
    "print(f'CATEGORIES => {fashion_data[\"categories\"]}') # dataframe일 때는 None으로 출력 / Numpy 일 때는 출력값 有 뭔진 모르겠지만...\n",
    "print(f'CATEGORIES => {target.unique()}') "
   ]
  },
  {
   "cell_type": "markdown",
   "metadata": {},
   "source": [
    "[2] 데이터 가공 및 전처리 <hr>\n",
    "- 결측치 / 중복 / 이상치 => 없음\n",
    "- 다중 분류 ▶ 이진 분류 변환 => 타겟 변환\n",
    "- 표준화 => 이미지 동일 크기 및 색상 채널 : 동일 크기(28*28)와 채널(흑백1) \n",
    "- 정규화 => 피처 정규화 / 타겟 정규화"
   ]
  },
  {
   "cell_type": "code",
   "execution_count": 17,
   "metadata": {},
   "outputs": [
    {
     "data": {
      "text/plain": [
       "array([False,  True])"
      ]
     },
     "execution_count": 17,
     "metadata": {},
     "output_type": "execute_result"
    }
   ],
   "source": [
    "# [2-1] 다중 분류 ▶ 이진 분류 변환 => 타겟 변환\n",
    "target = target == '0' # 0만 True 나머지 False\n",
    "\n",
    "target.unique()"
   ]
  },
  {
   "cell_type": "code",
   "execution_count": 18,
   "metadata": {},
   "outputs": [
    {
     "data": {
      "text/html": [
       "<div>\n",
       "<style scoped>\n",
       "    .dataframe tbody tr th:only-of-type {\n",
       "        vertical-align: middle;\n",
       "    }\n",
       "\n",
       "    .dataframe tbody tr th {\n",
       "        vertical-align: top;\n",
       "    }\n",
       "\n",
       "    .dataframe thead th {\n",
       "        text-align: right;\n",
       "    }\n",
       "</style>\n",
       "<table border=\"1\" class=\"dataframe\">\n",
       "  <thead>\n",
       "    <tr style=\"text-align: right;\">\n",
       "      <th></th>\n",
       "      <th>pixel1</th>\n",
       "      <th>pixel2</th>\n",
       "      <th>pixel3</th>\n",
       "      <th>pixel4</th>\n",
       "      <th>pixel5</th>\n",
       "      <th>pixel6</th>\n",
       "      <th>pixel7</th>\n",
       "      <th>pixel8</th>\n",
       "      <th>pixel9</th>\n",
       "      <th>pixel10</th>\n",
       "      <th>...</th>\n",
       "      <th>pixel775</th>\n",
       "      <th>pixel776</th>\n",
       "      <th>pixel777</th>\n",
       "      <th>pixel778</th>\n",
       "      <th>pixel779</th>\n",
       "      <th>pixel780</th>\n",
       "      <th>pixel781</th>\n",
       "      <th>pixel782</th>\n",
       "      <th>pixel783</th>\n",
       "      <th>pixel784</th>\n",
       "    </tr>\n",
       "  </thead>\n",
       "  <tbody>\n",
       "    <tr>\n",
       "      <th>0</th>\n",
       "      <td>0.0</td>\n",
       "      <td>0.0</td>\n",
       "      <td>0.0</td>\n",
       "      <td>0.0</td>\n",
       "      <td>0.0</td>\n",
       "      <td>0.000000</td>\n",
       "      <td>0.0</td>\n",
       "      <td>0.0</td>\n",
       "      <td>0.0</td>\n",
       "      <td>0.0</td>\n",
       "      <td>...</td>\n",
       "      <td>0.000000</td>\n",
       "      <td>0.000000</td>\n",
       "      <td>0.000000</td>\n",
       "      <td>0.000000</td>\n",
       "      <td>0.0</td>\n",
       "      <td>0.0</td>\n",
       "      <td>0.0</td>\n",
       "      <td>0.0</td>\n",
       "      <td>0.0</td>\n",
       "      <td>0.0</td>\n",
       "    </tr>\n",
       "    <tr>\n",
       "      <th>1</th>\n",
       "      <td>0.0</td>\n",
       "      <td>0.0</td>\n",
       "      <td>0.0</td>\n",
       "      <td>0.0</td>\n",
       "      <td>0.0</td>\n",
       "      <td>0.003922</td>\n",
       "      <td>0.0</td>\n",
       "      <td>0.0</td>\n",
       "      <td>0.0</td>\n",
       "      <td>0.0</td>\n",
       "      <td>...</td>\n",
       "      <td>0.466667</td>\n",
       "      <td>0.447059</td>\n",
       "      <td>0.509804</td>\n",
       "      <td>0.298039</td>\n",
       "      <td>0.0</td>\n",
       "      <td>0.0</td>\n",
       "      <td>0.0</td>\n",
       "      <td>0.0</td>\n",
       "      <td>0.0</td>\n",
       "      <td>0.0</td>\n",
       "    </tr>\n",
       "  </tbody>\n",
       "</table>\n",
       "<p>2 rows × 784 columns</p>\n",
       "</div>"
      ],
      "text/plain": [
       "   pixel1  pixel2  pixel3  pixel4  pixel5    pixel6  pixel7  pixel8  pixel9  \\\n",
       "0     0.0     0.0     0.0     0.0     0.0  0.000000     0.0     0.0     0.0   \n",
       "1     0.0     0.0     0.0     0.0     0.0  0.003922     0.0     0.0     0.0   \n",
       "\n",
       "   pixel10  ...  pixel775  pixel776  pixel777  pixel778  pixel779  pixel780  \\\n",
       "0      0.0  ...  0.000000  0.000000  0.000000  0.000000       0.0       0.0   \n",
       "1      0.0  ...  0.466667  0.447059  0.509804  0.298039       0.0       0.0   \n",
       "\n",
       "   pixel781  pixel782  pixel783  pixel784  \n",
       "0       0.0       0.0       0.0       0.0  \n",
       "1       0.0       0.0       0.0       0.0  \n",
       "\n",
       "[2 rows x 784 columns]"
      ]
     },
     "execution_count": 18,
     "metadata": {},
     "output_type": "execute_result"
    }
   ],
   "source": [
    "# [2-2] 정규화 => 피처  :785개 색상값 즉 0~255 범위 값\n",
    "\n",
    "normFeature=feature/255. # 정수 / 실수 ==> 실수로 형변환하여 나눗셈 실행.\n",
    "normFeature.head(2)"
   ]
  },
  {
   "cell_type": "code",
   "execution_count": 19,
   "metadata": {},
   "outputs": [
    {
     "data": {
      "text/html": [
       "<div>\n",
       "<style scoped>\n",
       "    .dataframe tbody tr th:only-of-type {\n",
       "        vertical-align: middle;\n",
       "    }\n",
       "\n",
       "    .dataframe tbody tr th {\n",
       "        vertical-align: top;\n",
       "    }\n",
       "\n",
       "    .dataframe thead th {\n",
       "        text-align: right;\n",
       "    }\n",
       "</style>\n",
       "<table border=\"1\" class=\"dataframe\">\n",
       "  <thead>\n",
       "    <tr style=\"text-align: right;\">\n",
       "      <th></th>\n",
       "      <th>False</th>\n",
       "      <th>True</th>\n",
       "    </tr>\n",
       "  </thead>\n",
       "  <tbody>\n",
       "    <tr>\n",
       "      <th>0</th>\n",
       "      <td>True</td>\n",
       "      <td>False</td>\n",
       "    </tr>\n",
       "    <tr>\n",
       "      <th>1</th>\n",
       "      <td>False</td>\n",
       "      <td>True</td>\n",
       "    </tr>\n",
       "    <tr>\n",
       "      <th>2</th>\n",
       "      <td>False</td>\n",
       "      <td>True</td>\n",
       "    </tr>\n",
       "    <tr>\n",
       "      <th>3</th>\n",
       "      <td>True</td>\n",
       "      <td>False</td>\n",
       "    </tr>\n",
       "    <tr>\n",
       "      <th>4</th>\n",
       "      <td>False</td>\n",
       "      <td>True</td>\n",
       "    </tr>\n",
       "    <tr>\n",
       "      <th>...</th>\n",
       "      <td>...</td>\n",
       "      <td>...</td>\n",
       "    </tr>\n",
       "    <tr>\n",
       "      <th>69995</th>\n",
       "      <td>True</td>\n",
       "      <td>False</td>\n",
       "    </tr>\n",
       "    <tr>\n",
       "      <th>69996</th>\n",
       "      <td>True</td>\n",
       "      <td>False</td>\n",
       "    </tr>\n",
       "    <tr>\n",
       "      <th>69997</th>\n",
       "      <td>True</td>\n",
       "      <td>False</td>\n",
       "    </tr>\n",
       "    <tr>\n",
       "      <th>69998</th>\n",
       "      <td>True</td>\n",
       "      <td>False</td>\n",
       "    </tr>\n",
       "    <tr>\n",
       "      <th>69999</th>\n",
       "      <td>True</td>\n",
       "      <td>False</td>\n",
       "    </tr>\n",
       "  </tbody>\n",
       "</table>\n",
       "<p>70000 rows × 2 columns</p>\n",
       "</div>"
      ],
      "text/plain": [
       "       False  True \n",
       "0       True  False\n",
       "1      False   True\n",
       "2      False   True\n",
       "3       True  False\n",
       "4      False   True\n",
       "...      ...    ...\n",
       "69995   True  False\n",
       "69996   True  False\n",
       "69997   True  False\n",
       "69998   True  False\n",
       "69999   True  False\n",
       "\n",
       "[70000 rows x 2 columns]"
      ]
     },
     "execution_count": 19,
     "metadata": {},
     "output_type": "execute_result"
    }
   ],
   "source": [
    "# [2-2] 정규화 => 타겟 : One-Hot 인코딩으로 변환.\n",
    "pd.get_dummies(target)"
   ]
  },
  {
   "cell_type": "code",
   "execution_count": 20,
   "metadata": {},
   "outputs": [
    {
     "name": "stdout",
     "output_type": "stream",
     "text": [
      "(70000, 1)\n"
     ]
    }
   ],
   "source": [
    "from sklearn.preprocessing import OneHotEncoder\n",
    "targetDF=target.to_frame()\n",
    "print(targetDF.shape)\n"
   ]
  },
  {
   "cell_type": "code",
   "execution_count": 21,
   "metadata": {},
   "outputs": [
    {
     "data": {
      "text/plain": [
       "array([[1., 1., 1., ..., 1., 1., 1.]])"
      ]
     },
     "execution_count": 21,
     "metadata": {},
     "output_type": "execute_result"
    }
   ],
   "source": [
    "# ohEncoder.transform([target]).toarray() # 압축해서 받은 걸 풀어서 받으려고 toarray를 쓴것.\n",
    "# => <1x70000 sparse matrix of type '<class 'numpy.float64'>' with 70000 stored elements in Compressed Sparse Row format>\n",
    "ohEncoder = OneHotEncoder() # sparse =True =--> 압축시켜서 줌.\n",
    "ohEncoder.fit([target])\n",
    "ohEncoder.transform([target]).toarray()\n"
   ]
  },
  {
   "cell_type": "code",
   "execution_count": 22,
   "metadata": {},
   "outputs": [
    {
     "data": {
      "text/plain": [
       "[array([False,  True])]"
      ]
     },
     "execution_count": 22,
     "metadata": {},
     "output_type": "execute_result"
    }
   ],
   "source": [
    "#sparse_output=False : ndarray type으로 반환\n",
    "ohEncoder = OneHotEncoder(sparse_output=False) # sparse =True =--> 압축시켜서 줌.\n",
    "ohEncoder.fit(targetDF)\n",
    "ohEncoder.categories_"
   ]
  },
  {
   "cell_type": "code",
   "execution_count": 23,
   "metadata": {},
   "outputs": [
    {
     "data": {
      "text/plain": [
       "((70000, 2), 2)"
      ]
     },
     "execution_count": 23,
     "metadata": {},
     "output_type": "execute_result"
    }
   ],
   "source": [
    "norm_target = ohEncoder.transform(targetDF)\n",
    "norm_target.shape, norm_target.ndim"
   ]
  },
  {
   "cell_type": "markdown",
   "metadata": {},
   "source": [
    "[3] 학습 준비 <hr>\n",
    "- 텐서화\n",
    "- 데이터셋 준비 : 훈련용, 테스트용\n",
    "- 학습 방법 : 지도 학습 ( 이진 분류 ) => Linear 클래스 + Sigmoid 함수\n",
    "- 최적화 방법 : 경사하강법 기반 => adam, SDG    \n",
    "- 손실 함수 : 이진분류 손실 계산 함수 => binary_cross_entropy"
   ]
  },
  {
   "cell_type": "code",
   "execution_count": 24,
   "metadata": {},
   "outputs": [],
   "source": [
    "# 데이터셋 준비 : 6만 개 훈련, 1만 개 테스트.\n",
    "limit = 60000\n",
    "train = normFeature.iloc[:limit]\n",
    "test = normFeature.iloc[limit:]\n",
    "ytrain = target.iloc[:limit]\n",
    "ytest = target.iloc[limit:]"
   ]
  },
  {
   "cell_type": "code",
   "execution_count": 25,
   "metadata": {},
   "outputs": [
    {
     "name": "stdout",
     "output_type": "stream",
     "text": [
      "train : (60000, 784), 2D\n",
      "test : (10000, 784), 2D\n",
      "ytrain : (60000,), 1D\n",
      "ytest : (10000,), 1D\n"
     ]
    }
   ],
   "source": [
    "print(f'train : {train.shape}, {train.ndim}D')\n",
    "print(f'test : {test.shape}, {test.ndim}D')\n",
    "print(f'ytrain : {ytrain.shape}, {ytrain.ndim}D')\n",
    "print(f'ytest : {ytest.shape}, {ytest.ndim}D')"
   ]
  },
  {
   "cell_type": "code",
   "execution_count": 26,
   "metadata": {},
   "outputs": [],
   "source": [
    "# 텐서로 변환\n",
    "Xtrn = torch.FloatTensor(train.values)\n",
    "Xtst = torch.FloatTensor(test.values)\n",
    "ytrn = torch.FloatTensor(ytrain.values).unsqueeze(dim=1)\n",
    "ytst = torch.FloatTensor(ytest.values).unsqueeze(dim=1)"
   ]
  },
  {
   "cell_type": "code",
   "execution_count": 27,
   "metadata": {},
   "outputs": [
    {
     "name": "stdout",
     "output_type": "stream",
     "text": [
      "Xtrn : torch.Size([60000, 784]), 2D\n",
      "Xtst : torch.Size([10000, 784]), 2D\n",
      "ytrn : torch.Size([60000, 1]), 2D\n",
      "ytst : torch.Size([10000, 1]), 2D\n"
     ]
    }
   ],
   "source": [
    "print(f'Xtrn : {Xtrn.shape}, {Xtrn.ndim}D')\n",
    "print(f'Xtst : {Xtst.shape}, {Xtst.ndim}D')\n",
    "print(f'ytrn : {ytrn.shape}, {ytrn.ndim}D')\n",
    "print(f'ytst : {ytst.shape}, {ytst.ndim}D')"
   ]
  },
  {
   "cell_type": "code",
   "execution_count": 28,
   "metadata": {},
   "outputs": [
    {
     "data": {
      "text/plain": [
       "Linear(in_features=784, out_features=1, bias=True)"
      ]
     },
     "execution_count": 28,
     "metadata": {},
     "output_type": "execute_result"
    }
   ],
   "source": [
    "# 학습 인스턴스 생성\n",
    "in_, out_ = Xtrn.shape[1], ytrn.shape[1]\n",
    "mdl = nn.Linear(in_, out_) # y = wx +b # 몇 개의 피처를 넣어서 몇 개의 결과를 낼 건지 \n",
    "# _를 넣은 이유는 연산자 충돌 일어날까봐..!\n",
    "mdl # 784개를 받아서 1개를 반환 ===> w가 784개 생겨야 함. 파이썬이 알아서 계산해줄 것."
   ]
  },
  {
   "cell_type": "code",
   "execution_count": 29,
   "metadata": {},
   "outputs": [],
   "source": [
    "# 최적화 인스턴스 생성 => 모델에서 사용하는 w와 b 변수들 전달 \n",
    "optimizer=optim.Adam(mdl.parameters())"
   ]
  },
  {
   "cell_type": "code",
   "execution_count": 30,
   "metadata": {},
   "outputs": [],
   "source": [
    "# 학습 횟수 => 샘플 처음부터 끝까지 읽는 것(에포크) 기준으로 회수 지정\n",
    "EPOCHS = 150\n"
   ]
  },
  {
   "cell_type": "markdown",
   "metadata": {},
   "source": [
    "[4] 학습 <hr>\n",
    "- 반복 횟수만큼 학습 진행. "
   ]
  },
  {
   "cell_type": "code",
   "execution_count": 31,
   "metadata": {},
   "outputs": [
    {
     "name": "stdout",
     "output_type": "stream",
     "text": [
      "[0] Loss => 0.7245057225227356\n",
      "[1] Loss => 0.6435567736625671\n",
      "[2] Loss => 0.5777272582054138\n",
      "[3] Loss => 0.5260478854179382\n",
      "[4] Loss => 0.4867677390575409\n",
      "[5] Loss => 0.4577195942401886\n",
      "[6] Loss => 0.4366944134235382\n",
      "[7] Loss => 0.42169126868247986\n",
      "[8] Loss => 0.41103339195251465\n",
      "[9] Loss => 0.4033896028995514\n",
      "[10] Loss => 0.39774271845817566\n",
      "[11] Loss => 0.39333757758140564\n",
      "[12] Loss => 0.3896264433860779\n",
      "[13] Loss => 0.38622117042541504\n",
      "[14] Loss => 0.3828538954257965\n",
      "[15] Loss => 0.3793465495109558\n",
      "[16] Loss => 0.37558797001838684\n",
      "[17] Loss => 0.3715163469314575\n",
      "[18] Loss => 0.3671068251132965\n",
      "[19] Loss => 0.3623617887496948\n",
      "[20] Loss => 0.35730358958244324\n",
      "[21] Loss => 0.35196995735168457\n",
      "[22] Loss => 0.3464095890522003\n",
      "[23] Loss => 0.340678870677948\n",
      "[24] Loss => 0.33483970165252686\n",
      "[25] Loss => 0.3289570212364197\n",
      "[26] Loss => 0.32309672236442566\n",
      "[27] Loss => 0.31732383370399475\n",
      "[28] Loss => 0.3117002844810486\n",
      "[29] Loss => 0.30628278851509094\n",
      "[30] Loss => 0.3011203706264496\n",
      "[31] Loss => 0.29625236988067627\n",
      "[32] Loss => 0.2917061746120453\n",
      "[33] Loss => 0.287495493888855\n",
      "[34] Loss => 0.2836192846298218\n",
      "[35] Loss => 0.28006166219711304\n",
      "[36] Loss => 0.27679282426834106\n",
      "[37] Loss => 0.2737714946269989\n",
      "[38] Loss => 0.27094826102256775\n",
      "[39] Loss => 0.26827001571655273\n",
      "[40] Loss => 0.2656846046447754\n",
      "[41] Loss => 0.2631452679634094\n",
      "[42] Loss => 0.26061442494392395\n",
      "[43] Loss => 0.2580660283565521\n",
      "[44] Loss => 0.25548654794692993\n",
      "[45] Loss => 0.2528742253780365\n",
      "[46] Loss => 0.2502373456954956\n",
      "[47] Loss => 0.24759158492088318\n",
      "[48] Loss => 0.244956836104393\n",
      "[49] Loss => 0.24235422909259796\n",
      "[50] Loss => 0.2398037165403366\n",
      "[51] Loss => 0.23732183873653412\n",
      "[52] Loss => 0.23492072522640228\n",
      "[53] Loss => 0.23260757327079773\n",
      "[54] Loss => 0.23038475215435028\n",
      "[55] Loss => 0.2282504290342331\n",
      "[56] Loss => 0.2261994183063507\n",
      "[57] Loss => 0.22422441840171814\n",
      "[58] Loss => 0.22231678664684296\n",
      "[59] Loss => 0.2204676866531372\n",
      "[60] Loss => 0.2186688780784607\n",
      "[61] Loss => 0.2169131189584732\n",
      "[62] Loss => 0.2151947319507599\n",
      "[63] Loss => 0.21350957453250885\n",
      "[64] Loss => 0.2118552029132843\n",
      "[65] Loss => 0.2102304995059967\n",
      "[66] Loss => 0.20863555371761322\n",
      "[67] Loss => 0.20707130432128906\n",
      "[68] Loss => 0.20553918182849884\n",
      "[69] Loss => 0.2040407508611679\n",
      "[70] Loss => 0.20257754623889923\n",
      "[71] Loss => 0.20115061104297638\n",
      "[72] Loss => 0.19976064562797546\n",
      "[73] Loss => 0.19840766489505768\n",
      "[74] Loss => 0.19709116220474243\n",
      "[75] Loss => 0.19581009447574615\n",
      "[76] Loss => 0.19456301629543304\n",
      "[77] Loss => 0.19334815442562103\n",
      "[78] Loss => 0.19216367602348328\n",
      "[79] Loss => 0.19100765883922577\n",
      "[80] Loss => 0.18987831473350525\n",
      "[81] Loss => 0.18877407908439636\n",
      "[82] Loss => 0.18769362568855286\n",
      "[83] Loss => 0.18663586676120758\n",
      "[84] Loss => 0.18560004234313965\n",
      "[85] Loss => 0.1845855861902237\n",
      "[86] Loss => 0.1835920512676239\n",
      "[87] Loss => 0.18261924386024475\n",
      "[88] Loss => 0.18166692554950714\n",
      "[89] Loss => 0.18073496222496033\n",
      "[90] Loss => 0.17982308566570282\n",
      "[91] Loss => 0.17893105745315552\n",
      "[92] Loss => 0.17805856466293335\n",
      "[93] Loss => 0.1772051751613617\n",
      "[94] Loss => 0.17637041211128235\n",
      "[95] Loss => 0.17555373907089233\n",
      "[96] Loss => 0.1747545599937439\n",
      "[97] Loss => 0.17397232353687286\n",
      "[98] Loss => 0.17320644855499268\n",
      "[99] Loss => 0.17245632410049438\n",
      "[100] Loss => 0.17172148823738098\n",
      "[101] Loss => 0.1710014045238495\n",
      "[102] Loss => 0.17029564082622528\n",
      "[103] Loss => 0.16960377991199493\n",
      "[104] Loss => 0.16892549395561218\n",
      "[105] Loss => 0.1682603806257248\n",
      "[106] Loss => 0.16760823130607605\n",
      "[107] Loss => 0.1669687032699585\n",
      "[108] Loss => 0.16634154319763184\n",
      "[109] Loss => 0.16572639346122742\n",
      "[110] Loss => 0.1651230901479721\n",
      "[111] Loss => 0.16453130543231964\n",
      "[112] Loss => 0.16395074129104614\n",
      "[113] Loss => 0.1633811742067337\n",
      "[114] Loss => 0.16282226145267487\n",
      "[115] Loss => 0.16227376461029053\n",
      "[116] Loss => 0.1617354154586792\n",
      "[117] Loss => 0.1612069010734558\n",
      "[118] Loss => 0.16068796813488007\n",
      "[119] Loss => 0.16017840802669525\n",
      "[120] Loss => 0.1596779078245163\n",
      "[121] Loss => 0.15918633341789246\n",
      "[122] Loss => 0.15870337188243866\n",
      "[123] Loss => 0.15822887420654297\n",
      "[124] Loss => 0.15776263177394867\n",
      "[125] Loss => 0.15730442106723785\n",
      "[126] Loss => 0.15685410797595978\n",
      "[127] Loss => 0.15641146898269653\n",
      "[128] Loss => 0.15597638487815857\n",
      "[129] Loss => 0.15554863214492798\n",
      "[130] Loss => 0.1551281064748764\n",
      "[131] Loss => 0.15471458435058594\n",
      "[132] Loss => 0.15430794656276703\n",
      "[133] Loss => 0.15390801429748535\n",
      "[134] Loss => 0.15351465344429016\n",
      "[135] Loss => 0.15312770009040833\n",
      "[136] Loss => 0.1527470201253891\n",
      "[137] Loss => 0.15237246453762054\n",
      "[138] Loss => 0.15200389921665192\n",
      "[139] Loss => 0.15164119005203247\n",
      "[140] Loss => 0.15128421783447266\n",
      "[141] Loss => 0.15093284845352173\n",
      "[142] Loss => 0.15058697760105133\n",
      "[143] Loss => 0.15024645626544952\n",
      "[144] Loss => 0.14991119503974915\n",
      "[145] Loss => 0.14958108961582184\n",
      "[146] Loss => 0.14925599098205566\n",
      "[147] Loss => 0.14893583953380585\n",
      "[148] Loss => 0.14862053096294403\n",
      "[149] Loss => 0.14830990135669708\n"
     ]
    }
   ],
   "source": [
    "loss_list = []\n",
    "loss_accuracy = [[], []]\n",
    "\n",
    "for ep in range(EPOCHS):\n",
    "# 학습\n",
    "    yPre = mdl(Xtrn) # 예측값\n",
    "    #print(f'예측값 : {yPre}\\n')\n",
    "    # 분류값 변환\n",
    "    yPre2 = F.sigmoid(yPre)\n",
    "    #print(f'분류값 : {yPre2}\\n')\n",
    "\n",
    "    # 오차 및 손실 계산 (분류값으로)\n",
    "    loss = F.binary_cross_entropy(yPre2, ytrn)\n",
    "    loss_list.append(loss.item())\n",
    "    loss_accuracy[0].append(loss.item())\n",
    "    print(f'[{ep}] Loss => {loss}') # w, b 값 업데이트 안된 상태로 150번 반복만 됐을 뿐.\n",
    "\n",
    "    # w, b 업데이트\n",
    "    optimizer.zero_grad() #  옵티마이저에 할당된 모든 모델 파라미터의 변화도(gradient)를 초기화\n",
    "    loss.backward() # 손실 함수 계산 값으로 미분 진행하여 새로운 w,b 계산\n",
    "    optimizer.step() # t새로운 값으로 w,b 업데이트.\n",
    "\n",
    "\n",
    "    # 정확도 계산 = > 예측값을 0과 1로 변환 => 정답과 비교\n",
    "\n",
    "    train_accuracy = ((ytrn == ( yPre2 > 0.5 )).sum())/ytrn.shape[0]\n",
    "    loss_accuracy[1].append(train_accuracy)\n",
    "\n",
    "    # # 정확도 계산 => 예측값을 0과 1로 변환 ==> 정답과 비교\n",
    "    # train_accuracy = ((ytrn == (pre_y2 >= 0.5)).sum() )/ ytrn.shape[0]\n",
    "    # loss_accuracy[1].append(trn_accuracy)"
   ]
  },
  {
   "cell_type": "code",
   "execution_count": 32,
   "metadata": {},
   "outputs": [
    {
     "data": {
      "image/png": "[encoded data removed]",
      "text/plain": [
       "<Figure size 640x480 with 2 Axes>"
      ]
     },
     "metadata": {},
     "output_type": "display_data"
    }
   ],
   "source": [
    "# 손실과 정확도 시각화\n",
    "import matplotlib.pyplot as plt\n",
    "\n",
    "fig, ax1 = plt.subplots()\n",
    "ax1.plot(loss_accuracy[0], label = 'loss', color ='red')\n",
    "ax2 = ax1.twinx()\n",
    "ax2.plot(loss_accuracy[1], label = 'accuracy')\n",
    "\n",
    "ax1.legend()\n",
    "ax2.legend()\n",
    "plt.xlabel('Epochs')\n",
    "plt.show()\n"
   ]
  },
  {
   "cell_type": "code",
   "execution_count": null,
   "metadata": {},
   "outputs": [],
   "source": []
  },
  {
   "cell_type": "code",
   "execution_count": null,
   "metadata": {},
   "outputs": [],
   "source": []
  },
  {
   "cell_type": "code",
   "execution_count": null,
   "metadata": {},
   "outputs": [],
   "source": []
  }
 ],
 "metadata": {
  "kernelspec": {
   "display_name": "Torch_py38",
   "language": "python",
   "name": "python3"
  },
  "language_info": {
   "codemirror_mode": {
    "name": "ipython",
    "version": 3
   },
   "file_extension": ".py",
   "mimetype": "text/x-python",
   "name": "python",
   "nbconvert_exporter": "python",
   "pygments_lexer": "ipython3",
   "version": "3.8.18"
  }
 },
 "nbformat": 4,
 "nbformat_minor": 2
}
