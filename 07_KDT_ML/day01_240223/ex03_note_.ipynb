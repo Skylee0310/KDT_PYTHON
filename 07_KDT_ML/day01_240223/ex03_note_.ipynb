{
 "cells": [
  {
   "cell_type": "markdown",
   "metadata": {},
   "source": [
    "### 목표 : 생선 품종 분류 모델 \n",
    "- 1) 데이터 : fish.csv\n",
    "- 2) 피  처 : weight, length\n",
    "- 3) 타  겟 : Species\n",
    "- 4) 기계학습 : 지도 학습 + 분류 ( 도미Bream, 빙어 smelt 분류 ===> 이진 분류)\n",
    "- 5) 모  델 : KNeighborsClassifier "
   ]
  },
  {
   "cell_type": "markdown",
   "metadata": {},
   "source": [
    "1) 모듈 로딩 및 데이터 준비\n",
    "    - (1) 모듈 로딩\n",
    "    - (2) 데이터 파일 설정.\n",
    "    - (3) 기본 정보 확인\n",
    "2) 데이터 전처리\n",
    "    - (1) 결측치 isna().sum() ==> null 총 개수 계산. \n",
    "    - (2) 중복 데이터 duplicated().sum() ==> 중복값 개수 계산\n",
    "    - (3) 이상치 확인 boxplot으로 확인 후 사분위 수로 제거\n",
    "    - (4) 'Bream', 'Smelt' 두 품종 데이터만 추출.\n",
    "    - (5) reset_index(drop=True)를 해서 인덱스 리셋.\n",
    "\n",
    "3) 학습용 데이터 준비\n",
    "    - (1) 피처 / 타겟 추출\n",
    "    - (2) Bream ==> 0, Smelt ==> 1로 값 변경.\n",
    "\n",
    "4) 학습 진행\n",
    "    - (1) KNN 인스턴스 생성.\n",
    "        * model = KNeighborsClassifier()\n",
    "    \n",
    "    - (2) 학습 진행 ==> fit(2d, 1d)\n",
    "        * model.fit(featureDF, targetDF)\n",
    "    \n",
    "    - (3) 속성 확인\n",
    "        * classes_\n",
    "        * feature_names_in\n",
    "        * n_feature_in\n",
    "\n",
    "5) 학습 후 검사(테스트) == score()\n",
    "    - (1) 결괏값 \n",
    "    - + 사용데이터 : 학습에 사용되지 않은 데이터\n",
    "\n",
    "6) 예측\n",
    "    - (1) 예측 결과 \n",
    "        * model.predict(y)\n",
    "    - (2) 예측 확률\n",
    "        * model.predict_proba(y)\n",
    "\n",
    "7) Kneighbor(데이터)\n",
    "    - dis, idx = model.kneighbors(데이터)\n",
    "    - idx.tolist()[0] ===== idx.flatten()\n",
    "\n",
    "8) K개의 이웃 데이터만 저장\n",
    "    - kneighborDF = feature.iloc[idx.tolist()[0]]\n",
    "    \n"
   ]
  },
  {
   "cell_type": "markdown",
   "metadata": {},
   "source": []
  }
 ],
 "metadata": {
  "language_info": {
   "name": "python"
  }
 },
 "nbformat": 4,
 "nbformat_minor": 2
}
