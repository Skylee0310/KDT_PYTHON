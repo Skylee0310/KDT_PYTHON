{
 "cells": [
  {
   "cell_type": "markdown",
   "metadata": {},
   "source": [
    "#### 인공신경망(ANN) 모델 살펴보기\n",
    "- 구성 : 입력층 + 은닉층 + 출력층\n",
    "    * 입력층 : 입력값 (<= 입력피처 수), 출력값(<=층의 퍼셉트론 수)\n",
    "    * 출력층 : 입력값 (<= 이전 층의 결괏값), 출력값(<= 입력 타겟 수, 이진분류 1개, 다중분류 = 클래스 수, 회귀 => 1개)"
   ]
  },
  {
   "cell_type": "code",
   "execution_count": 116,
   "metadata": {},
   "outputs": [
    {
     "data": {
      "text/plain": [
       "<torch._C.Generator at 0x23320a54330>"
      ]
     },
     "execution_count": 116,
     "metadata": {},
     "output_type": "execute_result"
    }
   ],
   "source": [
    "# 모듈 로딩\n",
    "import torch\n",
    "import torch.nn as nn\n",
    "import torch.random as random\n",
    "import torch.nn.functional as F\n",
    "\n",
    "random.manual_seed(12)"
   ]
  },
  {
   "cell_type": "code",
   "execution_count": 117,
   "metadata": {},
   "outputs": [
    {
     "name": "stdout",
     "output_type": "stream",
     "text": [
      "[featureTS] torch.Size([4, 2]), 2D\n",
      "[targetTS] torch.Size([4, 1]), 2D\n"
     ]
    }
   ],
   "source": [
    "# 데이터 생성\n",
    "# 피처 : 점수, 공부시간\n",
    "# 타겟 : 합격/불합격\n",
    "\n",
    "featureTS = torch.FloatTensor([[40, 4], [60, 5], [80, 6], [100, 8]])\n",
    "targetTS = torch.FloatTensor([[0], [1], [1], [1]]) # 불합격 0 합격 1\n",
    "\n",
    "print(f'[featureTS] {featureTS.shape}, {featureTS.ndim}D')\n",
    "print(f'[targetTS] {targetTS.shape}, {targetTS.ndim}D')"
   ]
  },
  {
   "cell_type": "code",
   "execution_count": 118,
   "metadata": {},
   "outputs": [],
   "source": [
    "# ANN 모델 \n",
    "class Net(nn.Module) :\n",
    "    ## 모델 구조 설정 초기화\n",
    "    def __init__(self) :\n",
    "        super().__init__()\n",
    "        self.layer1 =nn.Linear(2, 4) # 입력층\n",
    "        self.sig1 = nn.Sigmoid()\n",
    "\n",
    "        self.layer2 =nn.Linear(4, 4) # 은닉층\n",
    "        self.sig2 = nn.Sigmoid()\n",
    "\n",
    "        self.layer3 =nn.Linear(4, 1) # 출력층\n",
    "        self.sig3 = nn.Sigmoid()\n",
    "\n",
    "    ## 순전파 함수\n",
    "    def forward(self, x) :\n",
    "        y1 = self.layer1(x)\n",
    "        y2 = self.sig1(y1)\n",
    "        y3 = self.layer2(y2)\n",
    "        y4 = self.sig2(y3)\n",
    "        y5 = self.layer3(y4)\n",
    "        y6 = self.sig3(y5)\n",
    "\n",
    "        return y6"
   ]
  },
  {
   "cell_type": "code",
   "execution_count": 119,
   "metadata": {},
   "outputs": [
    {
     "data": {
      "text/plain": [
       "Net(\n",
       "  (layer1): Linear(in_features=2, out_features=4, bias=True)\n",
       "  (sig1): Sigmoid()\n",
       "  (layer2): Linear(in_features=4, out_features=4, bias=True)\n",
       "  (sig2): Sigmoid()\n",
       "  (layer3): Linear(in_features=4, out_features=1, bias=True)\n",
       "  (sig3): Sigmoid()\n",
       ")"
      ]
     },
     "execution_count": 119,
     "metadata": {},
     "output_type": "execute_result"
    }
   ],
   "source": [
    "# 모델 인스턴스 생성\n",
    "model1 = Net()\n",
    "model1"
   ]
  },
  {
   "cell_type": "code",
   "execution_count": 120,
   "metadata": {},
   "outputs": [
    {
     "name": "stdout",
     "output_type": "stream",
     "text": [
      "('layer1.weight', Parameter containing:\n",
      "tensor([[-0.0485, -0.3779],\n",
      "        [-0.0669,  0.1232],\n",
      "        [-0.1292, -0.5273],\n",
      "        [ 0.1941, -0.3648]], requires_grad=True))\n",
      "('layer1.bias', Parameter containing:\n",
      "tensor([ 0.3270,  0.3146, -0.4253,  0.2755], requires_grad=True))\n",
      "('layer2.weight', Parameter containing:\n",
      "tensor([[ 0.0830,  0.1318,  0.0559, -0.3738],\n",
      "        [ 0.4790,  0.3443, -0.3744, -0.0544],\n",
      "        [ 0.1601, -0.4446, -0.3427,  0.3137],\n",
      "        [ 0.2216, -0.2283, -0.1997,  0.1099]], requires_grad=True))\n",
      "('layer2.bias', Parameter containing:\n",
      "tensor([ 0.0784,  0.1083, -0.0661,  0.3813], requires_grad=True))\n",
      "('layer3.weight', Parameter containing:\n",
      "tensor([[-0.1784, -0.2396, -0.2434, -0.3128]], requires_grad=True))\n",
      "('layer3.bias', Parameter containing:\n",
      "tensor([0.1423], requires_grad=True))\n"
     ]
    }
   ],
   "source": [
    "for param in model1.named_parameters() : # generater라서 for문 돌려서 출력해야함.\n",
    "    print(param)"
   ]
  },
  {
   "cell_type": "code",
   "execution_count": 121,
   "metadata": {},
   "outputs": [
    {
     "data": {
      "text/plain": [
       "tensor([[0.4043],\n",
       "        [0.4043],\n",
       "        [0.4043],\n",
       "        [0.4043]], grad_fn=<SigmoidBackward0>)"
      ]
     },
     "execution_count": 121,
     "metadata": {},
     "output_type": "execute_result"
    }
   ],
   "source": [
    "# 학습 진행\n",
    "# 에포크 : 데이터를 처음부터 끝까지 한 번 학습하는 것. \n",
    "# 배치 사이즈(≒ 미니배치) : 데이터를 일정한 크기로 자른 것 ( 일반적으로는 32 --> 그냥 값이 잘 나와서..)\n",
    "\n",
    "# 1 epoch\n",
    "output = model1(featureTS)\n",
    "output"
   ]
  },
  {
   "cell_type": "code",
   "execution_count": 122,
   "metadata": {},
   "outputs": [
    {
     "name": "stdout",
     "output_type": "stream",
     "text": [
      "accuracy => 0.25\n"
     ]
    }
   ],
   "source": [
    "# 손실 계산 = > 이진분류 -- 0.5 기준으로 판별\n",
    "# 정확도(Accuracy) : TruePositives+TrueNegatives/TruePositives+TrueNegatives+FalsePositives+FalseNegatives\n",
    "\n",
    "correct = sum((output > 0.5 ) == targetTS)\n",
    "accuracy = correct / targetTS.shape[0]\n",
    "\n",
    "print(f'accuracy => {accuracy.item()}')\n",
    "\n",
    "# 정밀도 : TruePositives/TruePositives+FalsePositives\n",
    "# 재현율 : TruePositives/TruePositives+FalseNegatives\n",
    "# F1 Score : 2∗ Precision∗Recall/Precision+Recall\n",
    "  "
   ]
  },
  {
   "cell_type": "code",
   "execution_count": 123,
   "metadata": {},
   "outputs": [],
   "source": [
    "# 정밀도\n",
    "correct = sum((output>0.5) == targetTS)\n",
    "if not correct :\n",
    "    print(f'precision : 0')"
   ]
  },
  {
   "cell_type": "code",
   "execution_count": 124,
   "metadata": {},
   "outputs": [
    {
     "data": {
      "text/plain": [
       "tensor([1])"
      ]
     },
     "execution_count": 124,
     "metadata": {},
     "output_type": "execute_result"
    }
   ],
   "source": [
    "# 재현율\n",
    "correct = sum((output>0.5) == targetTS)\n",
    "correct"
   ]
  },
  {
   "cell_type": "markdown",
   "metadata": {},
   "source": [
    "### 손실함수 즉, 정답과 예측값 사이의 오차\n",
    "- 회귀 : MSE, MAE, RMSE, ...\n",
    "- 분류 : binary_cross_entropy, cross_entropy "
   ]
  },
  {
   "cell_type": "code",
   "execution_count": 125,
   "metadata": {},
   "outputs": [
    {
     "name": "stdout",
     "output_type": "stream",
     "text": [
      "targetTS\n",
      "tensor([[0.],\n",
      "        [1.],\n",
      "        [1.],\n",
      "        [1.]])\n",
      "output\n",
      "tensor([[0.4043],\n",
      "        [0.4043],\n",
      "        [0.4043],\n",
      "        [0.4043]], grad_fn=<SigmoidBackward0>)\n"
     ]
    }
   ],
   "source": [
    "print(f'targetTS\\n{targetTS}') # 정답지 \n",
    "print(f'output\\n{output}') # 예측값 "
   ]
  },
  {
   "cell_type": "code",
   "execution_count": 127,
   "metadata": {},
   "outputs": [
    {
     "data": {
      "text/plain": [
       "tensor(0.8086, grad_fn=<BinaryCrossEntropyBackward0>)"
      ]
     },
     "execution_count": 127,
     "metadata": {},
     "output_type": "execute_result"
    }
   ],
   "source": [
    "F.binary_cross_entropy(output, targetTS)"
   ]
  },
  {
   "cell_type": "code",
   "execution_count": 128,
   "metadata": {},
   "outputs": [],
   "source": [
    "#logit ▶ y = w1*x+w2*x+b\n",
    "# binary는 sigmoid에 넣었던 값을 넣어야 함.\n",
    "# cross_entropy는 X"
   ]
  },
  {
   "cell_type": "markdown",
   "metadata": {},
   "source": [
    "#### 학습 진행 <hr>\n",
    "- (1) 모델로 학습 진행 ==> 학습 횟수 지정\n",
    "- (2) 학습결과와 정답 비교 손실 계산 ==> 손실함수\n",
    "- (3) W, b 업데이트 ==> 옵티마이저"
   ]
  },
  {
   "cell_type": "code",
   "execution_count": 131,
   "metadata": {},
   "outputs": [],
   "source": [
    "import torch.optim as optim"
   ]
  },
  {
   "cell_type": "code",
   "execution_count": 132,
   "metadata": {},
   "outputs": [],
   "source": [
    "## 학습에 필요한 준비.\n",
    "\n",
    "model2 = Net()\n",
    "\n",
    "loss_fn = nn.BCELoss()\n",
    "optimizer = optim.Adam(model2.parameters())\n",
    "\n",
    "EPOCHS = 10"
   ]
  },
  {
   "cell_type": "code",
   "execution_count": 138,
   "metadata": {},
   "outputs": [
    {
     "name": "stdout",
     "output_type": "stream",
     "text": [
      "[0/10] loss : 0.647379994392395\n",
      "[1/10] loss : 0.6466494798660278\n",
      "[2/10] loss : 0.6459231972694397\n",
      "[3/10] loss : 0.645201563835144\n",
      "[4/10] loss : 0.6444849967956543\n",
      "[5/10] loss : 0.6437736749649048\n",
      "[6/10] loss : 0.6430677175521851\n",
      "[7/10] loss : 0.6423674821853638\n",
      "[8/10] loss : 0.6416731476783752\n",
      "[9/10] loss : 0.6409845948219299\n"
     ]
    }
   ],
   "source": [
    "# 학습 진행\n",
    "\n",
    "# 학습 모드로 모델 설정\n",
    "model2.train() # 배치정규화, dropout, 가중치 초기화 등의 작업을 할수 있는 환경 / 메모리 준비\n",
    "\n",
    "for ep in range(EPOCHS) :\n",
    "    ## 학습\n",
    "    output=model2(featureTS) # 한 에포크 마다 새 output이 생겨야함.\n",
    "\n",
    "    # 손실 계산\n",
    "    loss = loss_fn(output, targetTS)\n",
    "\n",
    "    # 업데이트\n",
    "\n",
    "    optimizer.zero_grad() # 텐서의 grad 속성에 값을 초기화 --> 이전 에포크에서 들어온 값을 초기화 하려고. (값이 누적되지 않도록)\n",
    "\n",
    "    loss.backward() #learning rate와 손실값으로 새로운 w, b 계산.\n",
    "\n",
    "    optimizer.step() # 모델로부터 전달받은 W, b 텐서의 주소로 새로운 W, b 업데이트\n",
    "\n",
    "    # 에포크에서 진행된 결과 출력\n",
    "    \n",
    "    print(f'[{ep}/{EPOCHS}] loss : {loss.item()}')"
   ]
  },
  {
   "cell_type": "code",
   "execution_count": 144,
   "metadata": {},
   "outputs": [
    {
     "name": "stdout",
     "output_type": "stream",
     "text": [
      "[Test] loss : 0.6403016448020935\n"
     ]
    }
   ],
   "source": [
    "# test : モデルの性能平価　・アップデート発生してはいけない！\n",
    "# モデル動作モード設定、autograd機能停止、requires_grad　tensor　停止\n",
    "\n",
    "#테스트 모드로 모델 설정 : 배치 정규화 dropout, 가중치 초기화 기능 off\n",
    "model2.eval()\n",
    "\n",
    "with torch.no_grad():\n",
    "    # 테스트\n",
    "    output=model2(featureTS)\n",
    "\n",
    "    # 손실 계산 : 테스트 데이터에 정답(타겟) 존재하는 경우 진행\n",
    "    loss = loss_fn(output, targetTS)\n",
    "\n",
    "    # 에포크\n",
    "    print(f'[Test] loss : {loss.item()}')"
   ]
  },
  {
   "cell_type": "code",
   "execution_count": null,
   "metadata": {},
   "outputs": [],
   "source": []
  }
 ],
 "metadata": {
  "kernelspec": {
   "display_name": "Torch_py38",
   "language": "python",
   "name": "python3"
  },
  "language_info": {
   "codemirror_mode": {
    "name": "ipython",
    "version": 3
   },
   "file_extension": ".py",
   "mimetype": "text/x-python",
   "name": "python",
   "nbconvert_exporter": "python",
   "pygments_lexer": "ipython3",
   "version": "3.8.12"
  }
 },
 "nbformat": 4,
 "nbformat_minor": 2
}
