{
 "cells": [
  {
   "cell_type": "code",
   "execution_count": 2,
   "metadata": {},
   "outputs": [],
   "source": [
    "import pandas as pd \n",
    "\n",
    "file = 'fish.csv'"
   ]
  },
  {
   "cell_type": "code",
   "execution_count": 3,
   "metadata": {},
   "outputs": [
    {
     "data": {
      "text/plain": [
       "<bound method DataFrame.info of     Species  Length   Width\n",
       "0     Bream    25.4  4.0200\n",
       "1     Bream    26.3  4.3056\n",
       "2     Bream    26.5  4.6961\n",
       "3     Bream    29.0  4.4555\n",
       "4     Bream    29.0  5.1340\n",
       "..      ...     ...     ...\n",
       "154   Smelt    12.2  1.3936\n",
       "155   Smelt    12.4  1.2690\n",
       "156   Smelt    13.0  1.2558\n",
       "157   Smelt    14.3  2.0672\n",
       "158   Smelt    15.0  1.8792\n",
       "\n",
       "[159 rows x 3 columns]>"
      ]
     },
     "execution_count": 3,
     "metadata": {},
     "output_type": "execute_result"
    }
   ],
   "source": [
    "# 데이터 파일 설정\n",
    "fishDf = pd.read_csv(file, usecols=['Species', 'Length', 'Width'])\n",
    "fishDf.info"
   ]
  },
  {
   "cell_type": "code",
   "execution_count": 4,
   "metadata": {},
   "outputs": [
    {
     "name": "stdout",
     "output_type": "stream",
     "text": [
      "<bound method Series.unique of 0      Bream\n",
      "1      Bream\n",
      "2      Bream\n",
      "3      Bream\n",
      "4      Bream\n",
      "       ...  \n",
      "154    Smelt\n",
      "155    Smelt\n",
      "156    Smelt\n",
      "157    Smelt\n",
      "158    Smelt\n",
      "Name: Species, Length: 159, dtype: object>\n",
      "<bound method Series.unique of 0      25.4\n",
      "1      26.3\n",
      "2      26.5\n",
      "3      29.0\n",
      "4      29.0\n",
      "       ... \n",
      "154    12.2\n",
      "155    12.4\n",
      "156    13.0\n",
      "157    14.3\n",
      "158    15.0\n",
      "Name: Length, Length: 159, dtype: float64>\n",
      "<bound method Series.unique of 0      4.0200\n",
      "1      4.3056\n",
      "2      4.6961\n",
      "3      4.4555\n",
      "4      5.1340\n",
      "        ...  \n",
      "154    1.3936\n",
      "155    1.2690\n",
      "156    1.2558\n",
      "157    2.0672\n",
      "158    1.8792\n",
      "Name: Width, Length: 159, dtype: float64>\n"
     ]
    }
   ],
   "source": [
    "# 컬럼별 고유값으로 이상치 확인\n",
    "print(fishDf['Species'].unique)\n",
    "print(fishDf['Length'].unique)\n",
    "print(fishDf['Width'].unique)"
   ]
  },
  {
   "cell_type": "code",
   "execution_count": 5,
   "metadata": {},
   "outputs": [
    {
     "data": {
      "text/plain": [
       "Species    0\n",
       "Length     0\n",
       "Width      0\n",
       "dtype: int64"
      ]
     },
     "execution_count": 5,
     "metadata": {},
     "output_type": "execute_result"
    }
   ],
   "source": [
    "# 결측치 확인 => isna(), isnull()\n",
    "fishDf.isnull().sum() # isnull은 NaN 이면 True(=1), 값이 있으면 0이므로 sum()을 통해 NaN의 개수를 확인할 수 있다."
   ]
  },
  {
   "cell_type": "code",
   "execution_count": 6,
   "metadata": {},
   "outputs": [
    {
     "data": {
      "text/plain": [
       "5"
      ]
     },
     "execution_count": 6,
     "metadata": {},
     "output_type": "execute_result"
    }
   ],
   "source": [
    "fishDf.duplicated().sum() # duplicated만 쓰면 값만 나오고, duplicated()쓰면 중복값만 True로 나오기때문에 sum을 하면 중복값의 개수를 알 수 있음."
   ]
  },
  {
   "cell_type": "code",
   "execution_count": 7,
   "metadata": {},
   "outputs": [],
   "source": [
    "# Bream, Smelt 두 가지 품종의 데이터만 추출\n",
    "# 필터링 조건을 변수로 지정.\n",
    "mask = fishDf['Species'].isin(['Bream', 'Smelt'])\n",
    "\n",
    "# 필터링 된 내용을 새 변수에 저장.\n",
    "twoFishDf = fishDf[mask]\n",
    "\n",
    "# 인덱스를 새로 지정.\n",
    "twoFishDf = twoFishDf.reset_index(drop=True) \n",
    "\n",
    "# reset_index 기존 행 인덱스를 제거하고 인덱스를 데이터 열로 추가.\n",
    "# drop = True로 지정하면 기존 인덱스 삭제.\n",
    "\n",
    "#twoFishDf"
   ]
  },
  {
   "cell_type": "code",
   "execution_count": 8,
   "metadata": {},
   "outputs": [],
   "source": [
    "# 학습용 데이터 준비\n",
    "\n",
    "# feature(속성)\n",
    "feature = twoFishDf[twoFishDf.columns[1:]] # 해당 데이터는 라벨을 제외한 수치데이터\n",
    "\n",
    "\n",
    "# target(라벨)\n",
    "target = twoFishDf['Species']\n",
    "target = target.replace({'Bream':0, 'Smelt':1}).copy() \n",
    "\n",
    "# Bream, Smelt를 각각 0,1으로 변경.\n",
    "# 이진 분류의 경우 모델이 라벨을 더 잘 이해할 수 있게 하기 위해 0,1로 변경할 수 있음."
   ]
  },
  {
   "cell_type": "code",
   "execution_count": 9,
   "metadata": {},
   "outputs": [],
   "source": [
    "# 학습 데이터\n",
    "from sklearn.neighbors import KNeighborsClassifier\n",
    "\n",
    "# k-최근접 이웃 분류 알고리즘\n",
    "# 가장 중요한 hyperparameter인 K값은 근처에 참고(reference)할 이웃의 숫자\n",
    "# 가장 가깝게 위치하는 멤버로 분류하는 방식"
   ]
  },
  {
   "cell_type": "code",
   "execution_count": 10,
   "metadata": {},
   "outputs": [
    {
     "data": {
      "text/html": [
       "<style>#sk-container-id-1 {color: black;}#sk-container-id-1 pre{padding: 0;}#sk-container-id-1 div.sk-toggleable {background-color: white;}#sk-container-id-1 label.sk-toggleable__label {cursor: pointer;display: block;width: 100%;margin-bottom: 0;padding: 0.3em;box-sizing: border-box;text-align: center;}#sk-container-id-1 label.sk-toggleable__label-arrow:before {content: \"▸\";float: left;margin-right: 0.25em;color: #696969;}#sk-container-id-1 label.sk-toggleable__label-arrow:hover:before {color: black;}#sk-container-id-1 div.sk-estimator:hover label.sk-toggleable__label-arrow:before {color: black;}#sk-container-id-1 div.sk-toggleable__content {max-height: 0;max-width: 0;overflow: hidden;text-align: left;background-color: #f0f8ff;}#sk-container-id-1 div.sk-toggleable__content pre {margin: 0.2em;color: black;border-radius: 0.25em;background-color: #f0f8ff;}#sk-container-id-1 input.sk-toggleable__control:checked~div.sk-toggleable__content {max-height: 200px;max-width: 100%;overflow: auto;}#sk-container-id-1 input.sk-toggleable__control:checked~label.sk-toggleable__label-arrow:before {content: \"▾\";}#sk-container-id-1 div.sk-estimator input.sk-toggleable__control:checked~label.sk-toggleable__label {background-color: #d4ebff;}#sk-container-id-1 div.sk-label input.sk-toggleable__control:checked~label.sk-toggleable__label {background-color: #d4ebff;}#sk-container-id-1 input.sk-hidden--visually {border: 0;clip: rect(1px 1px 1px 1px);clip: rect(1px, 1px, 1px, 1px);height: 1px;margin: -1px;overflow: hidden;padding: 0;position: absolute;width: 1px;}#sk-container-id-1 div.sk-estimator {font-family: monospace;background-color: #f0f8ff;border: 1px dotted black;border-radius: 0.25em;box-sizing: border-box;margin-bottom: 0.5em;}#sk-container-id-1 div.sk-estimator:hover {background-color: #d4ebff;}#sk-container-id-1 div.sk-parallel-item::after {content: \"\";width: 100%;border-bottom: 1px solid gray;flex-grow: 1;}#sk-container-id-1 div.sk-label:hover label.sk-toggleable__label {background-color: #d4ebff;}#sk-container-id-1 div.sk-serial::before {content: \"\";position: absolute;border-left: 1px solid gray;box-sizing: border-box;top: 0;bottom: 0;left: 50%;z-index: 0;}#sk-container-id-1 div.sk-serial {display: flex;flex-direction: column;align-items: center;background-color: white;padding-right: 0.2em;padding-left: 0.2em;position: relative;}#sk-container-id-1 div.sk-item {position: relative;z-index: 1;}#sk-container-id-1 div.sk-parallel {display: flex;align-items: stretch;justify-content: center;background-color: white;position: relative;}#sk-container-id-1 div.sk-item::before, #sk-container-id-1 div.sk-parallel-item::before {content: \"\";position: absolute;border-left: 1px solid gray;box-sizing: border-box;top: 0;bottom: 0;left: 50%;z-index: -1;}#sk-container-id-1 div.sk-parallel-item {display: flex;flex-direction: column;z-index: 1;position: relative;background-color: white;}#sk-container-id-1 div.sk-parallel-item:first-child::after {align-self: flex-end;width: 50%;}#sk-container-id-1 div.sk-parallel-item:last-child::after {align-self: flex-start;width: 50%;}#sk-container-id-1 div.sk-parallel-item:only-child::after {width: 0;}#sk-container-id-1 div.sk-dashed-wrapped {border: 1px dashed gray;margin: 0 0.4em 0.5em 0.4em;box-sizing: border-box;padding-bottom: 0.4em;background-color: white;}#sk-container-id-1 div.sk-label label {font-family: monospace;font-weight: bold;display: inline-block;line-height: 1.2em;}#sk-container-id-1 div.sk-label-container {text-align: center;}#sk-container-id-1 div.sk-container {/* jupyter's `normalize.less` sets `[hidden] { display: none; }` but bootstrap.min.css set `[hidden] { display: none !important; }` so we also need the `!important` here to be able to override the default hidden behavior on the sphinx rendered scikit-learn.org. See: https://github.com/scikit-learn/scikit-learn/issues/21755 */display: inline-block !important;position: relative;}#sk-container-id-1 div.sk-text-repr-fallback {display: none;}</style><div id=\"sk-container-id-1\" class=\"sk-top-container\"><div class=\"sk-text-repr-fallback\"><pre>KNeighborsClassifier()</pre><b>In a Jupyter environment, please rerun this cell to show the HTML representation or trust the notebook. <br />On GitHub, the HTML representation is unable to render, please try loading this page with nbviewer.org.</b></div><div class=\"sk-container\" hidden><div class=\"sk-item\"><div class=\"sk-estimator sk-toggleable\"><input class=\"sk-toggleable__control sk-hidden--visually\" id=\"sk-estimator-id-1\" type=\"checkbox\" checked><label for=\"sk-estimator-id-1\" class=\"sk-toggleable__label sk-toggleable__label-arrow\">KNeighborsClassifier</label><div class=\"sk-toggleable__content\"><pre>KNeighborsClassifier()</pre></div></div></div></div></div>"
      ],
      "text/plain": [
       "KNeighborsClassifier()"
      ]
     },
     "execution_count": 10,
     "metadata": {},
     "output_type": "execute_result"
    }
   ],
   "source": [
    "# (4-1) KNN 인스턴스 생성\n",
    "model = KNeighborsClassifier()\n",
    "\n",
    "# (4-2) 학습 진행 fit(2D, 1D)\n",
    "model.fit(feature, target)"
   ]
  },
  {
   "cell_type": "code",
   "execution_count": 11,
   "metadata": {},
   "outputs": [
    {
     "data": {
      "text/plain": [
       "1.0"
      ]
     },
     "execution_count": 11,
     "metadata": {},
     "output_type": "execute_result"
    }
   ],
   "source": [
    "#(5) 학습 후 검사 즉 테스트 => 메서드 : score()\n",
    "#- 결괏값 : 0.0(0%) ~ 1.0(100%)\n",
    "#- 사용데이터 -> 학습에 사용되지 않은 데이터 ( ※ 사용한 데이터를 쓰면 1.0이 나옴.)\n",
    "model.score(feature, target)"
   ]
  },
  {
   "cell_type": "code",
   "execution_count": 77,
   "metadata": {},
   "outputs": [
    {
     "data": {
      "text/plain": [
       "array([[1., 0.]])"
      ]
     },
     "execution_count": 77,
     "metadata": {},
     "output_type": "execute_result"
    }
   ],
   "source": [
    "#(6) 예측 즉 서비스에 모델 활용 시 사용 \n",
    "# => 메서드:predict(), predict_proba() (predict()=> 결과만 줌.)\n",
    "# 조건 : 학습 시 전달된 데이터와 동일한 형태의 데이터가 전달되어야 한다.\n",
    "\n",
    "bdata = pd.DataFrame([[40, 10]], columns =model.feature_names_in_)\n",
    "model.predict(bdata) # ndata의 데이터 값을 보고 출력.\n",
    "model.predict_proba(bdata) # ndata가 각 클래스에 해당할 확률 출력"
   ]
  },
  {
   "cell_type": "code",
   "execution_count": 78,
   "metadata": {},
   "outputs": [
    {
     "data": {
      "text/plain": [
       "array([[0., 1.]])"
      ]
     },
     "execution_count": 78,
     "metadata": {},
     "output_type": "execute_result"
    }
   ],
   "source": [
    "sdata = pd.DataFrame([[12, 12]], columns =model.feature_names_in_)\n",
    "model.predict(sdata) # sdata의 데이터 값을 보고 분류해서 라벨을 출력.\n",
    "model.predict_proba(sdata) # 둘 중 어느 것에 해당하는지 확률 출력."
   ]
  },
  {
   "cell_type": "code",
   "execution_count": 79,
   "metadata": {},
   "outputs": [
    {
     "name": "stdout",
     "output_type": "stream",
     "text": [
      "거리 : [[3.28853312 3.40294832 3.7647404  3.9866552  3.999908  ]]\n",
      "원소번호 : [[32 33 34 30 31]]\n"
     ]
    }
   ],
   "source": [
    "# 데이터와 최근접 이웃 데이터 => kneighbors() 메서드\n",
    "# 반환값 : 거리, 원소번호(인덱스)\n",
    "dis, ind = model.kneighbors(bdata)\n",
    "print(f'거리 : {dis}\\n원소번호 : {ind}') # 거리 수치는 적을 수록 가까이에 있는 것.(유클리드 거리 = 두 점 사이의 거리.)"
   ]
  },
  {
   "attachments": {
    "image.png": {
     "image/png": "[encoded data removed]"
    }
   },
   "cell_type": "markdown",
   "metadata": {},
   "source": [
    "![image.png](attachment:image.png)"
   ]
  },
  {
   "cell_type": "code",
   "execution_count": 80,
   "metadata": {},
   "outputs": [
    {
     "data": {
      "text/plain": [
       "array([32, 33, 34, 30, 31], dtype=int64)"
      ]
     },
     "execution_count": 80,
     "metadata": {},
     "output_type": "execute_result"
    }
   ],
   "source": [
    "#ndarray => list\n",
    "ind.tolist()[0] # 최근접 이웃 인덱스 번호만 뽑아오기.\n",
    "\n",
    "# 2차원 배열을 1차원으로..\n",
    "ind.flatten() "
   ]
  },
  {
   "cell_type": "code",
   "execution_count": 81,
   "metadata": {},
   "outputs": [
    {
     "data": {
      "text/html": [
       "<div>\n",
       "<style scoped>\n",
       "    .dataframe tbody tr th:only-of-type {\n",
       "        vertical-align: middle;\n",
       "    }\n",
       "\n",
       "    .dataframe tbody tr th {\n",
       "        vertical-align: top;\n",
       "    }\n",
       "\n",
       "    .dataframe thead th {\n",
       "        text-align: right;\n",
       "    }\n",
       "</style>\n",
       "<table border=\"1\" class=\"dataframe\">\n",
       "  <thead>\n",
       "    <tr style=\"text-align: right;\">\n",
       "      <th></th>\n",
       "      <th>Length</th>\n",
       "      <th>Width</th>\n",
       "    </tr>\n",
       "  </thead>\n",
       "  <tbody>\n",
       "    <tr>\n",
       "      <th>32</th>\n",
       "      <td>39.5</td>\n",
       "      <td>6.7497</td>\n",
       "    </tr>\n",
       "    <tr>\n",
       "      <th>33</th>\n",
       "      <td>41.0</td>\n",
       "      <td>6.7473</td>\n",
       "    </tr>\n",
       "    <tr>\n",
       "      <th>34</th>\n",
       "      <td>41.0</td>\n",
       "      <td>6.3705</td>\n",
       "    </tr>\n",
       "    <tr>\n",
       "      <th>30</th>\n",
       "      <td>38.5</td>\n",
       "      <td>6.3063</td>\n",
       "    </tr>\n",
       "    <tr>\n",
       "      <th>31</th>\n",
       "      <td>38.5</td>\n",
       "      <td>6.2920</td>\n",
       "    </tr>\n",
       "  </tbody>\n",
       "</table>\n",
       "</div>"
      ],
      "text/plain": [
       "    Length   Width\n",
       "32    39.5  6.7497\n",
       "33    41.0  6.7473\n",
       "34    41.0  6.3705\n",
       "30    38.5  6.3063\n",
       "31    38.5  6.2920"
      ]
     },
     "execution_count": 81,
     "metadata": {},
     "output_type": "execute_result"
    }
   ],
   "source": [
    "#K개의 최근접 이웃 데이터만 저장\n",
    "# kneighborDF = feature.iloc[ind.tolist()[0]]\n",
    "kneighborDF = feature.iloc[ind.flatten()] # 최근접 이웃 인덱스만 뽑아온 다음 인덱스를 통해서 해당 행만 추출.\n",
    "kneighborDF"
   ]
  },
  {
   "cell_type": "code",
   "execution_count": 82,
   "metadata": {},
   "outputs": [
    {
     "data": {
      "text/plain": [
       "(5, 2)"
      ]
     },
     "execution_count": 82,
     "metadata": {},
     "output_type": "execute_result"
    }
   ],
   "source": [
    "kneighborDF.shape"
   ]
  },
  {
   "cell_type": "code",
   "execution_count": 83,
   "metadata": {},
   "outputs": [],
   "source": [
    "# Weight & Length 시각화\n",
    "# (1) 모듈 불러오기\n",
    "import matplotlib.pyplot as plt"
   ]
  },
  {
   "cell_type": "code",
   "execution_count": 84,
   "metadata": {},
   "outputs": [
    {
     "data": {
      "text/plain": [
       "<Axes: title={'center': '[scatter]'}, xlabel='Width', ylabel='Length'>"
      ]
     },
     "execution_count": 84,
     "metadata": {},
     "output_type": "execute_result"
    },
    {
     "data": {
      "image/png": "[encoded data removed]",
      "text/plain": [
       "<Figure size 640x480 with 1 Axes>"
      ]
     },
     "metadata": {},
     "output_type": "display_data"
    },
    {
     "data": {
      "image/png": "[encoded data removed]",
      "text/plain": [
       "<Figure size 640x480 with 1 Axes>"
      ]
     },
     "metadata": {},
     "output_type": "display_data"
    }
   ],
   "source": [
    "#pandas의 Series, DataFrame의 plot메서드\n",
    "# 데이터프레임명.plot() --> 꺾은선 그래프 (값 지정할 필요없이 자동 출력)\n",
    "#feature.plot()\n",
    "\n",
    "# 산점도 그래프\n",
    "feature.plot.scatter(x = 'Width', y = 'Length', color = 'tomato', alpha =0.4, legend='sad') #scatter로 그릴 때는 x, y 값을 지정해야함.\n",
    "\n",
    "feature.plot(kind='scatter', title='[scatter]', x='Width', y = 'Length', c='olive', alpha=0.5)\n"
   ]
  },
  {
   "cell_type": "code",
   "execution_count": 85,
   "metadata": {},
   "outputs": [
    {
     "data": {
      "text/plain": [
       "<matplotlib.collections.PathCollection at 0x24763c7c4c0>"
      ]
     },
     "execution_count": 85,
     "metadata": {},
     "output_type": "execute_result"
    },
    {
     "data": {
      "image/png": "[encoded data removed]",
      "text/plain": [
       "<Figure size 640x480 with 1 Axes>"
      ]
     },
     "metadata": {},
     "output_type": "display_data"
    }
   ],
   "source": [
    "plt.scatter(kneighborDF['Width'], kneighborDF['Length'])"
   ]
  },
  {
   "cell_type": "code",
   "execution_count": 86,
   "metadata": {},
   "outputs": [
    {
     "data": {
      "image/png": "[encoded data removed]",
      "text/plain": [
       "<Figure size 640x480 with 1 Axes>"
      ]
     },
     "metadata": {},
     "output_type": "display_data"
    }
   ],
   "source": [
    "plt.scatter(x=feature.Length, y=feature.Width, c = 'skyblue', alpha=0.5)\n",
    "plt.plot(bdata.Length[0], bdata.Width[0],'ro',alpha=0.5)\n",
    "plt.plot(kneighborDF.Length, kneighborDF.Width, 'g^', alpha=0.4)\n",
    "plt.show()"
   ]
  },
  {
   "cell_type": "code",
   "execution_count": null,
   "metadata": {},
   "outputs": [],
   "source": []
  },
  {
   "cell_type": "code",
   "execution_count": null,
   "metadata": {},
   "outputs": [],
   "source": []
  },
  {
   "cell_type": "code",
   "execution_count": null,
   "metadata": {},
   "outputs": [],
   "source": []
  }
 ],
 "metadata": {
  "kernelspec": {
   "display_name": "EXAM_ML",
   "language": "python",
   "name": "python3"
  },
  "language_info": {
   "codemirror_mode": {
    "name": "ipython",
    "version": 3
   },
   "file_extension": ".py",
   "mimetype": "text/x-python",
   "name": "python",
   "nbconvert_exporter": "python",
   "pygments_lexer": "ipython3",
   "version": "3.9.18"
  }
 },
 "nbformat": 4,
 "nbformat_minor": 2
}
