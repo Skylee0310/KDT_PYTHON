{
 "cells": [
  {
   "cell_type": "code",
   "execution_count": null,
   "metadata": {},
   "outputs": [],
   "source": [
    "# print('타겟 라벨 ', model.classes_)\n",
    "# labels=encoder.inverse_transeform(model.classes_)\n",
    "# print('타겟 문자열 라벨', labels)\n",
    "\n",
    "# >>> 타겟 라벨 [0 1 2 3 4 5 6]\n",
    "# >>> 타겟 문자열 ['Bream' 'Parkki' 'Perch' 'Pike' 'Roach' 'Smelt' 'Whitefish' ]"
   ]
  }
 ],
 "metadata": {
  "language_info": {
   "name": "python"
  }
 },
 "nbformat": 4,
 "nbformat_minor": 2
}
