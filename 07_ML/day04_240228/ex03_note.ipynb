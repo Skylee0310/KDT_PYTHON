{
 "cells": [
  {
   "cell_type": "markdown",
   "metadata": {},
   "source": [
    "### 목표 : 다중 속성/피처를 기반으로 수치값 예측\n",
    "-  데이터 : fish.csv\n",
    "- 피    처 : 4개 Length, Diagonal, Height, Width\n",
    "- 타    겟 : 수치값 Weight\n",
    "- 학습 유형 : 지도 학습 + 회귀\n",
    "- 알고리즘 : 데이터 확인 후 결정"
   ]
  },
  {
   "cell_type": "markdown",
   "metadata": {},
   "source": [
    "<hr>"
   ]
  },
  {
   "cell_type": "markdown",
   "metadata": {},
   "source": [
    "(1) 모듈 로딩\n",
    "- 판다스 (import pandas as pd)\n",
    "\n",
    "- 넘파이 (import numpy as np)\n",
    "\n",
    "- 시각화 (import matplotlib.pyplot as plt)\n",
    "\n",
    "- 훈련세트 & 테스트 세트 (from sklearn.model_selection import train_test_split)\n",
    "\n",
    "- 스케일링 (from sklearn.preprocessing import StandardScaler(표준화), MinMaxScaler, RobustScaler)\n",
    "\n",
    "    - \"MinMaxScaler\" : 최소-최대 스케일링은 데이터의 각 특징(특성)을 새로운 최소 값과 최대 값 사이의 범위로 변환하는 과정 (보통 0, 1 사이)\n",
    "\n",
    "    - \"RobustScaler\" : 데이터의 중앙값(median)과 사분위수 범위(interquartile range, IQR)를 사용하여 이상치의 영향을 줄이고 스케일을 조정\n",
    "        + 데이터에 이상치가 있는 경우나 데이터의 분포가 비대칭인 경우에 유용하게 사용"
   ]
  },
  {
   "cell_type": "markdown",
   "metadata": {},
   "source": [
    "(2) 데이터 준비\n",
    "- 데이터를 데이터프레임으로 불러오기.\n",
    "- 기본 정보 출력 "
   ]
  },
  {
   "cell_type": "markdown",
   "metadata": {},
   "source": [
    "(3) 데이터 확인 ==> 타겟과 피처의 관계를 상관계수 및 시각화를 통해 확인.\n",
    "- 시각화 \n",
    "    - 함수 생성. \n",
    "    - 그래프 행, 열 위치, 데이터프레임, 타겟 열, 피처 열, 상관계수 리스트를 입력하면 산점도를 그려주는 함수  "
   ]
  }
 ],
 "metadata": {
  "language_info": {
   "name": "python"
  }
 },
 "nbformat": 4,
 "nbformat_minor": 2
}
