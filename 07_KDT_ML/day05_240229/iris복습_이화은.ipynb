{
 "cells": [
  {
   "cell_type": "markdown",
   "metadata": {},
   "source": [
    "### 붓꽃 분류 예측 모델 만들기\n",
    "- (1) 데이터 : iris.csv\n",
    "- (2) 타  겟 : variety\n",
    "- (3) 피  처 : petal, sepal...."
   ]
  },
  {
   "cell_type": "markdown",
   "metadata": {},
   "source": [
    "- 모듈 import \n",
    "- 데이터 불러오기\n",
    "- 데이터 전처리\n",
    "- (필요하다면 )상관관계 확인 (corr, 시각화) ==> 분류모델이기 때문에 target과 feature \n",
    "- (필요하다면) 스케일링\n",
    "- 훈련용 데이터 / 학습용 데이터 나누기\n",
    "- 학습\n",
    "- 성능평가"
   ]
  },
  {
   "cell_type": "code",
   "execution_count": 2,
   "metadata": {},
   "outputs": [],
   "source": [
    "import pandas as pd\n",
    "import numpy as np\n",
    "import matplotlib.pyplot as plt"
   ]
  },
  {
   "cell_type": "code",
   "execution_count": 3,
   "metadata": {},
   "outputs": [
    {
     "name": "stdout",
     "output_type": "stream",
     "text": [
      "<class 'pandas.core.frame.DataFrame'>\n",
      "RangeIndex: 150 entries, 0 to 149\n",
      "Data columns (total 5 columns):\n",
      " #   Column        Non-Null Count  Dtype  \n",
      "---  ------        --------------  -----  \n",
      " 0   sepal.length  150 non-null    float64\n",
      " 1   sepal.width   150 non-null    float64\n",
      " 2   petal.length  150 non-null    float64\n",
      " 3   petal.width   150 non-null    float64\n",
      " 4   variety       150 non-null    object \n",
      "dtypes: float64(4), object(1)\n",
      "memory usage: 6.0+ KB\n"
     ]
    }
   ],
   "source": [
    "file = '../data/iris.csv'\n",
    "irisDF = pd.read_csv(file)\n",
    "irisDF.info()"
   ]
  },
  {
   "cell_type": "code",
   "execution_count": 4,
   "metadata": {},
   "outputs": [
    {
     "data": {
      "text/plain": [
       "sepal.length    0\n",
       "sepal.width     0\n",
       "petal.length    0\n",
       "petal.width     0\n",
       "variety         0\n",
       "dtype: int64"
      ]
     },
     "execution_count": 4,
     "metadata": {},
     "output_type": "execute_result"
    }
   ],
   "source": [
    "# 결측치 확인 => 결측치 없음.\n",
    "irisDF.isna().sum()"
   ]
  },
  {
   "cell_type": "code",
   "execution_count": 5,
   "metadata": {},
   "outputs": [
    {
     "data": {
      "text/plain": [
       "0         Setosa\n",
       "1         Setosa\n",
       "2         Setosa\n",
       "3         Setosa\n",
       "4         Setosa\n",
       "         ...    \n",
       "145    Virginica\n",
       "146    Virginica\n",
       "147    Virginica\n",
       "148    Virginica\n",
       "149    Virginica\n",
       "Name: variety, Length: 150, dtype: object"
      ]
     },
     "execution_count": 5,
     "metadata": {},
     "output_type": "execute_result"
    }
   ],
   "source": [
    "irisDF['variety']"
   ]
  },
  {
   "cell_type": "code",
   "execution_count": 6,
   "metadata": {},
   "outputs": [
    {
     "data": {
      "text/plain": [
       "{'whiskers': [<matplotlib.lines.Line2D at 0x2abb4d50a30>,\n",
       "  <matplotlib.lines.Line2D at 0x2abb4d50cd0>,\n",
       "  <matplotlib.lines.Line2D at 0x2abb4d6fd00>,\n",
       "  <matplotlib.lines.Line2D at 0x2abb4d6ffa0>,\n",
       "  <matplotlib.lines.Line2D at 0x2abb4d7dfa0>,\n",
       "  <matplotlib.lines.Line2D at 0x2abb4d8c280>,\n",
       "  <matplotlib.lines.Line2D at 0x2abb4d98280>,\n",
       "  <matplotlib.lines.Line2D at 0x2abb4d98520>],\n",
       " 'caps': [<matplotlib.lines.Line2D at 0x2abb4d50f70>,\n",
       "  <matplotlib.lines.Line2D at 0x2abb4d6f250>,\n",
       "  <matplotlib.lines.Line2D at 0x2abb4d7d280>,\n",
       "  <matplotlib.lines.Line2D at 0x2abb4d7d520>,\n",
       "  <matplotlib.lines.Line2D at 0x2abb4d8c520>,\n",
       "  <matplotlib.lines.Line2D at 0x2abb4d8c7c0>,\n",
       "  <matplotlib.lines.Line2D at 0x2abb4d987c0>,\n",
       "  <matplotlib.lines.Line2D at 0x2abb4d98a60>],\n",
       " 'boxes': [<matplotlib.lines.Line2D at 0x2abb4d50760>,\n",
       "  <matplotlib.lines.Line2D at 0x2abb4d6fa60>,\n",
       "  <matplotlib.lines.Line2D at 0x2abb4d7dd00>,\n",
       "  <matplotlib.lines.Line2D at 0x2abb4d8cfa0>],\n",
       " 'medians': [<matplotlib.lines.Line2D at 0x2abb4d6f4f0>,\n",
       "  <matplotlib.lines.Line2D at 0x2abb4d7d7c0>,\n",
       "  <matplotlib.lines.Line2D at 0x2abb4d8ca60>,\n",
       "  <matplotlib.lines.Line2D at 0x2abb4d98d00>],\n",
       " 'fliers': [<matplotlib.lines.Line2D at 0x2abb4d6f790>,\n",
       "  <matplotlib.lines.Line2D at 0x2abb4d7da60>,\n",
       "  <matplotlib.lines.Line2D at 0x2abb4d8cd00>,\n",
       "  <matplotlib.lines.Line2D at 0x2abb4d98fa0>],\n",
       " 'means': []}"
      ]
     },
     "execution_count": 6,
     "metadata": {},
     "output_type": "execute_result"
    },
    {
     "data": {
      "image/png": "[encoded data removed]",
      "text/plain": [
       "<Figure size 640x480 with 1 Axes>"
      ]
     },
     "metadata": {},
     "output_type": "display_data"
    }
   ],
   "source": [
    "# boxplot을 통해 \n",
    "plt.boxplot(irisDF[irisDF.columns[:-1]])"
   ]
  },
  {
   "cell_type": "code",
   "execution_count": 7,
   "metadata": {},
   "outputs": [],
   "source": [
    "# 사분위 수를 활용한 이상치 제거\n",
    "def remove_outlier(df, col, n):\n",
    "    q1 = df[col].quantile(0.25)\n",
    "    q3 = df[col].quantile(0.75)\n",
    "\n",
    "    iqr = q3-q1\n",
    "\n",
    "    boundary = iqr*n\n",
    "\n",
    "    idx1 = df[df[col]>q3+boundary].index\n",
    "    idx2 = df[df[col]<q1-boundary].index\n",
    "\n",
    "    df = df.drop(idx1) # 최댓값보다 큰 이상치 drop\n",
    "    df = df.drop(idx2) # 최솟값보다 작은 이상치 drop\n",
    "    df = df.reset_index(drop=True)\n",
    "    return df"
   ]
  },
  {
   "cell_type": "code",
   "execution_count": 8,
   "metadata": {},
   "outputs": [
    {
     "data": {
      "text/html": [
       "<div>\n",
       "<style scoped>\n",
       "    .dataframe tbody tr th:only-of-type {\n",
       "        vertical-align: middle;\n",
       "    }\n",
       "\n",
       "    .dataframe tbody tr th {\n",
       "        vertical-align: top;\n",
       "    }\n",
       "\n",
       "    .dataframe thead th {\n",
       "        text-align: right;\n",
       "    }\n",
       "</style>\n",
       "<table border=\"1\" class=\"dataframe\">\n",
       "  <thead>\n",
       "    <tr style=\"text-align: right;\">\n",
       "      <th></th>\n",
       "      <th>sepal.length</th>\n",
       "      <th>sepal.width</th>\n",
       "      <th>petal.length</th>\n",
       "      <th>petal.width</th>\n",
       "      <th>variety</th>\n",
       "    </tr>\n",
       "  </thead>\n",
       "  <tbody>\n",
       "    <tr>\n",
       "      <th>0</th>\n",
       "      <td>5.1</td>\n",
       "      <td>3.5</td>\n",
       "      <td>1.4</td>\n",
       "      <td>0.2</td>\n",
       "      <td>Setosa</td>\n",
       "    </tr>\n",
       "    <tr>\n",
       "      <th>1</th>\n",
       "      <td>4.9</td>\n",
       "      <td>3.0</td>\n",
       "      <td>1.4</td>\n",
       "      <td>0.2</td>\n",
       "      <td>Setosa</td>\n",
       "    </tr>\n",
       "    <tr>\n",
       "      <th>2</th>\n",
       "      <td>4.7</td>\n",
       "      <td>3.2</td>\n",
       "      <td>1.3</td>\n",
       "      <td>0.2</td>\n",
       "      <td>Setosa</td>\n",
       "    </tr>\n",
       "    <tr>\n",
       "      <th>3</th>\n",
       "      <td>4.6</td>\n",
       "      <td>3.1</td>\n",
       "      <td>1.5</td>\n",
       "      <td>0.2</td>\n",
       "      <td>Setosa</td>\n",
       "    </tr>\n",
       "    <tr>\n",
       "      <th>4</th>\n",
       "      <td>5.0</td>\n",
       "      <td>3.6</td>\n",
       "      <td>1.4</td>\n",
       "      <td>0.2</td>\n",
       "      <td>Setosa</td>\n",
       "    </tr>\n",
       "    <tr>\n",
       "      <th>...</th>\n",
       "      <td>...</td>\n",
       "      <td>...</td>\n",
       "      <td>...</td>\n",
       "      <td>...</td>\n",
       "      <td>...</td>\n",
       "    </tr>\n",
       "    <tr>\n",
       "      <th>141</th>\n",
       "      <td>6.7</td>\n",
       "      <td>3.0</td>\n",
       "      <td>5.2</td>\n",
       "      <td>2.3</td>\n",
       "      <td>Virginica</td>\n",
       "    </tr>\n",
       "    <tr>\n",
       "      <th>142</th>\n",
       "      <td>6.3</td>\n",
       "      <td>2.5</td>\n",
       "      <td>5.0</td>\n",
       "      <td>1.9</td>\n",
       "      <td>Virginica</td>\n",
       "    </tr>\n",
       "    <tr>\n",
       "      <th>143</th>\n",
       "      <td>6.5</td>\n",
       "      <td>3.0</td>\n",
       "      <td>5.2</td>\n",
       "      <td>2.0</td>\n",
       "      <td>Virginica</td>\n",
       "    </tr>\n",
       "    <tr>\n",
       "      <th>144</th>\n",
       "      <td>6.2</td>\n",
       "      <td>3.4</td>\n",
       "      <td>5.4</td>\n",
       "      <td>2.3</td>\n",
       "      <td>Virginica</td>\n",
       "    </tr>\n",
       "    <tr>\n",
       "      <th>145</th>\n",
       "      <td>5.9</td>\n",
       "      <td>3.0</td>\n",
       "      <td>5.1</td>\n",
       "      <td>1.8</td>\n",
       "      <td>Virginica</td>\n",
       "    </tr>\n",
       "  </tbody>\n",
       "</table>\n",
       "<p>146 rows × 5 columns</p>\n",
       "</div>"
      ],
      "text/plain": [
       "     sepal.length  sepal.width  petal.length  petal.width    variety\n",
       "0             5.1          3.5           1.4          0.2     Setosa\n",
       "1             4.9          3.0           1.4          0.2     Setosa\n",
       "2             4.7          3.2           1.3          0.2     Setosa\n",
       "3             4.6          3.1           1.5          0.2     Setosa\n",
       "4             5.0          3.6           1.4          0.2     Setosa\n",
       "..            ...          ...           ...          ...        ...\n",
       "141           6.7          3.0           5.2          2.3  Virginica\n",
       "142           6.3          2.5           5.0          1.9  Virginica\n",
       "143           6.5          3.0           5.2          2.0  Virginica\n",
       "144           6.2          3.4           5.4          2.3  Virginica\n",
       "145           5.9          3.0           5.1          1.8  Virginica\n",
       "\n",
       "[146 rows x 5 columns]"
      ]
     },
     "execution_count": 8,
     "metadata": {},
     "output_type": "execute_result"
    }
   ],
   "source": [
    "irisDF = remove_outlier(irisDF, 'sepal.width', 1.5)\n",
    "irisDF"
   ]
  },
  {
   "cell_type": "code",
   "execution_count": 9,
   "metadata": {},
   "outputs": [
    {
     "data": {
      "text/plain": [
       "{'whiskers': [<matplotlib.lines.Line2D at 0x2abb4de75e0>,\n",
       "  <matplotlib.lines.Line2D at 0x2abb4de7880>,\n",
       "  <matplotlib.lines.Line2D at 0x2abb4df7880>,\n",
       "  <matplotlib.lines.Line2D at 0x2abb4df7b20>,\n",
       "  <matplotlib.lines.Line2D at 0x2abb4e05b20>,\n",
       "  <matplotlib.lines.Line2D at 0x2abb4e05dc0>,\n",
       "  <matplotlib.lines.Line2D at 0x2abb4e12df0>,\n",
       "  <matplotlib.lines.Line2D at 0x2abb4e200d0>],\n",
       " 'caps': [<matplotlib.lines.Line2D at 0x2abb4de7b20>,\n",
       "  <matplotlib.lines.Line2D at 0x2abb4de7dc0>,\n",
       "  <matplotlib.lines.Line2D at 0x2abb4df7dc0>,\n",
       "  <matplotlib.lines.Line2D at 0x2abb4e050a0>,\n",
       "  <matplotlib.lines.Line2D at 0x2abb4e120a0>,\n",
       "  <matplotlib.lines.Line2D at 0x2abb4e12340>,\n",
       "  <matplotlib.lines.Line2D at 0x2abb4e20370>,\n",
       "  <matplotlib.lines.Line2D at 0x2abb4e20610>],\n",
       " 'boxes': [<matplotlib.lines.Line2D at 0x2abb4de73a0>,\n",
       "  <matplotlib.lines.Line2D at 0x2abb4df75e0>,\n",
       "  <matplotlib.lines.Line2D at 0x2abb4e05880>,\n",
       "  <matplotlib.lines.Line2D at 0x2abb4e12b50>],\n",
       " 'medians': [<matplotlib.lines.Line2D at 0x2abb4df70a0>,\n",
       "  <matplotlib.lines.Line2D at 0x2abb4e05340>,\n",
       "  <matplotlib.lines.Line2D at 0x2abb4e125e0>,\n",
       "  <matplotlib.lines.Line2D at 0x2abb4e208b0>],\n",
       " 'fliers': [<matplotlib.lines.Line2D at 0x2abb4df7340>,\n",
       "  <matplotlib.lines.Line2D at 0x2abb4e055e0>,\n",
       "  <matplotlib.lines.Line2D at 0x2abb4e128b0>,\n",
       "  <matplotlib.lines.Line2D at 0x2abb4e20b50>],\n",
       " 'means': []}"
      ]
     },
     "execution_count": 9,
     "metadata": {},
     "output_type": "execute_result"
    },
    {
     "data": {
      "image/png": "[encoded data removed]",
      "text/plain": [
       "<Figure size 640x480 with 1 Axes>"
      ]
     },
     "metadata": {},
     "output_type": "display_data"
    }
   ],
   "source": [
    "plt.boxplot(irisDF[irisDF.columns[:-1]])"
   ]
  },
  {
   "cell_type": "code",
   "execution_count": 10,
   "metadata": {},
   "outputs": [
    {
     "data": {
      "text/plain": [
       "1"
      ]
     },
     "execution_count": 10,
     "metadata": {},
     "output_type": "execute_result"
    }
   ],
   "source": [
    "# 중복값 확인 => 1개 있음. \n",
    "irisDF.duplicated().sum()"
   ]
  },
  {
   "cell_type": "code",
   "execution_count": 11,
   "metadata": {},
   "outputs": [
    {
     "data": {
      "text/plain": [
       "variety\n",
       "Virginica     50\n",
       "Versicolor    49\n",
       "Setosa        47\n",
       "Name: count, dtype: int64"
      ]
     },
     "execution_count": 11,
     "metadata": {},
     "output_type": "execute_result"
    }
   ],
   "source": [
    "irisDF['variety'].value_counts() # 이상치가 삭제됨으로써 각 값의 비율이 달라짐."
   ]
  },
  {
   "cell_type": "code",
   "execution_count": 12,
   "metadata": {},
   "outputs": [],
   "source": [
    "irisDF = irisDF.replace({'Setosa':0, 'Versicolor':1, 'Virginica':2})\n",
    "#irisDF"
   ]
  },
  {
   "cell_type": "code",
   "execution_count": 13,
   "metadata": {},
   "outputs": [],
   "source": [
    "featureDF = irisDF[irisDF.columns[:-1]]\n",
    "targetDF = irisDF['variety']"
   ]
  },
  {
   "cell_type": "code",
   "execution_count": 14,
   "metadata": {},
   "outputs": [],
   "source": [
    "from sklearn.model_selection import train_test_split\n",
    "X_train, X_test, y_train, y_test = train_test_split(featureDF, targetDF, test_size=0.2, stratify=targetDF) # 이상치를 지우면서 50/49/47 됐으니까 비율 맞춰주기."
   ]
  },
  {
   "cell_type": "code",
   "execution_count": 15,
   "metadata": {},
   "outputs": [
    {
     "name": "stdout",
     "output_type": "stream",
     "text": [
      "X_train : (116, 4)\n",
      "     sepal.length  sepal.width  petal.length  petal.width\n",
      "144           6.2          3.4           5.4          2.3\n",
      "34            4.9          3.6           1.4          0.1\n",
      "\n",
      "y_train : (116,)\n",
      "144    2\n",
      "34     0\n",
      "Name: variety, dtype: int64\n",
      "\n",
      "X_test : (30, 4)\n",
      "    sepal.length  sepal.width  petal.length  petal.width\n",
      "53           6.3          3.3           4.7          1.6\n",
      "18           5.1          3.8           1.5          0.3\n",
      "\n",
      "y_test : (30,)\n",
      "53    1\n",
      "18    0\n",
      "Name: variety, dtype: int64\n"
     ]
    }
   ],
   "source": [
    "def print_shape(X_train, X_test, y_train, y_test) :\n",
    "    print(f\"X_train : {X_train.shape}\")\n",
    "    print(X_train.head(2))\n",
    "    print()\n",
    "    print(f\"y_train : {y_train.shape}\")\n",
    "    print(y_train.head(2))\n",
    "    print()\n",
    "    print(f\"X_test : {X_test.shape}\")\n",
    "    print(X_test.head(2))\n",
    "    print()\n",
    "    print(f\"y_test : {y_test.shape}\")\n",
    "    print(y_test.head(2))\n",
    "print_shape(X_train, X_test, y_train, y_test)"
   ]
  },
  {
   "cell_type": "code",
   "execution_count": 16,
   "metadata": {},
   "outputs": [
    {
     "data": {
      "text/plain": [
       "0.9666666666666667"
      ]
     },
     "execution_count": 16,
     "metadata": {},
     "output_type": "execute_result"
    }
   ],
   "source": [
    "from sklearn.neighbors import KNeighborsClassifier\n",
    "model = KNeighborsClassifier()\n",
    "model.fit(X_train, y_train)\n",
    "model.score(X_test, y_test)"
   ]
  },
  {
   "cell_type": "code",
   "execution_count": 17,
   "metadata": {},
   "outputs": [
    {
     "data": {
      "text/plain": [
       "1.0"
      ]
     },
     "execution_count": 17,
     "metadata": {},
     "output_type": "execute_result"
    }
   ],
   "source": [
    "from sklearn.svm import SVC\n",
    "\n",
    "model2 = SVC()\n",
    "model2.fit(X_train, y_train)\n",
    "model2.score(X_test, y_test)"
   ]
  },
  {
   "cell_type": "code",
   "execution_count": 24,
   "metadata": {},
   "outputs": [
    {
     "data": {
      "text/plain": [
       "1.0"
      ]
     },
     "execution_count": 24,
     "metadata": {},
     "output_type": "execute_result"
    }
   ],
   "source": [
    "from sklearn.linear_model import LogisticRegression\n",
    "\n",
    "model3 = LogisticRegression(max_iter=200)\n",
    "model3.fit(X_train, y_train)\n",
    "model3.score(X_test, y_test)"
   ]
  },
  {
   "cell_type": "code",
   "execution_count": 27,
   "metadata": {},
   "outputs": [
    {
     "name": "stdout",
     "output_type": "stream",
     "text": [
      "[0 0 0 0 0 0 0 0 0 0 0 0 0 0 0 0 0 0 0 0 0 0 0 0 0 0 0 0 0 0 0 0 0 0 0 0 0\n",
      " 0 0 0 0 0 0 0 0 0 0 1 1 1 1 1 1 1 1 1 1 1 1 1 1 1 1 1 1 1 2 1 2 1 1 1 1 2\n",
      " 1 1 1 1 1 2 1 1 1 1 1 1 1 1 1 1 1 1 1 1 1 1 2 2 2 2 2 2 1 2 2 2 2 2 2 2 2\n",
      " 2 2 2 2 1 2 2 2 2 2 2 2 2 2 2 2 2 2 1 2 2 2 2 2 2 2 2 2 2 2 2 2 2 2 2]\n",
      "\n",
      "[0 0 0 0 0 0 0 0 0 0 0 0 0 0 0 0 0 0 0 0 0 0 0 0 0 0 0 0 0 0 0 0 0 0 0 0 0\n",
      " 0 0 0 0 0 0 0 0 0 0 1 1 1 1 1 1 1 1 1 1 1 1 1 1 1 1 1 1 1 1 1 1 1 1 1 1 2\n",
      " 1 1 1 1 1 2 1 1 1 1 1 1 1 1 1 1 1 1 1 1 1 1 2 2 2 2 2 2 1 2 2 2 2 2 2 2 2\n",
      " 2 2 2 2 2 2 2 2 2 2 2 1 2 2 2 2 2 2 2 2 2 2 2 1 2 2 2 2 2 2 2 2 2 2 2]\n",
      "\n",
      "[0 0 0 0 0 0 0 0 0 0 0 0 0 0 0 0 0 0 0 0 0 0 0 0 0 0 0 0 0 0 0 0 0 0 0 0 0\n",
      " 0 0 0 0 0 0 0 0 0 0 1 1 1 1 1 1 1 1 1 1 1 1 1 1 1 1 1 1 1 2 1 1 1 1 1 1 2\n",
      " 1 1 1 1 1 2 1 1 1 1 1 1 1 1 1 1 1 1 1 1 1 1 2 2 2 2 2 2 1 2 2 2 2 2 2 2 2\n",
      " 2 2 2 2 2 2 2 2 2 2 2 2 2 2 2 2 2 2 2 2 2 2 2 2 2 2 2 2 2 2 2 2 2 2 2]\n"
     ]
    }
   ],
   "source": [
    "y_preK = model.predict(featureDF)\n",
    "y_preS = model2.predict(featureDF)\n",
    "y_preL = model3.predict(featureDF)\n",
    "print(y_preK, y_preS, y_preL, sep='\\n\\n')"
   ]
  },
  {
   "cell_type": "code",
   "execution_count": 30,
   "metadata": {},
   "outputs": [
    {
     "name": "stdout",
     "output_type": "stream",
     "text": [
      "KNN r2_score = 0.9277891613085565\n",
      "SVC r2_score = 0.9484208295061117\n",
      "Log r2_score = 0.9587366636048894\n",
      "\n",
      "KNN mean_squared_error= 0.04794520547945205\n",
      "SVC mean_squared_error= 0.03424657534246575\n",
      "Log mean_squared_error= 0.0273972602739726\n",
      "\n",
      "KNN mean_absolute_error= 0.04794520547945205\n",
      "SVC mean_absolute_error= 0.03424657534246575\n",
      "Log mean_absolute_error= 0.0273972602739726\n",
      "\n"
     ]
    }
   ],
   "source": [
    "from sklearn.metrics import mean_absolute_error, mean_squared_error, r2_score\n",
    "# 결정 계수의 값\n",
    "print('KNN r2_score =', r2_score(targetDF, y_preK))\n",
    "print('SVC r2_score =', r2_score(targetDF, y_preS))\n",
    "print('Log r2_score =', r2_score(targetDF, y_preL))\n",
    "print()\n",
    "\n",
    "# 평균제곱오차 \n",
    "print('KNN mean_squared_error=', mean_squared_error(targetDF, y_preK))\n",
    "print('SVC mean_squared_error=', mean_squared_error(targetDF, y_preS))\n",
    "print('Log mean_squared_error=', mean_squared_error(targetDF, y_preL))\n",
    "print()\n",
    "\n",
    "# 평균절댓값오차\n",
    "print('KNN mean_absolute_error=', mean_absolute_error(targetDF, y_preK))\n",
    "print('SVC mean_absolute_error=', mean_absolute_error(targetDF, y_preS))\n",
    "print('Log mean_absolute_error=', mean_absolute_error(targetDF, y_preL))\n",
    "print()\n"
   ]
  },
  {
   "cell_type": "code",
   "execution_count": 21,
   "metadata": {},
   "outputs": [
    {
     "data": {
      "text/html": [
       "<div>\n",
       "<style scoped>\n",
       "    .dataframe tbody tr th:only-of-type {\n",
       "        vertical-align: middle;\n",
       "    }\n",
       "\n",
       "    .dataframe tbody tr th {\n",
       "        vertical-align: top;\n",
       "    }\n",
       "\n",
       "    .dataframe thead th {\n",
       "        text-align: right;\n",
       "    }\n",
       "</style>\n",
       "<table border=\"1\" class=\"dataframe\">\n",
       "  <thead>\n",
       "    <tr style=\"text-align: right;\">\n",
       "      <th></th>\n",
       "      <th>sepal.length</th>\n",
       "      <th>sepal.width</th>\n",
       "      <th>petal.length</th>\n",
       "      <th>petal.width</th>\n",
       "    </tr>\n",
       "  </thead>\n",
       "  <tbody>\n",
       "    <tr>\n",
       "      <th>0</th>\n",
       "      <td>7</td>\n",
       "      <td>5</td>\n",
       "      <td>10</td>\n",
       "      <td>13</td>\n",
       "    </tr>\n",
       "  </tbody>\n",
       "</table>\n",
       "</div>"
      ],
      "text/plain": [
       "   sepal.length  sepal.width  petal.length  petal.width\n",
       "0             7            5            10           13"
      ]
     },
     "execution_count": 21,
     "metadata": {},
     "output_type": "execute_result"
    }
   ],
   "source": [
    "new_data = pd.DataFrame({'sepal.length':7,\n",
    "                        'sepal.width': 5,\n",
    "                        'petal.length':10,\n",
    "                        'petal.width':13}, index=range(0,1))\n",
    "new_data"
   ]
  },
  {
   "cell_type": "code",
   "execution_count": 22,
   "metadata": {},
   "outputs": [
    {
     "data": {
      "text/plain": [
       "array([2], dtype=int64)"
      ]
     },
     "execution_count": 22,
     "metadata": {},
     "output_type": "execute_result"
    }
   ],
   "source": [
    "# 예측\n",
    "y_pre2 = model.predict(new_data)\n",
    "y_pre2"
   ]
  },
  {
   "cell_type": "code",
   "execution_count": 23,
   "metadata": {},
   "outputs": [
    {
     "data": {
      "text/plain": [
       "<matplotlib.collections.PathCollection at 0x2abb5758760>"
      ]
     },
     "execution_count": 23,
     "metadata": {},
     "output_type": "execute_result"
    },
    {
     "data": {
      "image/png": "[encoded data removed]",
      "text/plain": [
       "<Figure size 640x480 with 1 Axes>"
      ]
     },
     "metadata": {},
     "output_type": "display_data"
    }
   ],
   "source": [
    "plt.scatter(featureDF['sepal.length'], featureDF['sepal.width'], c = targetDF)"
   ]
  },
  {
   "cell_type": "code",
   "execution_count": null,
   "metadata": {},
   "outputs": [],
   "source": []
  }
 ],
 "metadata": {
  "kernelspec": {
   "display_name": "EXAM_ML",
   "language": "python",
   "name": "python3"
  },
  "language_info": {
   "codemirror_mode": {
    "name": "ipython",
    "version": 3
   },
   "file_extension": ".py",
   "mimetype": "text/x-python",
   "name": "python",
   "nbconvert_exporter": "python",
   "pygments_lexer": "ipython3",
   "version": "3.9.18"
  }
 },
 "nbformat": 4,
 "nbformat_minor": 2
}
