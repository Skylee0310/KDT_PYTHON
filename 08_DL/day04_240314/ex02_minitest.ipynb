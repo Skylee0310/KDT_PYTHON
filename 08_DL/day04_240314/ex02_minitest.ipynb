{
 "cells": [
  {
   "cell_type": "markdown",
   "id": "26e1946bd0bd0ee",
   "metadata": {
    "collapsed": false
   },
   "source": [
    "[1] 모듈 로딩 및 데이터 준비\n",
    "- scikit - learn에서 데이터 다운 및 확인"
   ]
  },
  {
   "cell_type": "code",
   "execution_count": 1,
   "id": "61b8eb3393a29200",
   "metadata": {
    "ExecuteTime": {
     "end_time": "2024-03-14T04:26:33.711820Z",
     "start_time": "2024-03-14T04:26:33.694963Z"
    },
    "collapsed": false
   },
   "outputs": [],
   "source": [
    "# 모듈 로딩\n",
    "from sklearn.datasets import fetch_openml\n",
    "import pandas as pd\n",
    "import numpy as np\n",
    "import torch\n",
    "import torch.nn as nn                         # LinearRegression 기능의 클래스 Linear\n",
    "import torch.nn.functional as F               # 손실함수\n",
    "import torch.optim as optim                   # 경사하강법 기반의 최적화 관련 모듈"
   ]
  },
  {
   "cell_type": "code",
   "execution_count": 2,
   "id": "ef74e3c7c0bfaae9",
   "metadata": {
    "ExecuteTime": {
     "end_time": "2024-03-14T04:26:37.355063Z",
     "start_time": "2024-03-14T04:26:33.713904Z"
    },
    "collapsed": false
   },
   "outputs": [],
   "source": [
    "### ===> 데이터 준비\n",
    "fashion_db = 'fashion-mnist'\n",
    "\n",
    "# fashion_data = fetch_openml(name = fashion_db, parser = 'auto', as_frame = False)   \n",
    "fashion_data = fetch_openml(name = fashion_db, parser = 'auto')\n",
    "#as_frame이 True이면 dataframe으로 들고 들어옴, false이면 numpy로 들어옴"
   ]
  },
  {
   "cell_type": "code",
   "execution_count": 3,
   "id": "16df9c350cf0023e",
   "metadata": {
    "ExecuteTime": {
     "end_time": "2024-03-14T04:26:37.386491Z",
     "start_time": "2024-03-14T04:26:37.357137Z"
    },
    "collapsed": false
   },
   "outputs": [],
   "source": [
    "### ===> 데이터 확인\n",
    "feature = fashion_data['data']\n",
    "target = fashion_data['target']"
   ]
  },
  {
   "cell_type": "code",
   "execution_count": 4,
   "id": "17738a913fae805a",
   "metadata": {
    "ExecuteTime": {
     "end_time": "2024-03-14T04:26:37.402154Z",
     "start_time": "2024-03-14T04:26:37.387588Z"
    },
    "collapsed": false
   },
   "outputs": [
    {
     "name": "stdout",
     "output_type": "stream",
     "text": [
      "feature => (70000, 784), 2D\n",
      "target => (70000,), 1D\n"
     ]
    }
   ],
   "source": [
    "# 피처와 타겟 개수 확인\n",
    "print(f\"feature => {feature.shape}, {feature.ndim}D\")\n",
    "print(f\"target => {target.shape}, {target.ndim}D\")"
   ]
  },
  {
   "cell_type": "code",
   "execution_count": 5,
   "id": "f3fac68e8f333368",
   "metadata": {
    "ExecuteTime": {
     "end_time": "2024-03-14T04:26:37.417634Z",
     "start_time": "2024-03-14T04:26:37.403152Z"
    },
    "collapsed": false
   },
   "outputs": [
    {
     "name": "stdout",
     "output_type": "stream",
     "text": [
      "feature => ['pixel1', 'pixel2', 'pixel3', 'pixel4', 'pixel5', 'pixel6', 'pixel7', 'pixel8', 'pixel9', 'pixel10', 'pixel11', 'pixel12', 'pixel13', 'pixel14', 'pixel15', 'pixel16', 'pixel17', 'pixel18', 'pixel19', 'pixel20', 'pixel21', 'pixel22', 'pixel23', 'pixel24', 'pixel25', 'pixel26', 'pixel27', 'pixel28', 'pixel29', 'pixel30', 'pixel31', 'pixel32', 'pixel33', 'pixel34', 'pixel35', 'pixel36', 'pixel37', 'pixel38', 'pixel39', 'pixel40', 'pixel41', 'pixel42', 'pixel43', 'pixel44', 'pixel45', 'pixel46', 'pixel47', 'pixel48', 'pixel49', 'pixel50', 'pixel51', 'pixel52', 'pixel53', 'pixel54', 'pixel55', 'pixel56', 'pixel57', 'pixel58', 'pixel59', 'pixel60', 'pixel61', 'pixel62', 'pixel63', 'pixel64', 'pixel65', 'pixel66', 'pixel67', 'pixel68', 'pixel69', 'pixel70', 'pixel71', 'pixel72', 'pixel73', 'pixel74', 'pixel75', 'pixel76', 'pixel77', 'pixel78', 'pixel79', 'pixel80', 'pixel81', 'pixel82', 'pixel83', 'pixel84', 'pixel85', 'pixel86', 'pixel87', 'pixel88', 'pixel89', 'pixel90', 'pixel91', 'pixel92', 'pixel93', 'pixel94', 'pixel95', 'pixel96', 'pixel97', 'pixel98', 'pixel99', 'pixel100', 'pixel101', 'pixel102', 'pixel103', 'pixel104', 'pixel105', 'pixel106', 'pixel107', 'pixel108', 'pixel109', 'pixel110', 'pixel111', 'pixel112', 'pixel113', 'pixel114', 'pixel115', 'pixel116', 'pixel117', 'pixel118', 'pixel119', 'pixel120', 'pixel121', 'pixel122', 'pixel123', 'pixel124', 'pixel125', 'pixel126', 'pixel127', 'pixel128', 'pixel129', 'pixel130', 'pixel131', 'pixel132', 'pixel133', 'pixel134', 'pixel135', 'pixel136', 'pixel137', 'pixel138', 'pixel139', 'pixel140', 'pixel141', 'pixel142', 'pixel143', 'pixel144', 'pixel145', 'pixel146', 'pixel147', 'pixel148', 'pixel149', 'pixel150', 'pixel151', 'pixel152', 'pixel153', 'pixel154', 'pixel155', 'pixel156', 'pixel157', 'pixel158', 'pixel159', 'pixel160', 'pixel161', 'pixel162', 'pixel163', 'pixel164', 'pixel165', 'pixel166', 'pixel167', 'pixel168', 'pixel169', 'pixel170', 'pixel171', 'pixel172', 'pixel173', 'pixel174', 'pixel175', 'pixel176', 'pixel177', 'pixel178', 'pixel179', 'pixel180', 'pixel181', 'pixel182', 'pixel183', 'pixel184', 'pixel185', 'pixel186', 'pixel187', 'pixel188', 'pixel189', 'pixel190', 'pixel191', 'pixel192', 'pixel193', 'pixel194', 'pixel195', 'pixel196', 'pixel197', 'pixel198', 'pixel199', 'pixel200', 'pixel201', 'pixel202', 'pixel203', 'pixel204', 'pixel205', 'pixel206', 'pixel207', 'pixel208', 'pixel209', 'pixel210', 'pixel211', 'pixel212', 'pixel213', 'pixel214', 'pixel215', 'pixel216', 'pixel217', 'pixel218', 'pixel219', 'pixel220', 'pixel221', 'pixel222', 'pixel223', 'pixel224', 'pixel225', 'pixel226', 'pixel227', 'pixel228', 'pixel229', 'pixel230', 'pixel231', 'pixel232', 'pixel233', 'pixel234', 'pixel235', 'pixel236', 'pixel237', 'pixel238', 'pixel239', 'pixel240', 'pixel241', 'pixel242', 'pixel243', 'pixel244', 'pixel245', 'pixel246', 'pixel247', 'pixel248', 'pixel249', 'pixel250', 'pixel251', 'pixel252', 'pixel253', 'pixel254', 'pixel255', 'pixel256', 'pixel257', 'pixel258', 'pixel259', 'pixel260', 'pixel261', 'pixel262', 'pixel263', 'pixel264', 'pixel265', 'pixel266', 'pixel267', 'pixel268', 'pixel269', 'pixel270', 'pixel271', 'pixel272', 'pixel273', 'pixel274', 'pixel275', 'pixel276', 'pixel277', 'pixel278', 'pixel279', 'pixel280', 'pixel281', 'pixel282', 'pixel283', 'pixel284', 'pixel285', 'pixel286', 'pixel287', 'pixel288', 'pixel289', 'pixel290', 'pixel291', 'pixel292', 'pixel293', 'pixel294', 'pixel295', 'pixel296', 'pixel297', 'pixel298', 'pixel299', 'pixel300', 'pixel301', 'pixel302', 'pixel303', 'pixel304', 'pixel305', 'pixel306', 'pixel307', 'pixel308', 'pixel309', 'pixel310', 'pixel311', 'pixel312', 'pixel313', 'pixel314', 'pixel315', 'pixel316', 'pixel317', 'pixel318', 'pixel319', 'pixel320', 'pixel321', 'pixel322', 'pixel323', 'pixel324', 'pixel325', 'pixel326', 'pixel327', 'pixel328', 'pixel329', 'pixel330', 'pixel331', 'pixel332', 'pixel333', 'pixel334', 'pixel335', 'pixel336', 'pixel337', 'pixel338', 'pixel339', 'pixel340', 'pixel341', 'pixel342', 'pixel343', 'pixel344', 'pixel345', 'pixel346', 'pixel347', 'pixel348', 'pixel349', 'pixel350', 'pixel351', 'pixel352', 'pixel353', 'pixel354', 'pixel355', 'pixel356', 'pixel357', 'pixel358', 'pixel359', 'pixel360', 'pixel361', 'pixel362', 'pixel363', 'pixel364', 'pixel365', 'pixel366', 'pixel367', 'pixel368', 'pixel369', 'pixel370', 'pixel371', 'pixel372', 'pixel373', 'pixel374', 'pixel375', 'pixel376', 'pixel377', 'pixel378', 'pixel379', 'pixel380', 'pixel381', 'pixel382', 'pixel383', 'pixel384', 'pixel385', 'pixel386', 'pixel387', 'pixel388', 'pixel389', 'pixel390', 'pixel391', 'pixel392', 'pixel393', 'pixel394', 'pixel395', 'pixel396', 'pixel397', 'pixel398', 'pixel399', 'pixel400', 'pixel401', 'pixel402', 'pixel403', 'pixel404', 'pixel405', 'pixel406', 'pixel407', 'pixel408', 'pixel409', 'pixel410', 'pixel411', 'pixel412', 'pixel413', 'pixel414', 'pixel415', 'pixel416', 'pixel417', 'pixel418', 'pixel419', 'pixel420', 'pixel421', 'pixel422', 'pixel423', 'pixel424', 'pixel425', 'pixel426', 'pixel427', 'pixel428', 'pixel429', 'pixel430', 'pixel431', 'pixel432', 'pixel433', 'pixel434', 'pixel435', 'pixel436', 'pixel437', 'pixel438', 'pixel439', 'pixel440', 'pixel441', 'pixel442', 'pixel443', 'pixel444', 'pixel445', 'pixel446', 'pixel447', 'pixel448', 'pixel449', 'pixel450', 'pixel451', 'pixel452', 'pixel453', 'pixel454', 'pixel455', 'pixel456', 'pixel457', 'pixel458', 'pixel459', 'pixel460', 'pixel461', 'pixel462', 'pixel463', 'pixel464', 'pixel465', 'pixel466', 'pixel467', 'pixel468', 'pixel469', 'pixel470', 'pixel471', 'pixel472', 'pixel473', 'pixel474', 'pixel475', 'pixel476', 'pixel477', 'pixel478', 'pixel479', 'pixel480', 'pixel481', 'pixel482', 'pixel483', 'pixel484', 'pixel485', 'pixel486', 'pixel487', 'pixel488', 'pixel489', 'pixel490', 'pixel491', 'pixel492', 'pixel493', 'pixel494', 'pixel495', 'pixel496', 'pixel497', 'pixel498', 'pixel499', 'pixel500', 'pixel501', 'pixel502', 'pixel503', 'pixel504', 'pixel505', 'pixel506', 'pixel507', 'pixel508', 'pixel509', 'pixel510', 'pixel511', 'pixel512', 'pixel513', 'pixel514', 'pixel515', 'pixel516', 'pixel517', 'pixel518', 'pixel519', 'pixel520', 'pixel521', 'pixel522', 'pixel523', 'pixel524', 'pixel525', 'pixel526', 'pixel527', 'pixel528', 'pixel529', 'pixel530', 'pixel531', 'pixel532', 'pixel533', 'pixel534', 'pixel535', 'pixel536', 'pixel537', 'pixel538', 'pixel539', 'pixel540', 'pixel541', 'pixel542', 'pixel543', 'pixel544', 'pixel545', 'pixel546', 'pixel547', 'pixel548', 'pixel549', 'pixel550', 'pixel551', 'pixel552', 'pixel553', 'pixel554', 'pixel555', 'pixel556', 'pixel557', 'pixel558', 'pixel559', 'pixel560', 'pixel561', 'pixel562', 'pixel563', 'pixel564', 'pixel565', 'pixel566', 'pixel567', 'pixel568', 'pixel569', 'pixel570', 'pixel571', 'pixel572', 'pixel573', 'pixel574', 'pixel575', 'pixel576', 'pixel577', 'pixel578', 'pixel579', 'pixel580', 'pixel581', 'pixel582', 'pixel583', 'pixel584', 'pixel585', 'pixel586', 'pixel587', 'pixel588', 'pixel589', 'pixel590', 'pixel591', 'pixel592', 'pixel593', 'pixel594', 'pixel595', 'pixel596', 'pixel597', 'pixel598', 'pixel599', 'pixel600', 'pixel601', 'pixel602', 'pixel603', 'pixel604', 'pixel605', 'pixel606', 'pixel607', 'pixel608', 'pixel609', 'pixel610', 'pixel611', 'pixel612', 'pixel613', 'pixel614', 'pixel615', 'pixel616', 'pixel617', 'pixel618', 'pixel619', 'pixel620', 'pixel621', 'pixel622', 'pixel623', 'pixel624', 'pixel625', 'pixel626', 'pixel627', 'pixel628', 'pixel629', 'pixel630', 'pixel631', 'pixel632', 'pixel633', 'pixel634', 'pixel635', 'pixel636', 'pixel637', 'pixel638', 'pixel639', 'pixel640', 'pixel641', 'pixel642', 'pixel643', 'pixel644', 'pixel645', 'pixel646', 'pixel647', 'pixel648', 'pixel649', 'pixel650', 'pixel651', 'pixel652', 'pixel653', 'pixel654', 'pixel655', 'pixel656', 'pixel657', 'pixel658', 'pixel659', 'pixel660', 'pixel661', 'pixel662', 'pixel663', 'pixel664', 'pixel665', 'pixel666', 'pixel667', 'pixel668', 'pixel669', 'pixel670', 'pixel671', 'pixel672', 'pixel673', 'pixel674', 'pixel675', 'pixel676', 'pixel677', 'pixel678', 'pixel679', 'pixel680', 'pixel681', 'pixel682', 'pixel683', 'pixel684', 'pixel685', 'pixel686', 'pixel687', 'pixel688', 'pixel689', 'pixel690', 'pixel691', 'pixel692', 'pixel693', 'pixel694', 'pixel695', 'pixel696', 'pixel697', 'pixel698', 'pixel699', 'pixel700', 'pixel701', 'pixel702', 'pixel703', 'pixel704', 'pixel705', 'pixel706', 'pixel707', 'pixel708', 'pixel709', 'pixel710', 'pixel711', 'pixel712', 'pixel713', 'pixel714', 'pixel715', 'pixel716', 'pixel717', 'pixel718', 'pixel719', 'pixel720', 'pixel721', 'pixel722', 'pixel723', 'pixel724', 'pixel725', 'pixel726', 'pixel727', 'pixel728', 'pixel729', 'pixel730', 'pixel731', 'pixel732', 'pixel733', 'pixel734', 'pixel735', 'pixel736', 'pixel737', 'pixel738', 'pixel739', 'pixel740', 'pixel741', 'pixel742', 'pixel743', 'pixel744', 'pixel745', 'pixel746', 'pixel747', 'pixel748', 'pixel749', 'pixel750', 'pixel751', 'pixel752', 'pixel753', 'pixel754', 'pixel755', 'pixel756', 'pixel757', 'pixel758', 'pixel759', 'pixel760', 'pixel761', 'pixel762', 'pixel763', 'pixel764', 'pixel765', 'pixel766', 'pixel767', 'pixel768', 'pixel769', 'pixel770', 'pixel771', 'pixel772', 'pixel773', 'pixel774', 'pixel775', 'pixel776', 'pixel777', 'pixel778', 'pixel779', 'pixel780', 'pixel781', 'pixel782', 'pixel783', 'pixel784']\n",
      "feature => ['class']\n",
      "category => None\n",
      "category => ['9', '0', '3', '2', '7', '5', '1', '6', '4', '8']\n",
      "Categories (10, object): ['0', '1', '2', '3', ..., '6', '7', '8', '9']\n"
     ]
    }
   ],
   "source": [
    "# 분류 확인\n",
    "print(f\"feature => {fashion_data['feature_names']}\")\n",
    "print(f\"feature => {fashion_data['target_names']}\")\n",
    "print(f\"category => {fashion_data['categories']}\")         # 판다스면 None 이지만   넘파이면 카테고리가 들어옴\n",
    "print(f\"category => {target.unique()}\")"
   ]
  },
  {
   "cell_type": "markdown",
   "id": "5332e5c5c445fdb2",
   "metadata": {
    "collapsed": false
   },
   "source": [
    "[2] 데이터 가공 및 전처리 \n",
    "- 결측치 / 중복값 / 이상치 => 이 데이터에서는 현재 없음\n",
    "- 다중 분류 => 2진 분류 변환 : target 변환\n",
    "- 이미지 크기 표준화 --> 여기서는 이미지 동일 크기 및 색상 채널 : 동일 크기(28*28)와 채널(흑백 1) (만약에 내가 들고온 사진 파일들은 다 다르니까)\n",
    "- 정규화 => 피처 정규화 / 타겟 정규화"
   ]
  },
  {
   "cell_type": "code",
   "execution_count": 6,
   "id": "7df5f191e15cad5",
   "metadata": {
    "ExecuteTime": {
     "end_time": "2024-03-14T04:26:37.433415Z",
     "start_time": "2024-03-14T04:26:37.420778Z"
    },
    "collapsed": false
   },
   "outputs": [
    {
     "data": {
      "text/plain": [
       "array([False,  True])"
      ]
     },
     "execution_count": 6,
     "metadata": {},
     "output_type": "execute_result"
    }
   ],
   "source": [
    "### ===> [2-1] 다중 분류 => 2진 분류 변환 : target 변환\n",
    "target = target == '0'\n",
    "target.unique()"
   ]
  },
  {
   "cell_type": "code",
   "execution_count": 7,
   "id": "f0b8083b75b2dc56",
   "metadata": {
    "ExecuteTime": {
     "end_time": "2024-03-14T04:26:37.479848Z",
     "start_time": "2024-03-14T04:26:37.434477Z"
    },
    "collapsed": false
   },
   "outputs": [],
   "source": [
    "### ===> [2-2] 정규화 => 피처 : 784개 색상값 즉, 0~ 255 번위 값\n",
    "norm_feature = feature/255.\n",
    "\n",
    "# 정수 / 실수 => 실수로 형변환"
   ]
  },
  {
   "cell_type": "code",
   "execution_count": 8,
   "id": "2a09b7b1a144e597",
   "metadata": {
    "ExecuteTime": {
     "end_time": "2024-03-14T04:26:37.527322Z",
     "start_time": "2024-03-14T04:26:37.482067Z"
    },
    "collapsed": false
   },
   "outputs": [
    {
     "data": {
      "text/html": [
       "<div>\n",
       "<style scoped>\n",
       "    .dataframe tbody tr th:only-of-type {\n",
       "        vertical-align: middle;\n",
       "    }\n",
       "\n",
       "    .dataframe tbody tr th {\n",
       "        vertical-align: top;\n",
       "    }\n",
       "\n",
       "    .dataframe thead th {\n",
       "        text-align: right;\n",
       "    }\n",
       "</style>\n",
       "<table border=\"1\" class=\"dataframe\">\n",
       "  <thead>\n",
       "    <tr style=\"text-align: right;\">\n",
       "      <th></th>\n",
       "      <th>pixel1</th>\n",
       "      <th>pixel2</th>\n",
       "      <th>pixel3</th>\n",
       "      <th>pixel4</th>\n",
       "      <th>pixel5</th>\n",
       "      <th>pixel6</th>\n",
       "      <th>pixel7</th>\n",
       "      <th>pixel8</th>\n",
       "      <th>pixel9</th>\n",
       "      <th>pixel10</th>\n",
       "      <th>...</th>\n",
       "      <th>pixel775</th>\n",
       "      <th>pixel776</th>\n",
       "      <th>pixel777</th>\n",
       "      <th>pixel778</th>\n",
       "      <th>pixel779</th>\n",
       "      <th>pixel780</th>\n",
       "      <th>pixel781</th>\n",
       "      <th>pixel782</th>\n",
       "      <th>pixel783</th>\n",
       "      <th>pixel784</th>\n",
       "    </tr>\n",
       "  </thead>\n",
       "  <tbody>\n",
       "    <tr>\n",
       "      <th>0</th>\n",
       "      <td>0.0</td>\n",
       "      <td>0.0</td>\n",
       "      <td>0.0</td>\n",
       "      <td>0.0</td>\n",
       "      <td>0.0</td>\n",
       "      <td>0.000000</td>\n",
       "      <td>0.0</td>\n",
       "      <td>0.0</td>\n",
       "      <td>0.000000</td>\n",
       "      <td>0.000000</td>\n",
       "      <td>...</td>\n",
       "      <td>0.000000</td>\n",
       "      <td>0.000000</td>\n",
       "      <td>0.000000</td>\n",
       "      <td>0.000000</td>\n",
       "      <td>0.0</td>\n",
       "      <td>0.0</td>\n",
       "      <td>0.0</td>\n",
       "      <td>0.0</td>\n",
       "      <td>0.0</td>\n",
       "      <td>0.0</td>\n",
       "    </tr>\n",
       "    <tr>\n",
       "      <th>1</th>\n",
       "      <td>0.0</td>\n",
       "      <td>0.0</td>\n",
       "      <td>0.0</td>\n",
       "      <td>0.0</td>\n",
       "      <td>0.0</td>\n",
       "      <td>0.003922</td>\n",
       "      <td>0.0</td>\n",
       "      <td>0.0</td>\n",
       "      <td>0.000000</td>\n",
       "      <td>0.000000</td>\n",
       "      <td>...</td>\n",
       "      <td>0.466667</td>\n",
       "      <td>0.447059</td>\n",
       "      <td>0.509804</td>\n",
       "      <td>0.298039</td>\n",
       "      <td>0.0</td>\n",
       "      <td>0.0</td>\n",
       "      <td>0.0</td>\n",
       "      <td>0.0</td>\n",
       "      <td>0.0</td>\n",
       "      <td>0.0</td>\n",
       "    </tr>\n",
       "    <tr>\n",
       "      <th>2</th>\n",
       "      <td>0.0</td>\n",
       "      <td>0.0</td>\n",
       "      <td>0.0</td>\n",
       "      <td>0.0</td>\n",
       "      <td>0.0</td>\n",
       "      <td>0.000000</td>\n",
       "      <td>0.0</td>\n",
       "      <td>0.0</td>\n",
       "      <td>0.000000</td>\n",
       "      <td>0.086275</td>\n",
       "      <td>...</td>\n",
       "      <td>0.000000</td>\n",
       "      <td>0.000000</td>\n",
       "      <td>0.003922</td>\n",
       "      <td>0.000000</td>\n",
       "      <td>0.0</td>\n",
       "      <td>0.0</td>\n",
       "      <td>0.0</td>\n",
       "      <td>0.0</td>\n",
       "      <td>0.0</td>\n",
       "      <td>0.0</td>\n",
       "    </tr>\n",
       "    <tr>\n",
       "      <th>3</th>\n",
       "      <td>0.0</td>\n",
       "      <td>0.0</td>\n",
       "      <td>0.0</td>\n",
       "      <td>0.0</td>\n",
       "      <td>0.0</td>\n",
       "      <td>0.000000</td>\n",
       "      <td>0.0</td>\n",
       "      <td>0.0</td>\n",
       "      <td>0.129412</td>\n",
       "      <td>0.376471</td>\n",
       "      <td>...</td>\n",
       "      <td>0.000000</td>\n",
       "      <td>0.000000</td>\n",
       "      <td>0.000000</td>\n",
       "      <td>0.000000</td>\n",
       "      <td>0.0</td>\n",
       "      <td>0.0</td>\n",
       "      <td>0.0</td>\n",
       "      <td>0.0</td>\n",
       "      <td>0.0</td>\n",
       "      <td>0.0</td>\n",
       "    </tr>\n",
       "    <tr>\n",
       "      <th>4</th>\n",
       "      <td>0.0</td>\n",
       "      <td>0.0</td>\n",
       "      <td>0.0</td>\n",
       "      <td>0.0</td>\n",
       "      <td>0.0</td>\n",
       "      <td>0.000000</td>\n",
       "      <td>0.0</td>\n",
       "      <td>0.0</td>\n",
       "      <td>0.000000</td>\n",
       "      <td>0.000000</td>\n",
       "      <td>...</td>\n",
       "      <td>0.000000</td>\n",
       "      <td>0.000000</td>\n",
       "      <td>0.000000</td>\n",
       "      <td>0.000000</td>\n",
       "      <td>0.0</td>\n",
       "      <td>0.0</td>\n",
       "      <td>0.0</td>\n",
       "      <td>0.0</td>\n",
       "      <td>0.0</td>\n",
       "      <td>0.0</td>\n",
       "    </tr>\n",
       "  </tbody>\n",
       "</table>\n",
       "<p>5 rows × 784 columns</p>\n",
       "</div>"
      ],
      "text/plain": [
       "   pixel1  pixel2  pixel3  pixel4  pixel5    pixel6  pixel7  pixel8    pixel9  \\\n",
       "0     0.0     0.0     0.0     0.0     0.0  0.000000     0.0     0.0  0.000000   \n",
       "1     0.0     0.0     0.0     0.0     0.0  0.003922     0.0     0.0  0.000000   \n",
       "2     0.0     0.0     0.0     0.0     0.0  0.000000     0.0     0.0  0.000000   \n",
       "3     0.0     0.0     0.0     0.0     0.0  0.000000     0.0     0.0  0.129412   \n",
       "4     0.0     0.0     0.0     0.0     0.0  0.000000     0.0     0.0  0.000000   \n",
       "\n",
       "    pixel10  ...  pixel775  pixel776  pixel777  pixel778  pixel779  pixel780  \\\n",
       "0  0.000000  ...  0.000000  0.000000  0.000000  0.000000       0.0       0.0   \n",
       "1  0.000000  ...  0.466667  0.447059  0.509804  0.298039       0.0       0.0   \n",
       "2  0.086275  ...  0.000000  0.000000  0.003922  0.000000       0.0       0.0   \n",
       "3  0.376471  ...  0.000000  0.000000  0.000000  0.000000       0.0       0.0   \n",
       "4  0.000000  ...  0.000000  0.000000  0.000000  0.000000       0.0       0.0   \n",
       "\n",
       "   pixel781  pixel782  pixel783  pixel784  \n",
       "0       0.0       0.0       0.0       0.0  \n",
       "1       0.0       0.0       0.0       0.0  \n",
       "2       0.0       0.0       0.0       0.0  \n",
       "3       0.0       0.0       0.0       0.0  \n",
       "4       0.0       0.0       0.0       0.0  \n",
       "\n",
       "[5 rows x 784 columns]"
      ]
     },
     "execution_count": 8,
     "metadata": {},
     "output_type": "execute_result"
    }
   ],
   "source": [
    "norm_feature.head()"
   ]
  },
  {
   "cell_type": "code",
   "execution_count": 9,
   "id": "187085cce71551eb",
   "metadata": {
    "ExecuteTime": {
     "end_time": "2024-03-14T04:26:37.543090Z",
     "start_time": "2024-03-14T04:26:37.529630Z"
    },
    "collapsed": false
   },
   "outputs": [
    {
     "data": {
      "text/html": [
       "<div>\n",
       "<style scoped>\n",
       "    .dataframe tbody tr th:only-of-type {\n",
       "        vertical-align: middle;\n",
       "    }\n",
       "\n",
       "    .dataframe tbody tr th {\n",
       "        vertical-align: top;\n",
       "    }\n",
       "\n",
       "    .dataframe thead th {\n",
       "        text-align: right;\n",
       "    }\n",
       "</style>\n",
       "<table border=\"1\" class=\"dataframe\">\n",
       "  <thead>\n",
       "    <tr style=\"text-align: right;\">\n",
       "      <th></th>\n",
       "      <th>False</th>\n",
       "      <th>True</th>\n",
       "    </tr>\n",
       "  </thead>\n",
       "  <tbody>\n",
       "    <tr>\n",
       "      <th>0</th>\n",
       "      <td>True</td>\n",
       "      <td>False</td>\n",
       "    </tr>\n",
       "    <tr>\n",
       "      <th>1</th>\n",
       "      <td>False</td>\n",
       "      <td>True</td>\n",
       "    </tr>\n",
       "    <tr>\n",
       "      <th>2</th>\n",
       "      <td>False</td>\n",
       "      <td>True</td>\n",
       "    </tr>\n",
       "    <tr>\n",
       "      <th>3</th>\n",
       "      <td>True</td>\n",
       "      <td>False</td>\n",
       "    </tr>\n",
       "    <tr>\n",
       "      <th>4</th>\n",
       "      <td>False</td>\n",
       "      <td>True</td>\n",
       "    </tr>\n",
       "    <tr>\n",
       "      <th>...</th>\n",
       "      <td>...</td>\n",
       "      <td>...</td>\n",
       "    </tr>\n",
       "    <tr>\n",
       "      <th>69995</th>\n",
       "      <td>True</td>\n",
       "      <td>False</td>\n",
       "    </tr>\n",
       "    <tr>\n",
       "      <th>69996</th>\n",
       "      <td>True</td>\n",
       "      <td>False</td>\n",
       "    </tr>\n",
       "    <tr>\n",
       "      <th>69997</th>\n",
       "      <td>True</td>\n",
       "      <td>False</td>\n",
       "    </tr>\n",
       "    <tr>\n",
       "      <th>69998</th>\n",
       "      <td>True</td>\n",
       "      <td>False</td>\n",
       "    </tr>\n",
       "    <tr>\n",
       "      <th>69999</th>\n",
       "      <td>True</td>\n",
       "      <td>False</td>\n",
       "    </tr>\n",
       "  </tbody>\n",
       "</table>\n",
       "<p>70000 rows × 2 columns</p>\n",
       "</div>"
      ],
      "text/plain": [
       "       False  True \n",
       "0       True  False\n",
       "1      False   True\n",
       "2      False   True\n",
       "3       True  False\n",
       "4      False   True\n",
       "...      ...    ...\n",
       "69995   True  False\n",
       "69996   True  False\n",
       "69997   True  False\n",
       "69998   True  False\n",
       "69999   True  False\n",
       "\n",
       "[70000 rows x 2 columns]"
      ]
     },
     "execution_count": 9,
     "metadata": {},
     "output_type": "execute_result"
    }
   ],
   "source": [
    "### ===> [2-2] 정규화 => 타겟 : One-Hot 인코딩으로 변환\n",
    "pd.get_dummies(target)"
   ]
  },
  {
   "cell_type": "code",
   "execution_count": 10,
   "id": "466250074522b502",
   "metadata": {
    "ExecuteTime": {
     "end_time": "2024-03-14T04:26:37.558779Z",
     "start_time": "2024-03-14T04:26:37.545229Z"
    },
    "collapsed": false
   },
   "outputs": [
    {
     "name": "stdout",
     "output_type": "stream",
     "text": [
      "(70000, 1)\n"
     ]
    }
   ],
   "source": [
    "from sklearn.preprocessing import OneHotEncoder\n",
    "targetDF=target.to_frame()          # to_frame() : Convert Series to DataFrame.\n",
    "print(targetDF.shape)\n",
    "\n",
    "# 2차원으로 바꿔서 넘겨주겠다."
   ]
  },
  {
   "cell_type": "code",
   "execution_count": 11,
   "id": "9841d6c571ac7342",
   "metadata": {
    "ExecuteTime": {
     "end_time": "2024-03-14T04:26:37.574766Z",
     "start_time": "2024-03-14T04:26:37.560834Z"
    },
    "collapsed": false
   },
   "outputs": [
    {
     "data": {
      "text/plain": [
       "[array([False,  True])]"
      ]
     },
     "execution_count": 11,
     "metadata": {},
     "output_type": "execute_result"
    }
   ],
   "source": [
    "# sparse_ouput = False   : ndarray 타입으로 반환\n",
    "ohEncoder = OneHotEncoder(sparse_output= False)       # sparse를 False를 지정하면 처음부터 풀어서 받겠다는 솔의  (메모리 문제 때문에 압축해서 줌)\n",
    "ohEncoder.fit(targetDF)\n",
    "ohEncoder.categories_\n",
    "\n",
    "# get_dummies vs onehotencoding vs labelencoding : https://hye-z.tistory.com/16"
   ]
  },
  {
   "cell_type": "code",
   "execution_count": 12,
   "id": "1274bf5f2f30009a",
   "metadata": {
    "ExecuteTime": {
     "end_time": "2024-03-14T04:26:37.590481Z",
     "start_time": "2024-03-14T04:26:37.575851Z"
    },
    "collapsed": false
   },
   "outputs": [
    {
     "data": {
      "text/plain": [
       "((70000, 2), 2)"
      ]
     },
     "execution_count": 12,
     "metadata": {},
     "output_type": "execute_result"
    }
   ],
   "source": [
    "norm_target = ohEncoder.transform(targetDF)\n",
    "norm_target.shape, norm_target.ndim"
   ]
  },
  {
   "cell_type": "code",
   "execution_count": 13,
   "id": "592606588e54be77",
   "metadata": {
    "ExecuteTime": {
     "end_time": "2024-03-14T04:26:37.605738Z",
     "start_time": "2024-03-14T04:26:37.592550Z"
    },
    "collapsed": false
   },
   "outputs": [
    {
     "data": {
      "text/plain": [
       "array([[1., 0.],\n",
       "       [0., 1.],\n",
       "       [0., 1.],\n",
       "       [1., 0.],\n",
       "       [0., 1.]])"
      ]
     },
     "execution_count": 13,
     "metadata": {},
     "output_type": "execute_result"
    }
   ],
   "source": [
    "norm_target[:5]"
   ]
  },
  {
   "cell_type": "code",
   "execution_count": null,
   "id": "da0b303283e6ea6a",
   "metadata": {
    "ExecuteTime": {
     "end_time": "2024-03-14T04:26:37.621358Z",
     "start_time": "2024-03-14T04:26:37.607828Z"
    },
    "collapsed": false
   },
   "outputs": [],
   "source": []
  },
  {
   "cell_type": "markdown",
   "id": "a809b8370026d53",
   "metadata": {
    "collapsed": false
   },
   "source": [
    "- 데이터 => 숫자 변환\n",
    "- 글자 => 정수 변환 => 원핫인코딩 => 밀집행렬 [입베딩]\n",
    "\n",
    "- 원핫인코딩 vs 라벨인코딩 vs ordinalencoder        => 노션에 적어놈"
   ]
  },
  {
   "cell_type": "markdown",
   "id": "91b9096a18832fed",
   "metadata": {
    "collapsed": false
   },
   "source": [
    "[3] 학습 준비 <hr>\n",
    "- 텐서화\n",
    "- 데이터셋 준비 : 훈련용, 테스트용\n",
    "- 학습 방법 : 지도학습 - 이진분류 => Linear 클래스 + sigmoid 함수\n",
    "- 최적화 방법 : 경사하강법기반의 방법 => Adam, SDG, ...\n",
    "- 손실 함수 : 이진 분류 손실 계산 함수 => binary_cross_entropy"
   ]
  },
  {
   "cell_type": "code",
   "execution_count": 14,
   "id": "ca04d044c22934ea",
   "metadata": {
    "ExecuteTime": {
     "end_time": "2024-03-14T04:26:37.637097Z",
     "start_time": "2024-03-14T04:26:37.625534Z"
    },
    "collapsed": false
   },
   "outputs": [],
   "source": [
    "### ===> 데이터셋 준비 : 60000개 훈련, 10000개 테스트\n",
    "limit = 60000\n",
    "\n",
    "train = norm_feature.iloc[0:limit]\n",
    "test = norm_feature.iloc[limit:]\n",
    "\n",
    "train_y = target[:limit]\n",
    "test_y = target[limit:]"
   ]
  },
  {
   "cell_type": "code",
   "execution_count": 15,
   "id": "d41f8a92d2b4cb33",
   "metadata": {
    "ExecuteTime": {
     "end_time": "2024-03-14T04:28:59.983313Z",
     "start_time": "2024-03-14T04:28:59.975002Z"
    },
    "collapsed": false
   },
   "outputs": [
    {
     "name": "stdout",
     "output_type": "stream",
     "text": [
      "train : (60000, 784), 2D  (60000,), 1D\n",
      "test : (10000, 784), 2D  (10000,), 1D\n"
     ]
    }
   ],
   "source": [
    "print(f\"train : {train.shape}, {train.ndim}D  {train_y.shape}, {train_y.ndim}D\")\n",
    "print(f\"test : {test.shape}, {test.ndim}D  {test_y.shape}, {test_y.ndim}D\")"
   ]
  },
  {
   "cell_type": "code",
   "execution_count": 16,
   "id": "cd7e2cf0f03809cb",
   "metadata": {
    "ExecuteTime": {
     "end_time": "2024-03-14T04:32:23.699765Z",
     "start_time": "2024-03-14T04:32:23.687819Z"
    },
    "collapsed": false
   },
   "outputs": [
    {
     "data": {
      "text/plain": [
       "60000    False\n",
       "60001    False\n",
       "60002    False\n",
       "60003    False\n",
       "60004    False\n",
       "         ...  \n",
       "69995    False\n",
       "69996    False\n",
       "69997    False\n",
       "69998    False\n",
       "69999    False\n",
       "Name: class, Length: 10000, dtype: bool"
      ]
     },
     "execution_count": 16,
     "metadata": {},
     "output_type": "execute_result"
    }
   ],
   "source": [
    "test_y"
   ]
  },
  {
   "cell_type": "code",
   "execution_count": 17,
   "id": "dbf9ff3a734df728",
   "metadata": {
    "ExecuteTime": {
     "end_time": "2024-03-14T04:50:32.738921Z",
     "start_time": "2024-03-14T04:50:32.689595Z"
    },
    "collapsed": false
   },
   "outputs": [],
   "source": [
    "### ===> 텐서로 변환\n",
    "X_train = torch.FloatTensor(train.values)\n",
    "X_test = torch.FloatTensor(test.values)\n",
    "\n",
    "y_train = torch.FloatTensor(train_y.values).unsqueeze(dim=1)\n",
    "y_test = torch.FloatTensor(test_y.values).unsqueeze(dim=1)"
   ]
  },
  {
   "cell_type": "code",
   "execution_count": 18,
   "id": "f4166136576934a7",
   "metadata": {
    "ExecuteTime": {
     "end_time": "2024-03-14T04:50:33.251685Z",
     "start_time": "2024-03-14T04:50:33.243222Z"
    },
    "collapsed": false
   },
   "outputs": [
    {
     "name": "stdout",
     "output_type": "stream",
     "text": [
      "train : torch.Size([60000, 784]), 2D  (60000,), 1D\n",
      "test : torch.Size([10000, 784]), 2D  (10000,), 1D\n"
     ]
    }
   ],
   "source": [
    "print(f\"train : {X_train.shape}, {X_train.ndim}D  {train_y.shape}, {train_y.ndim}D\")\n",
    "print(f\"test : {X_test.shape}, {X_test.ndim}D  {test_y.shape}, {test_y.ndim}D\")"
   ]
  },
  {
   "cell_type": "code",
   "execution_count": 19,
   "id": "acecbe6700a5016e",
   "metadata": {
    "ExecuteTime": {
     "end_time": "2024-03-14T04:50:33.577531Z",
     "start_time": "2024-03-14T04:50:33.557570Z"
    },
    "collapsed": false
   },
   "outputs": [
    {
     "data": {
      "text/plain": [
       "Linear(in_features=784, out_features=1, bias=True)"
      ]
     },
     "execution_count": 19,
     "metadata": {},
     "output_type": "execute_result"
    }
   ],
   "source": [
    "### 학습 인스턴스 생성\n",
    "in_, out_ = X_train.shape[1], y_train.shape[1]\n",
    "model = nn.Linear(in_, out_)\n",
    "model"
   ]
  },
  {
   "cell_type": "code",
   "execution_count": 20,
   "id": "907f1e99143f72ec",
   "metadata": {
    "ExecuteTime": {
     "end_time": "2024-03-14T04:50:33.858591Z",
     "start_time": "2024-03-14T04:50:33.839696Z"
    },
    "collapsed": false
   },
   "outputs": [],
   "source": [
    "### 최적화 인스턴스 생성 => 모델에서 사용하는 W, b 변수들 전달\n",
    "optimizer = optim.Adam(model.parameters())    # [w1, w2, ..., w784, 1]"
   ]
  },
  {
   "cell_type": "code",
   "execution_count": 21,
   "id": "26d34a079b041418",
   "metadata": {
    "ExecuteTime": {
     "end_time": "2024-03-14T04:50:34.350945Z",
     "start_time": "2024-03-14T04:50:34.347688Z"
    },
    "collapsed": false
   },
   "outputs": [],
   "source": [
    "### 학습 횟수 => 샘플 처음부터 끝까지 읽는 것 기준으로 횟수 지정\n",
    "EPOCHS = 150"
   ]
  },
  {
   "cell_type": "markdown",
   "id": "ecc9b5d82ed67958",
   "metadata": {
    "collapsed": false
   },
   "source": [
    "[4] 학습 <hr>\n",
    "- 반복횟수만큼 학습 진행"
   ]
  },
  {
   "cell_type": "code",
   "execution_count": 22,
   "id": "2a32f693e5f2ea95",
   "metadata": {
    "ExecuteTime": {
     "end_time": "2024-03-14T05:05:32.697946Z",
     "start_time": "2024-03-14T05:05:31.026261Z"
    },
    "collapsed": false
   },
   "outputs": [
    {
     "name": "stdout",
     "output_type": "stream",
     "text": [
      "[0] Loss => 0.7306627631187439\n",
      "[1] Loss => 0.6464744806289673\n",
      "[2] Loss => 0.5775716304779053\n",
      "[3] Loss => 0.5230600833892822\n",
      "[4] Loss => 0.48126861453056335\n",
      "[5] Loss => 0.4500896632671356\n",
      "[6] Loss => 0.42734256386756897\n",
      "[7] Loss => 0.4110255241394043\n",
      "[8] Loss => 0.3994361460208893\n",
      "[9] Loss => 0.3912009298801422\n",
      "[10] Loss => 0.3852528929710388\n",
      "[11] Loss => 0.38078588247299194\n",
      "[12] Loss => 0.3772045373916626\n",
      "[13] Loss => 0.3740781247615814\n",
      "[14] Loss => 0.3711024224758148\n",
      "[15] Loss => 0.3680684566497803\n",
      "[16] Loss => 0.3648393154144287\n",
      "[17] Loss => 0.36133190989494324\n",
      "[18] Loss => 0.35750335454940796\n",
      "[19] Loss => 0.35334107279777527\n",
      "[20] Loss => 0.3488551378250122\n",
      "[21] Loss => 0.34407246112823486\n",
      "[22] Loss => 0.3390325903892517\n",
      "[23] Loss => 0.3337842524051666\n",
      "[24] Loss => 0.3283827006816864\n",
      "[25] Loss => 0.32288748025894165\n",
      "[26] Loss => 0.3173602223396301\n",
      "[27] Loss => 0.31186312437057495\n",
      "[28] Loss => 0.30645671486854553\n",
      "[29] Loss => 0.3011981248855591\n",
      "[30] Loss => 0.29613885283470154\n",
      "[31] Loss => 0.2913232147693634\n",
      "[32] Loss => 0.2867858111858368\n",
      "[33] Loss => 0.282550185918808\n",
      "[34] Loss => 0.2786271572113037\n",
      "[35] Loss => 0.27501431107521057\n",
      "[36] Loss => 0.27169618010520935\n",
      "[37] Loss => 0.2686449885368347\n",
      "[38] Loss => 0.26582321524620056\n",
      "[39] Loss => 0.26318636536598206\n",
      "[40] Loss => 0.2606869041919708\n",
      "[41] Loss => 0.25827813148498535\n",
      "[42] Loss => 0.25591790676116943\n",
      "[43] Loss => 0.2535717487335205\n",
      "[44] Loss => 0.2512149214744568\n",
      "[45] Loss => 0.2488332837820053\n",
      "[46] Loss => 0.24642294645309448\n",
      "[47] Loss => 0.24398890137672424\n",
      "[48] Loss => 0.2415429651737213\n",
      "[49] Loss => 0.2391013354063034\n",
      "[50] Loss => 0.2366819679737091\n"
     ]
    },
    {
     "name": "stdout",
     "output_type": "stream",
     "text": [
      "[51] Loss => 0.2343025654554367\n",
      "[52] Loss => 0.2319786548614502\n",
      "[53] Loss => 0.22972239553928375\n",
      "[54] Loss => 0.2275419384241104\n",
      "[55] Loss => 0.22544144093990326\n",
      "[56] Loss => 0.2234211564064026\n",
      "[57] Loss => 0.22147829830646515\n",
      "[58] Loss => 0.2196076512336731\n",
      "[59] Loss => 0.2178024798631668\n",
      "[60] Loss => 0.21605537831783295\n",
      "[61] Loss => 0.21435895562171936\n",
      "[62] Loss => 0.21270641684532166\n",
      "[63] Loss => 0.2110919952392578\n",
      "[64] Loss => 0.20951113104820251\n",
      "[65] Loss => 0.20796053111553192\n",
      "[66] Loss => 0.20643828809261322\n",
      "[67] Loss => 0.20494358241558075\n",
      "[68] Loss => 0.2034764438867569\n",
      "[69] Loss => 0.20203763246536255\n",
      "[70] Loss => 0.20062817633152008\n",
      "[71] Loss => 0.19924934208393097\n",
      "[72] Loss => 0.19790223240852356\n",
      "[73] Loss => 0.1965876966714859\n",
      "[74] Loss => 0.1953061819076538\n",
      "[75] Loss => 0.19405771791934967\n",
      "[76] Loss => 0.19284184277057648\n",
      "[77] Loss => 0.19165775179862976\n",
      "[78] Loss => 0.19050423800945282\n",
      "[79] Loss => 0.18937991559505463\n",
      "[80] Loss => 0.18828317523002625\n",
      "[81] Loss => 0.1872125267982483\n",
      "[82] Loss => 0.1861664056777954\n",
      "[83] Loss => 0.18514345586299896\n",
      "[84] Loss => 0.18414251506328583\n",
      "[85] Loss => 0.18316252529621124\n",
      "[86] Loss => 0.1822027713060379\n",
      "[87] Loss => 0.18126259744167328\n",
      "[88] Loss => 0.18034160137176514\n",
      "[89] Loss => 0.17943944036960602\n",
      "[90] Loss => 0.17855589091777802\n",
      "[91] Loss => 0.17769068479537964\n",
      "[92] Loss => 0.17684365808963776\n",
      "[93] Loss => 0.17601457238197327\n",
      "[94] Loss => 0.17520307004451752\n",
      "[95] Loss => 0.17440888285636902\n",
      "[96] Loss => 0.17363163828849792\n",
      "[97] Loss => 0.17287084460258484\n",
      "[98] Loss => 0.17212605476379395\n",
      "[99] Loss => 0.17139680683612823\n",
      "[100] Loss => 0.17068257927894592\n",
      "[101] Loss => 0.1699828803539276\n",
      "[102] Loss => 0.1692972630262375\n",
      "[103] Loss => 0.16862522065639496\n",
      "[104] Loss => 0.16796642541885376\n",
      "[105] Loss => 0.16732043027877808\n",
      "[106] Loss => 0.16668690741062164\n",
      "[107] Loss => 0.1660655289888382\n",
      "[108] Loss => 0.16545599699020386\n",
      "[109] Loss => 0.16485802829265594\n",
      "[110] Loss => 0.16427135467529297\n",
      "[111] Loss => 0.16369573771953583\n",
      "[112] Loss => 0.1631309539079666\n",
      "[113] Loss => 0.16257669031620026\n",
      "[114] Loss => 0.16203278303146362\n",
      "[115] Loss => 0.16149894893169403\n",
      "[116] Loss => 0.16097493469715118\n",
      "[117] Loss => 0.16046051681041718\n",
      "[118] Loss => 0.1599554568529129\n",
      "[119] Loss => 0.15945948660373688\n",
      "[120] Loss => 0.15897239744663239\n",
      "[121] Loss => 0.15849395096302032\n",
      "[122] Loss => 0.1580239236354828\n",
      "[123] Loss => 0.15756213665008545\n",
      "[124] Loss => 0.157108336687088\n",
      "[125] Loss => 0.15666238963603973\n",
      "[126] Loss => 0.15622404217720032\n",
      "[127] Loss => 0.15579316020011902\n",
      "[128] Loss => 0.1553695648908615\n",
      "[129] Loss => 0.15495309233665466\n",
      "[130] Loss => 0.15454356372356415\n",
      "[131] Loss => 0.1541408747434616\n",
      "[132] Loss => 0.15374481678009033\n",
      "[133] Loss => 0.15335527062416077\n",
      "[134] Loss => 0.15297210216522217\n",
      "[135] Loss => 0.1525951474905014\n",
      "[136] Loss => 0.15222428739070892\n",
      "[137] Loss => 0.15185938775539398\n",
      "[138] Loss => 0.15150031447410583\n",
      "[139] Loss => 0.15114691853523254\n",
      "[140] Loss => 0.15079912543296814\n",
      "[141] Loss => 0.1504567414522171\n",
      "[142] Loss => 0.15011970698833466\n",
      "[143] Loss => 0.14978788793087006\n",
      "[144] Loss => 0.14946116507053375\n",
      "[145] Loss => 0.14913944900035858\n",
      "[146] Loss => 0.148822620511055\n",
      "[147] Loss => 0.14851057529449463\n",
      "[148] Loss => 0.14820322394371033\n",
      "[149] Loss => 0.14790046215057373\n"
     ]
    }
   ],
   "source": [
    "loss_list = []\n",
    "loss_accuracy = [[], []]\n",
    "for ep in range(EPOCHS):\n",
    "    # 학습\n",
    "    pre_y = model(X_train)\n",
    "    #print(f\"예측값 : {pre_y}\")\n",
    "    \n",
    "    # 분류값 변화\n",
    "    pre_y2 = F.sigmoid(pre_y)\n",
    "    #print(f\"분류값 : {pre_y2}\")\n",
    "        \n",
    "    # 오차 즉 손실 계산\n",
    "    loss = F.binary_cross_entropy(pre_y2, y_train)\n",
    "    loss_list.append(loss.item())\n",
    "    loss_accuracy[0].append(loss.item())\n",
    "    print(f'[{ep}] Loss => {loss}')                \n",
    "    \n",
    "    # W, b 업데이트\n",
    "    optimizer.zero_grad()\n",
    "    loss.backward()  # 손실함수 계산값으로 미분 진행하여 새로운 W, b 계산\n",
    "    optimizer.step()    # 새로운 값으로 W, b 업데이트\n",
    "    \n",
    "    # 정확도 계산 => 예측값을 0과 1로 변환 ==> 정답과 비교\n",
    "    train_accuracy = ((y_train == (pre_y2 >= 0.5)).sum() )/ y_train.shape[0]\n",
    "    loss_accuracy[1].append(train_accuracy)"
   ]
  },
  {
   "cell_type": "code",
   "execution_count": 23,
   "id": "2be0532bcef5813f",
   "metadata": {
    "ExecuteTime": {
     "end_time": "2024-03-14T05:10:51.766038Z",
     "start_time": "2024-03-14T05:10:51.585098Z"
    },
    "collapsed": false
   },
   "outputs": [
    {
     "data": {
      "image/png": "[encoded data removed]",
      "text/plain": [
       "<Figure size 640x480 with 2 Axes>"
      ]
     },
     "metadata": {},
     "output_type": "display_data"
    }
   ],
   "source": [
    "# 손실과 정확도 시각화\n",
    "import matplotlib.pyplot as plt\n",
    "\n",
    "fig, ax1 = plt.subplots()\n",
    "ax1.plot(loss_accuracy[0], label = 'loss', color = 'red')\n",
    "ax2 = ax1.twinx()\n",
    "ax2.plot(loss_accuracy[1], label = 'accuracy')\n",
    "\n",
    "ax1.legend()\n",
    "ax2.legend()\n",
    "plt.xlabel('Epochs')\n",
    "plt.show()"
   ]
  },
  {
   "cell_type": "code",
   "execution_count": null,
   "id": "6bdcf991f47afcca",
   "metadata": {
    "collapsed": false
   },
   "outputs": [],
   "source": []
  },
  {
   "cell_type": "code",
   "execution_count": null,
   "id": "de095b74bdd4e535",
   "metadata": {
    "collapsed": false
   },
   "outputs": [],
   "source": []
  },
  {
   "cell_type": "code",
   "execution_count": null,
   "id": "b6afaaf97406b40",
   "metadata": {
    "collapsed": false
   },
   "outputs": [],
   "source": []
  },
  {
   "cell_type": "markdown",
   "id": "e4df32e6b11a4cfc",
   "metadata": {
    "collapsed": false
   },
   "source": []
  }
 ],
 "metadata": {
  "kernelspec": {
   "display_name": "Python 3",
   "language": "python",
   "name": "python3"
  },
  "language_info": {
   "codemirror_mode": {
    "name": "ipython",
    "version": 3
   },
   "file_extension": ".py",
   "mimetype": "text/x-python",
   "name": "python",
   "nbconvert_exporter": "python",
   "pygments_lexer": "ipython3",
   "version": "3.8.18"
  }
 },
 "nbformat": 4,
 "nbformat_minor": 5
}
