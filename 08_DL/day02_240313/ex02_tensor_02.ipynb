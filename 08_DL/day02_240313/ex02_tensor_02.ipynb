{
 "cells": [
  {
   "cell_type": "markdown",
   "metadata": {},
   "source": [
    "### Tensor 원소/요소 접근 \n",
    "- 인덱싱과 슬라이싱"
   ]
  },
  {
   "cell_type": "code",
   "execution_count": 1,
   "metadata": {},
   "outputs": [],
   "source": [
    "# 모듈 로딩 \n",
    "import torch"
   ]
  },
  {
   "cell_type": "code",
   "execution_count": 2,
   "metadata": {},
   "outputs": [
    {
     "name": "stderr",
     "output_type": "stream",
     "text": [
      "C:\\Users\\KDP-48\\AppData\\Local\\Temp\\ipykernel_40448\\1521202682.py:2: DeprecationWarning: an integer is required (got type float).  Implicit conversion to integers using __int__ is deprecated, and may be removed in a future version of Python.\n",
      "  points=torch.tensor([[4., 2], [5.,3.], [6., 4.]], dtype=torch.int16)\n"
     ]
    },
    {
     "data": {
      "text/plain": [
       "tensor([[4, 2],\n",
       "        [5, 3],\n",
       "        [6, 4]], dtype=torch.int16)"
      ]
     },
     "execution_count": 2,
     "metadata": {},
     "output_type": "execute_result"
    }
   ],
   "source": [
    "# 텐서 생성\n",
    "points=torch.tensor([[4., 2], [5.,3.], [6., 4.]], dtype=torch.int16)\n",
    "points"
   ]
  },
  {
   "cell_type": "code",
   "execution_count": 3,
   "metadata": {},
   "outputs": [
    {
     "name": "stdout",
     "output_type": "stream",
     "text": [
      "tensor(3, dtype=torch.int16)\n"
     ]
    }
   ],
   "source": [
    "# 텐서의 원소 1개 접근\n",
    "# 데이터 3 추출\n",
    "print(points[1,1])"
   ]
  },
  {
   "cell_type": "code",
   "execution_count": 4,
   "metadata": {},
   "outputs": [
    {
     "name": "stdout",
     "output_type": "stream",
     "text": [
      "tensor([[5, 3],\n",
      "        [6, 4]], dtype=torch.int16)\n",
      "tensor(4, dtype=torch.int16)\n",
      "tensor(4, dtype=torch.int16)\n"
     ]
    }
   ],
   "source": [
    "# 데이터 1번 행부터 나머지 모든 행 추출\n",
    "print(points[1:])\n",
    "\n",
    "# 데이터 4 추출\n",
    "print(points[-1, -1])\n",
    "print(points[2, 1])"
   ]
  },
  {
   "cell_type": "markdown",
   "metadata": {},
   "source": [
    "-브로드 캐스팅 연산"
   ]
  },
  {
   "cell_type": "code",
   "execution_count": 5,
   "metadata": {},
   "outputs": [
    {
     "name": "stdout",
     "output_type": "stream",
     "text": [
      "m1.shape => torch.Size([1, 2])\n",
      "m2.shape => torch.Size([1])\n"
     ]
    }
   ],
   "source": [
    "# case2 : 벡터와 행렬\n",
    "m1 = torch.FloatTensor([[1,2]])\n",
    "m2 = torch.FloatTensor([3])\n",
    "print(f'm1.shape => {m1.shape}')\n",
    "print(f'm2.shape => {m2.shape}')"
   ]
  },
  {
   "cell_type": "code",
   "execution_count": 6,
   "metadata": {},
   "outputs": [
    {
     "name": "stdout",
     "output_type": "stream",
     "text": [
      "m3 => torch.Size([1, 2])\n"
     ]
    }
   ],
   "source": [
    "m3 = m1+m2\n",
    "print(f'm3 => {m3.shape}')"
   ]
  },
  {
   "cell_type": "code",
   "execution_count": 7,
   "metadata": {},
   "outputs": [
    {
     "name": "stdout",
     "output_type": "stream",
     "text": [
      "m1.shape => torch.Size([1, 2])\n",
      "m2.shape => torch.Size([2, 1])\n"
     ]
    }
   ],
   "source": [
    "m1 = torch.FloatTensor([[1,2]])\n",
    "m2 = torch.FloatTensor([[3], [4]])\n",
    "print(f'm1.shape => {m1.shape}')\n",
    "print(f'm2.shape => {m2.shape}')"
   ]
  },
  {
   "cell_type": "code",
   "execution_count": 8,
   "metadata": {},
   "outputs": [
    {
     "name": "stdout",
     "output_type": "stream",
     "text": [
      "m3.shape => torch.Size([2, 2])\n",
      "\n",
      "m3 =>\n",
      "tensor([[3., 6.],\n",
      "        [4., 8.]])\n",
      "m4.shape => torch.Size([2, 2])\n",
      "\n",
      "m4 =>\n",
      "tensor([[3., 6.],\n",
      "        [4., 8.]])\n"
     ]
    }
   ],
   "source": [
    "m3 = m1*m2\n",
    "m4 = m1.mul(m2)\n",
    "print(f'm3.shape => {m3.shape}\\n')\n",
    "print(f'm3 =>\\n{m3}')\n",
    "\n",
    "print(f'm4.shape => {m4.shape}\\n')\n",
    "print(f'm4 =>\\n{m4}')"
   ]
  },
  {
   "cell_type": "code",
   "execution_count": 9,
   "metadata": {},
   "outputs": [
    {
     "data": {
      "text/plain": [
       "(tensor([[4., 5.],\n",
       "         [5., 6.]]),\n",
       " tensor([[-2., -1.],\n",
       "         [-3., -2.]]),\n",
       " tensor([[3., 6.],\n",
       "         [4., 8.]]),\n",
       " tensor([[0.3333, 0.6667],\n",
       "         [0.2500, 0.5000]]))"
      ]
     },
     "execution_count": 9,
     "metadata": {},
     "output_type": "execute_result"
    }
   ],
   "source": [
    "# 원소 단위 연산 수행 메서드들 \n",
    "m1.add(m2), m1.sub(m2), m1.mul(m2), m1.div(m2)"
   ]
  },
  {
   "cell_type": "code",
   "execution_count": null,
   "metadata": {},
   "outputs": [],
   "source": []
  },
  {
   "cell_type": "markdown",
   "metadata": {},
   "source": []
  }
 ],
 "metadata": {
  "kernelspec": {
   "display_name": "Torch_py38",
   "language": "python",
   "name": "python3"
  },
  "language_info": {
   "codemirror_mode": {
    "name": "ipython",
    "version": 3
   },
   "file_extension": ".py",
   "mimetype": "text/x-python",
   "name": "python",
   "nbconvert_exporter": "python",
   "pygments_lexer": "ipython3",
   "version": "3.8.18"
  }
 },
 "nbformat": 4,
 "nbformat_minor": 2
}
