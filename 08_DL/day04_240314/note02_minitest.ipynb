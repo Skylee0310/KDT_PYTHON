{
 "cells": [
  {
   "cell_type": "markdown",
   "metadata": {},
   "source": [
    "[1] 모듈 로딩 및 데이터 준비\n",
    "- 모듈 로딩\n",
    "- 데이터 준비\n",
    "- 피처와 타겟 개수 확인\n",
    "- 분류 확인\n",
    "<hr>\n",
    "\n",
    "[2] 데이터 가공 및 전처리\n",
    "- 결측치 / 중복 / 이상치 => 없음\n",
    "- 다중 분류 ▶ 이진 분류 변환 => 타겟 변환\n",
    "- 표준화 => 이미지 동일 크기 및 색상 채널 : 동일 크기(28*28)와 채널(흑백1) \n",
    "- 정규화 => 피처 정규화 / 타겟 정규화\n",
    "<hr>\n",
    "\n",
    "[3] 학습 준비\n",
    "- 텐서화\n",
    "- 데이터셋 준비 : 훈련용, 테스트용\n",
    "- 학습 방법 : 지도 학습 ( 이진 분류 ) => Linear 클래스 + Sigmoid 함수\n",
    "- 최적화 방법 : 경사하강법 기반 => adam, SDG    \n",
    "- 손실 함수 : 이진분류 손실 계산 함수 => binary_cross_entropy\n",
    "<hr>\n",
    "\n",
    "[4] 학습\n",
    "- 반복 횟수만큼 학습 진행. \n",
    "<hr>"
   ]
  },
  {
   "cell_type": "markdown",
   "metadata": {},
   "source": [
    "[1] 모듈 로딩 및 데이터 준비"
   ]
  },
  {
   "cell_type": "code",
   "execution_count": 2,
   "metadata": {},
   "outputs": [],
   "source": [
    "# 모듈 로딩\n",
    "from sklearn.datasets import fetch_openml\n",
    "import pandas as pd\n",
    "import numpy as np\n",
    "\n",
    "import torch\n",
    "import torch.nn as nn               # LinearRegression 기능의 클래스 linear\n",
    "import torch.nn.functional as F     # 손실함수\n",
    "import torch.optim as optim         # 경사하강법 기반의 최적화 관련 모듈"
   ]
  },
  {
   "cell_type": "code",
   "execution_count": 3,
   "metadata": {},
   "outputs": [],
   "source": [
    "# 데이터 준비\n",
    "fashion_db = 'fashion-mnist'\n",
    "\n",
    "fashion_data = fetch_openml(name=fashion_db, parser='auto') \n",
    "# as_frame = True로 설정해도 데이터프레임으로 만들어지지 않을 때도 있다.\n",
    "# 그럴 때는 직접 변환하면 된다."
   ]
  },
  {
   "cell_type": "code",
   "execution_count": 4,
   "metadata": {},
   "outputs": [
    {
     "data": {
      "text/plain": [
       "sklearn.utils._bunch.Bunch"
      ]
     },
     "execution_count": 4,
     "metadata": {},
     "output_type": "execute_result"
    }
   ],
   "source": [
    "type(fashion_data)"
   ]
  },
  {
   "cell_type": "code",
   "execution_count": 5,
   "metadata": {},
   "outputs": [],
   "source": [
    "feature = fashion_data['data']\n",
    "target = fashion_data['target']"
   ]
  },
  {
   "cell_type": "code",
   "execution_count": 6,
   "metadata": {},
   "outputs": [
    {
     "name": "stdout",
     "output_type": "stream",
     "text": [
      "features => (70000, 784), 2D\n",
      "target => (70000,), 1D\n"
     ]
    }
   ],
   "source": [
    "# 피처와 타겟 개수 확인\n",
    "\n",
    "print(f'features => {feature.shape}, {feature.ndim}D') \n",
    "print(f'target => {target.shape}, {target.ndim}D') "
   ]
  },
  {
   "cell_type": "code",
   "execution_count": 7,
   "metadata": {},
   "outputs": [
    {
     "name": "stdout",
     "output_type": "stream",
     "text": [
      "feature => ['pixel1', 'pixel2', 'pixel3', 'pixel4', 'pixel5', 'pixel6', 'pixel7', 'pixel8', 'pixel9', 'pixel10', 'pixel11', 'pixel12', 'pixel13', 'pixel14', 'pixel15', 'pixel16', 'pixel17', 'pixel18', 'pixel19', 'pixel20', 'pixel21', 'pixel22', 'pixel23', 'pixel24', 'pixel25', 'pixel26', 'pixel27', 'pixel28', 'pixel29', 'pixel30', 'pixel31', 'pixel32', 'pixel33', 'pixel34', 'pixel35', 'pixel36', 'pixel37', 'pixel38', 'pixel39', 'pixel40', 'pixel41', 'pixel42', 'pixel43', 'pixel44', 'pixel45', 'pixel46', 'pixel47', 'pixel48', 'pixel49', 'pixel50', 'pixel51', 'pixel52', 'pixel53', 'pixel54', 'pixel55', 'pixel56', 'pixel57', 'pixel58', 'pixel59', 'pixel60', 'pixel61', 'pixel62', 'pixel63', 'pixel64', 'pixel65', 'pixel66', 'pixel67', 'pixel68', 'pixel69', 'pixel70', 'pixel71', 'pixel72', 'pixel73', 'pixel74', 'pixel75', 'pixel76', 'pixel77', 'pixel78', 'pixel79', 'pixel80', 'pixel81', 'pixel82', 'pixel83', 'pixel84', 'pixel85', 'pixel86', 'pixel87', 'pixel88', 'pixel89', 'pixel90', 'pixel91', 'pixel92', 'pixel93', 'pixel94', 'pixel95', 'pixel96', 'pixel97', 'pixel98', 'pixel99', 'pixel100', 'pixel101', 'pixel102', 'pixel103', 'pixel104', 'pixel105', 'pixel106', 'pixel107', 'pixel108', 'pixel109', 'pixel110', 'pixel111', 'pixel112', 'pixel113', 'pixel114', 'pixel115', 'pixel116', 'pixel117', 'pixel118', 'pixel119', 'pixel120', 'pixel121', 'pixel122', 'pixel123', 'pixel124', 'pixel125', 'pixel126', 'pixel127', 'pixel128', 'pixel129', 'pixel130', 'pixel131', 'pixel132', 'pixel133', 'pixel134', 'pixel135', 'pixel136', 'pixel137', 'pixel138', 'pixel139', 'pixel140', 'pixel141', 'pixel142', 'pixel143', 'pixel144', 'pixel145', 'pixel146', 'pixel147', 'pixel148', 'pixel149', 'pixel150', 'pixel151', 'pixel152', 'pixel153', 'pixel154', 'pixel155', 'pixel156', 'pixel157', 'pixel158', 'pixel159', 'pixel160', 'pixel161', 'pixel162', 'pixel163', 'pixel164', 'pixel165', 'pixel166', 'pixel167', 'pixel168', 'pixel169', 'pixel170', 'pixel171', 'pixel172', 'pixel173', 'pixel174', 'pixel175', 'pixel176', 'pixel177', 'pixel178', 'pixel179', 'pixel180', 'pixel181', 'pixel182', 'pixel183', 'pixel184', 'pixel185', 'pixel186', 'pixel187', 'pixel188', 'pixel189', 'pixel190', 'pixel191', 'pixel192', 'pixel193', 'pixel194', 'pixel195', 'pixel196', 'pixel197', 'pixel198', 'pixel199', 'pixel200', 'pixel201', 'pixel202', 'pixel203', 'pixel204', 'pixel205', 'pixel206', 'pixel207', 'pixel208', 'pixel209', 'pixel210', 'pixel211', 'pixel212', 'pixel213', 'pixel214', 'pixel215', 'pixel216', 'pixel217', 'pixel218', 'pixel219', 'pixel220', 'pixel221', 'pixel222', 'pixel223', 'pixel224', 'pixel225', 'pixel226', 'pixel227', 'pixel228', 'pixel229', 'pixel230', 'pixel231', 'pixel232', 'pixel233', 'pixel234', 'pixel235', 'pixel236', 'pixel237', 'pixel238', 'pixel239', 'pixel240', 'pixel241', 'pixel242', 'pixel243', 'pixel244', 'pixel245', 'pixel246', 'pixel247', 'pixel248', 'pixel249', 'pixel250', 'pixel251', 'pixel252', 'pixel253', 'pixel254', 'pixel255', 'pixel256', 'pixel257', 'pixel258', 'pixel259', 'pixel260', 'pixel261', 'pixel262', 'pixel263', 'pixel264', 'pixel265', 'pixel266', 'pixel267', 'pixel268', 'pixel269', 'pixel270', 'pixel271', 'pixel272', 'pixel273', 'pixel274', 'pixel275', 'pixel276', 'pixel277', 'pixel278', 'pixel279', 'pixel280', 'pixel281', 'pixel282', 'pixel283', 'pixel284', 'pixel285', 'pixel286', 'pixel287', 'pixel288', 'pixel289', 'pixel290', 'pixel291', 'pixel292', 'pixel293', 'pixel294', 'pixel295', 'pixel296', 'pixel297', 'pixel298', 'pixel299', 'pixel300', 'pixel301', 'pixel302', 'pixel303', 'pixel304', 'pixel305', 'pixel306', 'pixel307', 'pixel308', 'pixel309', 'pixel310', 'pixel311', 'pixel312', 'pixel313', 'pixel314', 'pixel315', 'pixel316', 'pixel317', 'pixel318', 'pixel319', 'pixel320', 'pixel321', 'pixel322', 'pixel323', 'pixel324', 'pixel325', 'pixel326', 'pixel327', 'pixel328', 'pixel329', 'pixel330', 'pixel331', 'pixel332', 'pixel333', 'pixel334', 'pixel335', 'pixel336', 'pixel337', 'pixel338', 'pixel339', 'pixel340', 'pixel341', 'pixel342', 'pixel343', 'pixel344', 'pixel345', 'pixel346', 'pixel347', 'pixel348', 'pixel349', 'pixel350', 'pixel351', 'pixel352', 'pixel353', 'pixel354', 'pixel355', 'pixel356', 'pixel357', 'pixel358', 'pixel359', 'pixel360', 'pixel361', 'pixel362', 'pixel363', 'pixel364', 'pixel365', 'pixel366', 'pixel367', 'pixel368', 'pixel369', 'pixel370', 'pixel371', 'pixel372', 'pixel373', 'pixel374', 'pixel375', 'pixel376', 'pixel377', 'pixel378', 'pixel379', 'pixel380', 'pixel381', 'pixel382', 'pixel383', 'pixel384', 'pixel385', 'pixel386', 'pixel387', 'pixel388', 'pixel389', 'pixel390', 'pixel391', 'pixel392', 'pixel393', 'pixel394', 'pixel395', 'pixel396', 'pixel397', 'pixel398', 'pixel399', 'pixel400', 'pixel401', 'pixel402', 'pixel403', 'pixel404', 'pixel405', 'pixel406', 'pixel407', 'pixel408', 'pixel409', 'pixel410', 'pixel411', 'pixel412', 'pixel413', 'pixel414', 'pixel415', 'pixel416', 'pixel417', 'pixel418', 'pixel419', 'pixel420', 'pixel421', 'pixel422', 'pixel423', 'pixel424', 'pixel425', 'pixel426', 'pixel427', 'pixel428', 'pixel429', 'pixel430', 'pixel431', 'pixel432', 'pixel433', 'pixel434', 'pixel435', 'pixel436', 'pixel437', 'pixel438', 'pixel439', 'pixel440', 'pixel441', 'pixel442', 'pixel443', 'pixel444', 'pixel445', 'pixel446', 'pixel447', 'pixel448', 'pixel449', 'pixel450', 'pixel451', 'pixel452', 'pixel453', 'pixel454', 'pixel455', 'pixel456', 'pixel457', 'pixel458', 'pixel459', 'pixel460', 'pixel461', 'pixel462', 'pixel463', 'pixel464', 'pixel465', 'pixel466', 'pixel467', 'pixel468', 'pixel469', 'pixel470', 'pixel471', 'pixel472', 'pixel473', 'pixel474', 'pixel475', 'pixel476', 'pixel477', 'pixel478', 'pixel479', 'pixel480', 'pixel481', 'pixel482', 'pixel483', 'pixel484', 'pixel485', 'pixel486', 'pixel487', 'pixel488', 'pixel489', 'pixel490', 'pixel491', 'pixel492', 'pixel493', 'pixel494', 'pixel495', 'pixel496', 'pixel497', 'pixel498', 'pixel499', 'pixel500', 'pixel501', 'pixel502', 'pixel503', 'pixel504', 'pixel505', 'pixel506', 'pixel507', 'pixel508', 'pixel509', 'pixel510', 'pixel511', 'pixel512', 'pixel513', 'pixel514', 'pixel515', 'pixel516', 'pixel517', 'pixel518', 'pixel519', 'pixel520', 'pixel521', 'pixel522', 'pixel523', 'pixel524', 'pixel525', 'pixel526', 'pixel527', 'pixel528', 'pixel529', 'pixel530', 'pixel531', 'pixel532', 'pixel533', 'pixel534', 'pixel535', 'pixel536', 'pixel537', 'pixel538', 'pixel539', 'pixel540', 'pixel541', 'pixel542', 'pixel543', 'pixel544', 'pixel545', 'pixel546', 'pixel547', 'pixel548', 'pixel549', 'pixel550', 'pixel551', 'pixel552', 'pixel553', 'pixel554', 'pixel555', 'pixel556', 'pixel557', 'pixel558', 'pixel559', 'pixel560', 'pixel561', 'pixel562', 'pixel563', 'pixel564', 'pixel565', 'pixel566', 'pixel567', 'pixel568', 'pixel569', 'pixel570', 'pixel571', 'pixel572', 'pixel573', 'pixel574', 'pixel575', 'pixel576', 'pixel577', 'pixel578', 'pixel579', 'pixel580', 'pixel581', 'pixel582', 'pixel583', 'pixel584', 'pixel585', 'pixel586', 'pixel587', 'pixel588', 'pixel589', 'pixel590', 'pixel591', 'pixel592', 'pixel593', 'pixel594', 'pixel595', 'pixel596', 'pixel597', 'pixel598', 'pixel599', 'pixel600', 'pixel601', 'pixel602', 'pixel603', 'pixel604', 'pixel605', 'pixel606', 'pixel607', 'pixel608', 'pixel609', 'pixel610', 'pixel611', 'pixel612', 'pixel613', 'pixel614', 'pixel615', 'pixel616', 'pixel617', 'pixel618', 'pixel619', 'pixel620', 'pixel621', 'pixel622', 'pixel623', 'pixel624', 'pixel625', 'pixel626', 'pixel627', 'pixel628', 'pixel629', 'pixel630', 'pixel631', 'pixel632', 'pixel633', 'pixel634', 'pixel635', 'pixel636', 'pixel637', 'pixel638', 'pixel639', 'pixel640', 'pixel641', 'pixel642', 'pixel643', 'pixel644', 'pixel645', 'pixel646', 'pixel647', 'pixel648', 'pixel649', 'pixel650', 'pixel651', 'pixel652', 'pixel653', 'pixel654', 'pixel655', 'pixel656', 'pixel657', 'pixel658', 'pixel659', 'pixel660', 'pixel661', 'pixel662', 'pixel663', 'pixel664', 'pixel665', 'pixel666', 'pixel667', 'pixel668', 'pixel669', 'pixel670', 'pixel671', 'pixel672', 'pixel673', 'pixel674', 'pixel675', 'pixel676', 'pixel677', 'pixel678', 'pixel679', 'pixel680', 'pixel681', 'pixel682', 'pixel683', 'pixel684', 'pixel685', 'pixel686', 'pixel687', 'pixel688', 'pixel689', 'pixel690', 'pixel691', 'pixel692', 'pixel693', 'pixel694', 'pixel695', 'pixel696', 'pixel697', 'pixel698', 'pixel699', 'pixel700', 'pixel701', 'pixel702', 'pixel703', 'pixel704', 'pixel705', 'pixel706', 'pixel707', 'pixel708', 'pixel709', 'pixel710', 'pixel711', 'pixel712', 'pixel713', 'pixel714', 'pixel715', 'pixel716', 'pixel717', 'pixel718', 'pixel719', 'pixel720', 'pixel721', 'pixel722', 'pixel723', 'pixel724', 'pixel725', 'pixel726', 'pixel727', 'pixel728', 'pixel729', 'pixel730', 'pixel731', 'pixel732', 'pixel733', 'pixel734', 'pixel735', 'pixel736', 'pixel737', 'pixel738', 'pixel739', 'pixel740', 'pixel741', 'pixel742', 'pixel743', 'pixel744', 'pixel745', 'pixel746', 'pixel747', 'pixel748', 'pixel749', 'pixel750', 'pixel751', 'pixel752', 'pixel753', 'pixel754', 'pixel755', 'pixel756', 'pixel757', 'pixel758', 'pixel759', 'pixel760', 'pixel761', 'pixel762', 'pixel763', 'pixel764', 'pixel765', 'pixel766', 'pixel767', 'pixel768', 'pixel769', 'pixel770', 'pixel771', 'pixel772', 'pixel773', 'pixel774', 'pixel775', 'pixel776', 'pixel777', 'pixel778', 'pixel779', 'pixel780', 'pixel781', 'pixel782', 'pixel783', 'pixel784']\n",
      "target => ['class']\n",
      "categories => None\n",
      "CATEGORIES => ['9', '0', '3', '2', '7', '5', '1', '6', '4', '8']\n",
      "Categories (10, object): ['0', '1', '2', '3', ..., '6', '7', '8', '9']\n"
     ]
    }
   ],
   "source": [
    "# 분류 확인\n",
    "print(f'feature => {fashion_data[\"feature_names\"]}')\n",
    "print(f'target => {fashion_data[\"target_names\"]}')\n",
    "print(f'categories => {fashion_data[\"categories\"]}') # None\n",
    "print(f'CATEGORIES => {target.unique()}') "
   ]
  },
  {
   "cell_type": "markdown",
   "metadata": {},
   "source": [
    "[2] 데이터 가공 및 전처리 <hr>"
   ]
  },
  {
   "cell_type": "code",
   "execution_count": 8,
   "metadata": {},
   "outputs": [
    {
     "data": {
      "text/plain": [
       "0        False\n",
       "1         True\n",
       "2         True\n",
       "3        False\n",
       "4         True\n",
       "         ...  \n",
       "69995    False\n",
       "69996    False\n",
       "69997    False\n",
       "69998    False\n",
       "69999    False\n",
       "Name: class, Length: 70000, dtype: bool"
      ]
     },
     "execution_count": 8,
     "metadata": {},
     "output_type": "execute_result"
    }
   ],
   "source": [
    "# [2-1] 다중 분류 ▶ 이진 분류 변환 => 타겟 변환\n",
    "\n",
    "target = (target =='0')\n",
    "\n",
    "target.unique()\n",
    "target"
   ]
  },
  {
   "cell_type": "code",
   "execution_count": 9,
   "metadata": {},
   "outputs": [
    {
     "data": {
      "text/html": [
       "<div>\n",
       "<style scoped>\n",
       "    .dataframe tbody tr th:only-of-type {\n",
       "        vertical-align: middle;\n",
       "    }\n",
       "\n",
       "    .dataframe tbody tr th {\n",
       "        vertical-align: top;\n",
       "    }\n",
       "\n",
       "    .dataframe thead th {\n",
       "        text-align: right;\n",
       "    }\n",
       "</style>\n",
       "<table border=\"1\" class=\"dataframe\">\n",
       "  <thead>\n",
       "    <tr style=\"text-align: right;\">\n",
       "      <th></th>\n",
       "      <th>pixel1</th>\n",
       "      <th>pixel2</th>\n",
       "      <th>pixel3</th>\n",
       "      <th>pixel4</th>\n",
       "      <th>pixel5</th>\n",
       "      <th>pixel6</th>\n",
       "      <th>pixel7</th>\n",
       "      <th>pixel8</th>\n",
       "      <th>pixel9</th>\n",
       "      <th>pixel10</th>\n",
       "      <th>...</th>\n",
       "      <th>pixel775</th>\n",
       "      <th>pixel776</th>\n",
       "      <th>pixel777</th>\n",
       "      <th>pixel778</th>\n",
       "      <th>pixel779</th>\n",
       "      <th>pixel780</th>\n",
       "      <th>pixel781</th>\n",
       "      <th>pixel782</th>\n",
       "      <th>pixel783</th>\n",
       "      <th>pixel784</th>\n",
       "    </tr>\n",
       "  </thead>\n",
       "  <tbody>\n",
       "    <tr>\n",
       "      <th>0</th>\n",
       "      <td>0.0</td>\n",
       "      <td>0.0</td>\n",
       "      <td>0.0</td>\n",
       "      <td>0.0</td>\n",
       "      <td>0.0</td>\n",
       "      <td>0.000000</td>\n",
       "      <td>0.0</td>\n",
       "      <td>0.0</td>\n",
       "      <td>0.0</td>\n",
       "      <td>0.0</td>\n",
       "      <td>...</td>\n",
       "      <td>0.000000</td>\n",
       "      <td>0.000000</td>\n",
       "      <td>0.000000</td>\n",
       "      <td>0.000000</td>\n",
       "      <td>0.0</td>\n",
       "      <td>0.0</td>\n",
       "      <td>0.0</td>\n",
       "      <td>0.0</td>\n",
       "      <td>0.0</td>\n",
       "      <td>0.0</td>\n",
       "    </tr>\n",
       "    <tr>\n",
       "      <th>1</th>\n",
       "      <td>0.0</td>\n",
       "      <td>0.0</td>\n",
       "      <td>0.0</td>\n",
       "      <td>0.0</td>\n",
       "      <td>0.0</td>\n",
       "      <td>0.003922</td>\n",
       "      <td>0.0</td>\n",
       "      <td>0.0</td>\n",
       "      <td>0.0</td>\n",
       "      <td>0.0</td>\n",
       "      <td>...</td>\n",
       "      <td>0.466667</td>\n",
       "      <td>0.447059</td>\n",
       "      <td>0.509804</td>\n",
       "      <td>0.298039</td>\n",
       "      <td>0.0</td>\n",
       "      <td>0.0</td>\n",
       "      <td>0.0</td>\n",
       "      <td>0.0</td>\n",
       "      <td>0.0</td>\n",
       "      <td>0.0</td>\n",
       "    </tr>\n",
       "  </tbody>\n",
       "</table>\n",
       "<p>2 rows × 784 columns</p>\n",
       "</div>"
      ],
      "text/plain": [
       "   pixel1  pixel2  pixel3  pixel4  pixel5    pixel6  pixel7  pixel8  pixel9  \\\n",
       "0     0.0     0.0     0.0     0.0     0.0  0.000000     0.0     0.0     0.0   \n",
       "1     0.0     0.0     0.0     0.0     0.0  0.003922     0.0     0.0     0.0   \n",
       "\n",
       "   pixel10  ...  pixel775  pixel776  pixel777  pixel778  pixel779  pixel780  \\\n",
       "0      0.0  ...  0.000000  0.000000  0.000000  0.000000       0.0       0.0   \n",
       "1      0.0  ...  0.466667  0.447059  0.509804  0.298039       0.0       0.0   \n",
       "\n",
       "   pixel781  pixel782  pixel783  pixel784  \n",
       "0       0.0       0.0       0.0       0.0  \n",
       "1       0.0       0.0       0.0       0.0  \n",
       "\n",
       "[2 rows x 784 columns]"
      ]
     },
     "execution_count": 9,
     "metadata": {},
     "output_type": "execute_result"
    }
   ],
   "source": [
    "# [2-2] 정규화 => 피처  :785개 색상값 즉 0~255 범위 값\n",
    "normFeature=feature/255. # 정수 / 실수 ==> 실수로 형변환하여 나눗셈 실행.\n",
    "normFeature.head(2)"
   ]
  },
  {
   "cell_type": "code",
   "execution_count": 10,
   "metadata": {},
   "outputs": [
    {
     "data": {
      "text/plain": [
       "(0        False\n",
       " 1         True\n",
       " 2         True\n",
       " 3        False\n",
       " 4         True\n",
       "          ...  \n",
       " 69995    False\n",
       " 69996    False\n",
       " 69997    False\n",
       " 69998    False\n",
       " 69999    False\n",
       " Name: class, Length: 70000, dtype: bool,\n",
       " array([False,  True]))"
      ]
     },
     "execution_count": 10,
     "metadata": {},
     "output_type": "execute_result"
    }
   ],
   "source": [
    "# [2-2] 정규화 => 타겟 : One-Hot Encoding으로 변환.\n",
    "pd.get_dummies(target)\n",
    "\n",
    "target, target.unique()"
   ]
  },
  {
   "cell_type": "code",
   "execution_count": 11,
   "metadata": {},
   "outputs": [
    {
     "name": "stdout",
     "output_type": "stream",
     "text": [
      "(70000,)\n"
     ]
    }
   ],
   "source": [
    "from sklearn.preprocessing import OneHotEncoder\n",
    "targetDF = target.to_frame()\n",
    "print(target.shape)"
   ]
  },
  {
   "cell_type": "code",
   "execution_count": 12,
   "metadata": {},
   "outputs": [
    {
     "data": {
      "text/plain": [
       "array([[1., 1., 1., ..., 1., 1., 1.]])"
      ]
     },
     "execution_count": 12,
     "metadata": {},
     "output_type": "execute_result"
    }
   ],
   "source": [
    "# 희소 행렬(sparse matrix) 형식으로 인코딩된 데이터를 원할 경우.\n",
    "# 희소 행렬 : 대부분의 요소가 0으로 채워진 행렬을 의미\n",
    "ohEncoder = OneHotEncoder() # sparse =True =--> 압축시켜서 줌.\n",
    "ohEncoder.fit([target]) # 2차원 데이터\n",
    "ohEncoder.transform([target]).toarray()"
   ]
  },
  {
   "cell_type": "code",
   "execution_count": 13,
   "metadata": {},
   "outputs": [
    {
     "data": {
      "text/plain": [
       "[array([False,  True])]"
      ]
     },
     "execution_count": 13,
     "metadata": {},
     "output_type": "execute_result"
    }
   ],
   "source": [
    "# 밀집 배열(dense array) 형식으로 인코딩된 데이터를 원할 경우.\n",
    "ohEncoder = OneHotEncoder(sparse_output=False) # sparse =True =--> 압축시켜서 줌.\n",
    "ohEncoder.fit(targetDF)\n",
    "ohEncoder.categories_"
   ]
  },
  {
   "cell_type": "code",
   "execution_count": 14,
   "metadata": {},
   "outputs": [
    {
     "data": {
      "text/plain": [
       "((70000, 2), 2)"
      ]
     },
     "execution_count": 14,
     "metadata": {},
     "output_type": "execute_result"
    }
   ],
   "source": [
    "norm_target = ohEncoder.transform(targetDF)\n",
    "norm_target.shape, norm_target.ndim"
   ]
  },
  {
   "cell_type": "code",
   "execution_count": 15,
   "metadata": {},
   "outputs": [
    {
     "name": "stdout",
     "output_type": "stream",
     "text": [
      "train : (60000, 784), 2D\n",
      "test : (10000, 784), 2D\n",
      "ytrain : (60000,), 1D\n",
      "ytest : (10000,), 1D\n"
     ]
    }
   ],
   "source": [
    "# 학습 준비\n",
    "\n",
    "# 데이터셋 준비 : 6만 개 훈련, 1만 개 테스트.\n",
    "limit = 60000\n",
    "train = normFeature.iloc[:limit]\n",
    "test = normFeature.iloc[limit:]\n",
    "ytrain = target.iloc[:limit]\n",
    "ytest = target.iloc[limit:]\n",
    "\n",
    "print(f'train : {train.shape}, {train.ndim}D')\n",
    "print(f'test : {test.shape}, {test.ndim}D')\n",
    "print(f'ytrain : {ytrain.shape}, {ytrain.ndim}D')\n",
    "print(f'ytest : {ytest.shape}, {ytest.ndim}D')"
   ]
  },
  {
   "cell_type": "code",
   "execution_count": 16,
   "metadata": {},
   "outputs": [
    {
     "name": "stdout",
     "output_type": "stream",
     "text": [
      "Xtrn : torch.Size([60000, 784]), 2D\n",
      "Xtst : torch.Size([10000, 784]), 2D\n",
      "ytrn : torch.Size([60000, 1]), 2D\n",
      "ytst : torch.Size([10000, 1]), 2D\n"
     ]
    }
   ],
   "source": [
    "# 텐서로 변환\n",
    "Xtrn = torch.FloatTensor(train.values)\n",
    "Xtst = torch.FloatTensor(test.values)\n",
    "ytrn = torch.FloatTensor(ytrain.values).unsqueeze(dim=1)\n",
    "ytst = torch.FloatTensor(ytest.values).unsqueeze(dim=1)\n",
    "\n",
    "print(f'Xtrn : {Xtrn.shape}, {Xtrn.ndim}D')\n",
    "print(f'Xtst : {Xtst.shape}, {Xtst.ndim}D')\n",
    "print(f'ytrn : {ytrn.shape}, {ytrn.ndim}D')\n",
    "print(f'ytst : {ytst.shape}, {ytst.ndim}D')"
   ]
  },
  {
   "cell_type": "code",
   "execution_count": 17,
   "metadata": {},
   "outputs": [
    {
     "data": {
      "text/plain": [
       "(784, 1)"
      ]
     },
     "execution_count": 17,
     "metadata": {},
     "output_type": "execute_result"
    }
   ],
   "source": [
    "# 학습 인스턴스 생성\n",
    "in_, out_ = Xtrn.shape[1], ytrn.shape[1]\n",
    "in_, out_ # 피처 컬럼수. 출력차원 out은 타겟 컬럼수"
   ]
  },
  {
   "cell_type": "code",
   "execution_count": 18,
   "metadata": {},
   "outputs": [
    {
     "data": {
      "text/plain": [
       "Linear(in_features=784, out_features=1, bias=True)"
      ]
     },
     "execution_count": 18,
     "metadata": {},
     "output_type": "execute_result"
    }
   ],
   "source": [
    "mdl = nn.Linear(in_, out_) # (피처 컬럼수, 타겟의 컬럼 수)\n",
    "# y = wx +b # 몇 개의 피처를 넣어서 몇 개의 결과를 낼 건지 \n",
    "# _를 넣은 이유는 연산자 충돌 일어날까봐..!\n",
    "\n",
    "mdl \n",
    "# 784개를 받아서 1개를 반환 ===> w가 784개 생겨야 함. 파이썬이 알아서 계산해줄 것."
   ]
  },
  {
   "cell_type": "code",
   "execution_count": 19,
   "metadata": {},
   "outputs": [],
   "source": [
    "# 최적화 인스턴스 생성 => 모델에서 사용하는 w와 b 변수들 전달 \n",
    "optimizer=optim.Adam(mdl.parameters()) \n",
    "# PyTorch에서 제공하는 옵티마이저인 Adam을 사용하여 모델의 파라미터를 업데이트"
   ]
  },
  {
   "cell_type": "code",
   "execution_count": 20,
   "metadata": {},
   "outputs": [],
   "source": [
    "# 학습 횟수 => 샘플 처음부터 끝까지 읽는 것(에포크) 기준으로 회수 지정\n",
    "EPOCHS = 150"
   ]
  },
  {
   "cell_type": "code",
   "execution_count": 21,
   "metadata": {},
   "outputs": [
    {
     "data": {
      "text/plain": [
       "torch.Size([60000, 1])"
      ]
     },
     "execution_count": 21,
     "metadata": {},
     "output_type": "execute_result"
    }
   ],
   "source": [
    "ytrn.shape"
   ]
  },
  {
   "cell_type": "code",
   "execution_count": 22,
   "metadata": {},
   "outputs": [],
   "source": [
    "# 학습"
   ]
  },
  {
   "cell_type": "code",
   "execution_count": 23,
   "metadata": {},
   "outputs": [
    {
     "name": "stdout",
     "output_type": "stream",
     "text": [
      "[1] Loss => 0.7540280222892761\n",
      "[2] Loss => 0.6636289358139038\n",
      "[3] Loss => 0.588546633720398\n",
      "[4] Loss => 0.5282079577445984\n",
      "[5] Loss => 0.4812043607234955\n",
      "[6] Loss => 0.4456062614917755\n",
      "[7] Loss => 0.4193081259727478\n",
      "[8] Loss => 0.4002974033355713\n",
      "[9] Loss => 0.3868069052696228\n",
      "[10] Loss => 0.37737056612968445\n",
      "[11] Loss => 0.37081876397132874\n",
      "[12] Loss => 0.36624374985694885\n",
      "[13] Loss => 0.3629560172557831\n",
      "[14] Loss => 0.36044132709503174\n",
      "[15] Loss => 0.3583223819732666\n",
      "[16] Loss => 0.3563280701637268\n",
      "[17] Loss => 0.35426855087280273\n",
      "[18] Loss => 0.3520160913467407\n",
      "[19] Loss => 0.3494899868965149\n",
      "[20] Loss => 0.34664544463157654\n",
      "[21] Loss => 0.3434649705886841\n",
      "[22] Loss => 0.33995166420936584\n",
      "[23] Loss => 0.3361242115497589\n",
      "[24] Loss => 0.33201321959495544\n",
      "[25] Loss => 0.32765793800354004\n",
      "[26] Loss => 0.3231039345264435\n",
      "[27] Loss => 0.31840115785598755\n",
      "[28] Loss => 0.31360217928886414\n",
      "[29] Loss => 0.30876055359840393\n",
      "[30] Loss => 0.3039293885231018\n",
      "[31] Loss => 0.2991601526737213\n",
      "[32] Loss => 0.2945007383823395\n",
      "[33] Loss => 0.289994478225708\n",
      "[34] Loss => 0.2856784164905548\n",
      "[35] Loss => 0.2815820276737213\n",
      "[36] Loss => 0.2777262330055237\n",
      "[37] Loss => 0.2741222083568573\n",
      "[38] Loss => 0.2707711160182953\n",
      "[39] Loss => 0.2676643431186676\n",
      "[40] Loss => 0.26478397846221924\n",
      "[41] Loss => 0.26210445165634155\n",
      "[42] Loss => 0.25959423184394836\n",
      "[43] Loss => 0.25721845030784607\n",
      "[44] Loss => 0.25494149327278137\n",
      "[45] Loss => 0.2527294456958771\n",
      "[46] Loss => 0.2505526840686798\n",
      "[47] Loss => 0.24838727712631226\n",
      "[48] Loss => 0.24621635675430298\n",
      "[49] Loss => 0.2440304011106491\n",
      "[50] Loss => 0.24182672798633575\n",
      "[51] Loss => 0.2396087795495987\n",
      "[52] Loss => 0.23738452792167664\n",
      "[53] Loss => 0.23516513407230377\n",
      "[54] Loss => 0.23296327888965607\n",
      "[55] Loss => 0.2307916283607483\n",
      "[56] Loss => 0.22866176068782806\n",
      "[57] Loss => 0.22658327221870422\n",
      "[58] Loss => 0.22456321120262146\n",
      "[59] Loss => 0.22260595858097076\n",
      "[60] Loss => 0.22071324288845062\n",
      "[61] Loss => 0.21888449788093567\n",
      "[62] Loss => 0.2171172797679901\n",
      "[63] Loss => 0.21540771424770355\n",
      "[64] Loss => 0.21375113725662231\n",
      "[65] Loss => 0.2121424674987793\n",
      "[66] Loss => 0.21057669818401337\n",
      "[67] Loss => 0.20904922485351562\n",
      "[68] Loss => 0.2075560837984085\n",
      "[69] Loss => 0.20609407126903534\n",
      "[70] Loss => 0.2046608030796051\n",
      "[71] Loss => 0.20325465500354767\n",
      "[72] Loss => 0.20187480747699738\n",
      "[73] Loss => 0.20052090287208557\n",
      "[74] Loss => 0.19919317960739136\n",
      "[75] Loss => 0.1978919953107834\n",
      "[76] Loss => 0.1966179758310318\n",
      "[77] Loss => 0.195371612906456\n",
      "[78] Loss => 0.19415339827537537\n",
      "[79] Loss => 0.19296355545520782\n",
      "[80] Loss => 0.19180211424827576\n",
      "[81] Loss => 0.1906687468290329\n",
      "[82] Loss => 0.18956302106380463\n",
      "[83] Loss => 0.18848416209220886\n",
      "[84] Loss => 0.18743127584457397\n",
      "[85] Loss => 0.1864033043384552\n",
      "[86] Loss => 0.18539918959140778\n",
      "[87] Loss => 0.18441778421401978\n",
      "[88] Loss => 0.18345806002616882\n",
      "[89] Loss => 0.18251900374889374\n",
      "[90] Loss => 0.1815997213125229\n",
      "[91] Loss => 0.1806994527578354\n",
      "[92] Loss => 0.17981752753257751\n",
      "[93] Loss => 0.1789533793926239\n",
      "[94] Loss => 0.17810660600662231\n",
      "[95] Loss => 0.17727679014205933\n",
      "[96] Loss => 0.17646360397338867\n",
      "[97] Loss => 0.17566676437854767\n",
      "[98] Loss => 0.17488603293895721\n",
      "[99] Loss => 0.17412111163139343\n",
      "[100] Loss => 0.17337171733379364\n",
      "[101] Loss => 0.17263753712177277\n",
      "[102] Loss => 0.17191825807094574\n",
      "[103] Loss => 0.1712135523557663\n",
      "[104] Loss => 0.17052307724952698\n",
      "[105] Loss => 0.16984638571739197\n",
      "[106] Loss => 0.1691831648349762\n",
      "[107] Loss => 0.16853298246860504\n",
      "[108] Loss => 0.16789549589157104\n",
      "[109] Loss => 0.16727031767368317\n",
      "[110] Loss => 0.16665709018707275\n",
      "[111] Loss => 0.16605550050735474\n",
      "[112] Loss => 0.16546522080898285\n",
      "[113] Loss => 0.1648859679698944\n",
      "[114] Loss => 0.16431739926338196\n",
      "[115] Loss => 0.16375932097434998\n",
      "[116] Loss => 0.16321146488189697\n",
      "[117] Loss => 0.16267356276512146\n",
      "[118] Loss => 0.1621454358100891\n",
      "[119] Loss => 0.16162684559822083\n",
      "[120] Loss => 0.1611175388097763\n",
      "[121] Loss => 0.16061735153198242\n",
      "[122] Loss => 0.16012604534626007\n",
      "[123] Loss => 0.15964342653751373\n",
      "[124] Loss => 0.1591693013906479\n",
      "[125] Loss => 0.15870344638824463\n",
      "[126] Loss => 0.15824569761753082\n",
      "[127] Loss => 0.15779583156108856\n",
      "[128] Loss => 0.15735368430614471\n",
      "[129] Loss => 0.15691904723644257\n",
      "[130] Loss => 0.15649177134037018\n",
      "[131] Loss => 0.15607163310050964\n",
      "[132] Loss => 0.15565849840641022\n",
      "[133] Loss => 0.15525221824645996\n",
      "[134] Loss => 0.15485259890556335\n",
      "[135] Loss => 0.15445953607559204\n",
      "[136] Loss => 0.1540728509426117\n",
      "[137] Loss => 0.15369240939617157\n",
      "[138] Loss => 0.15331806242465973\n",
      "[139] Loss => 0.15294970571994781\n",
      "[140] Loss => 0.15258720517158508\n",
      "[141] Loss => 0.15223045647144318\n",
      "[142] Loss => 0.15187926590442657\n",
      "[143] Loss => 0.1515335589647293\n",
      "[144] Loss => 0.15119323134422302\n",
      "[145] Loss => 0.15085816383361816\n",
      "[146] Loss => 0.150528222322464\n",
      "[147] Loss => 0.15020331740379333\n",
      "[148] Loss => 0.14988335967063904\n",
      "[149] Loss => 0.14956822991371155\n",
      "[150] Loss => 0.1492578089237213\n"
     ]
    }
   ],
   "source": [
    "loss_list = []\n",
    "loss_accuracy = [[], []] # [0]에는 오차가 담기고 [1]에는 훈련 정확도가 입력됨.\n",
    "for ep in range(EPOCHS):\n",
    "    # 학습\n",
    "    pre_y = mdl(Xtrn) \n",
    "    # pre_y = mdl(Xtrn)에서는 실제로 입력 데이터인 Xtrn을 사용하여 예측값을 계산\n",
    "    # print(f\"예측값 : {pre_y}\")\n",
    "    \n",
    "    # 분류값 변화\n",
    "    pre_y2 = F.sigmoid(pre_y)\n",
    "    # 시그모이드 함수는 입력값을 [0, 1] 범위로 변환하는 비선형 함수.\n",
    "    # 이 함수는 주로 이진 분류 문제에서 확률을 계산하기 위해 사용.\n",
    "    #print(f\"분류값 : {pre_y2}\")\n",
    "        \n",
    "    # 오차 즉 손실 계산\n",
    "    loss = F.binary_cross_entropy(pre_y2, ytrn) # (예측값, 정답)\n",
    "    #loss_list.append(loss.item())\n",
    "    loss_accuracy[0].append(loss.item())\n",
    "    print(f'[{ep+1}] Loss => {loss}')\n",
    "    \n",
    "    # W, b 업데이트\n",
    "    optimizer.zero_grad() # 초기화\n",
    "    loss.backward()  # 손실함수 계산값으로 미분 진행하여 새로운 W, b 계산\n",
    "    optimizer.step() # 새로운 값으로 W, b 업데이트\n",
    "    \n",
    "    # 정확도 계산 => 예측값을 0과 1로 변환 ==> 정답과 비교\n",
    "    train_accuracy = ((ytrn == (pre_y2 >= 0.5)).sum() )/ ytrn.shape[0]\n",
    "    # 예측값이 0.5보다 클 때의 정답의 값을 더한 것 / 60000\n",
    "    loss_accuracy[1].append(train_accuracy) # 훈련용 데이터 정확도."
   ]
  },
  {
   "cell_type": "code",
   "execution_count": 28,
   "metadata": {},
   "outputs": [
    {
     "data": {
      "text/plain": [
       "(torch.Size([60000, 1]), torch.Size([60000, 1]), torch.Size([60000, 784]))"
      ]
     },
     "execution_count": 28,
     "metadata": {},
     "output_type": "execute_result"
    }
   ],
   "source": [
    "pre_y.shape, pre_y2.shape, Xtrn.shape"
   ]
  },
  {
   "cell_type": "code",
   "execution_count": 24,
   "metadata": {},
   "outputs": [
    {
     "data": {
      "image/png": "[encoded data removed]",
      "text/plain": [
       "<Figure size 640x480 with 2 Axes>"
      ]
     },
     "metadata": {},
     "output_type": "display_data"
    }
   ],
   "source": [
    "# 손실과 정확도 시각화\n",
    "import matplotlib.pyplot as plt\n",
    "\n",
    "fig, ax1 = plt.subplots() # 큰 그림과 ax1이라는 subplot(1) 형성.\n",
    "ax1.plot(loss_accuracy[0], label = 'loss', color = 'red')\n",
    "ax2 = ax1.twinx() # ax1과 x 축을 공유하는 ax2라는 subplot(2)를 형성.\n",
    "ax2.plot(loss_accuracy[1], label = 'accuracy')\n",
    "\n",
    "ax1.legend()\n",
    "ax2.legend()\n",
    "plt.xlabel('Epochs')\n",
    "plt.show()"
   ]
  },
  {
   "cell_type": "code",
   "execution_count": null,
   "metadata": {},
   "outputs": [],
   "source": []
  }
 ],
 "metadata": {
  "kernelspec": {
   "display_name": "Torch_py38",
   "language": "python",
   "name": "python3"
  },
  "language_info": {
   "codemirror_mode": {
    "name": "ipython",
    "version": 3
   },
   "file_extension": ".py",
   "mimetype": "text/x-python",
   "name": "python",
   "nbconvert_exporter": "python",
   "pygments_lexer": "ipython3",
   "version": "3.8.18"
  }
 },
 "nbformat": 4,
 "nbformat_minor": 2
}
