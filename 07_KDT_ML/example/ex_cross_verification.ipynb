{
 "cells": [
  {
   "cell_type": "markdown",
   "id": "16a1df4d",
   "metadata": {},
   "source": [
    "### 교차 검증\n",
    "\n",
    "- 테스트 데이터에 과대적합(Overfitting) 되는 부분 해결\n",
    "- 부족한 데이터에서 검증 데이터 추출이 어려움\n",
    "- 해결방안\n",
    "    * 기존 데이터를 일정 크기로 균등하게 나눔\n",
    "    * 나눈 데이터가 n개 인 경우 1/n => 검증,  n-1/n => 훈련용 \n",
    "    * 매번 동일한 데이터로 훈련 및 검증하지 않도록 해줌\n",
    "    * 단점) 데이터가 많거나 하는 경우 시간이 오래 걸림"
   ]
  },
  {
   "cell_type": "markdown",
   "id": "283943c0",
   "metadata": {},
   "source": [
    "### 교차검증"
   ]
  },
  {
   "cell_type": "markdown",
   "id": "9ddb92b4",
   "metadata": {},
   "source": [
    "#### [1] 데이터 준비"
   ]
  },
  {
   "cell_type": "code",
   "execution_count": 15,
   "id": "1aee5efe",
   "metadata": {},
   "outputs": [],
   "source": [
    "import pandas as pd\n",
    "import numpy as np\n",
    "from sklearn.model_selection import train_test_split\n",
    "from sklearn.model_selection import cross_validate\n",
    "from sklearn.model_selection import KFold, StratifiedKFold\n",
    "from sklearn.linear_model import LinearRegression"
   ]
  },
  {
   "cell_type": "code",
   "execution_count": 16,
   "id": "224daed3",
   "metadata": {},
   "outputs": [],
   "source": [
    "filename='../../data/iris.csv'"
   ]
  },
  {
   "cell_type": "code",
   "execution_count": 17,
   "id": "c588ea8e",
   "metadata": {},
   "outputs": [],
   "source": [
    "irisDF=pd.read_csv(filename)"
   ]
  },
  {
   "cell_type": "markdown",
   "id": "9dbe237a",
   "metadata": {},
   "source": [
    "### [2] 데이터 확인"
   ]
  },
  {
   "cell_type": "code",
   "execution_count": 18,
   "id": "0ec7da54",
   "metadata": {},
   "outputs": [
    {
     "name": "stdout",
     "output_type": "stream",
     "text": [
      "<class 'pandas.core.frame.DataFrame'>\n",
      "RangeIndex: 150 entries, 0 to 149\n",
      "Data columns (total 5 columns):\n",
      " #   Column        Non-Null Count  Dtype  \n",
      "---  ------        --------------  -----  \n",
      " 0   sepal.length  150 non-null    float64\n",
      " 1   sepal.width   150 non-null    float64\n",
      " 2   petal.length  150 non-null    float64\n",
      " 3   petal.width   150 non-null    float64\n",
      " 4   variety       150 non-null    object \n",
      "dtypes: float64(4), object(1)\n",
      "memory usage: 6.0+ KB\n"
     ]
    }
   ],
   "source": [
    "irisDF.info()"
   ]
  },
  {
   "cell_type": "code",
   "execution_count": 19,
   "id": "1a122226",
   "metadata": {},
   "outputs": [
    {
     "data": {
      "text/html": [
       "<div>\n",
       "<style scoped>\n",
       "    .dataframe tbody tr th:only-of-type {\n",
       "        vertical-align: middle;\n",
       "    }\n",
       "\n",
       "    .dataframe tbody tr th {\n",
       "        vertical-align: top;\n",
       "    }\n",
       "\n",
       "    .dataframe thead th {\n",
       "        text-align: right;\n",
       "    }\n",
       "</style>\n",
       "<table border=\"1\" class=\"dataframe\">\n",
       "  <thead>\n",
       "    <tr style=\"text-align: right;\">\n",
       "      <th></th>\n",
       "      <th>sepal.length</th>\n",
       "      <th>sepal.width</th>\n",
       "      <th>petal.length</th>\n",
       "      <th>petal.width</th>\n",
       "    </tr>\n",
       "  </thead>\n",
       "  <tbody>\n",
       "    <tr>\n",
       "      <th>count</th>\n",
       "      <td>150.000000</td>\n",
       "      <td>150.000000</td>\n",
       "      <td>150.000000</td>\n",
       "      <td>150.000000</td>\n",
       "    </tr>\n",
       "    <tr>\n",
       "      <th>mean</th>\n",
       "      <td>5.843333</td>\n",
       "      <td>3.057333</td>\n",
       "      <td>3.758000</td>\n",
       "      <td>1.199333</td>\n",
       "    </tr>\n",
       "    <tr>\n",
       "      <th>std</th>\n",
       "      <td>0.828066</td>\n",
       "      <td>0.435866</td>\n",
       "      <td>1.765298</td>\n",
       "      <td>0.762238</td>\n",
       "    </tr>\n",
       "    <tr>\n",
       "      <th>min</th>\n",
       "      <td>4.300000</td>\n",
       "      <td>2.000000</td>\n",
       "      <td>1.000000</td>\n",
       "      <td>0.100000</td>\n",
       "    </tr>\n",
       "    <tr>\n",
       "      <th>25%</th>\n",
       "      <td>5.100000</td>\n",
       "      <td>2.800000</td>\n",
       "      <td>1.600000</td>\n",
       "      <td>0.300000</td>\n",
       "    </tr>\n",
       "    <tr>\n",
       "      <th>50%</th>\n",
       "      <td>5.800000</td>\n",
       "      <td>3.000000</td>\n",
       "      <td>4.350000</td>\n",
       "      <td>1.300000</td>\n",
       "    </tr>\n",
       "    <tr>\n",
       "      <th>75%</th>\n",
       "      <td>6.400000</td>\n",
       "      <td>3.300000</td>\n",
       "      <td>5.100000</td>\n",
       "      <td>1.800000</td>\n",
       "    </tr>\n",
       "    <tr>\n",
       "      <th>max</th>\n",
       "      <td>7.900000</td>\n",
       "      <td>4.400000</td>\n",
       "      <td>6.900000</td>\n",
       "      <td>2.500000</td>\n",
       "    </tr>\n",
       "  </tbody>\n",
       "</table>\n",
       "</div>"
      ],
      "text/plain": [
       "       sepal.length  sepal.width  petal.length  petal.width\n",
       "count    150.000000   150.000000    150.000000   150.000000\n",
       "mean       5.843333     3.057333      3.758000     1.199333\n",
       "std        0.828066     0.435866      1.765298     0.762238\n",
       "min        4.300000     2.000000      1.000000     0.100000\n",
       "25%        5.100000     2.800000      1.600000     0.300000\n",
       "50%        5.800000     3.000000      4.350000     1.300000\n",
       "75%        6.400000     3.300000      5.100000     1.800000\n",
       "max        7.900000     4.400000      6.900000     2.500000"
      ]
     },
     "execution_count": 19,
     "metadata": {},
     "output_type": "execute_result"
    }
   ],
   "source": [
    "irisDF.describe()"
   ]
  },
  {
   "cell_type": "markdown",
   "id": "f1de4f1c",
   "metadata": {},
   "source": [
    "### [3] 데이터 가공"
   ]
  },
  {
   "cell_type": "code",
   "execution_count": 20,
   "id": "c2c5406c",
   "metadata": {},
   "outputs": [
    {
     "data": {
      "text/plain": [
       "Index(['sepal.length', 'sepal.width', 'petal.length', 'petal.width',\n",
       "       'variety'],\n",
       "      dtype='object')"
      ]
     },
     "execution_count": 20,
     "metadata": {},
     "output_type": "execute_result"
    }
   ],
   "source": [
    "# [3-1]petal.length, petal.width 준비 => 특성 데이터와 타겟 데이터 준비 \n",
    "irisDF.columns"
   ]
  },
  {
   "cell_type": "code",
   "execution_count": 21,
   "id": "bce4d2bd",
   "metadata": {},
   "outputs": [],
   "source": [
    "data=irisDF['petal.width']\n",
    "target=irisDF['petal.length']"
   ]
  },
  {
   "cell_type": "code",
   "execution_count": 22,
   "id": "c6f05fc6",
   "metadata": {},
   "outputs": [
    {
     "data": {
      "text/plain": [
       "<matplotlib.collections.PathCollection at 0x1a21b35e790>"
      ]
     },
     "execution_count": 22,
     "metadata": {},
     "output_type": "execute_result"
    },
    {
     "data": {
      "image/png": "[encoded data removed]",
      "text/plain": [
       "<Figure size 640x480 with 1 Axes>"
      ]
     },
     "metadata": {},
     "output_type": "display_data"
    }
   ],
   "source": [
    "import matplotlib.pyplot as plt\n",
    "plt.scatter(data, target)"
   ]
  },
  {
   "cell_type": "code",
   "execution_count": 23,
   "id": "3470ca6a",
   "metadata": {},
   "outputs": [],
   "source": [
    "# [3-2] 훈련용과 테스트용 데이터 분리\n",
    "train_X, test_X, train_y, test_y = train_test_split(data, target, \n",
    "                                                    random_state=10,\n",
    "                                                    stratify=irisDF.variety)"
   ]
  },
  {
   "cell_type": "code",
   "execution_count": 24,
   "id": "a88ef3ee",
   "metadata": {},
   "outputs": [],
   "source": [
    "train_X = train_X.to_frame()\n",
    "test_X = test_X.to_frame()"
   ]
  },
  {
   "cell_type": "code",
   "execution_count": 25,
   "id": "13433670",
   "metadata": {},
   "outputs": [
    {
     "data": {
      "text/plain": [
       "((112, 1), (112,), pandas.core.frame.DataFrame)"
      ]
     },
     "execution_count": 25,
     "metadata": {},
     "output_type": "execute_result"
    }
   ],
   "source": [
    "train_X.shape, train_y.shape, type(train_X)"
   ]
  },
  {
   "cell_type": "code",
   "execution_count": 26,
   "id": "daf33d80",
   "metadata": {},
   "outputs": [
    {
     "data": {
      "text/plain": [
       "((38, 1), (38,), pandas.core.frame.DataFrame)"
      ]
     },
     "execution_count": 26,
     "metadata": {},
     "output_type": "execute_result"
    }
   ],
   "source": [
    "test_X.shape, test_y.shape, type(test_X)"
   ]
  },
  {
   "cell_type": "markdown",
   "id": "09fcc845",
   "metadata": {},
   "source": [
    "### [4]  교차검증 학습 "
   ]
  },
  {
   "cell_type": "code",
   "execution_count": 28,
   "id": "54213e59",
   "metadata": {},
   "outputs": [],
   "source": [
    "from sklearn.linear_model import Ridge, Lasso"
   ]
  },
  {
   "cell_type": "code",
   "execution_count": 30,
   "id": "9164252a",
   "metadata": {},
   "outputs": [],
   "source": [
    "# [4-1] 학습 모델 객체 생성\n",
    "lr=Ridge()"
   ]
  },
  {
   "cell_type": "code",
   "execution_count": 31,
   "id": "e0753f72",
   "metadata": {},
   "outputs": [],
   "source": [
    "# [4-2] 교차검증 진행\n",
    "result=cross_validate(lr, \n",
    "                      train_X, train_y, \n",
    "                      return_estimator=True, \n",
    "                      return_train_score=True)"
   ]
  },
  {
   "cell_type": "code",
   "execution_count": 32,
   "id": "4fa7a03b",
   "metadata": {},
   "outputs": [
    {
     "name": "stdout",
     "output_type": "stream",
     "text": [
      "fit_time =>  [0.00916696 0.0013895  0.00099635 0.00099277 0.00100732]\n",
      "score_time =>  [0.0010047  0.00101113 0.00099778 0.00100112 0.00099206]\n",
      "estimator =>  [Ridge(), Ridge(), Ridge(), Ridge(), Ridge()]\n",
      "test_score =>  [0.85818042 0.963229   0.94553111 0.88966653 0.93487627]\n",
      "train_score =>  [0.93969143 0.91522636 0.92154555 0.92939379 0.92274277]\n"
     ]
    }
   ],
   "source": [
    "for key, item in result.items():\n",
    "    print(key, \"=> \", item)"
   ]
  },
  {
   "cell_type": "code",
   "execution_count": 33,
   "id": "a3ed984c",
   "metadata": {},
   "outputs": [],
   "source": [
    "# [4-2] 교차검증 진행\n",
    "result2=cross_validate(lr,\n",
    "                       train_X, \n",
    "                       train_y, \n",
    "                       return_estimator=True, \n",
    "                       return_train_score=True,\n",
    "                       cv=10)"
   ]
  },
  {
   "cell_type": "code",
   "execution_count": 34,
   "id": "e0fbc1e2",
   "metadata": {},
   "outputs": [
    {
     "name": "stdout",
     "output_type": "stream",
     "text": [
      "fit_time =>  [0.00199795 0.00100112 0.00099158 0.00099969 0.00101018 0.00100565\n",
      " 0.00099993 0.0009985  0.         0.0010035 ]\n",
      "score_time =>  [0.         0.         0.00099921 0.         0.00099349 0.\n",
      " 0.00099564 0.00099945 0.00099969 0.00099707]\n",
      "estimator =>  [Ridge(), Ridge(), Ridge(), Ridge(), Ridge(), Ridge(), Ridge(), Ridge(), Ridge(), Ridge()]\n",
      "test_score =>  [0.81198033 0.88807172 0.95315022 0.97623344 0.95896553 0.91124556\n",
      " 0.88886822 0.90725697 0.95410475 0.91279231]\n",
      "train_score =>  [0.93511922 0.92910082 0.92219252 0.92018352 0.92109077 0.92645471\n",
      " 0.9286082  0.92569518 0.92139584 0.9275195 ]\n"
     ]
    }
   ],
   "source": [
    "for key, item in result2.items():\n",
    "    print(key, \"=> \", item)"
   ]
  },
  {
   "cell_type": "markdown",
   "id": "812c9432",
   "metadata": {},
   "source": [
    "- CV Splitter 객체 생성 후 적용"
   ]
  },
  {
   "cell_type": "code",
   "execution_count": 35,
   "id": "df4f2b87",
   "metadata": {},
   "outputs": [],
   "source": [
    "# 커스텀 CV 분리객체 생성 사용 \n",
    "skFold=KFold(n_splits=10, shuffle=True, random_state=11)\n",
    "\n",
    "skFold2=StratifiedKFold(n_splits=10, shuffle=True, random_state=11)"
   ]
  },
  {
   "cell_type": "code",
   "execution_count": 36,
   "id": "2c518fd0",
   "metadata": {},
   "outputs": [],
   "source": [
    "# [4-2] 교차검증 진행\n",
    "result3=cross_validate(lr,\n",
    "                       train_X, \n",
    "                       train_y, \n",
    "                       return_estimator=True, \n",
    "                       return_train_score=True, \n",
    "                       cv=skFold)"
   ]
  },
  {
   "cell_type": "code",
   "execution_count": 37,
   "id": "c0808566",
   "metadata": {},
   "outputs": [
    {
     "name": "stdout",
     "output_type": "stream",
     "text": [
      "fit_time =>  [0.00299931 0.00100064 0.0010004  0.00100088 0.00099945 0.00103998\n",
      " 0.00099969 0.00099969 0.0010004  0.0010016 ]\n",
      "score_time =>  [0.00100064 0.00099897 0.00099945 0.00141025 0.         0.00100017\n",
      " 0.0010066  0.         0.00099993 0.        ]\n",
      "estimator =>  [Ridge(), Ridge(), Ridge(), Ridge(), Ridge(), Ridge(), Ridge(), Ridge(), Ridge(), Ridge()]\n",
      "test_score =>  [0.9276309  0.9396455  0.85191393 0.9452524  0.93689758 0.95247754\n",
      " 0.89486805 0.30102322 0.96658585 0.92038613]\n",
      "train_score =>  [0.9247107  0.92408802 0.93228359 0.92279617 0.92454173 0.92186877\n",
      " 0.92792314 0.93453241 0.91837595 0.92564818]\n"
     ]
    }
   ],
   "source": [
    "for key, item in result3.items():\n",
    "    print(key, \"=> \", item)"
   ]
  },
  {
   "cell_type": "code",
   "execution_count": null,
   "id": "3c285d06",
   "metadata": {},
   "outputs": [],
   "source": []
  }
 ],
 "metadata": {
  "kernelspec": {
   "display_name": "ai_book",
   "language": "python",
   "name": "ai_book"
  },
  "language_info": {
   "codemirror_mode": {
    "name": "ipython",
    "version": 3
   },
   "file_extension": ".py",
   "mimetype": "text/x-python",
   "name": "python",
   "nbconvert_exporter": "python",
   "pygments_lexer": "ipython3",
   "version": "3.11.4"
  }
 },
 "nbformat": 4,
 "nbformat_minor": 5
}
