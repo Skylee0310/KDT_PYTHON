{
 "cells": [
  {
   "cell_type": "markdown",
   "id": "6e751461-586a-4913-8fa2-4388d158f445",
   "metadata": {},
   "source": [
    "### [ 데이터 필터링 ] \n",
    "- 원하는 데이터를 추출하기 위해서 사용하는 방법\n",
    "- 원하는 데이터를 걸러낸다.\n",
    "- 다양한 조건 검사 진행. => 비교검사 : 같다 ==, 같지 않다 !=, 크다 >, 크거나 같다 >=, 작다 <, 작거나 같다<="
   ]
  },
  {
   "cell_type": "markdown",
   "id": "19638d29-c64a-4271-a339-e56164b08b00",
   "metadata": {},
   "source": [
    "(1) 모듈로딩<hr>"
   ]
  },
  {
   "cell_type": "code",
   "execution_count": 165,
   "id": "74d6f998-7934-487b-bd5d-e72fec3be65c",
   "metadata": {},
   "outputs": [],
   "source": [
    "import pandas as pd"
   ]
  },
  {
   "cell_type": "code",
   "execution_count": 166,
   "id": "a2677800-6d55-4112-8f53-a81ea0fed321",
   "metadata": {},
   "outputs": [],
   "source": [
    "import numpy as np"
   ]
  },
  {
   "cell_type": "markdown",
   "id": "11d147fc-9512-4da5-9021-04c0ee6d3857",
   "metadata": {},
   "source": [
    "(2) 데이터 준비 <hr>"
   ]
  },
  {
   "cell_type": "code",
   "execution_count": 167,
   "id": "f14f3fa7-5236-4c28-b8c5-6ad1e6bc709b",
   "metadata": {},
   "outputs": [],
   "source": [
    "file = '../DATA/employees.csv'"
   ]
  },
  {
   "cell_type": "markdown",
   "id": "5578a9c1-4422-41e3-a46b-6eefdec4301a",
   "metadata": {},
   "source": [
    "(3) 데이터 저장 <hr>"
   ]
  },
  {
   "cell_type": "code",
   "execution_count": 168,
   "id": "796221d1-c384-4eef-a9e6-842d51b6728e",
   "metadata": {},
   "outputs": [],
   "source": [
    "empDF = pd.read_csv(file)"
   ]
  },
  {
   "cell_type": "markdown",
   "id": "42d1b108-39b3-48a4-b886-27ceba6d70d4",
   "metadata": {},
   "source": [
    "(4) 데이터 확인 <hr>"
   ]
  },
  {
   "cell_type": "code",
   "execution_count": 169,
   "id": "0cb10776-9ffc-4116-8048-f9c2a4db042e",
   "metadata": {},
   "outputs": [
    {
     "name": "stdout",
     "output_type": "stream",
     "text": [
      "<class 'pandas.core.frame.DataFrame'>\n",
      "RangeIndex: 1001 entries, 0 to 1000\n",
      "Data columns (total 6 columns):\n",
      " #   Column      Non-Null Count  Dtype  \n",
      "---  ------      --------------  -----  \n",
      " 0   First Name  933 non-null    object \n",
      " 1   Gender      854 non-null    object \n",
      " 2   Start Date  999 non-null    object \n",
      " 3   Salary      999 non-null    float64\n",
      " 4   Mgmt        933 non-null    object \n",
      " 5   Team        957 non-null    object \n",
      "dtypes: float64(1), object(5)\n",
      "memory usage: 47.0+ KB\n"
     ]
    }
   ],
   "source": [
    "empDF.info()"
   ]
  },
  {
   "cell_type": "markdown",
   "id": "2b1edbea-6039-425c-8b6d-2fbfd3cad9da",
   "metadata": {},
   "source": [
    "(5) 데이터 다루기"
   ]
  },
  {
   "cell_type": "code",
   "execution_count": 170,
   "id": "3c395eaf-80d2-4f5b-bc5d-a2f099ea1643",
   "metadata": {},
   "outputs": [
    {
     "data": {
      "text/plain": [
       "(True, False)"
      ]
     },
     "execution_count": 170,
     "metadata": {},
     "output_type": "execute_result"
    }
   ],
   "source": [
    "'Happy' == 'Happy', 'Happy' == 'happy'"
   ]
  },
  {
   "cell_type": "markdown",
   "id": "aa85a542-8922-4bb9-94ce-ad770b264560",
   "metadata": {},
   "source": [
    "- [문제] 데이터에서 이름이 Maria인 데이터만 추출."
   ]
  },
  {
   "cell_type": "code",
   "execution_count": 171,
   "id": "07602680-835f-4715-bb76-d0e2b92db433",
   "metadata": {},
   "outputs": [
    {
     "data": {
      "text/html": [
       "<div>\n",
       "<style scoped>\n",
       "    .dataframe tbody tr th:only-of-type {\n",
       "        vertical-align: middle;\n",
       "    }\n",
       "\n",
       "    .dataframe tbody tr th {\n",
       "        vertical-align: top;\n",
       "    }\n",
       "\n",
       "    .dataframe thead th {\n",
       "        text-align: right;\n",
       "    }\n",
       "</style>\n",
       "<table border=\"1\" class=\"dataframe\">\n",
       "  <thead>\n",
       "    <tr style=\"text-align: right;\">\n",
       "      <th></th>\n",
       "      <th>First Name</th>\n",
       "      <th>Gender</th>\n",
       "      <th>Start Date</th>\n",
       "      <th>Salary</th>\n",
       "      <th>Mgmt</th>\n",
       "      <th>Team</th>\n",
       "    </tr>\n",
       "  </thead>\n",
       "  <tbody>\n",
       "    <tr>\n",
       "      <th>0</th>\n",
       "      <td>Douglas</td>\n",
       "      <td>Male</td>\n",
       "      <td>8/6/93</td>\n",
       "      <td>NaN</td>\n",
       "      <td>True</td>\n",
       "      <td>Marketing</td>\n",
       "    </tr>\n",
       "    <tr>\n",
       "      <th>1</th>\n",
       "      <td>Thomas</td>\n",
       "      <td>Male</td>\n",
       "      <td>3/31/96</td>\n",
       "      <td>61933.0</td>\n",
       "      <td>True</td>\n",
       "      <td>NaN</td>\n",
       "    </tr>\n",
       "    <tr>\n",
       "      <th>2</th>\n",
       "      <td>Maria</td>\n",
       "      <td>Female</td>\n",
       "      <td>NaN</td>\n",
       "      <td>130590.0</td>\n",
       "      <td>False</td>\n",
       "      <td>Finance</td>\n",
       "    </tr>\n",
       "    <tr>\n",
       "      <th>3</th>\n",
       "      <td>Jerry</td>\n",
       "      <td>NaN</td>\n",
       "      <td>3/4/05</td>\n",
       "      <td>138705.0</td>\n",
       "      <td>True</td>\n",
       "      <td>Finance</td>\n",
       "    </tr>\n",
       "    <tr>\n",
       "      <th>4</th>\n",
       "      <td>Larry</td>\n",
       "      <td>Male</td>\n",
       "      <td>1/24/98</td>\n",
       "      <td>101004.0</td>\n",
       "      <td>True</td>\n",
       "      <td>IT</td>\n",
       "    </tr>\n",
       "    <tr>\n",
       "      <th>...</th>\n",
       "      <td>...</td>\n",
       "      <td>...</td>\n",
       "      <td>...</td>\n",
       "      <td>...</td>\n",
       "      <td>...</td>\n",
       "      <td>...</td>\n",
       "    </tr>\n",
       "    <tr>\n",
       "      <th>996</th>\n",
       "      <td>Phillip</td>\n",
       "      <td>Male</td>\n",
       "      <td>1/31/84</td>\n",
       "      <td>42392.0</td>\n",
       "      <td>False</td>\n",
       "      <td>Finance</td>\n",
       "    </tr>\n",
       "    <tr>\n",
       "      <th>997</th>\n",
       "      <td>Russell</td>\n",
       "      <td>Male</td>\n",
       "      <td>5/20/13</td>\n",
       "      <td>96914.0</td>\n",
       "      <td>False</td>\n",
       "      <td>Product</td>\n",
       "    </tr>\n",
       "    <tr>\n",
       "      <th>998</th>\n",
       "      <td>Larry</td>\n",
       "      <td>Male</td>\n",
       "      <td>4/20/13</td>\n",
       "      <td>60500.0</td>\n",
       "      <td>False</td>\n",
       "      <td>Business Dev</td>\n",
       "    </tr>\n",
       "    <tr>\n",
       "      <th>999</th>\n",
       "      <td>Albert</td>\n",
       "      <td>Male</td>\n",
       "      <td>5/15/12</td>\n",
       "      <td>129949.0</td>\n",
       "      <td>True</td>\n",
       "      <td>Sales</td>\n",
       "    </tr>\n",
       "    <tr>\n",
       "      <th>1000</th>\n",
       "      <td>NaN</td>\n",
       "      <td>NaN</td>\n",
       "      <td>NaN</td>\n",
       "      <td>NaN</td>\n",
       "      <td>NaN</td>\n",
       "      <td>NaN</td>\n",
       "    </tr>\n",
       "  </tbody>\n",
       "</table>\n",
       "<p>1001 rows × 6 columns</p>\n",
       "</div>"
      ],
      "text/plain": [
       "     First Name  Gender Start Date    Salary   Mgmt          Team\n",
       "0       Douglas    Male     8/6/93       NaN   True     Marketing\n",
       "1        Thomas    Male    3/31/96   61933.0   True           NaN\n",
       "2         Maria  Female        NaN  130590.0  False       Finance\n",
       "3         Jerry     NaN     3/4/05  138705.0   True       Finance\n",
       "4         Larry    Male    1/24/98  101004.0   True            IT\n",
       "...         ...     ...        ...       ...    ...           ...\n",
       "996     Phillip    Male    1/31/84   42392.0  False       Finance\n",
       "997     Russell    Male    5/20/13   96914.0  False       Product\n",
       "998       Larry    Male    4/20/13   60500.0  False  Business Dev\n",
       "999      Albert    Male    5/15/12  129949.0   True         Sales\n",
       "1000        NaN     NaN        NaN       NaN    NaN           NaN\n",
       "\n",
       "[1001 rows x 6 columns]"
      ]
     },
     "execution_count": 171,
     "metadata": {},
     "output_type": "execute_result"
    }
   ],
   "source": [
    "empDF"
   ]
  },
  {
   "cell_type": "markdown",
   "id": "5c5f351e-44f3-4eba-9cb0-9d246954ed9f",
   "metadata": {},
   "source": [
    "- bool 값으로 구성된 데이터 ==> 불린 인덱싱(Boolean Indexing)"
   ]
  },
  {
   "cell_type": "code",
   "execution_count": 172,
   "id": "c9f0cebf-0f2e-4e64-ae3a-cbe3958b9d1b",
   "metadata": {},
   "outputs": [
    {
     "data": {
      "text/plain": [
       "pandas.core.series.Series"
      ]
     },
     "execution_count": 172,
     "metadata": {},
     "output_type": "execute_result"
    }
   ],
   "source": [
    "mariaMask = (empDF['First Name'] == 'Maria')\n",
    "type(mariaMask) #type Series"
   ]
  },
  {
   "cell_type": "code",
   "execution_count": 173,
   "id": "6a9f5b4b-701d-4aad-b046-fc7cd7dbd3ba",
   "metadata": {},
   "outputs": [
    {
     "data": {
      "text/plain": [
       "6"
      ]
     },
     "execution_count": 173,
     "metadata": {},
     "output_type": "execute_result"
    }
   ],
   "source": [
    "mariaMask.sum()\n",
    "(empDF['First Name'] == 'Maria').sum() #마리아를 first name 값으로 쓰는 행의 개수"
   ]
  },
  {
   "cell_type": "code",
   "execution_count": 174,
   "id": "d8717f2b-742d-4b42-862b-9971b8744a01",
   "metadata": {},
   "outputs": [],
   "source": [
    "#empDF = pd.read_csv(file, index_col = 'First Name')"
   ]
  },
  {
   "cell_type": "code",
   "execution_count": 175,
   "id": "28aa7d91-b426-4372-b5cd-eae18f73f385",
   "metadata": {},
   "outputs": [
    {
     "data": {
      "text/html": [
       "<div>\n",
       "<style scoped>\n",
       "    .dataframe tbody tr th:only-of-type {\n",
       "        vertical-align: middle;\n",
       "    }\n",
       "\n",
       "    .dataframe tbody tr th {\n",
       "        vertical-align: top;\n",
       "    }\n",
       "\n",
       "    .dataframe thead th {\n",
       "        text-align: right;\n",
       "    }\n",
       "</style>\n",
       "<table border=\"1\" class=\"dataframe\">\n",
       "  <thead>\n",
       "    <tr style=\"text-align: right;\">\n",
       "      <th></th>\n",
       "      <th>First Name</th>\n",
       "      <th>Gender</th>\n",
       "      <th>Start Date</th>\n",
       "      <th>Salary</th>\n",
       "      <th>Mgmt</th>\n",
       "      <th>Team</th>\n",
       "    </tr>\n",
       "  </thead>\n",
       "  <tbody>\n",
       "    <tr>\n",
       "      <th>2</th>\n",
       "      <td>Maria</td>\n",
       "      <td>Female</td>\n",
       "      <td>NaN</td>\n",
       "      <td>130590.0</td>\n",
       "      <td>False</td>\n",
       "      <td>Finance</td>\n",
       "    </tr>\n",
       "    <tr>\n",
       "      <th>198</th>\n",
       "      <td>Maria</td>\n",
       "      <td>Female</td>\n",
       "      <td>12/27/90</td>\n",
       "      <td>36067.0</td>\n",
       "      <td>True</td>\n",
       "      <td>Product</td>\n",
       "    </tr>\n",
       "    <tr>\n",
       "      <th>815</th>\n",
       "      <td>Maria</td>\n",
       "      <td>NaN</td>\n",
       "      <td>1/18/86</td>\n",
       "      <td>106562.0</td>\n",
       "      <td>False</td>\n",
       "      <td>HR</td>\n",
       "    </tr>\n",
       "    <tr>\n",
       "      <th>844</th>\n",
       "      <td>Maria</td>\n",
       "      <td>NaN</td>\n",
       "      <td>6/19/85</td>\n",
       "      <td>148857.0</td>\n",
       "      <td>False</td>\n",
       "      <td>Legal</td>\n",
       "    </tr>\n",
       "    <tr>\n",
       "      <th>936</th>\n",
       "      <td>Maria</td>\n",
       "      <td>Female</td>\n",
       "      <td>3/14/03</td>\n",
       "      <td>96250.0</td>\n",
       "      <td>False</td>\n",
       "      <td>Business Dev</td>\n",
       "    </tr>\n",
       "    <tr>\n",
       "      <th>984</th>\n",
       "      <td>Maria</td>\n",
       "      <td>Female</td>\n",
       "      <td>10/15/11</td>\n",
       "      <td>43455.0</td>\n",
       "      <td>False</td>\n",
       "      <td>Engineering</td>\n",
       "    </tr>\n",
       "  </tbody>\n",
       "</table>\n",
       "</div>"
      ],
      "text/plain": [
       "    First Name  Gender Start Date    Salary   Mgmt          Team\n",
       "2        Maria  Female        NaN  130590.0  False       Finance\n",
       "198      Maria  Female   12/27/90   36067.0   True       Product\n",
       "815      Maria     NaN    1/18/86  106562.0  False            HR\n",
       "844      Maria     NaN    6/19/85  148857.0  False         Legal\n",
       "936      Maria  Female    3/14/03   96250.0  False  Business Dev\n",
       "984      Maria  Female   10/15/11   43455.0  False   Engineering"
      ]
     },
     "execution_count": 175,
     "metadata": {},
     "output_type": "execute_result"
    }
   ],
   "source": [
    "empDF[empDF['First Name'] == 'Maria']\n",
    "empDF[mariaMask]"
   ]
  },
  {
   "cell_type": "code",
   "execution_count": 176,
   "id": "554ceb7c-7b30-497c-b433-630d15534b17",
   "metadata": {},
   "outputs": [
    {
     "data": {
      "text/html": [
       "<div>\n",
       "<style scoped>\n",
       "    .dataframe tbody tr th:only-of-type {\n",
       "        vertical-align: middle;\n",
       "    }\n",
       "\n",
       "    .dataframe tbody tr th {\n",
       "        vertical-align: top;\n",
       "    }\n",
       "\n",
       "    .dataframe thead th {\n",
       "        text-align: right;\n",
       "    }\n",
       "</style>\n",
       "<table border=\"1\" class=\"dataframe\">\n",
       "  <thead>\n",
       "    <tr style=\"text-align: right;\">\n",
       "      <th></th>\n",
       "      <th>First Name</th>\n",
       "      <th>Gender</th>\n",
       "      <th>Start Date</th>\n",
       "      <th>Salary</th>\n",
       "      <th>Mgmt</th>\n",
       "      <th>Team</th>\n",
       "    </tr>\n",
       "  </thead>\n",
       "  <tbody>\n",
       "    <tr>\n",
       "      <th>0</th>\n",
       "      <td>Douglas</td>\n",
       "      <td>Male</td>\n",
       "      <td>8/6/93</td>\n",
       "      <td>NaN</td>\n",
       "      <td>True</td>\n",
       "      <td>Marketing</td>\n",
       "    </tr>\n",
       "    <tr>\n",
       "      <th>1</th>\n",
       "      <td>Thomas</td>\n",
       "      <td>Male</td>\n",
       "      <td>3/31/96</td>\n",
       "      <td>61933.0</td>\n",
       "      <td>True</td>\n",
       "      <td>NaN</td>\n",
       "    </tr>\n",
       "    <tr>\n",
       "      <th>2</th>\n",
       "      <td>Maria</td>\n",
       "      <td>Female</td>\n",
       "      <td>NaN</td>\n",
       "      <td>130590.0</td>\n",
       "      <td>False</td>\n",
       "      <td>Finance</td>\n",
       "    </tr>\n",
       "    <tr>\n",
       "      <th>3</th>\n",
       "      <td>Jerry</td>\n",
       "      <td>NaN</td>\n",
       "      <td>3/4/05</td>\n",
       "      <td>138705.0</td>\n",
       "      <td>True</td>\n",
       "      <td>Finance</td>\n",
       "    </tr>\n",
       "    <tr>\n",
       "      <th>4</th>\n",
       "      <td>Larry</td>\n",
       "      <td>Male</td>\n",
       "      <td>1/24/98</td>\n",
       "      <td>101004.0</td>\n",
       "      <td>True</td>\n",
       "      <td>IT</td>\n",
       "    </tr>\n",
       "    <tr>\n",
       "      <th>...</th>\n",
       "      <td>...</td>\n",
       "      <td>...</td>\n",
       "      <td>...</td>\n",
       "      <td>...</td>\n",
       "      <td>...</td>\n",
       "      <td>...</td>\n",
       "    </tr>\n",
       "    <tr>\n",
       "      <th>996</th>\n",
       "      <td>Phillip</td>\n",
       "      <td>Male</td>\n",
       "      <td>1/31/84</td>\n",
       "      <td>42392.0</td>\n",
       "      <td>False</td>\n",
       "      <td>Finance</td>\n",
       "    </tr>\n",
       "    <tr>\n",
       "      <th>997</th>\n",
       "      <td>Russell</td>\n",
       "      <td>Male</td>\n",
       "      <td>5/20/13</td>\n",
       "      <td>96914.0</td>\n",
       "      <td>False</td>\n",
       "      <td>Product</td>\n",
       "    </tr>\n",
       "    <tr>\n",
       "      <th>998</th>\n",
       "      <td>Larry</td>\n",
       "      <td>Male</td>\n",
       "      <td>4/20/13</td>\n",
       "      <td>60500.0</td>\n",
       "      <td>False</td>\n",
       "      <td>Business Dev</td>\n",
       "    </tr>\n",
       "    <tr>\n",
       "      <th>999</th>\n",
       "      <td>Albert</td>\n",
       "      <td>Male</td>\n",
       "      <td>5/15/12</td>\n",
       "      <td>129949.0</td>\n",
       "      <td>True</td>\n",
       "      <td>Sales</td>\n",
       "    </tr>\n",
       "    <tr>\n",
       "      <th>1000</th>\n",
       "      <td>NaN</td>\n",
       "      <td>NaN</td>\n",
       "      <td>NaN</td>\n",
       "      <td>NaN</td>\n",
       "      <td>NaN</td>\n",
       "      <td>NaN</td>\n",
       "    </tr>\n",
       "  </tbody>\n",
       "</table>\n",
       "<p>1001 rows × 6 columns</p>\n",
       "</div>"
      ],
      "text/plain": [
       "     First Name  Gender Start Date    Salary   Mgmt          Team\n",
       "0       Douglas    Male     8/6/93       NaN   True     Marketing\n",
       "1        Thomas    Male    3/31/96   61933.0   True           NaN\n",
       "2         Maria  Female        NaN  130590.0  False       Finance\n",
       "3         Jerry     NaN     3/4/05  138705.0   True       Finance\n",
       "4         Larry    Male    1/24/98  101004.0   True            IT\n",
       "...         ...     ...        ...       ...    ...           ...\n",
       "996     Phillip    Male    1/31/84   42392.0  False       Finance\n",
       "997     Russell    Male    5/20/13   96914.0  False       Product\n",
       "998       Larry    Male    4/20/13   60500.0  False  Business Dev\n",
       "999      Albert    Male    5/15/12  129949.0   True         Sales\n",
       "1000        NaN     NaN        NaN       NaN    NaN           NaN\n",
       "\n",
       "[1001 rows x 6 columns]"
      ]
     },
     "execution_count": 176,
     "metadata": {},
     "output_type": "execute_result"
    }
   ],
   "source": [
    "empDF"
   ]
  },
  {
   "cell_type": "markdown",
   "id": "b5901e19-3696-4eac-89e8-f535b39cd737",
   "metadata": {},
   "source": [
    "-[문제] employee 데이터에서 연봉이 14만 이상인 데이터 추출"
   ]
  },
  {
   "cell_type": "code",
   "execution_count": 177,
   "id": "5ccb2e06-fcfc-4ef7-98d9-470a3ac9f3d2",
   "metadata": {},
   "outputs": [],
   "source": [
    "salary = (empDF['Salary'] >=140000)"
   ]
  },
  {
   "cell_type": "code",
   "execution_count": 178,
   "id": "512e7a9a-cdbf-4bc9-a224-1981421f3cde",
   "metadata": {},
   "outputs": [
    {
     "data": {
      "text/html": [
       "<div>\n",
       "<style scoped>\n",
       "    .dataframe tbody tr th:only-of-type {\n",
       "        vertical-align: middle;\n",
       "    }\n",
       "\n",
       "    .dataframe tbody tr th {\n",
       "        vertical-align: top;\n",
       "    }\n",
       "\n",
       "    .dataframe thead th {\n",
       "        text-align: right;\n",
       "    }\n",
       "</style>\n",
       "<table border=\"1\" class=\"dataframe\">\n",
       "  <thead>\n",
       "    <tr style=\"text-align: right;\">\n",
       "      <th></th>\n",
       "      <th>First Name</th>\n",
       "      <th>Gender</th>\n",
       "      <th>Start Date</th>\n",
       "      <th>Salary</th>\n",
       "      <th>Mgmt</th>\n",
       "      <th>Team</th>\n",
       "    </tr>\n",
       "  </thead>\n",
       "  <tbody>\n",
       "    <tr>\n",
       "      <th>36</th>\n",
       "      <td>Rachel</td>\n",
       "      <td>Female</td>\n",
       "      <td>2/16/09</td>\n",
       "      <td>142032.0</td>\n",
       "      <td>False</td>\n",
       "      <td>Business Dev</td>\n",
       "    </tr>\n",
       "    <tr>\n",
       "      <th>44</th>\n",
       "      <td>Cynthia</td>\n",
       "      <td>Female</td>\n",
       "      <td>11/16/88</td>\n",
       "      <td>145146.0</td>\n",
       "      <td>True</td>\n",
       "      <td>Product</td>\n",
       "    </tr>\n",
       "    <tr>\n",
       "      <th>83</th>\n",
       "      <td>Shawn</td>\n",
       "      <td>Male</td>\n",
       "      <td>9/23/05</td>\n",
       "      <td>148115.0</td>\n",
       "      <td>True</td>\n",
       "      <td>Finance</td>\n",
       "    </tr>\n",
       "    <tr>\n",
       "      <th>87</th>\n",
       "      <td>Annie</td>\n",
       "      <td>Female</td>\n",
       "      <td>1/30/93</td>\n",
       "      <td>144887.0</td>\n",
       "      <td>True</td>\n",
       "      <td>Sales</td>\n",
       "    </tr>\n",
       "    <tr>\n",
       "      <th>96</th>\n",
       "      <td>Cynthia</td>\n",
       "      <td>Female</td>\n",
       "      <td>3/21/94</td>\n",
       "      <td>142321.0</td>\n",
       "      <td>False</td>\n",
       "      <td>Finance</td>\n",
       "    </tr>\n",
       "    <tr>\n",
       "      <th>...</th>\n",
       "      <td>...</td>\n",
       "      <td>...</td>\n",
       "      <td>...</td>\n",
       "      <td>...</td>\n",
       "      <td>...</td>\n",
       "      <td>...</td>\n",
       "    </tr>\n",
       "    <tr>\n",
       "      <th>948</th>\n",
       "      <td>Ashley</td>\n",
       "      <td>Female</td>\n",
       "      <td>3/31/06</td>\n",
       "      <td>142410.0</td>\n",
       "      <td>True</td>\n",
       "      <td>Engineering</td>\n",
       "    </tr>\n",
       "    <tr>\n",
       "      <th>951</th>\n",
       "      <td>NaN</td>\n",
       "      <td>Female</td>\n",
       "      <td>9/14/10</td>\n",
       "      <td>143638.0</td>\n",
       "      <td>NaN</td>\n",
       "      <td>NaN</td>\n",
       "    </tr>\n",
       "    <tr>\n",
       "      <th>979</th>\n",
       "      <td>Ernest</td>\n",
       "      <td>Male</td>\n",
       "      <td>7/20/13</td>\n",
       "      <td>142935.0</td>\n",
       "      <td>True</td>\n",
       "      <td>Product</td>\n",
       "    </tr>\n",
       "    <tr>\n",
       "      <th>981</th>\n",
       "      <td>James</td>\n",
       "      <td>Male</td>\n",
       "      <td>1/15/93</td>\n",
       "      <td>148985.0</td>\n",
       "      <td>False</td>\n",
       "      <td>Legal</td>\n",
       "    </tr>\n",
       "    <tr>\n",
       "      <th>983</th>\n",
       "      <td>John</td>\n",
       "      <td>Male</td>\n",
       "      <td>12/23/82</td>\n",
       "      <td>146907.0</td>\n",
       "      <td>False</td>\n",
       "      <td>Engineering</td>\n",
       "    </tr>\n",
       "  </tbody>\n",
       "</table>\n",
       "<p>80 rows × 6 columns</p>\n",
       "</div>"
      ],
      "text/plain": [
       "    First Name  Gender Start Date    Salary   Mgmt          Team\n",
       "36      Rachel  Female    2/16/09  142032.0  False  Business Dev\n",
       "44     Cynthia  Female   11/16/88  145146.0   True       Product\n",
       "83       Shawn    Male    9/23/05  148115.0   True       Finance\n",
       "87       Annie  Female    1/30/93  144887.0   True         Sales\n",
       "96     Cynthia  Female    3/21/94  142321.0  False       Finance\n",
       "..         ...     ...        ...       ...    ...           ...\n",
       "948     Ashley  Female    3/31/06  142410.0   True   Engineering\n",
       "951        NaN  Female    9/14/10  143638.0    NaN           NaN\n",
       "979     Ernest    Male    7/20/13  142935.0   True       Product\n",
       "981      James    Male    1/15/93  148985.0  False         Legal\n",
       "983       John    Male   12/23/82  146907.0  False   Engineering\n",
       "\n",
       "[80 rows x 6 columns]"
      ]
     },
     "execution_count": 178,
     "metadata": {},
     "output_type": "execute_result"
    }
   ],
   "source": [
    "empDF[salary]"
   ]
  },
  {
   "cell_type": "markdown",
   "id": "e37ecf41-3670-4a51-aced-c36f9e6945ea",
   "metadata": {},
   "source": [
    "-[문제] employee 데이터에서 성별이 남자이고 연봉이 10만 이상인 데이터 추출"
   ]
  },
  {
   "cell_type": "code",
   "execution_count": 179,
   "id": "66a4a776-110b-4677-890e-f554d7fb30e4",
   "metadata": {},
   "outputs": [],
   "source": [
    "mask = (empDF['Gender'] == 'Male') & (empDF['Salary'] >= 100000)"
   ]
  },
  {
   "cell_type": "code",
   "execution_count": 180,
   "id": "88589780-5506-48c6-8b3f-f5b6def16498",
   "metadata": {},
   "outputs": [
    {
     "data": {
      "text/html": [
       "<div>\n",
       "<style scoped>\n",
       "    .dataframe tbody tr th:only-of-type {\n",
       "        vertical-align: middle;\n",
       "    }\n",
       "\n",
       "    .dataframe tbody tr th {\n",
       "        vertical-align: top;\n",
       "    }\n",
       "\n",
       "    .dataframe thead th {\n",
       "        text-align: right;\n",
       "    }\n",
       "</style>\n",
       "<table border=\"1\" class=\"dataframe\">\n",
       "  <thead>\n",
       "    <tr style=\"text-align: right;\">\n",
       "      <th></th>\n",
       "      <th>First Name</th>\n",
       "      <th>Gender</th>\n",
       "      <th>Start Date</th>\n",
       "      <th>Salary</th>\n",
       "      <th>Mgmt</th>\n",
       "      <th>Team</th>\n",
       "    </tr>\n",
       "  </thead>\n",
       "  <tbody>\n",
       "    <tr>\n",
       "      <th>4</th>\n",
       "      <td>Larry</td>\n",
       "      <td>Male</td>\n",
       "      <td>1/24/98</td>\n",
       "      <td>101004.0</td>\n",
       "      <td>True</td>\n",
       "      <td>IT</td>\n",
       "    </tr>\n",
       "    <tr>\n",
       "      <th>5</th>\n",
       "      <td>Dennis</td>\n",
       "      <td>Male</td>\n",
       "      <td>4/18/87</td>\n",
       "      <td>115163.0</td>\n",
       "      <td>False</td>\n",
       "      <td>Legal</td>\n",
       "    </tr>\n",
       "    <tr>\n",
       "      <th>12</th>\n",
       "      <td>Brandon</td>\n",
       "      <td>Male</td>\n",
       "      <td>12/1/80</td>\n",
       "      <td>112807.0</td>\n",
       "      <td>True</td>\n",
       "      <td>HR</td>\n",
       "    </tr>\n",
       "    <tr>\n",
       "      <th>13</th>\n",
       "      <td>Gary</td>\n",
       "      <td>Male</td>\n",
       "      <td>1/27/08</td>\n",
       "      <td>109831.0</td>\n",
       "      <td>False</td>\n",
       "      <td>Sales</td>\n",
       "    </tr>\n",
       "    <tr>\n",
       "      <th>17</th>\n",
       "      <td>Shawn</td>\n",
       "      <td>Male</td>\n",
       "      <td>12/7/86</td>\n",
       "      <td>111737.0</td>\n",
       "      <td>False</td>\n",
       "      <td>Product</td>\n",
       "    </tr>\n",
       "    <tr>\n",
       "      <th>...</th>\n",
       "      <td>...</td>\n",
       "      <td>...</td>\n",
       "      <td>...</td>\n",
       "      <td>...</td>\n",
       "      <td>...</td>\n",
       "      <td>...</td>\n",
       "    </tr>\n",
       "    <tr>\n",
       "      <th>979</th>\n",
       "      <td>Ernest</td>\n",
       "      <td>Male</td>\n",
       "      <td>7/20/13</td>\n",
       "      <td>142935.0</td>\n",
       "      <td>True</td>\n",
       "      <td>Product</td>\n",
       "    </tr>\n",
       "    <tr>\n",
       "      <th>981</th>\n",
       "      <td>James</td>\n",
       "      <td>Male</td>\n",
       "      <td>1/15/93</td>\n",
       "      <td>148985.0</td>\n",
       "      <td>False</td>\n",
       "      <td>Legal</td>\n",
       "    </tr>\n",
       "    <tr>\n",
       "      <th>983</th>\n",
       "      <td>John</td>\n",
       "      <td>Male</td>\n",
       "      <td>12/23/82</td>\n",
       "      <td>146907.0</td>\n",
       "      <td>False</td>\n",
       "      <td>Engineering</td>\n",
       "    </tr>\n",
       "    <tr>\n",
       "      <th>992</th>\n",
       "      <td>Anthony</td>\n",
       "      <td>Male</td>\n",
       "      <td>10/16/11</td>\n",
       "      <td>112769.0</td>\n",
       "      <td>True</td>\n",
       "      <td>Finance</td>\n",
       "    </tr>\n",
       "    <tr>\n",
       "      <th>999</th>\n",
       "      <td>Albert</td>\n",
       "      <td>Male</td>\n",
       "      <td>5/15/12</td>\n",
       "      <td>129949.0</td>\n",
       "      <td>True</td>\n",
       "      <td>Sales</td>\n",
       "    </tr>\n",
       "  </tbody>\n",
       "</table>\n",
       "<p>176 rows × 6 columns</p>\n",
       "</div>"
      ],
      "text/plain": [
       "    First Name Gender Start Date    Salary   Mgmt         Team\n",
       "4        Larry   Male    1/24/98  101004.0   True           IT\n",
       "5       Dennis   Male    4/18/87  115163.0  False        Legal\n",
       "12     Brandon   Male    12/1/80  112807.0   True           HR\n",
       "13        Gary   Male    1/27/08  109831.0  False        Sales\n",
       "17       Shawn   Male    12/7/86  111737.0  False      Product\n",
       "..         ...    ...        ...       ...    ...          ...\n",
       "979     Ernest   Male    7/20/13  142935.0   True      Product\n",
       "981      James   Male    1/15/93  148985.0  False        Legal\n",
       "983       John   Male   12/23/82  146907.0  False  Engineering\n",
       "992    Anthony   Male   10/16/11  112769.0   True      Finance\n",
       "999     Albert   Male    5/15/12  129949.0   True        Sales\n",
       "\n",
       "[176 rows x 6 columns]"
      ]
     },
     "execution_count": 180,
     "metadata": {},
     "output_type": "execute_result"
    }
   ],
   "source": [
    "empDF[mask]"
   ]
  },
  {
   "cell_type": "markdown",
   "id": "7f3c5ad3-f889-410a-b449-e07f2a714140",
   "metadata": {},
   "source": [
    "- 여러 개의 조건이 모두 True 여야만 하는 조건. => AND 조건 &\n",
    "    * 문법 : 조건 1 & 조건 2 & 조건 3 &... 조건 n\n",
    "    * 연산자 : & 엔퍼센트"
   ]
  },
  {
   "cell_type": "code",
   "execution_count": 181,
   "id": "7746fa07-b170-4e2b-8b8e-ef9c05cca452",
   "metadata": {},
   "outputs": [],
   "source": [
    "#타이타닉 생존자의 성별 및 연령대, 등석 등의 관계\n"
   ]
  },
  {
   "cell_type": "markdown",
   "id": "d6782c4b-044a-46b9-818e-3ccdfcf09208",
   "metadata": {},
   "source": [
    "- 여러 개의 조건이 1개 이상이 True면 True가 되는 조건. => OR 조건 |\n",
    "    * 문법 : 조건 1 | 조건 2 | 조건 3 |... 조건 n\n",
    "    * 연산자 : | 파이프\n",
    "    * 결과값 : True / False"
   ]
  },
  {
   "cell_type": "markdown",
   "id": "467aab86-219f-4b85-98c9-896832e6e1b2",
   "metadata": {},
   "source": [
    "-[문제] employee 데이터에서 입사일이 1993년 1월 1일 이전 이거나 또는 팀(매니지먼트)이 없는 사람 조회."
   ]
  },
  {
   "cell_type": "code",
   "execution_count": 182,
   "id": "babbb080-0e66-4084-8fc2-801aefc4f552",
   "metadata": {},
   "outputs": [
    {
     "name": "stderr",
     "output_type": "stream",
     "text": [
      "C:\\Users\\KDP-024\\AppData\\Local\\Temp\\ipykernel_2744\\1557590731.py:1: UserWarning: Could not infer format, so each element will be parsed individually, falling back to `dateutil`. To ensure parsing is consistent and as-expected, please specify a format.\n",
      "  empDF['Start Date'] = pd.to_datetime(empDF['Start Date'])\n"
     ]
    }
   ],
   "source": [
    "empDF['Start Date'] = pd.to_datetime(empDF['Start Date'])"
   ]
  },
  {
   "cell_type": "code",
   "execution_count": 183,
   "id": "5189f696-4a47-4433-8136-b45c7aaa3373",
   "metadata": {},
   "outputs": [
    {
     "data": {
      "text/html": [
       "<div>\n",
       "<style scoped>\n",
       "    .dataframe tbody tr th:only-of-type {\n",
       "        vertical-align: middle;\n",
       "    }\n",
       "\n",
       "    .dataframe tbody tr th {\n",
       "        vertical-align: top;\n",
       "    }\n",
       "\n",
       "    .dataframe thead th {\n",
       "        text-align: right;\n",
       "    }\n",
       "</style>\n",
       "<table border=\"1\" class=\"dataframe\">\n",
       "  <thead>\n",
       "    <tr style=\"text-align: right;\">\n",
       "      <th></th>\n",
       "      <th>First Name</th>\n",
       "      <th>Gender</th>\n",
       "      <th>Start Date</th>\n",
       "      <th>Salary</th>\n",
       "      <th>Mgmt</th>\n",
       "      <th>Team</th>\n",
       "    </tr>\n",
       "  </thead>\n",
       "  <tbody>\n",
       "    <tr>\n",
       "      <th>0</th>\n",
       "      <td>Douglas</td>\n",
       "      <td>Male</td>\n",
       "      <td>1993-08-06</td>\n",
       "      <td>NaN</td>\n",
       "      <td>True</td>\n",
       "      <td>Marketing</td>\n",
       "    </tr>\n",
       "    <tr>\n",
       "      <th>1</th>\n",
       "      <td>Thomas</td>\n",
       "      <td>Male</td>\n",
       "      <td>1996-03-31</td>\n",
       "      <td>61933.0</td>\n",
       "      <td>True</td>\n",
       "      <td>NaN</td>\n",
       "    </tr>\n",
       "    <tr>\n",
       "      <th>2</th>\n",
       "      <td>Maria</td>\n",
       "      <td>Female</td>\n",
       "      <td>NaT</td>\n",
       "      <td>130590.0</td>\n",
       "      <td>False</td>\n",
       "      <td>Finance</td>\n",
       "    </tr>\n",
       "    <tr>\n",
       "      <th>3</th>\n",
       "      <td>Jerry</td>\n",
       "      <td>NaN</td>\n",
       "      <td>2005-03-04</td>\n",
       "      <td>138705.0</td>\n",
       "      <td>True</td>\n",
       "      <td>Finance</td>\n",
       "    </tr>\n",
       "    <tr>\n",
       "      <th>4</th>\n",
       "      <td>Larry</td>\n",
       "      <td>Male</td>\n",
       "      <td>1998-01-24</td>\n",
       "      <td>101004.0</td>\n",
       "      <td>True</td>\n",
       "      <td>IT</td>\n",
       "    </tr>\n",
       "    <tr>\n",
       "      <th>...</th>\n",
       "      <td>...</td>\n",
       "      <td>...</td>\n",
       "      <td>...</td>\n",
       "      <td>...</td>\n",
       "      <td>...</td>\n",
       "      <td>...</td>\n",
       "    </tr>\n",
       "    <tr>\n",
       "      <th>995</th>\n",
       "      <td>Henry</td>\n",
       "      <td>NaN</td>\n",
       "      <td>2014-11-23</td>\n",
       "      <td>132483.0</td>\n",
       "      <td>False</td>\n",
       "      <td>Distribution</td>\n",
       "    </tr>\n",
       "    <tr>\n",
       "      <th>996</th>\n",
       "      <td>Phillip</td>\n",
       "      <td>Male</td>\n",
       "      <td>1984-01-31</td>\n",
       "      <td>42392.0</td>\n",
       "      <td>False</td>\n",
       "      <td>Finance</td>\n",
       "    </tr>\n",
       "    <tr>\n",
       "      <th>997</th>\n",
       "      <td>Russell</td>\n",
       "      <td>Male</td>\n",
       "      <td>2013-05-20</td>\n",
       "      <td>96914.0</td>\n",
       "      <td>False</td>\n",
       "      <td>Product</td>\n",
       "    </tr>\n",
       "    <tr>\n",
       "      <th>998</th>\n",
       "      <td>Larry</td>\n",
       "      <td>Male</td>\n",
       "      <td>2013-04-20</td>\n",
       "      <td>60500.0</td>\n",
       "      <td>False</td>\n",
       "      <td>Business Dev</td>\n",
       "    </tr>\n",
       "    <tr>\n",
       "      <th>999</th>\n",
       "      <td>Albert</td>\n",
       "      <td>Male</td>\n",
       "      <td>2012-05-15</td>\n",
       "      <td>129949.0</td>\n",
       "      <td>True</td>\n",
       "      <td>Sales</td>\n",
       "    </tr>\n",
       "  </tbody>\n",
       "</table>\n",
       "<p>832 rows × 6 columns</p>\n",
       "</div>"
      ],
      "text/plain": [
       "    First Name  Gender Start Date    Salary   Mgmt          Team\n",
       "0      Douglas    Male 1993-08-06       NaN   True     Marketing\n",
       "1       Thomas    Male 1996-03-31   61933.0   True           NaN\n",
       "2        Maria  Female        NaT  130590.0  False       Finance\n",
       "3        Jerry     NaN 2005-03-04  138705.0   True       Finance\n",
       "4        Larry    Male 1998-01-24  101004.0   True            IT\n",
       "..         ...     ...        ...       ...    ...           ...\n",
       "995      Henry     NaN 2014-11-23  132483.0  False  Distribution\n",
       "996    Phillip    Male 1984-01-31   42392.0  False       Finance\n",
       "997    Russell    Male 2013-05-20   96914.0  False       Product\n",
       "998      Larry    Male 2013-04-20   60500.0  False  Business Dev\n",
       "999     Albert    Male 2012-05-15  129949.0   True         Sales\n",
       "\n",
       "[832 rows x 6 columns]"
      ]
     },
     "execution_count": 183,
     "metadata": {},
     "output_type": "execute_result"
    }
   ],
   "source": [
    "mask2 = (empDF['Mgmt'] == False) | (empDF['Start Date']>'1993-01-01')\n",
    "empDF[mask2]"
   ]
  },
  {
   "cell_type": "code",
   "execution_count": 184,
   "id": "14a90988-35ce-4bd4-9b32-e0d60b934fad",
   "metadata": {},
   "outputs": [
    {
     "data": {
      "text/html": [
       "<div>\n",
       "<style scoped>\n",
       "    .dataframe tbody tr th:only-of-type {\n",
       "        vertical-align: middle;\n",
       "    }\n",
       "\n",
       "    .dataframe tbody tr th {\n",
       "        vertical-align: top;\n",
       "    }\n",
       "\n",
       "    .dataframe thead th {\n",
       "        text-align: right;\n",
       "    }\n",
       "</style>\n",
       "<table border=\"1\" class=\"dataframe\">\n",
       "  <thead>\n",
       "    <tr style=\"text-align: right;\">\n",
       "      <th></th>\n",
       "      <th>First Name</th>\n",
       "      <th>Gender</th>\n",
       "      <th>Start Date</th>\n",
       "      <th>Salary</th>\n",
       "      <th>Mgmt</th>\n",
       "      <th>Team</th>\n",
       "    </tr>\n",
       "  </thead>\n",
       "  <tbody>\n",
       "    <tr>\n",
       "      <th>0</th>\n",
       "      <td>Douglas</td>\n",
       "      <td>Male</td>\n",
       "      <td>1993-08-06</td>\n",
       "      <td>NaN</td>\n",
       "      <td>True</td>\n",
       "      <td>Marketing</td>\n",
       "    </tr>\n",
       "    <tr>\n",
       "      <th>1</th>\n",
       "      <td>Thomas</td>\n",
       "      <td>Male</td>\n",
       "      <td>1996-03-31</td>\n",
       "      <td>61933.0</td>\n",
       "      <td>True</td>\n",
       "      <td>NaN</td>\n",
       "    </tr>\n",
       "    <tr>\n",
       "      <th>2</th>\n",
       "      <td>Maria</td>\n",
       "      <td>Female</td>\n",
       "      <td>NaT</td>\n",
       "      <td>130590.0</td>\n",
       "      <td>False</td>\n",
       "      <td>Finance</td>\n",
       "    </tr>\n",
       "    <tr>\n",
       "      <th>3</th>\n",
       "      <td>Jerry</td>\n",
       "      <td>NaN</td>\n",
       "      <td>2005-03-04</td>\n",
       "      <td>138705.0</td>\n",
       "      <td>True</td>\n",
       "      <td>Finance</td>\n",
       "    </tr>\n",
       "    <tr>\n",
       "      <th>4</th>\n",
       "      <td>Larry</td>\n",
       "      <td>Male</td>\n",
       "      <td>1998-01-24</td>\n",
       "      <td>101004.0</td>\n",
       "      <td>True</td>\n",
       "      <td>IT</td>\n",
       "    </tr>\n",
       "    <tr>\n",
       "      <th>...</th>\n",
       "      <td>...</td>\n",
       "      <td>...</td>\n",
       "      <td>...</td>\n",
       "      <td>...</td>\n",
       "      <td>...</td>\n",
       "      <td>...</td>\n",
       "    </tr>\n",
       "    <tr>\n",
       "      <th>996</th>\n",
       "      <td>Phillip</td>\n",
       "      <td>Male</td>\n",
       "      <td>1984-01-31</td>\n",
       "      <td>42392.0</td>\n",
       "      <td>False</td>\n",
       "      <td>Finance</td>\n",
       "    </tr>\n",
       "    <tr>\n",
       "      <th>997</th>\n",
       "      <td>Russell</td>\n",
       "      <td>Male</td>\n",
       "      <td>2013-05-20</td>\n",
       "      <td>96914.0</td>\n",
       "      <td>False</td>\n",
       "      <td>Product</td>\n",
       "    </tr>\n",
       "    <tr>\n",
       "      <th>998</th>\n",
       "      <td>Larry</td>\n",
       "      <td>Male</td>\n",
       "      <td>2013-04-20</td>\n",
       "      <td>60500.0</td>\n",
       "      <td>False</td>\n",
       "      <td>Business Dev</td>\n",
       "    </tr>\n",
       "    <tr>\n",
       "      <th>999</th>\n",
       "      <td>Albert</td>\n",
       "      <td>Male</td>\n",
       "      <td>2012-05-15</td>\n",
       "      <td>129949.0</td>\n",
       "      <td>True</td>\n",
       "      <td>Sales</td>\n",
       "    </tr>\n",
       "    <tr>\n",
       "      <th>1000</th>\n",
       "      <td>NaN</td>\n",
       "      <td>NaN</td>\n",
       "      <td>NaT</td>\n",
       "      <td>NaN</td>\n",
       "      <td>NaN</td>\n",
       "      <td>NaN</td>\n",
       "    </tr>\n",
       "  </tbody>\n",
       "</table>\n",
       "<p>1001 rows × 6 columns</p>\n",
       "</div>"
      ],
      "text/plain": [
       "     First Name  Gender Start Date    Salary   Mgmt          Team\n",
       "0       Douglas    Male 1993-08-06       NaN   True     Marketing\n",
       "1        Thomas    Male 1996-03-31   61933.0   True           NaN\n",
       "2         Maria  Female        NaT  130590.0  False       Finance\n",
       "3         Jerry     NaN 2005-03-04  138705.0   True       Finance\n",
       "4         Larry    Male 1998-01-24  101004.0   True            IT\n",
       "...         ...     ...        ...       ...    ...           ...\n",
       "996     Phillip    Male 1984-01-31   42392.0  False       Finance\n",
       "997     Russell    Male 2013-05-20   96914.0  False       Product\n",
       "998       Larry    Male 2013-04-20   60500.0  False  Business Dev\n",
       "999      Albert    Male 2012-05-15  129949.0   True         Sales\n",
       "1000        NaN     NaN        NaT       NaN    NaN           NaN\n",
       "\n",
       "[1001 rows x 6 columns]"
      ]
     },
     "execution_count": 184,
     "metadata": {},
     "output_type": "execute_result"
    }
   ],
   "source": [
    "empDF"
   ]
  },
  {
   "cell_type": "code",
   "execution_count": 185,
   "id": "4203913f-2963-47ff-ba8e-681ddb96b8fc",
   "metadata": {},
   "outputs": [
    {
     "name": "stdout",
     "output_type": "stream",
     "text": [
      "<class 'pandas.core.frame.DataFrame'>\n",
      "RangeIndex: 1001 entries, 0 to 1000\n",
      "Data columns (total 6 columns):\n",
      " #   Column      Non-Null Count  Dtype         \n",
      "---  ------      --------------  -----         \n",
      " 0   First Name  933 non-null    object        \n",
      " 1   Gender      854 non-null    object        \n",
      " 2   Start Date  999 non-null    datetime64[ns]\n",
      " 3   Salary      999 non-null    float64       \n",
      " 4   Mgmt        933 non-null    object        \n",
      " 5   Team        957 non-null    object        \n",
      "dtypes: datetime64[ns](1), float64(1), object(4)\n",
      "memory usage: 47.0+ KB\n"
     ]
    }
   ],
   "source": [
    "empDF.info()"
   ]
  },
  {
   "cell_type": "code",
   "execution_count": 186,
   "id": "d19a2700-d014-4f19-9dc1-266d90f40252",
   "metadata": {},
   "outputs": [
    {
     "data": {
      "text/plain": [
       "True"
      ]
     },
     "execution_count": 186,
     "metadata": {},
     "output_type": "execute_result"
    }
   ],
   "source": [
    "'a' in ['a', 'b', 'c']"
   ]
  },
  {
   "cell_type": "code",
   "execution_count": 187,
   "id": "74ab464b-9adf-4548-a388-6c705dbd0301",
   "metadata": {},
   "outputs": [
    {
     "data": {
      "text/plain": [
       "True"
      ]
     },
     "execution_count": 187,
     "metadata": {},
     "output_type": "execute_result"
    }
   ],
   "source": [
    "('a' == 'a') | ('a' == 'b')|('a'=='c')"
   ]
  },
  {
   "cell_type": "code",
   "execution_count": 188,
   "id": "ed484630-71fd-4f98-a68c-eae69a4774eb",
   "metadata": {},
   "outputs": [
    {
     "data": {
      "text/plain": [
       "0        True\n",
       "1       False\n",
       "2       False\n",
       "3       False\n",
       "4       False\n",
       "        ...  \n",
       "996     False\n",
       "997     False\n",
       "998     False\n",
       "999      True\n",
       "1000    False\n",
       "Name: Team, Length: 1001, dtype: bool"
      ]
     },
     "execution_count": 188,
     "metadata": {},
     "output_type": "execute_result"
    }
   ],
   "source": [
    "(empDF['Team'] == 'Sales') | (empDF['Team'] == 'legal') | (empDF['Team'] == 'Marketing')"
   ]
  },
  {
   "cell_type": "code",
   "execution_count": 189,
   "id": "0181f7f3-2a98-4bfb-92cf-443ece06830e",
   "metadata": {},
   "outputs": [
    {
     "data": {
      "text/plain": [
       "0        True\n",
       "1       False\n",
       "2       False\n",
       "3       False\n",
       "4       False\n",
       "        ...  \n",
       "996     False\n",
       "997     False\n",
       "998     False\n",
       "999      True\n",
       "1000    False\n",
       "Name: Team, Length: 1001, dtype: bool"
      ]
     },
     "execution_count": 189,
     "metadata": {},
     "output_type": "execute_result"
    }
   ],
   "source": [
    "empDF['Team'].isin(['Sales', 'Legal', 'Marketing']) "
   ]
  },
  {
   "cell_type": "markdown",
   "id": "ff718cba-4858-4dbb-be3d-ad050e3425a8",
   "metadata": {},
   "source": [
    "- 구간 지정 검사 불린 메서드 => DF.between(low, high)"
   ]
  },
  {
   "cell_type": "code",
   "execution_count": 190,
   "id": "fec56e4e-6be3-40de-bcf0-a829f61c9f95",
   "metadata": {},
   "outputs": [
    {
     "data": {
      "text/plain": [
       "0       False\n",
       "1       False\n",
       "2       False\n",
       "3       False\n",
       "4       False\n",
       "        ...  \n",
       "996     False\n",
       "997     False\n",
       "998     False\n",
       "999     False\n",
       "1000    False\n",
       "Name: Salary, Length: 1001, dtype: bool"
      ]
     },
     "execution_count": 190,
     "metadata": {},
     "output_type": "execute_result"
    }
   ],
   "source": [
    "(empDF['Salary']>= 80000) & (empDF['Salary'] < 90000)"
   ]
  },
  {
   "cell_type": "code",
   "execution_count": 192,
   "id": "13d41d7c-7a5b-48ab-b7fe-3d96531dffc1",
   "metadata": {},
   "outputs": [
    {
     "data": {
      "text/plain": [
       "0       False\n",
       "1       False\n",
       "2       False\n",
       "3       False\n",
       "4       False\n",
       "        ...  \n",
       "996     False\n",
       "997     False\n",
       "998     False\n",
       "999     False\n",
       "1000    False\n",
       "Name: Salary, Length: 1001, dtype: bool"
      ]
     },
     "execution_count": 192,
     "metadata": {},
     "output_type": "execute_result"
    }
   ],
   "source": [
    "empDF['Salary'].between(80000, 90000) #between는 기본적으로 low값과 high값을 모두 포함한다."
   ]
  },
  {
   "cell_type": "code",
   "execution_count": 193,
   "id": "18ce92ad-28b5-473a-9475-049495c93c65",
   "metadata": {},
   "outputs": [
    {
     "data": {
      "text/plain": [
       "0       False\n",
       "1       False\n",
       "2       False\n",
       "3       False\n",
       "4       False\n",
       "        ...  \n",
       "996     False\n",
       "997     False\n",
       "998     False\n",
       "999     False\n",
       "1000    False\n",
       "Name: Salary, Length: 1001, dtype: bool"
      ]
     },
     "execution_count": 193,
     "metadata": {},
     "output_type": "execute_result"
    }
   ],
   "source": [
    "empDF['Salary'].between(80000, 90000, inclusive='neither')"
   ]
  },
  {
   "cell_type": "code",
   "execution_count": 194,
   "id": "b3e9270e-8043-4a66-a01d-671c6383e90e",
   "metadata": {},
   "outputs": [
    {
     "data": {
      "text/plain": [
       "0       DOUGLAS\n",
       "1        THOMAS\n",
       "2         MARIA\n",
       "3         JERRY\n",
       "4         LARRY\n",
       "         ...   \n",
       "996     PHILLIP\n",
       "997     RUSSELL\n",
       "998       LARRY\n",
       "999      ALBERT\n",
       "1000        NaN\n",
       "Name: First Name, Length: 1001, dtype: object"
      ]
     },
     "execution_count": 194,
     "metadata": {},
     "output_type": "execute_result"
    }
   ],
   "source": [
    "empDF['First Name'].str.upper()"
   ]
  },
  {
   "cell_type": "code",
   "execution_count": 195,
   "id": "6942e3f5-a766-4cd8-a75c-633a6e647b5e",
   "metadata": {},
   "outputs": [
    {
     "data": {
      "text/plain": [
       "0       douglas\n",
       "1        thomas\n",
       "2         maria\n",
       "3         jerry\n",
       "4         larry\n",
       "         ...   \n",
       "996     phillip\n",
       "997     russell\n",
       "998       larry\n",
       "999      albert\n",
       "1000        NaN\n",
       "Name: First Name, Length: 1001, dtype: object"
      ]
     },
     "execution_count": 195,
     "metadata": {},
     "output_type": "execute_result"
    }
   ],
   "source": [
    "empDF['First Name'].str.lower()"
   ]
  },
  {
   "cell_type": "code",
   "execution_count": 196,
   "id": "c42f3a8a-a180-4079-9245-5f3db52247d8",
   "metadata": {},
   "outputs": [
    {
     "data": {
      "text/plain": [
       "0       Douglas\n",
       "1        Thomas\n",
       "2         Maria\n",
       "3         Jerry\n",
       "4         Larry\n",
       "         ...   \n",
       "996     Phillip\n",
       "997     Russell\n",
       "998       Larry\n",
       "999      Albert\n",
       "1000        NaN\n",
       "Name: First Name, Length: 1001, dtype: object"
      ]
     },
     "execution_count": 196,
     "metadata": {},
     "output_type": "execute_result"
    }
   ],
   "source": [
    "empDF['First Name'].str.replace('maria', 'Maria')"
   ]
  },
  {
   "cell_type": "code",
   "execution_count": null,
   "id": "2e0abe12-af46-4d44-be1b-8d2890e67285",
   "metadata": {},
   "outputs": [],
   "source": []
  }
 ],
 "metadata": {
  "kernelspec": {
   "display_name": "Python 3 (ipykernel)",
   "language": "python",
   "name": "python3"
  },
  "language_info": {
   "codemirror_mode": {
    "name": "ipython",
    "version": 3
   },
   "file_extension": ".py",
   "mimetype": "text/x-python",
   "name": "python",
   "nbconvert_exporter": "python",
   "pygments_lexer": "ipython3",
   "version": "3.8.18"
  }
 },
 "nbformat": 4,
 "nbformat_minor": 5
}
