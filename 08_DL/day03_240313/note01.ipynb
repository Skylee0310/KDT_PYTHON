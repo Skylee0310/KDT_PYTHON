{
 "cells": [
  {
   "cell_type": "markdown",
   "metadata": {},
   "source": [
    "### [Pytorch기반 선형회귀] <hr>"
   ]
  },
  {
   "cell_type": "markdown",
   "metadata": {},
   "source": [
    "- [1] 모듈 로딩 및 데이터 준비 <hr>"
   ]
  },
  {
   "cell_type": "code",
   "execution_count": 1,
   "metadata": {},
   "outputs": [],
   "source": [
    "import torch                            # 파이토치 텐서 및 기본 함수들 관련 모듈\n",
    "import torch.nn as nn                   # 인공신경망 층 관련 모듈\n",
    "import torch.nn.functional as F         # 인공신경망 관련 함수들 모듈\n",
    "import torch.optim as optim             # 인공신경망 최적화 관련 모듈"
   ]
  },
  {
   "cell_type": "code",
   "execution_count": 2,
   "metadata": {},
   "outputs": [
    {
     "data": {
      "text/plain": [
       "<torch._C.Generator at 0x22d932fa4d0>"
      ]
     },
     "execution_count": 2,
     "metadata": {},
     "output_type": "execute_result"
    }
   ],
   "source": [
    "# 랜덤 시드 설정\n",
    "torch.manual_seed(1)"
   ]
  },
  {
   "cell_type": "code",
   "execution_count": 3,
   "metadata": {},
   "outputs": [],
   "source": [
    "# 데이터 준비\n",
    "Xtrn = torch.FloatTensor([[1], [2], [3]]) # 1 X 3\n",
    "ytrn = torch.FloatTensor([[2], [4], [6]]) # 1 X 3"
   ]
  },
  {
   "cell_type": "code",
   "execution_count": 8,
   "metadata": {},
   "outputs": [
    {
     "name": "stdout",
     "output_type": "stream",
     "text": [
      "[Xtrain] \n",
      "tensor([[1.],\n",
      "        [2.],\n",
      "        [3.]])\n",
      "Xtrain.shape : torch.Size([3, 1])\tXtrain.ndim : 2\n",
      "\n",
      "[ytrain] \n",
      "tensor([[2.],\n",
      "        [4.],\n",
      "        [6.]])\n",
      "ytrain.shape : torch.Size([3, 1])\tytrain.ndim : 2\n"
     ]
    }
   ],
   "source": [
    "# 데이터 확인 \n",
    "print(f'[Xtrain] \\n{Xtrn}\\nXtrain.shape : {Xtrn.shape}\\tXtrain.ndim : {Xtrn.ndim}\\n')\n",
    "print(f'[ytrain] \\n{ytrn}\\nytrain.shape : {ytrn.shape}\\tytrain.ndim : {ytrn.ndim}')"
   ]
  },
  {
   "cell_type": "markdown",
   "metadata": {},
   "source": [
    "- [2] 학습 위한 준비 <hr>"
   ]
  },
  {
   "cell_type": "code",
   "execution_count": 9,
   "metadata": {},
   "outputs": [],
   "source": [
    "# 가중치 및 절편 데이터 생성 및 초기화\n",
    "# - 가중치 W            : 0으로 초기화하고 학습 통해 값이 변경되는 변수 명시함\n",
    "# - requires_grad=True : 학습을 통해 계속 값이 변경되는 변수.\n",
    "# - torch.zeros(텐서 원소 개수)\n",
    "\n",
    "w = torch.zeros(1, requires_grad=True) # 크기가 1인 텐서 생성.\n",
    "b = torch.zeros(1, requires_grad=True) # requires_grad = 연산 그래프에서 기울기를 추적해야 함\n",
    "# 역전파(backpropagation) 과정에서 해당 파라미터에 대한 기울기를 계산하는 데 사용됩니다.\n",
    "\n",
    "# 가중치(w)와 편향(b)을 모두 0으로 초기화"
   ]
  },
  {
   "cell_type": "markdown",
   "metadata": {},
   "source": [
    "- [3] 학습 진행 <hr>"
   ]
  },
  {
   "cell_type": "code",
   "execution_count": null,
   "metadata": {},
   "outputs": [],
   "source": [
    "# 학습 진행\n",
    "# - 에포크 : 처음부터~끝까지 학습하는 것 의미 \n",
    "\n",
    "nb_epochs = 100                 # 100번 학습\n",
    "\n",
    "for epoch in range(nb_epochs + 1):\n",
    "    # 예측값 H(x) 계산 ! H(x) = wx + b\n",
    "    # w = 가중치, x = 입력데이터, b = 편향\n",
    "    y_pred = w * Xtrn + b\n",
    "\n",
    "    # cost 계산 = 합((예측값 - 정답 ) **2 )"
   ]
  }
 ],
 "metadata": {
  "kernelspec": {
   "display_name": "Torch_py38",
   "language": "python",
   "name": "python3"
  },
  "language_info": {
   "codemirror_mode": {
    "name": "ipython",
    "version": 3
   },
   "file_extension": ".py",
   "mimetype": "text/x-python",
   "name": "python",
   "nbconvert_exporter": "python",
   "pygments_lexer": "ipython3",
   "version": "3.8.18"
  }
 },
 "nbformat": 4,
 "nbformat_minor": 2
}
