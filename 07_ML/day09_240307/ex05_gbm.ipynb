{
 "cells": [
  {
   "cell_type": "markdown",
   "metadata": {},
   "source": [
    "#### 그레디언트 부스팅 계열의 앙상블 모델\n",
    "- 대표 모델 : XGBoost, lightGBM\n",
    "- 추가 설치 및 사용법 숙지 필요"
   ]
  },
  {
   "cell_type": "markdown",
   "metadata": {},
   "source": [
    "- 설치 여부 확인"
   ]
  },
  {
   "cell_type": "code",
   "execution_count": 46,
   "metadata": {},
   "outputs": [
    {
     "name": "stdout",
     "output_type": "stream",
     "text": [
      "xgboost : 1.7.3\n",
      "lightgbm : 4.1.0\n"
     ]
    }
   ],
   "source": [
    "import xgboost, lightgbm\n",
    "\n",
    "print(f'xgboost : {xgboost.__version__}')\n",
    "print(f'lightgbm : {lightgbm.__version__}')"
   ]
  },
  {
   "cell_type": "markdown",
   "metadata": {},
   "source": [
    "[1] 모듈 로딩 및 데이터 준비 <hr>"
   ]
  },
  {
   "cell_type": "code",
   "execution_count": 47,
   "metadata": {},
   "outputs": [],
   "source": [
    "## 데이터 파일 변수 선언\n",
    "feature_name_file = '../data/human/features.txt'\n",
    "label_file = '../data/human/activity_labels.txt'\n",
    "\n",
    "XtrnFile = '../data/human/train/X_train.txt'\n",
    "ytrnFile = '../data/human/train/y_train.txt'\n",
    "XtstFile = '../data/human/test/X_test.txt'\n",
    "ytstFile = '../data/human/test/y_test.txt'"
   ]
  },
  {
   "cell_type": "code",
   "execution_count": 48,
   "metadata": {},
   "outputs": [],
   "source": [
    "#데이터 로딩\n",
    "import pandas as pd\n",
    "import numpy as np\n",
    "\n",
    "featureName = pd.read_csv(feature_name_file, sep='\\s+', header = None, names =['col_id', 'col_name']) #'\\s+' 뭔진 모르겠지만 공백으로 나누는 건듯..?"
   ]
  },
  {
   "cell_type": "code",
   "execution_count": 49,
   "metadata": {},
   "outputs": [
    {
     "name": "stdout",
     "output_type": "stream",
     "text": [
      "<class 'pandas.core.frame.DataFrame'>\n",
      "RangeIndex: 561 entries, 0 to 560\n",
      "Data columns (total 2 columns):\n",
      " #   Column    Non-Null Count  Dtype \n",
      "---  ------    --------------  ----- \n",
      " 0   col_id    561 non-null    int64 \n",
      " 1   col_name  561 non-null    object\n",
      "dtypes: int64(1), object(1)\n",
      "memory usage: 8.9+ KB\n"
     ]
    }
   ],
   "source": [
    "# 데이터 확인\n",
    "featureName.info()"
   ]
  },
  {
   "cell_type": "code",
   "execution_count": 50,
   "metadata": {},
   "outputs": [
    {
     "data": {
      "text/plain": [
       "84"
      ]
     },
     "execution_count": 50,
     "metadata": {},
     "output_type": "execute_result"
    }
   ],
   "source": [
    "# 중복값 확인\n",
    "featureName['col_name'].duplicated().sum()\n",
    "# => 중복값 84개... ㄷ ㄷ 엄청 많다."
   ]
  },
  {
   "cell_type": "code",
   "execution_count": 51,
   "metadata": {},
   "outputs": [],
   "source": [
    "# 중복값만 필터링 --> 인덱스 추출 -> 리스트에 담기\n",
    "dropIdx = featureName[featureName['col_name'].duplicated(keep='first')].index"
   ]
  },
  {
   "cell_type": "code",
   "execution_count": 56,
   "metadata": {},
   "outputs": [
    {
     "name": "stdout",
     "output_type": "stream",
     "text": [
      "<class 'pandas.core.frame.DataFrame'>\n",
      "RangeIndex: 7352 entries, 0 to 7351\n",
      "Columns: 561 entries, 0 to 560\n",
      "dtypes: float64(561)\n",
      "memory usage: 31.5 MB\n"
     ]
    }
   ],
   "source": [
    "featureName = pd.read_csv(feature_name_file, sep='\\s+', header = None)\n",
    "\n",
    "# 학습 데이터 로딩.\n",
    "XtrnDF = pd.read_csv(XtrnFile, sep='\\s+', header = None)\n",
    "XtstDF = pd.read_csv(XtstFile, sep='\\s+', header = None)\n",
    "XtrnDF.info()\n",
    "\n",
    "# df = pd.DataFrame({'label' : label_file,\n",
    "#                     'featureName' : feature_name_file,\n",
    "#                     'Xtrain' : XtrnFile\n",
    "#                    }, index=range(0, len(label_file)))\n",
    "\n",
    "\n",
    "#df\n",
    "\n",
    "#for idx in idxlist :\n",
    "    "
   ]
  },
  {
   "cell_type": "code",
   "execution_count": 57,
   "metadata": {},
   "outputs": [
    {
     "name": "stdout",
     "output_type": "stream",
     "text": [
      "<class 'pandas.core.frame.DataFrame'>\n",
      "RangeIndex: 7352 entries, 0 to 7351\n",
      "Columns: 477 entries, 0 to 476\n",
      "dtypes: float64(477)\n",
      "memory usage: 26.8 MB\n",
      "None\n",
      "\n",
      "<class 'pandas.core.frame.DataFrame'>\n",
      "RangeIndex: 2947 entries, 0 to 2946\n",
      "Columns: 477 entries, 0 to 476\n",
      "dtypes: float64(477)\n",
      "memory usage: 10.7 MB\n",
      "None\n",
      "\n",
      "<class 'pandas.core.frame.DataFrame'>\n",
      "RangeIndex: 477 entries, 0 to 476\n",
      "Data columns (total 2 columns):\n",
      " #   Column  Non-Null Count  Dtype \n",
      "---  ------  --------------  ----- \n",
      " 0   0       477 non-null    int64 \n",
      " 1   1       477 non-null    object\n",
      "dtypes: int64(1), object(1)\n",
      "memory usage: 7.6+ KB\n",
      "None\n"
     ]
    }
   ],
   "source": [
    "XtrnDF = XtrnDF.drop(dropIdx, axis='columns')\n",
    "XtrnDF= XtrnDF.T.reset_index(drop=True).T # 컬럼을 지우고 새로 인덱스를 부여하기 위해서 한번 돌린 후에 인덱스 새로 부여 ▶ 다시 원상복귀\n",
    "print(XtrnDF.info())\n",
    "print()\n",
    "XtstDF = XtstDF.drop(dropIdx, axis='columns')\n",
    "XtstDF= XtstDF.T.reset_index(drop=True).T\n",
    "print(XtstDF.info())\n",
    "print()\n",
    "featureName = featureName.drop(dropIdx)\n",
    "featureName= featureName.reset_index(drop=True)\n",
    "print(featureName.info())"
   ]
  },
  {
   "cell_type": "code",
   "execution_count": 54,
   "metadata": {},
   "outputs": [
    {
     "data": {
      "text/plain": [
       "0"
      ]
     },
     "execution_count": 54,
     "metadata": {},
     "output_type": "execute_result"
    }
   ],
   "source": [
    "featureName[0].duplicated().sum()"
   ]
  },
  {
   "cell_type": "markdown",
   "metadata": {},
   "source": [
    "xgboost => 데이터형을 dmatrix로 바꿔야 함."
   ]
  }
 ],
 "metadata": {
  "kernelspec": {
   "display_name": "EXAM_ML",
   "language": "python",
   "name": "python3"
  },
  "language_info": {
   "codemirror_mode": {
    "name": "ipython",
    "version": 3
   },
   "file_extension": ".py",
   "mimetype": "text/x-python",
   "name": "python",
   "nbconvert_exporter": "python",
   "pygments_lexer": "ipython3",
   "version": "3.9.18"
  }
 },
 "nbformat": 4,
 "nbformat_minor": 2
}
