{
 "cells": [
  {
   "cell_type": "markdown",
   "metadata": {},
   "source": [
    "### 선형 모델 동작 살펴보기\n",
    "- nn.Linear 클래스\n",
    "- y= wx+b 공식으로 동작하는 선형회귀모델"
   ]
  },
  {
   "cell_type": "code",
   "execution_count": 56,
   "metadata": {},
   "outputs": [],
   "source": [
    "# 모듈 로딩\n",
    "import torch                        # 텐서, 기본 함수들\n",
    "import torch.nn as nn               # 인공신경망 관련\n",
    "import torch.nn.functional as F        # 함수들"
   ]
  },
  {
   "cell_type": "code",
   "execution_count": 57,
   "metadata": {},
   "outputs": [
    {
     "data": {
      "text/plain": [
       "(torch.Size([3, 2]), torch.Size([3, 1]))"
      ]
     },
     "execution_count": 57,
     "metadata": {},
     "output_type": "execute_result"
    }
   ],
   "source": [
    "# 테스트용 임의의 데이터\n",
    "data = torch.FloatTensor([[8,9], \n",
    "                          [6,6],\n",
    "                          [3,4]])\n",
    "target = torch.LongTensor([[17], [12], [7]])\n",
    "\n",
    "data.shape, target.shape"
   ]
  },
  {
   "cell_type": "code",
   "execution_count": 58,
   "metadata": {},
   "outputs": [],
   "source": [
    "# 선형모델 인스턴스 생성. => 각 입력 데이터의 피처 개수, 각 출력 데이터의 피처 개수\n",
    "linear = nn.Linear(2,1) # 지금 하는 건 층이 없는 거 "
   ]
  },
  {
   "cell_type": "code",
   "execution_count": 59,
   "metadata": {},
   "outputs": [
    {
     "name": "stdout",
     "output_type": "stream",
     "text": [
      "[학습결과]\n",
      "torch.Size([3, 1])\n",
      "tensor([[-2.0201],\n",
      "        [-1.2512],\n",
      "        [-1.4079]], grad_fn=<AddmmBackward0>)\n"
     ]
    }
   ],
   "source": [
    "# 학습 \n",
    "output = linear(data)\n",
    "\n",
    "print(f'[학습결과]\\n{output.shape}\\n{output}')"
   ]
  },
  {
   "cell_type": "code",
   "execution_count": 60,
   "metadata": {},
   "outputs": [
    {
     "data": {
      "text/plain": [
       "(Parameter containing:\n",
       " tensor([[ 0.4016, -0.5240]], requires_grad=True),\n",
       " tensor([ 0.4016, -0.5240], grad_fn=<SelectBackward0>),\n",
       " 0.40155738592147827)"
      ]
     },
     "execution_count": 60,
     "metadata": {},
     "output_type": "execute_result"
    }
   ],
   "source": [
    "## 모델 파라미터\n",
    "linear.weight, linear.weight[0], linear.weight[0][0].item() # 값만 뽑아오고 싶을 때는 .item()"
   ]
  },
  {
   "cell_type": "code",
   "execution_count": 61,
   "metadata": {},
   "outputs": [
    {
     "data": {
      "text/plain": [
       "Parameter containing:\n",
       "tensor([-0.5167], requires_grad=True)"
      ]
     },
     "execution_count": 61,
     "metadata": {},
     "output_type": "execute_result"
    }
   ],
   "source": [
    "linear.bias"
   ]
  },
  {
   "cell_type": "code",
   "execution_count": 62,
   "metadata": {},
   "outputs": [
    {
     "name": "stdout",
     "output_type": "stream",
     "text": [
      "[0] -2.0200581550598145\n",
      "[1] -1.2512279748916626\n",
      "[2] -1.407936692237854\n"
     ]
    }
   ],
   "source": [
    "for i, value in enumerate(output.data) :\n",
    "    print(f'[{i}] {output.data[i].item()}')"
   ]
  },
  {
   "cell_type": "code",
   "execution_count": 63,
   "metadata": {},
   "outputs": [
    {
     "data": {
      "text/plain": [
       "tensor([[8., 9.],\n",
       "        [6., 6.],\n",
       "        [3., 4.]])"
      ]
     },
     "execution_count": 63,
     "metadata": {},
     "output_type": "execute_result"
    }
   ],
   "source": [
    "data"
   ]
  },
  {
   "cell_type": "code",
   "execution_count": 64,
   "metadata": {},
   "outputs": [
    {
     "name": "stdout",
     "output_type": "stream",
     "text": [
      "-2.0200581550598145\n"
     ]
    }
   ],
   "source": [
    "# 선형식 만들기\n",
    "w1 = linear.weight[0][0].item() # 가중치 w1\n",
    "w2 = linear.weight[0][1].item() # 가중치 w2\n",
    "b = linear.bias[0].item()\n",
    "\n",
    "\n",
    "y = w1*8. + w2*9. + b # 가중치 1* 8(데이터의 (0,1)) + 가중치 2 * 9 + 편향(b)\n",
    "\n",
    "print(y)"
   ]
  },
  {
   "cell_type": "markdown",
   "metadata": {},
   "source": [
    "#### Linear 결과와 활성화 함수 \n",
    "- 인공신경망에서 전결합층에 해당하는 Linear 모델에 AF(활성화 함수) 적용"
   ]
  },
  {
   "cell_type": "code",
   "execution_count": 65,
   "metadata": {},
   "outputs": [
    {
     "name": "stdout",
     "output_type": "stream",
     "text": [
      "학습 결과\n",
      " tensor([[0.1171],\n",
      "        [0.2225],\n",
      "        [0.1966]], grad_fn=<SigmoidBackward0>)\n"
     ]
    }
   ],
   "source": [
    "# 활성화 함수 (AF) 적용\n",
    "# sigmoid 함수 = > 0.0 ~ 1.0 사이의 값으로 변환\n",
    "\n",
    "af = F.sigmoid(output)\n",
    "print('학습 결과\\n', af)\n",
    "# 이 부분 빠지면 그냥 선형 회귀가 되는 것.\n",
    "\n",
    "# 여기서 계산한 결과가 0.5보다 크면 True / 0.5보다 작으면 False"
   ]
  },
  {
   "cell_type": "markdown",
   "metadata": {},
   "source": [
    "- 퍼셉트론 = 가중치 합 + AF 으로 달려 있음..!\n",
    "- Linear + sigmoid ---> Logistic 회귀"
   ]
  },
  {
   "cell_type": "code",
   "execution_count": 67,
   "metadata": {},
   "outputs": [
    {
     "name": "stdout",
     "output_type": "stream",
     "text": [
      "tensor([[0.],\n",
      "        [0.],\n",
      "        [0.]], grad_fn=<ReluBackward0>)\n"
     ]
    }
   ],
   "source": [
    "# relu 함수 \n",
    "# => output 결괏값 >0 : 그대로\n",
    "# output 결괏값 < = 0 : 0을 반환.\n",
    "af = F.relu(output)\n",
    "print(af)"
   ]
  },
  {
   "cell_type": "code",
   "execution_count": null,
   "metadata": {},
   "outputs": [],
   "source": []
  }
 ],
 "metadata": {
  "kernelspec": {
   "display_name": "Torch_py38",
   "language": "python",
   "name": "python3"
  },
  "language_info": {
   "codemirror_mode": {
    "name": "ipython",
    "version": 3
   },
   "file_extension": ".py",
   "mimetype": "text/x-python",
   "name": "python",
   "nbconvert_exporter": "python",
   "pygments_lexer": "ipython3",
   "version": "3.8.12"
  }
 },
 "nbformat": 4,
 "nbformat_minor": 2
}
