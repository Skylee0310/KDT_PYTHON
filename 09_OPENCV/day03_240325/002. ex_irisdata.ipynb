{
 "cells": [
  {
   "cell_type": "markdown",
   "id": "cafa775baef92e7a",
   "metadata": {
    "collapsed": false
   },
   "source": [
    "iris로 데이터셋 만들기"
   ]
  },
  {
   "cell_type": "code",
   "execution_count": 9,
   "id": "b112c2ae34942592",
   "metadata": {
    "ExecuteTime": {
     "end_time": "2024-03-25T05:44:08.593060Z",
     "start_time": "2024-03-25T05:44:08.583581Z"
    },
    "collapsed": false
   },
   "outputs": [],
   "source": [
    "import pandas as pd\n",
    "import torch\n",
    "import torch.nn as nn\n",
    "import torch.optim as optim\n",
    "from torch.utils.data import Dataset, DataLoader\n",
    "from sklearn.preprocessing import LabelEncoder"
   ]
  },
  {
   "cell_type": "code",
   "execution_count": 10,
   "id": "73e4988a9d82ba10",
   "metadata": {
    "ExecuteTime": {
     "end_time": "2024-03-25T05:44:08.608189Z",
     "start_time": "2024-03-25T05:44:08.600215Z"
    },
    "collapsed": false
   },
   "outputs": [],
   "source": [
    "class IrisDataset(Dataset):\n",
    "    # 초기화 콜백\n",
    "    def __init__(self, csv_file): \n",
    "        super().__init__()\n",
    "        data = pd.read_csv(csv_file)\n",
    "        \n",
    "        self.x = data.iloc[:,:-1].values #feature\n",
    "        self.y = data.iloc[:,-1].values # target\n",
    "        \n",
    "        # 타겟(str) 인코딩하기\n",
    "        label_encoder = LabelEncoder()\n",
    "        y = label_encoder.fit_transform(self.y)\n",
    "        self.y = y\n",
    "        #tensorize\n",
    "        self.feature = torch.tensor(self.y,dtype=torch.long)\n",
    "        self.target = torch.FloatTensor(self.x)\n",
    "        \n",
    "    #데이터셋 길이 체크(개수) 콜백    \n",
    "    def __len__(self):\n",
    "        return len(self.target) # return self.target.shape[0]\n",
    "    \n",
    "    #특정 인덱스 + 라벨(타겟) 데이터 반환 콜백함수\n",
    "    def __getitem__(self, idx):\n",
    "        return self.target[idx], self.feature[idx]"
   ]
  },
  {
   "cell_type": "code",
   "execution_count": 12,
   "id": "cfcc09dc7b7c990f",
   "metadata": {
    "ExecuteTime": {
     "end_time": "2024-03-25T05:44:08.639085Z",
     "start_time": "2024-03-25T05:44:08.618158Z"
    },
    "collapsed": false
   },
   "outputs": [],
   "source": [
    "dataset = IrisDataset('../data/iris.csv') \n",
    "dataloader = DataLoader(dataset, batch_size=4, shuffle=True)"
   ]
  },
  {
   "cell_type": "code",
   "execution_count": 13,
   "id": "8a95ffdcff35e143",
   "metadata": {
    "ExecuteTime": {
     "end_time": "2024-03-25T05:44:08.654450Z",
     "start_time": "2024-03-25T05:44:08.640082Z"
    },
    "collapsed": false
   },
   "outputs": [
    {
     "data": {
      "text/plain": [
       "(tensor([5.1000, 3.5000, 1.4000, 0.2000]), tensor(0))"
      ]
     },
     "execution_count": 13,
     "metadata": {},
     "output_type": "execute_result"
    }
   ],
   "source": [
    "# __getitem__(0)\n",
    "dataset[0]"
   ]
  },
  {
   "cell_type": "markdown",
   "id": "4ed4afc04eee1dad",
   "metadata": {
    "collapsed": false
   },
   "source": [
    "### DATALOADER\n",
    "- batch_size, shuffle, drop_last, sampler"
   ]
  },
  {
   "cell_type": "code",
   "execution_count": 14,
   "id": "ab57c1f37efe9e82",
   "metadata": {
    "ExecuteTime": {
     "end_time": "2024-03-25T05:49:13.694023Z",
     "start_time": "2024-03-25T05:49:13.680057Z"
    },
    "collapsed": false
   },
   "outputs": [],
   "source": [
    "# # 로딩된 데이터 확인 함수\n",
    "# def print_batch_data(loader,epochs, batch_size = 1, shuffle = False, drop_last = False, sampler = None) : #sampler과 shuffle는 함께 쓸 수 없음: 하나가 true면 하나는 False\n",
    "#     print(f'[설정값] batchsize = {batch_size}, shuffle: {shuffle}, drop_last = {drop_last}, sampler = {sampler}')\n",
    "#     for ep in range(epochs):\n",
    "#         print(f'[{ep}] EPOCHS===================Batch {len(loader)}===')\n",
    "#         for (feature,label) in loader:\n",
    "#             print(feature.shape, label.shape, label)"
   ]
  },
  {
   "cell_type": "code",
   "execution_count": 15,
   "id": "41b5792c",
   "metadata": {},
   "outputs": [],
   "source": [
    "# 로딩된 데이터 확인 함수\n",
    "def print_batch_data(loader,epochs, batch_size = 1, shuffle = False, drop_last = False, sampler = None) : #sampler과 shuffle는 함께 쓸 수 없음: 하나가 true면 하나는 False\n",
    "    print(f'[설정값] batchsize = {batch_size}, shuffle: {shuffle}, drop_last = {drop_last}, sampler = {sampler}')\n",
    "    for ep in range(epochs):\n",
    "        print(f'[{ep}] EPOCHS===================Batch {len(loader)}===')\n",
    "        for (feature,label) in loader:\n",
    "            print(feature.shape, label.shape, label)"
   ]
  },
  {
   "cell_type": "code",
   "execution_count": 16,
   "id": "dccd9287f8b69f3f",
   "metadata": {
    "ExecuteTime": {
     "end_time": "2024-03-25T05:49:14.084298Z",
     "start_time": "2024-03-25T05:49:14.025682Z"
    },
    "collapsed": false
   },
   "outputs": [
    {
     "name": "stdout",
     "output_type": "stream",
     "text": [
      "[설정값] batchsize = 1, shuffle: False, drop_last = False, sampler = None\n",
      "[0] EPOCHS===================Batch 150===\n",
      "torch.Size([1, 4]) torch.Size([1]) tensor([0])\n",
      "torch.Size([1, 4]) torch.Size([1]) tensor([0])\n",
      "torch.Size([1, 4]) torch.Size([1]) tensor([0])\n",
      "torch.Size([1, 4]) torch.Size([1]) tensor([0])\n",
      "torch.Size([1, 4]) torch.Size([1]) tensor([0])\n",
      "torch.Size([1, 4]) torch.Size([1]) tensor([0])\n",
      "torch.Size([1, 4]) torch.Size([1]) tensor([0])\n",
      "torch.Size([1, 4]) torch.Size([1]) tensor([0])\n",
      "torch.Size([1, 4]) torch.Size([1]) tensor([0])\n",
      "torch.Size([1, 4]) torch.Size([1]) tensor([0])\n",
      "torch.Size([1, 4]) torch.Size([1]) tensor([0])\n",
      "torch.Size([1, 4]) torch.Size([1]) tensor([0])\n",
      "torch.Size([1, 4]) torch.Size([1]) tensor([0])\n",
      "torch.Size([1, 4]) torch.Size([1]) tensor([0])\n",
      "torch.Size([1, 4]) torch.Size([1]) tensor([0])\n",
      "torch.Size([1, 4]) torch.Size([1]) tensor([0])\n",
      "torch.Size([1, 4]) torch.Size([1]) tensor([0])\n",
      "torch.Size([1, 4]) torch.Size([1]) tensor([0])\n",
      "torch.Size([1, 4]) torch.Size([1]) tensor([0])\n",
      "torch.Size([1, 4]) torch.Size([1]) tensor([0])\n",
      "torch.Size([1, 4]) torch.Size([1]) tensor([0])\n",
      "torch.Size([1, 4]) torch.Size([1]) tensor([0])\n",
      "torch.Size([1, 4]) torch.Size([1]) tensor([0])\n",
      "torch.Size([1, 4]) torch.Size([1]) tensor([0])\n",
      "torch.Size([1, 4]) torch.Size([1]) tensor([0])\n",
      "torch.Size([1, 4]) torch.Size([1]) tensor([0])\n",
      "torch.Size([1, 4]) torch.Size([1]) tensor([0])\n",
      "torch.Size([1, 4]) torch.Size([1]) tensor([0])\n",
      "torch.Size([1, 4]) torch.Size([1]) tensor([0])\n",
      "torch.Size([1, 4]) torch.Size([1]) tensor([0])\n",
      "torch.Size([1, 4]) torch.Size([1]) tensor([0])\n",
      "torch.Size([1, 4]) torch.Size([1]) tensor([0])\n",
      "torch.Size([1, 4]) torch.Size([1]) tensor([0])\n",
      "torch.Size([1, 4]) torch.Size([1]) tensor([0])\n",
      "torch.Size([1, 4]) torch.Size([1]) tensor([0])\n",
      "torch.Size([1, 4]) torch.Size([1]) tensor([0])\n",
      "torch.Size([1, 4]) torch.Size([1]) tensor([0])\n",
      "torch.Size([1, 4]) torch.Size([1]) tensor([0])\n",
      "torch.Size([1, 4]) torch.Size([1]) tensor([0])\n",
      "torch.Size([1, 4]) torch.Size([1]) tensor([0])\n",
      "torch.Size([1, 4]) torch.Size([1]) tensor([0])\n",
      "torch.Size([1, 4]) torch.Size([1]) tensor([0])\n",
      "torch.Size([1, 4]) torch.Size([1]) tensor([0])\n",
      "torch.Size([1, 4]) torch.Size([1]) tensor([0])\n",
      "torch.Size([1, 4]) torch.Size([1]) tensor([0])\n",
      "torch.Size([1, 4]) torch.Size([1]) tensor([0])\n",
      "torch.Size([1, 4]) torch.Size([1]) tensor([0])\n",
      "torch.Size([1, 4]) torch.Size([1]) tensor([0])\n",
      "torch.Size([1, 4]) torch.Size([1]) tensor([0])\n",
      "torch.Size([1, 4]) torch.Size([1]) tensor([0])\n",
      "torch.Size([1, 4]) torch.Size([1]) tensor([1])\n",
      "torch.Size([1, 4]) torch.Size([1]) tensor([1])\n",
      "torch.Size([1, 4]) torch.Size([1]) tensor([1])\n",
      "torch.Size([1, 4]) torch.Size([1]) tensor([1])\n",
      "torch.Size([1, 4]) torch.Size([1]) tensor([1])\n",
      "torch.Size([1, 4]) torch.Size([1]) tensor([1])\n",
      "torch.Size([1, 4]) torch.Size([1]) tensor([1])\n",
      "torch.Size([1, 4]) torch.Size([1]) tensor([1])\n",
      "torch.Size([1, 4]) torch.Size([1]) tensor([1])\n",
      "torch.Size([1, 4]) torch.Size([1]) tensor([1])\n",
      "torch.Size([1, 4]) torch.Size([1]) tensor([1])\n",
      "torch.Size([1, 4]) torch.Size([1]) tensor([1])\n",
      "torch.Size([1, 4]) torch.Size([1]) tensor([1])\n",
      "torch.Size([1, 4]) torch.Size([1]) tensor([1])\n",
      "torch.Size([1, 4]) torch.Size([1]) tensor([1])\n",
      "torch.Size([1, 4]) torch.Size([1]) tensor([1])\n",
      "torch.Size([1, 4]) torch.Size([1]) tensor([1])\n",
      "torch.Size([1, 4]) torch.Size([1]) tensor([1])\n",
      "torch.Size([1, 4]) torch.Size([1]) tensor([1])\n",
      "torch.Size([1, 4]) torch.Size([1]) tensor([1])\n",
      "torch.Size([1, 4]) torch.Size([1]) tensor([1])\n",
      "torch.Size([1, 4]) torch.Size([1]) tensor([1])\n",
      "torch.Size([1, 4]) torch.Size([1]) tensor([1])\n",
      "torch.Size([1, 4]) torch.Size([1]) tensor([1])\n",
      "torch.Size([1, 4]) torch.Size([1]) tensor([1])\n",
      "torch.Size([1, 4]) torch.Size([1]) tensor([1])\n",
      "torch.Size([1, 4]) torch.Size([1]) tensor([1])\n",
      "torch.Size([1, 4]) torch.Size([1]) tensor([1])\n",
      "torch.Size([1, 4]) torch.Size([1]) tensor([1])\n",
      "torch.Size([1, 4]) torch.Size([1]) tensor([1])\n",
      "torch.Size([1, 4]) torch.Size([1]) tensor([1])\n",
      "torch.Size([1, 4]) torch.Size([1]) tensor([1])\n",
      "torch.Size([1, 4]) torch.Size([1]) tensor([1])\n",
      "torch.Size([1, 4]) torch.Size([1]) tensor([1])\n",
      "torch.Size([1, 4]) torch.Size([1]) tensor([1])\n",
      "torch.Size([1, 4]) torch.Size([1]) tensor([1])\n",
      "torch.Size([1, 4]) torch.Size([1]) tensor([1])\n",
      "torch.Size([1, 4]) torch.Size([1]) tensor([1])\n",
      "torch.Size([1, 4]) torch.Size([1]) tensor([1])\n",
      "torch.Size([1, 4]) torch.Size([1]) tensor([1])\n",
      "torch.Size([1, 4]) torch.Size([1]) tensor([1])\n",
      "torch.Size([1, 4]) torch.Size([1]) tensor([1])\n",
      "torch.Size([1, 4]) torch.Size([1]) tensor([1])\n",
      "torch.Size([1, 4]) torch.Size([1]) tensor([1])\n",
      "torch.Size([1, 4]) torch.Size([1]) tensor([1])\n",
      "torch.Size([1, 4]) torch.Size([1]) tensor([1])\n",
      "torch.Size([1, 4]) torch.Size([1]) tensor([1])\n",
      "torch.Size([1, 4]) torch.Size([1]) tensor([1])\n",
      "torch.Size([1, 4]) torch.Size([1]) tensor([1])\n",
      "torch.Size([1, 4]) torch.Size([1]) tensor([1])\n",
      "torch.Size([1, 4]) torch.Size([1]) tensor([2])\n",
      "torch.Size([1, 4]) torch.Size([1]) tensor([2])\n",
      "torch.Size([1, 4]) torch.Size([1]) tensor([2])\n",
      "torch.Size([1, 4]) torch.Size([1]) tensor([2])\n",
      "torch.Size([1, 4]) torch.Size([1]) tensor([2])\n",
      "torch.Size([1, 4]) torch.Size([1]) tensor([2])\n",
      "torch.Size([1, 4]) torch.Size([1]) tensor([2])\n",
      "torch.Size([1, 4]) torch.Size([1]) tensor([2])\n",
      "torch.Size([1, 4]) torch.Size([1]) tensor([2])\n",
      "torch.Size([1, 4]) torch.Size([1]) tensor([2])\n",
      "torch.Size([1, 4]) torch.Size([1]) tensor([2])\n",
      "torch.Size([1, 4]) torch.Size([1]) tensor([2])\n",
      "torch.Size([1, 4]) torch.Size([1]) tensor([2])\n",
      "torch.Size([1, 4]) torch.Size([1]) tensor([2])\n",
      "torch.Size([1, 4]) torch.Size([1]) tensor([2])\n",
      "torch.Size([1, 4]) torch.Size([1]) tensor([2])\n",
      "torch.Size([1, 4]) torch.Size([1]) tensor([2])\n",
      "torch.Size([1, 4]) torch.Size([1]) tensor([2])\n",
      "torch.Size([1, 4]) torch.Size([1]) tensor([2])\n",
      "torch.Size([1, 4]) torch.Size([1]) tensor([2])\n",
      "torch.Size([1, 4]) torch.Size([1]) tensor([2])\n",
      "torch.Size([1, 4]) torch.Size([1]) tensor([2])\n",
      "torch.Size([1, 4]) torch.Size([1]) tensor([2])\n",
      "torch.Size([1, 4]) torch.Size([1]) tensor([2])\n",
      "torch.Size([1, 4]) torch.Size([1]) tensor([2])\n",
      "torch.Size([1, 4]) torch.Size([1]) tensor([2])\n",
      "torch.Size([1, 4]) torch.Size([1]) tensor([2])\n",
      "torch.Size([1, 4]) torch.Size([1]) tensor([2])\n",
      "torch.Size([1, 4]) torch.Size([1]) tensor([2])\n",
      "torch.Size([1, 4]) torch.Size([1]) tensor([2])\n",
      "torch.Size([1, 4]) torch.Size([1]) tensor([2])\n",
      "torch.Size([1, 4]) torch.Size([1]) tensor([2])\n",
      "torch.Size([1, 4]) torch.Size([1]) tensor([2])\n",
      "torch.Size([1, 4]) torch.Size([1]) tensor([2])\n",
      "torch.Size([1, 4]) torch.Size([1]) tensor([2])\n",
      "torch.Size([1, 4]) torch.Size([1]) tensor([2])\n",
      "torch.Size([1, 4]) torch.Size([1]) tensor([2])\n",
      "torch.Size([1, 4]) torch.Size([1]) tensor([2])\n",
      "torch.Size([1, 4]) torch.Size([1]) tensor([2])\n",
      "torch.Size([1, 4]) torch.Size([1]) tensor([2])\n",
      "torch.Size([1, 4]) torch.Size([1]) tensor([2])\n",
      "torch.Size([1, 4]) torch.Size([1]) tensor([2])\n",
      "torch.Size([1, 4]) torch.Size([1]) tensor([2])\n",
      "torch.Size([1, 4]) torch.Size([1]) tensor([2])\n",
      "torch.Size([1, 4]) torch.Size([1]) tensor([2])\n",
      "torch.Size([1, 4]) torch.Size([1]) tensor([2])\n",
      "torch.Size([1, 4]) torch.Size([1]) tensor([2])\n",
      "torch.Size([1, 4]) torch.Size([1]) tensor([2])\n",
      "torch.Size([1, 4]) torch.Size([1]) tensor([2])\n",
      "torch.Size([1, 4]) torch.Size([1]) tensor([2])\n",
      "[1] EPOCHS===================Batch 150===\n",
      "torch.Size([1, 4]) torch.Size([1]) tensor([0])\n",
      "torch.Size([1, 4]) torch.Size([1]) tensor([0])\n",
      "torch.Size([1, 4]) torch.Size([1]) tensor([0])\n",
      "torch.Size([1, 4]) torch.Size([1]) tensor([0])\n",
      "torch.Size([1, 4]) torch.Size([1]) tensor([0])\n",
      "torch.Size([1, 4]) torch.Size([1]) tensor([0])\n",
      "torch.Size([1, 4]) torch.Size([1]) tensor([0])\n",
      "torch.Size([1, 4]) torch.Size([1]) tensor([0])\n",
      "torch.Size([1, 4]) torch.Size([1]) tensor([0])\n",
      "torch.Size([1, 4]) torch.Size([1]) tensor([0])\n",
      "torch.Size([1, 4]) torch.Size([1]) tensor([0])\n",
      "torch.Size([1, 4]) torch.Size([1]) tensor([0])\n",
      "torch.Size([1, 4]) torch.Size([1]) tensor([0])\n",
      "torch.Size([1, 4]) torch.Size([1]) tensor([0])\n",
      "torch.Size([1, 4]) torch.Size([1]) tensor([0])\n",
      "torch.Size([1, 4]) torch.Size([1]) tensor([0])\n",
      "torch.Size([1, 4]) torch.Size([1]) tensor([0])\n",
      "torch.Size([1, 4]) torch.Size([1]) tensor([0])\n",
      "torch.Size([1, 4]) torch.Size([1]) tensor([0])\n",
      "torch.Size([1, 4]) torch.Size([1]) tensor([0])\n",
      "torch.Size([1, 4]) torch.Size([1]) tensor([0])\n",
      "torch.Size([1, 4]) torch.Size([1]) tensor([0])\n",
      "torch.Size([1, 4]) torch.Size([1]) tensor([0])\n",
      "torch.Size([1, 4]) torch.Size([1]) tensor([0])\n",
      "torch.Size([1, 4]) torch.Size([1]) tensor([0])\n",
      "torch.Size([1, 4]) torch.Size([1]) tensor([0])\n",
      "torch.Size([1, 4]) torch.Size([1]) tensor([0])\n",
      "torch.Size([1, 4]) torch.Size([1]) tensor([0])\n",
      "torch.Size([1, 4]) torch.Size([1]) tensor([0])\n",
      "torch.Size([1, 4]) torch.Size([1]) tensor([0])\n",
      "torch.Size([1, 4]) torch.Size([1]) tensor([0])\n",
      "torch.Size([1, 4]) torch.Size([1]) tensor([0])\n",
      "torch.Size([1, 4]) torch.Size([1]) tensor([0])\n",
      "torch.Size([1, 4]) torch.Size([1]) tensor([0])\n",
      "torch.Size([1, 4]) torch.Size([1]) tensor([0])\n",
      "torch.Size([1, 4]) torch.Size([1]) tensor([0])\n",
      "torch.Size([1, 4]) torch.Size([1]) tensor([0])\n",
      "torch.Size([1, 4]) torch.Size([1]) tensor([0])\n",
      "torch.Size([1, 4]) torch.Size([1]) tensor([0])\n",
      "torch.Size([1, 4]) torch.Size([1]) tensor([0])\n",
      "torch.Size([1, 4]) torch.Size([1]) tensor([0])\n",
      "torch.Size([1, 4]) torch.Size([1]) tensor([0])\n",
      "torch.Size([1, 4]) torch.Size([1]) tensor([0])\n",
      "torch.Size([1, 4]) torch.Size([1]) tensor([0])\n",
      "torch.Size([1, 4]) torch.Size([1]) tensor([0])\n",
      "torch.Size([1, 4]) torch.Size([1]) tensor([0])\n",
      "torch.Size([1, 4]) torch.Size([1]) tensor([0])\n",
      "torch.Size([1, 4]) torch.Size([1]) tensor([0])\n",
      "torch.Size([1, 4]) torch.Size([1]) tensor([0])\n",
      "torch.Size([1, 4]) torch.Size([1]) tensor([0])\n",
      "torch.Size([1, 4]) torch.Size([1]) tensor([1])\n",
      "torch.Size([1, 4]) torch.Size([1]) tensor([1])\n",
      "torch.Size([1, 4]) torch.Size([1]) tensor([1])\n",
      "torch.Size([1, 4]) torch.Size([1]) tensor([1])\n",
      "torch.Size([1, 4]) torch.Size([1]) tensor([1])\n",
      "torch.Size([1, 4]) torch.Size([1]) tensor([1])\n",
      "torch.Size([1, 4]) torch.Size([1]) tensor([1])\n",
      "torch.Size([1, 4]) torch.Size([1]) tensor([1])\n",
      "torch.Size([1, 4]) torch.Size([1]) tensor([1])\n",
      "torch.Size([1, 4]) torch.Size([1]) tensor([1])\n",
      "torch.Size([1, 4]) torch.Size([1]) tensor([1])\n",
      "torch.Size([1, 4]) torch.Size([1]) tensor([1])\n",
      "torch.Size([1, 4]) torch.Size([1]) tensor([1])\n",
      "torch.Size([1, 4]) torch.Size([1]) tensor([1])\n",
      "torch.Size([1, 4]) torch.Size([1]) tensor([1])\n",
      "torch.Size([1, 4]) torch.Size([1]) tensor([1])\n",
      "torch.Size([1, 4]) torch.Size([1]) tensor([1])\n",
      "torch.Size([1, 4]) torch.Size([1]) tensor([1])\n",
      "torch.Size([1, 4]) torch.Size([1]) tensor([1])\n",
      "torch.Size([1, 4]) torch.Size([1]) tensor([1])\n",
      "torch.Size([1, 4]) torch.Size([1]) tensor([1])\n",
      "torch.Size([1, 4]) torch.Size([1]) tensor([1])\n",
      "torch.Size([1, 4]) torch.Size([1]) tensor([1])\n",
      "torch.Size([1, 4]) torch.Size([1]) tensor([1])\n",
      "torch.Size([1, 4]) torch.Size([1]) tensor([1])\n",
      "torch.Size([1, 4]) torch.Size([1]) tensor([1])\n",
      "torch.Size([1, 4]) torch.Size([1]) tensor([1])\n",
      "torch.Size([1, 4]) torch.Size([1]) tensor([1])\n",
      "torch.Size([1, 4]) torch.Size([1]) tensor([1])\n",
      "torch.Size([1, 4]) torch.Size([1]) tensor([1])\n",
      "torch.Size([1, 4]) torch.Size([1]) tensor([1])\n",
      "torch.Size([1, 4]) torch.Size([1]) tensor([1])\n",
      "torch.Size([1, 4]) torch.Size([1]) tensor([1])\n",
      "torch.Size([1, 4]) torch.Size([1]) tensor([1])\n",
      "torch.Size([1, 4]) torch.Size([1]) tensor([1])\n",
      "torch.Size([1, 4]) torch.Size([1]) tensor([1])\n",
      "torch.Size([1, 4]) torch.Size([1]) tensor([1])\n",
      "torch.Size([1, 4]) torch.Size([1]) tensor([1])\n",
      "torch.Size([1, 4]) torch.Size([1]) tensor([1])\n",
      "torch.Size([1, 4]) torch.Size([1]) tensor([1])\n",
      "torch.Size([1, 4]) torch.Size([1]) tensor([1])\n",
      "torch.Size([1, 4]) torch.Size([1]) tensor([1])\n",
      "torch.Size([1, 4]) torch.Size([1]) tensor([1])\n",
      "torch.Size([1, 4]) torch.Size([1]) tensor([1])\n",
      "torch.Size([1, 4]) torch.Size([1]) tensor([1])\n",
      "torch.Size([1, 4]) torch.Size([1]) tensor([1])\n",
      "torch.Size([1, 4]) torch.Size([1]) tensor([1])\n",
      "torch.Size([1, 4]) torch.Size([1]) tensor([1])\n",
      "torch.Size([1, 4]) torch.Size([1]) tensor([1])\n",
      "torch.Size([1, 4]) torch.Size([1]) tensor([1])\n",
      "torch.Size([1, 4]) torch.Size([1]) tensor([2])\n",
      "torch.Size([1, 4]) torch.Size([1]) tensor([2])\n",
      "torch.Size([1, 4]) torch.Size([1]) tensor([2])\n",
      "torch.Size([1, 4]) torch.Size([1]) tensor([2])\n",
      "torch.Size([1, 4]) torch.Size([1]) tensor([2])\n",
      "torch.Size([1, 4]) torch.Size([1]) tensor([2])\n",
      "torch.Size([1, 4]) torch.Size([1]) tensor([2])\n",
      "torch.Size([1, 4]) torch.Size([1]) tensor([2])\n",
      "torch.Size([1, 4]) torch.Size([1]) tensor([2])\n",
      "torch.Size([1, 4]) torch.Size([1]) tensor([2])\n",
      "torch.Size([1, 4]) torch.Size([1]) tensor([2])\n",
      "torch.Size([1, 4]) torch.Size([1]) tensor([2])\n",
      "torch.Size([1, 4]) torch.Size([1]) tensor([2])\n",
      "torch.Size([1, 4]) torch.Size([1]) tensor([2])\n",
      "torch.Size([1, 4]) torch.Size([1]) tensor([2])\n",
      "torch.Size([1, 4]) torch.Size([1]) tensor([2])\n",
      "torch.Size([1, 4]) torch.Size([1]) tensor([2])\n",
      "torch.Size([1, 4]) torch.Size([1]) tensor([2])\n",
      "torch.Size([1, 4]) torch.Size([1]) tensor([2])\n",
      "torch.Size([1, 4]) torch.Size([1]) tensor([2])\n",
      "torch.Size([1, 4]) torch.Size([1]) tensor([2])\n",
      "torch.Size([1, 4]) torch.Size([1]) tensor([2])\n",
      "torch.Size([1, 4]) torch.Size([1]) tensor([2])\n",
      "torch.Size([1, 4]) torch.Size([1]) tensor([2])\n",
      "torch.Size([1, 4]) torch.Size([1]) tensor([2])\n",
      "torch.Size([1, 4]) torch.Size([1]) tensor([2])\n",
      "torch.Size([1, 4]) torch.Size([1]) tensor([2])\n",
      "torch.Size([1, 4]) torch.Size([1]) tensor([2])\n",
      "torch.Size([1, 4]) torch.Size([1]) tensor([2])\n",
      "torch.Size([1, 4]) torch.Size([1]) tensor([2])\n",
      "torch.Size([1, 4]) torch.Size([1]) tensor([2])\n",
      "torch.Size([1, 4]) torch.Size([1]) tensor([2])\n",
      "torch.Size([1, 4]) torch.Size([1]) tensor([2])\n",
      "torch.Size([1, 4]) torch.Size([1]) tensor([2])\n",
      "torch.Size([1, 4]) torch.Size([1]) tensor([2])\n",
      "torch.Size([1, 4]) torch.Size([1]) tensor([2])\n",
      "torch.Size([1, 4]) torch.Size([1]) tensor([2])\n",
      "torch.Size([1, 4]) torch.Size([1]) tensor([2])\n",
      "torch.Size([1, 4]) torch.Size([1]) tensor([2])\n",
      "torch.Size([1, 4]) torch.Size([1]) tensor([2])\n",
      "torch.Size([1, 4]) torch.Size([1]) tensor([2])\n",
      "torch.Size([1, 4]) torch.Size([1]) tensor([2])\n",
      "torch.Size([1, 4]) torch.Size([1]) tensor([2])\n",
      "torch.Size([1, 4]) torch.Size([1]) tensor([2])\n",
      "torch.Size([1, 4]) torch.Size([1]) tensor([2])\n",
      "torch.Size([1, 4]) torch.Size([1]) tensor([2])\n",
      "torch.Size([1, 4]) torch.Size([1]) tensor([2])\n",
      "torch.Size([1, 4]) torch.Size([1]) tensor([2])\n",
      "torch.Size([1, 4]) torch.Size([1]) tensor([2])\n",
      "torch.Size([1, 4]) torch.Size([1]) tensor([2])\n"
     ]
    }
   ],
   "source": [
    "### => [ 기본 사용 ] batch_size = 1, shuffle = False, drop_last = False, sampler = None\n",
    "loader = DataLoader(dataset)\n",
    "print_batch_data(loader=loader, epochs=2)"
   ]
  },
  {
   "cell_type": "code",
   "execution_count": 17,
   "id": "75ab4f19ef95dcae",
   "metadata": {
    "ExecuteTime": {
     "end_time": "2024-03-25T05:50:38.846655Z",
     "start_time": "2024-03-25T05:50:38.825199Z"
    },
    "collapsed": false
   },
   "outputs": [
    {
     "name": "stdout",
     "output_type": "stream",
     "text": [
      "[설정값] batchsize = 1, shuffle: False, drop_last = False, sampler = None\n",
      "[0] EPOCHS===================Batch 7===\n",
      "torch.Size([22, 4]) torch.Size([22]) tensor([0, 0, 0, 0, 0, 0, 0, 0, 0, 0, 0, 0, 0, 0, 0, 0, 0, 0, 0, 0, 0, 0])\n",
      "torch.Size([22, 4]) torch.Size([22]) tensor([0, 0, 0, 0, 0, 0, 0, 0, 0, 0, 0, 0, 0, 0, 0, 0, 0, 0, 0, 0, 0, 0])\n",
      "torch.Size([22, 4]) torch.Size([22]) tensor([0, 0, 0, 0, 0, 0, 1, 1, 1, 1, 1, 1, 1, 1, 1, 1, 1, 1, 1, 1, 1, 1])\n",
      "torch.Size([22, 4]) torch.Size([22]) tensor([1, 1, 1, 1, 1, 1, 1, 1, 1, 1, 1, 1, 1, 1, 1, 1, 1, 1, 1, 1, 1, 1])\n",
      "torch.Size([22, 4]) torch.Size([22]) tensor([1, 1, 1, 1, 1, 1, 1, 1, 1, 1, 1, 1, 2, 2, 2, 2, 2, 2, 2, 2, 2, 2])\n",
      "torch.Size([22, 4]) torch.Size([22]) tensor([2, 2, 2, 2, 2, 2, 2, 2, 2, 2, 2, 2, 2, 2, 2, 2, 2, 2, 2, 2, 2, 2])\n",
      "torch.Size([18, 4]) torch.Size([18]) tensor([2, 2, 2, 2, 2, 2, 2, 2, 2, 2, 2, 2, 2, 2, 2, 2, 2, 2])\n",
      "[1] EPOCHS===================Batch 7===\n",
      "torch.Size([22, 4]) torch.Size([22]) tensor([0, 0, 0, 0, 0, 0, 0, 0, 0, 0, 0, 0, 0, 0, 0, 0, 0, 0, 0, 0, 0, 0])\n",
      "torch.Size([22, 4]) torch.Size([22]) tensor([0, 0, 0, 0, 0, 0, 0, 0, 0, 0, 0, 0, 0, 0, 0, 0, 0, 0, 0, 0, 0, 0])\n",
      "torch.Size([22, 4]) torch.Size([22]) tensor([0, 0, 0, 0, 0, 0, 1, 1, 1, 1, 1, 1, 1, 1, 1, 1, 1, 1, 1, 1, 1, 1])\n",
      "torch.Size([22, 4]) torch.Size([22]) tensor([1, 1, 1, 1, 1, 1, 1, 1, 1, 1, 1, 1, 1, 1, 1, 1, 1, 1, 1, 1, 1, 1])\n",
      "torch.Size([22, 4]) torch.Size([22]) tensor([1, 1, 1, 1, 1, 1, 1, 1, 1, 1, 1, 1, 2, 2, 2, 2, 2, 2, 2, 2, 2, 2])\n",
      "torch.Size([22, 4]) torch.Size([22]) tensor([2, 2, 2, 2, 2, 2, 2, 2, 2, 2, 2, 2, 2, 2, 2, 2, 2, 2, 2, 2, 2, 2])\n",
      "torch.Size([18, 4]) torch.Size([18]) tensor([2, 2, 2, 2, 2, 2, 2, 2, 2, 2, 2, 2, 2, 2, 2, 2, 2, 2])\n"
     ]
    }
   ],
   "source": [
    "### => [ 설정 사용 ] batch_size = 22, shuffle = False, drop_last = False, sampler = None\n",
    "loader = DataLoader(dataset, batch_size=22)\n",
    "print_batch_data(loader=loader, epochs=2)"
   ]
  },
  {
   "cell_type": "code",
   "execution_count": 18,
   "id": "458ea88a83a8cb2f",
   "metadata": {
    "ExecuteTime": {
     "end_time": "2024-03-25T05:51:49.236367Z",
     "start_time": "2024-03-25T05:51:49.215944Z"
    },
    "collapsed": false
   },
   "outputs": [
    {
     "name": "stdout",
     "output_type": "stream",
     "text": [
      "[설정값] batchsize = 1, shuffle: False, drop_last = True, sampler = None\n",
      "[0] EPOCHS===================Batch 6===\n",
      "torch.Size([22, 4]) torch.Size([22]) tensor([0, 0, 0, 0, 0, 0, 0, 0, 0, 0, 0, 0, 0, 0, 0, 0, 0, 0, 0, 0, 0, 0])\n",
      "torch.Size([22, 4]) torch.Size([22]) tensor([0, 0, 0, 0, 0, 0, 0, 0, 0, 0, 0, 0, 0, 0, 0, 0, 0, 0, 0, 0, 0, 0])\n",
      "torch.Size([22, 4]) torch.Size([22]) tensor([0, 0, 0, 0, 0, 0, 1, 1, 1, 1, 1, 1, 1, 1, 1, 1, 1, 1, 1, 1, 1, 1])\n",
      "torch.Size([22, 4]) torch.Size([22]) tensor([1, 1, 1, 1, 1, 1, 1, 1, 1, 1, 1, 1, 1, 1, 1, 1, 1, 1, 1, 1, 1, 1])\n",
      "torch.Size([22, 4]) torch.Size([22]) tensor([1, 1, 1, 1, 1, 1, 1, 1, 1, 1, 1, 1, 2, 2, 2, 2, 2, 2, 2, 2, 2, 2])\n",
      "torch.Size([22, 4]) torch.Size([22]) tensor([2, 2, 2, 2, 2, 2, 2, 2, 2, 2, 2, 2, 2, 2, 2, 2, 2, 2, 2, 2, 2, 2])\n",
      "[1] EPOCHS===================Batch 6===\n",
      "torch.Size([22, 4]) torch.Size([22]) tensor([0, 0, 0, 0, 0, 0, 0, 0, 0, 0, 0, 0, 0, 0, 0, 0, 0, 0, 0, 0, 0, 0])\n",
      "torch.Size([22, 4]) torch.Size([22]) tensor([0, 0, 0, 0, 0, 0, 0, 0, 0, 0, 0, 0, 0, 0, 0, 0, 0, 0, 0, 0, 0, 0])\n",
      "torch.Size([22, 4]) torch.Size([22]) tensor([0, 0, 0, 0, 0, 0, 1, 1, 1, 1, 1, 1, 1, 1, 1, 1, 1, 1, 1, 1, 1, 1])\n",
      "torch.Size([22, 4]) torch.Size([22]) tensor([1, 1, 1, 1, 1, 1, 1, 1, 1, 1, 1, 1, 1, 1, 1, 1, 1, 1, 1, 1, 1, 1])\n",
      "torch.Size([22, 4]) torch.Size([22]) tensor([1, 1, 1, 1, 1, 1, 1, 1, 1, 1, 1, 1, 2, 2, 2, 2, 2, 2, 2, 2, 2, 2])\n",
      "torch.Size([22, 4]) torch.Size([22]) tensor([2, 2, 2, 2, 2, 2, 2, 2, 2, 2, 2, 2, 2, 2, 2, 2, 2, 2, 2, 2, 2, 2])\n"
     ]
    }
   ],
   "source": [
    "### => [ 설정 사용 ] batch_size = 22, shuffle = False, drop_last = False, sampler = None\n",
    "loader = DataLoader(dataset, batch_size=22, drop_last=True)\n",
    "print_batch_data(loader=loader, epochs=2, drop_last=True)"
   ]
  },
  {
   "cell_type": "code",
   "execution_count": 19,
   "id": "ce8bbb9036b8ba9b",
   "metadata": {
    "ExecuteTime": {
     "end_time": "2024-03-25T05:53:00.640868Z",
     "start_time": "2024-03-25T05:53:00.618453Z"
    },
    "collapsed": false
   },
   "outputs": [
    {
     "name": "stdout",
     "output_type": "stream",
     "text": [
      "[설정값] batchsize = 1, shuffle: True, drop_last = False, sampler = None\n",
      "[0] EPOCHS===================Batch 7===\n",
      "torch.Size([22, 4]) torch.Size([22]) tensor([1, 2, 2, 0, 1, 0, 1, 2, 1, 1, 1, 2, 2, 1, 2, 2, 0, 2, 2, 0, 2, 1])\n",
      "torch.Size([22, 4]) torch.Size([22]) tensor([0, 2, 2, 2, 0, 1, 0, 0, 0, 1, 2, 0, 1, 1, 1, 0, 1, 1, 1, 2, 1, 2])\n",
      "torch.Size([22, 4]) torch.Size([22]) tensor([1, 0, 0, 1, 0, 1, 2, 2, 1, 2, 0, 1, 2, 0, 1, 0, 1, 1, 2, 0, 0, 1])\n",
      "torch.Size([22, 4]) torch.Size([22]) tensor([2, 1, 0, 2, 1, 1, 2, 2, 1, 2, 2, 1, 1, 2, 0, 0, 1, 2, 1, 1, 0, 2])\n",
      "torch.Size([22, 4]) torch.Size([22]) tensor([2, 0, 2, 2, 0, 1, 0, 0, 2, 2, 1, 0, 1, 0, 0, 0, 1, 1, 0, 2, 0, 1])\n",
      "torch.Size([22, 4]) torch.Size([22]) tensor([0, 0, 0, 0, 1, 1, 0, 2, 2, 2, 0, 0, 2, 0, 0, 0, 0, 1, 2, 2, 0, 2])\n",
      "torch.Size([18, 4]) torch.Size([18]) tensor([0, 2, 2, 1, 1, 2, 2, 0, 1, 1, 0, 1, 2, 0, 0, 2, 1, 2])\n",
      "[1] EPOCHS===================Batch 7===\n",
      "torch.Size([22, 4]) torch.Size([22]) tensor([2, 0, 0, 0, 1, 1, 2, 2, 1, 1, 2, 1, 0, 1, 2, 0, 2, 2, 0, 1, 1, 0])\n",
      "torch.Size([22, 4]) torch.Size([22]) tensor([2, 1, 2, 1, 2, 0, 1, 2, 0, 1, 0, 1, 0, 2, 2, 1, 1, 0, 0, 1, 2, 2])\n",
      "torch.Size([22, 4]) torch.Size([22]) tensor([0, 0, 2, 0, 1, 2, 0, 0, 1, 1, 1, 1, 2, 0, 2, 1, 2, 2, 0, 1, 0, 0])\n",
      "torch.Size([22, 4]) torch.Size([22]) tensor([2, 0, 0, 0, 0, 2, 2, 2, 0, 2, 0, 2, 0, 1, 1, 1, 1, 1, 0, 1, 0, 0])\n",
      "torch.Size([22, 4]) torch.Size([22]) tensor([0, 2, 2, 0, 0, 0, 2, 2, 0, 2, 1, 1, 2, 2, 2, 0, 0, 1, 1, 0, 0, 0])\n",
      "torch.Size([22, 4]) torch.Size([22]) tensor([2, 1, 1, 0, 1, 0, 1, 2, 1, 2, 2, 1, 0, 1, 1, 2, 1, 1, 0, 1, 1, 1])\n",
      "torch.Size([18, 4]) torch.Size([18]) tensor([2, 2, 0, 2, 2, 1, 0, 1, 2, 2, 2, 1, 2, 0, 2, 0, 2, 1])\n"
     ]
    }
   ],
   "source": [
    "### => [ 설정 사용 ] batch_size = 22, shuffle = True, drop_last = False, sampler = None\n",
    "loader = DataLoader(dataset, batch_size=22, shuffle=True)\n",
    "print_batch_data(loader=loader, epochs=2, shuffle=True)"
   ]
  },
  {
   "cell_type": "code",
   "execution_count": 20,
   "id": "4d5cf6e4fc4fee50",
   "metadata": {
    "ExecuteTime": {
     "end_time": "2024-03-25T05:58:03.061010Z",
     "start_time": "2024-03-25T05:58:03.041459Z"
    },
    "collapsed": false
   },
   "outputs": [
    {
     "name": "stdout",
     "output_type": "stream",
     "text": [
      "torch.Size([22, 4]) torch.Size([22]) tensor([10,  7,  5])\n",
      "torch.Size([22, 4]) torch.Size([22]) tensor([8, 7, 7])\n",
      "torch.Size([22, 4]) torch.Size([22]) tensor([7, 7, 8])\n",
      "torch.Size([22, 4]) torch.Size([22]) tensor([5, 8, 9])\n",
      "torch.Size([22, 4]) torch.Size([22]) tensor([7, 6, 9])\n",
      "torch.Size([22, 4]) torch.Size([22]) tensor([ 7, 11,  4])\n",
      "torch.Size([18, 4]) torch.Size([18]) tensor([6, 4, 8])\n"
     ]
    }
   ],
   "source": [
    "for (feature, label) in loader:\n",
    "    print(feature.shape, label.shape, label.bincount())"
   ]
  },
  {
   "cell_type": "code",
   "execution_count": null,
   "id": "52d686474f89a9e1",
   "metadata": {
    "collapsed": false
   },
   "outputs": [],
   "source": []
  },
  {
   "cell_type": "code",
   "execution_count": null,
   "id": "f7859c5d",
   "metadata": {},
   "outputs": [],
   "source": []
  }
 ],
 "metadata": {
  "kernelspec": {
   "display_name": "Python 3",
   "language": "python",
   "name": "python3"
  },
  "language_info": {
   "codemirror_mode": {
    "name": "ipython",
    "version": 3
   },
   "file_extension": ".py",
   "mimetype": "text/x-python",
   "name": "python",
   "nbconvert_exporter": "python",
   "pygments_lexer": "ipython3",
   "version": "3.8.12"
  }
 },
 "nbformat": 4,
 "nbformat_minor": 5
}
