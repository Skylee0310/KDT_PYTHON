{
 "cells": [
  {
   "cell_type": "markdown",
   "id": "f8582f8c",
   "metadata": {},
   "source": [
    "### 시가 생선 계산 서비스 구현\n",
    "\n",
    "- 주요 학습 : 지도학습 -> 회귀\n",
    "- 세부 학습 : 선형회귀(LinearRegression)\n",
    "    * 이유 : 데이터의 분포가 선형관계임"
   ]
  },
  {
   "cell_type": "markdown",
   "id": "b241f0c5",
   "metadata": {},
   "source": [
    "### [1] 데이터 준비 및 확인"
   ]
  },
  {
   "cell_type": "code",
   "execution_count": 1,
   "id": "87ca89d6",
   "metadata": {},
   "outputs": [],
   "source": [
    "filename='../../data/fish.csv'"
   ]
  },
  {
   "cell_type": "code",
   "execution_count": 2,
   "id": "942c5da1",
   "metadata": {},
   "outputs": [],
   "source": [
    "import pandas as pd\n",
    "import numpy as np\n",
    "import matplotlib.pyplot as plt\n",
    "import seaborn as sns\n",
    "from sklearn.model_selection import train_test_split\n",
    "from sklearn.linear_model import LinearRegression"
   ]
  },
  {
   "cell_type": "code",
   "execution_count": 3,
   "id": "5f35d4c4",
   "metadata": {},
   "outputs": [],
   "source": [
    "#  74번~ 129번 => perch 농어 데이터\n",
    "fishDF=pd.read_csv(filename,\n",
    "                    header=None, \n",
    "                    skiprows=73, \n",
    "                    skipfooter=31,\n",
    "                    usecols=[1, 2],     # 1 - Weight, 2 - Length\n",
    "                    engine='python')   # skipfooter 매개변수 사용 시 지정"
   ]
  },
  {
   "cell_type": "code",
   "execution_count": 4,
   "id": "a749cebd",
   "metadata": {},
   "outputs": [],
   "source": [
    "fishDF.columns=['Weight','Length' ]"
   ]
  },
  {
   "cell_type": "code",
   "execution_count": 5,
   "id": "a3e817dc",
   "metadata": {},
   "outputs": [
    {
     "name": "stdout",
     "output_type": "stream",
     "text": [
      "<class 'pandas.core.frame.DataFrame'>\n",
      "RangeIndex: 56 entries, 0 to 55\n",
      "Data columns (total 2 columns):\n",
      " #   Column  Non-Null Count  Dtype  \n",
      "---  ------  --------------  -----  \n",
      " 0   Weight  56 non-null     float64\n",
      " 1   Length  56 non-null     float64\n",
      "dtypes: float64(2)\n",
      "memory usage: 1.0 KB\n"
     ]
    }
   ],
   "source": [
    "fishDF.info()"
   ]
  },
  {
   "cell_type": "code",
   "execution_count": 6,
   "id": "2cbda827",
   "metadata": {},
   "outputs": [
    {
     "data": {
      "text/html": [
       "<div>\n",
       "<style scoped>\n",
       "    .dataframe tbody tr th:only-of-type {\n",
       "        vertical-align: middle;\n",
       "    }\n",
       "\n",
       "    .dataframe tbody tr th {\n",
       "        vertical-align: top;\n",
       "    }\n",
       "\n",
       "    .dataframe thead th {\n",
       "        text-align: right;\n",
       "    }\n",
       "</style>\n",
       "<table border=\"1\" class=\"dataframe\">\n",
       "  <thead>\n",
       "    <tr style=\"text-align: right;\">\n",
       "      <th></th>\n",
       "      <th>Weight</th>\n",
       "      <th>Length</th>\n",
       "    </tr>\n",
       "  </thead>\n",
       "  <tbody>\n",
       "    <tr>\n",
       "      <th>count</th>\n",
       "      <td>56.000000</td>\n",
       "      <td>56.000000</td>\n",
       "    </tr>\n",
       "    <tr>\n",
       "      <th>mean</th>\n",
       "      <td>382.239286</td>\n",
       "      <td>27.892857</td>\n",
       "    </tr>\n",
       "    <tr>\n",
       "      <th>std</th>\n",
       "      <td>347.617717</td>\n",
       "      <td>9.021668</td>\n",
       "    </tr>\n",
       "    <tr>\n",
       "      <th>min</th>\n",
       "      <td>5.900000</td>\n",
       "      <td>8.400000</td>\n",
       "    </tr>\n",
       "    <tr>\n",
       "      <th>25%</th>\n",
       "      <td>120.000000</td>\n",
       "      <td>21.825000</td>\n",
       "    </tr>\n",
       "    <tr>\n",
       "      <th>50%</th>\n",
       "      <td>207.500000</td>\n",
       "      <td>25.300000</td>\n",
       "    </tr>\n",
       "    <tr>\n",
       "      <th>75%</th>\n",
       "      <td>692.500000</td>\n",
       "      <td>36.625000</td>\n",
       "    </tr>\n",
       "    <tr>\n",
       "      <th>max</th>\n",
       "      <td>1100.000000</td>\n",
       "      <td>44.000000</td>\n",
       "    </tr>\n",
       "  </tbody>\n",
       "</table>\n",
       "</div>"
      ],
      "text/plain": [
       "            Weight     Length\n",
       "count    56.000000  56.000000\n",
       "mean    382.239286  27.892857\n",
       "std     347.617717   9.021668\n",
       "min       5.900000   8.400000\n",
       "25%     120.000000  21.825000\n",
       "50%     207.500000  25.300000\n",
       "75%     692.500000  36.625000\n",
       "max    1100.000000  44.000000"
      ]
     },
     "execution_count": 6,
     "metadata": {},
     "output_type": "execute_result"
    }
   ],
   "source": [
    "fishDF.describe()"
   ]
  },
  {
   "cell_type": "markdown",
   "id": "05d9e632",
   "metadata": {},
   "source": [
    "### [2] 데이터 분석"
   ]
  },
  {
   "cell_type": "code",
   "execution_count": 7,
   "id": "61003730",
   "metadata": {},
   "outputs": [
    {
     "data": {
      "image/png": "[encoded data removed]",
      "text/plain": [
       "<Figure size 640x480 with 1 Axes>"
      ]
     },
     "metadata": {},
     "output_type": "display_data"
    }
   ],
   "source": [
    "# 시각화해서 확인 \n",
    "import matplotlib.pyplot as plt\n",
    "\n",
    "# 수치 데이터의 관계 그래프 => 산점도(scatter)\n",
    "plt.scatter(fishDF.Length, fishDF.Weight)\n",
    "plt.xlabel('Length')\n",
    "plt.ylabel('Weight')\n",
    "plt.show()"
   ]
  },
  {
   "cell_type": "code",
   "execution_count": 8,
   "id": "f9c44fa0",
   "metadata": {},
   "outputs": [
    {
     "data": {
      "text/html": [
       "<div>\n",
       "<style scoped>\n",
       "    .dataframe tbody tr th:only-of-type {\n",
       "        vertical-align: middle;\n",
       "    }\n",
       "\n",
       "    .dataframe tbody tr th {\n",
       "        vertical-align: top;\n",
       "    }\n",
       "\n",
       "    .dataframe thead th {\n",
       "        text-align: right;\n",
       "    }\n",
       "</style>\n",
       "<table border=\"1\" class=\"dataframe\">\n",
       "  <thead>\n",
       "    <tr style=\"text-align: right;\">\n",
       "      <th></th>\n",
       "      <th>Weight</th>\n",
       "      <th>Length</th>\n",
       "    </tr>\n",
       "  </thead>\n",
       "  <tbody>\n",
       "    <tr>\n",
       "      <th>Weight</th>\n",
       "      <td>1.000000</td>\n",
       "      <td>0.958656</td>\n",
       "    </tr>\n",
       "    <tr>\n",
       "      <th>Length</th>\n",
       "      <td>0.958656</td>\n",
       "      <td>1.000000</td>\n",
       "    </tr>\n",
       "  </tbody>\n",
       "</table>\n",
       "</div>"
      ],
      "text/plain": [
       "          Weight    Length\n",
       "Weight  1.000000  0.958656\n",
       "Length  0.958656  1.000000"
      ]
     },
     "execution_count": 8,
     "metadata": {},
     "output_type": "execute_result"
    }
   ],
   "source": [
    "# 상관계수 수치과\n",
    "fishDF.corr()"
   ]
  },
  {
   "cell_type": "markdown",
   "id": "6e93947a",
   "metadata": {},
   "source": [
    "### [3]  데이터 가공"
   ]
  },
  {
   "cell_type": "markdown",
   "id": "46335482",
   "metadata": {},
   "source": [
    "- [3-1] 특성/피쳐 데이터와 타겟 데이터 분리"
   ]
  },
  {
   "cell_type": "code",
   "execution_count": 9,
   "id": "16953b9c",
   "metadata": {},
   "outputs": [],
   "source": [
    "# 학습 진행 ==> fit(2D, 1D)\n",
    "# 학습 진행 후 ==> 모델파라미터(Model Parameter) : 기울기/가중치와 절편\n",
    "# 학습에 사용할 특성 테이터 => 2D\n",
    "featureDF=fishDF.Length.to_frame()\n",
    "\n",
    "# 학습에 사용할 타겟 데이터 => 1D\n",
    "targetDF=fishDF.Weight.copy()"
   ]
  },
  {
   "cell_type": "code",
   "execution_count": 10,
   "id": "ea012ccb",
   "metadata": {},
   "outputs": [
    {
     "data": {
      "text/plain": [
       "(   Length\n",
       " 0     8.4\n",
       " 1    13.7,\n",
       " RangeIndex(start=0, stop=56, step=1))"
      ]
     },
     "execution_count": 10,
     "metadata": {},
     "output_type": "execute_result"
    }
   ],
   "source": [
    "featureDF.head(2), featureDF.index"
   ]
  },
  {
   "cell_type": "code",
   "execution_count": 11,
   "id": "334e5563",
   "metadata": {},
   "outputs": [
    {
     "data": {
      "text/plain": [
       "0     5.9\n",
       "1    32.0\n",
       "Name: Weight, dtype: float64"
      ]
     },
     "execution_count": 11,
     "metadata": {},
     "output_type": "execute_result"
    }
   ],
   "source": [
    "targetDF.head(2)"
   ]
  },
  {
   "cell_type": "markdown",
   "id": "ec1f85a8",
   "metadata": {},
   "source": [
    "- [3-2] 훈련용/테스트용 데이터 분리"
   ]
  },
  {
   "cell_type": "code",
   "execution_count": 12,
   "id": "6c844b81",
   "metadata": {},
   "outputs": [],
   "source": [
    "from sklearn.model_selection import train_test_split"
   ]
  },
  {
   "cell_type": "code",
   "execution_count": 13,
   "id": "ef6d1499",
   "metadata": {},
   "outputs": [],
   "source": [
    "# 기본 : 훈련:테스트 = 75% 25%\n",
    "# 반환값 : 튜플 형태,  훈련데이터셋과 테스트데이터셋\n",
    "train_X, test_X, train_y, test_y=train_test_split(  featureDF, \n",
    "                                                    targetDF,\n",
    "                                                    random_state=42)"
   ]
  },
  {
   "cell_type": "code",
   "execution_count": 14,
   "id": "42a4e561",
   "metadata": {},
   "outputs": [
    {
     "name": "stdout",
     "output_type": "stream",
     "text": [
      "train_X :42개, 2차원, (42, 1)\n",
      "test_X :14개, 2차원, (14, 1)\n"
     ]
    }
   ],
   "source": [
    "print(f'train_X :{len(train_X)}개, {train_X.ndim}차원, {train_X.shape}')\n",
    "print(f'test_X :{len(test_X)}개, {test_X.ndim}차원, {test_X.shape}')"
   ]
  },
  {
   "cell_type": "markdown",
   "id": "7eb1aa54",
   "metadata": {},
   "source": [
    "### [4] 학습  => 학습방법 즉 문제해결 방법 변경\n",
    "#### 선형회귀\n",
    "- 최대한 많은 데이터를 만족하는 선형회귀식을 생성함\n",
    "    * 방법 : 제공된 데이터와 타겟을 기준으로 선형회귀식을 생성"
   ]
  },
  {
   "cell_type": "code",
   "execution_count": 15,
   "id": "b6441843",
   "metadata": {},
   "outputs": [],
   "source": [
    "# 객체 생성 \n",
    "reg = LinearRegression()"
   ]
  },
  {
   "cell_type": "code",
   "execution_count": 16,
   "id": "58aa37ab",
   "metadata": {},
   "outputs": [
    {
     "data": {
      "text/html": [
       "<style>#sk-container-id-1 {color: black;}#sk-container-id-1 pre{padding: 0;}#sk-container-id-1 div.sk-toggleable {background-color: white;}#sk-container-id-1 label.sk-toggleable__label {cursor: pointer;display: block;width: 100%;margin-bottom: 0;padding: 0.3em;box-sizing: border-box;text-align: center;}#sk-container-id-1 label.sk-toggleable__label-arrow:before {content: \"▸\";float: left;margin-right: 0.25em;color: #696969;}#sk-container-id-1 label.sk-toggleable__label-arrow:hover:before {color: black;}#sk-container-id-1 div.sk-estimator:hover label.sk-toggleable__label-arrow:before {color: black;}#sk-container-id-1 div.sk-toggleable__content {max-height: 0;max-width: 0;overflow: hidden;text-align: left;background-color: #f0f8ff;}#sk-container-id-1 div.sk-toggleable__content pre {margin: 0.2em;color: black;border-radius: 0.25em;background-color: #f0f8ff;}#sk-container-id-1 input.sk-toggleable__control:checked~div.sk-toggleable__content {max-height: 200px;max-width: 100%;overflow: auto;}#sk-container-id-1 input.sk-toggleable__control:checked~label.sk-toggleable__label-arrow:before {content: \"▾\";}#sk-container-id-1 div.sk-estimator input.sk-toggleable__control:checked~label.sk-toggleable__label {background-color: #d4ebff;}#sk-container-id-1 div.sk-label input.sk-toggleable__control:checked~label.sk-toggleable__label {background-color: #d4ebff;}#sk-container-id-1 input.sk-hidden--visually {border: 0;clip: rect(1px 1px 1px 1px);clip: rect(1px, 1px, 1px, 1px);height: 1px;margin: -1px;overflow: hidden;padding: 0;position: absolute;width: 1px;}#sk-container-id-1 div.sk-estimator {font-family: monospace;background-color: #f0f8ff;border: 1px dotted black;border-radius: 0.25em;box-sizing: border-box;margin-bottom: 0.5em;}#sk-container-id-1 div.sk-estimator:hover {background-color: #d4ebff;}#sk-container-id-1 div.sk-parallel-item::after {content: \"\";width: 100%;border-bottom: 1px solid gray;flex-grow: 1;}#sk-container-id-1 div.sk-label:hover label.sk-toggleable__label {background-color: #d4ebff;}#sk-container-id-1 div.sk-serial::before {content: \"\";position: absolute;border-left: 1px solid gray;box-sizing: border-box;top: 0;bottom: 0;left: 50%;z-index: 0;}#sk-container-id-1 div.sk-serial {display: flex;flex-direction: column;align-items: center;background-color: white;padding-right: 0.2em;padding-left: 0.2em;position: relative;}#sk-container-id-1 div.sk-item {position: relative;z-index: 1;}#sk-container-id-1 div.sk-parallel {display: flex;align-items: stretch;justify-content: center;background-color: white;position: relative;}#sk-container-id-1 div.sk-item::before, #sk-container-id-1 div.sk-parallel-item::before {content: \"\";position: absolute;border-left: 1px solid gray;box-sizing: border-box;top: 0;bottom: 0;left: 50%;z-index: -1;}#sk-container-id-1 div.sk-parallel-item {display: flex;flex-direction: column;z-index: 1;position: relative;background-color: white;}#sk-container-id-1 div.sk-parallel-item:first-child::after {align-self: flex-end;width: 50%;}#sk-container-id-1 div.sk-parallel-item:last-child::after {align-self: flex-start;width: 50%;}#sk-container-id-1 div.sk-parallel-item:only-child::after {width: 0;}#sk-container-id-1 div.sk-dashed-wrapped {border: 1px dashed gray;margin: 0 0.4em 0.5em 0.4em;box-sizing: border-box;padding-bottom: 0.4em;background-color: white;}#sk-container-id-1 div.sk-label label {font-family: monospace;font-weight: bold;display: inline-block;line-height: 1.2em;}#sk-container-id-1 div.sk-label-container {text-align: center;}#sk-container-id-1 div.sk-container {/* jupyter's `normalize.less` sets `[hidden] { display: none; }` but bootstrap.min.css set `[hidden] { display: none !important; }` so we also need the `!important` here to be able to override the default hidden behavior on the sphinx rendered scikit-learn.org. See: https://github.com/scikit-learn/scikit-learn/issues/21755 */display: inline-block !important;position: relative;}#sk-container-id-1 div.sk-text-repr-fallback {display: none;}</style><div id=\"sk-container-id-1\" class=\"sk-top-container\"><div class=\"sk-text-repr-fallback\"><pre>LinearRegression()</pre><b>In a Jupyter environment, please rerun this cell to show the HTML representation or trust the notebook. <br />On GitHub, the HTML representation is unable to render, please try loading this page with nbviewer.org.</b></div><div class=\"sk-container\" hidden><div class=\"sk-item\"><div class=\"sk-estimator sk-toggleable\"><input class=\"sk-toggleable__control sk-hidden--visually\" id=\"sk-estimator-id-1\" type=\"checkbox\" checked><label for=\"sk-estimator-id-1\" class=\"sk-toggleable__label sk-toggleable__label-arrow\">LinearRegression</label><div class=\"sk-toggleable__content\"><pre>LinearRegression()</pre></div></div></div></div></div>"
      ],
      "text/plain": [
       "LinearRegression()"
      ]
     },
     "execution_count": 16,
     "metadata": {},
     "output_type": "execute_result"
    }
   ],
   "source": [
    "# fit()==> 학습\n",
    "reg.fit(train_X, train_y)"
   ]
  },
  {
   "cell_type": "code",
   "execution_count": 17,
   "id": "077b9c36",
   "metadata": {},
   "outputs": [
    {
     "data": {
      "text/plain": [
       "'기울기/가중치 : [39.01714496]'"
      ]
     },
     "execution_count": 17,
     "metadata": {},
     "output_type": "execute_result"
    }
   ],
   "source": [
    "# 학습 후 결정된 파라미터 즉 모델파라미터 확인\n",
    "f'기울기/가중치 : {reg.coef_}'"
   ]
  },
  {
   "cell_type": "code",
   "execution_count": 18,
   "id": "8ac91592",
   "metadata": {},
   "outputs": [
    {
     "data": {
      "text/plain": [
       "'절편/바이어스 : -709.0186449535477'"
      ]
     },
     "execution_count": 18,
     "metadata": {},
     "output_type": "execute_result"
    }
   ],
   "source": [
    "f'절편/바이어스 : {reg.intercept_}'"
   ]
  },
  {
   "cell_type": "markdown",
   "id": "476bd3ee",
   "metadata": {},
   "source": [
    "### [5] 평가"
   ]
  },
  {
   "cell_type": "code",
   "execution_count": 19,
   "id": "93543a98",
   "metadata": {},
   "outputs": [],
   "source": [
    "train_score = reg.score(train_X, train_y)\n",
    "test_score =reg.score(test_X, test_y)"
   ]
  },
  {
   "cell_type": "code",
   "execution_count": 20,
   "id": "42b2977d",
   "metadata": {},
   "outputs": [
    {
     "name": "stdout",
     "output_type": "stream",
     "text": [
      "훈  련 결과 점수 : 0.9398463339976041\n",
      "테스트 결과 점수 : 0.8247503123313559\n"
     ]
    }
   ],
   "source": [
    "print(f'훈  련 결과 점수 : {train_score}' )\n",
    "print(f'테스트 결과 점수 : {test_score}' )"
   ]
  },
  {
   "cell_type": "markdown",
   "id": "26822ab8",
   "metadata": {},
   "source": [
    "### [4] 예측"
   ]
  },
  {
   "cell_type": "code",
   "execution_count": 21,
   "id": "2ee34620",
   "metadata": {},
   "outputs": [
    {
     "data": {
      "text/plain": [
       "(2,)"
      ]
     },
     "execution_count": 21,
     "metadata": {},
     "output_type": "execute_result"
    }
   ],
   "source": [
    "new_data_=pd.DataFrame([[39.2], [12.7]], columns=['Length'])\n",
    "\n",
    "pre_y = reg.predict(new_data_)\n",
    "pre_y.shape"
   ]
  },
  {
   "cell_type": "code",
   "execution_count": 22,
   "id": "4f894e88",
   "metadata": {},
   "outputs": [
    {
     "data": {
      "text/plain": [
       "array([ 820.45343762, -213.50090392])"
      ]
     },
     "execution_count": 22,
     "metadata": {},
     "output_type": "execute_result"
    }
   ],
   "source": [
    "pre_y"
   ]
  },
  {
   "cell_type": "markdown",
   "id": "28db7516",
   "metadata": {},
   "source": [
    "- 시각화 => 회귀선"
   ]
  },
  {
   "cell_type": "code",
   "execution_count": 23,
   "id": "0a407a32",
   "metadata": {},
   "outputs": [
    {
     "data": {
      "image/png": "[encoded data removed]",
      "text/plain": [
       "<Figure size 640x480 with 1 Axes>"
      ]
     },
     "metadata": {},
     "output_type": "display_data"
    }
   ],
   "source": [
    "import matplotlib.pyplot as plt\n",
    "\n",
    "# 수치 데이터의 관계 그래프 => 산점도(scatter)\n",
    "plt.scatter(train_X, train_y, label='Fish')\n",
    "\n",
    "# 선형회귀에서 구한 y=ax+b 공식의 직선 긋기\n",
    "plt.plot(test_X,reg.predict(test_X), 'r-', label='Reg Line')\n",
    "\n",
    "#plt.plot(new_data_, pre_y, '^g', label='New Data')\n",
    "\n",
    "plt.xlabel('Length')\n",
    "plt.ylabel('Weight')\n",
    "plt.legend()\n",
    "plt.grid()\n",
    "plt.show()"
   ]
  },
  {
   "cell_type": "markdown",
   "id": "75bbbd6a",
   "metadata": {},
   "source": [
    "### 다항회귀(Polynominal Regression)\n",
    "\n",
    "- 여러개의 피쳐/속성을 가진 경우 정확도를 올리기 위해서 사용하는 방식\n",
    "- 직선의 데이터 분포가 아닌 경우, 곡선으로 많은 데이터를 만족하는 모델 구현\n",
    "- scikit-learn에는 전용 클래스 없음\n",
    "    * 대신 전처리 즉 preporcessing 모듈에 피쳐/속성을 n차원 다항으로 변형시켜줌\n",
    "    * PolynominalFeature 클래스 \n",
    "    \n",
    "- 회귀식이 복잡\n",
    "    * 2차원 다항식 경우  => $y=W_1X_1^2+W_2X_2+W_3X_3+b$"
   ]
  },
  {
   "cell_type": "markdown",
   "id": "2b0f301c",
   "metadata": {},
   "source": [
    "### [1] 피쳐/특성 공학 기반  ==> 특성 증가"
   ]
  },
  {
   "cell_type": "markdown",
   "id": "603c818a",
   "metadata": {},
   "source": [
    "- 길이(Length) 피쳐를 증강 ==> 2차원으로 "
   ]
  },
  {
   "cell_type": "code",
   "execution_count": 24,
   "id": "1ed1604f",
   "metadata": {},
   "outputs": [],
   "source": [
    "from sklearn.preprocessing import PolynomialFeatures"
   ]
  },
  {
   "cell_type": "code",
   "execution_count": 25,
   "id": "c7cedc23",
   "metadata": {},
   "outputs": [],
   "source": [
    "# 차수 변수 \n",
    "n_degree = 2"
   ]
  },
  {
   "cell_type": "code",
   "execution_count": 26,
   "id": "d10fab00",
   "metadata": {},
   "outputs": [],
   "source": [
    "# (1) 객체 생성\n",
    "poly=PolynomialFeatures(degree=n_degree)"
   ]
  },
  {
   "cell_type": "code",
   "execution_count": 27,
   "id": "4323df13",
   "metadata": {},
   "outputs": [],
   "source": [
    "# (2) 생성된 다항특성객체에 학습 진행 ===>  주어진 데이터의 피쳐를 2차원 변형\n",
    "#  => x, x^2 , 1\n",
    "poly.fit(train_X)\n",
    "\n",
    "# (3) 변형 하기\n",
    "poly_train= poly.transform(train_X)\n",
    "poly_test=poly.transform(test_X)"
   ]
  },
  {
   "cell_type": "code",
   "execution_count": 28,
   "id": "6d6d85e5",
   "metadata": {},
   "outputs": [
    {
     "name": "stdout",
     "output_type": "stream",
     "text": [
      "['Length']\n",
      "['1' 'Length' 'Length^2' 'Length^3' 'Length^4' 'Length^5' 'Length^6'\n",
      " 'Length^7' 'Length^8' 'Length^9' 'Length^10']\n"
     ]
    }
   ],
   "source": [
    "# 입력한 피쳐 확인\n",
    "print( poly.feature_names_in_ )\n",
    "\n",
    "# 생성된 피쳐 확인\n",
    "print( poly.get_feature_names_out() )"
   ]
  },
  {
   "cell_type": "code",
   "execution_count": 29,
   "id": "26093f6b",
   "metadata": {},
   "outputs": [
    {
     "name": "stdout",
     "output_type": "stream",
     "text": [
      "전 (42, 1) ==> 후 (42, 11)\n"
     ]
    }
   ],
   "source": [
    "# 변형 전후 형태(shape) 확인\n",
    "print(f'전 {train_X.shape} ==> 후 {poly_train.shape}')"
   ]
  },
  {
   "cell_type": "code",
   "execution_count": 30,
   "id": "8474411f",
   "metadata": {},
   "outputs": [
    {
     "data": {
      "text/html": [
       "<div>\n",
       "<style scoped>\n",
       "    .dataframe tbody tr th:only-of-type {\n",
       "        vertical-align: middle;\n",
       "    }\n",
       "\n",
       "    .dataframe tbody tr th {\n",
       "        vertical-align: top;\n",
       "    }\n",
       "\n",
       "    .dataframe thead th {\n",
       "        text-align: right;\n",
       "    }\n",
       "</style>\n",
       "<table border=\"1\" class=\"dataframe\">\n",
       "  <thead>\n",
       "    <tr style=\"text-align: right;\">\n",
       "      <th></th>\n",
       "      <th>Length</th>\n",
       "    </tr>\n",
       "  </thead>\n",
       "  <tbody>\n",
       "    <tr>\n",
       "      <th>8</th>\n",
       "      <td>19.6</td>\n",
       "    </tr>\n",
       "  </tbody>\n",
       "</table>\n",
       "</div>"
      ],
      "text/plain": [
       "   Length\n",
       "8    19.6"
      ]
     },
     "execution_count": 30,
     "metadata": {},
     "output_type": "execute_result"
    }
   ],
   "source": [
    "train_X.head(1)"
   ]
  },
  {
   "cell_type": "code",
   "execution_count": 31,
   "id": "ea3abc12",
   "metadata": {},
   "outputs": [
    {
     "data": {
      "text/plain": [
       "array([[1.00000000e+00, 1.96000000e+01, 3.84160000e+02, 7.52953600e+03,\n",
       "        1.47578906e+05, 2.89254655e+06, 5.66939124e+07, 1.11120068e+09,\n",
       "        2.17795334e+10, 4.26878854e+11, 8.36682554e+12]])"
      ]
     },
     "execution_count": 31,
     "metadata": {},
     "output_type": "execute_result"
    }
   ],
   "source": [
    "poly_train[:1]"
   ]
  },
  {
   "cell_type": "markdown",
   "id": "8587775c",
   "metadata": {},
   "source": [
    "### [2] 학습 진행"
   ]
  },
  {
   "cell_type": "code",
   "execution_count": 32,
   "id": "06ecb3e7",
   "metadata": {},
   "outputs": [
    {
     "data": {
      "text/html": [
       "<style>#sk-container-id-2 {color: black;}#sk-container-id-2 pre{padding: 0;}#sk-container-id-2 div.sk-toggleable {background-color: white;}#sk-container-id-2 label.sk-toggleable__label {cursor: pointer;display: block;width: 100%;margin-bottom: 0;padding: 0.3em;box-sizing: border-box;text-align: center;}#sk-container-id-2 label.sk-toggleable__label-arrow:before {content: \"▸\";float: left;margin-right: 0.25em;color: #696969;}#sk-container-id-2 label.sk-toggleable__label-arrow:hover:before {color: black;}#sk-container-id-2 div.sk-estimator:hover label.sk-toggleable__label-arrow:before {color: black;}#sk-container-id-2 div.sk-toggleable__content {max-height: 0;max-width: 0;overflow: hidden;text-align: left;background-color: #f0f8ff;}#sk-container-id-2 div.sk-toggleable__content pre {margin: 0.2em;color: black;border-radius: 0.25em;background-color: #f0f8ff;}#sk-container-id-2 input.sk-toggleable__control:checked~div.sk-toggleable__content {max-height: 200px;max-width: 100%;overflow: auto;}#sk-container-id-2 input.sk-toggleable__control:checked~label.sk-toggleable__label-arrow:before {content: \"▾\";}#sk-container-id-2 div.sk-estimator input.sk-toggleable__control:checked~label.sk-toggleable__label {background-color: #d4ebff;}#sk-container-id-2 div.sk-label input.sk-toggleable__control:checked~label.sk-toggleable__label {background-color: #d4ebff;}#sk-container-id-2 input.sk-hidden--visually {border: 0;clip: rect(1px 1px 1px 1px);clip: rect(1px, 1px, 1px, 1px);height: 1px;margin: -1px;overflow: hidden;padding: 0;position: absolute;width: 1px;}#sk-container-id-2 div.sk-estimator {font-family: monospace;background-color: #f0f8ff;border: 1px dotted black;border-radius: 0.25em;box-sizing: border-box;margin-bottom: 0.5em;}#sk-container-id-2 div.sk-estimator:hover {background-color: #d4ebff;}#sk-container-id-2 div.sk-parallel-item::after {content: \"\";width: 100%;border-bottom: 1px solid gray;flex-grow: 1;}#sk-container-id-2 div.sk-label:hover label.sk-toggleable__label {background-color: #d4ebff;}#sk-container-id-2 div.sk-serial::before {content: \"\";position: absolute;border-left: 1px solid gray;box-sizing: border-box;top: 0;bottom: 0;left: 50%;z-index: 0;}#sk-container-id-2 div.sk-serial {display: flex;flex-direction: column;align-items: center;background-color: white;padding-right: 0.2em;padding-left: 0.2em;position: relative;}#sk-container-id-2 div.sk-item {position: relative;z-index: 1;}#sk-container-id-2 div.sk-parallel {display: flex;align-items: stretch;justify-content: center;background-color: white;position: relative;}#sk-container-id-2 div.sk-item::before, #sk-container-id-2 div.sk-parallel-item::before {content: \"\";position: absolute;border-left: 1px solid gray;box-sizing: border-box;top: 0;bottom: 0;left: 50%;z-index: -1;}#sk-container-id-2 div.sk-parallel-item {display: flex;flex-direction: column;z-index: 1;position: relative;background-color: white;}#sk-container-id-2 div.sk-parallel-item:first-child::after {align-self: flex-end;width: 50%;}#sk-container-id-2 div.sk-parallel-item:last-child::after {align-self: flex-start;width: 50%;}#sk-container-id-2 div.sk-parallel-item:only-child::after {width: 0;}#sk-container-id-2 div.sk-dashed-wrapped {border: 1px dashed gray;margin: 0 0.4em 0.5em 0.4em;box-sizing: border-box;padding-bottom: 0.4em;background-color: white;}#sk-container-id-2 div.sk-label label {font-family: monospace;font-weight: bold;display: inline-block;line-height: 1.2em;}#sk-container-id-2 div.sk-label-container {text-align: center;}#sk-container-id-2 div.sk-container {/* jupyter's `normalize.less` sets `[hidden] { display: none; }` but bootstrap.min.css set `[hidden] { display: none !important; }` so we also need the `!important` here to be able to override the default hidden behavior on the sphinx rendered scikit-learn.org. See: https://github.com/scikit-learn/scikit-learn/issues/21755 */display: inline-block !important;position: relative;}#sk-container-id-2 div.sk-text-repr-fallback {display: none;}</style><div id=\"sk-container-id-2\" class=\"sk-top-container\"><div class=\"sk-text-repr-fallback\"><pre>LinearRegression()</pre><b>In a Jupyter environment, please rerun this cell to show the HTML representation or trust the notebook. <br />On GitHub, the HTML representation is unable to render, please try loading this page with nbviewer.org.</b></div><div class=\"sk-container\" hidden><div class=\"sk-item\"><div class=\"sk-estimator sk-toggleable\"><input class=\"sk-toggleable__control sk-hidden--visually\" id=\"sk-estimator-id-2\" type=\"checkbox\" checked><label for=\"sk-estimator-id-2\" class=\"sk-toggleable__label sk-toggleable__label-arrow\">LinearRegression</label><div class=\"sk-toggleable__content\"><pre>LinearRegression()</pre></div></div></div></div></div>"
      ],
      "text/plain": [
       "LinearRegression()"
      ]
     },
     "execution_count": 32,
     "metadata": {},
     "output_type": "execute_result"
    }
   ],
   "source": [
    "reg3=LinearRegression()\n",
    "\n",
    "reg3.fit(poly_train, train_y)"
   ]
  },
  {
   "cell_type": "code",
   "execution_count": 33,
   "id": "2d9fbad2",
   "metadata": {},
   "outputs": [
    {
     "data": {
      "text/plain": [
       "(array([ 0.00000000e+00, -4.04120745e-04, -7.02851174e-03, -6.91254235e-02,\n",
       "        -3.48690997e-01,  6.54631821e-02, -5.11447831e-03,  2.12911799e-04,\n",
       "        -4.96077239e-06,  6.11729771e-08, -3.11457827e-10]),\n",
       " 627.9276390646894)"
      ]
     },
     "execution_count": 33,
     "metadata": {},
     "output_type": "execute_result"
    }
   ],
   "source": [
    "# 학습 후 기울기/계수 및 절편 확인\n",
    "reg3.coef_, reg3.intercept_"
   ]
  },
  {
   "cell_type": "markdown",
   "id": "10a826ae",
   "metadata": {},
   "source": [
    "### [3] 평가"
   ]
  },
  {
   "cell_type": "code",
   "execution_count": 34,
   "id": "ac0e1f79",
   "metadata": {},
   "outputs": [],
   "source": [
    "train_score = reg3.score(poly_train, train_y)\n",
    "test_score = reg3.score(poly_test, test_y)"
   ]
  },
  {
   "cell_type": "code",
   "execution_count": 35,
   "id": "4ecfed59",
   "metadata": {},
   "outputs": [
    {
     "name": "stdout",
     "output_type": "stream",
     "text": [
      "학습점수: 0.9793731887579084\n",
      "테스트점수: 0.9164258574094495\n"
     ]
    }
   ],
   "source": [
    "print(f'학습점수: {train_score}\\n테스트점수: {test_score}')"
   ]
  },
  {
   "cell_type": "markdown",
   "id": "7414d268",
   "metadata": {},
   "source": [
    "### [4] 시각화"
   ]
  },
  {
   "cell_type": "code",
   "execution_count": 36,
   "id": "9b62273b",
   "metadata": {},
   "outputs": [],
   "source": [
    "# 다항회귀식 ---------------------------------------\n",
    "x = np.linspace(11, 45)\n",
    "y = (reg3.coef_[0]*1)+ \\\n",
    "    (reg3.coef_[1]*x)+ \\\n",
    "    (reg3.coef_[2]*(x**2)) + reg3.intercept_"
   ]
  },
  {
   "cell_type": "code",
   "execution_count": 37,
   "id": "6dd37658",
   "metadata": {},
   "outputs": [
    {
     "data": {
      "text/plain": [
       "(array([11.        , 11.69387755, 12.3877551 , 13.08163265, 13.7755102 ]),\n",
       " array([627.07274382, 626.96178703, 626.84406227, 626.71956953,\n",
       "        626.5883088 ]))"
      ]
     },
     "execution_count": 37,
     "metadata": {},
     "output_type": "execute_result"
    }
   ],
   "source": [
    "x[:5], y[:5]"
   ]
  },
  {
   "cell_type": "code",
   "execution_count": 38,
   "id": "e3f1f5af",
   "metadata": {},
   "outputs": [
    {
     "data": {
      "image/png": "[encoded data removed]",
      "text/plain": [
       "<Figure size 640x480 with 1 Axes>"
      ]
     },
     "metadata": {},
     "output_type": "display_data"
    }
   ],
   "source": [
    "plt.plot(x, y, 'r', label='FISH DATA')\n",
    "plt.scatter(train_X, train_y, label='Fish')\n",
    "plt.xlabel('Length')\n",
    "plt.ylabel('Weight')\n",
    "plt.legend()\n",
    "plt.grid()\n",
    "plt.show()"
   ]
  },
  {
   "cell_type": "code",
   "execution_count": 39,
   "id": "b1d09f4e",
   "metadata": {},
   "outputs": [],
   "source": [
    "train_X_=train_X.sort_values(by='Length')"
   ]
  },
  {
   "cell_type": "markdown",
   "id": "205be2b7",
   "metadata": {},
   "source": [
    "### 예측 => predict()"
   ]
  },
  {
   "cell_type": "code",
   "execution_count": 40,
   "id": "8deb26b8",
   "metadata": {},
   "outputs": [
    {
     "data": {
      "text/plain": [
       "(14, 1)"
      ]
     },
     "execution_count": 40,
     "metadata": {},
     "output_type": "execute_result"
    }
   ],
   "source": [
    "test_X.shape"
   ]
  },
  {
   "cell_type": "code",
   "execution_count": 41,
   "id": "2e56a12d",
   "metadata": {},
   "outputs": [
    {
     "data": {
      "text/plain": [
       "array([ 308.9760899 ,   64.20005101,  262.8337537 ,  120.5803201 ,\n",
       "        138.47848906,  878.41682381,  389.37987325,  174.36863911,\n",
       "        808.00604973,  115.95702683, 1059.72640875,   37.5860085 ,\n",
       "        284.69646638,  254.65222071])"
      ]
     },
     "execution_count": 41,
     "metadata": {},
     "output_type": "execute_result"
    }
   ],
   "source": [
    "reg3.predict(poly.transform(test_X))"
   ]
  },
  {
   "cell_type": "markdown",
   "id": "89081ba9",
   "metadata": {},
   "source": [
    "### 과대적합(Overfitting)에 대한 해결 방안\n",
    "\n",
    "- 선형회귀에서 발생하는 과대적합을 해결하기 위한 방법 제공\n",
    "    * 비슷비슷한 중요도의 특성/피쳐의 경우 선택 어려움 ==> 과대적합 발생\n",
    "    * 알고리즘을 통해서 해결하고자 함\n",
    "        - 릿지(Ridge) : 큰 W를 약하게 만들어서 과대적합을 해소하겠다는 방법(L2)\n",
    "        - 라쏘(Lasso) : 영향이 약한 특성/피쳐에 W를 0으로 만들어서 주는 방법(L1)"
   ]
  },
  {
   "cell_type": "markdown",
   "id": "2e2e5579",
   "metadata": {},
   "source": [
    "### Ridge Regresssion "
   ]
  },
  {
   "cell_type": "code",
   "execution_count": 42,
   "id": "cde1fb98",
   "metadata": {},
   "outputs": [],
   "source": [
    "from sklearn.linear_model import Ridge, Lasso"
   ]
  },
  {
   "cell_type": "code",
   "execution_count": 43,
   "id": "90c89ecd",
   "metadata": {},
   "outputs": [],
   "source": [
    "# 규제 강도 변수 -----------------------------------------------\n",
    "alpha_ = 10000"
   ]
  },
  {
   "cell_type": "code",
   "execution_count": 44,
   "id": "5330f2a0",
   "metadata": {},
   "outputs": [],
   "source": [
    "# Ridge 학습 모델 객체 생성\n",
    "rgModel = Ridge(alpha=alpha_)"
   ]
  },
  {
   "cell_type": "code",
   "execution_count": 45,
   "id": "bde22c23",
   "metadata": {},
   "outputs": [
    {
     "name": "stderr",
     "output_type": "stream",
     "text": [
      "D:\\anaconda3\\Lib\\site-packages\\sklearn\\linear_model\\_ridge.py:211: LinAlgWarning: Ill-conditioned matrix (rcond=5.13114e-30): result may not be accurate.\n",
      "  return linalg.solve(A, Xy, assume_a=\"pos\", overwrite_a=True).T\n"
     ]
    },
    {
     "data": {
      "text/html": [
       "<style>#sk-container-id-3 {color: black;}#sk-container-id-3 pre{padding: 0;}#sk-container-id-3 div.sk-toggleable {background-color: white;}#sk-container-id-3 label.sk-toggleable__label {cursor: pointer;display: block;width: 100%;margin-bottom: 0;padding: 0.3em;box-sizing: border-box;text-align: center;}#sk-container-id-3 label.sk-toggleable__label-arrow:before {content: \"▸\";float: left;margin-right: 0.25em;color: #696969;}#sk-container-id-3 label.sk-toggleable__label-arrow:hover:before {color: black;}#sk-container-id-3 div.sk-estimator:hover label.sk-toggleable__label-arrow:before {color: black;}#sk-container-id-3 div.sk-toggleable__content {max-height: 0;max-width: 0;overflow: hidden;text-align: left;background-color: #f0f8ff;}#sk-container-id-3 div.sk-toggleable__content pre {margin: 0.2em;color: black;border-radius: 0.25em;background-color: #f0f8ff;}#sk-container-id-3 input.sk-toggleable__control:checked~div.sk-toggleable__content {max-height: 200px;max-width: 100%;overflow: auto;}#sk-container-id-3 input.sk-toggleable__control:checked~label.sk-toggleable__label-arrow:before {content: \"▾\";}#sk-container-id-3 div.sk-estimator input.sk-toggleable__control:checked~label.sk-toggleable__label {background-color: #d4ebff;}#sk-container-id-3 div.sk-label input.sk-toggleable__control:checked~label.sk-toggleable__label {background-color: #d4ebff;}#sk-container-id-3 input.sk-hidden--visually {border: 0;clip: rect(1px 1px 1px 1px);clip: rect(1px, 1px, 1px, 1px);height: 1px;margin: -1px;overflow: hidden;padding: 0;position: absolute;width: 1px;}#sk-container-id-3 div.sk-estimator {font-family: monospace;background-color: #f0f8ff;border: 1px dotted black;border-radius: 0.25em;box-sizing: border-box;margin-bottom: 0.5em;}#sk-container-id-3 div.sk-estimator:hover {background-color: #d4ebff;}#sk-container-id-3 div.sk-parallel-item::after {content: \"\";width: 100%;border-bottom: 1px solid gray;flex-grow: 1;}#sk-container-id-3 div.sk-label:hover label.sk-toggleable__label {background-color: #d4ebff;}#sk-container-id-3 div.sk-serial::before {content: \"\";position: absolute;border-left: 1px solid gray;box-sizing: border-box;top: 0;bottom: 0;left: 50%;z-index: 0;}#sk-container-id-3 div.sk-serial {display: flex;flex-direction: column;align-items: center;background-color: white;padding-right: 0.2em;padding-left: 0.2em;position: relative;}#sk-container-id-3 div.sk-item {position: relative;z-index: 1;}#sk-container-id-3 div.sk-parallel {display: flex;align-items: stretch;justify-content: center;background-color: white;position: relative;}#sk-container-id-3 div.sk-item::before, #sk-container-id-3 div.sk-parallel-item::before {content: \"\";position: absolute;border-left: 1px solid gray;box-sizing: border-box;top: 0;bottom: 0;left: 50%;z-index: -1;}#sk-container-id-3 div.sk-parallel-item {display: flex;flex-direction: column;z-index: 1;position: relative;background-color: white;}#sk-container-id-3 div.sk-parallel-item:first-child::after {align-self: flex-end;width: 50%;}#sk-container-id-3 div.sk-parallel-item:last-child::after {align-self: flex-start;width: 50%;}#sk-container-id-3 div.sk-parallel-item:only-child::after {width: 0;}#sk-container-id-3 div.sk-dashed-wrapped {border: 1px dashed gray;margin: 0 0.4em 0.5em 0.4em;box-sizing: border-box;padding-bottom: 0.4em;background-color: white;}#sk-container-id-3 div.sk-label label {font-family: monospace;font-weight: bold;display: inline-block;line-height: 1.2em;}#sk-container-id-3 div.sk-label-container {text-align: center;}#sk-container-id-3 div.sk-container {/* jupyter's `normalize.less` sets `[hidden] { display: none; }` but bootstrap.min.css set `[hidden] { display: none !important; }` so we also need the `!important` here to be able to override the default hidden behavior on the sphinx rendered scikit-learn.org. See: https://github.com/scikit-learn/scikit-learn/issues/21755 */display: inline-block !important;position: relative;}#sk-container-id-3 div.sk-text-repr-fallback {display: none;}</style><div id=\"sk-container-id-3\" class=\"sk-top-container\"><div class=\"sk-text-repr-fallback\"><pre>Ridge(alpha=10000)</pre><b>In a Jupyter environment, please rerun this cell to show the HTML representation or trust the notebook. <br />On GitHub, the HTML representation is unable to render, please try loading this page with nbviewer.org.</b></div><div class=\"sk-container\" hidden><div class=\"sk-item\"><div class=\"sk-estimator sk-toggleable\"><input class=\"sk-toggleable__control sk-hidden--visually\" id=\"sk-estimator-id-3\" type=\"checkbox\" checked><label for=\"sk-estimator-id-3\" class=\"sk-toggleable__label sk-toggleable__label-arrow\">Ridge</label><div class=\"sk-toggleable__content\"><pre>Ridge(alpha=10000)</pre></div></div></div></div></div>"
      ],
      "text/plain": [
       "Ridge(alpha=10000)"
      ]
     },
     "execution_count": 45,
     "metadata": {},
     "output_type": "execute_result"
    }
   ],
   "source": [
    "# 학습 진행 =>  Loss/Cost Func() 오차 + (알파*W**2)\n",
    "rgModel.fit(poly_train, train_y)"
   ]
  },
  {
   "cell_type": "code",
   "execution_count": 46,
   "id": "cd68c425",
   "metadata": {},
   "outputs": [],
   "source": [
    "# 평가 진행\n",
    "train_score = rgModel.score(poly_train, train_y)\n",
    "test_score  = rgModel.score(poly_test, test_y)"
   ]
  },
  {
   "cell_type": "code",
   "execution_count": 47,
   "id": "4f9d55ad",
   "metadata": {},
   "outputs": [
    {
     "data": {
      "text/plain": [
       "(0.979335579090795, 0.9465289342940713)"
      ]
     },
     "execution_count": 47,
     "metadata": {},
     "output_type": "execute_result"
    }
   ],
   "source": [
    "train_score, test_score"
   ]
  },
  {
   "cell_type": "code",
   "execution_count": null,
   "id": "67457397",
   "metadata": {},
   "outputs": [],
   "source": []
  }
 ],
 "metadata": {
  "kernelspec": {
   "display_name": "ai_book",
   "language": "python",
   "name": "ai_book"
  },
  "language_info": {
   "codemirror_mode": {
    "name": "ipython",
    "version": 3
   },
   "file_extension": ".py",
   "mimetype": "text/x-python",
   "name": "python",
   "nbconvert_exporter": "python",
   "pygments_lexer": "ipython3",
   "version": "3.11.4"
  }
 },
 "nbformat": 4,
 "nbformat_minor": 5
}
