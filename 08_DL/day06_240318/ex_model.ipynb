{
 "cells": [
  {
   "cell_type": "code",
   "execution_count": 2,
   "metadata": {},
   "outputs": [],
   "source": [
    "import torch\n",
    "import torch.nn as nn"
   ]
  },
  {
   "cell_type": "code",
   "execution_count": 11,
   "metadata": {},
   "outputs": [],
   "source": [
    "class M(nn.Module):\n",
    "    def __init__(self, in_dim, out_dim, layers, nodes) :\n",
    "        super().__init__()\n",
    "        # self.layer1=nn.Linear(in_dim, n)\n",
    "        # self.layer2=nn.Linear(in)\n",
    "        self.layers=[]\n",
    "        \n",
    "        for i in range(layers-1) :\n",
    "            self.layers.append(nn.Linear(nodes[i], nodes[i]))\n",
    "        self.relu = nn.ReLU\n",
    "    def forward(self, x) :\n",
    "        x=self.layer1(x)\n",
    "        x=self.relu(x)\n"
   ]
  },
  {
   "cell_type": "code",
   "execution_count": 12,
   "metadata": {},
   "outputs": [],
   "source": [
    "class MyModule(nn.Module):\n",
    "    def __init__(self, in_dim, out_dim, in_node, out_node, n_nodes=[], n_hidden=2) : # [784, 300, 400, 500, 10]\n",
    "        super().__init__()\n",
    "        self.input = nn.Linear(in_dim, in_node)\n",
    "        if n_hidden > 0 :\n",
    "            self.linears = nn.ModuleList([nn.Linear(10, 10) for i in range(n_hidden)])\n",
    "            self.outLayer = nn.Linear(out_node, out_dim)\n",
    "\n",
    "    def forword(self, x) :\n",
    "        for i, l in enumerate(self.linears) :\n",
    "            x = self.linears[i//2](x) + l(x)\n",
    "        return x"
   ]
  },
  {
   "cell_type": "code",
   "execution_count": null,
   "metadata": {},
   "outputs": [],
   "source": [
    "# 층 /노드 개수 조정..:("
   ]
  }
 ],
 "metadata": {
  "kernelspec": {
   "display_name": "Torch_py38",
   "language": "python",
   "name": "python3"
  },
  "language_info": {
   "codemirror_mode": {
    "name": "ipython",
    "version": 3
   },
   "file_extension": ".py",
   "mimetype": "text/x-python",
   "name": "python",
   "nbconvert_exporter": "python",
   "pygments_lexer": "ipython3",
   "version": "3.8.18"
  }
 },
 "nbformat": 4,
 "nbformat_minor": 2
}
