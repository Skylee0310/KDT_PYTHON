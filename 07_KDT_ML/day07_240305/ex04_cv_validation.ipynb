{
 "cells": [
  {
   "cell_type": "markdown",
   "id": "470881da54ee444e",
   "metadata": {
    "collapsed": false
   },
   "source": [
    "### 교차 검증 단순화\n",
    "- scikit-learn의 model_selection 모듈 내에 모델 검증 관련 기능 활용\n",
    "- 교차 검증 데이터 기반 검증 결과 처리"
   ]
  },
  {
   "cell_type": "markdown",
   "id": "d4da84396d6e738f",
   "metadata": {
    "collapsed": false
   },
   "source": [
    "[1] 모듈 로딩 및 데이터 준비 <hr>"
   ]
  },
  {
   "cell_type": "code",
   "execution_count": 51,
   "id": "8e698f2f7641b291",
   "metadata": {
    "ExecuteTime": {
     "end_time": "2024-03-05T08:03:48.967022Z",
     "start_time": "2024-03-05T08:03:48.960597Z"
    },
    "collapsed": false
   },
   "outputs": [],
   "source": [
    "import pandas as pd\n",
    "\n",
    "# 생선 데이터 준비 \n",
    "fishDF = pd.read_csv('../data/fish.csv')\n",
    "\n",
    "# 붓꽃 데이터 준비\n",
    "irisDF = pd.read_csv('../data/iris.csv', header = None)"
   ]
  },
  {
   "cell_type": "code",
   "execution_count": 52,
   "id": "47051dcf3def2da8",
   "metadata": {
    "ExecuteTime": {
     "end_time": "2024-03-05T08:03:48.982839Z",
     "start_time": "2024-03-05T08:03:48.976459Z"
    },
    "collapsed": false
   },
   "outputs": [
    {
     "data": {
      "text/html": [
       "<div>\n",
       "<style scoped>\n",
       "    .dataframe tbody tr th:only-of-type {\n",
       "        vertical-align: middle;\n",
       "    }\n",
       "\n",
       "    .dataframe tbody tr th {\n",
       "        vertical-align: top;\n",
       "    }\n",
       "\n",
       "    .dataframe thead th {\n",
       "        text-align: right;\n",
       "    }\n",
       "</style>\n",
       "<table border=\"1\" class=\"dataframe\">\n",
       "  <thead>\n",
       "    <tr style=\"text-align: right;\">\n",
       "      <th></th>\n",
       "      <th>Species</th>\n",
       "      <th>Weight</th>\n",
       "      <th>Length</th>\n",
       "      <th>Diagonal</th>\n",
       "      <th>Height</th>\n",
       "      <th>Width</th>\n",
       "    </tr>\n",
       "  </thead>\n",
       "  <tbody>\n",
       "    <tr>\n",
       "      <th>0</th>\n",
       "      <td>Bream</td>\n",
       "      <td>242.0</td>\n",
       "      <td>25.4</td>\n",
       "      <td>30.0</td>\n",
       "      <td>11.52</td>\n",
       "      <td>4.0200</td>\n",
       "    </tr>\n",
       "    <tr>\n",
       "      <th>1</th>\n",
       "      <td>Bream</td>\n",
       "      <td>290.0</td>\n",
       "      <td>26.3</td>\n",
       "      <td>31.2</td>\n",
       "      <td>12.48</td>\n",
       "      <td>4.3056</td>\n",
       "    </tr>\n",
       "  </tbody>\n",
       "</table>\n",
       "</div>"
      ],
      "text/plain": [
       "  Species  Weight  Length  Diagonal  Height   Width\n",
       "0   Bream   242.0    25.4      30.0   11.52  4.0200\n",
       "1   Bream   290.0    26.3      31.2   12.48  4.3056"
      ]
     },
     "execution_count": 52,
     "metadata": {},
     "output_type": "execute_result"
    }
   ],
   "source": [
    "fishDF.head(2)"
   ]
  },
  {
   "cell_type": "markdown",
   "id": "f31bb1a0fd45df75",
   "metadata": {
    "collapsed": false
   },
   "source": [
    "[2] 데이터 준비 => 피쳐 & 타겟 분리 <hr>"
   ]
  },
  {
   "cell_type": "code",
   "execution_count": 53,
   "id": "513c90e7d4d4310f",
   "metadata": {
    "ExecuteTime": {
     "end_time": "2024-03-05T08:03:49.007485Z",
     "start_time": "2024-03-05T08:03:49.003873Z"
    },
    "collapsed": false
   },
   "outputs": [],
   "source": [
    "# 타겟 : Weight, 피처 : Length, Diagonal, Height, Width\n",
    "fish_targetSR = fishDF[fishDF.columns[1]]\n",
    "fish_featureDF = fishDF[fishDF.columns[2:]]"
   ]
  },
  {
   "cell_type": "code",
   "execution_count": 54,
   "id": "7b02dcfacdbe510b",
   "metadata": {
    "ExecuteTime": {
     "end_time": "2024-03-05T08:03:49.015476Z",
     "start_time": "2024-03-05T08:03:49.008551Z"
    },
    "collapsed": false
   },
   "outputs": [
    {
     "data": {
      "text/html": [
       "<div>\n",
       "<style scoped>\n",
       "    .dataframe tbody tr th:only-of-type {\n",
       "        vertical-align: middle;\n",
       "    }\n",
       "\n",
       "    .dataframe tbody tr th {\n",
       "        vertical-align: top;\n",
       "    }\n",
       "\n",
       "    .dataframe thead th {\n",
       "        text-align: right;\n",
       "    }\n",
       "</style>\n",
       "<table border=\"1\" class=\"dataframe\">\n",
       "  <thead>\n",
       "    <tr style=\"text-align: right;\">\n",
       "      <th></th>\n",
       "      <th>0</th>\n",
       "      <th>1</th>\n",
       "      <th>2</th>\n",
       "      <th>3</th>\n",
       "    </tr>\n",
       "  </thead>\n",
       "  <tbody>\n",
       "    <tr>\n",
       "      <th>0</th>\n",
       "      <td>5.1</td>\n",
       "      <td>3.5</td>\n",
       "      <td>1.4</td>\n",
       "      <td>0.2</td>\n",
       "    </tr>\n",
       "    <tr>\n",
       "      <th>1</th>\n",
       "      <td>4.9</td>\n",
       "      <td>3.0</td>\n",
       "      <td>1.4</td>\n",
       "      <td>0.2</td>\n",
       "    </tr>\n",
       "  </tbody>\n",
       "</table>\n",
       "</div>"
      ],
      "text/plain": [
       "     0    1    2    3\n",
       "0  5.1  3.5  1.4  0.2\n",
       "1  4.9  3.0  1.4  0.2"
      ]
     },
     "execution_count": 54,
     "metadata": {},
     "output_type": "execute_result"
    }
   ],
   "source": [
    "# 타겟 : 4번 컬럼, 피처 : 0 ~ 3번 컬럼\n",
    "iris_targetSR = irisDF[irisDF.columns[4]]\n",
    "iris_featureDF = irisDF[irisDF.columns[:4]]\n",
    "iris_featureDF.head(2)"
   ]
  },
  {
   "cell_type": "markdown",
   "id": "cbb09b68d797508c",
   "metadata": {
    "collapsed": false
   },
   "source": [
    "[3] 데이터 전처리 <hr>\n",
    "- 피처 스케일링"
   ]
  },
  {
   "cell_type": "code",
   "execution_count": 55,
   "id": "d70fdecf95e53bf9",
   "metadata": {
    "ExecuteTime": {
     "end_time": "2024-03-05T08:03:49.022542Z",
     "start_time": "2024-03-05T08:03:49.016535Z"
    },
    "collapsed": false
   },
   "outputs": [],
   "source": [
    "# 학습용 테스트용 데이터 분리\n",
    "from sklearn.model_selection import train_test_split\n",
    "\n",
    "# 생선 데이터 => 학습용 데이터셋, 테스트용 데이터셋 ===> 회귀\n",
    "fish_X_train, fish_X_test, fish_y_train, fish_y_test = train_test_split(fish_featureDF, fish_targetSR, test_size = 0.2, random_state=5)\n",
    "\n",
    "# iris 데이터 => 학습용 데이터셋, 테스트용 데이터셋 ===> 분류\n",
    "iris_X_train, iris_X_test, iris_y_train, iris_y_test = train_test_split(iris_featureDF, iris_targetSR, test_size = 0.2,\n",
    "                                                                        random_state=5, stratify=iris_targetSR)"
   ]
  },
  {
   "cell_type": "code",
   "execution_count": 56,
   "id": "25635fe369cd84ca",
   "metadata": {
    "ExecuteTime": {
     "end_time": "2024-03-05T08:03:49.029806Z",
     "start_time": "2024-03-05T08:03:49.023549Z"
    },
    "collapsed": false
   },
   "outputs": [],
   "source": [
    "from sklearn.preprocessing import StandardScaler\n",
    "\n",
    "# 생선 데이터셋 피처 스케일링\n",
    "fish_scaler = StandardScaler()\n",
    "fish_scaler.fit(fish_X_train)\n",
    "\n",
    "scaled_fish_X_train = fish_scaler.transform(fish_X_train)\n",
    "scaled_fish_X_test = fish_scaler.transform(fish_X_test)"
   ]
  },
  {
   "cell_type": "code",
   "execution_count": 57,
   "id": "c957b79a77ed7f21",
   "metadata": {
    "ExecuteTime": {
     "end_time": "2024-03-05T08:03:49.036001Z",
     "start_time": "2024-03-05T08:03:49.029885Z"
    },
    "collapsed": false
   },
   "outputs": [],
   "source": [
    "# 생선 데이터셋 피처 스케일링\n",
    "iris_scaler = StandardScaler()\n",
    "iris_scaler.fit(iris_X_train)\n",
    "\n",
    "scaled_iris_X_train = iris_scaler.transform(iris_X_train)\n",
    "scaled_iris_X_test = iris_scaler.transform(iris_X_test)"
   ]
  },
  {
   "cell_type": "markdown",
   "id": "463da57daf027ff7",
   "metadata": {
    "collapsed": false
   },
   "source": [
    "[4] 학습 <hr>\n",
    "[4-1] 생선 무게 예측 모델"
   ]
  },
  {
   "cell_type": "code",
   "execution_count": 58,
   "id": "26939f59ec417ef6",
   "metadata": {
    "ExecuteTime": {
     "end_time": "2024-03-05T08:03:49.040087Z",
     "start_time": "2024-03-05T08:03:49.037004Z"
    },
    "collapsed": false
   },
   "outputs": [],
   "source": [
    "# 모듈 로딩\n",
    "from sklearn.linear_model import LinearRegression, Ridge, Lasso\n",
    "from sklearn.model_selection import cross_validate, cross_val_score, cross_val_predict"
   ]
  },
  {
   "cell_type": "code",
   "execution_count": 59,
   "id": "c92b7111c3b0e854",
   "metadata": {
    "ExecuteTime": {
     "end_time": "2024-03-05T08:03:49.044063Z",
     "start_time": "2024-03-05T08:03:49.041147Z"
    },
    "collapsed": false
   },
   "outputs": [],
   "source": [
    "# 교차 검증으로 학습 진행\n",
    "# => 준비 : 모델 인스턴스, 학습용 피처 데이터, 학습용 라벨 데이터\n",
    "lr_model = LinearRegression()"
   ]
  },
  {
   "cell_type": "code",
   "execution_count": 60,
   "id": "7f71f6f21f062924",
   "metadata": {
    "ExecuteTime": {
     "end_time": "2024-03-05T08:03:49.064566Z",
     "start_time": "2024-03-05T08:03:49.045124Z"
    },
    "collapsed": false
   },
   "outputs": [
    {
     "name": "stdout",
     "output_type": "stream",
     "text": [
      "{'fit_time': array([0.00105572, 0.00100088, 0.00103784, 0.00104713, 0.00109315]), 'score_time': array([0.00212836, 0.        , 0.00103021, 0.        , 0.0010004 ]), 'estimator': [LinearRegression(), LinearRegression(), LinearRegression(), LinearRegression(), LinearRegression()], 'test_r2': array([0.92104683, 0.84385378, 0.88592423, 0.64671954, 0.79031905]), 'train_r2': array([0.87426416, 0.88779401, 0.88061108, 0.90297504, 0.89833592]), 'test_neg_mean_squared_error': array([ -8767.84902315, -17815.75093903, -12344.87825138, -22006.47049028,\n",
      "       -39450.52608702]), 'train_neg_mean_squared_error': array([-16078.44783606, -13972.57866943, -15268.42472495, -13223.98109532,\n",
      "       -10586.01039978])}\n"
     ]
    }
   ],
   "source": [
    "# 학습/검증에 대한 평가 모든 결과에 대한 처리\n",
    "result = cross_validate(lr_model, \n",
    "                        scaled_fish_X_train, \n",
    "                        fish_y_train,\n",
    "                        scoring = ('r2', 'neg_mean_squared_error'),\n",
    "                        return_train_score=True,\n",
    "                        return_estimator=True,\n",
    "                        ) \n",
    "# cv=3 이라는 것은 3등분 했다는 소리\n",
    "\n",
    "print(result)"
   ]
  },
  {
   "cell_type": "code",
   "execution_count": 61,
   "id": "a570ca72647dd5c5",
   "metadata": {
    "ExecuteTime": {
     "end_time": "2024-03-05T08:03:49.099365Z",
     "start_time": "2024-03-05T08:03:49.094805Z"
    },
    "collapsed": false
   },
   "outputs": [
    {
     "data": {
      "text/plain": [
       "dict_keys(['fit_time', 'score_time', 'estimator', 'test_r2', 'train_r2', 'test_neg_mean_squared_error', 'train_neg_mean_squared_error'])"
      ]
     },
     "execution_count": 61,
     "metadata": {},
     "output_type": "execute_result"
    }
   ],
   "source": [
    "result.keys()"
   ]
  },
  {
   "cell_type": "code",
   "execution_count": 62,
   "id": "942cb9fb8ddc1d3d",
   "metadata": {
    "ExecuteTime": {
     "end_time": "2024-03-05T08:03:49.179910Z",
     "start_time": "2024-03-05T08:03:49.174854Z"
    },
    "collapsed": false
   },
   "outputs": [
    {
     "data": {
      "text/plain": [
       "dict_values([array([0.00105572, 0.00100088, 0.00103784, 0.00104713, 0.00109315]), array([0.00212836, 0.        , 0.00103021, 0.        , 0.0010004 ]), [LinearRegression(), LinearRegression(), LinearRegression(), LinearRegression(), LinearRegression()], array([0.92104683, 0.84385378, 0.88592423, 0.64671954, 0.79031905]), array([0.87426416, 0.88779401, 0.88061108, 0.90297504, 0.89833592]), array([ -8767.84902315, -17815.75093903, -12344.87825138, -22006.47049028,\n",
       "       -39450.52608702]), array([-16078.44783606, -13972.57866943, -15268.42472495, -13223.98109532,\n",
       "       -10586.01039978])])"
      ]
     },
     "execution_count": 62,
     "metadata": {},
     "output_type": "execute_result"
    }
   ],
   "source": [
    "result.values()"
   ]
  },
  {
   "cell_type": "code",
   "execution_count": 63,
   "id": "bc54c68aa4725660",
   "metadata": {
    "ExecuteTime": {
     "end_time": "2024-03-05T08:03:49.219024Z",
     "start_time": "2024-03-05T08:03:49.208833Z"
    },
    "collapsed": false
   },
   "outputs": [
    {
     "data": {
      "text/html": [
       "<div>\n",
       "<style scoped>\n",
       "    .dataframe tbody tr th:only-of-type {\n",
       "        vertical-align: middle;\n",
       "    }\n",
       "\n",
       "    .dataframe tbody tr th {\n",
       "        vertical-align: top;\n",
       "    }\n",
       "\n",
       "    .dataframe thead th {\n",
       "        text-align: right;\n",
       "    }\n",
       "</style>\n",
       "<table border=\"1\" class=\"dataframe\">\n",
       "  <thead>\n",
       "    <tr style=\"text-align: right;\">\n",
       "      <th></th>\n",
       "      <th>fit_time</th>\n",
       "      <th>score_time</th>\n",
       "      <th>estimator</th>\n",
       "      <th>test_r2</th>\n",
       "      <th>train_r2</th>\n",
       "      <th>test_neg_mean_squared_error</th>\n",
       "      <th>train_neg_mean_squared_error</th>\n",
       "    </tr>\n",
       "  </thead>\n",
       "  <tbody>\n",
       "    <tr>\n",
       "      <th>0</th>\n",
       "      <td>0.001056</td>\n",
       "      <td>0.002128</td>\n",
       "      <td>LinearRegression()</td>\n",
       "      <td>0.921047</td>\n",
       "      <td>0.874264</td>\n",
       "      <td>-8767.849023</td>\n",
       "      <td>-16078.447836</td>\n",
       "    </tr>\n",
       "    <tr>\n",
       "      <th>1</th>\n",
       "      <td>0.001001</td>\n",
       "      <td>0.000000</td>\n",
       "      <td>LinearRegression()</td>\n",
       "      <td>0.843854</td>\n",
       "      <td>0.887794</td>\n",
       "      <td>-17815.750939</td>\n",
       "      <td>-13972.578669</td>\n",
       "    </tr>\n",
       "    <tr>\n",
       "      <th>2</th>\n",
       "      <td>0.001038</td>\n",
       "      <td>0.001030</td>\n",
       "      <td>LinearRegression()</td>\n",
       "      <td>0.885924</td>\n",
       "      <td>0.880611</td>\n",
       "      <td>-12344.878251</td>\n",
       "      <td>-15268.424725</td>\n",
       "    </tr>\n",
       "    <tr>\n",
       "      <th>3</th>\n",
       "      <td>0.001047</td>\n",
       "      <td>0.000000</td>\n",
       "      <td>LinearRegression()</td>\n",
       "      <td>0.646720</td>\n",
       "      <td>0.902975</td>\n",
       "      <td>-22006.470490</td>\n",
       "      <td>-13223.981095</td>\n",
       "    </tr>\n",
       "    <tr>\n",
       "      <th>4</th>\n",
       "      <td>0.001093</td>\n",
       "      <td>0.001000</td>\n",
       "      <td>LinearRegression()</td>\n",
       "      <td>0.790319</td>\n",
       "      <td>0.898336</td>\n",
       "      <td>-39450.526087</td>\n",
       "      <td>-10586.010400</td>\n",
       "    </tr>\n",
       "  </tbody>\n",
       "</table>\n",
       "</div>"
      ],
      "text/plain": [
       "   fit_time  score_time           estimator   test_r2  train_r2  \\\n",
       "0  0.001056    0.002128  LinearRegression()  0.921047  0.874264   \n",
       "1  0.001001    0.000000  LinearRegression()  0.843854  0.887794   \n",
       "2  0.001038    0.001030  LinearRegression()  0.885924  0.880611   \n",
       "3  0.001047    0.000000  LinearRegression()  0.646720  0.902975   \n",
       "4  0.001093    0.001000  LinearRegression()  0.790319  0.898336   \n",
       "\n",
       "   test_neg_mean_squared_error  train_neg_mean_squared_error  \n",
       "0                 -8767.849023                 -16078.447836  \n",
       "1                -17815.750939                 -13972.578669  \n",
       "2                -12344.878251                 -15268.424725  \n",
       "3                -22006.470490                 -13223.981095  \n",
       "4                -39450.526087                 -10586.010400  "
      ]
     },
     "execution_count": 63,
     "metadata": {},
     "output_type": "execute_result"
    }
   ],
   "source": [
    "resultDF = pd.DataFrame(result)\n",
    "resultDF"
   ]
  },
  {
   "cell_type": "code",
   "execution_count": 64,
   "id": "ddf9f8bf59511392",
   "metadata": {
    "ExecuteTime": {
     "end_time": "2024-03-05T08:03:49.225067Z",
     "start_time": "2024-03-05T08:03:49.220107Z"
    },
    "collapsed": false
   },
   "outputs": [
    {
     "data": {
      "text/plain": [
       "(array([ 373.98470744, -159.77931033,   90.53431501,   50.22123874]),\n",
       " 408.52250924970195)"
      ]
     },
     "execution_count": 64,
     "metadata": {},
     "output_type": "execute_result"
    }
   ],
   "source": [
    "best_model = resultDF.iloc[0]['estimator']\n",
    "best_model.coef_, best_model.intercept_"
   ]
  },
  {
   "cell_type": "code",
   "execution_count": 65,
   "id": "c7085b0dd800012d",
   "metadata": {
    "ExecuteTime": {
     "end_time": "2024-03-05T08:03:49.237704Z",
     "start_time": "2024-03-05T08:03:49.226126Z"
    },
    "collapsed": false
   },
   "outputs": [
    {
     "data": {
      "text/plain": [
       "array([0.92104683, 0.84385378, 0.88592423, 0.64671954, 0.79031905])"
      ]
     },
     "execution_count": 65,
     "metadata": {},
     "output_type": "execute_result"
    }
   ],
   "source": [
    "### CV에 score만 추출\n",
    "cross_val_score(lr_model, scaled_fish_X_train, fish_y_train)"
   ]
  }
 ],
 "metadata": {
  "kernelspec": {
   "display_name": "Python 3",
   "language": "python",
   "name": "python3"
  },
  "language_info": {
   "codemirror_mode": {
    "name": "ipython",
    "version": 2
   },
   "file_extension": ".py",
   "mimetype": "text/x-python",
   "name": "python",
   "nbconvert_exporter": "python",
   "pygments_lexer": "ipython2",
   "version": "3.9.18"
  }
 },
 "nbformat": 4,
 "nbformat_minor": 5
}
