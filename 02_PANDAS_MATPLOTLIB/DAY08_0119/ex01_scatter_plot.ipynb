{
 "cells": [
  {
   "cell_type": "markdown",
   "id": "0eb575cc-77ce-40e3-bf42-155f66079247",
   "metadata": {},
   "source": [
    "### [ scatter(산점도) Plot 살펴보기 ]\n",
    "- 용도 : 2개 이상의 컬럼들의 관계 정도를 시각화하는 그래프\n",
    "- corr()"
   ]
  },
  {
   "cell_type": "code",
   "execution_count": 1,
   "id": "d32cd734-1f28-4d7d-99e6-79e9a6146f16",
   "metadata": {},
   "outputs": [],
   "source": [
    "import pandas as pd\n",
    "import numpy as np"
   ]
  },
  {
   "cell_type": "code",
   "execution_count": 2,
   "id": "bd66f3bf-eb6f-40d6-9574-8aa9ca06a43e",
   "metadata": {},
   "outputs": [],
   "source": [
    "def histogram_intersection(a, b): #상관계수를 뽑아내는 함수.\n",
    "    v = np.minimum(a, b).sum().round(decimals=1)\n",
    "    return v\n",
    "df = pd.DataFrame([(.2, .3), (.0, .6), (.6, .0), (.2, .1)],\n",
    "                  columns=['dogs', 'cats']) #리스트 안에 튜플.\n"
   ]
  },
  {
   "cell_type": "code",
   "execution_count": 3,
   "id": "cd357380-6bcc-4d73-804c-56bb8774208c",
   "metadata": {},
   "outputs": [
    {
     "data": {
      "text/html": [
       "<div>\n",
       "<style scoped>\n",
       "    .dataframe tbody tr th:only-of-type {\n",
       "        vertical-align: middle;\n",
       "    }\n",
       "\n",
       "    .dataframe tbody tr th {\n",
       "        vertical-align: top;\n",
       "    }\n",
       "\n",
       "    .dataframe thead th {\n",
       "        text-align: right;\n",
       "    }\n",
       "</style>\n",
       "<table border=\"1\" class=\"dataframe\">\n",
       "  <thead>\n",
       "    <tr style=\"text-align: right;\">\n",
       "      <th></th>\n",
       "      <th>dogs</th>\n",
       "      <th>cats</th>\n",
       "    </tr>\n",
       "  </thead>\n",
       "  <tbody>\n",
       "    <tr>\n",
       "      <th>0</th>\n",
       "      <td>0.2</td>\n",
       "      <td>0.3</td>\n",
       "    </tr>\n",
       "    <tr>\n",
       "      <th>1</th>\n",
       "      <td>0.0</td>\n",
       "      <td>0.6</td>\n",
       "    </tr>\n",
       "    <tr>\n",
       "      <th>2</th>\n",
       "      <td>0.6</td>\n",
       "      <td>0.0</td>\n",
       "    </tr>\n",
       "    <tr>\n",
       "      <th>3</th>\n",
       "      <td>0.2</td>\n",
       "      <td>0.1</td>\n",
       "    </tr>\n",
       "  </tbody>\n",
       "</table>\n",
       "</div>"
      ],
      "text/plain": [
       "   dogs  cats\n",
       "0   0.2   0.3\n",
       "1   0.0   0.6\n",
       "2   0.6   0.0\n",
       "3   0.2   0.1"
      ]
     },
     "execution_count": 3,
     "metadata": {},
     "output_type": "execute_result"
    }
   ],
   "source": [
    "df.corr(method=histogram_intersection)\n",
    "df"
   ]
  },
  {
   "cell_type": "code",
   "execution_count": 4,
   "id": "6de1ffc7-ff8e-4867-8f53-3d2272bb9836",
   "metadata": {},
   "outputs": [
    {
     "data": {
      "text/html": [
       "<div>\n",
       "<style scoped>\n",
       "    .dataframe tbody tr th:only-of-type {\n",
       "        vertical-align: middle;\n",
       "    }\n",
       "\n",
       "    .dataframe tbody tr th {\n",
       "        vertical-align: top;\n",
       "    }\n",
       "\n",
       "    .dataframe thead th {\n",
       "        text-align: right;\n",
       "    }\n",
       "</style>\n",
       "<table border=\"1\" class=\"dataframe\">\n",
       "  <thead>\n",
       "    <tr style=\"text-align: right;\">\n",
       "      <th></th>\n",
       "      <th>dogs</th>\n",
       "      <th>cats</th>\n",
       "    </tr>\n",
       "  </thead>\n",
       "  <tbody>\n",
       "    <tr>\n",
       "      <th>dogs</th>\n",
       "      <td>1.000000</td>\n",
       "      <td>-0.851064</td>\n",
       "    </tr>\n",
       "    <tr>\n",
       "      <th>cats</th>\n",
       "      <td>-0.851064</td>\n",
       "      <td>1.000000</td>\n",
       "    </tr>\n",
       "  </tbody>\n",
       "</table>\n",
       "</div>"
      ],
      "text/plain": [
       "          dogs      cats\n",
       "dogs  1.000000 -0.851064\n",
       "cats -0.851064  1.000000"
      ]
     },
     "execution_count": 4,
     "metadata": {},
     "output_type": "execute_result"
    }
   ],
   "source": [
    "df.corr()"
   ]
  },
  {
   "cell_type": "code",
   "execution_count": 5,
   "id": "9e11cd81-03ef-4a3f-9d58-18b7c49f72e2",
   "metadata": {},
   "outputs": [
    {
     "data": {
      "text/html": [
       "<div>\n",
       "<style scoped>\n",
       "    .dataframe tbody tr th:only-of-type {\n",
       "        vertical-align: middle;\n",
       "    }\n",
       "\n",
       "    .dataframe tbody tr th {\n",
       "        vertical-align: top;\n",
       "    }\n",
       "\n",
       "    .dataframe thead th {\n",
       "        text-align: right;\n",
       "    }\n",
       "</style>\n",
       "<table border=\"1\" class=\"dataframe\">\n",
       "  <thead>\n",
       "    <tr style=\"text-align: right;\">\n",
       "      <th></th>\n",
       "      <th>dogs</th>\n",
       "      <th>cats</th>\n",
       "    </tr>\n",
       "  </thead>\n",
       "  <tbody>\n",
       "    <tr>\n",
       "      <th>0</th>\n",
       "      <td>1.0</td>\n",
       "      <td>1.0</td>\n",
       "    </tr>\n",
       "    <tr>\n",
       "      <th>1</th>\n",
       "      <td>2.0</td>\n",
       "      <td>NaN</td>\n",
       "    </tr>\n",
       "    <tr>\n",
       "      <th>2</th>\n",
       "      <td>NaN</td>\n",
       "      <td>3.0</td>\n",
       "    </tr>\n",
       "    <tr>\n",
       "      <th>3</th>\n",
       "      <td>4.0</td>\n",
       "      <td>4.0</td>\n",
       "    </tr>\n",
       "  </tbody>\n",
       "</table>\n",
       "</div>"
      ],
      "text/plain": [
       "   dogs  cats\n",
       "0   1.0   1.0\n",
       "1   2.0   NaN\n",
       "2   NaN   3.0\n",
       "3   4.0   4.0"
      ]
     },
     "execution_count": 5,
     "metadata": {},
     "output_type": "execute_result"
    }
   ],
   "source": [
    "df=pd.DataFrame([(1, 1), (2, np.nan), (np.nan, 3), (4, 4)],\n",
    "                  columns=['dogs', 'cats'])\n",
    "df"
   ]
  },
  {
   "cell_type": "code",
   "execution_count": 6,
   "id": "40ebac85-f050-4b23-9656-503bd32d8992",
   "metadata": {},
   "outputs": [
    {
     "data": {
      "text/html": [
       "<div>\n",
       "<style scoped>\n",
       "    .dataframe tbody tr th:only-of-type {\n",
       "        vertical-align: middle;\n",
       "    }\n",
       "\n",
       "    .dataframe tbody tr th {\n",
       "        vertical-align: top;\n",
       "    }\n",
       "\n",
       "    .dataframe thead th {\n",
       "        text-align: right;\n",
       "    }\n",
       "</style>\n",
       "<table border=\"1\" class=\"dataframe\">\n",
       "  <thead>\n",
       "    <tr style=\"text-align: right;\">\n",
       "      <th></th>\n",
       "      <th>dogs</th>\n",
       "      <th>cats</th>\n",
       "    </tr>\n",
       "  </thead>\n",
       "  <tbody>\n",
       "    <tr>\n",
       "      <th>dogs</th>\n",
       "      <td>1.0</td>\n",
       "      <td>1.0</td>\n",
       "    </tr>\n",
       "    <tr>\n",
       "      <th>cats</th>\n",
       "      <td>1.0</td>\n",
       "      <td>1.0</td>\n",
       "    </tr>\n",
       "  </tbody>\n",
       "</table>\n",
       "</div>"
      ],
      "text/plain": [
       "      dogs  cats\n",
       "dogs   1.0   1.0\n",
       "cats   1.0   1.0"
      ]
     },
     "execution_count": 6,
     "metadata": {},
     "output_type": "execute_result"
    }
   ],
   "source": [
    "df.corr(numeric_only=True, min_periods=2)"
   ]
  },
  {
   "cell_type": "markdown",
   "id": "d4d58772-64bd-4346-a459-0874f46178e3",
   "metadata": {},
   "source": [
    "(2) 데이터준비 <hr>"
   ]
  },
  {
   "cell_type": "code",
   "execution_count": 7,
   "id": "6c00fd10-ce52-47a5-bff7-a3402dd9bca3",
   "metadata": {},
   "outputs": [],
   "source": [
    "file = './DATA/auto-mpg.csv'"
   ]
  },
  {
   "cell_type": "markdown",
   "id": "b8761450-4604-429c-8adb-d62c8ea1f3e1",
   "metadata": {},
   "source": [
    "(3) 데이터저장 <hr>  => CSV ----> DataFrame"
   ]
  },
  {
   "cell_type": "markdown",
   "id": "5bcc4155-6183-4953-805c-67b1499f3c36",
   "metadata": {},
   "source": [
    "-컬럼별 정보.\n",
    "1. mpg: continuous\n",
    "2. cylinders: multi-valued discrete\n",
    "3. displacement: continuous\n",
    "4. horsepower: continuous\n",
    "5. weight: continuous\n",
    "6. acceleration: continuous\n",
    "7. model year: multi-valued discrete\n",
    "8. origin: multi-valued discrete\n",
    "9. car name: string (unique for each instance)"
   ]
  },
  {
   "cell_type": "code",
   "execution_count": 8,
   "id": "a2f7ed35-3380-400e-98df-d13a01939c41",
   "metadata": {},
   "outputs": [],
   "source": [
    "mpgDF=pd.read_csv(file, \n",
    "                  sep='\\s+', \n",
    "                  names=[\"mpg\", \"cylinders\", \"displacement\", \"horsepower\", \"weight\", \"acceleration\", \"model year\", \"origin\", \"car name\"])"
   ]
  },
  {
   "cell_type": "code",
   "execution_count": 9,
   "id": "e544736e-b06a-4626-a717-e6d35b682eaf",
   "metadata": {},
   "outputs": [
    {
     "data": {
      "text/html": [
       "<div>\n",
       "<style scoped>\n",
       "    .dataframe tbody tr th:only-of-type {\n",
       "        vertical-align: middle;\n",
       "    }\n",
       "\n",
       "    .dataframe tbody tr th {\n",
       "        vertical-align: top;\n",
       "    }\n",
       "\n",
       "    .dataframe thead th {\n",
       "        text-align: right;\n",
       "    }\n",
       "</style>\n",
       "<table border=\"1\" class=\"dataframe\">\n",
       "  <thead>\n",
       "    <tr style=\"text-align: right;\">\n",
       "      <th></th>\n",
       "      <th>mpg</th>\n",
       "      <th>cylinders</th>\n",
       "      <th>displacement</th>\n",
       "      <th>horsepower</th>\n",
       "      <th>weight</th>\n",
       "      <th>acceleration</th>\n",
       "      <th>model year</th>\n",
       "      <th>origin</th>\n",
       "      <th>car name</th>\n",
       "    </tr>\n",
       "  </thead>\n",
       "  <tbody>\n",
       "    <tr>\n",
       "      <th>0</th>\n",
       "      <td>18.0</td>\n",
       "      <td>8</td>\n",
       "      <td>307.0</td>\n",
       "      <td>130.0</td>\n",
       "      <td>3504.0</td>\n",
       "      <td>12.0</td>\n",
       "      <td>70</td>\n",
       "      <td>1</td>\n",
       "      <td>chevrolet chevelle malibu</td>\n",
       "    </tr>\n",
       "    <tr>\n",
       "      <th>1</th>\n",
       "      <td>15.0</td>\n",
       "      <td>8</td>\n",
       "      <td>350.0</td>\n",
       "      <td>165.0</td>\n",
       "      <td>3693.0</td>\n",
       "      <td>11.5</td>\n",
       "      <td>70</td>\n",
       "      <td>1</td>\n",
       "      <td>buick skylark 320</td>\n",
       "    </tr>\n",
       "    <tr>\n",
       "      <th>2</th>\n",
       "      <td>18.0</td>\n",
       "      <td>8</td>\n",
       "      <td>318.0</td>\n",
       "      <td>150.0</td>\n",
       "      <td>3436.0</td>\n",
       "      <td>11.0</td>\n",
       "      <td>70</td>\n",
       "      <td>1</td>\n",
       "      <td>plymouth satellite</td>\n",
       "    </tr>\n",
       "  </tbody>\n",
       "</table>\n",
       "</div>"
      ],
      "text/plain": [
       "    mpg  cylinders  displacement horsepower  weight  acceleration  model year  \\\n",
       "0  18.0          8         307.0      130.0  3504.0          12.0          70   \n",
       "1  15.0          8         350.0      165.0  3693.0          11.5          70   \n",
       "2  18.0          8         318.0      150.0  3436.0          11.0          70   \n",
       "\n",
       "   origin                   car name  \n",
       "0       1  chevrolet chevelle malibu  \n",
       "1       1          buick skylark 320  \n",
       "2       1         plymouth satellite  "
      ]
     },
     "execution_count": 9,
     "metadata": {},
     "output_type": "execute_result"
    }
   ],
   "source": [
    "mpgDF.head(3)"
   ]
  },
  {
   "cell_type": "markdown",
   "id": "fe97ed5d-0389-4d38-b9e4-223a891134dc",
   "metadata": {},
   "source": [
    "(4) 데이터 정보 확인"
   ]
  },
  {
   "cell_type": "markdown",
   "id": "573af68e-fd9a-42b6-b49f-ae688f69c85e",
   "metadata": {},
   "source": [
    "- 전체 데이터 간략 정보 확인: info()"
   ]
  },
  {
   "cell_type": "code",
   "execution_count": 10,
   "id": "e1553c02-36f0-409a-ac86-432b77f2cfb7",
   "metadata": {},
   "outputs": [
    {
     "name": "stdout",
     "output_type": "stream",
     "text": [
      "<class 'pandas.core.frame.DataFrame'>\n",
      "RangeIndex: 398 entries, 0 to 397\n",
      "Data columns (total 9 columns):\n",
      " #   Column        Non-Null Count  Dtype  \n",
      "---  ------        --------------  -----  \n",
      " 0   mpg           398 non-null    float64\n",
      " 1   cylinders     398 non-null    int64  \n",
      " 2   displacement  398 non-null    float64\n",
      " 3   horsepower    398 non-null    object \n",
      " 4   weight        398 non-null    float64\n",
      " 5   acceleration  398 non-null    float64\n",
      " 6   model year    398 non-null    int64  \n",
      " 7   origin        398 non-null    int64  \n",
      " 8   car name      398 non-null    object \n",
      "dtypes: float64(4), int64(3), object(2)\n",
      "memory usage: 28.1+ KB\n"
     ]
    }
   ],
   "source": [
    "mpgDF.info()"
   ]
  },
  {
   "cell_type": "markdown",
   "id": "27d55510-95cb-4007-bdce-3a195d06ec06",
   "metadata": {},
   "source": [
    "- 실제 데이터의 값의 종류 즉 고유값 확인. => unique(), nunique()\n",
    "    * 각 컬럼의 이상한 값 즉, 이상치 확인\n",
    "    * 각 컬럼의 값의 종류 및 범위\n",
    "    * 각 컬럼의 실제 데이터 타입."
   ]
  },
  {
   "cell_type": "code",
   "execution_count": 11,
   "id": "fa202a4e-3220-4815-b5da-a152805ef6d7",
   "metadata": {},
   "outputs": [
    {
     "name": "stdout",
     "output_type": "stream",
     "text": [
      "[mpg]=====================================================================\n",
      "129\n",
      "[18.  15.  16.  17.  14.  24.  22.  21.  27.  26.  25.  10.  11.   9.\n",
      " 28.  19.  12.  13.  23.  30.  31.  35.  20.  29.  32.  33.  17.5 15.5\n",
      " 14.5 22.5 24.5 18.5 29.5 26.5 16.5 31.5 36.  25.5 33.5 20.5 30.5 21.5\n",
      " 43.1 36.1 32.8 39.4 19.9 19.4 20.2 19.2 25.1 20.6 20.8 18.6 18.1 17.7\n",
      " 27.5 27.2 30.9 21.1 23.2 23.8 23.9 20.3 21.6 16.2 19.8 22.3 17.6 18.2\n",
      " 16.9 31.9 34.1 35.7 27.4 25.4 34.2 34.5 31.8 37.3 28.4 28.8 26.8 41.5\n",
      " 38.1 32.1 37.2 26.4 24.3 19.1 34.3 29.8 31.3 37.  32.2 46.6 27.9 40.8\n",
      " 44.3 43.4 36.4 44.6 40.9 33.8 32.7 23.7 23.6 32.4 26.6 25.8 23.5 39.1\n",
      " 39.  35.1 32.3 37.7 34.7 34.4 29.9 33.7 32.9 31.6 28.1 30.7 24.2 22.4\n",
      " 34.  38.  44. ]\n",
      "\n",
      "[cylinders]=====================================================================\n",
      "5\n",
      "[8 4 6 3 5]\n",
      "\n",
      "[displacement]=====================================================================\n",
      "82\n",
      "[307.  350.  318.  304.  302.  429.  454.  440.  455.  390.  383.  340.\n",
      " 400.  113.  198.  199.  200.   97.  110.  107.  104.  121.  360.  140.\n",
      "  98.  232.  225.  250.  351.  258.  122.  116.   79.   88.   71.   72.\n",
      "  91.   97.5  70.  120.   96.  108.  155.   68.  114.  156.   76.   83.\n",
      "  90.  231.  262.  134.  119.  171.  115.  101.  305.   85.  130.  168.\n",
      " 111.  260.  151.  146.   80.   78.  105.  131.  163.   89.  267.   86.\n",
      " 183.  141.  173.  135.   81.  100.  145.  112.  181.  144. ]\n",
      "\n",
      "[horsepower]=====================================================================\n",
      "94\n",
      "['130.0' '165.0' '150.0' '140.0' '198.0' '220.0' '215.0' '225.0' '190.0'\n",
      " '170.0' '160.0' '95.00' '97.00' '85.00' '88.00' '46.00' '87.00' '90.00'\n",
      " '113.0' '200.0' '210.0' '193.0' '?' '100.0' '105.0' '175.0' '153.0'\n",
      " '180.0' '110.0' '72.00' '86.00' '70.00' '76.00' '65.00' '69.00' '60.00'\n",
      " '80.00' '54.00' '208.0' '155.0' '112.0' '92.00' '145.0' '137.0' '158.0'\n",
      " '167.0' '94.00' '107.0' '230.0' '49.00' '75.00' '91.00' '122.0' '67.00'\n",
      " '83.00' '78.00' '52.00' '61.00' '93.00' '148.0' '129.0' '96.00' '71.00'\n",
      " '98.00' '115.0' '53.00' '81.00' '79.00' '120.0' '152.0' '102.0' '108.0'\n",
      " '68.00' '58.00' '149.0' '89.00' '63.00' '48.00' '66.00' '139.0' '103.0'\n",
      " '125.0' '133.0' '138.0' '135.0' '142.0' '77.00' '62.00' '132.0' '84.00'\n",
      " '64.00' '74.00' '116.0' '82.00']\n",
      "\n",
      "[weight]=====================================================================\n",
      "351\n",
      "[3504. 3693. 3436. 3433. 3449. 4341. 4354. 4312. 4425. 3850. 3563. 3609.\n",
      " 3761. 3086. 2372. 2833. 2774. 2587. 2130. 1835. 2672. 2430. 2375. 2234.\n",
      " 2648. 4615. 4376. 4382. 4732. 2264. 2228. 2046. 2634. 3439. 3329. 3302.\n",
      " 3288. 4209. 4464. 4154. 4096. 4955. 4746. 5140. 2962. 2408. 3282. 3139.\n",
      " 2220. 2123. 2074. 2065. 1773. 1613. 1834. 1955. 2278. 2126. 2254. 2226.\n",
      " 4274. 4385. 4135. 4129. 3672. 4633. 4502. 4456. 4422. 2330. 3892. 4098.\n",
      " 4294. 4077. 2933. 2511. 2979. 2189. 2395. 2288. 2506. 2164. 2100. 4100.\n",
      " 3988. 4042. 3777. 4952. 4363. 4237. 4735. 4951. 3821. 3121. 3278. 2945.\n",
      " 3021. 2904. 1950. 4997. 4906. 4654. 4499. 2789. 2279. 2401. 2379. 2124.\n",
      " 2310. 2472. 2265. 4082. 4278. 1867. 2158. 2582. 2868. 3399. 2660. 2807.\n",
      " 3664. 3102. 2875. 2901. 3336. 2451. 1836. 2542. 3781. 3632. 3613. 4141.\n",
      " 4699. 4457. 4638. 4257. 2219. 1963. 2300. 1649. 2003. 2125. 2108. 2246.\n",
      " 2489. 2391. 2000. 3264. 3459. 3432. 3158. 4668. 4440. 4498. 4657. 3907.\n",
      " 3897. 3730. 3785. 3039. 3221. 3169. 2171. 2639. 2914. 2592. 2702. 2223.\n",
      " 2545. 2984. 1937. 3211. 2694. 2957. 2671. 1795. 2464. 2572. 2255. 2202.\n",
      " 4215. 4190. 3962. 3233. 3353. 3012. 3085. 2035. 3651. 3574. 3645. 3193.\n",
      " 1825. 1990. 2155. 2565. 3150. 3940. 3270. 2930. 3820. 4380. 4055. 3870.\n",
      " 3755. 2045. 1945. 3880. 4060. 4140. 4295. 3520. 3425. 3630. 3525. 4220.\n",
      " 4165. 4325. 4335. 1940. 2740. 2755. 2051. 2075. 1985. 2190. 2815. 2600.\n",
      " 2720. 1800. 2070. 3365. 3735. 3570. 3535. 3155. 2965. 3430. 3210. 3380.\n",
      " 3070. 3620. 3410. 3445. 3205. 4080. 2560. 2230. 2515. 2745. 2855. 2405.\n",
      " 2830. 3140. 2795. 2135. 3245. 2990. 2890. 3265. 3360. 3840. 3725. 3955.\n",
      " 3830. 4360. 4054. 3605. 1925. 1975. 1915. 2670. 3530. 3900. 3190. 3420.\n",
      " 2200. 2150. 2020. 2595. 2700. 2556. 2144. 1968. 2120. 2019. 2678. 2870.\n",
      " 3003. 3381. 2188. 2711. 2434. 2110. 2800. 2085. 2335. 2950. 3250. 1850.\n",
      " 2145. 1845. 2910. 2420. 2500. 2905. 2290. 2490. 2635. 2620. 2725. 2385.\n",
      " 1755. 1875. 1760. 2050. 2215. 2380. 2320. 2210. 2350. 2615. 3230. 3160.\n",
      " 2900. 3415. 3060. 3465. 2605. 2640. 2575. 2525. 2735. 2865. 3035. 1980.\n",
      " 2025. 1970. 2160. 2205. 2245. 1965. 1995. 3015. 2585. 2835. 2665. 2370.\n",
      " 2790. 2295. 2625.]\n",
      "\n",
      "[acceleration]=====================================================================\n",
      "95\n",
      "[12.  11.5 11.  10.5 10.   9.   8.5  8.   9.5 15.  15.5 16.  14.5 20.5\n",
      " 17.5 12.5 14.  13.5 18.5 19.  13.  19.5 18.  17.  23.5 16.5 21.  16.9\n",
      " 14.9 17.7 15.3 13.9 12.8 15.4 17.6 22.2 22.1 14.2 17.4 16.2 17.8 12.2\n",
      " 16.4 13.6 15.7 13.2 21.9 16.7 12.1 14.8 18.6 16.8 13.7 11.1 11.4 18.2\n",
      " 15.8 15.9 14.1 21.5 14.4 19.4 19.2 17.2 18.7 15.1 13.4 11.2 14.7 16.6\n",
      " 17.3 15.2 14.3 20.1 24.8 11.3 12.9 18.8 18.1 17.9 21.7 23.7 19.9 21.8\n",
      " 13.8 12.6 16.1 20.7 18.3 20.4 19.6 17.1 15.6 24.6 11.6]\n",
      "\n",
      "[model year]=====================================================================\n",
      "13\n",
      "[70 71 72 73 74 75 76 77 78 79 80 81 82]\n",
      "\n",
      "[origin]=====================================================================\n",
      "3\n",
      "[1 3 2]\n",
      "\n",
      "[car name]=====================================================================\n",
      "305\n",
      "['chevrolet chevelle malibu' 'buick skylark 320' 'plymouth satellite'\n",
      " 'amc rebel sst' 'ford torino' 'ford galaxie 500' 'chevrolet impala'\n",
      " 'plymouth fury iii' 'pontiac catalina' 'amc ambassador dpl'\n",
      " 'dodge challenger se' \"plymouth 'cuda 340\" 'chevrolet monte carlo'\n",
      " 'buick estate wagon (sw)' 'toyota corona mark ii' 'plymouth duster'\n",
      " 'amc hornet' 'ford maverick' 'datsun pl510'\n",
      " 'volkswagen 1131 deluxe sedan' 'peugeot 504' 'audi 100 ls' 'saab 99e'\n",
      " 'bmw 2002' 'amc gremlin' 'ford f250' 'chevy c20' 'dodge d200' 'hi 1200d'\n",
      " 'chevrolet vega 2300' 'toyota corona' 'ford pinto'\n",
      " 'plymouth satellite custom' 'ford torino 500' 'amc matador'\n",
      " 'pontiac catalina brougham' 'dodge monaco (sw)'\n",
      " 'ford country squire (sw)' 'pontiac safari (sw)'\n",
      " 'amc hornet sportabout (sw)' 'chevrolet vega (sw)' 'pontiac firebird'\n",
      " 'ford mustang' 'mercury capri 2000' 'opel 1900' 'peugeot 304' 'fiat 124b'\n",
      " 'toyota corolla 1200' 'datsun 1200' 'volkswagen model 111'\n",
      " 'plymouth cricket' 'toyota corona hardtop' 'dodge colt hardtop'\n",
      " 'volkswagen type 3' 'chevrolet vega' 'ford pinto runabout'\n",
      " 'amc ambassador sst' 'mercury marquis' 'buick lesabre custom'\n",
      " 'oldsmobile delta 88 royale' 'chrysler newport royal' 'mazda rx2 coupe'\n",
      " 'amc matador (sw)' 'chevrolet chevelle concours (sw)'\n",
      " 'ford gran torino (sw)' 'plymouth satellite custom (sw)'\n",
      " 'volvo 145e (sw)' 'volkswagen 411 (sw)' 'peugeot 504 (sw)'\n",
      " 'renault 12 (sw)' 'ford pinto (sw)' 'datsun 510 (sw)'\n",
      " 'toyouta corona mark ii (sw)' 'dodge colt (sw)'\n",
      " 'toyota corolla 1600 (sw)' 'buick century 350' 'chevrolet malibu'\n",
      " 'ford gran torino' 'dodge coronet custom' 'mercury marquis brougham'\n",
      " 'chevrolet caprice classic' 'ford ltd' 'plymouth fury gran sedan'\n",
      " 'chrysler new yorker brougham' 'buick electra 225 custom'\n",
      " 'amc ambassador brougham' 'plymouth valiant' 'chevrolet nova custom'\n",
      " 'volkswagen super beetle' 'ford country' 'plymouth custom suburb'\n",
      " 'oldsmobile vista cruiser' 'toyota carina' 'datsun 610' 'maxda rx3'\n",
      " 'mercury capri v6' 'fiat 124 sport coupe' 'chevrolet monte carlo s'\n",
      " 'pontiac grand prix' 'fiat 128' 'opel manta' 'audi 100ls' 'volvo 144ea'\n",
      " 'dodge dart custom' 'saab 99le' 'toyota mark ii' 'oldsmobile omega'\n",
      " 'chevrolet nova' 'datsun b210' 'chevrolet chevelle malibu classic'\n",
      " 'plymouth satellite sebring' 'buick century luxus (sw)'\n",
      " 'dodge coronet custom (sw)' 'audi fox' 'volkswagen dasher' 'datsun 710'\n",
      " 'dodge colt' 'fiat 124 tc' 'honda civic' 'subaru' 'fiat x1.9'\n",
      " 'plymouth valiant custom' 'mercury monarch' 'chevrolet bel air'\n",
      " 'plymouth grand fury' 'buick century' 'chevroelt chevelle malibu'\n",
      " 'plymouth fury' 'buick skyhawk' 'chevrolet monza 2+2' 'ford mustang ii'\n",
      " 'toyota corolla' 'pontiac astro' 'volkswagen rabbit' 'amc pacer'\n",
      " 'volvo 244dl' 'honda civic cvcc' 'fiat 131' 'capri ii' 'renault 12tl'\n",
      " 'dodge coronet brougham' 'chevrolet chevette' 'chevrolet woody'\n",
      " 'vw rabbit' 'dodge aspen se' 'ford granada ghia' 'pontiac ventura sj'\n",
      " 'amc pacer d/l' 'datsun b-210' 'volvo 245' 'plymouth volare premier v8'\n",
      " 'mercedes-benz 280s' 'cadillac seville' 'chevy c10' 'ford f108'\n",
      " 'dodge d100' 'honda accord cvcc' 'buick opel isuzu deluxe'\n",
      " 'renault 5 gtl' 'plymouth arrow gs' 'datsun f-10 hatchback'\n",
      " 'oldsmobile cutlass supreme' 'dodge monaco brougham'\n",
      " 'mercury cougar brougham' 'chevrolet concours' 'buick skylark'\n",
      " 'plymouth volare custom' 'ford granada' 'pontiac grand prix lj'\n",
      " 'chevrolet monte carlo landau' 'chrysler cordoba' 'ford thunderbird'\n",
      " 'volkswagen rabbit custom' 'pontiac sunbird coupe'\n",
      " 'toyota corolla liftback' 'ford mustang ii 2+2' 'dodge colt m/m'\n",
      " 'subaru dl' 'datsun 810' 'bmw 320i' 'mazda rx-4'\n",
      " 'volkswagen rabbit custom diesel' 'ford fiesta' 'mazda glc deluxe'\n",
      " 'datsun b210 gx' 'oldsmobile cutlass salon brougham' 'dodge diplomat'\n",
      " 'mercury monarch ghia' 'pontiac phoenix lj' 'ford fairmont (auto)'\n",
      " 'ford fairmont (man)' 'plymouth volare' 'amc concord'\n",
      " 'buick century special' 'mercury zephyr' 'dodge aspen' 'amc concord d/l'\n",
      " 'buick regal sport coupe (turbo)' 'ford futura' 'dodge magnum xe'\n",
      " 'datsun 510' 'dodge omni' 'toyota celica gt liftback' 'plymouth sapporo'\n",
      " 'oldsmobile starfire sx' 'datsun 200-sx' 'audi 5000' 'volvo 264gl'\n",
      " 'saab 99gle' 'peugeot 604sl' 'volkswagen scirocco' 'honda accord lx'\n",
      " 'pontiac lemans v6' 'mercury zephyr 6' 'ford fairmont 4'\n",
      " 'amc concord dl 6' 'dodge aspen 6' 'ford ltd landau'\n",
      " 'mercury grand marquis' 'dodge st. regis' 'chevrolet malibu classic (sw)'\n",
      " 'chrysler lebaron town @ country (sw)' 'vw rabbit custom'\n",
      " 'maxda glc deluxe' 'dodge colt hatchback custom' 'amc spirit dl'\n",
      " 'mercedes benz 300d' 'cadillac eldorado' 'plymouth horizon'\n",
      " 'plymouth horizon tc3' 'datsun 210' 'fiat strada custom'\n",
      " 'buick skylark limited' 'chevrolet citation' 'oldsmobile omega brougham'\n",
      " 'pontiac phoenix' 'toyota corolla tercel' 'datsun 310' 'ford fairmont'\n",
      " 'audi 4000' 'toyota corona liftback' 'mazda 626' 'datsun 510 hatchback'\n",
      " 'mazda glc' 'vw rabbit c (diesel)' 'vw dasher (diesel)'\n",
      " 'audi 5000s (diesel)' 'mercedes-benz 240d' 'honda civic 1500 gl'\n",
      " 'renault lecar deluxe' 'vokswagen rabbit' 'datsun 280-zx' 'mazda rx-7 gs'\n",
      " 'triumph tr7 coupe' 'ford mustang cobra' 'honda accord'\n",
      " 'plymouth reliant' 'dodge aries wagon (sw)' 'toyota starlet'\n",
      " 'plymouth champ' 'honda civic 1300' 'datsun 210 mpg' 'toyota tercel'\n",
      " 'mazda glc 4' 'plymouth horizon 4' 'ford escort 4w' 'ford escort 2h'\n",
      " 'volkswagen jetta' 'renault 18i' 'honda prelude' 'datsun 200sx'\n",
      " 'peugeot 505s turbo diesel' 'volvo diesel' 'toyota cressida'\n",
      " 'datsun 810 maxima' 'oldsmobile cutlass ls' 'ford granada gl'\n",
      " 'chrysler lebaron salon' 'chevrolet cavalier' 'chevrolet cavalier wagon'\n",
      " 'chevrolet cavalier 2-door' 'pontiac j2000 se hatchback' 'dodge aries se'\n",
      " 'ford fairmont futura' 'amc concord dl' 'volkswagen rabbit l'\n",
      " 'mazda glc custom l' 'mazda glc custom' 'plymouth horizon miser'\n",
      " 'mercury lynx l' 'nissan stanza xe' 'honda civic (auto)' 'datsun 310 gx'\n",
      " 'buick century limited' 'oldsmobile cutlass ciera (diesel)'\n",
      " 'chrysler lebaron medallion' 'ford granada l' 'toyota celica gt'\n",
      " 'dodge charger 2.2' 'chevrolet camaro' 'ford mustang gl' 'vw pickup'\n",
      " 'dodge rampage' 'ford ranger' 'chevy s-10']\n",
      "\n"
     ]
    }
   ],
   "source": [
    "for col in mpgDF.columns:\n",
    "    print(f'[{col}]=====================================================================')\n",
    "    print(mpgDF[col].nunique(), mpgDF[col].unique(), sep = '\\n', end='\\n\\n')"
   ]
  },
  {
   "cell_type": "code",
   "execution_count": 12,
   "id": "13ad9911-8f2b-4f03-b8db-42a640b50844",
   "metadata": {},
   "outputs": [
    {
     "data": {
      "text/plain": [
       "(3, array([1, 3, 2], dtype=int64))"
      ]
     },
     "execution_count": 12,
     "metadata": {},
     "output_type": "execute_result"
    }
   ],
   "source": [
    "#dropna 파라미터 설정으로 컬럼의 결측치 데이터 수까지 확인 가능.\n",
    "mpgDF['origin'].nunique(dropna=False), mpgDF['origin'].unique()"
   ]
  },
  {
   "cell_type": "markdown",
   "id": "979f44b2-6f9b-4179-bf60-4bd782c0b3bf",
   "metadata": {},
   "source": [
    "(5) 데이터 전처리 <hr>\n",
    "- 결측치 체크 => 결측치가 반드시 NaN이 아닐 수 있다 (?등의 깨진 문자)\n",
    "- 중복값 체크\n",
    "- 이상치 체크 => 컬럼의 범위를 벗어난 값 혹은 잘못 입력된 값.\n",
    "- 데이터 표준화 => 자료형, 데이터 단위 일치\n",
    "- 데이터 정규화 => 데이터의 크기 일치"
   ]
  },
  {
   "cell_type": "markdown",
   "id": "47752cdd-3a8f-421e-a1f9-74b6207380a7",
   "metadata": {},
   "source": [
    "(5-1) 결측치 체크 및 처리 ==> 이상한 값 즉 이상치 NaN으로 변환 후 처리."
   ]
  },
  {
   "cell_type": "code",
   "execution_count": 13,
   "id": "3ffd89d2-1026-4760-8ac0-4a529ad51744",
   "metadata": {},
   "outputs": [
    {
     "data": {
      "text/plain": [
       "array(['130.0', '165.0', '150.0', '140.0', '198.0', '220.0', '215.0',\n",
       "       '225.0', '190.0', '170.0', '160.0', '95.00', '97.00', '85.00',\n",
       "       '88.00', '46.00', '87.00', '90.00', '113.0', '200.0', '210.0',\n",
       "       '193.0', '?', '100.0', '105.0', '175.0', '153.0', '180.0', '110.0',\n",
       "       '72.00', '86.00', '70.00', '76.00', '65.00', '69.00', '60.00',\n",
       "       '80.00', '54.00', '208.0', '155.0', '112.0', '92.00', '145.0',\n",
       "       '137.0', '158.0', '167.0', '94.00', '107.0', '230.0', '49.00',\n",
       "       '75.00', '91.00', '122.0', '67.00', '83.00', '78.00', '52.00',\n",
       "       '61.00', '93.00', '148.0', '129.0', '96.00', '71.00', '98.00',\n",
       "       '115.0', '53.00', '81.00', '79.00', '120.0', '152.0', '102.0',\n",
       "       '108.0', '68.00', '58.00', '149.0', '89.00', '63.00', '48.00',\n",
       "       '66.00', '139.0', '103.0', '125.0', '133.0', '138.0', '135.0',\n",
       "       '142.0', '77.00', '62.00', '132.0', '84.00', '64.00', '74.00',\n",
       "       '116.0', '82.00'], dtype=object)"
      ]
     },
     "execution_count": 13,
     "metadata": {},
     "output_type": "execute_result"
    }
   ],
   "source": [
    "mpgDF.horsepower.unique()"
   ]
  },
  {
   "cell_type": "code",
   "execution_count": 14,
   "id": "60446dce-302a-4b33-983c-e30d06c3701b",
   "metadata": {},
   "outputs": [
    {
     "data": {
      "text/plain": [
       "94"
      ]
     },
     "execution_count": 14,
     "metadata": {},
     "output_type": "execute_result"
    }
   ],
   "source": [
    "mpgDF.horsepower.nunique()"
   ]
  },
  {
   "cell_type": "code",
   "execution_count": 15,
   "id": "8e7e90ed-1849-4074-9a3a-68143955f959",
   "metadata": {},
   "outputs": [
    {
     "data": {
      "text/plain": [
       "6"
      ]
     },
     "execution_count": 15,
     "metadata": {},
     "output_type": "execute_result"
    }
   ],
   "source": [
    "mpgDF.horsepower.value_counts()['?'] #mpgDF.horsepower의 값에 ?가 몇개 있는지 세기"
   ]
  },
  {
   "cell_type": "code",
   "execution_count": 16,
   "id": "4046fea8-92cf-4c1e-ae6f-1695811bbf3b",
   "metadata": {},
   "outputs": [],
   "source": [
    "mpgDF['horsepower'].replace('?', np.nan, inplace = True) #?를 NaN으로 변환."
   ]
  },
  {
   "cell_type": "code",
   "execution_count": 17,
   "id": "c9304c81-556a-4930-8f09-d6305371a645",
   "metadata": {},
   "outputs": [
    {
     "data": {
      "text/plain": [
       "mpg             0\n",
       "cylinders       0\n",
       "displacement    0\n",
       "horsepower      6\n",
       "weight          0\n",
       "acceleration    0\n",
       "model year      0\n",
       "origin          0\n",
       "car name        0\n",
       "dtype: int64"
      ]
     },
     "execution_count": 17,
     "metadata": {},
     "output_type": "execute_result"
    }
   ],
   "source": [
    "mpgDF.isnull().sum() #NaN의 숫자 세기.."
   ]
  },
  {
   "cell_type": "code",
   "execution_count": 18,
   "id": "90f25cc0-3983-4dbe-ae1e-eabbfb0ed57e",
   "metadata": {},
   "outputs": [],
   "source": [
    "mpgDF.dropna(inplace=True)"
   ]
  },
  {
   "cell_type": "code",
   "execution_count": 19,
   "id": "2bf18b51-577b-4275-9854-80939442fe57",
   "metadata": {},
   "outputs": [
    {
     "data": {
      "text/plain": [
       "mpg             0\n",
       "cylinders       0\n",
       "displacement    0\n",
       "horsepower      0\n",
       "weight          0\n",
       "acceleration    0\n",
       "model year      0\n",
       "origin          0\n",
       "car name        0\n",
       "dtype: int64"
      ]
     },
     "execution_count": 19,
     "metadata": {},
     "output_type": "execute_result"
    }
   ],
   "source": [
    "mpgDF.isnull().sum()"
   ]
  },
  {
   "cell_type": "markdown",
   "id": "e1c4ac1b-83d8-4763-80e7-5a153548a91d",
   "metadata": {},
   "source": [
    "(5-2) 데이터표준화 => horsepower의 자료형 실제 자료형과 일치"
   ]
  },
  {
   "cell_type": "code",
   "execution_count": 20,
   "id": "ff279939-5c7e-4ade-b3f4-9a62618f6875",
   "metadata": {},
   "outputs": [],
   "source": [
    "mpgDF.horsepower=mpgDF.horsepower.astype('float32') #inplace가 없어서 변수에 다시 저장해줘야함."
   ]
  },
  {
   "cell_type": "code",
   "execution_count": 21,
   "id": "ba3ef26c-059a-47e7-8215-d8cdf8d3b104",
   "metadata": {},
   "outputs": [
    {
     "data": {
      "text/plain": [
       "mpg             float64\n",
       "cylinders         int64\n",
       "displacement    float64\n",
       "horsepower      float32\n",
       "weight          float64\n",
       "acceleration    float64\n",
       "model year        int64\n",
       "origin            int64\n",
       "car name         object\n",
       "dtype: object"
      ]
     },
     "execution_count": 21,
     "metadata": {},
     "output_type": "execute_result"
    }
   ],
   "source": [
    "mpgDF.dtypes"
   ]
  },
  {
   "cell_type": "markdown",
   "id": "04054b1b-8bbd-41c0-bd06-cc091752c44d",
   "metadata": {},
   "source": [
    "(5-2) 데이터표준화 => 연속형 즉 수치 자료형 -----> 범주형 자료형 변환\n",
    "- 46~230 범위 실수 수치값 ===> 저출력 / 중출력 / 고출력"
   ]
  },
  {
   "cell_type": "code",
   "execution_count": 22,
   "id": "90ef21d0-f9ba-4b7d-9fae-2c1e64a66454",
   "metadata": {},
   "outputs": [
    {
     "data": {
      "text/plain": [
       "count    392.000000\n",
       "mean     104.469391\n",
       "std       38.491138\n",
       "min       46.000000\n",
       "25%       75.000000\n",
       "50%       93.500000\n",
       "75%      126.000000\n",
       "max      230.000000\n",
       "Name: horsepower, dtype: float64"
      ]
     },
     "execution_count": 22,
     "metadata": {},
     "output_type": "execute_result"
    }
   ],
   "source": [
    "mpgDF.horsepower.describe()"
   ]
  },
  {
   "cell_type": "code",
   "execution_count": 23,
   "id": "a10c8c48-cf62-44e8-bd9e-4b2b8cef6b31",
   "metadata": {},
   "outputs": [
    {
     "data": {
      "text/plain": [
       "[(0.993, 3.0], (5.0, 7.0], (3.0, 5.0], (3.0, 5.0], (5.0, 7.0], (0.993, 3.0]]\n",
       "Categories (3, interval[float64, right]): [(0.993, 3.0] < (3.0, 5.0] < (5.0, 7.0]]"
      ]
     },
     "execution_count": 23,
     "metadata": {},
     "output_type": "execute_result"
    }
   ],
   "source": [
    "pd.cut(np.array([1, 7, 5, 4, 6, 3]), 3, include_lowest=True) \n"
   ]
  },
  {
   "cell_type": "code",
   "execution_count": 24,
   "id": "342c86ea-d6cc-4ab9-9364-b93665638f36",
   "metadata": {},
   "outputs": [
    {
     "data": {
      "text/plain": [
       "['신생아', '유아', '영아', '영아', '유아', '신생아']\n",
       "Categories (3, object): ['신생아' < '영아' < '유아']"
      ]
     },
     "execution_count": 24,
     "metadata": {},
     "output_type": "execute_result"
    }
   ],
   "source": [
    "pd.cut(np.array([1, 7, 5, 4, 6, 3]), 3, labels = ['신생아', '영아', '유아'])"
   ]
  },
  {
   "cell_type": "code",
   "execution_count": 25,
   "id": "34cbe614-d81c-4ad7-9a25-daa3040a1f64",
   "metadata": {},
   "outputs": [],
   "source": [
    "out, ret=pd.cut(mpgDF.horsepower, bins =3, labels=['저마력', '중마력', '고마력'], retbins = True)"
   ]
  },
  {
   "cell_type": "code",
   "execution_count": 26,
   "id": "71281b85-a9a5-45dd-9a2a-5182a8513f40",
   "metadata": {},
   "outputs": [
    {
     "data": {
      "text/plain": [
       "mpg              float64\n",
       "cylinders          int64\n",
       "displacement     float64\n",
       "horsepower      category\n",
       "weight           float64\n",
       "acceleration     float64\n",
       "model year         int64\n",
       "origin             int64\n",
       "car name          object\n",
       "dtype: object"
      ]
     },
     "execution_count": 26,
     "metadata": {},
     "output_type": "execute_result"
    }
   ],
   "source": [
    "mpgDF['horsepower']=out\n",
    "mpgDF.dtypes"
   ]
  },
  {
   "cell_type": "code",
   "execution_count": 27,
   "id": "2a9505a7-47db-4563-b148-e2703e63cfeb",
   "metadata": {},
   "outputs": [
    {
     "data": {
      "text/plain": [
       "0    a\n",
       "1    b\n",
       "2    c\n",
       "3    a\n",
       "dtype: object"
      ]
     },
     "execution_count": 27,
     "metadata": {},
     "output_type": "execute_result"
    }
   ],
   "source": [
    "s = pd.Series(list('abca'))\n",
    "s"
   ]
  },
  {
   "cell_type": "code",
   "execution_count": 28,
   "id": "72ea0dee-d52e-4157-b3a8-214a87264a47",
   "metadata": {},
   "outputs": [
    {
     "data": {
      "text/html": [
       "<div>\n",
       "<style scoped>\n",
       "    .dataframe tbody tr th:only-of-type {\n",
       "        vertical-align: middle;\n",
       "    }\n",
       "\n",
       "    .dataframe tbody tr th {\n",
       "        vertical-align: top;\n",
       "    }\n",
       "\n",
       "    .dataframe thead th {\n",
       "        text-align: right;\n",
       "    }\n",
       "</style>\n",
       "<table border=\"1\" class=\"dataframe\">\n",
       "  <thead>\n",
       "    <tr style=\"text-align: right;\">\n",
       "      <th></th>\n",
       "      <th>a</th>\n",
       "      <th>b</th>\n",
       "      <th>c</th>\n",
       "    </tr>\n",
       "  </thead>\n",
       "  <tbody>\n",
       "    <tr>\n",
       "      <th>0</th>\n",
       "      <td>1</td>\n",
       "      <td>0</td>\n",
       "      <td>0</td>\n",
       "    </tr>\n",
       "    <tr>\n",
       "      <th>1</th>\n",
       "      <td>0</td>\n",
       "      <td>1</td>\n",
       "      <td>0</td>\n",
       "    </tr>\n",
       "    <tr>\n",
       "      <th>2</th>\n",
       "      <td>0</td>\n",
       "      <td>0</td>\n",
       "      <td>1</td>\n",
       "    </tr>\n",
       "    <tr>\n",
       "      <th>3</th>\n",
       "      <td>1</td>\n",
       "      <td>0</td>\n",
       "      <td>0</td>\n",
       "    </tr>\n",
       "  </tbody>\n",
       "</table>\n",
       "</div>"
      ],
      "text/plain": [
       "   a  b  c\n",
       "0  1  0  0\n",
       "1  0  1  0\n",
       "2  0  0  1\n",
       "3  1  0  0"
      ]
     },
     "execution_count": 28,
     "metadata": {},
     "output_type": "execute_result"
    }
   ],
   "source": [
    "pd.get_dummies(s, dtype=\"int32\")"
   ]
  },
  {
   "cell_type": "markdown",
   "id": "19b3c77d-0e9b-47b4-bf4b-2131bcf5e70a",
   "metadata": {},
   "source": [
    "(5-3) 데이터 표준화 => (범주형 ==> 연속형/수치화 변환) : One-Hot-Encoding 방식"
   ]
  },
  {
   "cell_type": "code",
   "execution_count": 29,
   "id": "c4a83dae-40dc-4b56-8f10-9b53351b3252",
   "metadata": {},
   "outputs": [],
   "source": [
    "#pandas.get_dummies() 함수\n",
    "#mpgDF에 origin 컬럼을 변환 ==> 1,2, 3 범주형."
   ]
  },
  {
   "cell_type": "code",
   "execution_count": 30,
   "id": "8cdb5ff2-e214-4cce-bcd3-f4f9e599ac21",
   "metadata": {},
   "outputs": [
    {
     "data": {
      "text/html": [
       "<div>\n",
       "<style scoped>\n",
       "    .dataframe tbody tr th:only-of-type {\n",
       "        vertical-align: middle;\n",
       "    }\n",
       "\n",
       "    .dataframe tbody tr th {\n",
       "        vertical-align: top;\n",
       "    }\n",
       "\n",
       "    .dataframe thead th {\n",
       "        text-align: right;\n",
       "    }\n",
       "</style>\n",
       "<table border=\"1\" class=\"dataframe\">\n",
       "  <thead>\n",
       "    <tr style=\"text-align: right;\">\n",
       "      <th></th>\n",
       "      <th>1</th>\n",
       "      <th>2</th>\n",
       "      <th>3</th>\n",
       "    </tr>\n",
       "  </thead>\n",
       "  <tbody>\n",
       "    <tr>\n",
       "      <th>0</th>\n",
       "      <td>1</td>\n",
       "      <td>0</td>\n",
       "      <td>0</td>\n",
       "    </tr>\n",
       "    <tr>\n",
       "      <th>1</th>\n",
       "      <td>1</td>\n",
       "      <td>0</td>\n",
       "      <td>0</td>\n",
       "    </tr>\n",
       "    <tr>\n",
       "      <th>2</th>\n",
       "      <td>1</td>\n",
       "      <td>0</td>\n",
       "      <td>0</td>\n",
       "    </tr>\n",
       "    <tr>\n",
       "      <th>3</th>\n",
       "      <td>1</td>\n",
       "      <td>0</td>\n",
       "      <td>0</td>\n",
       "    </tr>\n",
       "    <tr>\n",
       "      <th>4</th>\n",
       "      <td>1</td>\n",
       "      <td>0</td>\n",
       "      <td>0</td>\n",
       "    </tr>\n",
       "    <tr>\n",
       "      <th>...</th>\n",
       "      <td>...</td>\n",
       "      <td>...</td>\n",
       "      <td>...</td>\n",
       "    </tr>\n",
       "    <tr>\n",
       "      <th>393</th>\n",
       "      <td>1</td>\n",
       "      <td>0</td>\n",
       "      <td>0</td>\n",
       "    </tr>\n",
       "    <tr>\n",
       "      <th>394</th>\n",
       "      <td>0</td>\n",
       "      <td>1</td>\n",
       "      <td>0</td>\n",
       "    </tr>\n",
       "    <tr>\n",
       "      <th>395</th>\n",
       "      <td>1</td>\n",
       "      <td>0</td>\n",
       "      <td>0</td>\n",
       "    </tr>\n",
       "    <tr>\n",
       "      <th>396</th>\n",
       "      <td>1</td>\n",
       "      <td>0</td>\n",
       "      <td>0</td>\n",
       "    </tr>\n",
       "    <tr>\n",
       "      <th>397</th>\n",
       "      <td>1</td>\n",
       "      <td>0</td>\n",
       "      <td>0</td>\n",
       "    </tr>\n",
       "  </tbody>\n",
       "</table>\n",
       "<p>392 rows × 3 columns</p>\n",
       "</div>"
      ],
      "text/plain": [
       "     1  2  3\n",
       "0    1  0  0\n",
       "1    1  0  0\n",
       "2    1  0  0\n",
       "3    1  0  0\n",
       "4    1  0  0\n",
       "..  .. .. ..\n",
       "393  1  0  0\n",
       "394  0  1  0\n",
       "395  1  0  0\n",
       "396  1  0  0\n",
       "397  1  0  0\n",
       "\n",
       "[392 rows x 3 columns]"
      ]
     },
     "execution_count": 30,
     "metadata": {},
     "output_type": "execute_result"
    }
   ],
   "source": [
    "pd.get_dummies(mpgDF.origin, dtype = 'int32')"
   ]
  },
  {
   "cell_type": "code",
   "execution_count": 31,
   "id": "29e39002-4b14-4fbe-bbf4-3fe6985eb154",
   "metadata": {},
   "outputs": [],
   "source": [
    "#pandas.get_dummies() 함수\n",
    "#mpgDF에 origin 컬럼을 변환 ==> 'USA', 'EU', \"JPN\" 변환."
   ]
  },
  {
   "cell_type": "code",
   "execution_count": 32,
   "id": "71db6ce2-59d1-45f8-8184-ed06a39678b6",
   "metadata": {},
   "outputs": [],
   "source": [
    "mpgDF['origin'].replace({1:'USA', 2:'EU', 3:'JPN'}, inplace=True)"
   ]
  },
  {
   "cell_type": "code",
   "execution_count": 33,
   "id": "6b03e0b4-10ff-4278-8eed-fffe2640b132",
   "metadata": {},
   "outputs": [],
   "source": [
    "mpgDF['origin']=mpgDF['origin'].astype('category')"
   ]
  },
  {
   "cell_type": "code",
   "execution_count": 34,
   "id": "f66a90ec-b19e-41bd-ba6f-7698c60e13a4",
   "metadata": {},
   "outputs": [
    {
     "data": {
      "text/plain": [
       "mpg              float64\n",
       "cylinders          int64\n",
       "displacement     float64\n",
       "horsepower      category\n",
       "weight           float64\n",
       "acceleration     float64\n",
       "model year         int64\n",
       "origin          category\n",
       "car name          object\n",
       "dtype: object"
      ]
     },
     "execution_count": 34,
     "metadata": {},
     "output_type": "execute_result"
    }
   ],
   "source": [
    "mpgDF.dtypes"
   ]
  },
  {
   "cell_type": "markdown",
   "id": "f6561bee-0f87-408d-865b-45703d65aa20",
   "metadata": {},
   "source": [
    "(6) 데이터 분석 <hr>\n",
    "(6-1) 연비 mpg 컬럼과 관계가 가장 높은 컬럼."
   ]
  },
  {
   "cell_type": "code",
   "execution_count": 35,
   "id": "ffbccded-e35a-4858-b101-2141ee2842fd",
   "metadata": {},
   "outputs": [
    {
     "data": {
      "text/plain": [
       "Index(['mpg', 'cylinders', 'displacement', 'weight', 'acceleration',\n",
       "       'model year'],\n",
       "      dtype='object')"
      ]
     },
     "execution_count": 35,
     "metadata": {},
     "output_type": "execute_result"
    }
   ],
   "source": [
    "#상관계수 수치화 확인\n",
    "corrDF = mpgDF.corr(numeric_only = True)\n",
    "corrDF.columns"
   ]
  },
  {
   "cell_type": "code",
   "execution_count": 36,
   "id": "30c56374-3718-4365-aa47-ead0eee252b9",
   "metadata": {},
   "outputs": [
    {
     "data": {
      "text/html": [
       "<div>\n",
       "<style scoped>\n",
       "    .dataframe tbody tr th:only-of-type {\n",
       "        vertical-align: middle;\n",
       "    }\n",
       "\n",
       "    .dataframe tbody tr th {\n",
       "        vertical-align: top;\n",
       "    }\n",
       "\n",
       "    .dataframe thead th {\n",
       "        text-align: right;\n",
       "    }\n",
       "</style>\n",
       "<table border=\"1\" class=\"dataframe\">\n",
       "  <thead>\n",
       "    <tr style=\"text-align: right;\">\n",
       "      <th></th>\n",
       "      <th>mpg</th>\n",
       "      <th>cylinders</th>\n",
       "      <th>displacement</th>\n",
       "      <th>weight</th>\n",
       "      <th>acceleration</th>\n",
       "      <th>model year</th>\n",
       "    </tr>\n",
       "  </thead>\n",
       "  <tbody>\n",
       "    <tr>\n",
       "      <th>mpg</th>\n",
       "      <td>1.000000</td>\n",
       "      <td>-0.777618</td>\n",
       "      <td>-0.805127</td>\n",
       "      <td>-0.832244</td>\n",
       "      <td>0.423329</td>\n",
       "      <td>0.580541</td>\n",
       "    </tr>\n",
       "    <tr>\n",
       "      <th>cylinders</th>\n",
       "      <td>-0.777618</td>\n",
       "      <td>1.000000</td>\n",
       "      <td>0.950823</td>\n",
       "      <td>0.897527</td>\n",
       "      <td>-0.504683</td>\n",
       "      <td>-0.345647</td>\n",
       "    </tr>\n",
       "    <tr>\n",
       "      <th>displacement</th>\n",
       "      <td>-0.805127</td>\n",
       "      <td>0.950823</td>\n",
       "      <td>1.000000</td>\n",
       "      <td>0.932994</td>\n",
       "      <td>-0.543800</td>\n",
       "      <td>-0.369855</td>\n",
       "    </tr>\n",
       "    <tr>\n",
       "      <th>weight</th>\n",
       "      <td>-0.832244</td>\n",
       "      <td>0.897527</td>\n",
       "      <td>0.932994</td>\n",
       "      <td>1.000000</td>\n",
       "      <td>-0.416839</td>\n",
       "      <td>-0.309120</td>\n",
       "    </tr>\n",
       "    <tr>\n",
       "      <th>acceleration</th>\n",
       "      <td>0.423329</td>\n",
       "      <td>-0.504683</td>\n",
       "      <td>-0.543800</td>\n",
       "      <td>-0.416839</td>\n",
       "      <td>1.000000</td>\n",
       "      <td>0.290316</td>\n",
       "    </tr>\n",
       "    <tr>\n",
       "      <th>model year</th>\n",
       "      <td>0.580541</td>\n",
       "      <td>-0.345647</td>\n",
       "      <td>-0.369855</td>\n",
       "      <td>-0.309120</td>\n",
       "      <td>0.290316</td>\n",
       "      <td>1.000000</td>\n",
       "    </tr>\n",
       "  </tbody>\n",
       "</table>\n",
       "</div>"
      ],
      "text/plain": [
       "                   mpg  cylinders  displacement    weight  acceleration  \\\n",
       "mpg           1.000000  -0.777618     -0.805127 -0.832244      0.423329   \n",
       "cylinders    -0.777618   1.000000      0.950823  0.897527     -0.504683   \n",
       "displacement -0.805127   0.950823      1.000000  0.932994     -0.543800   \n",
       "weight       -0.832244   0.897527      0.932994  1.000000     -0.416839   \n",
       "acceleration  0.423329  -0.504683     -0.543800 -0.416839      1.000000   \n",
       "model year    0.580541  -0.345647     -0.369855 -0.309120      0.290316   \n",
       "\n",
       "              model year  \n",
       "mpg             0.580541  \n",
       "cylinders      -0.345647  \n",
       "displacement   -0.369855  \n",
       "weight         -0.309120  \n",
       "acceleration    0.290316  \n",
       "model year      1.000000  "
      ]
     },
     "execution_count": 36,
     "metadata": {},
     "output_type": "execute_result"
    }
   ],
   "source": [
    "mpgDF.corr(numeric_only = True)"
   ]
  },
  {
   "cell_type": "code",
   "execution_count": 37,
   "id": "42f4715e-4cb4-401a-8bfb-6b00422c7749",
   "metadata": {},
   "outputs": [
    {
     "ename": "AttributeError",
     "evalue": "'Series' object has no attribute 'sort_value'",
     "output_type": "error",
     "traceback": [
      "\u001b[1;31m---------------------------------------------------------------------------\u001b[0m",
      "\u001b[1;31mAttributeError\u001b[0m                            Traceback (most recent call last)",
      "Cell \u001b[1;32mIn[37], line 1\u001b[0m\n\u001b[1;32m----> 1\u001b[0m \u001b[43mcorrDF\u001b[49m\u001b[43m[\u001b[49m\u001b[38;5;124;43m'\u001b[39;49m\u001b[38;5;124;43mmpg\u001b[39;49m\u001b[38;5;124;43m'\u001b[39;49m\u001b[43m]\u001b[49m\u001b[43m[\u001b[49m\u001b[38;5;241;43m1\u001b[39;49m\u001b[43m:\u001b[49m\u001b[43m]\u001b[49m\u001b[38;5;241;43m.\u001b[39;49m\u001b[43msort_value\u001b[49m()\n",
      "File \u001b[1;32m~\\anaconda3\\envs\\My-38\\lib\\site-packages\\pandas\\core\\generic.py:5989\u001b[0m, in \u001b[0;36mNDFrame.__getattr__\u001b[1;34m(self, name)\u001b[0m\n\u001b[0;32m   5982\u001b[0m \u001b[38;5;28;01mif\u001b[39;00m (\n\u001b[0;32m   5983\u001b[0m     name \u001b[38;5;129;01mnot\u001b[39;00m \u001b[38;5;129;01min\u001b[39;00m \u001b[38;5;28mself\u001b[39m\u001b[38;5;241m.\u001b[39m_internal_names_set\n\u001b[0;32m   5984\u001b[0m     \u001b[38;5;129;01mand\u001b[39;00m name \u001b[38;5;129;01mnot\u001b[39;00m \u001b[38;5;129;01min\u001b[39;00m \u001b[38;5;28mself\u001b[39m\u001b[38;5;241m.\u001b[39m_metadata\n\u001b[0;32m   5985\u001b[0m     \u001b[38;5;129;01mand\u001b[39;00m name \u001b[38;5;129;01mnot\u001b[39;00m \u001b[38;5;129;01min\u001b[39;00m \u001b[38;5;28mself\u001b[39m\u001b[38;5;241m.\u001b[39m_accessors\n\u001b[0;32m   5986\u001b[0m     \u001b[38;5;129;01mand\u001b[39;00m \u001b[38;5;28mself\u001b[39m\u001b[38;5;241m.\u001b[39m_info_axis\u001b[38;5;241m.\u001b[39m_can_hold_identifiers_and_holds_name(name)\n\u001b[0;32m   5987\u001b[0m ):\n\u001b[0;32m   5988\u001b[0m     \u001b[38;5;28;01mreturn\u001b[39;00m \u001b[38;5;28mself\u001b[39m[name]\n\u001b[1;32m-> 5989\u001b[0m \u001b[38;5;28;01mreturn\u001b[39;00m \u001b[38;5;28;43mobject\u001b[39;49m\u001b[38;5;241;43m.\u001b[39;49m\u001b[38;5;21;43m__getattribute__\u001b[39;49m\u001b[43m(\u001b[49m\u001b[38;5;28;43mself\u001b[39;49m\u001b[43m,\u001b[49m\u001b[43m \u001b[49m\u001b[43mname\u001b[49m\u001b[43m)\u001b[49m\n",
      "\u001b[1;31mAttributeError\u001b[0m: 'Series' object has no attribute 'sort_value'"
     ]
    }
   ],
   "source": [
    "corrDF['mpg'][1:].sort_value()"
   ]
  },
  {
   "cell_type": "code",
   "execution_count": 38,
   "id": "e8814a33-a605-417a-93e5-51f4f60662f8",
   "metadata": {},
   "outputs": [
    {
     "data": {
      "text/plain": [
       "-0.83"
      ]
     },
     "execution_count": 38,
     "metadata": {},
     "output_type": "execute_result"
    }
   ],
   "source": [
    "round(corrDF['mpg']['weight'], 2)"
   ]
  },
  {
   "cell_type": "code",
   "execution_count": 39,
   "id": "0a1fb284-ce9e-4635-b0cf-1c5405507aee",
   "metadata": {},
   "outputs": [],
   "source": [
    "###시각화로 연비 mpg 컬럼의 관계 확인 -------------------------------------------------\n",
    "import matplotlib.pyplot as plt"
   ]
  },
  {
   "cell_type": "code",
   "execution_count": 40,
   "id": "2b8cf546-5595-48e0-bd1e-914c50a35f56",
   "metadata": {},
   "outputs": [
    {
     "data": {
      "image/png": "[encoded data removed]",
      "text/plain": [
       "<Figure size 640x480 with 1 Axes>"
      ]
     },
     "metadata": {},
     "output_type": "display_data"
    }
   ],
   "source": [
    "plt.scatter(mpgDF['mpg'], mpgDF['weight'])\n",
    "plt.xlabel('mpg')\n",
    "plt.ylabel('weight')\n",
    "plt.title('[mpg-weight]')\n",
    "plt.show()"
   ]
  },
  {
   "cell_type": "code",
   "execution_count": 41,
   "id": "b1b1dc79-9613-41b3-af4e-d5cdeb464b80",
   "metadata": {},
   "outputs": [
    {
     "ename": "NameError",
     "evalue": "name 'col1' is not defined",
     "output_type": "error",
     "traceback": [
      "\u001b[1;31m---------------------------------------------------------------------------\u001b[0m",
      "\u001b[1;31mNameError\u001b[0m                                 Traceback (most recent call last)",
      "Cell \u001b[1;32mIn[41], line 7\u001b[0m\n\u001b[0;32m      1\u001b[0m \u001b[38;5;28;01mdef\u001b[39;00m \u001b[38;5;21mprintscatter\u001b[39m(col1, col2):\n\u001b[0;32m      2\u001b[0m \u001b[38;5;250m    \u001b[39m\u001b[38;5;124;03m'''\u001b[39;00m\n\u001b[0;32m      3\u001b[0m \u001b[38;5;124;03m    parameters:\u001b[39;00m\n\u001b[0;32m      4\u001b[0m \u001b[38;5;124;03m    xol1, xol2 : column name \u001b[39;00m\n\u001b[0;32m      5\u001b[0m \u001b[38;5;124;03m    sr1, sr2 :Seiries object\u001b[39;00m\n\u001b[0;32m      6\u001b[0m \u001b[38;5;124;03m    '''\u001b[39;00m\n\u001b[1;32m----> 7\u001b[0m plt\u001b[38;5;241m.\u001b[39mscatter(mpgDF[\u001b[43mcol1\u001b[49m], mpgDF[col2])\n\u001b[0;32m      8\u001b[0m plt\u001b[38;5;241m.\u001b[39mxlabel(\u001b[38;5;124m'\u001b[39m\u001b[38;5;124mcol1\u001b[39m\u001b[38;5;124m'\u001b[39m)\n\u001b[0;32m      9\u001b[0m plt\u001b[38;5;241m.\u001b[39mylabel(\u001b[38;5;124m'\u001b[39m\u001b[38;5;124mcol2\u001b[39m\u001b[38;5;124m'\u001b[39m)\n",
      "\u001b[1;31mNameError\u001b[0m: name 'col1' is not defined"
     ]
    }
   ],
   "source": [
    "def printscatter(col1, col2):\n",
    "    '''\n",
    "    parameters:\n",
    "    xol1, xol2 : column name \n",
    "    sr1, sr2 :Seiries object\n",
    "    '''\n",
    "plt.scatter(mpgDF[col1], mpgDF[col2])\n",
    "plt.xlabel('col1')\n",
    "plt.ylabel('col2')\n",
    "plt.title(f'[{col1}-{col2}]')\n",
    "plt.show()\n",
    "\n",
    "\n"
   ]
  },
  {
   "cell_type": "markdown",
   "id": "789e5cbc-38c1-42bc-94fc-2d0d32f5aa9b",
   "metadata": {},
   "source": [
    "(6-2) 자동차 제조사의 데이터 비율"
   ]
  },
  {
   "cell_type": "code",
   "execution_count": 43,
   "id": "655e062e-7c49-4b81-988d-8363e50e3f63",
   "metadata": {},
   "outputs": [
    {
     "ename": "AttributeError",
     "evalue": "'Series' object has no attribute 'value_count'",
     "output_type": "error",
     "traceback": [
      "\u001b[1;31m---------------------------------------------------------------------------\u001b[0m",
      "\u001b[1;31mAttributeError\u001b[0m                            Traceback (most recent call last)",
      "Cell \u001b[1;32mIn[43], line 1\u001b[0m\n\u001b[1;32m----> 1\u001b[0m originSR \u001b[38;5;241m=\u001b[39m \u001b[43mmpgDF\u001b[49m\u001b[43m[\u001b[49m\u001b[38;5;124;43m'\u001b[39;49m\u001b[38;5;124;43morigin\u001b[39;49m\u001b[38;5;124;43m'\u001b[39;49m\u001b[43m]\u001b[49m\u001b[38;5;241;43m.\u001b[39;49m\u001b[43mvalue_count\u001b[49m()\n\u001b[0;32m      2\u001b[0m originSR\u001b[38;5;241m.\u001b[39mindex, orignSR\u001b[38;5;241m.\u001b[39mvalues\n",
      "File \u001b[1;32m~\\anaconda3\\envs\\My-38\\lib\\site-packages\\pandas\\core\\generic.py:5989\u001b[0m, in \u001b[0;36mNDFrame.__getattr__\u001b[1;34m(self, name)\u001b[0m\n\u001b[0;32m   5982\u001b[0m \u001b[38;5;28;01mif\u001b[39;00m (\n\u001b[0;32m   5983\u001b[0m     name \u001b[38;5;129;01mnot\u001b[39;00m \u001b[38;5;129;01min\u001b[39;00m \u001b[38;5;28mself\u001b[39m\u001b[38;5;241m.\u001b[39m_internal_names_set\n\u001b[0;32m   5984\u001b[0m     \u001b[38;5;129;01mand\u001b[39;00m name \u001b[38;5;129;01mnot\u001b[39;00m \u001b[38;5;129;01min\u001b[39;00m \u001b[38;5;28mself\u001b[39m\u001b[38;5;241m.\u001b[39m_metadata\n\u001b[0;32m   5985\u001b[0m     \u001b[38;5;129;01mand\u001b[39;00m name \u001b[38;5;129;01mnot\u001b[39;00m \u001b[38;5;129;01min\u001b[39;00m \u001b[38;5;28mself\u001b[39m\u001b[38;5;241m.\u001b[39m_accessors\n\u001b[0;32m   5986\u001b[0m     \u001b[38;5;129;01mand\u001b[39;00m \u001b[38;5;28mself\u001b[39m\u001b[38;5;241m.\u001b[39m_info_axis\u001b[38;5;241m.\u001b[39m_can_hold_identifiers_and_holds_name(name)\n\u001b[0;32m   5987\u001b[0m ):\n\u001b[0;32m   5988\u001b[0m     \u001b[38;5;28;01mreturn\u001b[39;00m \u001b[38;5;28mself\u001b[39m[name]\n\u001b[1;32m-> 5989\u001b[0m \u001b[38;5;28;01mreturn\u001b[39;00m \u001b[38;5;28;43mobject\u001b[39;49m\u001b[38;5;241;43m.\u001b[39;49m\u001b[38;5;21;43m__getattribute__\u001b[39;49m\u001b[43m(\u001b[49m\u001b[38;5;28;43mself\u001b[39;49m\u001b[43m,\u001b[49m\u001b[43m \u001b[49m\u001b[43mname\u001b[49m\u001b[43m)\u001b[49m\n",
      "\u001b[1;31mAttributeError\u001b[0m: 'Series' object has no attribute 'value_count'"
     ]
    }
   ],
   "source": [
    "originSR = mpgDF['origin'].value_count()\n",
    "originSR.index, orignSR.values"
   ]
  },
  {
   "cell_type": "code",
   "execution_count": 44,
   "id": "7cdbad31-117c-4a9c-80bf-7e77a2f7bbb1",
   "metadata": {},
   "outputs": [
    {
     "ename": "NameError",
     "evalue": "name 'orignSR' is not defined",
     "output_type": "error",
     "traceback": [
      "\u001b[1;31m---------------------------------------------------------------------------\u001b[0m",
      "\u001b[1;31mNameError\u001b[0m                                 Traceback (most recent call last)",
      "Cell \u001b[1;32mIn[44], line 1\u001b[0m\n\u001b[1;32m----> 1\u001b[0m plt\u001b[38;5;241m.\u001b[39mbar(\u001b[43morignSR\u001b[49m\u001b[38;5;241m.\u001b[39mindex, orignSR\u001b[38;5;241m.\u001b[39mvalues)\n",
      "\u001b[1;31mNameError\u001b[0m: name 'orignSR' is not defined"
     ]
    }
   ],
   "source": [
    "plt.bar(orignSR.index, orignSR.values)"
   ]
  },
  {
   "cell_type": "code",
   "execution_count": null,
   "id": "107faa9b-4c51-47d7-8363-ae49c204a44d",
   "metadata": {},
   "outputs": [],
   "source": []
  },
  {
   "cell_type": "code",
   "execution_count": null,
   "id": "48918a3f-bccc-407f-a029-03d3c70148ec",
   "metadata": {},
   "outputs": [],
   "source": []
  }
 ],
 "metadata": {
  "kernelspec": {
   "display_name": "Python 3 (ipykernel)",
   "language": "python",
   "name": "python3"
  },
  "language_info": {
   "codemirror_mode": {
    "name": "ipython",
    "version": 3
   },
   "file_extension": ".py",
   "mimetype": "text/x-python",
   "name": "python",
   "nbconvert_exporter": "python",
   "pygments_lexer": "ipython3",
   "version": "3.8.18"
  }
 },
 "nbformat": 4,
 "nbformat_minor": 5
}
