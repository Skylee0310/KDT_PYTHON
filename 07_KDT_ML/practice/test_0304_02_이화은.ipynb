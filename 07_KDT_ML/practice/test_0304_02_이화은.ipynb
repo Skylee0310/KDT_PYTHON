{
 "cells": [
  {
   "cell_type": "markdown",
   "metadata": {},
   "source": [
    " * : 3 1 , 4 회귀 개 품종 중 개 선택 개 피쳐 중 꽃잎의 길이값 예측 회귀 \n",
    "\n",
    " target = petal_length"
   ]
  },
  {
   "cell_type": "code",
   "execution_count": 13,
   "metadata": {},
   "outputs": [],
   "source": [
    "import pandas as pd\n",
    "import numpy as np\n",
    "import matplotlib.pyplot as plt\n",
    "import koreanize_matplotlib\n",
    "from sklearn.model_selection import train_test_split\n",
    "from sklearn.neighbors import KNeighborsClassifier\n",
    "from sklearn.linear_model import LogisticRegression, LinearRegression\n",
    "from sklearn.metrics import mean_squared_error, mean_absolute_error, r2_score"
   ]
  },
  {
   "cell_type": "code",
   "execution_count": 14,
   "metadata": {},
   "outputs": [],
   "source": [
    "# 데이터 확인\n",
    "file = './data/iris.csv'\n",
    "pd.read_csv(file)\n",
    "irisDF = pd.read_csv(file)"
   ]
  },
  {
   "cell_type": "code",
   "execution_count": 15,
   "metadata": {},
   "outputs": [
    {
     "data": {
      "text/plain": [
       "1"
      ]
     },
     "execution_count": 15,
     "metadata": {},
     "output_type": "execute_result"
    }
   ],
   "source": [
    "# 데이터 전처리 (결측값 확인)\n",
    "irisDF.isna().sum()\n",
    "\n",
    "# 데이터 전처리 (중복값 확인)\n",
    "irisDF.duplicated().sum()"
   ]
  },
  {
   "cell_type": "code",
   "execution_count": 16,
   "metadata": {},
   "outputs": [
    {
     "data": {
      "text/plain": [
       "sepal.width     0.428440\n",
       "sepal.length    0.871754\n",
       "petal.width     0.962865\n",
       "petal.length    1.000000\n",
       "Name: petal.length, dtype: float64"
      ]
     },
     "execution_count": 16,
     "metadata": {},
     "output_type": "execute_result"
    }
   ],
   "source": [
    "abs(irisDF.corr(numeric_only=True))['petal.length'].sort_values()"
   ]
  },
  {
   "cell_type": "code",
   "execution_count": 17,
   "metadata": {},
   "outputs": [],
   "source": [
    "targetDF = irisDF['petal.length']\n",
    "featureDF = irisDF[['petal.width', 'sepal.length']]"
   ]
  },
  {
   "cell_type": "code",
   "execution_count": 18,
   "metadata": {},
   "outputs": [],
   "source": [
    "X_train, X_test, y_train, y_test = train_test_split(featureDF, targetDF, test_size = 0.2)"
   ]
  },
  {
   "cell_type": "code",
   "execution_count": 23,
   "metadata": {},
   "outputs": [
    {
     "data": {
      "text/plain": [
       "[0.9462754503281375,\n",
       " 0.9462754503281375,\n",
       " 0.9462754503281375,\n",
       " 0.9462754503281375,\n",
       " 0.9462754503281375,\n",
       " 0.9462754503281375,\n",
       " 0.9462754503281375,\n",
       " 0.9462754503281375,\n",
       " 0.9462754503281375,\n",
       " 0.9462754503281375,\n",
       " 0.9462754503281375,\n",
       " 0.9462754503281375,\n",
       " 0.9462754503281375,\n",
       " 0.9462754503281375,\n",
       " 0.9462754503281375,\n",
       " 0.9462754503281375,\n",
       " 0.9462754503281375,\n",
       " 0.9462754503281375,\n",
       " 0.9462754503281375,\n",
       " 0.9462754503281375,\n",
       " 0.9462754503281375,\n",
       " 0.9462754503281375,\n",
       " 0.9462754503281375,\n",
       " 0.9462754503281375,\n",
       " 0.9462754503281375,\n",
       " 0.9462754503281375,\n",
       " 0.9462754503281375,\n",
       " 0.9462754503281375,\n",
       " 0.9462754503281375,\n",
       " 0.9462754503281375,\n",
       " 0.9462754503281375,\n",
       " 0.9462754503281375,\n",
       " 0.9462754503281375,\n",
       " 0.9462754503281375,\n",
       " 0.9462754503281375,\n",
       " 0.9462754503281375,\n",
       " 0.9462754503281375,\n",
       " 0.9462754503281375,\n",
       " 0.9462754503281375,\n",
       " 0.9462754503281375,\n",
       " 0.9462754503281375,\n",
       " 0.9462754503281375,\n",
       " 0.9462754503281375,\n",
       " 0.9462754503281375,\n",
       " 0.9462754503281375,\n",
       " 0.9462754503281375,\n",
       " 0.9462754503281375,\n",
       " 0.9462754503281375,\n",
       " 0.9462754503281375]"
      ]
     },
     "execution_count": 23,
     "metadata": {},
     "output_type": "execute_result"
    }
   ],
   "source": [
    "model = LinearRegression()\n",
    "\n",
    "trainScoreList = []\n",
    "testScoreList = []\n",
    "for k in range(1, 50) :\n",
    "    model.fit(X_train, y_train)\n",
    "    train = model.score(X_train, y_train)\n",
    "    test = model.score(X_test, y_test)\n",
    "    trainScoreList.append(train)\n",
    "    testScoreList.append(test)\n",
    "\n",
    "trainScoreList\n"
   ]
  },
  {
   "cell_type": "code",
   "execution_count": null,
   "metadata": {},
   "outputs": [],
   "source": [
    "# 성능평가\n"
   ]
  },
  {
   "cell_type": "code",
   "execution_count": null,
   "metadata": {},
   "outputs": [],
   "source": []
  }
 ],
 "metadata": {
  "kernelspec": {
   "display_name": "EXAM_ML",
   "language": "python",
   "name": "python3"
  },
  "language_info": {
   "codemirror_mode": {
    "name": "ipython",
    "version": 3
   },
   "file_extension": ".py",
   "mimetype": "text/x-python",
   "name": "python",
   "nbconvert_exporter": "python",
   "pygments_lexer": "ipython3",
   "version": "3.9.18"
  }
 },
 "nbformat": 4,
 "nbformat_minor": 2
}
