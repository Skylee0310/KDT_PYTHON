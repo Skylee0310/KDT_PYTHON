{
 "cells": [
  {
   "cell_type": "code",
   "execution_count": 1,
   "metadata": {},
   "outputs": [],
   "source": [
    "# 모듈 로딩 및 버전 체크 \n",
    "import pandas as pd\n",
    "import seaborn as sns\n",
    "import matplotlib as mt\n",
    "import sklearn as sk\n",
    "import torch"
   ]
  },
  {
   "cell_type": "code",
   "execution_count": 3,
   "metadata": {},
   "outputs": [
    {
     "name": "stdout",
     "output_type": "stream",
     "text": [
      "pandas v2.0.3\n",
      "seaborn v0.12.2\n",
      "matplotlib v3.7.2\n",
      "scikit_learn v1.3.0\n",
      "PyTorch v2.2.0\n"
     ]
    }
   ],
   "source": [
    "# 버전 정보 출력 \n",
    "print(F'pandas v{pd.__version__}')\n",
    "print(F'seaborn v{sns.__version__}')\n",
    "print(F'matplotlib v{mt.__version__}')\n",
    "print(F'scikit_learn v{sk.__version__}')\n",
    "print(F'PyTorch v{torch.__version__}')\n"
   ]
  },
  {
   "cell_type": "code",
   "execution_count": 5,
   "metadata": {},
   "outputs": [
    {
     "name": "stdout",
     "output_type": "stream",
     "text": [
      "GPU=><function is_available at 0x000002C388FD7700>\n"
     ]
    }
   ],
   "source": [
    "# 해당 PC에 CPU\n",
    "print(f'GPU=>{torch.cuda.is_available}')"
   ]
  },
  {
   "cell_type": "code",
   "execution_count": 6,
   "metadata": {},
   "outputs": [],
   "source": [
    "# 저장 및 실행 Device 설정\n",
    "Device = 'gpu' if torch.cuda.is_available() else 'cpu'"
   ]
  },
  {
   "cell_type": "markdown",
   "metadata": {},
   "source": [
    "scikit learn"
   ]
  }
 ],
 "metadata": {
  "kernelspec": {
   "display_name": "EXAM_ML",
   "language": "python",
   "name": "python3"
  },
  "language_info": {
   "codemirror_mode": {
    "name": "ipython",
    "version": 3
   },
   "file_extension": ".py",
   "mimetype": "text/x-python",
   "name": "python",
   "nbconvert_exporter": "python",
   "pygments_lexer": "ipython3",
   "version": "3.8.18"
  }
 },
 "nbformat": 4,
 "nbformat_minor": 2
}
