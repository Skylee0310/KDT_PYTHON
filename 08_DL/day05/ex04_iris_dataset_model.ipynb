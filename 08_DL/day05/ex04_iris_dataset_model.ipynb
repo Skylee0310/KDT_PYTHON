{
 "cells": [
  {
   "cell_type": "markdown",
   "id": "95f0a02e902c1f7c",
   "metadata": {
    "collapsed": false
   },
   "source": [
    "Data File ==> DataFrame, Numpy (전처리) ==> Tensor ==> Dataset(피처 + 타겟) ==> DataLoader 생성"
   ]
  },
  {
   "cell_type": "markdown",
   "id": "94be82110b73acc8",
   "metadata": {
    "collapsed": false
   },
   "source": [
    "### Dataset & DataLoader 살펴보기\n",
    "- Pytorch에서 배치크기만 데이터를 조절하기 위한 메카니즘\n",
    "- Dataset : 사용 데이터를 기반으로 사용자 정의 클래스 작성\n",
    "- DataLoader : 지정된 Dataset에서 지정된 batch size만큼 피처와 타겟을 추출하여 전달"
   ]
  },
  {
   "cell_type": "markdown",
   "id": "a5a98f8dec4fa3c7",
   "metadata": {
    "collapsed": false
   },
   "source": [
    "[1] 모듈로딩 및 데이터 준비"
   ]
  },
  {
   "cell_type": "code",
   "execution_count": 186,
   "id": "63296d3d676f364",
   "metadata": {
    "ExecuteTime": {
     "end_time": "2024-03-15T08:00:14.002584Z",
     "start_time": "2024-03-15T08:00:13.999516Z"
    },
    "collapsed": false
   },
   "outputs": [],
   "source": [
    "### ===> 모듈 로딩\n",
    "import torch\n",
    "import torch.nn as nn\n",
    "from torch.utils.data import Dataset, DataLoader\n",
    "\n",
    "import numpy as np\n",
    "import pandas as pd"
   ]
  },
  {
   "cell_type": "markdown",
   "id": "8a658d8f957c7648",
   "metadata": {
    "collapsed": false
   },
   "source": [
    "[2] 데이터셋 생성"
   ]
  },
  {
   "cell_type": "markdown",
   "id": "f5bbb7cb093c09c3",
   "metadata": {
    "collapsed": false
   },
   "source": [
    "- 사용자 정의 데이터셋 생성"
   ]
  },
  {
   "cell_type": "code",
   "execution_count": 187,
   "id": "661ddd67ddb4fa3b",
   "metadata": {
    "ExecuteTime": {
     "end_time": "2024-03-15T08:00:14.176673Z",
     "start_time": "2024-03-15T08:00:14.170415Z"
    },
    "collapsed": false
   },
   "outputs": [],
   "source": [
    "file = '../data/iris.csv'\n",
    "irisDF = pd.read_csv(file, header = None)\n",
    "irisDF.columns = ['sepal_length', 'sepal_width', 'petal_length','petal_width','variety']"
   ]
  },
  {
   "cell_type": "code",
   "execution_count": 188,
   "id": "98b6737cceaae48d",
   "metadata": {
    "ExecuteTime": {
     "end_time": "2024-03-15T08:00:14.208244Z",
     "start_time": "2024-03-15T08:00:14.194648Z"
    },
    "collapsed": false
   },
   "outputs": [],
   "source": [
    "irisNP = np.loadtxt(file, delimiter = ',', usecols = [0,1,2,3])"
   ]
  },
  {
   "cell_type": "code",
   "execution_count": 189,
   "id": "50f01f46729f3e68",
   "metadata": {
    "ExecuteTime": {
     "end_time": "2024-03-15T08:00:14.241581Z",
     "start_time": "2024-03-15T08:00:14.219672Z"
    },
    "collapsed": false
   },
   "outputs": [
    {
     "data": {
      "text/plain": [
       "(pandas.core.frame.DataFrame, numpy.ndarray, 'DataFrame', 'ndarray')"
      ]
     },
     "execution_count": 189,
     "metadata": {},
     "output_type": "execute_result"
    }
   ],
   "source": [
    "# 데이터의 타입 체크\n",
    "type(irisDF), type(irisNP), irisDF.__class__.__name__, irisNP.__class__.__name__"
   ]
  },
  {
   "cell_type": "code",
   "execution_count": 190,
   "id": "91b69fbf81995d5",
   "metadata": {
    "ExecuteTime": {
     "end_time": "2024-03-15T08:00:14.273890Z",
     "start_time": "2024-03-15T08:00:14.260161Z"
    },
    "collapsed": false
   },
   "outputs": [
    {
     "name": "stdout",
     "output_type": "stream",
     "text": [
      "DF\n"
     ]
    }
   ],
   "source": [
    "if irisDF.__class__.__name__ == 'DataFrame' :\n",
    "    print('DF')\n",
    "else:\n",
    "    print('-----')"
   ]
  },
  {
   "cell_type": "code",
   "execution_count": 191,
   "id": "82621a52ce7d13b8",
   "metadata": {
    "ExecuteTime": {
     "end_time": "2024-03-15T08:00:14.304958Z",
     "start_time": "2024-03-15T08:00:14.290893Z"
    },
    "collapsed": false
   },
   "outputs": [
    {
     "name": "stdout",
     "output_type": "stream",
     "text": [
      "True\n",
      "False\n",
      "False\n",
      "True\n"
     ]
    }
   ],
   "source": [
    "print(isinstance(irisDF, pd.DataFrame), isinstance(irisNP, pd.DataFrame), isinstance(irisDF, np.ndarray),isinstance(irisNP, np.ndarray), sep = '\\n')"
   ]
  },
  {
   "cell_type": "code",
   "execution_count": 192,
   "id": "ad14171d414d9fa6",
   "metadata": {
    "ExecuteTime": {
     "end_time": "2024-03-15T08:00:14.336140Z",
     "start_time": "2024-03-15T08:00:14.315842Z"
    },
    "collapsed": false
   },
   "outputs": [],
   "source": [
    "### 사용자 정의 DataSet 클래스\n",
    "# - 데이터의 Tensor 변환\n",
    "\n",
    "class DLDataset(Dataset):\n",
    "    # 초기화 함수 콜백함수 (callback function)\n",
    "    def __init__(self, x_data, y_data):\n",
    "        super().__init__()\n",
    "        \n",
    "        # x,y 데이터 ==> ndarray\n",
    "        x_data = x_data.values if isinstance(x_data, pd.DataFrame) else x_data\n",
    "        y_data = y_data.values if isinstance(y_data, pd.DataFrame) else y_data\n",
    "        # 넘파이면 그대로 ㄱㅊ    다만 데이터프레임이면 values만 뺴서 갖고오자능\n",
    "        \n",
    "        # ndarray ==> tensor\n",
    "        self.feature = torch.FloatTensor(x_data)\n",
    "        self.target = torch.LongTensor(y_data)         # 라벨 인코딩 형식으로 진행함 (원핫인코딩 ㄴㄴ)\n",
    "        \n",
    "    # 데이터셋의 개수 체크 함수 콜백함수 (callback function)\n",
    "    def __len__(self):\n",
    "        return self.target.shape[0]\n",
    "    \n",
    "    # 특정 인덱스 데이터 + 라벨 반환 콜백함수 (callback function)\n",
    "    def __getitem__(self, index):\n",
    "        return self.feature[index], self.target[index]\n"
   ]
  },
  {
   "cell_type": "code",
   "execution_count": 193,
   "id": "99c975d38a8acdd8",
   "metadata": {
    "ExecuteTime": {
     "end_time": "2024-03-15T08:00:14.367622Z",
     "start_time": "2024-03-15T08:00:14.356947Z"
    },
    "collapsed": false
   },
   "outputs": [
    {
     "name": "stdout",
     "output_type": "stream",
     "text": [
      "featureDF => (150, 4) , 2D\n",
      "targetDF => (150,) , 1D\n"
     ]
    }
   ],
   "source": [
    "## 피처와 라벨로 분리\n",
    "featureDF = irisDF[irisDF.columns[:-1]]\n",
    "targetDF = irisDF[irisDF.columns[-1]]\n",
    "\n",
    "print(f\"featureDF => {featureDF.shape} , {featureDF.ndim}D\")\n",
    "print(f\"targetDF => {targetDF.shape} , {targetDF.ndim}D\")"
   ]
  },
  {
   "cell_type": "code",
   "execution_count": 194,
   "id": "609c2d0d5e077efb",
   "metadata": {
    "ExecuteTime": {
     "end_time": "2024-03-15T08:00:14.430323Z",
     "start_time": "2024-03-15T08:00:14.411499Z"
    },
    "collapsed": false
   },
   "outputs": [
    {
     "name": "stdout",
     "output_type": "stream",
     "text": [
      "(150, 1) 2\n"
     ]
    }
   ],
   "source": [
    "# object 타입 타겟 ===> int 타입 타겟 변환\n",
    "from sklearn.preprocessing import LabelEncoder\n",
    "\n",
    "targetNP = LabelEncoder().fit_transform(targetDF)\n",
    "targetNP = targetNP.reshape(-1,1)\n",
    "print(targetNP.shape, targetNP.ndim)"
   ]
  },
  {
   "cell_type": "code",
   "execution_count": 195,
   "id": "fd63f3c1611f19b1",
   "metadata": {
    "ExecuteTime": {
     "end_time": "2024-03-15T08:00:14.461195Z",
     "start_time": "2024-03-15T08:00:14.448097Z"
    },
    "collapsed": false
   },
   "outputs": [],
   "source": [
    "# 데이터셋 생성  ==> DF, NP\n",
    "my_dataset = DLDataset(featureDF, targetNP)"
   ]
  },
  {
   "cell_type": "code",
   "execution_count": 196,
   "id": "559d6b61c1914ab7",
   "metadata": {
    "ExecuteTime": {
     "end_time": "2024-03-15T08:00:14.476673Z",
     "start_time": "2024-03-15T08:00:14.467415Z"
    },
    "collapsed": false
   },
   "outputs": [
    {
     "name": "stdout",
     "output_type": "stream",
     "text": [
      "(tensor([5.1000, 3.5000, 1.4000, 0.2000]), tensor([0]))\n",
      "\n",
      "sepal_length    5.1\n",
      "sepal_width     3.5\n",
      "petal_length    1.4\n",
      "petal_width     0.2\n",
      "Name: 0, dtype: float64\n",
      "\n",
      "Iris-setosa\n"
     ]
    }
   ],
   "source": [
    "print(my_dataset[0], featureDF.iloc[0], targetDF[0], sep = '\\n\\n')"
   ]
  },
  {
   "cell_type": "code",
   "execution_count": 197,
   "id": "6a41b8cbd69172ef",
   "metadata": {
    "ExecuteTime": {
     "end_time": "2024-03-15T08:00:14.508222Z",
     "start_time": "2024-03-15T08:00:14.490266Z"
    },
    "collapsed": false
   },
   "outputs": [
    {
     "name": "stdout",
     "output_type": "stream",
     "text": [
      "(tensor([5.1000, 3.5000, 1.4000, 0.2000]), tensor([0]))\n"
     ]
    }
   ],
   "source": [
    "# 데이터셋 생성 => NP, NP\n",
    "my_dataset2 = DLDataset(irisNP, targetNP)\n",
    "print(my_dataset2[0])"
   ]
  },
  {
   "cell_type": "markdown",
   "id": "1886d2dcfbe828d9",
   "metadata": {
    "collapsed": false
   },
   "source": [
    "- [2-3] 학습용, 검증용, 테스트용 Dataset <hr>"
   ]
  },
  {
   "cell_type": "code",
   "execution_count": 198,
   "id": "afe809a48d7e356b",
   "metadata": {
    "ExecuteTime": {
     "end_time": "2024-03-15T08:00:14.539715Z",
     "start_time": "2024-03-15T08:00:14.534553Z"
    },
    "collapsed": false
   },
   "outputs": [
    {
     "name": "stdout",
     "output_type": "stream",
     "text": [
      "trainDS => 105, validDS => 15, testDS => 30\n"
     ]
    }
   ],
   "source": [
    "### ===> 파이토치\n",
    "from torch.utils.data import random_split\n",
    "\n",
    "# 학습용, 검증용, 테스트 데이터 비율\n",
    "seed = torch.Generator().manual_seed(2)\n",
    "\n",
    "trainDS, validDS, testDS = random_split(my_dataset2, [0.7, 0.1, 0.2], generator = seed )\n",
    "\n",
    "print(f\"trainDS => {len(trainDS)}, validDS => {len(validDS)}, testDS => {len(testDS)}\")"
   ]
  },
  {
   "cell_type": "code",
   "execution_count": 199,
   "id": "4123cb1ce27c7bb1",
   "metadata": {
    "ExecuteTime": {
     "end_time": "2024-03-15T08:00:14.586970Z",
     "start_time": "2024-03-15T08:00:14.569844Z"
    },
    "collapsed": false
   },
   "outputs": [],
   "source": [
    "# print(f\"Subset 속성 =>\\n indices: \\n {trainDS.indices} \\n dataset : {trainDS.dataset}\")"
   ]
  },
  {
   "cell_type": "code",
   "execution_count": 200,
   "id": "d44fecf60518cb81",
   "metadata": {
    "ExecuteTime": {
     "end_time": "2024-03-15T08:00:14.618895Z",
     "start_time": "2024-03-15T08:00:14.605038Z"
    },
    "collapsed": false
   },
   "outputs": [],
   "source": [
    "# print(f\"Subset 속성 =>\\n indices: \\n {validDS.indices} \\n dataset : {validDS.dataset}\")"
   ]
  },
  {
   "cell_type": "markdown",
   "id": "635b35fae563d1fd",
   "metadata": {
    "collapsed": false
   },
   "source": [
    "[3] DataLoader 생성 : 학습용, 검증용, 테스트용 <hr>"
   ]
  },
  {
   "cell_type": "code",
   "execution_count": 201,
   "id": "9998b82a7727bb67",
   "metadata": {
    "ExecuteTime": {
     "end_time": "2024-03-15T08:00:14.634660Z",
     "start_time": "2024-03-15T08:00:14.625169Z"
    },
    "collapsed": false
   },
   "outputs": [
    {
     "data": {
      "text/plain": [
       "(11, 2, 3)"
      ]
     },
     "execution_count": 201,
     "metadata": {},
     "output_type": "execute_result"
    }
   ],
   "source": [
    "# DataLoader 생성\n",
    "# drop_last 매개변수 : 배치 사이즈로 데이터셋 분리 후 남는 데이터 처리 방법 설정 [기본 : False]\n",
    "batch = 10\n",
    "trainDL = DataLoader(trainDS, batch_size = batch)\n",
    "validDL = DataLoader(validDS, batch_size = batch)\n",
    "testDL = DataLoader(testDS, batch_size = batch)\n",
    "\n",
    "len(trainDL), len(validDL), len(testDL)"
   ]
  },
  {
   "cell_type": "code",
   "execution_count": 202,
   "id": "14aabb7e7b795f73",
   "metadata": {
    "ExecuteTime": {
     "end_time": "2024-03-15T08:00:14.650368Z",
     "start_time": "2024-03-15T08:00:14.644061Z"
    },
    "collapsed": false
   },
   "outputs": [
    {
     "name": "stdout",
     "output_type": "stream",
     "text": [
      "batch_size : 10\n",
      "trainDS => 105개, validDS => 15개, trainDS => 105개\n",
      "trainDL => 11개, validDL => 2개, testDL => 3개\n"
     ]
    }
   ],
   "source": [
    "# Epoch당 반복 단위\n",
    "print(f'batch_size : {batch}')\n",
    "print(f\"trainDS => {len(trainDS)}개, validDS => {len(validDS)}개, trainDS => {len(trainDS)}개\")\n",
    "print(f\"trainDL => {len(trainDL)}개, validDL => {len(validDL)}개, testDL => {len(testDL)}개\")"
   ]
  },
  {
   "cell_type": "markdown",
   "id": "9c81ee0d14feca89",
   "metadata": {
    "collapsed": false
   },
   "source": [
    "[4] Model 클래스 정의 : 입/출력 피처수, 층 수, 은닉층의 노드수 <hr>\n",
    "- 구조설계\n",
    "    * 입력층 : 입력 <= 피처 갯수, iris 4개 \n",
    "    * 은닉층 : 마음대로 알아서 잘\n",
    "    * 출력층 : 출력 <= [분류] 타겟 클래스 갯수  [회귀] 1개"
   ]
  },
  {
   "cell_type": "code",
   "execution_count": 203,
   "id": "79f2872dbf54c5ee",
   "metadata": {
    "ExecuteTime": {
     "end_time": "2024-03-15T08:00:14.682226Z",
     "start_time": "2024-03-15T08:00:14.673828Z"
    },
    "collapsed": false
   },
   "outputs": [],
   "source": [
    "# 모델 클래스 정의\n",
    "# 클래스명 : CModel\n",
    "\n",
    "class CModel(nn.Module):    # nn.Module을 상속받는다.\n",
    "    \n",
    "    # 모델 구성 요소 정의 함수\n",
    "    def __init__(self, in_, out_):\n",
    "        super().__init__()\n",
    "        self.input_layer = nn.Linear(in_, 100)\n",
    "        self.relu = nn.ReLU()\n",
    "        self.hidden_layer = nn.Linear(100, 27)\n",
    "        self.output_layer = nn.Linear(27, out_)\n",
    "        \n",
    "    # 순방향 학습 진행\n",
    "    def forward(self, x):\n",
    "        x = self.input_layer(x)            # W1x1 + W2x2 _ ... + Wnxn + b 반환\n",
    "        x = self.relu(x)                   # relu 함수 결과 100개 반환\n",
    "        x = self.hidden_layer(x)\n",
    "        x = self.relu(x)\n",
    "        x = self.output_layer(x)\n",
    "        return x"
   ]
  },
  {
   "cell_type": "markdown",
   "id": "213c7ba075564606",
   "metadata": {
    "collapsed": false
   },
   "source": [
    "[5] 학습 준비 : 실행 디바이스, 모델, 최적화, 손실함수, 학습 횟수, 학습 함수, 평가 함수, 예측 함수 <hr>"
   ]
  },
  {
   "cell_type": "code",
   "execution_count": 204,
   "id": "acef3389e569a499",
   "metadata": {
    "ExecuteTime": {
     "end_time": "2024-03-15T08:00:14.697337Z",
     "start_time": "2024-03-15T08:00:14.693099Z"
    },
    "collapsed": false
   },
   "outputs": [],
   "source": [
    "# 실행 디바이스 설정\n",
    "DEVICE = 'cuda' if torch.cuda.is_available() else 'cpu'\n",
    "\n",
    "# 학습 횟수\n",
    "EPOCHS = 50"
   ]
  },
  {
   "cell_type": "code",
   "execution_count": 205,
   "id": "9887a4904309f60b",
   "metadata": {
    "ExecuteTime": {
     "end_time": "2024-03-15T08:00:14.728683Z",
     "start_time": "2024-03-15T08:00:14.716264Z"
    },
    "collapsed": false
   },
   "outputs": [
    {
     "name": "stdout",
     "output_type": "stream",
     "text": [
      "4 3\n"
     ]
    }
   ],
   "source": [
    "# 모델 인스턴스\n",
    "IN, OUT = my_dataset2.feature.shape[1], len(np.unique(targetDF))\n",
    "print(IN, OUT)\n",
    "model = CModel(IN, OUT).to(DEVICE)"
   ]
  },
  {
   "cell_type": "code",
   "execution_count": 206,
   "id": "812dd61a9241f2dd",
   "metadata": {
    "ExecuteTime": {
     "end_time": "2024-03-15T08:00:14.775175Z",
     "start_time": "2024-03-15T08:00:14.758079Z"
    },
    "collapsed": false
   },
   "outputs": [],
   "source": [
    "# 손실 함수\n",
    "LOSS_FN = nn.CrossEntropyLoss().to(DEVICE)\n",
    "\n",
    "# 최적화 인스턴스\n",
    "import torch.optim as optim\n",
    "OPTIMIZER = optim.Adam(model.parameters())"
   ]
  },
  {
   "cell_type": "markdown",
   "id": "23e443d71865bba9",
   "metadata": {
    "collapsed": false
   },
   "source": [
    "- 학습 및 검증 관련 함수 정의"
   ]
  },
  {
   "cell_type": "code",
   "execution_count": 207,
   "id": "cf3e3a5924d174e0",
   "metadata": {
    "ExecuteTime": {
     "end_time": "2024-03-15T08:00:14.806071Z",
     "start_time": "2024-03-15T08:00:14.797958Z"
    },
    "collapsed": false
   },
   "outputs": [],
   "source": [
    "import torchmetrics.functional as metrics"
   ]
  },
  {
   "cell_type": "code",
   "execution_count": 208,
   "id": "f143f4fcf13f0d0f",
   "metadata": {
    "ExecuteTime": {
     "end_time": "2024-03-15T08:00:14.852878Z",
     "start_time": "2024-03-15T08:00:14.842145Z"
    },
    "collapsed": false
   },
   "outputs": [],
   "source": [
    "### ===> 학습 진행 함수\n",
    "def training():\n",
    "    # 학습 모드 => 정규화, 경사하강법, 드랍아웃 등의 기능 활성화\n",
    "    model.train()\n",
    "    \n",
    "    # 배치 크기만큼 학습 진행 및 저장\n",
    "    train_loss = []\n",
    "    for cnt, (feature, target) in enumerate(trainDL):\n",
    "        # print(cnt, feature, target)\n",
    "        # 배치 크기만큼의 학습 데이터 준비      \n",
    "        feature, target = feature.to(DEVICE), target.to(DEVICE)\n",
    "        \n",
    "        target = target.squeeze()\n",
    "        \n",
    "        # 학습\n",
    "        pre_target = model(feature)\n",
    "        # print(f\"pre_target => {pre_target.shape}, {pre_target.ndim}D\")\n",
    "        # print(f\"target => {target.shape}, {target.ndim}D\")\n",
    "        \n",
    "        \n",
    "        # 손실 계산\n",
    "        loss = LOSS_FN(pre_target, target)\n",
    "        train_loss.append(loss)\n",
    "        \n",
    "        # W, b 업데이트\n",
    "        OPTIMIZER.zero_grad()\n",
    "        loss.backward()\n",
    "        OPTIMIZER.step()\n",
    "        \n",
    "        # 배치 단위 학습 진행 메시지 출력\n",
    "        # print(f\"[Train {cnt} batch LOSS] ===> {loss}\")\n",
    "        \n",
    "        # 정확도 Accuracy\n",
    "        acc = metrics.accuracy(pre_target, target, task = 'multiclass', num_classes = OUT)\n",
    "        # print(f\" ACC : {acc}\")\n",
    "        \n",
    "    # 에포크 단위 학습 진행 메시지 출력\n",
    "    print(f\"[Train loss] ===> {loss}\")\n",
    "    # print(f\"ACC : {acc}\")\n",
    "    return train_loss"
   ]
  },
  {
   "cell_type": "code",
   "execution_count": 209,
   "id": "651690c6c7d95fc0",
   "metadata": {
    "ExecuteTime": {
     "end_time": "2024-03-15T08:00:14.884026Z",
     "start_time": "2024-03-15T08:00:14.867443Z"
    },
    "collapsed": false
   },
   "outputs": [],
   "source": [
    "### ===> 검증 및 평가 진행 함수\n",
    "# 매개변수 dataLoader : 검증 또는 테스트 데이터셋에 대한 Loader\n",
    "def testing(dataLoader):\n",
    "    # 추론모드 => 정규화, 경사하강법, 드랍아웃 등의 기능 비활성화\n",
    "    model.eval()\n",
    "    \n",
    "    with torch.no_grad():\n",
    "        # 배치 크기 만큼 학습 진행 및 저장\n",
    "        val_loss = []\n",
    "        for cnt, (feature, target) in enumerate(dataLoader):\n",
    "            # 배치 크기 만큼의 학습 데이터 준비\n",
    "            feature, target = feature.to(DEVICE), target.to(DEVICE)\n",
    "            target = target.squeeze()\n",
    "            \n",
    "            # 학습\n",
    "            pre_target = model(feature)\n",
    "            \n",
    "            # 손실 계산\n",
    "            loss = LOSS_FN(pre_target, target)\n",
    "            val_loss.append(loss)\n",
    "           \n",
    "            \n",
    "        # 에포크 단위 학습 진행 메시지 출력\n",
    "        acc = metrics.accuracy(pre_target, target, task = 'multiclass', num_classes = OUT)\n",
    "        print(f\"[Valid loss] ===> {loss}\")\n",
    "        # print(f\"[Valid ACC] : {acc}\")\n",
    "        \n",
    "        return val_loss"
   ]
  },
  {
   "cell_type": "code",
   "execution_count": 210,
   "id": "62690305bce44436",
   "metadata": {
    "ExecuteTime": {
     "end_time": "2024-03-15T08:00:14.930898Z",
     "start_time": "2024-03-15T08:00:14.915134Z"
    },
    "collapsed": false
   },
   "outputs": [],
   "source": [
    "### ===> 예측 함수\n",
    "def predict():\n",
    "    pass"
   ]
  },
  {
   "cell_type": "markdown",
   "id": "865e88b94c09240a",
   "metadata": {
    "collapsed": false
   },
   "source": [
    "[6] 학습 진행 <hr>"
   ]
  },
  {
   "cell_type": "code",
   "execution_count": 215,
   "id": "d887bd5f5668205d",
   "metadata": {
    "ExecuteTime": {
     "end_time": "2024-03-15T08:02:02.562221Z",
     "start_time": "2024-03-15T08:02:01.739151Z"
    },
    "collapsed": false
   },
   "outputs": [
    {
     "name": "stderr",
     "output_type": "stream",
     "text": [
      "C:\\ProgramData\\anaconda3\\envs\\Torch_PY38\\lib\\site-packages\\torch\\optim\\lr_scheduler.py:28: UserWarning: The verbose parameter is deprecated. Please use get_last_lr() to access the learning rate.\n",
      "  warnings.warn(\"The verbose parameter is deprecated. Please use get_last_lr() \"\n"
     ]
    },
    {
     "name": "stdout",
     "output_type": "stream",
     "text": [
      "[Train loss] ===> 0.6823173761367798\n",
      "[Valid loss] ===> 0.6606196761131287\n",
      "[0/50] TRAIN 0.7322316765785217 VALID 0.611620306968689\n",
      "\n",
      "[tensor(0.5626), tensor(0.6606)]\n",
      "[Train loss] ===> 0.6046572923660278\n",
      "[Valid loss] ===> 0.5756691694259644\n",
      "[1/50] TRAIN 0.6404181122779846 VALID 0.5228632092475891\n",
      "\n",
      "[tensor(0.4701), tensor(0.5757)]\n",
      "[Train loss] ===> 0.5487728714942932\n",
      "[Valid loss] ===> 0.5137982964515686\n",
      "[2/50] TRAIN 0.5680764317512512 VALID 0.4564797282218933\n",
      "\n",
      "[tensor(0.3992), tensor(0.5138)]\n",
      "[Train loss] ===> 0.5140668153762817\n",
      "[Valid loss] ===> 0.46669802069664\n",
      "[3/50] TRAIN 0.5151667594909668 VALID 0.4111131429672241\n",
      "\n",
      "[tensor(0.3555), tensor(0.4667)]\n",
      "[Train loss] ===> 0.4881325364112854\n",
      "[Valid loss] ===> 0.42986124753952026\n",
      "[4/50] TRAIN 0.474158376455307 VALID 0.3785027861595154\n",
      "\n",
      "[tensor(0.3271), tensor(0.4299)]\n",
      "[Train loss] ===> 0.47157663106918335\n",
      "[Valid loss] ===> 0.4061465859413147\n",
      "[5/50] TRAIN 0.4405551850795746 VALID 0.355391263961792\n",
      "\n",
      "[tensor(0.3046), tensor(0.4061)]\n",
      "[Train loss] ===> 0.45676761865615845\n",
      "[Valid loss] ===> 0.3882567584514618\n",
      "[6/50] TRAIN 0.41436100006103516 VALID 0.33697760105133057\n",
      "\n",
      "[tensor(0.2857), tensor(0.3883)]\n",
      "[Train loss] ===> 0.4430813193321228\n",
      "[Valid loss] ===> 0.3738738000392914\n",
      "[7/50] TRAIN 0.3903336524963379 VALID 0.3228782117366791\n",
      "\n",
      "[tensor(0.2719), tensor(0.3739)]\n",
      "[Train loss] ===> 0.43120723962783813\n",
      "[Valid loss] ===> 0.35998207330703735\n",
      "[8/50] TRAIN 0.36698758602142334 VALID 0.310538113117218\n",
      "\n",
      "[tensor(0.2611), tensor(0.3600)]\n",
      "[Train loss] ===> 0.41820359230041504\n",
      "[Valid loss] ===> 0.3512633740901947\n",
      "[9/50] TRAIN 0.3444535434246063 VALID 0.30045291781425476\n",
      "\n",
      "[tensor(0.2496), tensor(0.3513)]\n",
      "[Train loss] ===> 0.4048920273780823\n",
      "[Valid loss] ===> 0.3443470895290375\n",
      "[10/50] TRAIN 0.32290613651275635 VALID 0.2913424074649811\n",
      "\n",
      "[tensor(0.2383), tensor(0.3443)]\n",
      "[Train loss] ===> 0.3916056752204895\n",
      "[Valid loss] ===> 0.33943992853164673\n",
      "[11/50] TRAIN 0.3018994927406311 VALID 0.2837081551551819\n",
      "\n",
      "[tensor(0.2280), tensor(0.3394)]\n",
      "[Train loss] ===> 0.3781830966472626\n",
      "[Valid loss] ===> 0.33508777618408203\n",
      "[12/50] TRAIN 0.2817949056625366 VALID 0.2767223119735718\n",
      "\n",
      "[tensor(0.2184), tensor(0.3351)]\n",
      "[Train loss] ===> 0.36601436138153076\n",
      "[Valid loss] ===> 0.3310721218585968\n",
      "[13/50] TRAIN 0.2632147967815399 VALID 0.2703419625759125\n",
      "\n",
      "[tensor(0.2096), tensor(0.3311)]\n",
      "[Train loss] ===> 0.3528454899787903\n",
      "[Valid loss] ===> 0.33000707626342773\n",
      "[14/50] TRAIN 0.24547109007835388 VALID 0.2654074430465698\n",
      "\n",
      "[tensor(0.2008), tensor(0.3300)]\n",
      "[Train loss] ===> 0.3406772017478943\n",
      "[Valid loss] ===> 0.3287762403488159\n",
      "[15/50] TRAIN 0.22931498289108276 VALID 0.260777086019516\n",
      "\n",
      "[tensor(0.1928), tensor(0.3288)]\n",
      "[Train loss] ===> 0.32859086990356445\n",
      "[Valid loss] ===> 0.3290349245071411\n",
      "[16/50] TRAIN 0.214213028550148 VALID 0.2570633292198181\n",
      "\n",
      "[tensor(0.1851), tensor(0.3290)]\n",
      "[Train loss] ===> 0.316649854183197\n",
      "[Valid loss] ===> 0.3304942548274994\n",
      "[17/50] TRAIN 0.20029328763484955 VALID 0.25422632694244385\n",
      "\n",
      "[tensor(0.1780), tensor(0.3305)]\n",
      "[Train loss] ===> 0.30540931224823\n",
      "[Valid loss] ===> 0.3323732316493988\n",
      "[18/50] TRAIN 0.1876264065504074 VALID 0.2519048750400543\n",
      "\n",
      "[tensor(0.1714), tensor(0.3324)]\n",
      "[Train loss] ===> 0.29472440481185913\n",
      "[Valid loss] ===> 0.3346655070781708\n",
      "[19/50] TRAIN 0.17606709897518158 VALID 0.2500464618206024\n",
      "\n",
      "[tensor(0.1654), tensor(0.3347)]\n",
      "[Train loss] ===> 0.28405874967575073\n",
      "[Valid loss] ===> 0.3383380174636841\n",
      "[20/50] TRAIN 0.1654403656721115 VALID 0.24901551008224487\n",
      "\n",
      "[tensor(0.1597), tensor(0.3383)]\n",
      "[Train loss] ===> 0.2740607261657715\n",
      "[Valid loss] ===> 0.3421756625175476\n",
      "[21/50] TRAIN 0.15588633716106415 VALID 0.24831821024417877\n",
      "\n",
      "[tensor(0.1545), tensor(0.3422)]\n",
      "[Train loss] ===> 0.26459747552871704\n",
      "[Valid loss] ===> 0.3464304804801941\n",
      "[22/50] TRAIN 0.14719533920288086 VALID 0.24803128838539124\n",
      "\n",
      "[tensor(0.1496), tensor(0.3464)]\n",
      "[Train loss] ===> 0.2554458975791931\n",
      "[Valid loss] ===> 0.3512999415397644\n",
      "[23/50] TRAIN 0.13926714658737183 VALID 0.24820613861083984\n",
      "\n",
      "[tensor(0.1451), tensor(0.3513)]\n",
      "[Train loss] ===> 0.24697068333625793\n",
      "[Valid loss] ===> 0.3559951186180115\n",
      "[24/50] TRAIN 0.1321268230676651 VALID 0.24850104749202728\n",
      "\n",
      "[tensor(0.1410), tensor(0.3560)]\n",
      "[Train loss] ===> 0.23884901404380798\n",
      "[Valid loss] ===> 0.3610706627368927\n",
      "[25/50] TRAIN 0.12556704878807068 VALID 0.2491227686405182\n",
      "\n",
      "[tensor(0.1372), tensor(0.3611)]\n",
      "[Train loss] ===> 0.2312903106212616\n",
      "[Valid loss] ===> 0.36618033051490784\n",
      "[26/50] TRAIN 0.11964789032936096 VALID 0.24990200996398926\n",
      "\n",
      "[tensor(0.1336), tensor(0.3662)]\n",
      "[Train loss] ===> 0.22385206818580627\n",
      "[Valid loss] ===> 0.3716620206832886\n",
      "[27/50] TRAIN 0.11418212205171585 VALID 0.2509578764438629\n",
      "\n",
      "[tensor(0.1303), tensor(0.3717)]\n",
      "[Train loss] ===> 0.21703509986400604\n",
      "[Valid loss] ===> 0.37684744596481323\n",
      "[28/50] TRAIN 0.10925130546092987 VALID 0.252003937959671\n",
      "\n",
      "[tensor(0.1272), tensor(0.3768)]\n",
      "[Train loss] ===> 0.21030518412590027\n",
      "[Valid loss] ===> 0.3825191259384155\n",
      "[29/50] TRAIN 0.10466410964727402 VALID 0.253351628780365\n",
      "\n",
      "[tensor(0.1242), tensor(0.3825)]\n",
      "[Train loss] ===> 0.2040977030992508\n",
      "[Valid loss] ===> 0.38781827688217163\n",
      "[30/50] TRAIN 0.10051453858613968 VALID 0.2546420097351074\n",
      "\n",
      "[tensor(0.1215), tensor(0.3878)]\n",
      "[Train loss] ===> 0.19808217883110046\n",
      "[Valid loss] ===> 0.39327552914619446\n",
      "[31/50] TRAIN 0.09665202349424362 VALID 0.2560774087905884\n",
      "\n",
      "[tensor(0.1189), tensor(0.3933)]\n",
      "[Train loss] ===> 0.19240958988666534\n",
      "[Valid loss] ===> 0.39862436056137085\n",
      "[32/50] TRAIN 0.09310872852802277 VALID 0.2575419247150421\n",
      "\n",
      "[tensor(0.1165), tensor(0.3986)]\n",
      "[Train loss] ===> 0.18689677119255066\n",
      "[Valid loss] ===> 0.4041329324245453\n",
      "[33/50] TRAIN 0.08981116116046906 VALID 0.25913748145103455\n",
      "\n",
      "[tensor(0.1141), tensor(0.4041)]\n",
      "[Train loss] ===> 0.1817876547574997\n",
      "[Valid loss] ===> 0.4093468189239502\n",
      "[34/50] TRAIN 0.08679559826850891 VALID 0.2606673240661621\n",
      "\n",
      "[tensor(0.1120), tensor(0.4093)]\n",
      "[Train loss] ===> 0.17678731679916382\n",
      "[Valid loss] ===> 0.414675772190094\n",
      "[35/50] TRAIN 0.08396445959806442 VALID 0.2622966468334198\n",
      "\n",
      "[tensor(0.1099), tensor(0.4147)]\n",
      "[Train loss] ===> 0.17206093668937683\n",
      "[Valid loss] ===> 0.4199681282043457\n",
      "[36/50] TRAIN 0.08134836703538895 VALID 0.2639590799808502\n",
      "\n",
      "[tensor(0.1080), tensor(0.4200)]\n",
      "[Train loss] ===> 0.16749761998653412\n",
      "[Valid loss] ===> 0.42516040802001953\n",
      "[37/50] TRAIN 0.07890529185533524 VALID 0.2656247317790985\n",
      "\n",
      "[tensor(0.1061), tensor(0.4252)]\n",
      "[Train loss] ===> 0.16317817568778992\n",
      "[Valid loss] ===> 0.43038663268089294\n",
      "[38/50] TRAIN 0.07663066685199738 VALID 0.26734185218811035\n",
      "\n",
      "[tensor(0.1043), tensor(0.4304)]\n",
      "[Train loss] ===> 0.15898047387599945\n",
      "[Valid loss] ===> 0.43554502725601196\n",
      "[39/50] TRAIN 0.07450229674577713 VALID 0.2690683603286743\n",
      "\n",
      "[tensor(0.1026), tensor(0.4355)]\n",
      "[Train loss] ===> 0.15500637888908386\n",
      "[Valid loss] ===> 0.4406386911869049\n",
      "[40/50] TRAIN 0.07251301407814026 VALID 0.2708010673522949\n",
      "\n",
      "[tensor(0.1010), tensor(0.4406)]\n",
      "[Train loss] ===> 0.15118220448493958\n",
      "[Valid loss] ===> 0.44560152292251587\n",
      "[41/50] TRAIN 0.07064847648143768 VALID 0.27250808477401733\n",
      "\n",
      "[tensor(0.0994), tensor(0.4456)]\n",
      "[Train loss] ===> 0.1475297063589096\n",
      "[Valid loss] ===> 0.45059090852737427\n",
      "[42/50] TRAIN 0.06889600306749344 VALID 0.27425286173820496\n",
      "\n",
      "[tensor(0.0979), tensor(0.4506)]\n",
      "[Train loss] ===> 0.14399924874305725\n",
      "[Valid loss] ===> 0.45547717809677124\n",
      "[43/50] TRAIN 0.0672503188252449 VALID 0.2759794592857361\n",
      "\n",
      "[tensor(0.0965), tensor(0.4555)]\n",
      "[Train loss] ===> 0.1406237781047821\n",
      "[Valid loss] ===> 0.4603094160556793\n",
      "[44/50] TRAIN 0.06569979339838028 VALID 0.27770668268203735\n",
      "\n",
      "[tensor(0.0951), tensor(0.4603)]\n",
      "[Train loss] ===> 0.13738973438739777\n",
      "[Valid loss] ===> 0.46507054567337036\n",
      "[45/50] TRAIN 0.06424077600240707 VALID 0.27942541241645813\n",
      "\n",
      "[tensor(0.0938), tensor(0.4651)]\n",
      "[Train loss] ===> 0.13426825404167175\n",
      "[Valid loss] ===> 0.4697487950325012\n",
      "[46/50] TRAIN 0.06286253780126572 VALID 0.28112930059432983\n",
      "\n",
      "[tensor(0.0925), tensor(0.4697)]\n",
      "[Train loss] ===> 0.13127532601356506\n",
      "[Valid loss] ===> 0.47446995973587036\n",
      "[47/50] TRAIN 0.061558689922094345 VALID 0.28286978602409363\n",
      "\n",
      "[tensor(0.0913), tensor(0.4745)]\n",
      "[Train loss] ===> 0.12835513055324554\n",
      "[Valid loss] ===> 0.47918978333473206\n",
      "[48/50] TRAIN 0.06032484769821167 VALID 0.28462737798690796\n",
      "\n",
      "[tensor(0.0901), tensor(0.4792)]\n",
      "[Train loss] ===> 0.12559621036052704\n",
      "[Valid loss] ===> 0.48367494344711304\n",
      "[49/50] TRAIN 0.0591641440987587 VALID 0.2863025665283203\n",
      "\n",
      "[tensor(0.0889), tensor(0.4837)]\n"
     ]
    }
   ],
   "source": [
    "### ===> 지정된 횟수만큼 처음부터 ~ 끝까지 학습 및 검증 진행\n",
    "### ===> 목표 : 최적 (Error 최소화)의 W, b를 가진 모델 완성\n",
    "### ===> \n",
    "\n",
    "from torch.optim.lr_scheduler import ReduceLROnPlateau\n",
    "\n",
    "# optimizer 초기화 및 모델과 연결\n",
    "optimizer = torch.optim.SGD(model.parameters(), lr=0.001, momentum=0.9)\n",
    "\n",
    "# ReduceROnPlateau 스케줄러 설정\n",
    "scheduler = ReduceLROnPlateau(optimizer, 'min', patience=10, verbose=True)\n",
    "\n",
    "\n",
    "# 학습 중간에 손실 값을 사용하여 스케줄러 업데이트\n",
    "for eps in range(EPOCHS):\n",
    "    # ======================= 학습 =======================\n",
    "    train_loss = training()\n",
    "    \n",
    "    # ======================= 검증 =======================\n",
    "    valid_loss = testing(validDL)\n",
    "    \n",
    "    print(f\"[{eps}/{EPOCHS}] TRAIN {sum(train_loss)/len(train_loss)} VALID {sum(valid_loss)/len(valid_loss)}\\n\")\n",
    "    \n",
    "    print(valid_loss)\n",
    "    # ======================= 학습 스케줄러 =======================\n",
    "    # 조기 종료 기능 ==> 조건 : val)loss가 지정된 횟수 (예 : 5) 이상 개선이 안되면 학습 종료\n",
    "    \n",
    "    # 학습률 조절 : ReduceLROnPlateau 스케줄러에 현재 검증 손실값 전달\n",
    "    scheduler.step(valid_loss[1])\n",
    "    \n",
    "    # 조기 종료 체크\n",
    "    # 여기서 num_bad_epohcs는 연속적으로 손실이 개선되지 않은 epoch의 수\n",
    "    if scheduler.num_bad_epochs > scheduler.patience:\n",
    "        print(f\"Early stopping at epoch {eps}\")\n",
    "        break\n",
    "    "
   ]
  },
  {
   "cell_type": "code",
   "execution_count": null,
   "id": "eb52a85e789c7134",
   "metadata": {
    "ExecuteTime": {
     "end_time": "2024-03-15T08:00:15.027412Z",
     "start_time": "2024-03-15T08:00:15.026361Z"
    },
    "collapsed": false
   },
   "outputs": [],
   "source": []
  },
  {
   "cell_type": "code",
   "execution_count": null,
   "id": "bbd07a1c2f29252c",
   "metadata": {
    "ExecuteTime": {
     "start_time": "2024-03-15T08:00:15.028409Z"
    },
    "collapsed": false
   },
   "outputs": [],
   "source": []
  },
  {
   "cell_type": "markdown",
   "id": "67e783de643fb197",
   "metadata": {
    "collapsed": false
   },
   "source": [
    "반장이 작성한 학습 스케줄러 코드"
   ]
  },
  {
   "cell_type": "code",
   "execution_count": 212,
   "id": "f153209bd1b5284a",
   "metadata": {
    "ExecuteTime": {
     "end_time": "2024-03-15T08:00:15.087555Z",
     "start_time": "2024-03-15T08:00:15.034588Z"
    },
    "collapsed": false
   },
   "outputs": [
    {
     "name": "stdout",
     "output_type": "stream",
     "text": [
      "[Train loss] ===> 0.8457673192024231\n"
     ]
    },
    {
     "ename": "TypeError",
     "evalue": "testing() missing 1 required positional argument: 'dataLoader'",
     "output_type": "error",
     "traceback": [
      "\u001b[1;31m---------------------------------------------------------------------------\u001b[0m",
      "\u001b[1;31mTypeError\u001b[0m                                 Traceback (most recent call last)",
      "Cell \u001b[1;32mIn[212], line 13\u001b[0m\n\u001b[0;32m     11\u001b[0m \u001b[38;5;28;01mfor\u001b[39;00m eps \u001b[38;5;129;01min\u001b[39;00m \u001b[38;5;28mrange\u001b[39m(EPOCHS): \u001b[38;5;66;03m# 50\u001b[39;00m\n\u001b[0;32m     12\u001b[0m     train_loss\u001b[38;5;241m=\u001b[39mtraining()\n\u001b[1;32m---> 13\u001b[0m     valid_loss\u001b[38;5;241m=\u001b[39m\u001b[43mtesting\u001b[49m\u001b[43m(\u001b[49m\u001b[43m)\u001b[49m\n\u001b[0;32m     14\u001b[0m     \u001b[38;5;28mprint\u001b[39m(\u001b[38;5;124mf\u001b[39m\u001b[38;5;124m'\u001b[39m\u001b[38;5;132;01m{\u001b[39;00meps\u001b[38;5;132;01m}\u001b[39;00m\u001b[38;5;124m번째 반복 ==> train_loss : \u001b[39m\u001b[38;5;132;01m{\u001b[39;00mtrain_loss\u001b[38;5;132;01m}\u001b[39;00m\u001b[38;5;124m, valid_loss : \u001b[39m\u001b[38;5;132;01m{\u001b[39;00mvalid_loss\u001b[38;5;132;01m}\u001b[39;00m\u001b[38;5;124m'\u001b[39m)\n\u001b[0;32m     16\u001b[0m     \u001b[38;5;66;03m# 학습률 조절 : ReduceLROnPlateau 스케줄러에 현재 검증 손실값 전달\u001b[39;00m\n",
      "\u001b[1;31mTypeError\u001b[0m: testing() missing 1 required positional argument: 'dataLoader'"
     ]
    }
   ],
   "source": [
    "from torch.optim.lr_scheduler import ReduceLROnPlateau\n",
    "\n",
    "# optimizer 초기화 및 모델과 연결\n",
    "optimizer = torch.optim.SGD(model.parameters(), lr=0.001, momentum=0.9)\n",
    "\n",
    "# ReduceROnPlateau 스케줄러 설정\n",
    "scheduler = ReduceLROnPlateau(optimizer, 'min', patience=10, verbose=True)\n",
    "\n",
    "\n",
    "# 학습 중간에 손실 값을 사용하여 스케줄러 업데이트\n",
    "for eps in range(EPOCHS): # 50\n",
    "    train_loss=training()\n",
    "    valid_loss=testing()\n",
    "    print(f'{eps}번째 반복 ==> train_loss : {train_loss}, valid_loss : {valid_loss}')\n",
    "    \n",
    "    # 학습률 조절 : ReduceLROnPlateau 스케줄러에 현재 검증 손실값 전달\n",
    "    scheduler.step(valid_loss)\n",
    "    \n",
    "    # 조기 종료 체크\n",
    "    # 여기서 num_bad_epohcs는 연속적으로 손실이 개선되지 않은 epoch의 수\n",
    "    if scheduler.num_bad_epochs > scheduler.patience:\n",
    "        print(f\"Early stopping at epoch {eps}\")\n",
    "        break"
   ]
  },
  {
   "cell_type": "code",
   "execution_count": null,
   "id": "28b81960e75c106d",
   "metadata": {
    "ExecuteTime": {
     "start_time": "2024-03-15T08:00:15.089625Z"
    },
    "collapsed": false
   },
   "outputs": [],
   "source": []
  },
  {
   "cell_type": "code",
   "execution_count": 212,
   "id": "db5c983350bd0aa8",
   "metadata": {
    "ExecuteTime": {
     "end_time": "2024-03-15T08:00:15.134377Z",
     "start_time": "2024-03-15T08:00:15.117662Z"
    },
    "collapsed": false
   },
   "outputs": [],
   "source": []
  },
  {
   "cell_type": "code",
   "execution_count": 212,
   "id": "76a30b762c732c",
   "metadata": {
    "ExecuteTime": {
     "end_time": "2024-03-15T08:00:15.211445Z",
     "start_time": "2024-03-15T08:00:15.198046Z"
    },
    "collapsed": false
   },
   "outputs": [],
   "source": []
  },
  {
   "cell_type": "code",
   "execution_count": 212,
   "id": "9a064cbf5ddfb372",
   "metadata": {
    "ExecuteTime": {
     "end_time": "2024-03-15T08:00:15.289363Z",
     "start_time": "2024-03-15T08:00:15.275729Z"
    },
    "collapsed": false
   },
   "outputs": [],
   "source": []
  },
  {
   "cell_type": "code",
   "execution_count": 212,
   "id": "d09a06d9f9c90688",
   "metadata": {
    "ExecuteTime": {
     "end_time": "2024-03-15T08:00:15.319846Z",
     "start_time": "2024-03-15T08:00:15.306184Z"
    },
    "collapsed": false
   },
   "outputs": [],
   "source": []
  },
  {
   "cell_type": "code",
   "execution_count": 212,
   "id": "1f8d0e4325474433",
   "metadata": {
    "ExecuteTime": {
     "end_time": "2024-03-15T08:00:15.351511Z",
     "start_time": "2024-03-15T08:00:15.344241Z"
    },
    "collapsed": false
   },
   "outputs": [],
   "source": []
  },
  {
   "cell_type": "code",
   "execution_count": 212,
   "id": "c1a05d956518b65d",
   "metadata": {
    "ExecuteTime": {
     "end_time": "2024-03-15T08:00:15.367212Z",
     "start_time": "2024-03-15T08:00:15.354627Z"
    },
    "collapsed": false
   },
   "outputs": [],
   "source": []
  },
  {
   "cell_type": "code",
   "execution_count": 212,
   "id": "5b1adb1955d122ca",
   "metadata": {
    "ExecuteTime": {
     "end_time": "2024-03-15T08:00:15.383099Z",
     "start_time": "2024-03-15T08:00:15.373663Z"
    },
    "collapsed": false
   },
   "outputs": [],
   "source": []
  },
  {
   "cell_type": "code",
   "execution_count": 212,
   "id": "dc1824af5f01b16a",
   "metadata": {
    "ExecuteTime": {
     "end_time": "2024-03-15T08:00:15.414498Z",
     "start_time": "2024-03-15T08:00:15.401891Z"
    },
    "collapsed": false
   },
   "outputs": [],
   "source": []
  },
  {
   "cell_type": "code",
   "execution_count": 212,
   "id": "217d0a23ba3de3af",
   "metadata": {
    "ExecuteTime": {
     "end_time": "2024-03-15T08:00:15.430225Z",
     "start_time": "2024-03-15T08:00:15.421771Z"
    },
    "collapsed": false
   },
   "outputs": [],
   "source": []
  },
  {
   "cell_type": "code",
   "execution_count": 212,
   "id": "352dbf3bd4924083",
   "metadata": {
    "ExecuteTime": {
     "end_time": "2024-03-15T08:00:15.445960Z",
     "start_time": "2024-03-15T08:00:15.438583Z"
    },
    "collapsed": false
   },
   "outputs": [],
   "source": []
  },
  {
   "cell_type": "code",
   "execution_count": 212,
   "id": "237be946eb496d16",
   "metadata": {
    "ExecuteTime": {
     "end_time": "2024-03-15T08:00:15.461165Z",
     "start_time": "2024-03-15T08:00:15.452198Z"
    },
    "collapsed": false
   },
   "outputs": [],
   "source": []
  },
  {
   "cell_type": "code",
   "execution_count": 212,
   "id": "faf8a1c43b995e3e",
   "metadata": {
    "ExecuteTime": {
     "end_time": "2024-03-15T08:00:15.476818Z",
     "start_time": "2024-03-15T08:00:15.470609Z"
    },
    "collapsed": false
   },
   "outputs": [],
   "source": []
  },
  {
   "cell_type": "code",
   "execution_count": 212,
   "id": "3418291a939163e3",
   "metadata": {
    "ExecuteTime": {
     "end_time": "2024-03-15T08:00:15.507832Z",
     "start_time": "2024-03-15T08:00:15.496835Z"
    },
    "collapsed": false
   },
   "outputs": [],
   "source": []
  },
  {
   "cell_type": "code",
   "execution_count": 213,
   "id": "6dc46d1ccf12efab",
   "metadata": {
    "ExecuteTime": {
     "end_time": "2024-03-15T08:00:15.523488Z",
     "start_time": "2024-03-15T08:00:15.514125Z"
    },
    "collapsed": false
   },
   "outputs": [
    {
     "name": "stdout",
     "output_type": "stream",
     "text": [
      "[0] feature torch.Size([10, 4])\n",
      "[1] feature torch.Size([10, 4])\n",
      "[2] feature torch.Size([10, 4])\n",
      "[3] feature torch.Size([10, 4])\n",
      "[4] feature torch.Size([10, 4])\n",
      "[5] feature torch.Size([10, 4])\n",
      "[6] feature torch.Size([10, 4])\n",
      "[7] feature torch.Size([10, 4])\n",
      "[8] feature torch.Size([10, 4])\n",
      "[9] feature torch.Size([10, 4])\n",
      "[10] feature torch.Size([5, 4])\n"
     ]
    }
   ],
   "source": [
    "# DataLoader 속성\n",
    "for _ , (feature, target) in enumerate(trainDL):\n",
    "    print(f\"[{_}] feature {feature.shape}\")\n",
    "    ## 로더에서 가지고온 데이터만큼 학습 진행 "
   ]
  },
  {
   "cell_type": "code",
   "execution_count": 213,
   "id": "fb56344c182ae607",
   "metadata": {
    "ExecuteTime": {
     "end_time": "2024-03-15T08:00:15.539004Z",
     "start_time": "2024-03-15T08:00:15.530786Z"
    },
    "collapsed": false
   },
   "outputs": [],
   "source": []
  }
 ],
 "metadata": {
  "kernelspec": {
   "display_name": "Python 3",
   "language": "python",
   "name": "python3"
  },
  "language_info": {
   "codemirror_mode": {
    "name": "ipython",
    "version": 2
   },
   "file_extension": ".py",
   "mimetype": "text/x-python",
   "name": "python",
   "nbconvert_exporter": "python",
   "pygments_lexer": "ipython2",
   "version": "2.7.6"
  }
 },
 "nbformat": 4,
 "nbformat_minor": 5
}
