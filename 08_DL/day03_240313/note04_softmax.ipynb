{
 "cells": [
  {
   "cell_type": "markdown",
   "metadata": {},
   "source": [
    "### 다중분류(Multi-Class Classification)\n",
    "---\n",
    "- 3 개 이상의 답 중 1개를 고르는 경우\n",
    "- 비용함수(Cost Function)  => Cross Entropy\n",
    "    * 이진 교차 엔트로피(Binary Cross Entropy)와 유사한 방식으로 계산"
   ]
  },
  {
   "cell_type": "code",
   "execution_count": 69,
   "metadata": {},
   "outputs": [],
   "source": [
    "# 모듈 로딩\n",
    "import torch\n",
    "import torch.nn.functional as F"
   ]
  },
  {
   "cell_type": "code",
   "execution_count": 70,
   "metadata": {},
   "outputs": [
    {
     "data": {
      "text/plain": [
       "<torch._C.Generator at 0x1d2d5e43990>"
      ]
     },
     "execution_count": 70,
     "metadata": {},
     "output_type": "execute_result"
    }
   ],
   "source": [
    "# 랜덤 시드 설정\n",
    "torch.manual_seed(1)"
   ]
  },
  {
   "cell_type": "code",
   "execution_count": 71,
   "metadata": {},
   "outputs": [
    {
     "name": "stdout",
     "output_type": "stream",
     "text": [
      "torch.Size([3]) 1차원 tensor([1., 2., 3.])\n"
     ]
    }
   ],
   "source": [
    "# 데이터 생성\n",
    "z = torch.FloatTensor([1, 2, 3])\n",
    "print(z.shape, f'{z.ndim}차원', z)"
   ]
  },
  {
   "cell_type": "code",
   "execution_count": 72,
   "metadata": {},
   "outputs": [
    {
     "name": "stdout",
     "output_type": "stream",
     "text": [
      "tensor([0.0900, 0.2447, 0.6652]) tensor(1.)\n"
     ]
    }
   ],
   "source": [
    "# 소프트맥스 함수 적용\n",
    "# F.softmax(텐서, dim=softmax를 수행할 차원)\n",
    "hypothesis = F.softmax(z, dim=0) # dim=0 : 소프트맥스를 계산할 차원을 지정(여기서는 0번째 차원을 기준 / 소프트맥스 계산 )\n",
    "print(hypothesis, hypothesis.sum()) # 소프트맥스 함수를 적용한 결과인 hypothesis와 그 합을 계산하여 출력\n",
    "\n",
    "\n",
    "# 소프트맥스 함수는 각 클래스에 대한 확률을 계산\n",
    "# 이 확률은 0부터 1 사이의 값으로 정규화되기 때문에 소프트맥스 함수를 적용한 결과의 모든 요소를 합하면 => 1"
   ]
  },
  {
   "cell_type": "code",
   "execution_count": 73,
   "metadata": {},
   "outputs": [
    {
     "name": "stdout",
     "output_type": "stream",
     "text": [
      "torch.Size([3, 5])\n",
      "2차원\n",
      "tensor([[0.7576, 0.2793, 0.4031, 0.7347, 0.0293],\n",
      "        [0.7999, 0.3971, 0.7544, 0.5695, 0.4388],\n",
      "        [0.6387, 0.5247, 0.6826, 0.3051, 0.4635]], requires_grad=True)\n"
     ]
    }
   ],
   "source": [
    "z2 = torch.rand(3, 5, requires_grad=True) # ( 무작위의 실수가 들어있는 3 X 5 행렬 )\n",
    "print(z2.shape, f'{z2.ndim}차원', z2, sep='\\n')"
   ]
  },
  {
   "cell_type": "markdown",
   "metadata": {},
   "source": [
    "torch.rand\n",
    "- 주어진 모양에 맞는 텐서를 만들고, 그 텐서의 각 요소에 대해 0과 1 사이의 무작위한 값을 할당\n",
    "- requires_grad = True : 기울기 계산. ( 텐서를 사용하여 역전파 과정을 수행 )"
   ]
  },
  {
   "cell_type": "code",
   "execution_count": 74,
   "metadata": {},
   "outputs": [
    {
     "name": "stdout",
     "output_type": "stream",
     "text": [
      "tensor([[0.2645, 0.1639, 0.1855, 0.2585, 0.1277],\n",
      "        [0.2430, 0.1624, 0.2322, 0.1930, 0.1694],\n",
      "        [0.2226, 0.1986, 0.2326, 0.1594, 0.1868]], grad_fn=<SoftmaxBackward0>) tensor(3.0000, grad_fn=<SumBackward0>)\n"
     ]
    }
   ],
   "source": [
    "# dim=1 ==> (3, 5)에서 5가지에 대한 값 \n",
    "\n",
    "hypothesis = F.softmax(z2, dim=1) # 예측 확률을 계산.  dim =1 이므로 1번째 차원을 기준으로 소프트맥스를 계산\n",
    "\n",
    "print(hypothesis, hypothesis.sum())\n",
    "#소프트맥스 함수를 적용한 결과인 hypothesis와 그 각각의 합을 계산하여 출력 (행별로 1 + 1 + 1)"
   ]
  },
  {
   "cell_type": "markdown",
   "metadata": {},
   "source": [
    "### One-Hot-Encoding\n",
    "- squeeze() / unsqueeze() 살펴보기"
   ]
  },
  {
   "cell_type": "code",
   "execution_count": 75,
   "metadata": {},
   "outputs": [
    {
     "data": {
      "text/plain": [
       "(tensor([1, 2, 1]),\n",
       " tensor([[1],\n",
       "         [2],\n",
       "         [1]]),\n",
       " torch.Size([3, 1]))"
      ]
     },
     "execution_count": 75,
     "metadata": {},
     "output_type": "execute_result"
    }
   ],
   "source": [
    "torch.manual_seed(3)\n",
    "\n",
    "y = torch.randint(0, 3, (3,))  # 0부터 3사이의 수 3개로 만들어진 1차원 데이터\n",
    "y2= y.unsqueeze(1) # 3X1 차원을 하나 늘려서 2차원 데이터로 만듦. \n",
    "y, y2, y2.shape"
   ]
  },
  {
   "cell_type": "markdown",
   "metadata": {},
   "source": [
    "scatter_(dim, index, src)\n",
    "- dim: 값을 할당할 차원을 지정합니다.\n",
    "- index: 값을 할당할 위치를 나타내는 인덱스입니다.\n",
    "- src: 할당할 값을 나타내는 텐서입니다.\n"
   ]
  },
  {
   "cell_type": "code",
   "execution_count": 76,
   "metadata": {},
   "outputs": [
    {
     "data": {
      "text/plain": [
       "tensor([[0., 1., 0., 0., 0.],\n",
       "        [0., 0., 1., 0., 0.],\n",
       "        [0., 1., 0., 0., 0.]])"
      ]
     },
     "execution_count": 76,
     "metadata": {},
     "output_type": "execute_result"
    }
   ],
   "source": [
    "# hypothesis와 사이즈가 같지만 0으로만 이뤄진 2차원 텐서 생성.\n",
    "# hypothesis = z2(3X5행렬 2차원 데이터)에 소프트맥스 함수를 적용한 것. 사이즈 : 3X5\n",
    "y_one_hot = torch.zeros_like(hypothesis) \n",
    "\n",
    "y_one_hot.scatter_(1, y2, 1)"
   ]
  },
  {
   "attachments": {
    "image.png": {
     "image/png": "[encoded data removed]"
    }
   },
   "cell_type": "markdown",
   "metadata": {},
   "source": [
    "![image.png](attachment:image.png)"
   ]
  },
  {
   "cell_type": "code",
   "execution_count": 77,
   "metadata": {},
   "outputs": [
    {
     "name": "stdout",
     "output_type": "stream",
     "text": [
      "tensor([[[[0.0043, 0.1056, 0.2858,  ..., 0.2706, 0.6352, 0.4888],\n",
      "          [0.4066, 0.5307, 0.9571,  ..., 0.0666, 0.4933, 0.0655],\n",
      "          [0.9539, 0.9048, 0.7793,  ..., 0.0467, 0.0032, 0.0945],\n",
      "          ...,\n",
      "          [0.2051, 0.5396, 0.8677,  ..., 0.7752, 0.6536, 0.3764],\n",
      "          [0.2447, 0.6102, 0.1683,  ..., 0.8106, 0.8207, 0.4446],\n",
      "          [0.3372, 0.0786, 0.3983,  ..., 0.1773, 0.6880, 0.9200]]]])\n",
      "torch.Size([1, 1, 20, 128]) 4\n"
     ]
    }
   ],
   "source": [
    "# 1차원 제거\n",
    "torch.manual_seed(3)\n",
    "x = torch.rand(1, 1, 20, 128) # (배치크기, 채널, 높이, 너비)\n",
    "print(x)\n",
    "print(x.shape, x.ndim) #차원 그래프 "
   ]
  },
  {
   "cell_type": "code",
   "execution_count": 78,
   "metadata": {},
   "outputs": [
    {
     "data": {
      "text/plain": [
       "(tensor([[[[0.0043, 0.1056, 0.2858,  ..., 0.2706, 0.6352, 0.4888],\n",
       "           [0.4066, 0.5307, 0.9571,  ..., 0.0666, 0.4933, 0.0655],\n",
       "           [0.9539, 0.9048, 0.7793,  ..., 0.0467, 0.0032, 0.0945],\n",
       "           ...,\n",
       "           [0.2051, 0.5396, 0.8677,  ..., 0.7752, 0.6536, 0.3764],\n",
       "           [0.2447, 0.6102, 0.1683,  ..., 0.8106, 0.8207, 0.4446],\n",
       "           [0.3372, 0.0786, 0.3983,  ..., 0.1773, 0.6880, 0.9200]]]]),\n",
       " tensor([[0.0043, 0.1056, 0.2858,  ..., 0.2706, 0.6352, 0.4888],\n",
       "         [0.4066, 0.5307, 0.9571,  ..., 0.0666, 0.4933, 0.0655],\n",
       "         [0.9539, 0.9048, 0.7793,  ..., 0.0467, 0.0032, 0.0945],\n",
       "         ...,\n",
       "         [0.2051, 0.5396, 0.8677,  ..., 0.7752, 0.6536, 0.3764],\n",
       "         [0.2447, 0.6102, 0.1683,  ..., 0.8106, 0.8207, 0.4446],\n",
       "         [0.3372, 0.0786, 0.3983,  ..., 0.1773, 0.6880, 0.9200]]),\n",
       " torch.Size([20, 128]),\n",
       " 2)"
      ]
     },
     "execution_count": 78,
     "metadata": {},
     "output_type": "execute_result"
    }
   ],
   "source": [
    "# 1차원 모두 제거\n",
    "x1 = x.squeeze() #[1, 1, 20, 128] -> [20, 128]\n",
    "x, x1, x1.shape, x1.ndim"
   ]
  },
  {
   "cell_type": "code",
   "execution_count": 79,
   "metadata": {},
   "outputs": [
    {
     "data": {
      "text/plain": [
       "(torch.Size([1, 20, 128]), 3)"
      ]
     },
     "execution_count": 79,
     "metadata": {},
     "output_type": "execute_result"
    }
   ],
   "source": [
    "x2 = x.squeeze(dim=0) #[1, 1, 20, 128] -> [1, 20, 128] 제일 바깥쪽에 있는 한 차원 없어짐.\n",
    "x2.shape, x2.ndim"
   ]
  },
  {
   "cell_type": "code",
   "execution_count": 80,
   "metadata": {},
   "outputs": [
    {
     "data": {
      "text/plain": [
       "(torch.Size([3, 20, 128]), 3)"
      ]
     },
     "execution_count": 80,
     "metadata": {},
     "output_type": "execute_result"
    }
   ],
   "source": [
    "xx = torch.rand(3,20,128)\n",
    "xx.shape, xx.ndim"
   ]
  },
  {
   "cell_type": "code",
   "execution_count": 81,
   "metadata": {},
   "outputs": [
    {
     "data": {
      "text/plain": [
       "(torch.Size([3, 20, 128]), 3)"
      ]
     },
     "execution_count": 81,
     "metadata": {},
     "output_type": "execute_result"
    }
   ],
   "source": [
    "xx1 = xx.unsqueeze(dim=1) # (3, \"1\", 20, 128) 한 차원 추가됨.\n",
    "xx.shape, xx.ndim"
   ]
  },
  {
   "cell_type": "code",
   "execution_count": 82,
   "metadata": {},
   "outputs": [
    {
     "data": {
      "text/plain": [
       "torch.Size([1, 3, 20, 128])"
      ]
     },
     "execution_count": 82,
     "metadata": {},
     "output_type": "execute_result"
    }
   ],
   "source": [
    "xx2 = xx.unsqueeze(dim=0) #[3, 20, 128] -> [\"1\", 3, 20, 128] # 제일 바깥쪽에 차원 한 개 더 생성.\n",
    "xx2.shape"
   ]
  },
  {
   "cell_type": "code",
   "execution_count": 83,
   "metadata": {},
   "outputs": [
    {
     "data": {
      "text/plain": [
       "(tensor([1, 3, 2]), torch.Size([3]))"
      ]
     },
     "execution_count": 83,
     "metadata": {},
     "output_type": "execute_result"
    }
   ],
   "source": [
    "# 임의의 라벨 데이터 생성\n",
    "torch.manual_seed(3)\n",
    "y = torch.randint(5, (3,)).long() #long = int64\n",
    "y, y.shape #  0부터 4까지의 정수 중에서 랜덤으로 선택된 수로 길이가 3인 정수형 텐서를 생성 후, 그 데이터 타입을 64비트 정수로 지정\n"
   ]
  },
  {
   "cell_type": "code",
   "execution_count": 84,
   "metadata": {},
   "outputs": [
    {
     "data": {
      "text/plain": [
       "tensor([[1],\n",
       "        [3],\n",
       "        [2]])"
      ]
     },
     "execution_count": 84,
     "metadata": {},
     "output_type": "execute_result"
    }
   ],
   "source": [
    "y.unsqueeze(1) # 차원 늘리기(default값은 0)"
   ]
  },
  {
   "cell_type": "code",
   "execution_count": 85,
   "metadata": {},
   "outputs": [
    {
     "data": {
      "text/plain": [
       "tensor([[0., 0., 0., 0., 0.],\n",
       "        [0., 0., 0., 0., 0.],\n",
       "        [0., 0., 0., 0., 0.]])"
      ]
     },
     "execution_count": 85,
     "metadata": {},
     "output_type": "execute_result"
    }
   ],
   "source": [
    "# 모든 원소가 0의 값을 가진 3 × 5 텐서 생성\n",
    "y_one_hot = torch.zeros_like(hypothesis) \n",
    "\n",
    "y_one_hot"
   ]
  },
  {
   "cell_type": "code",
   "execution_count": 86,
   "metadata": {},
   "outputs": [
    {
     "data": {
      "text/plain": [
       "tensor([[0., 1., 0., 0., 0.],\n",
       "        [0., 0., 0., 1., 0.],\n",
       "        [0., 0., 1., 0., 0.]])"
      ]
     },
     "execution_count": 86,
     "metadata": {},
     "output_type": "execute_result"
    }
   ],
   "source": [
    "#dim=axis, index, src, reduce=None\n",
    "y_one_hot.scatter_(1, y.unsqueeze(1), 1)"
   ]
  },
  {
   "cell_type": "markdown",
   "metadata": {},
   "source": [
    "## nn.Module 활용 구현"
   ]
  },
  {
   "cell_type": "code",
   "execution_count": 87,
   "metadata": {},
   "outputs": [],
   "source": [
    "import torch\n",
    "import torch.nn as nn\n",
    "import torch.nn.functional as F\n",
    "import torch.optim as optim"
   ]
  },
  {
   "cell_type": "code",
   "execution_count": 88,
   "metadata": {},
   "outputs": [
    {
     "data": {
      "text/plain": [
       "<torch._C.Generator at 0x1d2d5e43990>"
      ]
     },
     "execution_count": 88,
     "metadata": {},
     "output_type": "execute_result"
    }
   ],
   "source": [
    "torch.manual_seed(1)"
   ]
  },
  {
   "cell_type": "code",
   "execution_count": 89,
   "metadata": {},
   "outputs": [],
   "source": [
    "# 데이터 준비 ------------------------------\n",
    "x_train = [[1, 2, 1, 1],\n",
    "           [2, 1, 3, 2],\n",
    "           [3, 1, 3, 4],\n",
    "           [4, 1, 5, 5],\n",
    "           [1, 7, 5, 5],\n",
    "           [1, 2, 5, 6],\n",
    "           [1, 6, 6, 6],\n",
    "           [1, 7, 7, 7]]\n",
    "y_train = [1, 1, 1, 0, 0, 0, 1, 1]\n",
    "x_train = torch.FloatTensor(x_train) # 2차원 리스트를 실수 텐서로 변경.\n",
    "y_train = torch.LongTensor(y_train) # 1차원 리스트를 int64 텐서로 변경."
   ]
  },
  {
   "cell_type": "code",
   "execution_count": 90,
   "metadata": {},
   "outputs": [
    {
     "name": "stdout",
     "output_type": "stream",
     "text": [
      "torch.Size([8, 4]) torch.Size([8])\n"
     ]
    }
   ],
   "source": [
    "print(x_train.shape,  y_train.shape)"
   ]
  },
  {
   "cell_type": "code",
   "execution_count": 101,
   "metadata": {},
   "outputs": [
    {
     "name": "stdout",
     "output_type": "stream",
     "text": [
      "tensor([[0., 0.],\n",
      "        [0., 0.],\n",
      "        [0., 0.],\n",
      "        [0., 0.],\n",
      "        [0., 0.],\n",
      "        [0., 0.],\n",
      "        [0., 0.],\n",
      "        [0., 0.]])\n",
      "tensor([[1],\n",
      "        [1],\n",
      "        [1],\n",
      "        [0],\n",
      "        [0],\n",
      "        [0],\n",
      "        [1],\n",
      "        [1]])\n",
      "torch.Size([8, 1])\n",
      "tensor(1)\n"
     ]
    }
   ],
   "source": [
    "# One-Hot-Encoding 라벨\n",
    "\n",
    "y_one_hot = torch.zeros(8, 2)\n",
    "print(y_one_hot)\n",
    "print(y_train.unsqueeze(1)) # 2차원으로 만들기\n",
    "print(y_train.unsqueeze(1).shape) #8X1\n",
    "# print(y_train.unsqueeze(1)[0][0])"
   ]
  },
  {
   "cell_type": "code",
   "execution_count": 92,
   "metadata": {},
   "outputs": [
    {
     "name": "stdout",
     "output_type": "stream",
     "text": [
      "torch.Size([8, 2])\n",
      "tensor([[0., 1.],\n",
      "        [0., 1.],\n",
      "        [0., 1.],\n",
      "        [1., 0.],\n",
      "        [1., 0.],\n",
      "        [1., 0.],\n",
      "        [0., 1.],\n",
      "        [0., 1.]])\n"
     ]
    }
   ],
   "source": [
    "y_one_hot.scatter_(1, y_train.unsqueeze(1), 1)\n",
    "print(y_one_hot.shape, y_one_hot, sep='\\n')"
   ]
  },
  {
   "cell_type": "code",
   "execution_count": 102,
   "metadata": {},
   "outputs": [],
   "source": [
    "# 모델 설계 및 초기화\n",
    "# 4개의 특성을 가지고 3개의 클래스로 분류 input = 4 / output = 3\n",
    "model = nn.Linear(4, 3)\n",
    "\n",
    "# 4개의 특성을 가지고 2개의 클래스로 분류 input = 4 / output = 2\n",
    "model = nn.Linear(4, 2)"
   ]
  },
  {
   "cell_type": "code",
   "execution_count": 105,
   "metadata": {},
   "outputs": [],
   "source": [
    "# optimizer 설정\n",
    "optimizer = optim.SGD(model.parameters(), lr=0.1) \n",
    "\n",
    "# 확률적 경사 하강법(Stochastic Gradient Descent, SGD) 옵티마이저를 설정. \n",
    "# model.parameters(): 모델의 학습 가능한 모든 파라미터를 반환하는 메서드(모델의 가중치와 편향 등 포함)\n",
    "# 학습률 0.1"
   ]
  },
  {
   "cell_type": "code",
   "execution_count": 107,
   "metadata": {},
   "outputs": [
    {
     "name": "stdout",
     "output_type": "stream",
     "text": [
      "Epoch    0/1000 Cost: 0.810025\n",
      "Epoch  100/1000 Cost: 0.810142\n",
      "Epoch  200/1000 Cost: 0.810247\n",
      "Epoch  300/1000 Cost: 0.810344\n",
      "Epoch  400/1000 Cost: 0.810431\n",
      "Epoch  500/1000 Cost: 0.810510\n",
      "Epoch  600/1000 Cost: 0.810582\n",
      "Epoch  700/1000 Cost: 0.810648\n",
      "Epoch  800/1000 Cost: 0.810708\n",
      "Epoch  900/1000 Cost: 0.810762\n",
      "Epoch 1000/1000 Cost: 0.810811\n"
     ]
    }
   ],
   "source": [
    "# 학습 -----------------------------------------------\n",
    "nb_epochs = 1000\n",
    "for epoch in range(nb_epochs + 1):\n",
    "\n",
    "    # 예측값 H(x) 계산\n",
    "    prediction = model(x_train)\n",
    "\n",
    "    # 훈련용 데이터의 오차를 계산하기 위한 손실함수 cost 계산 --> 분류기 때문에 cross_entropy사용. \n",
    "    cost = F.cross_entropy(prediction, y_train)\n",
    "\n",
    "    # cost로 H(x) 개선\n",
    "    optimizer.zero_grad() # 기울기 초기화.\n",
    "    cost.backward() # 역전파 : 손실 함수를 미분하여 모델의 파라미터에 대한 그래디언트를 계산\n",
    "    optimizer.step() # 옵티마이저에 지정된 학습률(lr=0.1)에 따라 모델의 파라미터를 업데이트\n",
    "\n",
    "    # 100번마다 로그 출력\n",
    "    if epoch % 100 == 0:\n",
    "        print(f'Epoch {epoch:4d}/{nb_epochs} Cost: {cost.item():.6f}')\n",
    "        #print(cost) ==> tensor(0.9154, grad_fn=<NllLossBackward0>) 이런 식으로 나와서 item으로 값만 꺼내옴.\n",
    "        # 에포크 : 현재 학습횟수(백단위)/전체 학습횟수 cost : 손실함수 값."
   ]
  },
  {
   "cell_type": "code",
   "execution_count": null,
   "metadata": {},
   "outputs": [],
   "source": []
  }
 ],
 "metadata": {
  "kernelspec": {
   "display_name": "Torch_py38",
   "language": "python",
   "name": "python3"
  },
  "language_info": {
   "codemirror_mode": {
    "name": "ipython",
    "version": 3
   },
   "file_extension": ".py",
   "mimetype": "text/x-python",
   "name": "python",
   "nbconvert_exporter": "python",
   "pygments_lexer": "ipython3",
   "version": "3.8.18"
  }
 },
 "nbformat": 4,
 "nbformat_minor": 2
}
