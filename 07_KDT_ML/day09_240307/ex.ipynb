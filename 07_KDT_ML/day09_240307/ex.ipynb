{
 "cells": [
  {
   "cell_type": "markdown",
   "metadata": {},
   "source": [
    "앙상블 <hr>\n",
    "\n",
    "배깅 : \n",
    "- 중복 허용 : 샘플링하는 방식, 학습 데이터 부족 해결.\n",
    "- => 중복 샘플링 다른 데이터와 동일 알고리즘의 여러 모델 병렬 학습.\n",
    "- (모델은 같은 모델) ex -엑스트라 트리"
   ]
  },
  {
   "cell_type": "markdown",
   "metadata": {},
   "source": []
  },
  {
   "cell_type": "markdown",
   "metadata": {},
   "source": [
    "랜덤 포레스트<hr>\n",
    "- 중복 허용한 훈련데이터 랜덤하게 추출 => 랜덤 샘플링.\n",
    "    - 중복 허용 샘플링. 부트스트랩 샘플\n",
    "- 전체 특성에서 무작위 특성 추출\n",
    "    - 불순도 최소가 되는 특성 선택\n",
    "    - 분류 : 선택 특성수 = 전체 특성 개수의 제곱근(특성 줄임)\n",
    "    - 회귀 : 선택 특성 수 = 전체 특성 수\n",
    "- 분류 : 각 트리의 클래스별 확률 평균 후 가장 높은 확률 가진 클래스 선정."
   ]
  },
  {
   "cell_type": "markdown",
   "metadata": {},
   "source": [
    "oob_score = out of bag\n",
    "- -> 기본 false. \n",
    "- "
   ]
  },
  {
   "cell_type": "markdown",
   "metadata": {},
   "source": [
    "ex_"
   ]
  }
 ],
 "metadata": {
  "kernelspec": {
   "display_name": "EXAM_ML",
   "language": "python",
   "name": "python3"
  },
  "language_info": {
   "name": "python",
   "version": "3.9.18"
  }
 },
 "nbformat": 4,
 "nbformat_minor": 2
}
