{
 "cells": [
  {
   "cell_type": "markdown",
   "id": "5c9e8ea0-0f47-4bf4-8576-d76d2ceecb15",
   "metadata": {},
   "source": [
    "## [결측치 缺測値 Missing Value 처리 ]\n",
    "- 데이터 미입력 또는 데이터 저장 과정에서 지워진 데이터.\n",
    "- 빈칸 의미\n",
    "- 표기 : NaN(Not A Number), NaT(Not A Text)\n",
    "- numpy 모듈의 nan, math모듈의 nan 쓰기."
   ]
  },
  {
   "cell_type": "markdown",
   "id": "0f56b330-553d-49a7-9326-b492b092a735",
   "metadata": {},
   "source": [
    "(1) 모듈 로딩 <hr>"
   ]
  },
  {
   "cell_type": "code",
   "execution_count": 12,
   "id": "9d3ccbcf-f13e-45ad-8921-fe8b56903bf5",
   "metadata": {},
   "outputs": [],
   "source": [
    "import pandas as pd"
   ]
  },
  {
   "cell_type": "markdown",
   "id": "038c48fc-d7c8-4475-a2c4-baeddbad39d2",
   "metadata": {},
   "source": [
    "(2) 데이터 준비<hr>"
   ]
  },
  {
   "cell_type": "code",
   "execution_count": 13,
   "id": "fd724b58-bd71-4d82-984b-596e7f93fd10",
   "metadata": {},
   "outputs": [],
   "source": [
    "file = '../DATA/employees.csv'"
   ]
  },
  {
   "cell_type": "markdown",
   "id": "0d60b8f3-2320-47a8-986c-7c6e60e17ec4",
   "metadata": {},
   "source": [
    "(3) 데이터 저장 : CSV -> DF <hr>"
   ]
  },
  {
   "cell_type": "markdown",
   "id": "3f079694-32e1-4360-8a51-3b682d420e78",
   "metadata": {},
   "source": [
    "데이터 파일 확인하기. \n",
    "- 가장 먼저 맨 첫 줄이 열 이름이 맞는지 확인!\n",
    "- 열 중에서 행인덱스로 변환할 만한 것이 있는지 확인!\n",
    "- 구분자 확인(예- 쉼표, 세미콜론)"
   ]
  },
  {
   "cell_type": "code",
   "execution_count": 14,
   "id": "fb975d91-6b33-40bb-a00b-a24bc680b413",
   "metadata": {},
   "outputs": [],
   "source": [
    "# 구분자  : ,           헤더 : 첫번째 줄 컬럼명.\n",
    "empDF = pd.read_csv(file)"
   ]
  },
  {
   "cell_type": "markdown",
   "id": "242d3546-d66a-4b42-be5b-02788c8bf959",
   "metadata": {},
   "source": [
    "(4) 데이터 확인"
   ]
  },
  {
   "cell_type": "code",
   "execution_count": 15,
   "id": "b0d947a3-18dd-4cc7-afdb-75cdd4f40b7a",
   "metadata": {},
   "outputs": [
    {
     "name": "stdout",
     "output_type": "stream",
     "text": [
      "<class 'pandas.core.frame.DataFrame'>\n",
      "RangeIndex: 1001 entries, 0 to 1000\n",
      "Data columns (total 6 columns):\n",
      " #   Column      Non-Null Count  Dtype  \n",
      "---  ------      --------------  -----  \n",
      " 0   First Name  933 non-null    object \n",
      " 1   Gender      854 non-null    object \n",
      " 2   Start Date  999 non-null    object \n",
      " 3   Salary      999 non-null    float64\n",
      " 4   Mgmt        933 non-null    object \n",
      " 5   Team        957 non-null    object \n",
      "dtypes: float64(1), object(5)\n",
      "memory usage: 47.0+ KB\n"
     ]
    }
   ],
   "source": [
    "# 데이터의 전반적인 요약정보 확인 => info() 메서드\n",
    "# 컬럼별 결측치 여부 확인 => 실제 데이터에서 결측치 체크 & 처리\n",
    "# 컬럼별 데이터 타입과 실제 데이터 타입 비교 ==> 타입 다른 경우, 타입 전환.\n",
    "empDF.info()"
   ]
  },
  {
   "cell_type": "markdown",
   "id": "e2abf1af-0184-441b-a9da-de1cfae33738",
   "metadata": {},
   "source": [
    "- 데이터의 컬럼별 분포 확인 => describe() : 컬럼별 기술 통계값 확인 가능"
   ]
  },
  {
   "cell_type": "code",
   "execution_count": 16,
   "id": "e1727d92-ed26-47bc-82b0-e271a809590f",
   "metadata": {},
   "outputs": [
    {
     "data": {
      "text/html": [
       "<div>\n",
       "<style scoped>\n",
       "    .dataframe tbody tr th:only-of-type {\n",
       "        vertical-align: middle;\n",
       "    }\n",
       "\n",
       "    .dataframe tbody tr th {\n",
       "        vertical-align: top;\n",
       "    }\n",
       "\n",
       "    .dataframe thead th {\n",
       "        text-align: right;\n",
       "    }\n",
       "</style>\n",
       "<table border=\"1\" class=\"dataframe\">\n",
       "  <thead>\n",
       "    <tr style=\"text-align: right;\">\n",
       "      <th></th>\n",
       "      <th>Salary</th>\n",
       "    </tr>\n",
       "  </thead>\n",
       "  <tbody>\n",
       "    <tr>\n",
       "      <th>count</th>\n",
       "      <td>999.000000</td>\n",
       "    </tr>\n",
       "    <tr>\n",
       "      <th>mean</th>\n",
       "      <td>90655.528529</td>\n",
       "    </tr>\n",
       "    <tr>\n",
       "      <th>std</th>\n",
       "      <td>32939.511615</td>\n",
       "    </tr>\n",
       "    <tr>\n",
       "      <th>min</th>\n",
       "      <td>35013.000000</td>\n",
       "    </tr>\n",
       "    <tr>\n",
       "      <th>25%</th>\n",
       "      <td>62560.000000</td>\n",
       "    </tr>\n",
       "    <tr>\n",
       "      <th>50%</th>\n",
       "      <td>90427.000000</td>\n",
       "    </tr>\n",
       "    <tr>\n",
       "      <th>75%</th>\n",
       "      <td>118744.500000</td>\n",
       "    </tr>\n",
       "    <tr>\n",
       "      <th>max</th>\n",
       "      <td>149908.000000</td>\n",
       "    </tr>\n",
       "  </tbody>\n",
       "</table>\n",
       "</div>"
      ],
      "text/plain": [
       "              Salary\n",
       "count     999.000000\n",
       "mean    90655.528529\n",
       "std     32939.511615\n",
       "min     35013.000000\n",
       "25%     62560.000000\n",
       "50%     90427.000000\n",
       "75%    118744.500000\n",
       "max    149908.000000"
      ]
     },
     "execution_count": 16,
     "metadata": {},
     "output_type": "execute_result"
    }
   ],
   "source": [
    "empDF.describe() #수치 데이터만 계산"
   ]
  },
  {
   "cell_type": "code",
   "execution_count": 22,
   "id": "2369756e-7747-410c-85b9-3a52fce4721f",
   "metadata": {},
   "outputs": [
    {
     "name": "stdout",
     "output_type": "stream",
     "text": [
      "     Salary\n",
      "0   86676.0\n",
      "1   91462.0\n",
      "2  121160.0\n",
      "3  145988.0\n",
      "4  147183.0\n",
      "\n",
      "Salary    90427.0\n",
      "dtype: float64\n",
      "\n",
      "Salary    90655.528529\n",
      "dtype: float64\n"
     ]
    }
   ],
   "source": [
    "# 최빈값 => mode(), 중앙값 => median(), 평균 => mean() # 괄호 안에 numeric_only를 넣어서 수치데이터만 빼와서 실행.\n",
    "print(empDF.mode(numeric_only=True),\n",
    "      empDF.median(numeric_only=True), \n",
    "      empDF.mean(numeric_only=True), sep = '\\n\\n')"
   ]
  },
  {
   "cell_type": "code",
   "execution_count": 25,
   "id": "d7a644cf-cb5f-4fd1-8cf0-5b9bb635476b",
   "metadata": {},
   "outputs": [],
   "source": [
    "# 데이터 타입을 보고 어떻게 처리할 건지 생각!\n",
    "# 사전처리 --> 데이터처리 / 데이터 변환 (단위 표준화/자료형 표준화)\n",
    "# 데이터 크기 --> 정규화."
   ]
  },
  {
   "cell_type": "markdown",
   "id": "c69bb534-53c1-40fc-9a75-85469b0dd1fb",
   "metadata": {},
   "source": [
    "(5) 데이터 전처리(Preprocessing) => 가. 결측치 처리"
   ]
  },
  {
   "cell_type": "markdown",
   "id": "9448e4e9-fca7-4371-a4bd-595a8639b69f",
   "metadata": {},
   "source": [
    "- 결측치 확인 ==> isna(), isnull() : 원소 단위로 검사 후 결측치인 경우 True 반환"
   ]
  },
  {
   "cell_type": "code",
   "execution_count": 26,
   "id": "7be80905-a536-47a1-b40d-555f4794b452",
   "metadata": {},
   "outputs": [
    {
     "data": {
      "text/plain": [
       "Index(['First Name', 'Gender', 'Start Date', 'Salary', 'Mgmt', 'Team'], dtype='object')"
      ]
     },
     "execution_count": 26,
     "metadata": {},
     "output_type": "execute_result"
    }
   ],
   "source": [
    "empDF.columns"
   ]
  },
  {
   "cell_type": "code",
   "execution_count": 29,
   "id": "85cf081d-bc16-40d2-a1d5-0efb42ce6a7c",
   "metadata": {},
   "outputs": [
    {
     "name": "stdout",
     "output_type": "stream",
     "text": [
      "   First Name  Gender  Start Date  Salary   Mgmt   Team\n",
      "0       False   False       False    True  False  False\n",
      "1       False   False       False   False  False   True\n",
      "2       False   False        True   False  False  False\n",
      "3       False    True       False   False  False  False\n",
      "4       False   False       False   False  False  False\n",
      "\n",
      "   First Name  Gender  Start Date  Salary   Mgmt   Team\n",
      "0       False   False       False    True  False  False\n",
      "1       False   False       False   False  False   True\n",
      "2       False   False        True   False  False  False\n",
      "3       False    True       False   False  False  False\n",
      "4       False   False       False   False  False  False\n"
     ]
    }
   ],
   "source": [
    "# 전체 데이터의 컬럼별 결측치 체크\n",
    "print(empDF.isna().head(), empDF.isnull().head(), sep = '\\n\\n')"
   ]
  },
  {
   "cell_type": "code",
   "execution_count": 35,
   "id": "1f2f0d32-2099-4036-bc6e-1b72b4122f69",
   "metadata": {},
   "outputs": [
    {
     "name": "stdout",
     "output_type": "stream",
     "text": [
      "First Name     68\n",
      "Gender        147\n",
      "Start Date      2\n",
      "Salary          2\n",
      "Mgmt           68\n",
      "Team           44\n",
      "dtype: int64\n",
      "\n",
      "First Name     68\n",
      "Gender        147\n",
      "Start Date      2\n",
      "Salary          2\n",
      "Mgmt           68\n",
      "Team           44\n",
      "dtype: int64\n"
     ]
    }
   ],
   "source": [
    "# 전체 데이터의 컬럼별 결측치 체크 후 개수 파악 => 합계\n",
    "print(empDF.isna().sum(), empDF.isnull().sum(), sep ='\\n\\n')  # null 데이터 개수를 구할 수 있음."
   ]
  },
  {
   "cell_type": "markdown",
   "id": "63ed0468-ae8d-45a9-9e24-9474c431752c",
   "metadata": {},
   "source": [
    "- 결측치 확인 ==> notna() / notnull() : 결측치가 아니면 True 반환."
   ]
  },
  {
   "cell_type": "code",
   "execution_count": 36,
   "id": "0a5c4480-0232-4b85-9a8f-9f224a3c08d8",
   "metadata": {},
   "outputs": [
    {
     "name": "stdout",
     "output_type": "stream",
     "text": [
      "   First Name  Gender  Start Date  Salary  Mgmt   Team\n",
      "0        True    True        True   False  True   True\n",
      "1        True    True        True    True  True  False\n",
      "2        True    True       False    True  True   True\n",
      "3        True   False        True    True  True   True\n",
      "4        True    True        True    True  True   True\n",
      "\n",
      "   First Name  Gender  Start Date  Salary  Mgmt   Team\n",
      "0        True    True        True   False  True   True\n",
      "1        True    True        True    True  True  False\n",
      "2        True    True       False    True  True   True\n",
      "3        True   False        True    True  True   True\n",
      "4        True    True        True    True  True   True\n"
     ]
    }
   ],
   "source": [
    "print(empDF.notna().head(), empDF.notnull().head(), sep='\\n\\n') # 정상데이터 개수를 구할 수 있음."
   ]
  },
  {
   "cell_type": "markdown",
   "id": "b8d36fb0-0150-41b6-9313-ad0610673101",
   "metadata": {},
   "source": [
    "- 결측치 처리 ==> (1) 삭제 : dropna() "
   ]
  },
  {
   "cell_type": "code",
   "execution_count": 38,
   "id": "20914d37-7842-49f5-8f19-2fda98218903",
   "metadata": {},
   "outputs": [
    {
     "data": {
      "text/html": [
       "<div>\n",
       "<style scoped>\n",
       "    .dataframe tbody tr th:only-of-type {\n",
       "        vertical-align: middle;\n",
       "    }\n",
       "\n",
       "    .dataframe tbody tr th {\n",
       "        vertical-align: top;\n",
       "    }\n",
       "\n",
       "    .dataframe thead th {\n",
       "        text-align: right;\n",
       "    }\n",
       "</style>\n",
       "<table border=\"1\" class=\"dataframe\">\n",
       "  <thead>\n",
       "    <tr style=\"text-align: right;\">\n",
       "      <th></th>\n",
       "      <th>First Name</th>\n",
       "      <th>Gender</th>\n",
       "      <th>Start Date</th>\n",
       "      <th>Salary</th>\n",
       "      <th>Mgmt</th>\n",
       "      <th>Team</th>\n",
       "    </tr>\n",
       "  </thead>\n",
       "  <tbody>\n",
       "    <tr>\n",
       "      <th>4</th>\n",
       "      <td>Larry</td>\n",
       "      <td>Male</td>\n",
       "      <td>1/24/98</td>\n",
       "      <td>101004.0</td>\n",
       "      <td>True</td>\n",
       "      <td>IT</td>\n",
       "    </tr>\n",
       "    <tr>\n",
       "      <th>5</th>\n",
       "      <td>Dennis</td>\n",
       "      <td>Male</td>\n",
       "      <td>4/18/87</td>\n",
       "      <td>115163.0</td>\n",
       "      <td>False</td>\n",
       "      <td>Legal</td>\n",
       "    </tr>\n",
       "    <tr>\n",
       "      <th>6</th>\n",
       "      <td>Ruby</td>\n",
       "      <td>Female</td>\n",
       "      <td>8/17/87</td>\n",
       "      <td>65476.0</td>\n",
       "      <td>True</td>\n",
       "      <td>Product</td>\n",
       "    </tr>\n",
       "    <tr>\n",
       "      <th>8</th>\n",
       "      <td>Angela</td>\n",
       "      <td>Female</td>\n",
       "      <td>11/22/05</td>\n",
       "      <td>95570.0</td>\n",
       "      <td>True</td>\n",
       "      <td>Engineering</td>\n",
       "    </tr>\n",
       "    <tr>\n",
       "      <th>9</th>\n",
       "      <td>Frances</td>\n",
       "      <td>Female</td>\n",
       "      <td>8/8/02</td>\n",
       "      <td>139852.0</td>\n",
       "      <td>True</td>\n",
       "      <td>Business Dev</td>\n",
       "    </tr>\n",
       "    <tr>\n",
       "      <th>...</th>\n",
       "      <td>...</td>\n",
       "      <td>...</td>\n",
       "      <td>...</td>\n",
       "      <td>...</td>\n",
       "      <td>...</td>\n",
       "      <td>...</td>\n",
       "    </tr>\n",
       "    <tr>\n",
       "      <th>994</th>\n",
       "      <td>George</td>\n",
       "      <td>Male</td>\n",
       "      <td>6/21/13</td>\n",
       "      <td>98874.0</td>\n",
       "      <td>True</td>\n",
       "      <td>Marketing</td>\n",
       "    </tr>\n",
       "    <tr>\n",
       "      <th>996</th>\n",
       "      <td>Phillip</td>\n",
       "      <td>Male</td>\n",
       "      <td>1/31/84</td>\n",
       "      <td>42392.0</td>\n",
       "      <td>False</td>\n",
       "      <td>Finance</td>\n",
       "    </tr>\n",
       "    <tr>\n",
       "      <th>997</th>\n",
       "      <td>Russell</td>\n",
       "      <td>Male</td>\n",
       "      <td>5/20/13</td>\n",
       "      <td>96914.0</td>\n",
       "      <td>False</td>\n",
       "      <td>Product</td>\n",
       "    </tr>\n",
       "    <tr>\n",
       "      <th>998</th>\n",
       "      <td>Larry</td>\n",
       "      <td>Male</td>\n",
       "      <td>4/20/13</td>\n",
       "      <td>60500.0</td>\n",
       "      <td>False</td>\n",
       "      <td>Business Dev</td>\n",
       "    </tr>\n",
       "    <tr>\n",
       "      <th>999</th>\n",
       "      <td>Albert</td>\n",
       "      <td>Male</td>\n",
       "      <td>5/15/12</td>\n",
       "      <td>129949.0</td>\n",
       "      <td>True</td>\n",
       "      <td>Sales</td>\n",
       "    </tr>\n",
       "  </tbody>\n",
       "</table>\n",
       "<p>761 rows × 6 columns</p>\n",
       "</div>"
      ],
      "text/plain": [
       "    First Name  Gender Start Date    Salary   Mgmt          Team\n",
       "4        Larry    Male    1/24/98  101004.0   True            IT\n",
       "5       Dennis    Male    4/18/87  115163.0  False         Legal\n",
       "6         Ruby  Female    8/17/87   65476.0   True       Product\n",
       "8       Angela  Female   11/22/05   95570.0   True   Engineering\n",
       "9      Frances  Female     8/8/02  139852.0   True  Business Dev\n",
       "..         ...     ...        ...       ...    ...           ...\n",
       "994     George    Male    6/21/13   98874.0   True     Marketing\n",
       "996    Phillip    Male    1/31/84   42392.0  False       Finance\n",
       "997    Russell    Male    5/20/13   96914.0  False       Product\n",
       "998      Larry    Male    4/20/13   60500.0  False  Business Dev\n",
       "999     Albert    Male    5/15/12  129949.0   True         Sales\n",
       "\n",
       "[761 rows x 6 columns]"
      ]
     },
     "execution_count": 38,
     "metadata": {},
     "output_type": "execute_result"
    }
   ],
   "source": [
    "# [기본] 행 안에 NaN이 1개만 있어도 해당 행을 삭제.\n",
    "empDF2 = empDF.dropna()\n",
    "empDF2"
   ]
  },
  {
   "cell_type": "code",
   "execution_count": 41,
   "id": "a607b0b1-ecac-43ba-bc39-bf032e5bda50",
   "metadata": {},
   "outputs": [
    {
     "name": "stdout",
     "output_type": "stream",
     "text": [
      "(1001, 6) (761, 6)\n"
     ]
    }
   ],
   "source": [
    "print(empDF.shape, empDF2.shape)"
   ]
  },
  {
   "cell_type": "code",
   "execution_count": 43,
   "id": "f3c22b30-d8b6-4bfa-81b4-3d6295b9374f",
   "metadata": {},
   "outputs": [
    {
     "name": "stdout",
     "output_type": "stream",
     "text": [
      "(1001, 6) (1000, 6)\n"
     ]
    }
   ],
   "source": [
    "## [설정] 행 안의 모든 데이터 즉 값이 NA면 삭제.\n",
    "empDF3 = empDF.dropna(how = 'all')\n",
    "print(empDF.shape, empDF3.shape)"
   ]
  },
  {
   "cell_type": "code",
   "execution_count": 50,
   "id": "e834bdbf-e742-4817-a6c1-975f46e12a9c",
   "metadata": {},
   "outputs": [
    {
     "name": "stdout",
     "output_type": "stream",
     "text": [
      "(1001, 6) (853, 6)\n"
     ]
    }
   ],
   "source": [
    "## [설정] 특정 열의 NA만 체크 후 삭제.\n",
    "#예) 성별에 따른 연봉 분석 -> NA면 분석 불가능 컬럼을 지정.\n",
    "empDF4 = empDF.dropna(subset=['Gender', 'Salary']) #성별/연봉 항목의 값이 NA일 경우 데이터 삭제.\n",
    "print(empDF.shape, empDF4.shape)"
   ]
  },
  {
   "cell_type": "code",
   "execution_count": 51,
   "id": "e9c1d947-9517-4048-84a7-e5b2af82424d",
   "metadata": {},
   "outputs": [
    {
     "name": "stdout",
     "output_type": "stream",
     "text": [
      "(1001, 6) (1001, 3) Index(['First Name', 'Gender', 'Start Date', 'Salary', 'Mgmt', 'Team'], dtype='object')\n"
     ]
    }
   ],
   "source": [
    "## [설정] 컬럼별 정상 데이터 즉 NA가 아닌 데이터의 개수를 지정 후 해당 수만큼 정상 데이터가 없는 컬럼 삭제.\n",
    "empDF5 = empDF.dropna(thresh=950, axis = 'columns') #thresh = n 정상 데이터(NA가 아닌 데이터)가 n개 이하일 때 데이터를 삭제. (정수/선택적 사용 / how와 같이 쓸 수 없음.)\n",
    "print(empDF.shape, empDF5.shape, empDF.columns)\n"
   ]
  },
  {
   "cell_type": "markdown",
   "id": "0f6a0803-5283-405f-81ed-b614472466f8",
   "metadata": {},
   "source": [
    "- 결측치 처리 => 대체 :fillna()"
   ]
  },
  {
   "cell_type": "code",
   "execution_count": 53,
   "id": "de286a1a-83f9-424c-974a-bf7abc4f32e9",
   "metadata": {},
   "outputs": [
    {
     "data": {
      "text/html": [
       "<div>\n",
       "<style scoped>\n",
       "    .dataframe tbody tr th:only-of-type {\n",
       "        vertical-align: middle;\n",
       "    }\n",
       "\n",
       "    .dataframe tbody tr th {\n",
       "        vertical-align: top;\n",
       "    }\n",
       "\n",
       "    .dataframe thead th {\n",
       "        text-align: right;\n",
       "    }\n",
       "</style>\n",
       "<table border=\"1\" class=\"dataframe\">\n",
       "  <thead>\n",
       "    <tr style=\"text-align: right;\">\n",
       "      <th></th>\n",
       "      <th>First Name</th>\n",
       "      <th>Gender</th>\n",
       "      <th>Start Date</th>\n",
       "      <th>Salary</th>\n",
       "      <th>Mgmt</th>\n",
       "      <th>Team</th>\n",
       "    </tr>\n",
       "  </thead>\n",
       "  <tbody>\n",
       "    <tr>\n",
       "      <th>count</th>\n",
       "      <td>933</td>\n",
       "      <td>854</td>\n",
       "      <td>999</td>\n",
       "      <td>999.0</td>\n",
       "      <td>933</td>\n",
       "      <td>957</td>\n",
       "    </tr>\n",
       "    <tr>\n",
       "      <th>unique</th>\n",
       "      <td>200</td>\n",
       "      <td>2</td>\n",
       "      <td>971</td>\n",
       "      <td>NaN</td>\n",
       "      <td>2</td>\n",
       "      <td>10</td>\n",
       "    </tr>\n",
       "    <tr>\n",
       "      <th>top</th>\n",
       "      <td>Marilyn</td>\n",
       "      <td>Female</td>\n",
       "      <td>10/30/04</td>\n",
       "      <td>NaN</td>\n",
       "      <td>True</td>\n",
       "      <td>IT</td>\n",
       "    </tr>\n",
       "  </tbody>\n",
       "</table>\n",
       "</div>"
      ],
      "text/plain": [
       "       First Name  Gender Start Date  Salary  Mgmt Team\n",
       "count         933     854        999   999.0   933  957\n",
       "unique        200       2        971     NaN     2   10\n",
       "top       Marilyn  Female   10/30/04     NaN  True   IT"
      ]
     },
     "execution_count": 53,
     "metadata": {},
     "output_type": "execute_result"
    }
   ],
   "source": [
    "# Gender 컬럼에 결측값을 무엇으로 채울 것인가\n",
    "empDF.describe(include = 'all').head(3)"
   ]
  },
  {
   "cell_type": "code",
   "execution_count": 55,
   "id": "f47909d7-0df6-4174-bd95-290f7d3caf17",
   "metadata": {},
   "outputs": [
    {
     "data": {
      "text/plain": [
       "'Female'"
      ]
     },
     "execution_count": 55,
     "metadata": {},
     "output_type": "execute_result"
    }
   ],
   "source": [
    "# 컬럼의 최빈값으로 na 채우기.(Na에 컬럼의 최빈값 넣기)\n",
    "empDF.Gender.mode()[0]"
   ]
  },
  {
   "cell_type": "code",
   "execution_count": 57,
   "id": "2655b7bc-dc72-4a99-b47b-b5a50c55507a",
   "metadata": {},
   "outputs": [],
   "source": [
    "genSR = empDF.Gender.fillna(empDF.Gender.mode()[0])"
   ]
  },
  {
   "cell_type": "code",
   "execution_count": 58,
   "id": "a2288aa4-7f67-41c5-8e82-0abde27a1925",
   "metadata": {},
   "outputs": [
    {
     "data": {
      "text/plain": [
       "0"
      ]
     },
     "execution_count": 58,
     "metadata": {},
     "output_type": "execute_result"
    }
   ],
   "source": [
    "genSR.isna().sum()"
   ]
  },
  {
   "cell_type": "code",
   "execution_count": 61,
   "id": "7e1fe17f-4c92-4ef8-b73d-2a3245cc4fb3",
   "metadata": {},
   "outputs": [
    {
     "data": {
      "text/plain": [
       "0         Male\n",
       "1         Male\n",
       "2       Female\n",
       "3       Female\n",
       "4         Male\n",
       "         ...  \n",
       "996       Male\n",
       "997       Male\n",
       "998       Male\n",
       "999       Male\n",
       "1000      Male\n",
       "Name: Gender, Length: 1001, dtype: object"
      ]
     },
     "execution_count": 61,
     "metadata": {},
     "output_type": "execute_result"
    }
   ],
   "source": [
    "# NA 값 이전과 NA 값 이후 값으로 체우기. -> method = 'ffill' <=> 'bfill'\n",
    "empDF.Gender.fillna(method = 'ffill')"
   ]
  },
  {
   "cell_type": "code",
   "execution_count": 64,
   "id": "a9bf7712-e94c-4b70-b1a3-4d573aaa9df7",
   "metadata": {},
   "outputs": [
    {
     "data": {
      "text/html": [
       "<div>\n",
       "<style scoped>\n",
       "    .dataframe tbody tr th:only-of-type {\n",
       "        vertical-align: middle;\n",
       "    }\n",
       "\n",
       "    .dataframe tbody tr th {\n",
       "        vertical-align: top;\n",
       "    }\n",
       "\n",
       "    .dataframe thead th {\n",
       "        text-align: right;\n",
       "    }\n",
       "</style>\n",
       "<table border=\"1\" class=\"dataframe\">\n",
       "  <thead>\n",
       "    <tr style=\"text-align: right;\">\n",
       "      <th></th>\n",
       "      <th>A</th>\n",
       "      <th>B</th>\n",
       "      <th>C</th>\n",
       "      <th>D</th>\n",
       "    </tr>\n",
       "  </thead>\n",
       "  <tbody>\n",
       "    <tr>\n",
       "      <th>0</th>\n",
       "      <td>NaN</td>\n",
       "      <td>2.0</td>\n",
       "      <td>NaN</td>\n",
       "      <td>0.0</td>\n",
       "    </tr>\n",
       "    <tr>\n",
       "      <th>1</th>\n",
       "      <td>3.0</td>\n",
       "      <td>4.0</td>\n",
       "      <td>NaN</td>\n",
       "      <td>1.0</td>\n",
       "    </tr>\n",
       "    <tr>\n",
       "      <th>2</th>\n",
       "      <td>NaN</td>\n",
       "      <td>NaN</td>\n",
       "      <td>NaN</td>\n",
       "      <td>NaN</td>\n",
       "    </tr>\n",
       "    <tr>\n",
       "      <th>3</th>\n",
       "      <td>NaN</td>\n",
       "      <td>3.0</td>\n",
       "      <td>NaN</td>\n",
       "      <td>4.0</td>\n",
       "    </tr>\n",
       "  </tbody>\n",
       "</table>\n",
       "</div>"
      ],
      "text/plain": [
       "     A    B   C    D\n",
       "0  NaN  2.0 NaN  0.0\n",
       "1  3.0  4.0 NaN  1.0\n",
       "2  NaN  NaN NaN  NaN\n",
       "3  NaN  3.0 NaN  4.0"
      ]
     },
     "execution_count": 64,
     "metadata": {},
     "output_type": "execute_result"
    }
   ],
   "source": [
    "import numpy as np\n",
    "df = pd.DataFrame([[np.nan, 2, np.nan, 0],\n",
    "                    [3, 4, np.nan, 1],\n",
    "                    [np.nan, np.nan, np.nan, np.nan],\n",
    "                    [np.nan, 3, np.nan, 4]],\n",
    "                   columns=list(\"ABCD\")) #하나씩 언패킹해서 들어감.\n",
    "df"
   ]
  },
  {
   "cell_type": "code",
   "execution_count": 68,
   "id": "9550cd0a-fe58-4e96-8961-ba3ae70ce688",
   "metadata": {},
   "outputs": [
    {
     "data": {
      "text/plain": [
       "0    NaN\n",
       "1    3.0\n",
       "2    3.0\n",
       "3    3.0\n",
       "Name: A, dtype: float64"
      ]
     },
     "execution_count": 68,
     "metadata": {},
     "output_type": "execute_result"
    }
   ],
   "source": [
    "df.A.fillna(method='ffill') # NaN 이전 값을 NaN 값에 넣음."
   ]
  },
  {
   "cell_type": "code",
   "execution_count": 69,
   "id": "cdec59ad-8124-424e-94c5-d008ae8b9da4",
   "metadata": {},
   "outputs": [
    {
     "data": {
      "text/plain": [
       "0    NaN\n",
       "1    3.0\n",
       "2    3.0\n",
       "3    NaN\n",
       "Name: A, dtype: float64"
      ]
     },
     "execution_count": 69,
     "metadata": {},
     "output_type": "execute_result"
    }
   ],
   "source": [
    "df.A.fillna(method='ffill', limit = 1) #limit = n : n만큼 채움.(남는 요소가 발생할 수 있음.)"
   ]
  },
  {
   "cell_type": "code",
   "execution_count": 72,
   "id": "9fcbb759-3c9d-4a94-9f06-40fbd850b9e8",
   "metadata": {},
   "outputs": [
    {
     "data": {
      "text/html": [
       "<div>\n",
       "<style scoped>\n",
       "    .dataframe tbody tr th:only-of-type {\n",
       "        vertical-align: middle;\n",
       "    }\n",
       "\n",
       "    .dataframe tbody tr th {\n",
       "        vertical-align: top;\n",
       "    }\n",
       "\n",
       "    .dataframe thead th {\n",
       "        text-align: right;\n",
       "    }\n",
       "</style>\n",
       "<table border=\"1\" class=\"dataframe\">\n",
       "  <thead>\n",
       "    <tr style=\"text-align: right;\">\n",
       "      <th></th>\n",
       "      <th>A</th>\n",
       "      <th>B</th>\n",
       "      <th>C</th>\n",
       "      <th>D</th>\n",
       "    </tr>\n",
       "  </thead>\n",
       "  <tbody>\n",
       "    <tr>\n",
       "      <th>0</th>\n",
       "      <td>0.0</td>\n",
       "      <td>2.0</td>\n",
       "      <td>0.0</td>\n",
       "      <td>0.0</td>\n",
       "    </tr>\n",
       "    <tr>\n",
       "      <th>1</th>\n",
       "      <td>3.0</td>\n",
       "      <td>4.0</td>\n",
       "      <td>0.0</td>\n",
       "      <td>1.0</td>\n",
       "    </tr>\n",
       "    <tr>\n",
       "      <th>2</th>\n",
       "      <td>0.0</td>\n",
       "      <td>0.0</td>\n",
       "      <td>0.0</td>\n",
       "      <td>NaN</td>\n",
       "    </tr>\n",
       "    <tr>\n",
       "      <th>3</th>\n",
       "      <td>0.0</td>\n",
       "      <td>3.0</td>\n",
       "      <td>0.0</td>\n",
       "      <td>4.0</td>\n",
       "    </tr>\n",
       "  </tbody>\n",
       "</table>\n",
       "</div>"
      ],
      "text/plain": [
       "     A    B    C    D\n",
       "0  0.0  2.0  0.0  0.0\n",
       "1  3.0  4.0  0.0  1.0\n",
       "2  0.0  0.0  0.0  NaN\n",
       "3  0.0  3.0  0.0  4.0"
      ]
     },
     "execution_count": 72,
     "metadata": {},
     "output_type": "execute_result"
    }
   ],
   "source": [
    "df2 = pd.DataFrame(np.zeros((4, 4)), columns=list(\"ABCE\"))\n",
    "df.fillna(df2) \n",
    "# E와 열 이름이 일치하지 않아서 인덱스가 달라졌고 D열에는 NaN 값이 채워지지 않았다."
   ]
  },
  {
   "cell_type": "code",
   "execution_count": 73,
   "id": "19940165-db87-4216-bc72-ef88192a6f30",
   "metadata": {},
   "outputs": [
    {
     "data": {
      "text/plain": [
       "0    2.0\n",
       "1    4.0\n",
       "2    3.0\n",
       "3    3.0\n",
       "Name: B, dtype: float64"
      ]
     },
     "execution_count": 73,
     "metadata": {},
     "output_type": "execute_result"
    }
   ],
   "source": [
    "# B컬럼과 D 컬럼의 평균으로 결측치 대체.\n",
    "df.B.fillna(df.B.mean())"
   ]
  },
  {
   "cell_type": "code",
   "execution_count": 74,
   "id": "a0d46b25-edf1-4365-a433-94599807e15e",
   "metadata": {},
   "outputs": [
    {
     "data": {
      "text/plain": [
       "0    0.000000\n",
       "1    1.000000\n",
       "2    1.666667\n",
       "3    4.000000\n",
       "Name: D, dtype: float64"
      ]
     },
     "execution_count": 74,
     "metadata": {},
     "output_type": "execute_result"
    }
   ],
   "source": [
    "df.D.fillna(df.D.mean())"
   ]
  },
  {
   "cell_type": "code",
   "execution_count": null,
   "id": "348a0a5d-aafc-45a7-8824-1b5edf0c5a80",
   "metadata": {},
   "outputs": [],
   "source": []
  }
 ],
 "metadata": {
  "kernelspec": {
   "display_name": "Python 3 (ipykernel)",
   "language": "python",
   "name": "python3"
  },
  "language_info": {
   "codemirror_mode": {
    "name": "ipython",
    "version": 3
   },
   "file_extension": ".py",
   "mimetype": "text/x-python",
   "name": "python",
   "nbconvert_exporter": "python",
   "pygments_lexer": "ipython3",
   "version": "3.8.18"
  }
 },
 "nbformat": 4,
 "nbformat_minor": 5
}
