{
 "cells": [
  {
   "cell_type": "markdown",
   "id": "8f79ff3a-939e-46d7-81b0-fdecaa4c1507",
   "metadata": {},
   "source": [
    "# 5.6 코딩 챌린지 "
   ]
  },
  {
   "cell_type": "markdown",
   "id": "75922a04-33b6-4d1b-8d68-b979f7308f96",
   "metadata": {},
   "source": [
    "[자료] :\n",
    "- 동영상 스트리밍 서비스 넷플릭스에서 2019년 11월에 제공한 약 6천개의 콘텐츠 정보를 담은 데이터 셋.\n",
    "- 콘텐츠 제목/감독/등록날짜/ 콘텐츠 유행 및 카테고리를 나타내는 4개의 열 존재.\n",
    "- 결측값 有"
   ]
  },
  {
   "cell_type": "markdown",
   "id": "0a3a4f13-8e0e-484b-b8ff-ac046aa67fa4",
   "metadata": {},
   "source": [
    "1. 제한된 메모리 사용량과 사용성을 최대화하기 위해 데이터셋을 최적화하세요.\n",
    "2. 제목이 'limitless'인 모든 콘텐츠를 찾으세요.\n",
    "3. 'Robert Rodriguez' 감독이 제작하고 유형이 'Movie'인 모든 콘텐츠를 찾으세요.\n",
    "4. 등록된 날짜가 '2019-07-31'이거나 감독이 'Robert Altman'인 모든 콘텐츠를 찾으세요.\n",
    "5. 감독이 'Orson Welles', 'Aditya Kripalani' 또는 'Sam Raimi'인 모든 콘텐츠를 찾으세요.\n",
    "6. 2019년 5월 1일과 2019년 6월 1일 사이에 등록된 모든 콘텐츠를 찾으세요.\n",
    "7. director 열에서 NaN 값이 있는 모든 행을 삭제하세요.\n",
    "8. 넷플릭스가 콘텐츠를 단 하나만 등록한 날짜를 식별하세요."
   ]
  },
  {
   "cell_type": "markdown",
   "id": "e9b83a91-6099-4c68-9847-7973467991ab",
   "metadata": {},
   "source": [
    "(1) 모듈로딩<hr>"
   ]
  },
  {
   "cell_type": "code",
   "execution_count": 123,
   "id": "a1ad41be-165b-4949-9253-0f52d2d092ae",
   "metadata": {},
   "outputs": [],
   "source": [
    "import pandas as pd"
   ]
  },
  {
   "cell_type": "markdown",
   "id": "3b1aba28-0d88-4581-a572-9bfa063a1583",
   "metadata": {},
   "source": [
    "(2) 데이터 준비 <hr>"
   ]
  },
  {
   "cell_type": "code",
   "execution_count": 124,
   "id": "0945e54f-9cac-4519-8393-aa6ac3ae4d3c",
   "metadata": {},
   "outputs": [],
   "source": [
    "file = '../DATA/netflix.csv'"
   ]
  },
  {
   "cell_type": "markdown",
   "id": "0c2254d1-3958-4e5e-9ccb-0ffb68dda686",
   "metadata": {},
   "source": [
    "(3) 데이터 저장 <hr>"
   ]
  },
  {
   "cell_type": "code",
   "execution_count": 125,
   "id": "699d9e3f-24fe-4265-b12e-e803d3ef2383",
   "metadata": {},
   "outputs": [],
   "source": [
    "netDF=pd.read_csv(file)"
   ]
  },
  {
   "cell_type": "code",
   "execution_count": 126,
   "id": "8ce80d43-06b4-43d1-a4c1-4692326bdbeb",
   "metadata": {},
   "outputs": [
    {
     "data": {
      "text/html": [
       "<div>\n",
       "<style scoped>\n",
       "    .dataframe tbody tr th:only-of-type {\n",
       "        vertical-align: middle;\n",
       "    }\n",
       "\n",
       "    .dataframe tbody tr th {\n",
       "        vertical-align: top;\n",
       "    }\n",
       "\n",
       "    .dataframe thead th {\n",
       "        text-align: right;\n",
       "    }\n",
       "</style>\n",
       "<table border=\"1\" class=\"dataframe\">\n",
       "  <thead>\n",
       "    <tr style=\"text-align: right;\">\n",
       "      <th></th>\n",
       "      <th>title</th>\n",
       "      <th>director</th>\n",
       "      <th>date_added</th>\n",
       "      <th>type</th>\n",
       "    </tr>\n",
       "  </thead>\n",
       "  <tbody>\n",
       "    <tr>\n",
       "      <th>0</th>\n",
       "      <td>Alias Grace</td>\n",
       "      <td>NaN</td>\n",
       "      <td>3-Nov-17</td>\n",
       "      <td>TV Show</td>\n",
       "    </tr>\n",
       "    <tr>\n",
       "      <th>1</th>\n",
       "      <td>A Patch of Fog</td>\n",
       "      <td>Michael Lennox</td>\n",
       "      <td>15-Apr-17</td>\n",
       "      <td>Movie</td>\n",
       "    </tr>\n",
       "    <tr>\n",
       "      <th>2</th>\n",
       "      <td>Lunatics</td>\n",
       "      <td>NaN</td>\n",
       "      <td>19-Apr-19</td>\n",
       "      <td>TV Show</td>\n",
       "    </tr>\n",
       "    <tr>\n",
       "      <th>3</th>\n",
       "      <td>Uriyadi 2</td>\n",
       "      <td>Vijay Kumar</td>\n",
       "      <td>2-Aug-19</td>\n",
       "      <td>Movie</td>\n",
       "    </tr>\n",
       "    <tr>\n",
       "      <th>4</th>\n",
       "      <td>Shrek the Musical</td>\n",
       "      <td>Jason Moore</td>\n",
       "      <td>29-Dec-13</td>\n",
       "      <td>Movie</td>\n",
       "    </tr>\n",
       "    <tr>\n",
       "      <th>...</th>\n",
       "      <td>...</td>\n",
       "      <td>...</td>\n",
       "      <td>...</td>\n",
       "      <td>...</td>\n",
       "    </tr>\n",
       "    <tr>\n",
       "      <th>5832</th>\n",
       "      <td>The Pursuit</td>\n",
       "      <td>John Papola</td>\n",
       "      <td>7-Aug-19</td>\n",
       "      <td>Movie</td>\n",
       "    </tr>\n",
       "    <tr>\n",
       "      <th>5833</th>\n",
       "      <td>Hurricane Bianca</td>\n",
       "      <td>Matt Kugelman</td>\n",
       "      <td>1-Jan-17</td>\n",
       "      <td>Movie</td>\n",
       "    </tr>\n",
       "    <tr>\n",
       "      <th>5834</th>\n",
       "      <td>Amar's Hands</td>\n",
       "      <td>Khaled Youssef</td>\n",
       "      <td>26-Apr-19</td>\n",
       "      <td>Movie</td>\n",
       "    </tr>\n",
       "    <tr>\n",
       "      <th>5835</th>\n",
       "      <td>Bill Nye: Science Guy</td>\n",
       "      <td>Jason Sussberg</td>\n",
       "      <td>25-Apr-18</td>\n",
       "      <td>Movie</td>\n",
       "    </tr>\n",
       "    <tr>\n",
       "      <th>5836</th>\n",
       "      <td>Age of Glory</td>\n",
       "      <td>NaN</td>\n",
       "      <td>NaN</td>\n",
       "      <td>TV Show</td>\n",
       "    </tr>\n",
       "  </tbody>\n",
       "</table>\n",
       "<p>5837 rows × 4 columns</p>\n",
       "</div>"
      ],
      "text/plain": [
       "                      title        director date_added     type\n",
       "0               Alias Grace             NaN   3-Nov-17  TV Show\n",
       "1            A Patch of Fog  Michael Lennox  15-Apr-17    Movie\n",
       "2                  Lunatics             NaN  19-Apr-19  TV Show\n",
       "3                 Uriyadi 2     Vijay Kumar   2-Aug-19    Movie\n",
       "4         Shrek the Musical     Jason Moore  29-Dec-13    Movie\n",
       "...                     ...             ...        ...      ...\n",
       "5832            The Pursuit     John Papola   7-Aug-19    Movie\n",
       "5833       Hurricane Bianca   Matt Kugelman   1-Jan-17    Movie\n",
       "5834           Amar's Hands  Khaled Youssef  26-Apr-19    Movie\n",
       "5835  Bill Nye: Science Guy  Jason Sussberg  25-Apr-18    Movie\n",
       "5836           Age of Glory             NaN        NaN  TV Show\n",
       "\n",
       "[5837 rows x 4 columns]"
      ]
     },
     "execution_count": 126,
     "metadata": {},
     "output_type": "execute_result"
    }
   ],
   "source": [
    "netDF"
   ]
  },
  {
   "cell_type": "markdown",
   "id": "f27f15fb-749d-4d7a-9d49-9b0b4b118ee1",
   "metadata": {},
   "source": [
    "1. 제한된 메모리 사용량과 사용성을 최대화하기 위해 데이터셋을 최적화하세요."
   ]
  },
  {
   "cell_type": "code",
   "execution_count": 127,
   "id": "0d22d779-1347-44f9-ad15-f510efe6770c",
   "metadata": {},
   "outputs": [
    {
     "name": "stderr",
     "output_type": "stream",
     "text": [
      "C:\\Users\\KDP-024\\AppData\\Local\\Temp\\ipykernel_1396\\2553845270.py:1: UserWarning: Could not infer format, so each element will be parsed individually, falling back to `dateutil`. To ensure parsing is consistent and as-expected, please specify a format.\n",
      "  netDF=pd.read_csv(file, parse_dates=['date_added']) #날짜를 YYYY-MM-DD 형식으로 변환!\n"
     ]
    }
   ],
   "source": [
    "netDF=pd.read_csv(file, parse_dates=['date_added']) #날짜를 YYYY-MM-DD 형식으로 변환!"
   ]
  },
  {
   "cell_type": "markdown",
   "id": "1cfca688-9d74-4c5c-8cb2-ca6dde5658dc",
   "metadata": {},
   "source": [
    "(4) 데이터 확인 <hr>"
   ]
  },
  {
   "cell_type": "code",
   "execution_count": 128,
   "id": "ed61ea25-2503-4b08-8fa4-a8ac232d953a",
   "metadata": {},
   "outputs": [
    {
     "name": "stdout",
     "output_type": "stream",
     "text": [
      "<class 'pandas.core.frame.DataFrame'>\n",
      "RangeIndex: 5837 entries, 0 to 5836\n",
      "Data columns (total 4 columns):\n",
      " #   Column      Non-Null Count  Dtype         \n",
      "---  ------      --------------  -----         \n",
      " 0   title       5837 non-null   object        \n",
      " 1   director    3936 non-null   object        \n",
      " 2   date_added  5195 non-null   datetime64[ns]\n",
      " 3   type        5837 non-null   object        \n",
      "dtypes: datetime64[ns](1), object(3)\n",
      "memory usage: 182.5+ KB\n"
     ]
    }
   ],
   "source": [
    "netDF.info()"
   ]
  },
  {
   "cell_type": "code",
   "execution_count": 129,
   "id": "7bba7278-6701-4726-a27b-670c0df751c0",
   "metadata": {},
   "outputs": [
    {
     "data": {
      "text/plain": [
       "(5837, 4)"
      ]
     },
     "execution_count": 129,
     "metadata": {},
     "output_type": "execute_result"
    }
   ],
   "source": [
    "netDF.shape"
   ]
  },
  {
   "cell_type": "code",
   "execution_count": 130,
   "id": "3f726b23-5756-49ec-b1fd-6efa47b1c5b8",
   "metadata": {},
   "outputs": [],
   "source": [
    "# 결측값을 상수 값으로 대체\n",
    "#netDF = netDF[['title', 'director', 'date_added', 'type']].fillna(0)"
   ]
  },
  {
   "cell_type": "code",
   "execution_count": 131,
   "id": "dcf7f870-9684-47eb-a19d-949815d35d99",
   "metadata": {},
   "outputs": [
    {
     "name": "stdout",
     "output_type": "stream",
     "text": [
      "<class 'pandas.core.frame.DataFrame'>\n",
      "RangeIndex: 5837 entries, 0 to 5836\n",
      "Data columns (total 4 columns):\n",
      " #   Column      Non-Null Count  Dtype         \n",
      "---  ------      --------------  -----         \n",
      " 0   title       5837 non-null   object        \n",
      " 1   director    3936 non-null   object        \n",
      " 2   date_added  5195 non-null   datetime64[ns]\n",
      " 3   type        5837 non-null   object        \n",
      "dtypes: datetime64[ns](1), object(3)\n",
      "memory usage: 182.5+ KB\n"
     ]
    }
   ],
   "source": [
    "netDF.info()"
   ]
  },
  {
   "cell_type": "code",
   "execution_count": 132,
   "id": "657dd159-f1c6-4733-8dbc-bb868f1ce76a",
   "metadata": {},
   "outputs": [],
   "source": [
    "# type을 카테고리화.\n",
    "netDF['type'] = netDF['type'].astype(\"category\")"
   ]
  },
  {
   "cell_type": "code",
   "execution_count": 133,
   "id": "af2d7939-9967-477c-986a-3db30aaf6a7a",
   "metadata": {},
   "outputs": [
    {
     "name": "stdout",
     "output_type": "stream",
     "text": [
      "<class 'pandas.core.frame.DataFrame'>\n",
      "RangeIndex: 5837 entries, 0 to 5836\n",
      "Data columns (total 4 columns):\n",
      " #   Column      Non-Null Count  Dtype         \n",
      "---  ------      --------------  -----         \n",
      " 0   title       5837 non-null   object        \n",
      " 1   director    3936 non-null   object        \n",
      " 2   date_added  5195 non-null   datetime64[ns]\n",
      " 3   type        5837 non-null   category      \n",
      "dtypes: category(1), datetime64[ns](1), object(2)\n",
      "memory usage: 142.8+ KB\n"
     ]
    }
   ],
   "source": [
    "netDF.info()"
   ]
  },
  {
   "cell_type": "markdown",
   "id": "4aeca97a-a192-4d19-bcfe-53d18a7c4149",
   "metadata": {},
   "source": [
    "2. 제목이 'limitless'인 모든 콘텐츠를 찾으세요."
   ]
  },
  {
   "cell_type": "code",
   "execution_count": 134,
   "id": "67f98549-7967-4b5b-9e3a-bc2acdb2daa7",
   "metadata": {},
   "outputs": [
    {
     "data": {
      "text/html": [
       "<div>\n",
       "<style scoped>\n",
       "    .dataframe tbody tr th:only-of-type {\n",
       "        vertical-align: middle;\n",
       "    }\n",
       "\n",
       "    .dataframe tbody tr th {\n",
       "        vertical-align: top;\n",
       "    }\n",
       "\n",
       "    .dataframe thead th {\n",
       "        text-align: right;\n",
       "    }\n",
       "</style>\n",
       "<table border=\"1\" class=\"dataframe\">\n",
       "  <thead>\n",
       "    <tr style=\"text-align: right;\">\n",
       "      <th></th>\n",
       "      <th>title</th>\n",
       "      <th>director</th>\n",
       "      <th>date_added</th>\n",
       "      <th>type</th>\n",
       "    </tr>\n",
       "  </thead>\n",
       "  <tbody>\n",
       "    <tr>\n",
       "      <th>1559</th>\n",
       "      <td>Limitless</td>\n",
       "      <td>Neil Burger</td>\n",
       "      <td>2019-05-16</td>\n",
       "      <td>Movie</td>\n",
       "    </tr>\n",
       "    <tr>\n",
       "      <th>2564</th>\n",
       "      <td>Limitless</td>\n",
       "      <td>NaN</td>\n",
       "      <td>2016-07-01</td>\n",
       "      <td>TV Show</td>\n",
       "    </tr>\n",
       "    <tr>\n",
       "      <th>4579</th>\n",
       "      <td>Limitless</td>\n",
       "      <td>Vrinda Samartha</td>\n",
       "      <td>2019-10-01</td>\n",
       "      <td>Movie</td>\n",
       "    </tr>\n",
       "  </tbody>\n",
       "</table>\n",
       "</div>"
      ],
      "text/plain": [
       "          title         director date_added     type\n",
       "1559  Limitless      Neil Burger 2019-05-16    Movie\n",
       "2564  Limitless              NaN 2016-07-01  TV Show\n",
       "4579  Limitless  Vrinda Samartha 2019-10-01    Movie"
      ]
     },
     "execution_count": 134,
     "metadata": {},
     "output_type": "execute_result"
    }
   ],
   "source": [
    "limit = (netDF[\"title\"] ==\"Limitless\")\n",
    "netDF[limit]"
   ]
  },
  {
   "cell_type": "markdown",
   "id": "d7db0443-79d5-43cd-9230-b9972ed9f834",
   "metadata": {},
   "source": [
    "3. 'Robert Rodriguez' 감독이 제작하고 유형이 'Movie'인 모든 콘텐츠를 찾으세요."
   ]
  },
  {
   "cell_type": "code",
   "execution_count": 135,
   "id": "bae9aecb-2bce-4ab4-bdeb-a3fff8b8b5a2",
   "metadata": {},
   "outputs": [],
   "source": [
    "ditype = (netDF['director'] == 'Robert Rodriguez') & (netDF['type'] == 'Movie')"
   ]
  },
  {
   "cell_type": "code",
   "execution_count": 136,
   "id": "1b96e003-77e1-4b13-8112-4127e3c97481",
   "metadata": {},
   "outputs": [
    {
     "data": {
      "text/html": [
       "<div>\n",
       "<style scoped>\n",
       "    .dataframe tbody tr th:only-of-type {\n",
       "        vertical-align: middle;\n",
       "    }\n",
       "\n",
       "    .dataframe tbody tr th {\n",
       "        vertical-align: top;\n",
       "    }\n",
       "\n",
       "    .dataframe thead th {\n",
       "        text-align: right;\n",
       "    }\n",
       "</style>\n",
       "<table border=\"1\" class=\"dataframe\">\n",
       "  <thead>\n",
       "    <tr style=\"text-align: right;\">\n",
       "      <th></th>\n",
       "      <th>title</th>\n",
       "      <th>director</th>\n",
       "      <th>date_added</th>\n",
       "      <th>type</th>\n",
       "    </tr>\n",
       "  </thead>\n",
       "  <tbody>\n",
       "    <tr>\n",
       "      <th>1384</th>\n",
       "      <td>Spy Kids: All the Time in the World</td>\n",
       "      <td>Robert Rodriguez</td>\n",
       "      <td>2019-02-19</td>\n",
       "      <td>Movie</td>\n",
       "    </tr>\n",
       "    <tr>\n",
       "      <th>1416</th>\n",
       "      <td>Spy Kids 3: Game Over</td>\n",
       "      <td>Robert Rodriguez</td>\n",
       "      <td>2019-04-01</td>\n",
       "      <td>Movie</td>\n",
       "    </tr>\n",
       "    <tr>\n",
       "      <th>1460</th>\n",
       "      <td>Spy Kids 2: The Island of Lost Dreams</td>\n",
       "      <td>Robert Rodriguez</td>\n",
       "      <td>2019-03-08</td>\n",
       "      <td>Movie</td>\n",
       "    </tr>\n",
       "    <tr>\n",
       "      <th>2890</th>\n",
       "      <td>Sin City</td>\n",
       "      <td>Robert Rodriguez</td>\n",
       "      <td>2019-10-01</td>\n",
       "      <td>Movie</td>\n",
       "    </tr>\n",
       "    <tr>\n",
       "      <th>3836</th>\n",
       "      <td>Shorts</td>\n",
       "      <td>Robert Rodriguez</td>\n",
       "      <td>2019-07-01</td>\n",
       "      <td>Movie</td>\n",
       "    </tr>\n",
       "    <tr>\n",
       "      <th>3883</th>\n",
       "      <td>Spy Kids</td>\n",
       "      <td>Robert Rodriguez</td>\n",
       "      <td>2019-04-01</td>\n",
       "      <td>Movie</td>\n",
       "    </tr>\n",
       "  </tbody>\n",
       "</table>\n",
       "</div>"
      ],
      "text/plain": [
       "                                      title          director date_added  \\\n",
       "1384    Spy Kids: All the Time in the World  Robert Rodriguez 2019-02-19   \n",
       "1416                  Spy Kids 3: Game Over  Robert Rodriguez 2019-04-01   \n",
       "1460  Spy Kids 2: The Island of Lost Dreams  Robert Rodriguez 2019-03-08   \n",
       "2890                               Sin City  Robert Rodriguez 2019-10-01   \n",
       "3836                                 Shorts  Robert Rodriguez 2019-07-01   \n",
       "3883                               Spy Kids  Robert Rodriguez 2019-04-01   \n",
       "\n",
       "       type  \n",
       "1384  Movie  \n",
       "1416  Movie  \n",
       "1460  Movie  \n",
       "2890  Movie  \n",
       "3836  Movie  \n",
       "3883  Movie  "
      ]
     },
     "execution_count": 136,
     "metadata": {},
     "output_type": "execute_result"
    }
   ],
   "source": [
    "netDF[ditype]"
   ]
  },
  {
   "cell_type": "markdown",
   "id": "222e30df-234b-447d-bc02-5025bfff8d53",
   "metadata": {},
   "source": [
    "4. 등록된 날짜가 '2019-07-31'이거나 감독이 'Robert Altman'인 모든 콘텐츠를 찾으세요."
   ]
  },
  {
   "cell_type": "code",
   "execution_count": 137,
   "id": "3bda0be6-1203-45fa-b8c2-d9cd8b6563e3",
   "metadata": {},
   "outputs": [],
   "source": [
    "direc = (netDF['director']=='Robert Altman')\n",
    "date = (netDF['date_added']=='2019-07-31')"
   ]
  },
  {
   "cell_type": "code",
   "execution_count": 138,
   "id": "63bc32e3-7926-468c-b788-eccd9b7f3558",
   "metadata": {},
   "outputs": [
    {
     "data": {
      "text/html": [
       "<div>\n",
       "<style scoped>\n",
       "    .dataframe tbody tr th:only-of-type {\n",
       "        vertical-align: middle;\n",
       "    }\n",
       "\n",
       "    .dataframe tbody tr th {\n",
       "        vertical-align: top;\n",
       "    }\n",
       "\n",
       "    .dataframe thead th {\n",
       "        text-align: right;\n",
       "    }\n",
       "</style>\n",
       "<table border=\"1\" class=\"dataframe\">\n",
       "  <thead>\n",
       "    <tr style=\"text-align: right;\">\n",
       "      <th></th>\n",
       "      <th>title</th>\n",
       "      <th>director</th>\n",
       "      <th>date_added</th>\n",
       "      <th>type</th>\n",
       "    </tr>\n",
       "  </thead>\n",
       "  <tbody>\n",
       "    <tr>\n",
       "      <th>611</th>\n",
       "      <td>Popeye</td>\n",
       "      <td>Robert Altman</td>\n",
       "      <td>2019-11-24</td>\n",
       "      <td>Movie</td>\n",
       "    </tr>\n",
       "    <tr>\n",
       "      <th>1028</th>\n",
       "      <td>The Red Sea Diving Resort</td>\n",
       "      <td>Gideon Raff</td>\n",
       "      <td>2019-07-31</td>\n",
       "      <td>Movie</td>\n",
       "    </tr>\n",
       "    <tr>\n",
       "      <th>1092</th>\n",
       "      <td>Gosford Park</td>\n",
       "      <td>Robert Altman</td>\n",
       "      <td>2019-11-01</td>\n",
       "      <td>Movie</td>\n",
       "    </tr>\n",
       "    <tr>\n",
       "      <th>3473</th>\n",
       "      <td>Bangkok Love Stories: Innocence</td>\n",
       "      <td>NaN</td>\n",
       "      <td>2019-07-31</td>\n",
       "      <td>TV Show</td>\n",
       "    </tr>\n",
       "    <tr>\n",
       "      <th>5117</th>\n",
       "      <td>Ramen Shop</td>\n",
       "      <td>Eric Khoo</td>\n",
       "      <td>2019-07-31</td>\n",
       "      <td>Movie</td>\n",
       "    </tr>\n",
       "  </tbody>\n",
       "</table>\n",
       "</div>"
      ],
      "text/plain": [
       "                                title       director date_added     type\n",
       "611                            Popeye  Robert Altman 2019-11-24    Movie\n",
       "1028        The Red Sea Diving Resort    Gideon Raff 2019-07-31    Movie\n",
       "1092                     Gosford Park  Robert Altman 2019-11-01    Movie\n",
       "3473  Bangkok Love Stories: Innocence            NaN 2019-07-31  TV Show\n",
       "5117                       Ramen Shop      Eric Khoo 2019-07-31    Movie"
      ]
     },
     "execution_count": 138,
     "metadata": {},
     "output_type": "execute_result"
    }
   ],
   "source": [
    "netDF[direc|date]"
   ]
  },
  {
   "cell_type": "markdown",
   "id": "6b2977f1-5a1b-443a-9227-cb54e19bd607",
   "metadata": {},
   "source": [
    "5. 감독이 'Orson Welles', 'Aditya Kripalani' 또는 'Sam Raimi'인 모든 콘텐츠를 찾으세요."
   ]
  },
  {
   "cell_type": "code",
   "execution_count": 141,
   "id": "bc0cbba6-8b02-4d64-bde6-983d7fac934c",
   "metadata": {},
   "outputs": [],
   "source": [
    "dir = (netDF['director'] == 'Orson Welles') | (netDF['director'] == 'Aditya Kripalani') |(netDF['director'] == 'Sam Raimi') "
   ]
  },
  {
   "cell_type": "code",
   "execution_count": 142,
   "id": "e9c59cfd-f1c8-499a-a181-8be19c3517d2",
   "metadata": {},
   "outputs": [
    {
     "data": {
      "text/html": [
       "<div>\n",
       "<style scoped>\n",
       "    .dataframe tbody tr th:only-of-type {\n",
       "        vertical-align: middle;\n",
       "    }\n",
       "\n",
       "    .dataframe tbody tr th {\n",
       "        vertical-align: top;\n",
       "    }\n",
       "\n",
       "    .dataframe thead th {\n",
       "        text-align: right;\n",
       "    }\n",
       "</style>\n",
       "<table border=\"1\" class=\"dataframe\">\n",
       "  <thead>\n",
       "    <tr style=\"text-align: right;\">\n",
       "      <th></th>\n",
       "      <th>title</th>\n",
       "      <th>director</th>\n",
       "      <th>date_added</th>\n",
       "      <th>type</th>\n",
       "    </tr>\n",
       "  </thead>\n",
       "  <tbody>\n",
       "    <tr>\n",
       "      <th>946</th>\n",
       "      <td>The Stranger</td>\n",
       "      <td>Orson Welles</td>\n",
       "      <td>2018-07-19</td>\n",
       "      <td>Movie</td>\n",
       "    </tr>\n",
       "    <tr>\n",
       "      <th>1870</th>\n",
       "      <td>The Gift</td>\n",
       "      <td>Sam Raimi</td>\n",
       "      <td>2019-11-20</td>\n",
       "      <td>Movie</td>\n",
       "    </tr>\n",
       "    <tr>\n",
       "      <th>3706</th>\n",
       "      <td>Spider-Man 3</td>\n",
       "      <td>Sam Raimi</td>\n",
       "      <td>2019-11-01</td>\n",
       "      <td>Movie</td>\n",
       "    </tr>\n",
       "    <tr>\n",
       "      <th>4243</th>\n",
       "      <td>Tikli and Laxmi Bomb</td>\n",
       "      <td>Aditya Kripalani</td>\n",
       "      <td>2018-08-01</td>\n",
       "      <td>Movie</td>\n",
       "    </tr>\n",
       "    <tr>\n",
       "      <th>4475</th>\n",
       "      <td>The Other Side of the Wind</td>\n",
       "      <td>Orson Welles</td>\n",
       "      <td>2018-11-02</td>\n",
       "      <td>Movie</td>\n",
       "    </tr>\n",
       "    <tr>\n",
       "      <th>5115</th>\n",
       "      <td>Tottaa Pataaka Item Maal</td>\n",
       "      <td>Aditya Kripalani</td>\n",
       "      <td>2019-06-25</td>\n",
       "      <td>Movie</td>\n",
       "    </tr>\n",
       "  </tbody>\n",
       "</table>\n",
       "</div>"
      ],
      "text/plain": [
       "                           title          director date_added   type\n",
       "946                 The Stranger      Orson Welles 2018-07-19  Movie\n",
       "1870                    The Gift         Sam Raimi 2019-11-20  Movie\n",
       "3706                Spider-Man 3         Sam Raimi 2019-11-01  Movie\n",
       "4243        Tikli and Laxmi Bomb  Aditya Kripalani 2018-08-01  Movie\n",
       "4475  The Other Side of the Wind      Orson Welles 2018-11-02  Movie\n",
       "5115    Tottaa Pataaka Item Maal  Aditya Kripalani 2019-06-25  Movie"
      ]
     },
     "execution_count": 142,
     "metadata": {},
     "output_type": "execute_result"
    }
   ],
   "source": [
    "netDF[dir]"
   ]
  },
  {
   "cell_type": "markdown",
   "id": "37d71d3e-ed4a-4ffd-abfb-23eb10898d5e",
   "metadata": {},
   "source": [
    "6. 2019년 5월 1일과 2019년 6월 1일 사이에 등록된 모든 콘텐츠를 찾으세요."
   ]
  },
  {
   "cell_type": "code",
   "execution_count": 143,
   "id": "4e4b8f9e-dc8b-4dad-a850-2a387c6033f7",
   "metadata": {},
   "outputs": [],
   "source": [
    "date = netDF['date_added'].between('2019-05-01', '2019-06-01')"
   ]
  },
  {
   "cell_type": "code",
   "execution_count": 144,
   "id": "95052d56-60d9-4c84-b364-832fc465f57c",
   "metadata": {},
   "outputs": [
    {
     "data": {
      "text/html": [
       "<div>\n",
       "<style scoped>\n",
       "    .dataframe tbody tr th:only-of-type {\n",
       "        vertical-align: middle;\n",
       "    }\n",
       "\n",
       "    .dataframe tbody tr th {\n",
       "        vertical-align: top;\n",
       "    }\n",
       "\n",
       "    .dataframe thead th {\n",
       "        text-align: right;\n",
       "    }\n",
       "</style>\n",
       "<table border=\"1\" class=\"dataframe\">\n",
       "  <thead>\n",
       "    <tr style=\"text-align: right;\">\n",
       "      <th></th>\n",
       "      <th>title</th>\n",
       "      <th>director</th>\n",
       "      <th>date_added</th>\n",
       "      <th>type</th>\n",
       "    </tr>\n",
       "  </thead>\n",
       "  <tbody>\n",
       "    <tr>\n",
       "      <th>29</th>\n",
       "      <td>Chopsticks</td>\n",
       "      <td>Sachin Yardi</td>\n",
       "      <td>2019-05-31</td>\n",
       "      <td>Movie</td>\n",
       "    </tr>\n",
       "    <tr>\n",
       "      <th>60</th>\n",
       "      <td>Away From Home</td>\n",
       "      <td>NaN</td>\n",
       "      <td>2019-05-08</td>\n",
       "      <td>TV Show</td>\n",
       "    </tr>\n",
       "    <tr>\n",
       "      <th>82</th>\n",
       "      <td>III Smoking Barrels</td>\n",
       "      <td>Sanjib Dey</td>\n",
       "      <td>2019-06-01</td>\n",
       "      <td>Movie</td>\n",
       "    </tr>\n",
       "    <tr>\n",
       "      <th>108</th>\n",
       "      <td>Jailbirds</td>\n",
       "      <td>NaN</td>\n",
       "      <td>2019-05-10</td>\n",
       "      <td>TV Show</td>\n",
       "    </tr>\n",
       "    <tr>\n",
       "      <th>124</th>\n",
       "      <td>Pegasus</td>\n",
       "      <td>Han Han</td>\n",
       "      <td>2019-05-31</td>\n",
       "      <td>Movie</td>\n",
       "    </tr>\n",
       "    <tr>\n",
       "      <th>...</th>\n",
       "      <td>...</td>\n",
       "      <td>...</td>\n",
       "      <td>...</td>\n",
       "      <td>...</td>\n",
       "    </tr>\n",
       "    <tr>\n",
       "      <th>5671</th>\n",
       "      <td>Satan &amp; Adam</td>\n",
       "      <td>V. Scott Balcerek</td>\n",
       "      <td>2019-06-01</td>\n",
       "      <td>Movie</td>\n",
       "    </tr>\n",
       "    <tr>\n",
       "      <th>5675</th>\n",
       "      <td>Rim of the World</td>\n",
       "      <td>McG</td>\n",
       "      <td>2019-05-24</td>\n",
       "      <td>Movie</td>\n",
       "    </tr>\n",
       "    <tr>\n",
       "      <th>5677</th>\n",
       "      <td>Malibu Rescue</td>\n",
       "      <td>Savage Steve Holland</td>\n",
       "      <td>2019-05-13</td>\n",
       "      <td>Movie</td>\n",
       "    </tr>\n",
       "    <tr>\n",
       "      <th>5739</th>\n",
       "      <td>Mission Istaanbul: Darr Ke Aagey Jeet Hai</td>\n",
       "      <td>Apoorva Lakhia</td>\n",
       "      <td>2019-05-16</td>\n",
       "      <td>Movie</td>\n",
       "    </tr>\n",
       "    <tr>\n",
       "      <th>5829</th>\n",
       "      <td>The Kindness Diaries</td>\n",
       "      <td>NaN</td>\n",
       "      <td>2019-05-01</td>\n",
       "      <td>TV Show</td>\n",
       "    </tr>\n",
       "  </tbody>\n",
       "</table>\n",
       "<p>183 rows × 4 columns</p>\n",
       "</div>"
      ],
      "text/plain": [
       "                                          title              director  \\\n",
       "29                                   Chopsticks          Sachin Yardi   \n",
       "60                               Away From Home                   NaN   \n",
       "82                          III Smoking Barrels            Sanjib Dey   \n",
       "108                                   Jailbirds                   NaN   \n",
       "124                                     Pegasus               Han Han   \n",
       "...                                         ...                   ...   \n",
       "5671                               Satan & Adam     V. Scott Balcerek   \n",
       "5675                           Rim of the World                   McG   \n",
       "5677                              Malibu Rescue  Savage Steve Holland   \n",
       "5739  Mission Istaanbul: Darr Ke Aagey Jeet Hai        Apoorva Lakhia   \n",
       "5829                       The Kindness Diaries                   NaN   \n",
       "\n",
       "     date_added     type  \n",
       "29   2019-05-31    Movie  \n",
       "60   2019-05-08  TV Show  \n",
       "82   2019-06-01    Movie  \n",
       "108  2019-05-10  TV Show  \n",
       "124  2019-05-31    Movie  \n",
       "...         ...      ...  \n",
       "5671 2019-06-01    Movie  \n",
       "5675 2019-05-24    Movie  \n",
       "5677 2019-05-13    Movie  \n",
       "5739 2019-05-16    Movie  \n",
       "5829 2019-05-01  TV Show  \n",
       "\n",
       "[183 rows x 4 columns]"
      ]
     },
     "execution_count": 144,
     "metadata": {},
     "output_type": "execute_result"
    }
   ],
   "source": [
    "netDF[date]"
   ]
  },
  {
   "cell_type": "markdown",
   "id": "e82857a5-f78b-4ba4-ac82-8e24dd16e1c3",
   "metadata": {},
   "source": [
    "7. director 열에서 NaN 값이 있는 모든 행을 삭제하세요."
   ]
  },
  {
   "cell_type": "code",
   "execution_count": 146,
   "id": "c6c5b53e-bb26-45eb-b9cb-4b09060b3215",
   "metadata": {},
   "outputs": [
    {
     "data": {
      "text/html": [
       "<div>\n",
       "<style scoped>\n",
       "    .dataframe tbody tr th:only-of-type {\n",
       "        vertical-align: middle;\n",
       "    }\n",
       "\n",
       "    .dataframe tbody tr th {\n",
       "        vertical-align: top;\n",
       "    }\n",
       "\n",
       "    .dataframe thead th {\n",
       "        text-align: right;\n",
       "    }\n",
       "</style>\n",
       "<table border=\"1\" class=\"dataframe\">\n",
       "  <thead>\n",
       "    <tr style=\"text-align: right;\">\n",
       "      <th></th>\n",
       "      <th>title</th>\n",
       "      <th>director</th>\n",
       "      <th>date_added</th>\n",
       "      <th>type</th>\n",
       "    </tr>\n",
       "  </thead>\n",
       "  <tbody>\n",
       "    <tr>\n",
       "      <th>1</th>\n",
       "      <td>A Patch of Fog</td>\n",
       "      <td>Michael Lennox</td>\n",
       "      <td>2017-04-15</td>\n",
       "      <td>Movie</td>\n",
       "    </tr>\n",
       "    <tr>\n",
       "      <th>3</th>\n",
       "      <td>Uriyadi 2</td>\n",
       "      <td>Vijay Kumar</td>\n",
       "      <td>2019-08-02</td>\n",
       "      <td>Movie</td>\n",
       "    </tr>\n",
       "    <tr>\n",
       "      <th>4</th>\n",
       "      <td>Shrek the Musical</td>\n",
       "      <td>Jason Moore</td>\n",
       "      <td>2013-12-29</td>\n",
       "      <td>Movie</td>\n",
       "    </tr>\n",
       "    <tr>\n",
       "      <th>5</th>\n",
       "      <td>Schubert In Love</td>\n",
       "      <td>Lars Büchel</td>\n",
       "      <td>2018-03-01</td>\n",
       "      <td>Movie</td>\n",
       "    </tr>\n",
       "    <tr>\n",
       "      <th>6</th>\n",
       "      <td>We Have Always Lived in the Castle</td>\n",
       "      <td>Stacie Passon</td>\n",
       "      <td>2019-09-14</td>\n",
       "      <td>Movie</td>\n",
       "    </tr>\n",
       "    <tr>\n",
       "      <th>...</th>\n",
       "      <td>...</td>\n",
       "      <td>...</td>\n",
       "      <td>...</td>\n",
       "      <td>...</td>\n",
       "    </tr>\n",
       "    <tr>\n",
       "      <th>5830</th>\n",
       "      <td>Bibi &amp; Tina</td>\n",
       "      <td>Detlev Buck</td>\n",
       "      <td>2017-04-15</td>\n",
       "      <td>Movie</td>\n",
       "    </tr>\n",
       "    <tr>\n",
       "      <th>5832</th>\n",
       "      <td>The Pursuit</td>\n",
       "      <td>John Papola</td>\n",
       "      <td>2019-08-07</td>\n",
       "      <td>Movie</td>\n",
       "    </tr>\n",
       "    <tr>\n",
       "      <th>5833</th>\n",
       "      <td>Hurricane Bianca</td>\n",
       "      <td>Matt Kugelman</td>\n",
       "      <td>2017-01-01</td>\n",
       "      <td>Movie</td>\n",
       "    </tr>\n",
       "    <tr>\n",
       "      <th>5834</th>\n",
       "      <td>Amar's Hands</td>\n",
       "      <td>Khaled Youssef</td>\n",
       "      <td>2019-04-26</td>\n",
       "      <td>Movie</td>\n",
       "    </tr>\n",
       "    <tr>\n",
       "      <th>5835</th>\n",
       "      <td>Bill Nye: Science Guy</td>\n",
       "      <td>Jason Sussberg</td>\n",
       "      <td>2018-04-25</td>\n",
       "      <td>Movie</td>\n",
       "    </tr>\n",
       "  </tbody>\n",
       "</table>\n",
       "<p>3936 rows × 4 columns</p>\n",
       "</div>"
      ],
      "text/plain": [
       "                                   title        director date_added   type\n",
       "1                         A Patch of Fog  Michael Lennox 2017-04-15  Movie\n",
       "3                              Uriyadi 2     Vijay Kumar 2019-08-02  Movie\n",
       "4                      Shrek the Musical     Jason Moore 2013-12-29  Movie\n",
       "5                       Schubert In Love     Lars Büchel 2018-03-01  Movie\n",
       "6     We Have Always Lived in the Castle   Stacie Passon 2019-09-14  Movie\n",
       "...                                  ...             ...        ...    ...\n",
       "5830                         Bibi & Tina     Detlev Buck 2017-04-15  Movie\n",
       "5832                         The Pursuit     John Papola 2019-08-07  Movie\n",
       "5833                    Hurricane Bianca   Matt Kugelman 2017-01-01  Movie\n",
       "5834                        Amar's Hands  Khaled Youssef 2019-04-26  Movie\n",
       "5835               Bill Nye: Science Guy  Jason Sussberg 2018-04-25  Movie\n",
       "\n",
       "[3936 rows x 4 columns]"
      ]
     },
     "execution_count": 146,
     "metadata": {},
     "output_type": "execute_result"
    }
   ],
   "source": [
    "netDF.dropna(subset=['director'])"
   ]
  },
  {
   "cell_type": "markdown",
   "id": "908a2adc-2d5e-41af-9168-988bec78e8e8",
   "metadata": {},
   "source": [
    "8. 넷플릭스가 콘텐츠를 단 하나만 등록한 날짜를 식별하세요. "
   ]
  },
  {
   "cell_type": "code",
   "execution_count": 150,
   "id": "23320188-953b-4a1b-a091-7915fb43bb50",
   "metadata": {},
   "outputs": [
    {
     "data": {
      "text/html": [
       "<div>\n",
       "<style scoped>\n",
       "    .dataframe tbody tr th:only-of-type {\n",
       "        vertical-align: middle;\n",
       "    }\n",
       "\n",
       "    .dataframe tbody tr th {\n",
       "        vertical-align: top;\n",
       "    }\n",
       "\n",
       "    .dataframe thead th {\n",
       "        text-align: right;\n",
       "    }\n",
       "</style>\n",
       "<table border=\"1\" class=\"dataframe\">\n",
       "  <thead>\n",
       "    <tr style=\"text-align: right;\">\n",
       "      <th></th>\n",
       "      <th>title</th>\n",
       "      <th>director</th>\n",
       "      <th>date_added</th>\n",
       "      <th>type</th>\n",
       "    </tr>\n",
       "  </thead>\n",
       "  <tbody>\n",
       "    <tr>\n",
       "      <th>4</th>\n",
       "      <td>Shrek the Musical</td>\n",
       "      <td>Jason Moore</td>\n",
       "      <td>2013-12-29</td>\n",
       "      <td>Movie</td>\n",
       "    </tr>\n",
       "    <tr>\n",
       "      <th>12</th>\n",
       "      <td>Without Gorky</td>\n",
       "      <td>Cosima Spender</td>\n",
       "      <td>2017-05-31</td>\n",
       "      <td>Movie</td>\n",
       "    </tr>\n",
       "    <tr>\n",
       "      <th>30</th>\n",
       "      <td>Anjelah Johnson: Not Fancy</td>\n",
       "      <td>Jay Karas</td>\n",
       "      <td>2015-10-02</td>\n",
       "      <td>Movie</td>\n",
       "    </tr>\n",
       "    <tr>\n",
       "      <th>38</th>\n",
       "      <td>One Last Thing</td>\n",
       "      <td>Tim Rouhana</td>\n",
       "      <td>2019-08-25</td>\n",
       "      <td>Movie</td>\n",
       "    </tr>\n",
       "    <tr>\n",
       "      <th>70</th>\n",
       "      <td>Marvel's Iron Man &amp; Hulk: Heroes United</td>\n",
       "      <td>Leo Riley</td>\n",
       "      <td>2014-02-16</td>\n",
       "      <td>Movie</td>\n",
       "    </tr>\n",
       "    <tr>\n",
       "      <th>...</th>\n",
       "      <td>...</td>\n",
       "      <td>...</td>\n",
       "      <td>...</td>\n",
       "      <td>...</td>\n",
       "    </tr>\n",
       "    <tr>\n",
       "      <th>5748</th>\n",
       "      <td>Menorca</td>\n",
       "      <td>John Barnard</td>\n",
       "      <td>2017-08-27</td>\n",
       "      <td>Movie</td>\n",
       "    </tr>\n",
       "    <tr>\n",
       "      <th>5749</th>\n",
       "      <td>Green Room</td>\n",
       "      <td>Jeremy Saulnier</td>\n",
       "      <td>2018-11-12</td>\n",
       "      <td>Movie</td>\n",
       "    </tr>\n",
       "    <tr>\n",
       "      <th>5788</th>\n",
       "      <td>Chris Brown: Welcome to My Life</td>\n",
       "      <td>Andrew Sandler</td>\n",
       "      <td>2017-10-07</td>\n",
       "      <td>Movie</td>\n",
       "    </tr>\n",
       "    <tr>\n",
       "      <th>5789</th>\n",
       "      <td>A Very Murray Christmas</td>\n",
       "      <td>Sofia Coppola</td>\n",
       "      <td>2015-12-04</td>\n",
       "      <td>Movie</td>\n",
       "    </tr>\n",
       "    <tr>\n",
       "      <th>5812</th>\n",
       "      <td>Little Singham in London</td>\n",
       "      <td>Prakash Satam</td>\n",
       "      <td>2019-04-22</td>\n",
       "      <td>Movie</td>\n",
       "    </tr>\n",
       "  </tbody>\n",
       "</table>\n",
       "<p>391 rows × 4 columns</p>\n",
       "</div>"
      ],
      "text/plain": [
       "                                        title         director date_added  \\\n",
       "4                           Shrek the Musical      Jason Moore 2013-12-29   \n",
       "12                              Without Gorky   Cosima Spender 2017-05-31   \n",
       "30                 Anjelah Johnson: Not Fancy        Jay Karas 2015-10-02   \n",
       "38                             One Last Thing      Tim Rouhana 2019-08-25   \n",
       "70    Marvel's Iron Man & Hulk: Heroes United        Leo Riley 2014-02-16   \n",
       "...                                       ...              ...        ...   \n",
       "5748                                  Menorca     John Barnard 2017-08-27   \n",
       "5749                               Green Room  Jeremy Saulnier 2018-11-12   \n",
       "5788          Chris Brown: Welcome to My Life   Andrew Sandler 2017-10-07   \n",
       "5789                  A Very Murray Christmas    Sofia Coppola 2015-12-04   \n",
       "5812                 Little Singham in London    Prakash Satam 2019-04-22   \n",
       "\n",
       "       type  \n",
       "4     Movie  \n",
       "12    Movie  \n",
       "30    Movie  \n",
       "38    Movie  \n",
       "70    Movie  \n",
       "...     ...  \n",
       "5748  Movie  \n",
       "5749  Movie  \n",
       "5788  Movie  \n",
       "5789  Movie  \n",
       "5812  Movie  \n",
       "\n",
       "[391 rows x 4 columns]"
      ]
     },
     "execution_count": 150,
     "metadata": {},
     "output_type": "execute_result"
    }
   ],
   "source": [
    "netDF.drop_duplicates(subset = ['date_added'], keep = False) #★ 좀 헷갈림.\n",
    "# drop_duplicates는 주어진 열을 기반으로 중복 여부를 확인. keep = False이면 중복값이 있는 행을 모두 삭제."
   ]
  },
  {
   "cell_type": "code",
   "execution_count": null,
   "id": "14f56125-3a53-44f0-95f1-4adc57768da5",
   "metadata": {},
   "outputs": [],
   "source": []
  }
 ],
 "metadata": {
  "kernelspec": {
   "display_name": "Python 3 (ipykernel)",
   "language": "python",
   "name": "python3"
  },
  "language_info": {
   "codemirror_mode": {
    "name": "ipython",
    "version": 3
   },
   "file_extension": ".py",
   "mimetype": "text/x-python",
   "name": "python",
   "nbconvert_exporter": "python",
   "pygments_lexer": "ipython3",
   "version": "3.8.18"
  }
 },
 "nbformat": 4,
 "nbformat_minor": 5
}
