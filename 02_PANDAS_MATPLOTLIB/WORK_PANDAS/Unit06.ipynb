{
 "cells": [
  {
   "cell_type": "markdown",
   "id": "8082b860-0d98-4fb6-acc8-6fac752a48e2",
   "metadata": {},
   "source": [
    "Unit 06 텍스트 다루기"
   ]
  },
  {
   "cell_type": "markdown",
   "id": "8cffc7e4-feea-40df-99e7-aa1cd4f98c6d",
   "metadata": {},
   "source": [
    "6.1 대소문자 변환과 공백"
   ]
  },
  {
   "cell_type": "code",
   "execution_count": 213,
   "id": "400971f5-b521-400f-8763-a1d729cf7b3f",
   "metadata": {},
   "outputs": [],
   "source": [
    "import pandas as pd"
   ]
  },
  {
   "cell_type": "code",
   "execution_count": 214,
   "id": "da9c5823-75e6-4315-8ec5-10dc40355d15",
   "metadata": {},
   "outputs": [],
   "source": [
    "file = '../DATA/chicago_food_inspections.csv'"
   ]
  },
  {
   "cell_type": "code",
   "execution_count": 215,
   "id": "187548bc-49f9-4a47-bf28-d2723afb7479",
   "metadata": {},
   "outputs": [],
   "source": [
    "chicagoDF = pd.read_csv(file)"
   ]
  },
  {
   "cell_type": "code",
   "execution_count": 216,
   "id": "2336c909-b4a9-4136-8704-a0afe7b659c3",
   "metadata": {},
   "outputs": [
    {
     "data": {
      "text/html": [
       "<div>\n",
       "<style scoped>\n",
       "    .dataframe tbody tr th:only-of-type {\n",
       "        vertical-align: middle;\n",
       "    }\n",
       "\n",
       "    .dataframe tbody tr th {\n",
       "        vertical-align: top;\n",
       "    }\n",
       "\n",
       "    .dataframe thead th {\n",
       "        text-align: right;\n",
       "    }\n",
       "</style>\n",
       "<table border=\"1\" class=\"dataframe\">\n",
       "  <thead>\n",
       "    <tr style=\"text-align: right;\">\n",
       "      <th></th>\n",
       "      <th>Name</th>\n",
       "      <th>Risk</th>\n",
       "    </tr>\n",
       "  </thead>\n",
       "  <tbody>\n",
       "    <tr>\n",
       "      <th>0</th>\n",
       "      <td>MARRIOT MARQUIS CHICAGO</td>\n",
       "      <td>Risk 1 (High)</td>\n",
       "    </tr>\n",
       "    <tr>\n",
       "      <th>1</th>\n",
       "      <td>JETS PIZZA</td>\n",
       "      <td>Risk 2 (Medium)</td>\n",
       "    </tr>\n",
       "    <tr>\n",
       "      <th>2</th>\n",
       "      <td>ROOM 1520</td>\n",
       "      <td>Risk 3 (Low)</td>\n",
       "    </tr>\n",
       "    <tr>\n",
       "      <th>3</th>\n",
       "      <td>MARRIOT MARQUIS CHICAGO</td>\n",
       "      <td>Risk 1 (High)</td>\n",
       "    </tr>\n",
       "    <tr>\n",
       "      <th>4</th>\n",
       "      <td>CHARTWELLS</td>\n",
       "      <td>Risk 1 (High)</td>\n",
       "    </tr>\n",
       "    <tr>\n",
       "      <th>...</th>\n",
       "      <td>...</td>\n",
       "      <td>...</td>\n",
       "    </tr>\n",
       "    <tr>\n",
       "      <th>153805</th>\n",
       "      <td>WOLCOTT'S</td>\n",
       "      <td>Risk 1 (High)</td>\n",
       "    </tr>\n",
       "    <tr>\n",
       "      <th>153806</th>\n",
       "      <td>DUNKIN DONUTS/BASKIN-ROBBINS</td>\n",
       "      <td>Risk 2 (Medium)</td>\n",
       "    </tr>\n",
       "    <tr>\n",
       "      <th>153807</th>\n",
       "      <td>Cafe 608</td>\n",
       "      <td>Risk 1 (High)</td>\n",
       "    </tr>\n",
       "    <tr>\n",
       "      <th>153808</th>\n",
       "      <td>mr.daniel's</td>\n",
       "      <td>Risk 1 (High)</td>\n",
       "    </tr>\n",
       "    <tr>\n",
       "      <th>153809</th>\n",
       "      <td>TEMPO CAFE</td>\n",
       "      <td>Risk 1 (High)</td>\n",
       "    </tr>\n",
       "  </tbody>\n",
       "</table>\n",
       "<p>153810 rows × 2 columns</p>\n",
       "</div>"
      ],
      "text/plain": [
       "                                      Name             Risk\n",
       "0               MARRIOT MARQUIS CHICAGO       Risk 1 (High)\n",
       "1                              JETS PIZZA   Risk 2 (Medium)\n",
       "2                               ROOM 1520      Risk 3 (Low)\n",
       "3                MARRIOT MARQUIS CHICAGO      Risk 1 (High)\n",
       "4                            CHARTWELLS       Risk 1 (High)\n",
       "...                                    ...              ...\n",
       "153805                         WOLCOTT'S      Risk 1 (High)\n",
       "153806     DUNKIN DONUTS/BASKIN-ROBBINS     Risk 2 (Medium)\n",
       "153807                           Cafe 608     Risk 1 (High)\n",
       "153808                        mr.daniel's     Risk 1 (High)\n",
       "153809                         TEMPO CAFE     Risk 1 (High)\n",
       "\n",
       "[153810 rows x 2 columns]"
      ]
     },
     "execution_count": 216,
     "metadata": {},
     "output_type": "execute_result"
    }
   ],
   "source": [
    "chicagoDF"
   ]
  },
  {
   "cell_type": "code",
   "execution_count": 217,
   "id": "ac6ad89d-17cd-40d8-a699-96442c90e73e",
   "metadata": {},
   "outputs": [
    {
     "data": {
      "text/plain": [
       "array([' MARRIOT MARQUIS CHICAGO   ', ' JETS PIZZA ', '   ROOM 1520 ',\n",
       "       '  MARRIOT MARQUIS CHICAGO  ', ' CHARTWELLS   '], dtype=object)"
      ]
     },
     "execution_count": 217,
     "metadata": {},
     "output_type": "execute_result"
    }
   ],
   "source": [
    "chicagoDF['Name'].head().values #공백이 있음."
   ]
  },
  {
   "cell_type": "code",
   "execution_count": 218,
   "id": "8139a034-048c-4aac-8bfa-33ebf3f941ca",
   "metadata": {},
   "outputs": [
    {
     "data": {
      "text/plain": [
       "<pandas.core.strings.accessor.StringMethods at 0x2981a37d3d0>"
      ]
     },
     "execution_count": 218,
     "metadata": {},
     "output_type": "execute_result"
    }
   ],
   "source": [
    "chicagoDF['Name'].str #공백을 처리하기 위해 str로 변경."
   ]
  },
  {
   "cell_type": "code",
   "execution_count": 219,
   "id": "2e790326-4a35-437b-adb3-f0cf0c95b712",
   "metadata": {},
   "outputs": [
    {
     "data": {
      "text/plain": [
       "'cheesecake   '"
      ]
     },
     "execution_count": 219,
     "metadata": {},
     "output_type": "execute_result"
    }
   ],
   "source": [
    "dessert = '  cheesecake   '\n",
    "dessert.lstrip()"
   ]
  },
  {
   "cell_type": "code",
   "execution_count": 220,
   "id": "6a4ab981-5225-4ba3-b4e3-9e7d8dc72f82",
   "metadata": {},
   "outputs": [
    {
     "data": {
      "text/plain": [
       "'  cheesecake'"
      ]
     },
     "execution_count": 220,
     "metadata": {},
     "output_type": "execute_result"
    }
   ],
   "source": [
    "dessert.rstrip()"
   ]
  },
  {
   "cell_type": "code",
   "execution_count": 221,
   "id": "ca73da65-b104-4602-923b-b09da814d218",
   "metadata": {},
   "outputs": [
    {
     "data": {
      "text/plain": [
       "'cheesecake'"
      ]
     },
     "execution_count": 221,
     "metadata": {},
     "output_type": "execute_result"
    }
   ],
   "source": [
    "dessert.strip()"
   ]
  },
  {
   "cell_type": "code",
   "execution_count": 222,
   "id": "753a502c-c4a7-4eb2-9b76-f56a68e473bb",
   "metadata": {},
   "outputs": [
    {
     "data": {
      "text/plain": [
       "0    MARRIOT MARQUIS CHICAGO   \n",
       "1                   JETS PIZZA \n",
       "2                    ROOM 1520 \n",
       "3     MARRIOT MARQUIS CHICAGO  \n",
       "4                 CHARTWELLS   \n",
       "Name: Name, dtype: object"
      ]
     },
     "execution_count": 222,
     "metadata": {},
     "output_type": "execute_result"
    }
   ],
   "source": [
    "chicagoDF['Name'].str.lstrip().head()"
   ]
  },
  {
   "cell_type": "code",
   "execution_count": 223,
   "id": "4aa3837e-93aa-435f-a84e-51038d37e4e1",
   "metadata": {},
   "outputs": [
    {
     "data": {
      "text/plain": [
       "0      MARRIOT MARQUIS CHICAGO\n",
       "1                   JETS PIZZA\n",
       "2                    ROOM 1520\n",
       "3      MARRIOT MARQUIS CHICAGO\n",
       "4                   CHARTWELLS\n",
       "Name: Name, dtype: object"
      ]
     },
     "execution_count": 223,
     "metadata": {},
     "output_type": "execute_result"
    }
   ],
   "source": [
    "chicagoDF['Name'].str.rstrip().head()"
   ]
  },
  {
   "cell_type": "code",
   "execution_count": 224,
   "id": "e73d8336-2db6-4476-9afe-c418cf095987",
   "metadata": {},
   "outputs": [
    {
     "data": {
      "text/plain": [
       "0    MARRIOT MARQUIS CHICAGO\n",
       "1                 JETS PIZZA\n",
       "2                  ROOM 1520\n",
       "3    MARRIOT MARQUIS CHICAGO\n",
       "4                 CHARTWELLS\n",
       "Name: Name, dtype: object"
      ]
     },
     "execution_count": 224,
     "metadata": {},
     "output_type": "execute_result"
    }
   ],
   "source": [
    "chicagoDF['Name'].str.strip().head()"
   ]
  },
  {
   "cell_type": "code",
   "execution_count": 225,
   "id": "5f640226-8bd7-410a-960b-606c21865c38",
   "metadata": {},
   "outputs": [],
   "source": [
    "chicagoDF['Name']=chicagoDF['Name'].str.strip()"
   ]
  },
  {
   "cell_type": "code",
   "execution_count": 226,
   "id": "e9117319-6a92-4d4b-9095-aab93b536cb9",
   "metadata": {},
   "outputs": [
    {
     "data": {
      "text/plain": [
       "Index(['Name', 'Risk'], dtype='object')"
      ]
     },
     "execution_count": 226,
     "metadata": {},
     "output_type": "execute_result"
    }
   ],
   "source": [
    "chicagoDF.columns"
   ]
  },
  {
   "cell_type": "code",
   "execution_count": 227,
   "id": "d0f15c7e-cb22-4b78-b063-0241b4d3c92c",
   "metadata": {},
   "outputs": [],
   "source": [
    "for column in chicagoDF.columns :\n",
    "    chicagoDF[column] = chicagoDF[column].str.strip() #공백삭제 For문"
   ]
  },
  {
   "cell_type": "code",
   "execution_count": 228,
   "id": "10f42c0b-9213-42e6-b834-d782d0776684",
   "metadata": {},
   "outputs": [
    {
     "data": {
      "text/plain": [
       "0    marriot marquis chicago\n",
       "1                 jets pizza\n",
       "2                  room 1520\n",
       "3    marriot marquis chicago\n",
       "4                 chartwells\n",
       "Name: Name, dtype: object"
      ]
     },
     "execution_count": 228,
     "metadata": {},
     "output_type": "execute_result"
    }
   ],
   "source": [
    "chicagoDF['Name'].str.lower().head()"
   ]
  },
  {
   "cell_type": "code",
   "execution_count": 229,
   "id": "f4d59321-f65a-4bfc-a78a-2e5153e3ec34",
   "metadata": {},
   "outputs": [],
   "source": [
    "steak = pd.Series(['porterhouse', 'filet mignon', 'ribeye'])"
   ]
  },
  {
   "cell_type": "code",
   "execution_count": 230,
   "id": "be33b79b-73d4-4e8a-ab07-dcd2ad56a466",
   "metadata": {},
   "outputs": [
    {
     "data": {
      "text/plain": [
       "0     PORTERHOUSE\n",
       "1    FILET MIGNON\n",
       "2          RIBEYE\n",
       "dtype: object"
      ]
     },
     "execution_count": 230,
     "metadata": {},
     "output_type": "execute_result"
    }
   ],
   "source": [
    "steak.str.upper()"
   ]
  },
  {
   "cell_type": "code",
   "execution_count": 231,
   "id": "d27726e4-cb75-4395-978d-91806b30599b",
   "metadata": {},
   "outputs": [
    {
     "data": {
      "text/plain": [
       "0    Marriot marquis chicago\n",
       "1                 Jets pizza\n",
       "2                  Room 1520\n",
       "3    Marriot marquis chicago\n",
       "4                 Chartwells\n",
       "Name: Name, dtype: object"
      ]
     },
     "execution_count": 231,
     "metadata": {},
     "output_type": "execute_result"
    }
   ],
   "source": [
    "chicagoDF['Name'].str.capitalize().head()"
   ]
  },
  {
   "cell_type": "code",
   "execution_count": 232,
   "id": "f67aa9b6-4383-4054-a762-eaab0b991a70",
   "metadata": {},
   "outputs": [
    {
     "data": {
      "text/plain": [
       "0    Marriot Marquis Chicago\n",
       "1                 Jets Pizza\n",
       "2                  Room 1520\n",
       "3    Marriot Marquis Chicago\n",
       "4                 Chartwells\n",
       "Name: Name, dtype: object"
      ]
     },
     "execution_count": 232,
     "metadata": {},
     "output_type": "execute_result"
    }
   ],
   "source": [
    "chicagoDF['Name'].str.title().head()"
   ]
  },
  {
   "cell_type": "markdown",
   "id": "7b136c18-c1f2-4629-996f-a56ce3c128b7",
   "metadata": {},
   "source": [
    "6.2 문자열 슬라이싱"
   ]
  },
  {
   "cell_type": "code",
   "execution_count": 233,
   "id": "199ec670-7d8c-4338-bcc1-f51f27b160c3",
   "metadata": {},
   "outputs": [
    {
     "data": {
      "text/plain": [
       "0      Risk 1 (High)\n",
       "1    Risk 2 (Medium)\n",
       "2       Risk 3 (Low)\n",
       "3      Risk 1 (High)\n",
       "4      Risk 1 (High)\n",
       "Name: Risk, dtype: object"
      ]
     },
     "execution_count": 233,
     "metadata": {},
     "output_type": "execute_result"
    }
   ],
   "source": [
    "chicagoDF['Risk'].head()"
   ]
  },
  {
   "cell_type": "code",
   "execution_count": 234,
   "id": "51d3fc2a-b14f-4c26-b9d0-e77c4811b4e5",
   "metadata": {},
   "outputs": [
    {
     "data": {
      "text/plain": [
       "153810"
      ]
     },
     "execution_count": 234,
     "metadata": {},
     "output_type": "execute_result"
    }
   ],
   "source": [
    "len(chicagoDF) #데이터셋의 길이"
   ]
  },
  {
   "cell_type": "code",
   "execution_count": 235,
   "id": "0e81fdf3-cc0c-47b7-afe7-ecdd601b5575",
   "metadata": {},
   "outputs": [
    {
     "data": {
      "text/plain": [
       "array(['Risk 1 (High)', 'Risk 2 (Medium)', 'Risk 3 (Low)', 'All', nan],\n",
       "      dtype=object)"
      ]
     },
     "execution_count": 235,
     "metadata": {},
     "output_type": "execute_result"
    }
   ],
   "source": [
    "chicagoDF['Risk'].unique() # 고유값의 종류 반환."
   ]
  },
  {
   "cell_type": "code",
   "execution_count": 236,
   "id": "d000637f-e702-4ae7-9572-007345380b61",
   "metadata": {},
   "outputs": [],
   "source": [
    "chicagoDF = chicagoDF.dropna(subset=['Risk']) # Risk 열에 있는 결측값 삭제."
   ]
  },
  {
   "cell_type": "code",
   "execution_count": 237,
   "id": "361763eb-6b75-4cdb-b956-ac1be1838ddf",
   "metadata": {},
   "outputs": [
    {
     "data": {
      "text/html": [
       "<div>\n",
       "<style scoped>\n",
       "    .dataframe tbody tr th:only-of-type {\n",
       "        vertical-align: middle;\n",
       "    }\n",
       "\n",
       "    .dataframe tbody tr th {\n",
       "        vertical-align: top;\n",
       "    }\n",
       "\n",
       "    .dataframe thead th {\n",
       "        text-align: right;\n",
       "    }\n",
       "</style>\n",
       "<table border=\"1\" class=\"dataframe\">\n",
       "  <thead>\n",
       "    <tr style=\"text-align: right;\">\n",
       "      <th></th>\n",
       "      <th>Name</th>\n",
       "      <th>Risk</th>\n",
       "    </tr>\n",
       "  </thead>\n",
       "  <tbody>\n",
       "    <tr>\n",
       "      <th>0</th>\n",
       "      <td>MARRIOT MARQUIS CHICAGO</td>\n",
       "      <td>Risk 1 (High)</td>\n",
       "    </tr>\n",
       "    <tr>\n",
       "      <th>1</th>\n",
       "      <td>JETS PIZZA</td>\n",
       "      <td>Risk 2 (Medium)</td>\n",
       "    </tr>\n",
       "    <tr>\n",
       "      <th>2</th>\n",
       "      <td>ROOM 1520</td>\n",
       "      <td>Risk 3 (Low)</td>\n",
       "    </tr>\n",
       "    <tr>\n",
       "      <th>3</th>\n",
       "      <td>MARRIOT MARQUIS CHICAGO</td>\n",
       "      <td>Risk 1 (High)</td>\n",
       "    </tr>\n",
       "    <tr>\n",
       "      <th>4</th>\n",
       "      <td>CHARTWELLS</td>\n",
       "      <td>Risk 1 (High)</td>\n",
       "    </tr>\n",
       "    <tr>\n",
       "      <th>...</th>\n",
       "      <td>...</td>\n",
       "      <td>...</td>\n",
       "    </tr>\n",
       "    <tr>\n",
       "      <th>153805</th>\n",
       "      <td>WOLCOTT'S</td>\n",
       "      <td>Risk 1 (High)</td>\n",
       "    </tr>\n",
       "    <tr>\n",
       "      <th>153806</th>\n",
       "      <td>DUNKIN DONUTS/BASKIN-ROBBINS</td>\n",
       "      <td>Risk 2 (Medium)</td>\n",
       "    </tr>\n",
       "    <tr>\n",
       "      <th>153807</th>\n",
       "      <td>Cafe 608</td>\n",
       "      <td>Risk 1 (High)</td>\n",
       "    </tr>\n",
       "    <tr>\n",
       "      <th>153808</th>\n",
       "      <td>mr.daniel's</td>\n",
       "      <td>Risk 1 (High)</td>\n",
       "    </tr>\n",
       "    <tr>\n",
       "      <th>153809</th>\n",
       "      <td>TEMPO CAFE</td>\n",
       "      <td>Risk 1 (High)</td>\n",
       "    </tr>\n",
       "  </tbody>\n",
       "</table>\n",
       "<p>153744 rows × 2 columns</p>\n",
       "</div>"
      ],
      "text/plain": [
       "                                Name             Risk\n",
       "0            MARRIOT MARQUIS CHICAGO    Risk 1 (High)\n",
       "1                         JETS PIZZA  Risk 2 (Medium)\n",
       "2                          ROOM 1520     Risk 3 (Low)\n",
       "3            MARRIOT MARQUIS CHICAGO    Risk 1 (High)\n",
       "4                         CHARTWELLS    Risk 1 (High)\n",
       "...                              ...              ...\n",
       "153805                     WOLCOTT'S    Risk 1 (High)\n",
       "153806  DUNKIN DONUTS/BASKIN-ROBBINS  Risk 2 (Medium)\n",
       "153807                      Cafe 608    Risk 1 (High)\n",
       "153808                   mr.daniel's    Risk 1 (High)\n",
       "153809                    TEMPO CAFE    Risk 1 (High)\n",
       "\n",
       "[153744 rows x 2 columns]"
      ]
     },
     "execution_count": 237,
     "metadata": {},
     "output_type": "execute_result"
    }
   ],
   "source": [
    "chicagoDF"
   ]
  },
  {
   "cell_type": "code",
   "execution_count": 238,
   "id": "0ebf719b-61e2-4092-a386-e061dcfb5139",
   "metadata": {},
   "outputs": [
    {
     "data": {
      "text/plain": [
       "array(['Risk 1 (High)', 'Risk 2 (Medium)', 'Risk 3 (Low)', 'All'],\n",
       "      dtype=object)"
      ]
     },
     "execution_count": 238,
     "metadata": {},
     "output_type": "execute_result"
    }
   ],
   "source": [
    "chicagoDF['Risk'].unique()"
   ]
  },
  {
   "cell_type": "markdown",
   "id": "94630bcf-c77a-4a54-8127-0d4c1e6cc8b7",
   "metadata": {},
   "source": [
    "6.3 문자열 슬라이싱과 문자 치환"
   ]
  },
  {
   "cell_type": "code",
   "execution_count": 239,
   "id": "75f54be0-5b63-4fb8-874a-4ed2c5be1c48",
   "metadata": {},
   "outputs": [
    {
     "data": {
      "text/plain": [
       "0    1\n",
       "1    2\n",
       "2    3\n",
       "3    1\n",
       "4    1\n",
       "Name: Risk, dtype: object"
      ]
     },
     "execution_count": 239,
     "metadata": {},
     "output_type": "execute_result"
    }
   ],
   "source": [
    "chicagoDF['Risk'].str.slice(5,6).head() #인덱스 5과 6사이에 있는 것 출력.|"
   ]
  },
  {
   "cell_type": "code",
   "execution_count": 240,
   "id": "34626811-a825-44e9-9a77-69e9c55183bb",
   "metadata": {},
   "outputs": [
    {
     "data": {
      "text/plain": [
       "0    1\n",
       "1    2\n",
       "2    3\n",
       "3    1\n",
       "4    1\n",
       "Name: Risk, dtype: object"
      ]
     },
     "execution_count": 240,
     "metadata": {},
     "output_type": "execute_result"
    }
   ],
   "source": [
    "chicagoDF['Risk'].str[5:6].head() #리스크 번호 출력."
   ]
  },
  {
   "cell_type": "code",
   "execution_count": 241,
   "id": "b128899b-1247-40da-a31e-d37e3d76fbfd",
   "metadata": {},
   "outputs": [
    {
     "data": {
      "text/plain": [
       "0      High)\n",
       "1    Medium)\n",
       "2       Low)\n",
       "3      High)\n",
       "4      High)\n",
       "Name: Risk, dtype: object"
      ]
     },
     "execution_count": 241,
     "metadata": {},
     "output_type": "execute_result"
    }
   ],
   "source": [
    "chicagoDF['Risk'].str.slice(8).head()\n",
    "chicagoDF['Risk'].str[8:].head()"
   ]
  },
  {
   "cell_type": "code",
   "execution_count": 242,
   "id": "5c3ef538-4c5b-40c2-b624-7b5196f960c2",
   "metadata": {},
   "outputs": [
    {
     "data": {
      "text/plain": [
       "0      High\n",
       "1    Medium\n",
       "2       Low\n",
       "3      High\n",
       "4      High\n",
       "Name: Risk, dtype: object"
      ]
     },
     "execution_count": 242,
     "metadata": {},
     "output_type": "execute_result"
    }
   ],
   "source": [
    "chicagoDF['Risk'].str.slice(8, -1).head()"
   ]
  },
  {
   "cell_type": "code",
   "execution_count": 243,
   "id": "2a39a5f6-7bf4-4742-b140-05b89d92465e",
   "metadata": {},
   "outputs": [
    {
     "data": {
      "text/plain": [
       "0      High\n",
       "1    Medium\n",
       "2       Low\n",
       "3      High\n",
       "4      High\n",
       "Name: Risk, dtype: object"
      ]
     },
     "execution_count": 243,
     "metadata": {},
     "output_type": "execute_result"
    }
   ],
   "source": [
    "chicagoDF['Risk'].str[8:-1].head()"
   ]
  },
  {
   "cell_type": "code",
   "execution_count": 244,
   "id": "926e28ac-377b-421c-b67f-4362e0a02da6",
   "metadata": {},
   "outputs": [
    {
     "data": {
      "text/plain": [
       "0      High\n",
       "1    Medium\n",
       "2       Low\n",
       "3      High\n",
       "4      High\n",
       "Name: Risk, dtype: object"
      ]
     },
     "execution_count": 244,
     "metadata": {},
     "output_type": "execute_result"
    }
   ],
   "source": [
    "chicagoDF['Risk'].str.slice(8).str.replace(\")\", \"\").head()"
   ]
  },
  {
   "cell_type": "markdown",
   "id": "17ddf421-ba2b-4117-b15e-b1bccb80fe2a",
   "metadata": {},
   "source": [
    "6.4 불리언 메소드"
   ]
  },
  {
   "cell_type": "code",
   "execution_count": 245,
   "id": "73b3f99e-dc80-4642-9454-53b9f16b9de6",
   "metadata": {},
   "outputs": [
    {
     "data": {
      "text/plain": [
       "True"
      ]
     },
     "execution_count": 245,
     "metadata": {},
     "output_type": "execute_result"
    }
   ],
   "source": [
    "'Pizza' in 'Jets Pizza'"
   ]
  },
  {
   "cell_type": "code",
   "execution_count": 246,
   "id": "65fa3ca5-a2d7-4a4a-81d9-ad4f00170c6a",
   "metadata": {},
   "outputs": [
    {
     "data": {
      "text/plain": [
       "False"
      ]
     },
     "execution_count": 246,
     "metadata": {},
     "output_type": "execute_result"
    }
   ],
   "source": [
    "'pizza' in 'Jets Pizza'"
   ]
  },
  {
   "cell_type": "code",
   "execution_count": 247,
   "id": "37286896-0722-4b44-a7a9-ad9aecaf4216",
   "metadata": {},
   "outputs": [
    {
     "data": {
      "text/plain": [
       "0    False\n",
       "1     True\n",
       "2    False\n",
       "3    False\n",
       "4    False\n",
       "Name: Name, dtype: bool"
      ]
     },
     "execution_count": 247,
     "metadata": {},
     "output_type": "execute_result"
    }
   ],
   "source": [
    "chicagoDF['Name'].str.lower().str.contains('pizza').head()"
   ]
  },
  {
   "cell_type": "code",
   "execution_count": 248,
   "id": "6dc83478-d27c-4caa-b9d5-e5ab6b4aac17",
   "metadata": {},
   "outputs": [],
   "source": [
    "hasPizza = chicagoDF['Name'].str.lower().str.contains('pizza')"
   ]
  },
  {
   "cell_type": "code",
   "execution_count": 249,
   "id": "3d878a4f-c0ac-4aef-a9de-6d91ee85f382",
   "metadata": {},
   "outputs": [
    {
     "data": {
      "text/html": [
       "<div>\n",
       "<style scoped>\n",
       "    .dataframe tbody tr th:only-of-type {\n",
       "        vertical-align: middle;\n",
       "    }\n",
       "\n",
       "    .dataframe tbody tr th {\n",
       "        vertical-align: top;\n",
       "    }\n",
       "\n",
       "    .dataframe thead th {\n",
       "        text-align: right;\n",
       "    }\n",
       "</style>\n",
       "<table border=\"1\" class=\"dataframe\">\n",
       "  <thead>\n",
       "    <tr style=\"text-align: right;\">\n",
       "      <th></th>\n",
       "      <th>Name</th>\n",
       "      <th>Risk</th>\n",
       "    </tr>\n",
       "  </thead>\n",
       "  <tbody>\n",
       "    <tr>\n",
       "      <th>1</th>\n",
       "      <td>JETS PIZZA</td>\n",
       "      <td>Risk 2 (Medium)</td>\n",
       "    </tr>\n",
       "    <tr>\n",
       "      <th>19</th>\n",
       "      <td>NANCY'S HOME OF STUFFED PIZZA</td>\n",
       "      <td>Risk 1 (High)</td>\n",
       "    </tr>\n",
       "    <tr>\n",
       "      <th>27</th>\n",
       "      <td>NARY'S GRILL &amp; PIZZA ,INC.</td>\n",
       "      <td>Risk 1 (High)</td>\n",
       "    </tr>\n",
       "    <tr>\n",
       "      <th>29</th>\n",
       "      <td>NARYS GRILL &amp; PIZZA</td>\n",
       "      <td>Risk 1 (High)</td>\n",
       "    </tr>\n",
       "    <tr>\n",
       "      <th>68</th>\n",
       "      <td>COLUTAS PIZZA</td>\n",
       "      <td>Risk 1 (High)</td>\n",
       "    </tr>\n",
       "    <tr>\n",
       "      <th>...</th>\n",
       "      <td>...</td>\n",
       "      <td>...</td>\n",
       "    </tr>\n",
       "    <tr>\n",
       "      <th>153756</th>\n",
       "      <td>ANGELO'S STUFFED PIZZA CORP</td>\n",
       "      <td>Risk 1 (High)</td>\n",
       "    </tr>\n",
       "    <tr>\n",
       "      <th>153764</th>\n",
       "      <td>COCHIAROS PIZZA #2</td>\n",
       "      <td>Risk 1 (High)</td>\n",
       "    </tr>\n",
       "    <tr>\n",
       "      <th>153772</th>\n",
       "      <td>FERNANDO'S MEXICAN GRILL &amp; PIZZA</td>\n",
       "      <td>Risk 1 (High)</td>\n",
       "    </tr>\n",
       "    <tr>\n",
       "      <th>153788</th>\n",
       "      <td>REGGIO'S PIZZA EXPRESS</td>\n",
       "      <td>Risk 1 (High)</td>\n",
       "    </tr>\n",
       "    <tr>\n",
       "      <th>153801</th>\n",
       "      <td>State Street Pizza Company</td>\n",
       "      <td>Risk 1 (High)</td>\n",
       "    </tr>\n",
       "  </tbody>\n",
       "</table>\n",
       "<p>3992 rows × 2 columns</p>\n",
       "</div>"
      ],
      "text/plain": [
       "                                    Name             Risk\n",
       "1                             JETS PIZZA  Risk 2 (Medium)\n",
       "19         NANCY'S HOME OF STUFFED PIZZA    Risk 1 (High)\n",
       "27            NARY'S GRILL & PIZZA ,INC.    Risk 1 (High)\n",
       "29                   NARYS GRILL & PIZZA    Risk 1 (High)\n",
       "68                         COLUTAS PIZZA    Risk 1 (High)\n",
       "...                                  ...              ...\n",
       "153756       ANGELO'S STUFFED PIZZA CORP    Risk 1 (High)\n",
       "153764                COCHIAROS PIZZA #2    Risk 1 (High)\n",
       "153772  FERNANDO'S MEXICAN GRILL & PIZZA    Risk 1 (High)\n",
       "153788            REGGIO'S PIZZA EXPRESS    Risk 1 (High)\n",
       "153801        State Street Pizza Company    Risk 1 (High)\n",
       "\n",
       "[3992 rows x 2 columns]"
      ]
     },
     "execution_count": 249,
     "metadata": {},
     "output_type": "execute_result"
    }
   ],
   "source": [
    "chicagoDF[hasPizza]"
   ]
  },
  {
   "cell_type": "code",
   "execution_count": 250,
   "id": "b2a39940-eae2-4c44-80fd-42c5b1c5ab80",
   "metadata": {},
   "outputs": [],
   "source": [
    "hasTaco = chicagoDF['Name'].str.lower().str.startswith('taco')"
   ]
  },
  {
   "cell_type": "code",
   "execution_count": 251,
   "id": "a5a3437d-ab04-4112-9bb0-bdfd48c0a505",
   "metadata": {},
   "outputs": [
    {
     "data": {
      "text/html": [
       "<div>\n",
       "<style scoped>\n",
       "    .dataframe tbody tr th:only-of-type {\n",
       "        vertical-align: middle;\n",
       "    }\n",
       "\n",
       "    .dataframe tbody tr th {\n",
       "        vertical-align: top;\n",
       "    }\n",
       "\n",
       "    .dataframe thead th {\n",
       "        text-align: right;\n",
       "    }\n",
       "</style>\n",
       "<table border=\"1\" class=\"dataframe\">\n",
       "  <thead>\n",
       "    <tr style=\"text-align: right;\">\n",
       "      <th></th>\n",
       "      <th>Name</th>\n",
       "      <th>Risk</th>\n",
       "    </tr>\n",
       "  </thead>\n",
       "  <tbody>\n",
       "    <tr>\n",
       "      <th>69</th>\n",
       "      <td>TACOS NIETOS</td>\n",
       "      <td>Risk 1 (High)</td>\n",
       "    </tr>\n",
       "    <tr>\n",
       "      <th>199</th>\n",
       "      <td>TACO BELL #30408</td>\n",
       "      <td>Risk 1 (High)</td>\n",
       "    </tr>\n",
       "    <tr>\n",
       "      <th>292</th>\n",
       "      <td>TACO IN A BAG STORE 1, LLC</td>\n",
       "      <td>Risk 1 (High)</td>\n",
       "    </tr>\n",
       "    <tr>\n",
       "      <th>556</th>\n",
       "      <td>TACOS EL TIO 2 INC.</td>\n",
       "      <td>Risk 1 (High)</td>\n",
       "    </tr>\n",
       "    <tr>\n",
       "      <th>675</th>\n",
       "      <td>TACOS DON GABINO</td>\n",
       "      <td>Risk 1 (High)</td>\n",
       "    </tr>\n",
       "    <tr>\n",
       "      <th>...</th>\n",
       "      <td>...</td>\n",
       "      <td>...</td>\n",
       "    </tr>\n",
       "    <tr>\n",
       "      <th>153138</th>\n",
       "      <td>TACO BELL</td>\n",
       "      <td>Risk 1 (High)</td>\n",
       "    </tr>\n",
       "    <tr>\n",
       "      <th>153144</th>\n",
       "      <td>TACO FRESCO</td>\n",
       "      <td>Risk 1 (High)</td>\n",
       "    </tr>\n",
       "    <tr>\n",
       "      <th>153331</th>\n",
       "      <td>TACO EL JALICIENSE</td>\n",
       "      <td>Risk 1 (High)</td>\n",
       "    </tr>\n",
       "    <tr>\n",
       "      <th>153548</th>\n",
       "      <td>TACO CHINO</td>\n",
       "      <td>Risk 1 (High)</td>\n",
       "    </tr>\n",
       "    <tr>\n",
       "      <th>153728</th>\n",
       "      <td>TACO CHINO</td>\n",
       "      <td>Risk 1 (High)</td>\n",
       "    </tr>\n",
       "  </tbody>\n",
       "</table>\n",
       "<p>718 rows × 2 columns</p>\n",
       "</div>"
      ],
      "text/plain": [
       "                              Name           Risk\n",
       "69                    TACOS NIETOS  Risk 1 (High)\n",
       "199               TACO BELL #30408  Risk 1 (High)\n",
       "292     TACO IN A BAG STORE 1, LLC  Risk 1 (High)\n",
       "556            TACOS EL TIO 2 INC.  Risk 1 (High)\n",
       "675               TACOS DON GABINO  Risk 1 (High)\n",
       "...                            ...            ...\n",
       "153138                   TACO BELL  Risk 1 (High)\n",
       "153144                 TACO FRESCO  Risk 1 (High)\n",
       "153331          TACO EL JALICIENSE  Risk 1 (High)\n",
       "153548                  TACO CHINO  Risk 1 (High)\n",
       "153728                  TACO CHINO  Risk 1 (High)\n",
       "\n",
       "[718 rows x 2 columns]"
      ]
     },
     "execution_count": 251,
     "metadata": {},
     "output_type": "execute_result"
    }
   ],
   "source": [
    "chicagoDF[hasTaco]"
   ]
  },
  {
   "cell_type": "code",
   "execution_count": 252,
   "id": "7037bf4e-7963-42c3-8435-e59b1cfddc1c",
   "metadata": {},
   "outputs": [],
   "source": [
    "endTaco = (chicagoDF['Name'].str.lower().str.endswith(\"tacos\"))"
   ]
  },
  {
   "cell_type": "code",
   "execution_count": 253,
   "id": "aac4282b-a6a8-43f9-932f-afcaac785aec",
   "metadata": {},
   "outputs": [
    {
     "data": {
      "text/html": [
       "<div>\n",
       "<style scoped>\n",
       "    .dataframe tbody tr th:only-of-type {\n",
       "        vertical-align: middle;\n",
       "    }\n",
       "\n",
       "    .dataframe tbody tr th {\n",
       "        vertical-align: top;\n",
       "    }\n",
       "\n",
       "    .dataframe thead th {\n",
       "        text-align: right;\n",
       "    }\n",
       "</style>\n",
       "<table border=\"1\" class=\"dataframe\">\n",
       "  <thead>\n",
       "    <tr style=\"text-align: right;\">\n",
       "      <th></th>\n",
       "      <th>Name</th>\n",
       "      <th>Risk</th>\n",
       "    </tr>\n",
       "  </thead>\n",
       "  <tbody>\n",
       "    <tr>\n",
       "      <th>382</th>\n",
       "      <td>LAZO'S TACOS</td>\n",
       "      <td>Risk 1 (High)</td>\n",
       "    </tr>\n",
       "    <tr>\n",
       "      <th>569</th>\n",
       "      <td>LAZO'S TACOS</td>\n",
       "      <td>Risk 1 (High)</td>\n",
       "    </tr>\n",
       "    <tr>\n",
       "      <th>2652</th>\n",
       "      <td>FLYING TACOS</td>\n",
       "      <td>Risk 3 (Low)</td>\n",
       "    </tr>\n",
       "    <tr>\n",
       "      <th>3250</th>\n",
       "      <td>JONY'S TACOS</td>\n",
       "      <td>Risk 1 (High)</td>\n",
       "    </tr>\n",
       "    <tr>\n",
       "      <th>3812</th>\n",
       "      <td>PACO'S TACOS</td>\n",
       "      <td>Risk 1 (High)</td>\n",
       "    </tr>\n",
       "    <tr>\n",
       "      <th>...</th>\n",
       "      <td>...</td>\n",
       "      <td>...</td>\n",
       "    </tr>\n",
       "    <tr>\n",
       "      <th>151121</th>\n",
       "      <td>REYES TACOS</td>\n",
       "      <td>Risk 1 (High)</td>\n",
       "    </tr>\n",
       "    <tr>\n",
       "      <th>151318</th>\n",
       "      <td>EL MACHO TACOS</td>\n",
       "      <td>Risk 1 (High)</td>\n",
       "    </tr>\n",
       "    <tr>\n",
       "      <th>151801</th>\n",
       "      <td>EL MACHO TACOS</td>\n",
       "      <td>Risk 1 (High)</td>\n",
       "    </tr>\n",
       "    <tr>\n",
       "      <th>153087</th>\n",
       "      <td>RAYMOND'S TACOS</td>\n",
       "      <td>Risk 1 (High)</td>\n",
       "    </tr>\n",
       "    <tr>\n",
       "      <th>153504</th>\n",
       "      <td>MIS TACOS</td>\n",
       "      <td>Risk 1 (High)</td>\n",
       "    </tr>\n",
       "  </tbody>\n",
       "</table>\n",
       "<p>304 rows × 2 columns</p>\n",
       "</div>"
      ],
      "text/plain": [
       "                   Name           Risk\n",
       "382        LAZO'S TACOS  Risk 1 (High)\n",
       "569        LAZO'S TACOS  Risk 1 (High)\n",
       "2652       FLYING TACOS   Risk 3 (Low)\n",
       "3250       JONY'S TACOS  Risk 1 (High)\n",
       "3812       PACO'S TACOS  Risk 1 (High)\n",
       "...                 ...            ...\n",
       "151121      REYES TACOS  Risk 1 (High)\n",
       "151318   EL MACHO TACOS  Risk 1 (High)\n",
       "151801   EL MACHO TACOS  Risk 1 (High)\n",
       "153087  RAYMOND'S TACOS  Risk 1 (High)\n",
       "153504        MIS TACOS  Risk 1 (High)\n",
       "\n",
       "[304 rows x 2 columns]"
      ]
     },
     "execution_count": 253,
     "metadata": {},
     "output_type": "execute_result"
    }
   ],
   "source": [
    "chicagoDF[endTaco]"
   ]
  },
  {
   "cell_type": "markdown",
   "id": "d733008c-1df8-49bc-b797-973da78aba8b",
   "metadata": {},
   "source": [
    "6.5. 문자열 분할"
   ]
  },
  {
   "cell_type": "code",
   "execution_count": 254,
   "id": "ed136299-7e7b-4065-8624-4a7245556d3a",
   "metadata": {},
   "outputs": [],
   "source": [
    "file2 = '../DATA/customers.csv'"
   ]
  },
  {
   "cell_type": "code",
   "execution_count": 255,
   "id": "edbc600d-ffd8-42fe-94ef-60abbb6fc450",
   "metadata": {},
   "outputs": [],
   "source": [
    "cusDF = pd.read_csv(file2)"
   ]
  },
  {
   "cell_type": "code",
   "execution_count": 256,
   "id": "88edf2da-e4a9-4575-8438-999b4c64dcfb",
   "metadata": {},
   "outputs": [
    {
     "data": {
      "text/html": [
       "<div>\n",
       "<style scoped>\n",
       "    .dataframe tbody tr th:only-of-type {\n",
       "        vertical-align: middle;\n",
       "    }\n",
       "\n",
       "    .dataframe tbody tr th {\n",
       "        vertical-align: top;\n",
       "    }\n",
       "\n",
       "    .dataframe thead th {\n",
       "        text-align: right;\n",
       "    }\n",
       "</style>\n",
       "<table border=\"1\" class=\"dataframe\">\n",
       "  <thead>\n",
       "    <tr style=\"text-align: right;\">\n",
       "      <th></th>\n",
       "      <th>Name</th>\n",
       "      <th>Address</th>\n",
       "    </tr>\n",
       "  </thead>\n",
       "  <tbody>\n",
       "    <tr>\n",
       "      <th>0</th>\n",
       "      <td>Frank Manning</td>\n",
       "      <td>6461 Quinn Groves, East Matthew, New Hampshire...</td>\n",
       "    </tr>\n",
       "    <tr>\n",
       "      <th>1</th>\n",
       "      <td>Elizabeth Johnson</td>\n",
       "      <td>1360 Tracey Ports Apt. 419, Kyleport, Vermont,...</td>\n",
       "    </tr>\n",
       "    <tr>\n",
       "      <th>2</th>\n",
       "      <td>Donald Stephens</td>\n",
       "      <td>19120 Fleming Manors, Prestonstad, Montana, 23495</td>\n",
       "    </tr>\n",
       "    <tr>\n",
       "      <th>3</th>\n",
       "      <td>Michael Vincent III</td>\n",
       "      <td>441 Olivia Creek, Jimmymouth, Georgia, 82991</td>\n",
       "    </tr>\n",
       "    <tr>\n",
       "      <th>4</th>\n",
       "      <td>Jasmine Zamora</td>\n",
       "      <td>4246 Chelsey Ford Apt. 310, Karamouth, Utah, 7...</td>\n",
       "    </tr>\n",
       "    <tr>\n",
       "      <th>...</th>\n",
       "      <td>...</td>\n",
       "      <td>...</td>\n",
       "    </tr>\n",
       "    <tr>\n",
       "      <th>9956</th>\n",
       "      <td>Dana Browning</td>\n",
       "      <td>762 Andrew Views Apt. 254, North Paul, New Mex...</td>\n",
       "    </tr>\n",
       "    <tr>\n",
       "      <th>9957</th>\n",
       "      <td>Amanda Anderson</td>\n",
       "      <td>44188 Day Crest Apt. 901, Lake Marcia, Maine, ...</td>\n",
       "    </tr>\n",
       "    <tr>\n",
       "      <th>9958</th>\n",
       "      <td>Eric Davis</td>\n",
       "      <td>73015 Michelle Squares, Watsonville, West Virg...</td>\n",
       "    </tr>\n",
       "    <tr>\n",
       "      <th>9959</th>\n",
       "      <td>Taylor Hernandez</td>\n",
       "      <td>129 Keith Greens, Haleyfurt, Oklahoma, 98916</td>\n",
       "    </tr>\n",
       "    <tr>\n",
       "      <th>9960</th>\n",
       "      <td>Sherry Nicholson</td>\n",
       "      <td>355 Griffin Valley, Davidtown, New Mexico, 17581</td>\n",
       "    </tr>\n",
       "  </tbody>\n",
       "</table>\n",
       "<p>9961 rows × 2 columns</p>\n",
       "</div>"
      ],
      "text/plain": [
       "                     Name                                            Address\n",
       "0           Frank Manning  6461 Quinn Groves, East Matthew, New Hampshire...\n",
       "1       Elizabeth Johnson  1360 Tracey Ports Apt. 419, Kyleport, Vermont,...\n",
       "2         Donald Stephens  19120 Fleming Manors, Prestonstad, Montana, 23495\n",
       "3     Michael Vincent III       441 Olivia Creek, Jimmymouth, Georgia, 82991\n",
       "4          Jasmine Zamora  4246 Chelsey Ford Apt. 310, Karamouth, Utah, 7...\n",
       "...                   ...                                                ...\n",
       "9956        Dana Browning  762 Andrew Views Apt. 254, North Paul, New Mex...\n",
       "9957      Amanda Anderson  44188 Day Crest Apt. 901, Lake Marcia, Maine, ...\n",
       "9958           Eric Davis  73015 Michelle Squares, Watsonville, West Virg...\n",
       "9959     Taylor Hernandez       129 Keith Greens, Haleyfurt, Oklahoma, 98916\n",
       "9960     Sherry Nicholson   355 Griffin Valley, Davidtown, New Mexico, 17581\n",
       "\n",
       "[9961 rows x 2 columns]"
      ]
     },
     "execution_count": 256,
     "metadata": {},
     "output_type": "execute_result"
    }
   ],
   "source": [
    "cusDF"
   ]
  },
  {
   "cell_type": "code",
   "execution_count": 257,
   "id": "4f0c595c-94a6-4bdd-98c9-f9f5036c075f",
   "metadata": {},
   "outputs": [],
   "source": [
    "phone_number = '555-123-4567'"
   ]
  },
  {
   "cell_type": "code",
   "execution_count": 258,
   "id": "2fff2d57-7743-4759-9c7f-432621e27910",
   "metadata": {},
   "outputs": [
    {
     "data": {
      "text/plain": [
       "['555', '123', '4567']"
      ]
     },
     "execution_count": 258,
     "metadata": {},
     "output_type": "execute_result"
    }
   ],
   "source": [
    "phone_number.split('-')"
   ]
  },
  {
   "cell_type": "code",
   "execution_count": 259,
   "id": "f3a4696c-2a5e-4137-a41a-f37d225882bb",
   "metadata": {},
   "outputs": [
    {
     "data": {
      "text/plain": [
       "0           [Frank, Manning]\n",
       "1       [Elizabeth, Johnson]\n",
       "2         [Donald, Stephens]\n",
       "3    [Michael, Vincent, III]\n",
       "4          [Jasmine, Zamora]\n",
       "Name: Name, dtype: object"
      ]
     },
     "execution_count": 259,
     "metadata": {},
     "output_type": "execute_result"
    }
   ],
   "source": [
    "cusDF['Name'].str.split(\" \").head()"
   ]
  },
  {
   "cell_type": "code",
   "execution_count": 260,
   "id": "71cf19f6-cd85-4123-bf7d-98b1e469b17e",
   "metadata": {},
   "outputs": [
    {
     "data": {
      "text/plain": [
       "0    2\n",
       "1    2\n",
       "2    2\n",
       "3    3\n",
       "4    2\n",
       "Name: Name, dtype: int64"
      ]
     },
     "execution_count": 260,
     "metadata": {},
     "output_type": "execute_result"
    }
   ],
   "source": [
    "cusDF['Name'].str.split(\" \").str.len().head()"
   ]
  },
  {
   "cell_type": "code",
   "execution_count": 261,
   "id": "54b54095-fca7-4def-aaed-fdf0fc70eb16",
   "metadata": {},
   "outputs": [
    {
     "data": {
      "text/plain": [
       "0          [Frank, Manning]\n",
       "1      [Elizabeth, Johnson]\n",
       "2        [Donald, Stephens]\n",
       "3    [Michael, Vincent III]\n",
       "4         [Jasmine, Zamora]\n",
       "Name: Name, dtype: object"
      ]
     },
     "execution_count": 261,
     "metadata": {},
     "output_type": "execute_result"
    }
   ],
   "source": [
    "cusDF['Name'].str.split(pat = ' ', n =1).head()"
   ]
  },
  {
   "cell_type": "code",
   "execution_count": 262,
   "id": "368555db-b571-4cb1-a8aa-f09073fe5e29",
   "metadata": {},
   "outputs": [
    {
     "data": {
      "text/plain": [
       "0        Frank\n",
       "1    Elizabeth\n",
       "2       Donald\n",
       "3      Michael\n",
       "4      Jasmine\n",
       "Name: Name, dtype: object"
      ]
     },
     "execution_count": 262,
     "metadata": {},
     "output_type": "execute_result"
    }
   ],
   "source": [
    "cusDF['Name'].str.split(pat = ' ', n=1).str.get(0).head() #str.get(0) 각 행의 리스트에서 값을 가져올 수 있습니다."
   ]
  },
  {
   "cell_type": "code",
   "execution_count": 263,
   "id": "cfdeff27-2be0-4c35-a1ad-2fe0c4afc88d",
   "metadata": {},
   "outputs": [
    {
     "data": {
      "text/plain": [
       "0        Manning\n",
       "1        Johnson\n",
       "2       Stephens\n",
       "3    Vincent III\n",
       "4         Zamora\n",
       "Name: Name, dtype: object"
      ]
     },
     "execution_count": 263,
     "metadata": {},
     "output_type": "execute_result"
    }
   ],
   "source": [
    "cusDF['Name'].str.split(pat = ' ', n=1).str.get(1).head()"
   ]
  },
  {
   "cell_type": "code",
   "execution_count": 264,
   "id": "fb818bd1-ba93-4c66-9105-3561bbdeabf3",
   "metadata": {},
   "outputs": [
    {
     "data": {
      "text/plain": [
       "0        Manning\n",
       "1        Johnson\n",
       "2       Stephens\n",
       "3    Vincent III\n",
       "4         Zamora\n",
       "Name: Name, dtype: object"
      ]
     },
     "execution_count": 264,
     "metadata": {},
     "output_type": "execute_result"
    }
   ],
   "source": [
    "cusDF['Name'].str.split(pat = ' ', n=1).str.get(-1).head()"
   ]
  },
  {
   "cell_type": "code",
   "execution_count": 265,
   "id": "8024feb1-1ded-40f9-8f53-799d2469ee3c",
   "metadata": {},
   "outputs": [
    {
     "data": {
      "text/html": [
       "<div>\n",
       "<style scoped>\n",
       "    .dataframe tbody tr th:only-of-type {\n",
       "        vertical-align: middle;\n",
       "    }\n",
       "\n",
       "    .dataframe tbody tr th {\n",
       "        vertical-align: top;\n",
       "    }\n",
       "\n",
       "    .dataframe thead th {\n",
       "        text-align: right;\n",
       "    }\n",
       "</style>\n",
       "<table border=\"1\" class=\"dataframe\">\n",
       "  <thead>\n",
       "    <tr style=\"text-align: right;\">\n",
       "      <th></th>\n",
       "      <th>0</th>\n",
       "      <th>1</th>\n",
       "    </tr>\n",
       "  </thead>\n",
       "  <tbody>\n",
       "    <tr>\n",
       "      <th>0</th>\n",
       "      <td>Frank</td>\n",
       "      <td>Manning</td>\n",
       "    </tr>\n",
       "    <tr>\n",
       "      <th>1</th>\n",
       "      <td>Elizabeth</td>\n",
       "      <td>Johnson</td>\n",
       "    </tr>\n",
       "    <tr>\n",
       "      <th>2</th>\n",
       "      <td>Donald</td>\n",
       "      <td>Stephens</td>\n",
       "    </tr>\n",
       "    <tr>\n",
       "      <th>3</th>\n",
       "      <td>Michael</td>\n",
       "      <td>Vincent III</td>\n",
       "    </tr>\n",
       "    <tr>\n",
       "      <th>4</th>\n",
       "      <td>Jasmine</td>\n",
       "      <td>Zamora</td>\n",
       "    </tr>\n",
       "  </tbody>\n",
       "</table>\n",
       "</div>"
      ],
      "text/plain": [
       "           0            1\n",
       "0      Frank      Manning\n",
       "1  Elizabeth      Johnson\n",
       "2     Donald     Stephens\n",
       "3    Michael  Vincent III\n",
       "4    Jasmine       Zamora"
      ]
     },
     "execution_count": 265,
     "metadata": {},
     "output_type": "execute_result"
    }
   ],
   "source": [
    "cusDF['Name'].str.split(pat = ' ', n=1, expand = True).head()"
   ]
  },
  {
   "cell_type": "code",
   "execution_count": 266,
   "id": "5f01cf31-f9c3-4528-af35-8938e5147422",
   "metadata": {},
   "outputs": [
    {
     "data": {
      "text/html": [
       "<div>\n",
       "<style scoped>\n",
       "    .dataframe tbody tr th:only-of-type {\n",
       "        vertical-align: middle;\n",
       "    }\n",
       "\n",
       "    .dataframe tbody tr th {\n",
       "        vertical-align: top;\n",
       "    }\n",
       "\n",
       "    .dataframe thead th {\n",
       "        text-align: right;\n",
       "    }\n",
       "</style>\n",
       "<table border=\"1\" class=\"dataframe\">\n",
       "  <thead>\n",
       "    <tr style=\"text-align: right;\">\n",
       "      <th></th>\n",
       "      <th>0</th>\n",
       "      <th>1</th>\n",
       "    </tr>\n",
       "  </thead>\n",
       "  <tbody>\n",
       "    <tr>\n",
       "      <th>0</th>\n",
       "      <td>Frank</td>\n",
       "      <td>Manning</td>\n",
       "    </tr>\n",
       "    <tr>\n",
       "      <th>1</th>\n",
       "      <td>Elizabeth</td>\n",
       "      <td>Johnson</td>\n",
       "    </tr>\n",
       "    <tr>\n",
       "      <th>2</th>\n",
       "      <td>Donald</td>\n",
       "      <td>Stephens</td>\n",
       "    </tr>\n",
       "    <tr>\n",
       "      <th>3</th>\n",
       "      <td>Michael</td>\n",
       "      <td>Vincent III</td>\n",
       "    </tr>\n",
       "    <tr>\n",
       "      <th>4</th>\n",
       "      <td>Jasmine</td>\n",
       "      <td>Zamora</td>\n",
       "    </tr>\n",
       "  </tbody>\n",
       "</table>\n",
       "</div>"
      ],
      "text/plain": [
       "           0            1\n",
       "0      Frank      Manning\n",
       "1  Elizabeth      Johnson\n",
       "2     Donald     Stephens\n",
       "3    Michael  Vincent III\n",
       "4    Jasmine       Zamora"
      ]
     },
     "execution_count": 266,
     "metadata": {},
     "output_type": "execute_result"
    }
   ],
   "source": [
    "cusDF['Name'].str.split(pat = ' ', n=1, expand = True).head()"
   ]
  },
  {
   "cell_type": "code",
   "execution_count": 268,
   "id": "d873beef-328b-4565-af72-1ee8cfc7a3dd",
   "metadata": {},
   "outputs": [],
   "source": [
    "cusDF[[\"First Name\", \"Last Name\"]] = cusDF[\"Name\"].str.split(pat = \" \", n =1, expand = True)"
   ]
  },
  {
   "cell_type": "code",
   "execution_count": 269,
   "id": "049cfdf1-3764-4879-8387-f22750a8f880",
   "metadata": {},
   "outputs": [
    {
     "data": {
      "text/html": [
       "<div>\n",
       "<style scoped>\n",
       "    .dataframe tbody tr th:only-of-type {\n",
       "        vertical-align: middle;\n",
       "    }\n",
       "\n",
       "    .dataframe tbody tr th {\n",
       "        vertical-align: top;\n",
       "    }\n",
       "\n",
       "    .dataframe thead th {\n",
       "        text-align: right;\n",
       "    }\n",
       "</style>\n",
       "<table border=\"1\" class=\"dataframe\">\n",
       "  <thead>\n",
       "    <tr style=\"text-align: right;\">\n",
       "      <th></th>\n",
       "      <th>Name</th>\n",
       "      <th>Address</th>\n",
       "      <th>First Name</th>\n",
       "      <th>Last Name</th>\n",
       "    </tr>\n",
       "  </thead>\n",
       "  <tbody>\n",
       "    <tr>\n",
       "      <th>0</th>\n",
       "      <td>Frank Manning</td>\n",
       "      <td>6461 Quinn Groves, East Matthew, New Hampshire...</td>\n",
       "      <td>Frank</td>\n",
       "      <td>Manning</td>\n",
       "    </tr>\n",
       "    <tr>\n",
       "      <th>1</th>\n",
       "      <td>Elizabeth Johnson</td>\n",
       "      <td>1360 Tracey Ports Apt. 419, Kyleport, Vermont,...</td>\n",
       "      <td>Elizabeth</td>\n",
       "      <td>Johnson</td>\n",
       "    </tr>\n",
       "    <tr>\n",
       "      <th>2</th>\n",
       "      <td>Donald Stephens</td>\n",
       "      <td>19120 Fleming Manors, Prestonstad, Montana, 23495</td>\n",
       "      <td>Donald</td>\n",
       "      <td>Stephens</td>\n",
       "    </tr>\n",
       "    <tr>\n",
       "      <th>3</th>\n",
       "      <td>Michael Vincent III</td>\n",
       "      <td>441 Olivia Creek, Jimmymouth, Georgia, 82991</td>\n",
       "      <td>Michael</td>\n",
       "      <td>Vincent III</td>\n",
       "    </tr>\n",
       "    <tr>\n",
       "      <th>4</th>\n",
       "      <td>Jasmine Zamora</td>\n",
       "      <td>4246 Chelsey Ford Apt. 310, Karamouth, Utah, 7...</td>\n",
       "      <td>Jasmine</td>\n",
       "      <td>Zamora</td>\n",
       "    </tr>\n",
       "    <tr>\n",
       "      <th>...</th>\n",
       "      <td>...</td>\n",
       "      <td>...</td>\n",
       "      <td>...</td>\n",
       "      <td>...</td>\n",
       "    </tr>\n",
       "    <tr>\n",
       "      <th>9956</th>\n",
       "      <td>Dana Browning</td>\n",
       "      <td>762 Andrew Views Apt. 254, North Paul, New Mex...</td>\n",
       "      <td>Dana</td>\n",
       "      <td>Browning</td>\n",
       "    </tr>\n",
       "    <tr>\n",
       "      <th>9957</th>\n",
       "      <td>Amanda Anderson</td>\n",
       "      <td>44188 Day Crest Apt. 901, Lake Marcia, Maine, ...</td>\n",
       "      <td>Amanda</td>\n",
       "      <td>Anderson</td>\n",
       "    </tr>\n",
       "    <tr>\n",
       "      <th>9958</th>\n",
       "      <td>Eric Davis</td>\n",
       "      <td>73015 Michelle Squares, Watsonville, West Virg...</td>\n",
       "      <td>Eric</td>\n",
       "      <td>Davis</td>\n",
       "    </tr>\n",
       "    <tr>\n",
       "      <th>9959</th>\n",
       "      <td>Taylor Hernandez</td>\n",
       "      <td>129 Keith Greens, Haleyfurt, Oklahoma, 98916</td>\n",
       "      <td>Taylor</td>\n",
       "      <td>Hernandez</td>\n",
       "    </tr>\n",
       "    <tr>\n",
       "      <th>9960</th>\n",
       "      <td>Sherry Nicholson</td>\n",
       "      <td>355 Griffin Valley, Davidtown, New Mexico, 17581</td>\n",
       "      <td>Sherry</td>\n",
       "      <td>Nicholson</td>\n",
       "    </tr>\n",
       "  </tbody>\n",
       "</table>\n",
       "<p>9961 rows × 4 columns</p>\n",
       "</div>"
      ],
      "text/plain": [
       "                     Name                                            Address  \\\n",
       "0           Frank Manning  6461 Quinn Groves, East Matthew, New Hampshire...   \n",
       "1       Elizabeth Johnson  1360 Tracey Ports Apt. 419, Kyleport, Vermont,...   \n",
       "2         Donald Stephens  19120 Fleming Manors, Prestonstad, Montana, 23495   \n",
       "3     Michael Vincent III       441 Olivia Creek, Jimmymouth, Georgia, 82991   \n",
       "4          Jasmine Zamora  4246 Chelsey Ford Apt. 310, Karamouth, Utah, 7...   \n",
       "...                   ...                                                ...   \n",
       "9956        Dana Browning  762 Andrew Views Apt. 254, North Paul, New Mex...   \n",
       "9957      Amanda Anderson  44188 Day Crest Apt. 901, Lake Marcia, Maine, ...   \n",
       "9958           Eric Davis  73015 Michelle Squares, Watsonville, West Virg...   \n",
       "9959     Taylor Hernandez       129 Keith Greens, Haleyfurt, Oklahoma, 98916   \n",
       "9960     Sherry Nicholson   355 Griffin Valley, Davidtown, New Mexico, 17581   \n",
       "\n",
       "     First Name    Last Name  \n",
       "0         Frank      Manning  \n",
       "1     Elizabeth      Johnson  \n",
       "2        Donald     Stephens  \n",
       "3       Michael  Vincent III  \n",
       "4       Jasmine       Zamora  \n",
       "...         ...          ...  \n",
       "9956       Dana     Browning  \n",
       "9957     Amanda     Anderson  \n",
       "9958       Eric        Davis  \n",
       "9959     Taylor    Hernandez  \n",
       "9960     Sherry    Nicholson  \n",
       "\n",
       "[9961 rows x 4 columns]"
      ]
     },
     "execution_count": 269,
     "metadata": {},
     "output_type": "execute_result"
    }
   ],
   "source": [
    "cusDF"
   ]
  },
  {
   "cell_type": "code",
   "execution_count": 270,
   "id": "6af5765d-9191-43ee-a495-6b5698104f60",
   "metadata": {},
   "outputs": [],
   "source": [
    "cusDF=cusDF.drop(labels ='Name', axis ='columns')"
   ]
  },
  {
   "cell_type": "code",
   "execution_count": 271,
   "id": "78f3a50c-9688-49b6-be56-a4f87a5828c9",
   "metadata": {},
   "outputs": [
    {
     "data": {
      "text/html": [
       "<div>\n",
       "<style scoped>\n",
       "    .dataframe tbody tr th:only-of-type {\n",
       "        vertical-align: middle;\n",
       "    }\n",
       "\n",
       "    .dataframe tbody tr th {\n",
       "        vertical-align: top;\n",
       "    }\n",
       "\n",
       "    .dataframe thead th {\n",
       "        text-align: right;\n",
       "    }\n",
       "</style>\n",
       "<table border=\"1\" class=\"dataframe\">\n",
       "  <thead>\n",
       "    <tr style=\"text-align: right;\">\n",
       "      <th></th>\n",
       "      <th>Address</th>\n",
       "      <th>First Name</th>\n",
       "      <th>Last Name</th>\n",
       "    </tr>\n",
       "  </thead>\n",
       "  <tbody>\n",
       "    <tr>\n",
       "      <th>0</th>\n",
       "      <td>6461 Quinn Groves, East Matthew, New Hampshire...</td>\n",
       "      <td>Frank</td>\n",
       "      <td>Manning</td>\n",
       "    </tr>\n",
       "    <tr>\n",
       "      <th>1</th>\n",
       "      <td>1360 Tracey Ports Apt. 419, Kyleport, Vermont,...</td>\n",
       "      <td>Elizabeth</td>\n",
       "      <td>Johnson</td>\n",
       "    </tr>\n",
       "    <tr>\n",
       "      <th>2</th>\n",
       "      <td>19120 Fleming Manors, Prestonstad, Montana, 23495</td>\n",
       "      <td>Donald</td>\n",
       "      <td>Stephens</td>\n",
       "    </tr>\n",
       "    <tr>\n",
       "      <th>3</th>\n",
       "      <td>441 Olivia Creek, Jimmymouth, Georgia, 82991</td>\n",
       "      <td>Michael</td>\n",
       "      <td>Vincent III</td>\n",
       "    </tr>\n",
       "    <tr>\n",
       "      <th>4</th>\n",
       "      <td>4246 Chelsey Ford Apt. 310, Karamouth, Utah, 7...</td>\n",
       "      <td>Jasmine</td>\n",
       "      <td>Zamora</td>\n",
       "    </tr>\n",
       "    <tr>\n",
       "      <th>...</th>\n",
       "      <td>...</td>\n",
       "      <td>...</td>\n",
       "      <td>...</td>\n",
       "    </tr>\n",
       "    <tr>\n",
       "      <th>9956</th>\n",
       "      <td>762 Andrew Views Apt. 254, North Paul, New Mex...</td>\n",
       "      <td>Dana</td>\n",
       "      <td>Browning</td>\n",
       "    </tr>\n",
       "    <tr>\n",
       "      <th>9957</th>\n",
       "      <td>44188 Day Crest Apt. 901, Lake Marcia, Maine, ...</td>\n",
       "      <td>Amanda</td>\n",
       "      <td>Anderson</td>\n",
       "    </tr>\n",
       "    <tr>\n",
       "      <th>9958</th>\n",
       "      <td>73015 Michelle Squares, Watsonville, West Virg...</td>\n",
       "      <td>Eric</td>\n",
       "      <td>Davis</td>\n",
       "    </tr>\n",
       "    <tr>\n",
       "      <th>9959</th>\n",
       "      <td>129 Keith Greens, Haleyfurt, Oklahoma, 98916</td>\n",
       "      <td>Taylor</td>\n",
       "      <td>Hernandez</td>\n",
       "    </tr>\n",
       "    <tr>\n",
       "      <th>9960</th>\n",
       "      <td>355 Griffin Valley, Davidtown, New Mexico, 17581</td>\n",
       "      <td>Sherry</td>\n",
       "      <td>Nicholson</td>\n",
       "    </tr>\n",
       "  </tbody>\n",
       "</table>\n",
       "<p>9961 rows × 3 columns</p>\n",
       "</div>"
      ],
      "text/plain": [
       "                                                Address First Name  \\\n",
       "0     6461 Quinn Groves, East Matthew, New Hampshire...      Frank   \n",
       "1     1360 Tracey Ports Apt. 419, Kyleport, Vermont,...  Elizabeth   \n",
       "2     19120 Fleming Manors, Prestonstad, Montana, 23495     Donald   \n",
       "3          441 Olivia Creek, Jimmymouth, Georgia, 82991    Michael   \n",
       "4     4246 Chelsey Ford Apt. 310, Karamouth, Utah, 7...    Jasmine   \n",
       "...                                                 ...        ...   \n",
       "9956  762 Andrew Views Apt. 254, North Paul, New Mex...       Dana   \n",
       "9957  44188 Day Crest Apt. 901, Lake Marcia, Maine, ...     Amanda   \n",
       "9958  73015 Michelle Squares, Watsonville, West Virg...       Eric   \n",
       "9959       129 Keith Greens, Haleyfurt, Oklahoma, 98916     Taylor   \n",
       "9960   355 Griffin Valley, Davidtown, New Mexico, 17581     Sherry   \n",
       "\n",
       "        Last Name  \n",
       "0         Manning  \n",
       "1         Johnson  \n",
       "2        Stephens  \n",
       "3     Vincent III  \n",
       "4          Zamora  \n",
       "...           ...  \n",
       "9956     Browning  \n",
       "9957     Anderson  \n",
       "9958        Davis  \n",
       "9959    Hernandez  \n",
       "9960    Nicholson  \n",
       "\n",
       "[9961 rows x 3 columns]"
      ]
     },
     "execution_count": 271,
     "metadata": {},
     "output_type": "execute_result"
    }
   ],
   "source": [
    "cusDF"
   ]
  },
  {
   "cell_type": "code",
   "execution_count": null,
   "id": "d95d7cbb-6683-47cb-ad04-bf9195dfaa95",
   "metadata": {},
   "outputs": [],
   "source": []
  }
 ],
 "metadata": {
  "kernelspec": {
   "display_name": "Python 3 (ipykernel)",
   "language": "python",
   "name": "python3"
  },
  "language_info": {
   "codemirror_mode": {
    "name": "ipython",
    "version": 3
   },
   "file_extension": ".py",
   "mimetype": "text/x-python",
   "name": "python",
   "nbconvert_exporter": "python",
   "pygments_lexer": "ipython3",
   "version": "3.8.18"
  }
 },
 "nbformat": 4,
 "nbformat_minor": 5
}
