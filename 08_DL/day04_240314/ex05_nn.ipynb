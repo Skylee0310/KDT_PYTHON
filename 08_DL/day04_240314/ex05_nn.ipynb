{
 "cells": [
  {
   "cell_type": "markdown",
   "metadata": {},
   "source": [
    "### 인공신경망 모델 클래스 만들기 <hr>\n",
    "- 부모 클래스 : nn.Module 상속\n",
    "- 필수 오버라이딩 메서드 : __init__(), forward()"
   ]
  },
  {
   "cell_type": "markdown",
   "metadata": {},
   "source": [
    "[1] 모듈 로딩 <hr>"
   ]
  },
  {
   "cell_type": "code",
   "execution_count": 35,
   "metadata": {},
   "outputs": [],
   "source": [
    "import torch\n",
    "import torch.nn as nn"
   ]
  },
  {
   "cell_type": "code",
   "execution_count": 40,
   "metadata": {},
   "outputs": [],
   "source": [
    "# 로지스틱 회귀 모델 클래스 생성.\n",
    "# - Linear + Sigmoid\n",
    "class LogicLinear(nn.Module) :\n",
    "    # 모델 구조 설정\n",
    "    def __init__(self, in_, out_):\n",
    "        super().__init__() # 부모\n",
    "        self.layer1 = nn.Linear(in_, 10) # in개 받아서 10개를 내 놓음\n",
    "        self.sigmoid1 = nn.Sigmoid()\n",
    "        self.layer2 = nn.Linear(10, out_) \n",
    "        self.sigmoid2 = nn.Sigmoid()\n",
    "        \n",
    "\n",
    "    # 순방향 학습 진행 콜백 함수\n",
    "    def forward(self, x) :\n",
    "        y = self.layer1(x)\n",
    "        z = self.sigmoid1(y)\n",
    "        y = self.layer2(z)\n",
    "        z = self.sigmoid2(y)\n",
    "        return z\n"
   ]
  },
  {
   "cell_type": "code",
   "execution_count": 41,
   "metadata": {},
   "outputs": [
    {
     "name": "stdout",
     "output_type": "stream",
     "text": [
      "모델 구조 확인 ==== LogicLinear(\n",
      "  (layer1): Linear(in_features=783, out_features=10, bias=True)\n",
      "  (sigmoid1): Sigmoid()\n",
      "  (layer2): Linear(in_features=10, out_features=3, bias=True)\n",
      "  (sigmoid2): Sigmoid()\n",
      ")\n"
     ]
    }
   ],
   "source": [
    "#모델 인스턴스 생성\n",
    "ll=LogicLinear(783, 3)\n",
    "print(f'모델 구조 확인 ==== {ll}')"
   ]
  },
  {
   "cell_type": "code",
   "execution_count": 42,
   "metadata": {},
   "outputs": [
    {
     "name": "stdout",
     "output_type": "stream",
     "text": [
      "모델 구성 w, b ====\n",
      "Parameter containing:\n",
      "tensor([[-1.2065e-02,  2.6134e-03,  2.4260e-02,  ...,  5.5660e-03,\n",
      "          2.0949e-02,  2.8554e-02],\n",
      "        [-2.3254e-02,  1.4174e-02,  1.6679e-03,  ..., -2.3070e-02,\n",
      "          3.9350e-04,  7.2024e-03],\n",
      "        [ 1.0918e-02,  1.4464e-04,  1.0877e-02,  ..., -3.2075e-06,\n",
      "          2.4543e-02,  2.7993e-02],\n",
      "        ...,\n",
      "        [ 3.5498e-02, -2.3376e-02, -3.1041e-02,  ..., -3.4261e-02,\n",
      "          1.6130e-02, -1.6929e-02],\n",
      "        [ 3.5479e-02, -2.9226e-02, -1.6548e-03,  ..., -1.4011e-02,\n",
      "          2.5693e-02,  1.7661e-02],\n",
      "        [ 2.8841e-02,  2.8896e-02,  3.4934e-02,  ..., -8.0138e-03,\n",
      "         -2.6245e-02, -9.0402e-03]], requires_grad=True)\n",
      "Parameter containing:\n",
      "tensor([ 0.0116, -0.0291,  0.0227, -0.0158, -0.0053,  0.0164,  0.0085,  0.0080,\n",
      "         0.0267, -0.0350], requires_grad=True)\n",
      "Parameter containing:\n",
      "tensor([[ 0.1636,  0.2462, -0.0490, -0.2537,  0.1910, -0.1389, -0.2370,  0.2847,\n",
      "         -0.0709,  0.1665],\n",
      "        [ 0.3058, -0.0549, -0.2465, -0.0132,  0.1718, -0.3037, -0.1286,  0.1738,\n",
      "         -0.1600,  0.2481],\n",
      "        [ 0.3071, -0.2443, -0.2438, -0.0437,  0.2326,  0.1540, -0.2104, -0.1065,\n",
      "         -0.0485,  0.0697]], requires_grad=True)\n",
      "Parameter containing:\n",
      "tensor([ 0.2715, -0.2760, -0.2855], requires_grad=True)\n"
     ]
    }
   ],
   "source": [
    "print('모델 구성 w, b ====')\n",
    "for param in ll.parameters(): print(param)"
   ]
  },
  {
   "cell_type": "code",
   "execution_count": null,
   "metadata": {},
   "outputs": [],
   "source": []
  },
  {
   "cell_type": "code",
   "execution_count": null,
   "metadata": {},
   "outputs": [],
   "source": []
  }
 ],
 "metadata": {
  "kernelspec": {
   "display_name": "Torch_py38",
   "language": "python",
   "name": "python3"
  },
  "language_info": {
   "codemirror_mode": {
    "name": "ipython",
    "version": 3
   },
   "file_extension": ".py",
   "mimetype": "text/x-python",
   "name": "python",
   "nbconvert_exporter": "python",
   "pygments_lexer": "ipython3",
   "version": "3.8.18"
  }
 },
 "nbformat": 4,
 "nbformat_minor": 2
}
