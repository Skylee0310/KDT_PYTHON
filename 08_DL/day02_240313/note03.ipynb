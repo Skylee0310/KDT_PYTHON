{
 "cells": [
  {
   "cell_type": "markdown",
   "metadata": {},
   "source": [
    "## 행렬 곱셈\n",
    "- 피처와 가중치 연산에 활용\n",
    "- tensor.matmul()"
   ]
  },
  {
   "cell_type": "code",
   "execution_count": 1,
   "metadata": {},
   "outputs": [
    {
     "name": "stdout",
     "output_type": "stream",
     "text": [
      "tensor([[ 7, 14],\n",
      "        [21, 28]])\n"
     ]
    }
   ],
   "source": [
    "# 모듈 로딩\n",
    "import torch"
   ]
  },
  {
   "cell_type": "code",
   "execution_count": null,
   "metadata": {},
   "outputs": [],
   "source": [
    "# 데이터 생성.\n",
    "data = torch.tensor([[1,2], [3,4]]) # data.shape => torch.Size([2, 2])\n",
    "w = torch.tensor([7]) #w.shape => torch.Size([1])"
   ]
  },
  {
   "cell_type": "code",
   "execution_count": null,
   "metadata": {},
   "outputs": [],
   "source": [
    "# 원소단위 곱셈 => 1대 1 대응하도록 브로드 캐스팅 : (행, 열)X(원소수)\n",
    "print(f'{data.mul(w)}')"
   ]
  },
  {
   "cell_type": "code",
   "execution_count": 6,
   "metadata": {},
   "outputs": [
    {
     "name": "stdout",
     "output_type": "stream",
     "text": [
      "data.matmul(w2)\n",
      "tensor([[23],\n",
      "        [53]])\n"
     ]
    }
   ],
   "source": [
    "#print(f'data.matmul(w) : {data.matmul(w)}') => size mismatch, got input (2), mat (2x2), vec (1) 미스매치...? 마크 미스매치...?\n",
    "\n",
    "# 행렬단위 곱셈 => 행 X 열 : (행, 열) X (행, 열) : \n",
    "w = torch.tensor([7, 8]) # (1, 2)\n",
    "w2 = torch.tensor([[7], [8]]) #(2, 1)\n",
    "print(f'data.matmul(w2)\\n{data.matmul(w2)}')"
   ]
  },
  {
   "cell_type": "code",
   "execution_count": null,
   "metadata": {},
   "outputs": [],
   "source": []
  }
 ],
 "metadata": {
  "kernelspec": {
   "display_name": "Torch_py38",
   "language": "python",
   "name": "python3"
  },
  "language_info": {
   "codemirror_mode": {
    "name": "ipython",
    "version": 3
   },
   "file_extension": ".py",
   "mimetype": "text/x-python",
   "name": "python",
   "nbconvert_exporter": "python",
   "pygments_lexer": "ipython3",
   "version": "3.8.18"
  }
 },
 "nbformat": 4,
 "nbformat_minor": 2
}
