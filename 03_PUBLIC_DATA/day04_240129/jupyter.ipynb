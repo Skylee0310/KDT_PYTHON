{
 "cells": [
  {
   "cell_type": "code",
   "execution_count": 1,
   "id": "e87cfc12-5dd3-4eb8-899f-248e55627e37",
   "metadata": {},
   "outputs": [
    {
     "data": {
      "text/plain": [
       "'C:\\\\Users\\\\KDP-48\\\\PythonProject\\\\Data\\\\day04_240129'"
      ]
     },
     "execution_count": 1,
     "metadata": {},
     "output_type": "execute_result"
    }
   ],
   "source": [
    "# 작업 폴더 위치를 출력.\n",
    "%pwd "
   ]
  },
  {
   "cell_type": "code",
   "execution_count": 3,
   "id": "fa83b18e-77c8-4d89-a7f6-dd389b160ac7",
   "metadata": {},
   "outputs": [
    {
     "name": "stdout",
     "output_type": "stream",
     "text": [
      " C 드라이브의 볼륨에는 이름이 없습니다.\n",
      " 볼륨 일련 번호: CE5B-1C1C\n",
      "\n",
      " C:\\Users\\KDP-48\\PythonProject\\Data\\day04_240129 디렉터리\n",
      "\n",
      "2024-01-29  오전 11:11    <DIR>          .\n",
      "2024-01-29  오전 11:11    <DIR>          ..\n",
      "2024-01-29  오전 11:11    <DIR>          .ipynb_checkpoints\n",
      "2024-01-29  오전 11:10            38,056 day04_ex01.ipynb\n",
      "2024-01-29  오전 11:10                72 jupyter.ipynb\n",
      "2024-01-29  오전 09:01            56,910 공공보건의료기관현황.csv\n",
      "2024-01-29  오전 09:01            17,225 행정구역시군구별성별인구수.xlsx\n",
      "               4개 파일             112,263 바이트\n",
      "               3개 디렉터리  158,654,709,760 바이트 남음\n"
     ]
    }
   ],
   "source": [
    "# 파일 목록 출력\n",
    "%ls"
   ]
  },
  {
   "cell_type": "markdown",
   "id": "7e10bf9e-cdcf-4c7c-8590-b57b77111d5a",
   "metadata": {},
   "source": [
    "1) Anaconda prompt 실행.\n",
    "2) C:\\Users\\KDP-48\\PythonProject>jupyter notebook --generate-cofig\n",
    "3) jupyter_notebook_config.py 파일 편집 ---> 메모장 또는 텍스트 에디터에서 편집\n",
    "4) Jupyter notebook을 저장할 폴더 생성.\n",
    "- "
   ]
  }
 ],
 "metadata": {
  "kernelspec": {
   "display_name": "Python 3 (ipykernel)",
   "language": "python",
   "name": "python3"
  },
  "language_info": {
   "codemirror_mode": {
    "name": "ipython",
    "version": 3
   },
   "file_extension": ".py",
   "mimetype": "text/x-python",
   "name": "python",
   "nbconvert_exporter": "python",
   "pygments_lexer": "ipython3",
   "version": "3.8.18"
  }
 },
 "nbformat": 4,
 "nbformat_minor": 5
}
