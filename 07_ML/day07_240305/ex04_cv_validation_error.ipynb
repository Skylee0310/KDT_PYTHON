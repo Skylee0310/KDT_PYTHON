{
 "cells": [
  {
   "cell_type": "markdown",
   "metadata": {},
   "source": [
    "### 교차 검증 단순화\n",
    "- scikit-learn의 model-selection 모듈 내에 모델 검증 관련 기능 활용\n",
    "- 교차 검증 데이터 기반 검증 결과 처리"
   ]
  },
  {
   "cell_type": "markdown",
   "metadata": {},
   "source": [
    "[1] 모듈 로딩 및 데이터 준비 <hr>\n"
   ]
  },
  {
   "cell_type": "code",
   "execution_count": 45,
   "metadata": {},
   "outputs": [],
   "source": [
    "# 모듈 로딩\n",
    "import pandas as pd\n",
    "\n",
    "# 생선 데이터 준비\n",
    "fishDF = pd.read_csv('../data/fish.csv')\n",
    "\n",
    "# 붓꽃 데이터 준비\n",
    "irisDF = pd.read_csv('../data/iris.csv')"
   ]
  },
  {
   "cell_type": "code",
   "execution_count": 46,
   "metadata": {},
   "outputs": [
    {
     "data": {
      "text/html": [
       "<div>\n",
       "<style scoped>\n",
       "    .dataframe tbody tr th:only-of-type {\n",
       "        vertical-align: middle;\n",
       "    }\n",
       "\n",
       "    .dataframe tbody tr th {\n",
       "        vertical-align: top;\n",
       "    }\n",
       "\n",
       "    .dataframe thead th {\n",
       "        text-align: right;\n",
       "    }\n",
       "</style>\n",
       "<table border=\"1\" class=\"dataframe\">\n",
       "  <thead>\n",
       "    <tr style=\"text-align: right;\">\n",
       "      <th></th>\n",
       "      <th>Species</th>\n",
       "      <th>Weight</th>\n",
       "      <th>Length</th>\n",
       "      <th>Diagonal</th>\n",
       "      <th>Height</th>\n",
       "      <th>Width</th>\n",
       "    </tr>\n",
       "  </thead>\n",
       "  <tbody>\n",
       "    <tr>\n",
       "      <th>0</th>\n",
       "      <td>Bream</td>\n",
       "      <td>242.0</td>\n",
       "      <td>25.4</td>\n",
       "      <td>30.0</td>\n",
       "      <td>11.52</td>\n",
       "      <td>4.0200</td>\n",
       "    </tr>\n",
       "    <tr>\n",
       "      <th>1</th>\n",
       "      <td>Bream</td>\n",
       "      <td>290.0</td>\n",
       "      <td>26.3</td>\n",
       "      <td>31.2</td>\n",
       "      <td>12.48</td>\n",
       "      <td>4.3056</td>\n",
       "    </tr>\n",
       "  </tbody>\n",
       "</table>\n",
       "</div>"
      ],
      "text/plain": [
       "  Species  Weight  Length  Diagonal  Height   Width\n",
       "0   Bream   242.0    25.4      30.0   11.52  4.0200\n",
       "1   Bream   290.0    26.3      31.2   12.48  4.3056"
      ]
     },
     "execution_count": 46,
     "metadata": {},
     "output_type": "execute_result"
    }
   ],
   "source": [
    "fishDF.head(2)"
   ]
  },
  {
   "cell_type": "code",
   "execution_count": 47,
   "metadata": {},
   "outputs": [
    {
     "data": {
      "text/html": [
       "<div>\n",
       "<style scoped>\n",
       "    .dataframe tbody tr th:only-of-type {\n",
       "        vertical-align: middle;\n",
       "    }\n",
       "\n",
       "    .dataframe tbody tr th {\n",
       "        vertical-align: top;\n",
       "    }\n",
       "\n",
       "    .dataframe thead th {\n",
       "        text-align: right;\n",
       "    }\n",
       "</style>\n",
       "<table border=\"1\" class=\"dataframe\">\n",
       "  <thead>\n",
       "    <tr style=\"text-align: right;\">\n",
       "      <th></th>\n",
       "      <th>sepal.length</th>\n",
       "      <th>sepal.width</th>\n",
       "      <th>petal.length</th>\n",
       "      <th>petal.width</th>\n",
       "      <th>variety</th>\n",
       "    </tr>\n",
       "  </thead>\n",
       "  <tbody>\n",
       "    <tr>\n",
       "      <th>0</th>\n",
       "      <td>5.1</td>\n",
       "      <td>3.5</td>\n",
       "      <td>1.4</td>\n",
       "      <td>0.2</td>\n",
       "      <td>Setosa</td>\n",
       "    </tr>\n",
       "    <tr>\n",
       "      <th>1</th>\n",
       "      <td>4.9</td>\n",
       "      <td>3.0</td>\n",
       "      <td>1.4</td>\n",
       "      <td>0.2</td>\n",
       "      <td>Setosa</td>\n",
       "    </tr>\n",
       "  </tbody>\n",
       "</table>\n",
       "</div>"
      ],
      "text/plain": [
       "   sepal.length  sepal.width  petal.length  petal.width variety\n",
       "0           5.1          3.5           1.4          0.2  Setosa\n",
       "1           4.9          3.0           1.4          0.2  Setosa"
      ]
     },
     "execution_count": 47,
     "metadata": {},
     "output_type": "execute_result"
    }
   ],
   "source": [
    "irisDF.head(2)"
   ]
  },
  {
   "cell_type": "markdown",
   "metadata": {},
   "source": [
    "[2] 데이터 준비 => feature & target 분리 <hr>"
   ]
  },
  {
   "cell_type": "code",
   "execution_count": 48,
   "metadata": {},
   "outputs": [
    {
     "data": {
      "text/plain": [
       "(0    242.0\n",
       " 1    290.0\n",
       " Name: Weight, dtype: float64,\n",
       "    Length  Diagonal  Height   Width\n",
       " 0    25.4      30.0   11.52  4.0200\n",
       " 1    26.3      31.2   12.48  4.3056)"
      ]
     },
     "execution_count": 48,
     "metadata": {},
     "output_type": "execute_result"
    }
   ],
   "source": [
    "# 타겟 : Weight / 피처 : 나머지 컬럼 \n",
    "fishTargetSR = fishDF[fishDF.columns[1]]\n",
    "fishFeatureDF = fishDF[fishDF.columns[2:]]\n",
    "\n",
    "fishTargetSR.head(2), fishFeatureDF.head(2)"
   ]
  },
  {
   "cell_type": "code",
   "execution_count": 49,
   "metadata": {},
   "outputs": [
    {
     "data": {
      "text/plain": [
       "(0    Setosa\n",
       " 1    Setosa\n",
       " Name: variety, dtype: object,\n",
       "    sepal.length  sepal.width  petal.length  petal.width\n",
       " 0           5.1          3.5           1.4          0.2\n",
       " 1           4.9          3.0           1.4          0.2)"
      ]
     },
     "execution_count": 49,
     "metadata": {},
     "output_type": "execute_result"
    }
   ],
   "source": [
    "# 타겟 : variety / 피처 : 나머지 컬럼 \n",
    "irisTargetSR = irisDF[irisDF.columns[-1]]\n",
    "irisFeatureDF = irisDF[irisDF.columns[:-1]]\n",
    "\n",
    "irisTargetSR.head(2), irisFeatureDF.head(2)"
   ]
  },
  {
   "cell_type": "markdown",
   "metadata": {},
   "source": [
    "[3] 데이터 전처리 <hr>\n",
    "- 피처 스케일링"
   ]
  },
  {
   "cell_type": "code",
   "execution_count": 50,
   "metadata": {},
   "outputs": [],
   "source": [
    "# 학습용 -- 테스트용 데이터 분리\n",
    "from sklearn.model_selection import train_test_split\n",
    "\n",
    "# 생선데이터 => 학습용 데이터셋, 테스트용 데이터셋 ===> 회귀\n",
    "fXtrn, fXtst, fytrn, fytst = train_test_split(fishFeatureDF, \n",
    "                                              fishTargetSR, \n",
    "                                              test_size=0.2, \n",
    "                                              random_state=5) \n",
    "\n",
    "# 붓꽃데이터 => 학습용 데이터셋, 테스트용 데이터셋 ===> 분류\n",
    "irsXtrn, irsXtst, irsytrn, irsytst = train_test_split(irisFeatureDF, \n",
    "                                                      irisTargetSR, \n",
    "                                                      test_size=0.2, \n",
    "                                                      random_state=5, \n",
    "                                                      stratify=irisTargetSR)"
   ]
  },
  {
   "cell_type": "code",
   "execution_count": 51,
   "metadata": {},
   "outputs": [],
   "source": [
    "#\n",
    "from sklearn.preprocessing import StandardScaler\n",
    "\n",
    "fshSclr = StandardScaler()\n",
    "fshSclr.fit(fXtrn)\n",
    "scaled_fish_Xtrn = fshSclr.transform(fXtrn)\n",
    "scaled_fish_Xtst = fshSclr.transform(fXtst)\n",
    "\n",
    "irsSclr = StandardScaler()\n",
    "irsSclr.fit(irsXtrn)\n",
    "scaled_irs_Xtrn = irsSclr.transform(irsXtrn)\n",
    "scaled_irs_Xtst = irsSclr.transform(irsXtst)"
   ]
  },
  {
   "cell_type": "markdown",
   "metadata": {},
   "source": [
    "[4] 학습<hr>\n",
    "[4-1] 생선 무게 예측 모델"
   ]
  },
  {
   "cell_type": "code",
   "execution_count": 52,
   "metadata": {},
   "outputs": [],
   "source": [
    "# 모듈 로딩 \n",
    "from sklearn.linear_model import LinearRegression, Ridge, Lasso\n",
    "from sklearn.model_selection import cross_validate, cross_val_score, cross_val_predict"
   ]
  },
  {
   "cell_type": "code",
   "execution_count": 53,
   "metadata": {},
   "outputs": [],
   "source": [
    "# 교차검증으로 학습 진행\n",
    "# => 준비 : 모델 인스턴스, 학습용 데이터 \n",
    "\n",
    "lr_mdl = LinearRegression()"
   ]
  },
  {
   "cell_type": "code",
   "execution_count": 54,
   "metadata": {},
   "outputs": [
    {
     "name": "stdout",
     "output_type": "stream",
     "text": [
      "{'fit_time': array([0.00802541, 0.00342035, 0.        , 0.        , 0.        ]), 'score_time': array([0.        , 0.00049925, 0.        , 0.00514221, 0.        ]), 'estimator': [LinearRegression(), LinearRegression(), LinearRegression(), LinearRegression(), LinearRegression()], 'test_r2': array([0.92104683, 0.84385378, 0.88592423, 0.64671954, 0.79031905]), 'train_r2': array([0.87426416, 0.88779401, 0.88061108, 0.90297504, 0.89833592]), 'test_neg_mean_squared_error': array([ -8767.84902315, -17815.75093903, -12344.87825138, -22006.47049028,\n",
      "       -39450.52608702]), 'train_neg_mean_squared_error': array([-16078.44783606, -13972.57866943, -15268.42472495, -13223.98109532,\n",
      "       -10586.01039978])}\n"
     ]
    }
   ],
   "source": [
    "# 학습/검증에 대한 평가 모든 결과에 대한 처리.\n",
    "result = cross_validate(lr_mdl, \n",
    "                        scaled_fish_Xtrn, \n",
    "                        fytrn, \n",
    "                        scoring=('r2', 'neg_mean_squared_error'),\n",
    "                        return_train_score=True, \n",
    "                        return_estimator=True) # cv = 3 : 삼등분\n",
    "print(result)"
   ]
  },
  {
   "cell_type": "code",
   "execution_count": 55,
   "metadata": {},
   "outputs": [
    {
     "data": {
      "text/html": [
       "<div>\n",
       "<style scoped>\n",
       "    .dataframe tbody tr th:only-of-type {\n",
       "        vertical-align: middle;\n",
       "    }\n",
       "\n",
       "    .dataframe tbody tr th {\n",
       "        vertical-align: top;\n",
       "    }\n",
       "\n",
       "    .dataframe thead th {\n",
       "        text-align: right;\n",
       "    }\n",
       "</style>\n",
       "<table border=\"1\" class=\"dataframe\">\n",
       "  <thead>\n",
       "    <tr style=\"text-align: right;\">\n",
       "      <th></th>\n",
       "      <th>fit_time</th>\n",
       "      <th>score_time</th>\n",
       "      <th>estimator</th>\n",
       "      <th>test_r2</th>\n",
       "      <th>train_r2</th>\n",
       "      <th>test_neg_mean_squared_error</th>\n",
       "      <th>train_neg_mean_squared_error</th>\n",
       "    </tr>\n",
       "  </thead>\n",
       "  <tbody>\n",
       "    <tr>\n",
       "      <th>0</th>\n",
       "      <td>0.008025</td>\n",
       "      <td>0.000000</td>\n",
       "      <td>LinearRegression()</td>\n",
       "      <td>0.921047</td>\n",
       "      <td>0.874264</td>\n",
       "      <td>-8767.849023</td>\n",
       "      <td>-16078.447836</td>\n",
       "    </tr>\n",
       "    <tr>\n",
       "      <th>1</th>\n",
       "      <td>0.003420</td>\n",
       "      <td>0.000499</td>\n",
       "      <td>LinearRegression()</td>\n",
       "      <td>0.843854</td>\n",
       "      <td>0.887794</td>\n",
       "      <td>-17815.750939</td>\n",
       "      <td>-13972.578669</td>\n",
       "    </tr>\n",
       "    <tr>\n",
       "      <th>2</th>\n",
       "      <td>0.000000</td>\n",
       "      <td>0.000000</td>\n",
       "      <td>LinearRegression()</td>\n",
       "      <td>0.885924</td>\n",
       "      <td>0.880611</td>\n",
       "      <td>-12344.878251</td>\n",
       "      <td>-15268.424725</td>\n",
       "    </tr>\n",
       "    <tr>\n",
       "      <th>3</th>\n",
       "      <td>0.000000</td>\n",
       "      <td>0.005142</td>\n",
       "      <td>LinearRegression()</td>\n",
       "      <td>0.646720</td>\n",
       "      <td>0.902975</td>\n",
       "      <td>-22006.470490</td>\n",
       "      <td>-13223.981095</td>\n",
       "    </tr>\n",
       "    <tr>\n",
       "      <th>4</th>\n",
       "      <td>0.000000</td>\n",
       "      <td>0.000000</td>\n",
       "      <td>LinearRegression()</td>\n",
       "      <td>0.790319</td>\n",
       "      <td>0.898336</td>\n",
       "      <td>-39450.526087</td>\n",
       "      <td>-10586.010400</td>\n",
       "    </tr>\n",
       "  </tbody>\n",
       "</table>\n",
       "</div>"
      ],
      "text/plain": [
       "   fit_time  score_time           estimator   test_r2  train_r2  \\\n",
       "0  0.008025    0.000000  LinearRegression()  0.921047  0.874264   \n",
       "1  0.003420    0.000499  LinearRegression()  0.843854  0.887794   \n",
       "2  0.000000    0.000000  LinearRegression()  0.885924  0.880611   \n",
       "3  0.000000    0.005142  LinearRegression()  0.646720  0.902975   \n",
       "4  0.000000    0.000000  LinearRegression()  0.790319  0.898336   \n",
       "\n",
       "   test_neg_mean_squared_error  train_neg_mean_squared_error  \n",
       "0                 -8767.849023                 -16078.447836  \n",
       "1                -17815.750939                 -13972.578669  \n",
       "2                -12344.878251                 -15268.424725  \n",
       "3                -22006.470490                 -13223.981095  \n",
       "4                -39450.526087                 -10586.010400  "
      ]
     },
     "execution_count": 55,
     "metadata": {},
     "output_type": "execute_result"
    }
   ],
   "source": [
    "resultDF = pd.DataFrame(result)\n",
    "resultDF"
   ]
  },
  {
   "cell_type": "code",
   "execution_count": 56,
   "metadata": {},
   "outputs": [
    {
     "data": {
      "text/plain": [
       "dict_keys(['fit_time', 'score_time', 'estimator', 'test_r2', 'train_r2', 'test_neg_mean_squared_error', 'train_neg_mean_squared_error'])"
      ]
     },
     "execution_count": 56,
     "metadata": {},
     "output_type": "execute_result"
    }
   ],
   "source": [
    "result.keys()"
   ]
  },
  {
   "cell_type": "code",
   "execution_count": 57,
   "metadata": {},
   "outputs": [
    {
     "data": {
      "text/plain": [
       "dict_values([array([0.00802541, 0.00342035, 0.        , 0.        , 0.        ]), array([0.        , 0.00049925, 0.        , 0.00514221, 0.        ]), [LinearRegression(), LinearRegression(), LinearRegression(), LinearRegression(), LinearRegression()], array([0.92104683, 0.84385378, 0.88592423, 0.64671954, 0.79031905]), array([0.87426416, 0.88779401, 0.88061108, 0.90297504, 0.89833592]), array([ -8767.84902315, -17815.75093903, -12344.87825138, -22006.47049028,\n",
       "       -39450.52608702]), array([-16078.44783606, -13972.57866943, -15268.42472495, -13223.98109532,\n",
       "       -10586.01039978])])"
      ]
     },
     "execution_count": 57,
     "metadata": {},
     "output_type": "execute_result"
    }
   ],
   "source": [
    "result.values()"
   ]
  },
  {
   "cell_type": "code",
   "execution_count": 58,
   "metadata": {},
   "outputs": [
    {
     "data": {
      "text/plain": [
       "(array([ 373.98470744, -159.77931033,   90.53431501,   50.22123874]),\n",
       " 408.52250924970195)"
      ]
     },
     "execution_count": 58,
     "metadata": {},
     "output_type": "execute_result"
    }
   ],
   "source": [
    "best_mdl = resultDF.iloc[0]['estimator']\n",
    "best_mdl.coef_, best_mdl.intercept_"
   ]
  },
  {
   "cell_type": "code",
   "execution_count": 59,
   "metadata": {},
   "outputs": [
    {
     "data": {
      "text/plain": [
       "array([0.92104683, 0.84385378, 0.88592423, 0.64671954, 0.79031905])"
      ]
     },
     "execution_count": 59,
     "metadata": {},
     "output_type": "execute_result"
    }
   ],
   "source": [
    "### CV에 score만 추출 \n",
    "cross_val_score(lr_mdl, scaled_fish_Xtrn, fytrn)"
   ]
  },
  {
   "cell_type": "code",
   "execution_count": 60,
   "metadata": {},
   "outputs": [
    {
     "data": {
      "text/plain": [
       "array([ 9.09792517e+01,  9.85612151e+01,  3.87029719e+02,  1.13011547e+02,\n",
       "        6.81676563e+02,  2.82456988e+02,  5.34379642e+02,  3.61848302e+02,\n",
       "        6.12934598e+02,  1.70756130e+02,  5.53222970e+02,  1.69433076e+01,\n",
       "       -2.53895688e+01,  8.14926155e+02,  6.97225129e+01,  3.38157931e+02,\n",
       "        4.76306355e+02,  7.67659158e+02,  6.55686457e+02,  1.80300946e+02,\n",
       "        8.45315559e+02,  2.92145322e+02,  6.08539351e+02,  9.02782406e+02,\n",
       "        6.99788981e+02,  9.40316876e+02,  7.47628344e+02,  3.28419355e+02,\n",
       "        7.89622699e+02,  9.09130831e+02, -1.98986854e+02,  1.81089559e+02,\n",
       "        6.36731679e+02, -1.09209894e+02,  3.57087822e+02,  7.88250361e+02,\n",
       "        3.25180589e+02,  6.56473977e+02, -2.37032025e+02,  4.55882834e+01,\n",
       "        9.57130255e+01, -2.10830505e+02,  1.28969696e+02, -2.21199132e+02,\n",
       "       -1.10282630e+02,  6.39911566e+02,  2.12288357e+02,  2.41098815e+02,\n",
       "        2.61932359e+02, -2.58301758e+02,  2.93250859e+01,  8.87950700e+02,\n",
       "        2.46460034e+02,  5.55564851e+02,  6.71006008e+02,  7.04637891e+02,\n",
       "        2.29677895e+02,  8.49746634e+02,  7.24031103e+02, -5.70994192e+01,\n",
       "        2.22728797e+02,  9.41173359e+02,  5.25995612e+02,  7.74853524e+02,\n",
       "        2.17941892e+02,  5.74873742e+02,  2.17397906e+02,  5.98772429e+02,\n",
       "        8.13391991e+02,  1.93602150e+02,  2.00834243e+02,  8.85719610e+02,\n",
       "        7.94930726e+02,  4.91188615e+02,  1.11555582e+02,  2.15505969e+02,\n",
       "        4.55682558e+02,  3.27230281e+02, -2.54736199e+02,  2.14499169e+02,\n",
       "        4.32295967e+02,  5.29619314e+02,  3.11672406e-01, -2.77216256e+02,\n",
       "        6.55329442e+02,  4.59082390e+02,  3.18928562e+02, -2.27015547e+02,\n",
       "        7.74464230e+02, -2.40117603e+02,  6.37572206e+02,  6.23647648e+02,\n",
       "        1.58228119e+02,  5.16093336e+02,  8.12222679e+01,  2.27883952e+02,\n",
       "        3.92943741e+02,  8.47396913e+02, -2.24559795e+02,  3.94415997e+02,\n",
       "        6.81290262e+02,  5.82109256e+02,  3.57665080e+02,  5.94846811e+02,\n",
       "        5.14375584e+02,  3.62255513e+02,  3.41676651e+02,  1.69523793e+02,\n",
       "        3.79453524e+02,  5.85425213e+02,  8.26535922e+02,  8.65537588e+02,\n",
       "        2.04176403e+02,  8.17998531e+02,  2.25074947e+02,  2.07081163e+02,\n",
       "        7.19337633e+02,  1.31467393e+02,  6.85638198e+02,  9.06351710e+02,\n",
       "        4.79431463e+02,  7.01957458e+02,  5.22269464e+02, -4.60942099e+01,\n",
       "        1.04657155e+03,  8.10571851e+02,  2.69273973e+02])"
      ]
     },
     "execution_count": 60,
     "metadata": {},
     "output_type": "execute_result"
    }
   ],
   "source": [
    "## CV에 predict만 추출 \n",
    "cross_val_predict(lr_mdl, scaled_fish_Xtrn, fytrn)"
   ]
  },
  {
   "cell_type": "markdown",
   "metadata": {},
   "source": [
    "### 교차검증과 튜닝까지 한꺼번에 진행\n",
    "- 단점 : 시간이 오래 걸림"
   ]
  },
  {
   "cell_type": "code",
   "execution_count": 62,
   "metadata": {},
   "outputs": [],
   "source": [
    "from sklearn.model_selection import GridSearchCV, RandomizedSearchCV\n",
    "from sklearn.linear_model import LogisticRegression"
   ]
  },
  {
   "cell_type": "code",
   "execution_count": 76,
   "metadata": {},
   "outputs": [],
   "source": [
    "# 학습모델 인스턴스와 하이퍼 파라미터\n",
    "# est =LogisticRegression(max_iter=10000, solver='liblinear')\n",
    "# params= {'penalty' :['l1,', 'l2'], 'solver':['lbfgs', 'liblinear', 'newton-cg', 'newton-cholesky', 'sag', 'saga']}"
   ]
  },
  {
   "cell_type": "code",
   "execution_count": 85,
   "metadata": {},
   "outputs": [
    {
     "data": {
      "text/html": [
       "<div>\n",
       "<style scoped>\n",
       "    .dataframe tbody tr th:only-of-type {\n",
       "        vertical-align: middle;\n",
       "    }\n",
       "\n",
       "    .dataframe tbody tr th {\n",
       "        vertical-align: top;\n",
       "    }\n",
       "\n",
       "    .dataframe thead th {\n",
       "        text-align: right;\n",
       "    }\n",
       "</style>\n",
       "<table border=\"1\" class=\"dataframe\">\n",
       "  <thead>\n",
       "    <tr style=\"text-align: right;\">\n",
       "      <th></th>\n",
       "      <th>mean_fit_time</th>\n",
       "      <th>std_fit_time</th>\n",
       "      <th>mean_score_time</th>\n",
       "      <th>std_score_time</th>\n",
       "      <th>param_penalty</th>\n",
       "      <th>params</th>\n",
       "      <th>split0_test_score</th>\n",
       "      <th>split1_test_score</th>\n",
       "      <th>split2_test_score</th>\n",
       "      <th>split3_test_score</th>\n",
       "      <th>...</th>\n",
       "      <th>mean_test_score</th>\n",
       "      <th>std_test_score</th>\n",
       "      <th>rank_test_score</th>\n",
       "      <th>split0_train_score</th>\n",
       "      <th>split1_train_score</th>\n",
       "      <th>split2_train_score</th>\n",
       "      <th>split3_train_score</th>\n",
       "      <th>split4_train_score</th>\n",
       "      <th>mean_train_score</th>\n",
       "      <th>std_train_score</th>\n",
       "    </tr>\n",
       "  </thead>\n",
       "  <tbody>\n",
       "    <tr>\n",
       "      <th>0</th>\n",
       "      <td>0.001812</td>\n",
       "      <td>0.002636</td>\n",
       "      <td>0.000205</td>\n",
       "      <td>0.00041</td>\n",
       "      <td>l1</td>\n",
       "      <td>{'penalty': 'l1'}</td>\n",
       "      <td>0.875</td>\n",
       "      <td>1.000000</td>\n",
       "      <td>0.958333</td>\n",
       "      <td>0.958333</td>\n",
       "      <td>...</td>\n",
       "      <td>0.941667</td>\n",
       "      <td>0.042492</td>\n",
       "      <td>1</td>\n",
       "      <td>0.93750</td>\n",
       "      <td>0.927083</td>\n",
       "      <td>0.937500</td>\n",
       "      <td>0.947917</td>\n",
       "      <td>0.93750</td>\n",
       "      <td>0.937500</td>\n",
       "      <td>0.006588</td>\n",
       "    </tr>\n",
       "    <tr>\n",
       "      <th>1</th>\n",
       "      <td>0.000000</td>\n",
       "      <td>0.000000</td>\n",
       "      <td>0.003201</td>\n",
       "      <td>0.00392</td>\n",
       "      <td>l2</td>\n",
       "      <td>{'penalty': 'l2'}</td>\n",
       "      <td>0.875</td>\n",
       "      <td>0.958333</td>\n",
       "      <td>0.958333</td>\n",
       "      <td>0.958333</td>\n",
       "      <td>...</td>\n",
       "      <td>0.916667</td>\n",
       "      <td>0.052705</td>\n",
       "      <td>2</td>\n",
       "      <td>0.90625</td>\n",
       "      <td>0.916667</td>\n",
       "      <td>0.916667</td>\n",
       "      <td>0.927083</td>\n",
       "      <td>0.90625</td>\n",
       "      <td>0.914583</td>\n",
       "      <td>0.007795</td>\n",
       "    </tr>\n",
       "  </tbody>\n",
       "</table>\n",
       "<p>2 rows × 21 columns</p>\n",
       "</div>"
      ],
      "text/plain": [
       "   mean_fit_time  std_fit_time  mean_score_time  std_score_time param_penalty  \\\n",
       "0       0.001812      0.002636         0.000205         0.00041            l1   \n",
       "1       0.000000      0.000000         0.003201         0.00392            l2   \n",
       "\n",
       "              params  split0_test_score  split1_test_score  split2_test_score  \\\n",
       "0  {'penalty': 'l1'}              0.875           1.000000           0.958333   \n",
       "1  {'penalty': 'l2'}              0.875           0.958333           0.958333   \n",
       "\n",
       "   split3_test_score  ...  mean_test_score  std_test_score  rank_test_score  \\\n",
       "0           0.958333  ...         0.941667        0.042492                1   \n",
       "1           0.958333  ...         0.916667        0.052705                2   \n",
       "\n",
       "   split0_train_score  split1_train_score  split2_train_score  \\\n",
       "0             0.93750            0.927083            0.937500   \n",
       "1             0.90625            0.916667            0.916667   \n",
       "\n",
       "   split3_train_score  split4_train_score  mean_train_score  std_train_score  \n",
       "0            0.947917             0.93750          0.937500         0.006588  \n",
       "1            0.927083             0.90625          0.914583         0.007795  \n",
       "\n",
       "[2 rows x 21 columns]"
      ]
     },
     "execution_count": 85,
     "metadata": {},
     "output_type": "execute_result"
    }
   ],
   "source": [
    "from sklearn.model_selection import GridSearchCV, RandomizedSearchCV\n",
    "#%%\n",
    "from sklearn.linear_model import LogisticRegression\n",
    "params  = {'penalty': ['l1', 'l2']}\n",
    "est = LogisticRegression(max_iter=1000, solver='liblinear')\n",
    "\n",
    "gscv = GridSearchCV(est, param_grid=params, return_train_score=True)\n",
    "gscv.fit(scaled_irs_Xtrn, irsytrn)\n",
    "#%%\n",
    "cv_resultsDF = pd.DataFrame(gscv.cv_results_)\n",
    "#%%\n",
    "cv_resultsDF"
   ]
  },
  {
   "cell_type": "code",
   "execution_count": 86,
   "metadata": {},
   "outputs": [
    {
     "data": {
      "text/html": [
       "<style>#sk-container-id-6 {color: black;}#sk-container-id-6 pre{padding: 0;}#sk-container-id-6 div.sk-toggleable {background-color: white;}#sk-container-id-6 label.sk-toggleable__label {cursor: pointer;display: block;width: 100%;margin-bottom: 0;padding: 0.3em;box-sizing: border-box;text-align: center;}#sk-container-id-6 label.sk-toggleable__label-arrow:before {content: \"▸\";float: left;margin-right: 0.25em;color: #696969;}#sk-container-id-6 label.sk-toggleable__label-arrow:hover:before {color: black;}#sk-container-id-6 div.sk-estimator:hover label.sk-toggleable__label-arrow:before {color: black;}#sk-container-id-6 div.sk-toggleable__content {max-height: 0;max-width: 0;overflow: hidden;text-align: left;background-color: #f0f8ff;}#sk-container-id-6 div.sk-toggleable__content pre {margin: 0.2em;color: black;border-radius: 0.25em;background-color: #f0f8ff;}#sk-container-id-6 input.sk-toggleable__control:checked~div.sk-toggleable__content {max-height: 200px;max-width: 100%;overflow: auto;}#sk-container-id-6 input.sk-toggleable__control:checked~label.sk-toggleable__label-arrow:before {content: \"▾\";}#sk-container-id-6 div.sk-estimator input.sk-toggleable__control:checked~label.sk-toggleable__label {background-color: #d4ebff;}#sk-container-id-6 div.sk-label input.sk-toggleable__control:checked~label.sk-toggleable__label {background-color: #d4ebff;}#sk-container-id-6 input.sk-hidden--visually {border: 0;clip: rect(1px 1px 1px 1px);clip: rect(1px, 1px, 1px, 1px);height: 1px;margin: -1px;overflow: hidden;padding: 0;position: absolute;width: 1px;}#sk-container-id-6 div.sk-estimator {font-family: monospace;background-color: #f0f8ff;border: 1px dotted black;border-radius: 0.25em;box-sizing: border-box;margin-bottom: 0.5em;}#sk-container-id-6 div.sk-estimator:hover {background-color: #d4ebff;}#sk-container-id-6 div.sk-parallel-item::after {content: \"\";width: 100%;border-bottom: 1px solid gray;flex-grow: 1;}#sk-container-id-6 div.sk-label:hover label.sk-toggleable__label {background-color: #d4ebff;}#sk-container-id-6 div.sk-serial::before {content: \"\";position: absolute;border-left: 1px solid gray;box-sizing: border-box;top: 0;bottom: 0;left: 50%;z-index: 0;}#sk-container-id-6 div.sk-serial {display: flex;flex-direction: column;align-items: center;background-color: white;padding-right: 0.2em;padding-left: 0.2em;position: relative;}#sk-container-id-6 div.sk-item {position: relative;z-index: 1;}#sk-container-id-6 div.sk-parallel {display: flex;align-items: stretch;justify-content: center;background-color: white;position: relative;}#sk-container-id-6 div.sk-item::before, #sk-container-id-6 div.sk-parallel-item::before {content: \"\";position: absolute;border-left: 1px solid gray;box-sizing: border-box;top: 0;bottom: 0;left: 50%;z-index: -1;}#sk-container-id-6 div.sk-parallel-item {display: flex;flex-direction: column;z-index: 1;position: relative;background-color: white;}#sk-container-id-6 div.sk-parallel-item:first-child::after {align-self: flex-end;width: 50%;}#sk-container-id-6 div.sk-parallel-item:last-child::after {align-self: flex-start;width: 50%;}#sk-container-id-6 div.sk-parallel-item:only-child::after {width: 0;}#sk-container-id-6 div.sk-dashed-wrapped {border: 1px dashed gray;margin: 0 0.4em 0.5em 0.4em;box-sizing: border-box;padding-bottom: 0.4em;background-color: white;}#sk-container-id-6 div.sk-label label {font-family: monospace;font-weight: bold;display: inline-block;line-height: 1.2em;}#sk-container-id-6 div.sk-label-container {text-align: center;}#sk-container-id-6 div.sk-container {/* jupyter's `normalize.less` sets `[hidden] { display: none; }` but bootstrap.min.css set `[hidden] { display: none !important; }` so we also need the `!important` here to be able to override the default hidden behavior on the sphinx rendered scikit-learn.org. See: https://github.com/scikit-learn/scikit-learn/issues/21755 */display: inline-block !important;position: relative;}#sk-container-id-6 div.sk-text-repr-fallback {display: none;}</style><div id=\"sk-container-id-6\" class=\"sk-top-container\"><div class=\"sk-text-repr-fallback\"><pre>GridSearchCV(estimator=LogisticRegression(max_iter=1000, solver=&#x27;liblinear&#x27;),\n",
       "             param_grid={&#x27;penalty&#x27;: [&#x27;l1&#x27;, &#x27;l2&#x27;]}, return_train_score=True)</pre><b>In a Jupyter environment, please rerun this cell to show the HTML representation or trust the notebook. <br />On GitHub, the HTML representation is unable to render, please try loading this page with nbviewer.org.</b></div><div class=\"sk-container\" hidden><div class=\"sk-item sk-dashed-wrapped\"><div class=\"sk-label-container\"><div class=\"sk-label sk-toggleable\"><input class=\"sk-toggleable__control sk-hidden--visually\" id=\"sk-estimator-id-16\" type=\"checkbox\" ><label for=\"sk-estimator-id-16\" class=\"sk-toggleable__label sk-toggleable__label-arrow\">GridSearchCV</label><div class=\"sk-toggleable__content\"><pre>GridSearchCV(estimator=LogisticRegression(max_iter=1000, solver=&#x27;liblinear&#x27;),\n",
       "             param_grid={&#x27;penalty&#x27;: [&#x27;l1&#x27;, &#x27;l2&#x27;]}, return_train_score=True)</pre></div></div></div><div class=\"sk-parallel\"><div class=\"sk-parallel-item\"><div class=\"sk-item\"><div class=\"sk-label-container\"><div class=\"sk-label sk-toggleable\"><input class=\"sk-toggleable__control sk-hidden--visually\" id=\"sk-estimator-id-17\" type=\"checkbox\" ><label for=\"sk-estimator-id-17\" class=\"sk-toggleable__label sk-toggleable__label-arrow\">estimator: LogisticRegression</label><div class=\"sk-toggleable__content\"><pre>LogisticRegression(max_iter=1000, solver=&#x27;liblinear&#x27;)</pre></div></div></div><div class=\"sk-serial\"><div class=\"sk-item\"><div class=\"sk-estimator sk-toggleable\"><input class=\"sk-toggleable__control sk-hidden--visually\" id=\"sk-estimator-id-18\" type=\"checkbox\" ><label for=\"sk-estimator-id-18\" class=\"sk-toggleable__label sk-toggleable__label-arrow\">LogisticRegression</label><div class=\"sk-toggleable__content\"><pre>LogisticRegression(max_iter=1000, solver=&#x27;liblinear&#x27;)</pre></div></div></div></div></div></div></div></div></div></div>"
      ],
      "text/plain": [
       "GridSearchCV(estimator=LogisticRegression(max_iter=1000, solver='liblinear'),\n",
       "             param_grid={'penalty': ['l1', 'l2']}, return_train_score=True)"
      ]
     },
     "execution_count": 86,
     "metadata": {},
     "output_type": "execute_result"
    }
   ],
   "source": [
    "gscv = GridSearchCV(est, param_grid=params, return_train_score=True)\n",
    "\n",
    "gscv.fit(scaled_irs_Xtrn, irsytrn)"
   ]
  },
  {
   "cell_type": "code",
   "execution_count": 87,
   "metadata": {},
   "outputs": [
    {
     "data": {
      "text/html": [
       "<div>\n",
       "<style scoped>\n",
       "    .dataframe tbody tr th:only-of-type {\n",
       "        vertical-align: middle;\n",
       "    }\n",
       "\n",
       "    .dataframe tbody tr th {\n",
       "        vertical-align: top;\n",
       "    }\n",
       "\n",
       "    .dataframe thead th {\n",
       "        text-align: right;\n",
       "    }\n",
       "</style>\n",
       "<table border=\"1\" class=\"dataframe\">\n",
       "  <thead>\n",
       "    <tr style=\"text-align: right;\">\n",
       "      <th></th>\n",
       "      <th>mean_fit_time</th>\n",
       "      <th>std_fit_time</th>\n",
       "      <th>mean_score_time</th>\n",
       "      <th>std_score_time</th>\n",
       "      <th>param_penalty</th>\n",
       "      <th>params</th>\n",
       "      <th>split0_test_score</th>\n",
       "      <th>split1_test_score</th>\n",
       "      <th>split2_test_score</th>\n",
       "      <th>split3_test_score</th>\n",
       "      <th>...</th>\n",
       "      <th>mean_test_score</th>\n",
       "      <th>std_test_score</th>\n",
       "      <th>rank_test_score</th>\n",
       "      <th>split0_train_score</th>\n",
       "      <th>split1_train_score</th>\n",
       "      <th>split2_train_score</th>\n",
       "      <th>split3_train_score</th>\n",
       "      <th>split4_train_score</th>\n",
       "      <th>mean_train_score</th>\n",
       "      <th>std_train_score</th>\n",
       "    </tr>\n",
       "  </thead>\n",
       "  <tbody>\n",
       "    <tr>\n",
       "      <th>0</th>\n",
       "      <td>0.001072</td>\n",
       "      <td>0.001162</td>\n",
       "      <td>0.000913</td>\n",
       "      <td>0.001375</td>\n",
       "      <td>l1</td>\n",
       "      <td>{'penalty': 'l1'}</td>\n",
       "      <td>0.875</td>\n",
       "      <td>1.000000</td>\n",
       "      <td>0.958333</td>\n",
       "      <td>0.958333</td>\n",
       "      <td>...</td>\n",
       "      <td>0.941667</td>\n",
       "      <td>0.042492</td>\n",
       "      <td>1</td>\n",
       "      <td>0.93750</td>\n",
       "      <td>0.927083</td>\n",
       "      <td>0.937500</td>\n",
       "      <td>0.947917</td>\n",
       "      <td>0.93750</td>\n",
       "      <td>0.937500</td>\n",
       "      <td>0.006588</td>\n",
       "    </tr>\n",
       "    <tr>\n",
       "      <th>1</th>\n",
       "      <td>0.001181</td>\n",
       "      <td>0.002362</td>\n",
       "      <td>0.000187</td>\n",
       "      <td>0.000374</td>\n",
       "      <td>l2</td>\n",
       "      <td>{'penalty': 'l2'}</td>\n",
       "      <td>0.875</td>\n",
       "      <td>0.958333</td>\n",
       "      <td>0.958333</td>\n",
       "      <td>0.958333</td>\n",
       "      <td>...</td>\n",
       "      <td>0.916667</td>\n",
       "      <td>0.052705</td>\n",
       "      <td>2</td>\n",
       "      <td>0.90625</td>\n",
       "      <td>0.916667</td>\n",
       "      <td>0.916667</td>\n",
       "      <td>0.927083</td>\n",
       "      <td>0.90625</td>\n",
       "      <td>0.914583</td>\n",
       "      <td>0.007795</td>\n",
       "    </tr>\n",
       "  </tbody>\n",
       "</table>\n",
       "<p>2 rows × 21 columns</p>\n",
       "</div>"
      ],
      "text/plain": [
       "   mean_fit_time  std_fit_time  mean_score_time  std_score_time param_penalty  \\\n",
       "0       0.001072      0.001162         0.000913        0.001375            l1   \n",
       "1       0.001181      0.002362         0.000187        0.000374            l2   \n",
       "\n",
       "              params  split0_test_score  split1_test_score  split2_test_score  \\\n",
       "0  {'penalty': 'l1'}              0.875           1.000000           0.958333   \n",
       "1  {'penalty': 'l2'}              0.875           0.958333           0.958333   \n",
       "\n",
       "   split3_test_score  ...  mean_test_score  std_test_score  rank_test_score  \\\n",
       "0           0.958333  ...         0.941667        0.042492                1   \n",
       "1           0.958333  ...         0.916667        0.052705                2   \n",
       "\n",
       "   split0_train_score  split1_train_score  split2_train_score  \\\n",
       "0             0.93750            0.927083            0.937500   \n",
       "1             0.90625            0.916667            0.916667   \n",
       "\n",
       "   split3_train_score  split4_train_score  mean_train_score  std_train_score  \n",
       "0            0.947917             0.93750          0.937500         0.006588  \n",
       "1            0.927083             0.90625          0.914583         0.007795  \n",
       "\n",
       "[2 rows x 21 columns]"
      ]
     },
     "execution_count": 87,
     "metadata": {},
     "output_type": "execute_result"
    }
   ],
   "source": [
    "cv_resultsDF = pd.DataFrame(gscv.cv_results_)\n",
    "cv_resultsDF"
   ]
  },
  {
   "cell_type": "code",
   "execution_count": 88,
   "metadata": {},
   "outputs": [
    {
     "data": {
      "text/plain": [
       "({'penalty': 'l1'}, 0, 0.9416666666666668)"
      ]
     },
     "execution_count": 88,
     "metadata": {},
     "output_type": "execute_result"
    }
   ],
   "source": [
    "gscv.best_params_, gscv.best_index_, gscv.best_score_"
   ]
  },
  {
   "cell_type": "code",
   "execution_count": 89,
   "metadata": {},
   "outputs": [],
   "source": [
    "## 데이터에 적합한 모델 찾기\n",
    "from sklearn.utils.discovery import all_estimators "
   ]
  },
  {
   "cell_type": "code",
   "execution_count": 90,
   "metadata": {},
   "outputs": [
    {
     "name": "stdout",
     "output_type": "stream",
     "text": [
      "AdaBoostClassifier()\n",
      "BaggingClassifier()\n",
      "BernoulliNB()\n",
      "CalibratedClassifierCV()\n",
      "Negative values in data passed to CategoricalNB (input X)\n",
      "__init__() missing 1 required positional argument: 'base_estimator'\n",
      "Negative values in data passed to ComplementNB (input X)\n",
      "DecisionTreeClassifier()\n",
      "DummyClassifier()\n",
      "ExtraTreeClassifier()\n",
      "ExtraTreesClassifier()\n",
      "GaussianNB()\n",
      "GaussianProcessClassifier()\n",
      "GradientBoostingClassifier()\n",
      "HistGradientBoostingClassifier()\n",
      "KNeighborsClassifier()\n",
      "LabelPropagation()\n",
      "LabelSpreading()\n",
      "LinearDiscriminantAnalysis()\n",
      "LinearSVC()\n",
      "LogisticRegression()\n"
     ]
    },
    {
     "name": "stderr",
     "output_type": "stream",
     "text": [
      "c:\\ProgramData\\anaconda3\\envs\\EXAM_ML\\lib\\site-packages\\sklearn\\svm\\_classes.py:32: FutureWarning: The default value of `dual` will change from `True` to `'auto'` in 1.5. Set the value of `dual` explicitly to suppress the warning.\n",
      "  warnings.warn(\n"
     ]
    },
    {
     "name": "stdout",
     "output_type": "stream",
     "text": [
      "LogisticRegressionCV()\n",
      "MLPClassifier()\n",
      "__init__() missing 1 required positional argument: 'estimator'\n",
      "Negative values in data passed to MultinomialNB (input X)\n",
      "NearestCentroid()\n",
      "NuSVC()\n",
      "__init__() missing 1 required positional argument: 'estimator'\n",
      "__init__() missing 1 required positional argument: 'estimator'\n",
      "__init__() missing 1 required positional argument: 'estimator'\n",
      "PassiveAggressiveClassifier()\n",
      "Perceptron()\n",
      "QuadraticDiscriminantAnalysis()\n",
      "RadiusNeighborsClassifier()\n",
      "RandomForestClassifier()\n",
      "RidgeClassifier()\n",
      "RidgeClassifierCV()\n",
      "SGDClassifier()\n",
      "SVC()\n",
      "__init__() missing 1 required positional argument: 'estimators'\n",
      "__init__() missing 1 required positional argument: 'estimators'\n"
     ]
    },
    {
     "name": "stderr",
     "output_type": "stream",
     "text": [
      "c:\\ProgramData\\anaconda3\\envs\\EXAM_ML\\lib\\site-packages\\sklearn\\neural_network\\_multilayer_perceptron.py:691: ConvergenceWarning: Stochastic Optimizer: Maximum iterations (200) reached and the optimization hasn't converged yet.\n",
      "  warnings.warn(\n"
     ]
    }
   ],
   "source": [
    "mdls = all_estimators('classifier')\n",
    "for mdl_name, mdl in mdls :\n",
    "    try :\n",
    "        print(mdl().fit(scaled_irs_Xtrn, irsytrn))\n",
    "    except Exception as e:\n",
    "        print(e)"
   ]
  },
  {
   "cell_type": "code",
   "execution_count": null,
   "metadata": {},
   "outputs": [],
   "source": []
  }
 ],
 "metadata": {
  "kernelspec": {
   "display_name": "EXAM_ML",
   "language": "python",
   "name": "python3"
  },
  "language_info": {
   "codemirror_mode": {
    "name": "ipython",
    "version": 3
   },
   "file_extension": ".py",
   "mimetype": "text/x-python",
   "name": "python",
   "nbconvert_exporter": "python",
   "pygments_lexer": "ipython3",
   "version": "3.9.18"
  }
 },
 "nbformat": 4,
 "nbformat_minor": 2
}
