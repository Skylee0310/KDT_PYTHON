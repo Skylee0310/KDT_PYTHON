{
 "cells": [
  {
   "cell_type": "markdown",
   "metadata": {},
   "source": [
    "### Tensor shape 변경\n",
    "- reshape(), view() : 원소 개수가 유지됨. 기존 텐서를 공유함(원본 변경 시 함께 변경됨)\n"
   ]
  },
  {
   "cell_type": "code",
   "execution_count": 3,
   "metadata": {},
   "outputs": [],
   "source": [
    "# 모듈 로딩\n",
    "import torch"
   ]
  },
  {
   "cell_type": "code",
   "execution_count": 4,
   "metadata": {},
   "outputs": [
    {
     "name": "stdout",
     "output_type": "stream",
     "text": [
      "torch.Size([2, 3]) 2\n",
      "tensor([[1, 2, 3],\n",
      "        [4, 5, 6]])\n"
     ]
    }
   ],
   "source": [
    "# 텐서 데이터 생성 \n",
    "t1 = torch.tensor([[1,2,3], [4,5,6]])\n",
    "print(t1.shape, t1.ndim)\n",
    "print(t1)"
   ]
  },
  {
   "cell_type": "code",
   "execution_count": 5,
   "metadata": {},
   "outputs": [
    {
     "data": {
      "text/plain": [
       "tensor([[1, 2],\n",
       "        [3, 4],\n",
       "        [5, 6]])"
      ]
     },
     "execution_count": 5,
     "metadata": {},
     "output_type": "execute_result"
    }
   ],
   "source": [
    "# 2행 3열 => 3행 2열로 변경 : 원소 수 동일(6개).\n",
    "t1.view(3, 2) # view 반환값 --> tensor "
   ]
  },
  {
   "cell_type": "code",
   "execution_count": 6,
   "metadata": {},
   "outputs": [
    {
     "data": {
      "text/plain": [
       "tensor([[1],\n",
       "        [2],\n",
       "        [3],\n",
       "        [4],\n",
       "        [5],\n",
       "        [6]])"
      ]
     },
     "execution_count": 6,
     "metadata": {},
     "output_type": "execute_result"
    }
   ],
   "source": [
    "# 2행 3열 => 6행 1열로 변경 : 원소 수 동일(6개).\n",
    "t1.view(6,1) # view 반환값 --> tensor "
   ]
  },
  {
   "cell_type": "code",
   "execution_count": 7,
   "metadata": {},
   "outputs": [
    {
     "name": "stdout",
     "output_type": "stream",
     "text": [
      "t1\n",
      "tensor([[1, 2, 3],\n",
      "        [4, 5, 6]])\n",
      "\n",
      "\n",
      "t1.view(-1, 1)\n",
      "tensor([[1],\n",
      "        [2],\n",
      "        [3],\n",
      "        [4],\n",
      "        [5],\n",
      "        [6]])\n",
      "tensor([[1],\n",
      "        [2],\n",
      "        [3],\n",
      "        [4],\n",
      "        [5],\n",
      "        [6]])\n"
     ]
    }
   ],
   "source": [
    "# 2행 3열 => 6행 1열로 변경 : 원소 수 동일(6개).\n",
    "# -1 : 원소 수를 알아서 행에 할당.\n",
    "\n",
    "t1 = torch.tensor([[1,2,3], [4,5,6]])\n",
    "print('t1', t1, '\\n', 't1.view(-1, 1)', t1.view(-1, 1), sep='\\n')\n",
    "\n",
    "print(t1.view(6, -1))"
   ]
  },
  {
   "cell_type": "code",
   "execution_count": 8,
   "metadata": {},
   "outputs": [
    {
     "data": {
      "text/plain": [
       "tensor([[1, 2, 3],\n",
       "        [4, 5, 6]])"
      ]
     },
     "execution_count": 8,
     "metadata": {},
     "output_type": "execute_result"
    }
   ],
   "source": [
    "# tensor.reshape()\n",
    "t1.reshape(2,3)"
   ]
  },
  {
   "cell_type": "code",
   "execution_count": 9,
   "metadata": {},
   "outputs": [],
   "source": [
    "# 원소 수가 유지되어야 함.\n",
    "#t1.reshape(-1, 7) # RuntimeError : shape '[-1, 7]' is invalid for input of size 6\n",
    "#t1.reshape(7, -1) # RuntimeError : # shape '[-1, 7]' is invalid for input of size 6"
   ]
  },
  {
   "cell_type": "markdown",
   "metadata": {},
   "source": [
    "- 전치 : 열<=> 행 변경 "
   ]
  },
  {
   "cell_type": "code",
   "execution_count": 10,
   "metadata": {},
   "outputs": [
    {
     "name": "stdout",
     "output_type": "stream",
     "text": [
      "torch.Size([2, 3])\n",
      "torch.Size([3, 2]) False\n"
     ]
    }
   ],
   "source": [
    "print(t1.shape)\n",
    "t2 = t1.T\n",
    "print(t2.shape, t2.is_contiguous())"
   ]
  },
  {
   "cell_type": "code",
   "execution_count": 11,
   "metadata": {},
   "outputs": [
    {
     "name": "stdout",
     "output_type": "stream",
     "text": [
      "torch.Size([1, 6]) True\n"
     ]
    }
   ],
   "source": [
    "# t2.view(-1, 6) # RuntimeError: view size is not compatible with input tensor's size and stride (at least one dimension spans across two contiguous subspaces). Use .reshape(...) instead.\n",
    "\n",
    "t3=t2.reshape(-1, 6)\n",
    "print(t3.shape, t3.is_contiguous())"
   ]
  },
  {
   "cell_type": "markdown",
   "metadata": {},
   "source": [
    "메모리 \n",
    "order (scikit learn ---> 'order' = 'c'/'f')"
   ]
  },
  {
   "cell_type": "markdown",
   "metadata": {},
   "source": [
    "### 텐서 데이터의 메모리 저장 정보 및 메타 데이터\n",
    "- 현재 저장 형태 검색 방향 정보, 시작 정보"
   ]
  },
  {
   "cell_type": "markdown",
   "metadata": {},
   "source": []
  },
  {
   "cell_type": "code",
   "execution_count": 29,
   "metadata": {},
   "outputs": [
    {
     "name": "stdout",
     "output_type": "stream",
     "text": [
      "torch.Size([2, 3]) 2\n",
      "t1.storage()=> 1\n",
      " 2\n",
      " 3\n",
      " 4\n",
      " 5\n",
      " 6\n",
      "[torch.storage.TypedStorage(dtype=torch.int64, device=cpu) of size 6]\n",
      "t1.storage_offset() {0}\n",
      "t1.stride()=>, <built-in method stride of Tensor object at 0x000001F9D872C590>\n",
      "t1.is_contiguous()=>, True\n"
     ]
    }
   ],
   "source": [
    "t1 = torch.tensor([[1,2,3], [4,5,6]])\n",
    "print(t1.shape, t1.ndim)\n",
    "print(f't1.storage()=>{t1.storage()}')\n",
    "print(f't1.storage_offset()', {t1.storage_offset()})\n",
    "print(f't1.stride()=>, {t1.stride}')\n",
    "print(f't1.is_contiguous()=>, {t1.is_contiguous()}') #연속적인지 확인"
   ]
  },
  {
   "cell_type": "code",
   "execution_count": 28,
   "metadata": {},
   "outputs": [
    {
     "name": "stdout",
     "output_type": "stream",
     "text": [
      "torch.Size([3, 2]) 2\n",
      "t2.storage()=> 1\n",
      " 2\n",
      " 11\n",
      " 22\n",
      " 44\n",
      " 55\n",
      "[torch.storage.TypedStorage(dtype=torch.int64, device=cpu) of size 6]\n",
      "t2.storage_offset(), 0\n",
      "t2.stride()=>, (2, 1)\n",
      "t2.is_contiguous()=>, True\n"
     ]
    }
   ],
   "source": [
    "t2 = t1.view(-1, 2)\n",
    "print(t2.shape, t2.ndim)\n",
    "print(f't2.storage()=>{t2.storage()}')\n",
    "print(f't2.storage_offset(), {t2.storage_offset()}')\n",
    "print(f't2.stride()=>, {t2.stride()}')\n",
    "print(f't2.is_contiguous()=>, {t2.is_contiguous()}')"
   ]
  },
  {
   "cell_type": "code",
   "execution_count": 14,
   "metadata": {},
   "outputs": [],
   "source": [
    "import numpy as np"
   ]
  },
  {
   "cell_type": "markdown",
   "metadata": {},
   "source": [
    "### 차원 제거/추가\n",
    "- tensor.squeeze() : 텐서에서 차원이 1인 것 제거\n",
    "- tensor.unsqueeze(dim) : 텐서에서 차원이 1인 것 추가\n"
   ]
  },
  {
   "cell_type": "code",
   "execution_count": 15,
   "metadata": {},
   "outputs": [],
   "source": [
    "# 데이터 생성\n",
    "t1 = torch.tensor([[1,2], [3,4]])\n",
    "t2 = torch.tensor([[1,2,3,4]]) \n",
    "t2 = torch.tensor([[[1,2,3,4]]]) # 차원 방정식 "
   ]
  },
  {
   "cell_type": "code",
   "execution_count": 16,
   "metadata": {},
   "outputs": [
    {
     "name": "stdout",
     "output_type": "stream",
     "text": [
      "t1=> torch.Size([2, 2]), 2D, <built-in method data_ptr of Tensor object at 0x000001F9D8E651D0>\n",
      "t2=> torch.Size([1, 1, 4]), 3D, <built-in method data_ptr of Tensor object at 0x000001F9D6A63950>\n",
      "t3=> torch.Size([1, 6]), 2D, <built-in method data_ptr of Tensor object at 0x000001F9D6A63950>\n"
     ]
    }
   ],
   "source": [
    "print(f't1=> {t1.shape}, {t1.ndim}D, {t1.data_ptr}')\n",
    "print(f't2=> {t2.shape}, {t2.ndim}D, {t2.data_ptr}')\n",
    "print(f't3=> {t3.shape}, {t3.ndim}D, {t2.data_ptr}')"
   ]
  },
  {
   "cell_type": "code",
   "execution_count": 17,
   "metadata": {},
   "outputs": [
    {
     "name": "stdout",
     "output_type": "stream",
     "text": [
      "t1 차원 축소 => torch.Size([2, 2]), 2D, <built-in method data_ptr of Tensor object at 0x000001F9D0B944A0>\n",
      "t2 차원 축소 => torch.Size([4]), 1D, <built-in method data_ptr of Tensor object at 0x000001F9D0B8A950>\n",
      "t3 차원 축소 => torch.Size([6]), 1D, <built-in method data_ptr of Tensor object at 0x000001F9D8E65630>\n",
      "t4 차원 축소 => torch.Size([6]), 1D, <built-in method data_ptr of Tensor object at 0x000001F9D0C630E0>\n"
     ]
    }
   ],
   "source": [
    "t11 = t1.squeeze()\n",
    "t22 = t2.squeeze()\n",
    "t33 = t3.squeeze()\n",
    "t44 = t3.squeeze(dim=0) # 지정된 것만 (0 데이터수, 1 채널, 2 높이, 3 너비) 순\n",
    "print(f't1 차원 축소 => {t11.shape}, {t11.ndim}D, {t11.data_ptr}') # 줄일 것이 없음!!\n",
    "print(f't2 차원 축소 => {t22.shape}, {t22.ndim}D, {t22.data_ptr}') #\n",
    "print(f't3 차원 축소 => {t33.shape}, {t33.ndim}D, {t33.data_ptr}') #\n",
    "print(f't4 차원 축소 => {t44.shape}, {t44.ndim}D, {t44.data_ptr}') #"
   ]
  },
  {
   "cell_type": "code",
   "execution_count": 18,
   "metadata": {},
   "outputs": [
    {
     "name": "stdout",
     "output_type": "stream",
     "text": [
      "t1 정보 => torch.Size([2, 2]), 2D, <built-in method data_ptr of Tensor object at 0x000001F9D8E651D0>, (2, 1)\n"
     ]
    }
   ],
   "source": [
    "# 원소/ 요소 수 변경 없이 1 차원 증가 시키기 => torch.unsqueeze(dim)\n",
    "print(f't1 정보 => {t1.shape}, {t1.ndim}D, {t1.data_ptr}, {t1.stride()}')\n"
   ]
  },
  {
   "cell_type": "code",
   "execution_count": 19,
   "metadata": {},
   "outputs": [
    {
     "name": "stdout",
     "output_type": "stream",
     "text": [
      "t1 차원 추가 => torch.Size([1, 2, 2]), 3D, <built-in method data_ptr of Tensor object at 0x000001F9D8E773B0>, (4, 2, 1)\n",
      "t2 차원 추가 => torch.Size([2, 2, 1]), 3D, <built-in method data_ptr of Tensor object at 0x000001F9D0B944A0>, (2, 1, 1)\n"
     ]
    }
   ],
   "source": [
    "t11 = t1.unsqueeze(dim=0)\n",
    "t22 = t1.unsqueeze(dim=-1)\n",
    "\n",
    "print(f't1 차원 추가 => {t11.shape}, {t11.ndim}D, {t11.data_ptr}, {t11.stride()}') # stride 가 몬데...\n",
    "print(f't2 차원 추가 => {t22.shape}, {t22.ndim}D, {t22.data_ptr}, {t22.stride()}')\n"
   ]
  },
  {
   "cell_type": "markdown",
   "metadata": {},
   "source": [
    "type(torch.XXX) => 형변환 메서드."
   ]
  },
  {
   "cell_type": "markdown",
   "metadata": {},
   "source": [
    "<hr>"
   ]
  },
  {
   "cell_type": "markdown",
   "metadata": {},
   "source": [
    "T -> 행 ↔ 열 (2차원)"
   ]
  },
  {
   "cell_type": "markdown",
   "metadata": {},
   "source": [
    "### Tensor 차원/ 형태 변경"
   ]
  },
  {
   "cell_type": "code",
   "execution_count": 20,
   "metadata": {},
   "outputs": [
    {
     "name": "stdout",
     "output_type": "stream",
     "text": [
      "t1.shape => torch.Size([1, 3, 2]), 3D\n"
     ]
    }
   ],
   "source": [
    "t1 = torch.tensor([[[1,2], [11,22], [44,55]]])\n",
    "print(f't1.shape => {t1.shape}, {t1.ndim}D')"
   ]
  },
  {
   "cell_type": "code",
   "execution_count": 21,
   "metadata": {},
   "outputs": [
    {
     "name": "stdout",
     "output_type": "stream",
     "text": [
      "t11.shape => torch.Size([2, 3, 1]), 3D\n"
     ]
    }
   ],
   "source": [
    " # 2개의 차원을 변경하는 메서드 \n",
    "#t1.transpose() #이대로는 오류 빰!\n",
    "t11 = t1.transpose(0, 2) # HEY T, 0번 자리와 2번 자리를 서로 바꿔줘~\n",
    "print(f't11.shape => {t11.shape}, {t11.ndim}D')"
   ]
  },
  {
   "cell_type": "code",
   "execution_count": 22,
   "metadata": {},
   "outputs": [
    {
     "name": "stdout",
     "output_type": "stream",
     "text": [
      "t22.shape => torch.Size([3, 2, 1]), 3D\n"
     ]
    }
   ],
   "source": [
    " # 2개의 차원을 변경하는 메서드 \n",
    "t22 = t1.permute(1,2,0) # 첫번쨰자리에 3번 자리 두번째 자리에 2번 자리, 세번째 0번자리 넣어줘.)\n",
    "print(f't22.shape => {t22.shape}, {t22.ndim}D')"
   ]
  },
  {
   "cell_type": "code",
   "execution_count": 23,
   "metadata": {},
   "outputs": [
    {
     "name": "stdout",
     "output_type": "stream",
     "text": [
      "t1.data_ptr() => 2729497858752, \n",
      "t11.data_ptr() => 2729497858752, \n",
      "t22.data_ptr() => 2729497858752\n"
     ]
    }
   ],
   "source": [
    "print(f't1.data_ptr() => {t1.data_ptr()}, \\nt11.data_ptr() => {t11.data_ptr()}, \\nt22.data_ptr() => {t22.data_ptr()}')"
   ]
  },
  {
   "cell_type": "code",
   "execution_count": null,
   "metadata": {},
   "outputs": [],
   "source": []
  }
 ],
 "metadata": {
  "kernelspec": {
   "display_name": "Torch_py38",
   "language": "python",
   "name": "python3"
  },
  "language_info": {
   "codemirror_mode": {
    "name": "ipython",
    "version": 3
   },
   "file_extension": ".py",
   "mimetype": "text/x-python",
   "name": "python",
   "nbconvert_exporter": "python",
   "pygments_lexer": "ipython3",
   "version": "3.8.18"
  }
 },
 "nbformat": 4,
 "nbformat_minor": 2
}
