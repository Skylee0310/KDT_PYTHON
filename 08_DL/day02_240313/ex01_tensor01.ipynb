{
 "cells": [
  {
   "cell_type": "markdown",
   "metadata": {},
   "source": [
    "### 텐서(Tensor) 살펴보기\n",
    "- Pytorch에서 데이터 저장 자료형\n",
    "- 모델 입력(input), 출력(output) 데이터 형태"
   ]
  },
  {
   "cell_type": "markdown",
   "metadata": {},
   "source": [
    "- 모듈 로딩"
   ]
  },
  {
   "cell_type": "code",
   "execution_count": 2,
   "metadata": {},
   "outputs": [],
   "source": [
    "import torch"
   ]
  },
  {
   "cell_type": "markdown",
   "metadata": {},
   "source": [
    "- Tensor 속성 관련 함수"
   ]
  },
  {
   "cell_type": "code",
   "execution_count": 3,
   "metadata": {},
   "outputs": [],
   "source": [
    "# 매개 변수 : 텐서 인스턴스, 텐서 변수명\n",
    "def print_attr(tensor, name) :\n",
    "    print(f'[Tensor {name}]\\'s Attribute')\n",
    "    print(f'- tensor.shape : {tensor.shape}')\n",
    "    print(f'- tensor.ndim : {tensor.ndim}D')\n",
    "    print(f'- tensor.dtype : {tensor.dtype}')\n",
    "    print(f'- tensor.device : {tensor.device}')\n",
    "    print(f'- tensor.requires_grad : {tensor.requires_grad}')\n",
    "    print(f'- tensor.data : {tensor.data}')\n",
    "    print()"
   ]
  },
  {
   "cell_type": "markdown",
   "metadata": {},
   "source": [
    "- Tensor 생성 (1) 특정 데이터 타입의 Tensor 생성\n",
    "    * 타입별 텐서 클래스 생성자 활용\n",
    "    * 예) IntTensor(), FloatTensor(), BoolTensor()"
   ]
  },
  {
   "cell_type": "code",
   "execution_count": 4,
   "metadata": {},
   "outputs": [],
   "source": [
    "# 정수 타비 텐서 생성\n",
    "t1 = torch.IntTensor(10) # 괄호안에는 shape...?\n",
    "t2 = torch.IntTensor([10, 22]) # 실수인 10.0를 넣어도 정수로 변환해줌. but 소수점 뒷자리를 날리기 때문에 손실 관련 워닝 발생.\n",
    "t3 = torch.BoolTensor([1,1,0,-1])\n",
    "t4 = torch.FloatTensor([10, 20]) # 정수로 넣어도 실수로 변환."
   ]
  },
  {
   "cell_type": "code",
   "execution_count": 5,
   "metadata": {},
   "outputs": [
    {
     "name": "stdout",
     "output_type": "stream",
     "text": [
      "[Tensor t1]'s Attribute\n",
      "- tensor.shape : torch.Size([10])\n",
      "- tensor.ndim : 1D\n",
      "- tensor.dtype : torch.int32\n",
      "- tensor.device : cpu\n",
      "- tensor.requires_grad : False\n",
      "- tensor.data : tensor([0, 0, 0, 0, 0, 0, 0, 0, 0, 0], dtype=torch.int32)\n",
      "\n",
      "[Tensor t2]'s Attribute\n",
      "- tensor.shape : torch.Size([2])\n",
      "- tensor.ndim : 1D\n",
      "- tensor.dtype : torch.int32\n",
      "- tensor.device : cpu\n",
      "- tensor.requires_grad : False\n",
      "- tensor.data : tensor([10, 22], dtype=torch.int32)\n",
      "\n",
      "[Tensor t3]'s Attribute\n",
      "- tensor.shape : torch.Size([4])\n",
      "- tensor.ndim : 1D\n",
      "- tensor.dtype : torch.bool\n",
      "- tensor.device : cpu\n",
      "- tensor.requires_grad : False\n",
      "- tensor.data : tensor([ True,  True, False,  True])\n",
      "\n",
      "[Tensor t4]'s Attribute\n",
      "- tensor.shape : torch.Size([2])\n",
      "- tensor.ndim : 1D\n",
      "- tensor.dtype : torch.float32\n",
      "- tensor.device : cpu\n",
      "- tensor.requires_grad : False\n",
      "- tensor.data : tensor([10., 20.])\n",
      "\n"
     ]
    }
   ],
   "source": [
    "print_attr(t1, 't1')\n",
    "\n",
    "print_attr(t2,'t2')\n",
    "\n",
    "print_attr(t3,'t3')\n",
    "\n",
    "print_attr(t4,'t4')"
   ]
  },
  {
   "cell_type": "markdown",
   "metadata": {},
   "source": [
    "- Tensor 생성 (2) 원하는 값으로 텐서 생성 => torch.tensor()"
   ]
  },
  {
   "cell_type": "code",
   "execution_count": 6,
   "metadata": {},
   "outputs": [
    {
     "name": "stdout",
     "output_type": "stream",
     "text": [
      "[Tensor t1]'s Attribute\n",
      "- tensor.shape : torch.Size([])\n",
      "- tensor.ndim : 0D\n",
      "- tensor.dtype : torch.int64\n",
      "- tensor.device : cpu\n",
      "- tensor.requires_grad : False\n",
      "- tensor.data : 10\n",
      "\n"
     ]
    }
   ],
   "source": [
    "t1 = torch.tensor(10) # scalar 데이터, int64\n",
    "print_attr(t1, 't1')"
   ]
  },
  {
   "cell_type": "code",
   "execution_count": 7,
   "metadata": {},
   "outputs": [
    {
     "name": "stdout",
     "output_type": "stream",
     "text": [
      "[Tensor t1]'s Attribute\n",
      "- tensor.shape : torch.Size([])\n",
      "- tensor.ndim : 0D\n",
      "- tensor.dtype : torch.float32\n",
      "- tensor.device : cpu\n",
      "- tensor.requires_grad : False\n",
      "- tensor.data : 10.0\n",
      "\n"
     ]
    }
   ],
   "source": [
    "t1 = torch.tensor(10.) #scalar 데이터, float32 \n",
    "print_attr(t1, 't1')"
   ]
  },
  {
   "cell_type": "code",
   "execution_count": 8,
   "metadata": {},
   "outputs": [
    {
     "name": "stdout",
     "output_type": "stream",
     "text": [
      "[Tensor t1]'s Attribute\n",
      "- tensor.shape : torch.Size([])\n",
      "- tensor.ndim : 0D\n",
      "- tensor.dtype : torch.int32\n",
      "- tensor.device : cpu\n",
      "- tensor.requires_grad : False\n",
      "- tensor.data : 10\n",
      "\n"
     ]
    },
    {
     "name": "stderr",
     "output_type": "stream",
     "text": [
      "C:\\Users\\KDP-48\\AppData\\Local\\Temp\\ipykernel_40788\\812114866.py:2: DeprecationWarning: an integer is required (got type float).  Implicit conversion to integers using __int__ is deprecated, and may be removed in a future version of Python.\n",
      "  t1 = torch.tensor(10., dtype=torch.int32) #scalar 데이터, int6int32 ==> 워닝 발생\n"
     ]
    }
   ],
   "source": [
    "# dtype 매개변수 : 원하는 데이터 타입 지정 가능.\n",
    "t1 = torch.tensor(10., dtype=torch.int32) #scalar 데이터, int6int32 ==> 워닝 발생\n",
    "print_attr(t1, 't1')"
   ]
  },
  {
   "cell_type": "code",
   "execution_count": 9,
   "metadata": {},
   "outputs": [
    {
     "name": "stdout",
     "output_type": "stream",
     "text": [
      "[Tensor t1]'s Attribute\n",
      "- tensor.shape : torch.Size([])\n",
      "- tensor.ndim : 0D\n",
      "- tensor.dtype : torch.bool\n",
      "- tensor.device : cpu\n",
      "- tensor.requires_grad : False\n",
      "- tensor.data : True\n",
      "\n"
     ]
    }
   ],
   "source": [
    "t1 = torch.tensor(10., dtype=torch.bool) #scalar 데이터 --> float32 ▶ bool\n",
    "print_attr(t1, 't1')"
   ]
  },
  {
   "cell_type": "code",
   "execution_count": 10,
   "metadata": {},
   "outputs": [
    {
     "name": "stdout",
     "output_type": "stream",
     "text": [
      "[Tensor t1]'s Attribute\n",
      "- tensor.shape : torch.Size([3])\n",
      "- tensor.ndim : 1D\n",
      "- tensor.dtype : torch.int8\n",
      "- tensor.device : cpu\n",
      "- tensor.requires_grad : False\n",
      "- tensor.data : tensor([1, 2, 3], dtype=torch.int8)\n",
      "\n"
     ]
    }
   ],
   "source": [
    "t1 = torch.tensor([1,2,3], dtype=torch.int8) # 1D 데이터\n",
    "print_attr(t1, 't1')"
   ]
  },
  {
   "cell_type": "code",
   "execution_count": 11,
   "metadata": {},
   "outputs": [
    {
     "name": "stdout",
     "output_type": "stream",
     "text": [
      "[Tensor t1]'s Attribute\n",
      "- tensor.shape : torch.Size([1, 3])\n",
      "- tensor.ndim : 2D\n",
      "- tensor.dtype : torch.int8\n",
      "- tensor.device : cpu\n",
      "- tensor.requires_grad : False\n",
      "- tensor.data : tensor([[1, 2, 3]], dtype=torch.int8)\n",
      "\n"
     ]
    }
   ],
   "source": [
    "t1 = torch.tensor([[1,2,3]], dtype=torch.int8)# 2D 데이터\n",
    "print_attr(t1, 't1')"
   ]
  },
  {
   "cell_type": "markdown",
   "metadata": {},
   "source": [
    "- Tensor 생성(3) - 특정 값으로 채운 텐서 => 0, 1 등의 값"
   ]
  },
  {
   "cell_type": "code",
   "execution_count": 12,
   "metadata": {},
   "outputs": [
    {
     "name": "stdout",
     "output_type": "stream",
     "text": [
      "[Tensor t1]'s Attribute\n",
      "- tensor.shape : torch.Size([5])\n",
      "- tensor.ndim : 1D\n",
      "- tensor.dtype : torch.float32\n",
      "- tensor.device : cpu\n",
      "- tensor.requires_grad : False\n",
      "- tensor.data : tensor([0., 0., 0., 0., 0.])\n",
      "\n"
     ]
    }
   ],
   "source": [
    "# 0으로 채운 텐서\n",
    "t1 = torch.zeros(5)\n",
    "print_attr(t1, 't1')"
   ]
  },
  {
   "cell_type": "code",
   "execution_count": 13,
   "metadata": {},
   "outputs": [
    {
     "name": "stdout",
     "output_type": "stream",
     "text": [
      "[Tensor t1]'s Attribute\n",
      "- tensor.shape : torch.Size([5, 5])\n",
      "- tensor.ndim : 2D\n",
      "- tensor.dtype : torch.int8\n",
      "- tensor.device : cpu\n",
      "- tensor.requires_grad : False\n",
      "- tensor.data : tensor([[0, 0, 0, 0, 0],\n",
      "        [0, 0, 0, 0, 0],\n",
      "        [0, 0, 0, 0, 0],\n",
      "        [0, 0, 0, 0, 0],\n",
      "        [0, 0, 0, 0, 0]], dtype=torch.int8)\n",
      "\n"
     ]
    }
   ],
   "source": [
    "# 0으로 채운 텐서\n",
    "t1 = torch.zeros((5,5), dtype = torch.int8)\n",
    "print_attr(t1, 't1')"
   ]
  },
  {
   "cell_type": "code",
   "execution_count": 14,
   "metadata": {},
   "outputs": [
    {
     "name": "stdout",
     "output_type": "stream",
     "text": [
      "[Tensor t1]'s Attribute\n",
      "- tensor.shape : torch.Size([2, 4])\n",
      "- tensor.ndim : 2D\n",
      "- tensor.dtype : torch.int8\n",
      "- tensor.device : cpu\n",
      "- tensor.requires_grad : False\n",
      "- tensor.data : tensor([[1, 1, 1, 1],\n",
      "        [1, 1, 1, 1]], dtype=torch.int8)\n",
      "\n"
     ]
    }
   ],
   "source": [
    "# 1으로 채운 텐서\n",
    "t1 = torch.ones((2,4), dtype = torch.int8)\n",
    "print_attr(t1, 't1')"
   ]
  },
  {
   "cell_type": "code",
   "execution_count": 15,
   "metadata": {},
   "outputs": [
    {
     "name": "stdout",
     "output_type": "stream",
     "text": [
      "torch.Size([2, 6])\n"
     ]
    }
   ],
   "source": [
    "# 이미 존재하는 텐서와 동일한 shape으로 잡고 값 채우기 => zeros_like(), ones_like()\n",
    "img=torch.tensor([[2, 3, 4, 5, 6, 7], [2, 3, 4, 5, 6, 7]])\n",
    "print(img.shape)"
   ]
  },
  {
   "cell_type": "code",
   "execution_count": 16,
   "metadata": {},
   "outputs": [
    {
     "name": "stdout",
     "output_type": "stream",
     "text": [
      "tensor([[0, 0, 0, 0, 0, 0],\n",
      "        [0, 0, 0, 0, 0, 0]])\n"
     ]
    }
   ],
   "source": [
    "# 이미 존재하는 텐서와 동일한 shape에 0 채우기.\n",
    "zero_img = torch.zeros_like(img)\n",
    "print(zero_img)"
   ]
  },
  {
   "cell_type": "code",
   "execution_count": 17,
   "metadata": {},
   "outputs": [
    {
     "name": "stdout",
     "output_type": "stream",
     "text": [
      "tensor([[1, 1, 1, 1, 1, 1],\n",
      "        [1, 1, 1, 1, 1, 1]])\n"
     ]
    }
   ],
   "source": [
    "ones_img = torch.ones_like(img)\n",
    "print(ones_img)"
   ]
  },
  {
   "cell_type": "code",
   "execution_count": 18,
   "metadata": {},
   "outputs": [
    {
     "name": "stdout",
     "output_type": "stream",
     "text": [
      "tensor([[7, 7, 7, 7, 7, 7],\n",
      "        [7, 7, 7, 7, 7, 7]])\n"
     ]
    }
   ],
   "source": [
    "full_img = torch.full_like(img, 7)\n",
    "print(full_img)"
   ]
  },
  {
   "cell_type": "code",
   "execution_count": 19,
   "metadata": {},
   "outputs": [
    {
     "name": "stdout",
     "output_type": "stream",
     "text": [
      "tensor([[1., 0., 0., 0., 0.],\n",
      "        [0., 1., 0., 0., 0.],\n",
      "        [0., 0., 1., 0., 0.],\n",
      "        [0., 0., 0., 1., 0.],\n",
      "        [0., 0., 0., 0., 1.]])\n"
     ]
    }
   ],
   "source": [
    "# 대각선 방향으로 1 채우기 = eye()\n",
    "t1 = torch.eye(5) # 5x5 행렬 생성 후 대각선으로 1 채우기\n",
    "print(t1)"
   ]
  },
  {
   "cell_type": "code",
   "execution_count": 20,
   "metadata": {},
   "outputs": [
    {
     "name": "stdout",
     "output_type": "stream",
     "text": [
      "tensor([[1., 0., 0.],\n",
      "        [0., 1., 0.]])\n"
     ]
    }
   ],
   "source": [
    "# 대각선 방향으로 1 채우기 = eye()\n",
    "t1 = torch.eye(2, 3) # 2x3 행렬 생성 후 대각선으로 1 채우기\n",
    "print(t1)"
   ]
  },
  {
   "cell_type": "markdown",
   "metadata": {},
   "source": [
    "- Tensor 생성 방법 (4) : 임의의 값으로 Tensor 생성 => torch.rand(), torch.randn(), torch.randint()"
   ]
  },
  {
   "cell_type": "code",
   "execution_count": 21,
   "metadata": {},
   "outputs": [],
   "source": [
    "torch.manual_seed(12) # 랜덤 초기값 설정.\n",
    "t5 = torch.rand(2,3) # [0, 1) 분포 안에서 랜덤 생성\n",
    "t6 = torch.randn(2, 3) # standard normal 분포에서 랜덤 생성\n",
    "t7 = torch.randint(low=1, high =10, size = (2, 3)) # low, high) low<= 값 < high"
   ]
  },
  {
   "cell_type": "code",
   "execution_count": 22,
   "metadata": {},
   "outputs": [
    {
     "name": "stdout",
     "output_type": "stream",
     "text": [
      "tensor([[0.4657, 0.2328, 0.4527],\n",
      "        [0.5871, 0.4086, 0.1272]])\n",
      "\n",
      "tensor([[ 1.5869,  1.1268, -1.2274],\n",
      "        [-0.8216, -1.7861,  0.6167]])\n",
      "\n",
      "tensor([[8, 4, 6],\n",
      "        [2, 2, 2]])\n"
     ]
    }
   ],
   "source": [
    "print(t5, t6, t7, sep='\\n\\n')"
   ]
  },
  {
   "cell_type": "markdown",
   "metadata": {},
   "source": [
    "- Tensor 생성 방법 (5) : Ndarray 객체 활용 => torch.from_numpy(), torch.as_tensor(), tensor()"
   ]
  },
  {
   "cell_type": "code",
   "execution_count": 23,
   "metadata": {},
   "outputs": [
    {
     "name": "stdout",
     "output_type": "stream",
     "text": [
      "[11 22 33] <class 'numpy.ndarray'>\n"
     ]
    }
   ],
   "source": [
    "# 데이터생성\n",
    "import numpy as np\n",
    "\n",
    "data = np.array([11, 22, 33])\n",
    "print(data, type(data))"
   ]
  },
  {
   "cell_type": "code",
   "execution_count": 24,
   "metadata": {},
   "outputs": [
    {
     "name": "stdout",
     "output_type": "stream",
     "text": [
      "tensor([11, 22, 33], dtype=torch.int32)\n"
     ]
    }
   ],
   "source": [
    "t1 = torch.from_numpy(data)\n",
    "print(t1)"
   ]
  },
  {
   "cell_type": "code",
   "execution_count": 25,
   "metadata": {},
   "outputs": [
    {
     "name": "stdout",
     "output_type": "stream",
     "text": [
      "tensor([11, 22, 33], dtype=torch.int32)\n"
     ]
    }
   ],
   "source": [
    "t2 = torch.as_tensor(data)\n",
    "print(t2)"
   ]
  },
  {
   "cell_type": "code",
   "execution_count": 26,
   "metadata": {},
   "outputs": [
    {
     "name": "stdout",
     "output_type": "stream",
     "text": [
      "tensor([11, 22, 33], dtype=torch.int32)\n"
     ]
    }
   ],
   "source": [
    "t3 = torch.tensor(data)\n",
    "print(t3)"
   ]
  },
  {
   "cell_type": "code",
   "execution_count": 27,
   "metadata": {},
   "outputs": [],
   "source": [
    "# ndarray 원소 변경\n",
    "data[0] =100"
   ]
  },
  {
   "cell_type": "code",
   "execution_count": 28,
   "metadata": {},
   "outputs": [
    {
     "name": "stdout",
     "output_type": "stream",
     "text": [
      "[100  22  33]\n",
      "tensor([100,  22,  33], dtype=torch.int32)\n",
      "tensor([100,  22,  33], dtype=torch.int32)\n",
      "tensor([11, 22, 33], dtype=torch.int32)\n"
     ]
    }
   ],
   "source": [
    "# from_numpy(), as_tensor() => 데이터 공유\n",
    "# tensor() => 복사본 생성\n",
    "print(data, t1, t2, t3, sep='\\n') # t1, t2는 변경. t3는 변경X "
   ]
  },
  {
   "cell_type": "code",
   "execution_count": null,
   "metadata": {},
   "outputs": [],
   "source": []
  }
 ],
 "metadata": {
  "kernelspec": {
   "display_name": "Torch_py38",
   "language": "python",
   "name": "python3"
  },
  "language_info": {
   "codemirror_mode": {
    "name": "ipython",
    "version": 3
   },
   "file_extension": ".py",
   "mimetype": "text/x-python",
   "name": "python",
   "nbconvert_exporter": "python",
   "pygments_lexer": "ipython3",
   "version": "3.8.18"
  }
 },
 "nbformat": 4,
 "nbformat_minor": 2
}
