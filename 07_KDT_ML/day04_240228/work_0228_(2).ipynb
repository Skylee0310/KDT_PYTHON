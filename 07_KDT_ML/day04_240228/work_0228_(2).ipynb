{
 "cells": [
  {
   "cell_type": "markdown",
   "metadata": {},
   "source": [
    "연비예측 모델 만들기 <hr>\n",
    "- 데이터 : auto.csv\n",
    "- 피  처 : \n",
    "- 타  겟 : 연비 (mpg)"
   ]
  },
  {
   "cell_type": "code",
   "execution_count": 2,
   "metadata": {},
   "outputs": [],
   "source": [
    "# 모듈 불러오기\n",
    "import pandas as pd\n",
    "import numpy as np\n",
    "import matplotlib.pyplot as plt\n",
    "from sklearn.model_selection import train_test_split\n",
    "from sklearn.preprocessing import StandardScaler, MinMaxScaler, RobustScaler"
   ]
  },
  {
   "cell_type": "markdown",
   "metadata": {},
   "source": [
    "- from sklearn.model_selection import train_test_split : 훈련용 데이터 및 테스트 데이터 split 하기\n",
    "\n",
    "- StandardScaler : 표준화 스케일러\n",
    "\n",
    "- MinMaxScaler: 데이터를 최소-최댓값 사이 범위로 스케일링하는 스케일러. (보통 0, 1 사이)   \n",
    "\n",
    "- RobustScaler : 데이터의 중앙값(median)과 사분위수 범위(interquartile range, IQR)를 사용하여 이상치의 영향을 줄이고 스케일을 조정\n",
    "    + 데이터에 이상치가 있는 경우나 데이터의 분포가 비대칭인 경우에 유용하게 사용"
   ]
  },
  {
   "cell_type": "code",
   "execution_count": 3,
   "metadata": {},
   "outputs": [
    {
     "data": {
      "text/plain": [
       "Index(['mpg', 'cylinders', 'displacement', 'horsepower', 'weight',\n",
       "       'acceleration', 'model year', 'origin', 'car name'],\n",
       "      dtype='object')"
      ]
     },
     "execution_count": 3,
     "metadata": {},
     "output_type": "execute_result"
    }
   ],
   "source": [
    "# 데이터 불러오기\n",
    "data = '../data/auto-mpg.csv'\n",
    "\n",
    "pd.read_csv(data).columns"
   ]
  },
  {
   "cell_type": "markdown",
   "metadata": {},
   "source": [
    "- 1) mpg: 연비\n",
    "\n",
    "- 2) cylinders: 실린더 개수\n",
    "\n",
    "- 3) displacement: 배기량\n",
    "\n",
    "- 4) horsepower: 마력\n",
    "\n",
    "- 5) weight: 무게\n",
    "\n",
    "- 6) acceleration: 엔진이 초당 얻을 수 있는 가속력\n",
    "\n",
    "- 7) model year: 출시 년도\n",
    "\n",
    "- 8) origin: 제조 장소(1: 미국 USA, 2: 유럽 EU, 3: 일본 JPN)\n",
    "\n",
    "- 9) car name: 자동차 이름"
   ]
  },
  {
   "cell_type": "code",
   "execution_count": 4,
   "metadata": {},
   "outputs": [],
   "source": [
    "autoDF = pd.read_csv(data)"
   ]
  },
  {
   "cell_type": "code",
   "execution_count": 5,
   "metadata": {},
   "outputs": [
    {
     "name": "stdout",
     "output_type": "stream",
     "text": [
      "<class 'pandas.core.frame.DataFrame'>\n",
      "RangeIndex: 398 entries, 0 to 397\n",
      "Data columns (total 9 columns):\n",
      " #   Column        Non-Null Count  Dtype  \n",
      "---  ------        --------------  -----  \n",
      " 0   mpg           398 non-null    float64\n",
      " 1   cylinders     398 non-null    int64  \n",
      " 2   displacement  398 non-null    float64\n",
      " 3   horsepower    398 non-null    object \n",
      " 4   weight        398 non-null    int64  \n",
      " 5   acceleration  398 non-null    float64\n",
      " 6   model year    398 non-null    int64  \n",
      " 7   origin        398 non-null    int64  \n",
      " 8   car name      398 non-null    object \n",
      "dtypes: float64(3), int64(4), object(2)\n",
      "memory usage: 28.1+ KB\n"
     ]
    }
   ],
   "source": [
    "# 데이터 확인\n",
    "autoDF.info()"
   ]
  },
  {
   "cell_type": "code",
   "execution_count": 6,
   "metadata": {},
   "outputs": [
    {
     "data": {
      "text/plain": [
       "mpg             0\n",
       "cylinders       0\n",
       "displacement    0\n",
       "horsepower      0\n",
       "weight          0\n",
       "acceleration    0\n",
       "model year      0\n",
       "origin          0\n",
       "car name        0\n",
       "dtype: int64"
      ]
     },
     "execution_count": 6,
     "metadata": {},
     "output_type": "execute_result"
    }
   ],
   "source": [
    "# 결측치 확인 => 결측값 없음\n",
    "autoDF.isnull().sum()"
   ]
  },
  {
   "cell_type": "code",
   "execution_count": 7,
   "metadata": {},
   "outputs": [
    {
     "name": "stdout",
     "output_type": "stream",
     "text": [
      "mpg : 322    46.6\n",
      "329    44.6\n",
      "325    44.3\n",
      "394    44.0\n",
      "326    43.4\n",
      "       ... \n",
      "103    11.0\n",
      "67     11.0\n",
      "25     10.0\n",
      "26     10.0\n",
      "28      9.0\n",
      "Name: mpg, Length: 398, dtype: float64\n",
      "\n",
      "cylinders : 0      8\n",
      "86     8\n",
      "230    8\n",
      "231    8\n",
      "232    8\n",
      "      ..\n",
      "81     4\n",
      "243    3\n",
      "334    3\n",
      "71     3\n",
      "111    3\n",
      "Name: cylinders, Length: 398, dtype: int64\n",
      "\n",
      "displacement : 8      455.0\n",
      "95     455.0\n",
      "13     455.0\n",
      "6      454.0\n",
      "7      440.0\n",
      "       ...  \n",
      "131     71.0\n",
      "111     70.0\n",
      "71      70.0\n",
      "334     70.0\n",
      "117     68.0\n",
      "Name: displacement, Length: 398, dtype: float64\n",
      "\n",
      "horsepower : 354      ?\n",
      "374      ?\n",
      "126      ?\n",
      "330      ?\n",
      "32       ?\n",
      "      ... \n",
      "98     100\n",
      "99     100\n",
      "107    100\n",
      "127    100\n",
      "199    100\n",
      "Name: horsepower, Length: 398, dtype: object\n",
      "\n",
      "weight : 44     5140\n",
      "103    4997\n",
      "42     4955\n",
      "90     4952\n",
      "95     4951\n",
      "       ... \n",
      "53     1773\n",
      "345    1760\n",
      "343    1755\n",
      "144    1649\n",
      "54     1613\n",
      "Name: weight, Length: 398, dtype: int64\n",
      "\n",
      "acceleration : 299    24.8\n",
      "394    24.6\n",
      "326    23.7\n",
      "59     23.5\n",
      "300    22.2\n",
      "       ... \n",
      "116     9.5\n",
      "6       9.0\n",
      "7       8.5\n",
      "9       8.5\n",
      "11      8.0\n",
      "Name: acceleration, Length: 398, dtype: float64\n",
      "\n",
      "model year : 397    82\n",
      "382    82\n",
      "367    82\n",
      "368    82\n",
      "369    82\n",
      "       ..\n",
      "25     70\n",
      "26     70\n",
      "27     70\n",
      "28     70\n",
      "0      70\n",
      "Name: model year, Length: 398, dtype: int64\n",
      "\n",
      "origin : 235    3\n",
      "346    3\n",
      "81     3\n",
      "149    3\n",
      "150    3\n",
      "      ..\n",
      "154    1\n",
      "153    1\n",
      "152    1\n",
      "146    1\n",
      "397    1\n",
      "Name: origin, Length: 398, dtype: int64\n",
      "\n",
      "car name : 293           vw rabbit custom\n",
      "325       vw rabbit c (diesel)\n",
      "197                  vw rabbit\n",
      "309                  vw rabbit\n",
      "394                  vw pickup\n",
      "                ...           \n",
      "315                amc concord\n",
      "257                amc concord\n",
      "66          amc ambassador sst\n",
      "9           amc ambassador dpl\n",
      "96     amc ambassador brougham\n",
      "Name: car name, Length: 398, dtype: object\n",
      "\n"
     ]
    }
   ],
   "source": [
    "# 이상치 확인 => 마력 컬럼에서 ? 발견.\n",
    "\n",
    "for col in autoDF.columns :\n",
    "    print(f'{col} :', autoDF[col].sort_values(ascending=False))\n",
    "    print()"
   ]
  },
  {
   "cell_type": "code",
   "execution_count": 8,
   "metadata": {},
   "outputs": [],
   "source": [
    "# 이상치 '?'를 replace한 다음 int로 형 변환.\n",
    "# autoDF['horsepower'] = autoDF['horsepower'].replace({'?':0}).copy()\n",
    "# autoDF['horsepower'] = autoDF['horsepower'].astype(int)\n",
    "# autoDF['horsepower']"
   ]
  },
  {
   "cell_type": "markdown",
   "metadata": {},
   "source": [
    "- pd.to_numeric(시리즈, error = 'coerce')\n",
    "    * str인 숫자 데이터를 수치형 데이터로 형변환. \n",
    "    * errors = 'coerce' : error를 결측치로 변환해줌.\n",
    "    * errors = 'raise' : error를 일으킴\n",
    "    * errors = 'ignore' : 2.2부터 빠질 예정. error를 무시함.\n",
    "\n",
    "- pipeline(https://scikit-learn.org/stable/modules/classes.html#module-sklearn.pipeline)\n",
    "* verbosebool, default=False : <If True, the time elapsed while fitting each step will be printed as it is completed.>"
   ]
  },
  {
   "cell_type": "code",
   "execution_count": 9,
   "metadata": {},
   "outputs": [],
   "source": [
    "autoDF['horsepower'] = pd.to_numeric(autoDF['horsepower'], errors= 'coerce')\n",
    "  \n",
    "\n",
    "# NaN으로 바뀐 것을 알 수 있댜.\n",
    "autoDF['horsepower'].sort_values()\n",
    "\n",
    "# horsepower의 NaN이 drop 되었다.\n",
    "autoDF = autoDF.dropna()\n"
   ]
  },
  {
   "cell_type": "code",
   "execution_count": 10,
   "metadata": {},
   "outputs": [
    {
     "name": "stdout",
     "output_type": "stream",
     "text": [
      "<class 'pandas.core.frame.DataFrame'>\n",
      "Index: 392 entries, 0 to 397\n",
      "Data columns (total 9 columns):\n",
      " #   Column        Non-Null Count  Dtype  \n",
      "---  ------        --------------  -----  \n",
      " 0   mpg           392 non-null    float64\n",
      " 1   cylinders     392 non-null    int64  \n",
      " 2   displacement  392 non-null    float64\n",
      " 3   horsepower    392 non-null    float64\n",
      " 4   weight        392 non-null    int64  \n",
      " 5   acceleration  392 non-null    float64\n",
      " 6   model year    392 non-null    int64  \n",
      " 7   origin        392 non-null    int64  \n",
      " 8   car name      392 non-null    object \n",
      "dtypes: float64(4), int64(4), object(1)\n",
      "memory usage: 30.6+ KB\n"
     ]
    }
   ],
   "source": [
    "autoDF.info()"
   ]
  },
  {
   "cell_type": "code",
   "execution_count": 11,
   "metadata": {},
   "outputs": [
    {
     "data": {
      "text/plain": [
       "mpg             1.000000\n",
       "weight          0.832244\n",
       "displacement    0.805127\n",
       "horsepower      0.778427\n",
       "cylinders       0.777618\n",
       "model year      0.580541\n",
       "origin          0.565209\n",
       "acceleration    0.423329\n",
       "Name: mpg, dtype: float64"
      ]
     },
     "execution_count": 11,
     "metadata": {},
     "output_type": "execute_result"
    }
   ],
   "source": [
    "# 상관계수 확인. 숫자만 비교.\n",
    "autoDF_corr = autoDF.corr(numeric_only=True)\n",
    "# 절댓값으로 변환하고 내림차순으로 정렬하여 연비와 상관계수가 높은 컬럼 확인.\n",
    "abs(autoDF_corr['mpg']).sort_values(ascending=False)"
   ]
  },
  {
   "cell_type": "code",
   "execution_count": 12,
   "metadata": {},
   "outputs": [],
   "source": [
    "corrList = autoDF_corr['mpg'].to_list()"
   ]
  },
  {
   "cell_type": "code",
   "execution_count": 13,
   "metadata": {},
   "outputs": [],
   "source": [
    "# 타겟과 피처 결정.\n",
    "# 필요한 컬럼만 저장.\n",
    "autoDF = autoDF[['mpg','weight', 'displacement', 'cylinders', 'horsepower']]\n",
    "targetSR = autoDF['mpg']\n",
    "featureDF = autoDF[['weight', 'displacement', 'cylinders', 'horsepower']]"
   ]
  },
  {
   "cell_type": "code",
   "execution_count": 14,
   "metadata": {},
   "outputs": [
    {
     "data": {
      "image/png": "[encoded data removed]",
      "text/plain": [
       "<Figure size 1000x1000 with 4 Axes>"
      ]
     },
     "metadata": {},
     "output_type": "display_data"
    }
   ],
   "source": [
    "def print_feature(nrows, ncols, df, target, features, corrs) : \n",
    "    plt.figure(figsize=(10,10))\n",
    "    for idx in range(len(features)):\n",
    "        plt.subplot(nrows, ncols, idx+1)\n",
    "        plt.scatter(df[target], df[features[idx]], label =f'corr : {corrs[idx]:.2}')\n",
    "        plt.xlabel(target)\n",
    "        plt.ylabel(features[idx])\n",
    "        plt.legend()\n",
    "    plt.tight_layout() # 간격 안 맞는 거 맞춰주는 건가..?\n",
    "    plt.show()\n",
    "\n",
    "print_feature(3, 3, autoDF, 'mpg', autoDF.columns[1:], corrList[1:])"
   ]
  },
  {
   "cell_type": "markdown",
   "metadata": {},
   "source": [
    "- scale 차이가 크기 때문에 스케일링 진행 필요.\n",
    "- cylinders는 연속적인 데이터가 아니기 때문에 제외."
   ]
  },
  {
   "cell_type": "code",
   "execution_count": 15,
   "metadata": {},
   "outputs": [],
   "source": [
    "autoDF = autoDF[['mpg','weight', 'displacement', 'horsepower']]\n",
    "featureDF = autoDF[['weight', 'displacement', 'horsepower']]"
   ]
  },
  {
   "cell_type": "code",
   "execution_count": 16,
   "metadata": {},
   "outputs": [],
   "source": [
    "# poly를 해보자!\n",
    "# 모듈 로딩\n",
    "from sklearn.preprocessing import PolynomialFeatures\n",
    "\n",
    "# 인스턴스 생성\n",
    "poly = PolynomialFeatures(include_bias=False)\n",
    "\n",
    "auto_poly = pd.DataFrame(poly.fit_transform(featureDF), columns = poly.get_feature_names_out()) # degree 기본값 = 2\n",
    "#auto_poly_without_target"
   ]
  },
  {
   "cell_type": "code",
   "execution_count": 17,
   "metadata": {},
   "outputs": [],
   "source": [
    "# 훈련용 데이터와 테스트용 데이터로 분리\n",
    "# train:test = 8:2\n",
    "\n",
    "#X_train, X_test, y_train, y_test = train_test_split(featureDF, targetSR, test_size=0.2, random_state=31)\n",
    "X_train, X_test, y_train, y_test = train_test_split(auto_poly, targetSR, test_size=0.2, random_state=20)"
   ]
  },
  {
   "cell_type": "code",
   "execution_count": 18,
   "metadata": {},
   "outputs": [
    {
     "name": "stdout",
     "output_type": "stream",
     "text": [
      "[훈련용] X_train : (313, 9)\n",
      "     weight  displacement  horsepower    weight^2  weight displacement  \\\n",
      "269  2745.0         156.0       105.0   7535025.0             428220.0   \n",
      "256  3380.0         231.0       105.0  11424400.0             780780.0   \n",
      "\n",
      "     weight horsepower  displacement^2  displacement horsepower  horsepower^2  \n",
      "269           288225.0         24336.0                  16380.0       11025.0  \n",
      "256           354900.0         53361.0                  24255.0       11025.0  \n",
      "\n",
      "[테스트용] X_test : (79, 9)\n",
      "     weight  displacement  horsepower    weight^2  weight displacement  \\\n",
      "10   3563.0         383.0       170.0  12694969.0            1364629.0   \n",
      "291  1925.0          89.0        71.0   3705625.0             171325.0   \n",
      "\n",
      "     weight horsepower  displacement^2  displacement horsepower  horsepower^2  \n",
      "10            605710.0        146689.0                  65110.0       28900.0  \n",
      "291           136675.0          7921.0                   6319.0        5041.0  \n",
      "\n",
      "[훈련용] y_train : (313,)\n",
      "271    23.2\n",
      "258    20.6\n",
      "Name: mpg, dtype: float64\n",
      "\n",
      "[테스트용] y_test : (79,)\n",
      "10     15.0\n",
      "293    31.9\n",
      "Name: mpg, dtype: float64\n"
     ]
    }
   ],
   "source": [
    "# 훈련용 데이터 및 테스트용 데이터 확인\n",
    "def print_train_test_data(X_train, X_test, y_train, y_test) :\n",
    "    print(f'[훈련용] X_train : {X_train.shape}')\n",
    "    print(X_train.head(2))\n",
    "    print(f'\\n[테스트용] X_test : {X_test.shape}')\n",
    "    print(X_test.head(2))\n",
    "    print(f'\\n[훈련용] y_train : {y_train.shape}')\n",
    "    print(y_train.head(2))\n",
    "    print(f'\\n[테스트용] y_test : {y_test.shape}')\n",
    "    print(y_test.head(2))\n",
    "\n",
    "print_train_test_data(X_train, X_test, y_train, y_test)"
   ]
  },
  {
   "cell_type": "code",
   "execution_count": 19,
   "metadata": {},
   "outputs": [
    {
     "data": {
      "text/html": [
       "<style>#sk-container-id-1 {color: black;}#sk-container-id-1 pre{padding: 0;}#sk-container-id-1 div.sk-toggleable {background-color: white;}#sk-container-id-1 label.sk-toggleable__label {cursor: pointer;display: block;width: 100%;margin-bottom: 0;padding: 0.3em;box-sizing: border-box;text-align: center;}#sk-container-id-1 label.sk-toggleable__label-arrow:before {content: \"▸\";float: left;margin-right: 0.25em;color: #696969;}#sk-container-id-1 label.sk-toggleable__label-arrow:hover:before {color: black;}#sk-container-id-1 div.sk-estimator:hover label.sk-toggleable__label-arrow:before {color: black;}#sk-container-id-1 div.sk-toggleable__content {max-height: 0;max-width: 0;overflow: hidden;text-align: left;background-color: #f0f8ff;}#sk-container-id-1 div.sk-toggleable__content pre {margin: 0.2em;color: black;border-radius: 0.25em;background-color: #f0f8ff;}#sk-container-id-1 input.sk-toggleable__control:checked~div.sk-toggleable__content {max-height: 200px;max-width: 100%;overflow: auto;}#sk-container-id-1 input.sk-toggleable__control:checked~label.sk-toggleable__label-arrow:before {content: \"▾\";}#sk-container-id-1 div.sk-estimator input.sk-toggleable__control:checked~label.sk-toggleable__label {background-color: #d4ebff;}#sk-container-id-1 div.sk-label input.sk-toggleable__control:checked~label.sk-toggleable__label {background-color: #d4ebff;}#sk-container-id-1 input.sk-hidden--visually {border: 0;clip: rect(1px 1px 1px 1px);clip: rect(1px, 1px, 1px, 1px);height: 1px;margin: -1px;overflow: hidden;padding: 0;position: absolute;width: 1px;}#sk-container-id-1 div.sk-estimator {font-family: monospace;background-color: #f0f8ff;border: 1px dotted black;border-radius: 0.25em;box-sizing: border-box;margin-bottom: 0.5em;}#sk-container-id-1 div.sk-estimator:hover {background-color: #d4ebff;}#sk-container-id-1 div.sk-parallel-item::after {content: \"\";width: 100%;border-bottom: 1px solid gray;flex-grow: 1;}#sk-container-id-1 div.sk-label:hover label.sk-toggleable__label {background-color: #d4ebff;}#sk-container-id-1 div.sk-serial::before {content: \"\";position: absolute;border-left: 1px solid gray;box-sizing: border-box;top: 0;bottom: 0;left: 50%;z-index: 0;}#sk-container-id-1 div.sk-serial {display: flex;flex-direction: column;align-items: center;background-color: white;padding-right: 0.2em;padding-left: 0.2em;position: relative;}#sk-container-id-1 div.sk-item {position: relative;z-index: 1;}#sk-container-id-1 div.sk-parallel {display: flex;align-items: stretch;justify-content: center;background-color: white;position: relative;}#sk-container-id-1 div.sk-item::before, #sk-container-id-1 div.sk-parallel-item::before {content: \"\";position: absolute;border-left: 1px solid gray;box-sizing: border-box;top: 0;bottom: 0;left: 50%;z-index: -1;}#sk-container-id-1 div.sk-parallel-item {display: flex;flex-direction: column;z-index: 1;position: relative;background-color: white;}#sk-container-id-1 div.sk-parallel-item:first-child::after {align-self: flex-end;width: 50%;}#sk-container-id-1 div.sk-parallel-item:last-child::after {align-self: flex-start;width: 50%;}#sk-container-id-1 div.sk-parallel-item:only-child::after {width: 0;}#sk-container-id-1 div.sk-dashed-wrapped {border: 1px dashed gray;margin: 0 0.4em 0.5em 0.4em;box-sizing: border-box;padding-bottom: 0.4em;background-color: white;}#sk-container-id-1 div.sk-label label {font-family: monospace;font-weight: bold;display: inline-block;line-height: 1.2em;}#sk-container-id-1 div.sk-label-container {text-align: center;}#sk-container-id-1 div.sk-container {/* jupyter's `normalize.less` sets `[hidden] { display: none; }` but bootstrap.min.css set `[hidden] { display: none !important; }` so we also need the `!important` here to be able to override the default hidden behavior on the sphinx rendered scikit-learn.org. See: https://github.com/scikit-learn/scikit-learn/issues/21755 */display: inline-block !important;position: relative;}#sk-container-id-1 div.sk-text-repr-fallback {display: none;}</style><div id=\"sk-container-id-1\" class=\"sk-top-container\"><div class=\"sk-text-repr-fallback\"><pre>StandardScaler()</pre><b>In a Jupyter environment, please rerun this cell to show the HTML representation or trust the notebook. <br />On GitHub, the HTML representation is unable to render, please try loading this page with nbviewer.org.</b></div><div class=\"sk-container\" hidden><div class=\"sk-item\"><div class=\"sk-estimator sk-toggleable\"><input class=\"sk-toggleable__control sk-hidden--visually\" id=\"sk-estimator-id-1\" type=\"checkbox\" checked><label for=\"sk-estimator-id-1\" class=\"sk-toggleable__label sk-toggleable__label-arrow\">StandardScaler</label><div class=\"sk-toggleable__content\"><pre>StandardScaler()</pre></div></div></div></div></div>"
      ],
      "text/plain": [
       "StandardScaler()"
      ]
     },
     "execution_count": 19,
     "metadata": {},
     "output_type": "execute_result"
    }
   ],
   "source": [
    "# 스케일링 \n",
    "std_scaler = StandardScaler()\n",
    "std_scaler.fit(X_train)"
   ]
  },
  {
   "cell_type": "code",
   "execution_count": 20,
   "metadata": {},
   "outputs": [
    {
     "data": {
      "text/html": [
       "<style>#sk-container-id-2 {color: black;}#sk-container-id-2 pre{padding: 0;}#sk-container-id-2 div.sk-toggleable {background-color: white;}#sk-container-id-2 label.sk-toggleable__label {cursor: pointer;display: block;width: 100%;margin-bottom: 0;padding: 0.3em;box-sizing: border-box;text-align: center;}#sk-container-id-2 label.sk-toggleable__label-arrow:before {content: \"▸\";float: left;margin-right: 0.25em;color: #696969;}#sk-container-id-2 label.sk-toggleable__label-arrow:hover:before {color: black;}#sk-container-id-2 div.sk-estimator:hover label.sk-toggleable__label-arrow:before {color: black;}#sk-container-id-2 div.sk-toggleable__content {max-height: 0;max-width: 0;overflow: hidden;text-align: left;background-color: #f0f8ff;}#sk-container-id-2 div.sk-toggleable__content pre {margin: 0.2em;color: black;border-radius: 0.25em;background-color: #f0f8ff;}#sk-container-id-2 input.sk-toggleable__control:checked~div.sk-toggleable__content {max-height: 200px;max-width: 100%;overflow: auto;}#sk-container-id-2 input.sk-toggleable__control:checked~label.sk-toggleable__label-arrow:before {content: \"▾\";}#sk-container-id-2 div.sk-estimator input.sk-toggleable__control:checked~label.sk-toggleable__label {background-color: #d4ebff;}#sk-container-id-2 div.sk-label input.sk-toggleable__control:checked~label.sk-toggleable__label {background-color: #d4ebff;}#sk-container-id-2 input.sk-hidden--visually {border: 0;clip: rect(1px 1px 1px 1px);clip: rect(1px, 1px, 1px, 1px);height: 1px;margin: -1px;overflow: hidden;padding: 0;position: absolute;width: 1px;}#sk-container-id-2 div.sk-estimator {font-family: monospace;background-color: #f0f8ff;border: 1px dotted black;border-radius: 0.25em;box-sizing: border-box;margin-bottom: 0.5em;}#sk-container-id-2 div.sk-estimator:hover {background-color: #d4ebff;}#sk-container-id-2 div.sk-parallel-item::after {content: \"\";width: 100%;border-bottom: 1px solid gray;flex-grow: 1;}#sk-container-id-2 div.sk-label:hover label.sk-toggleable__label {background-color: #d4ebff;}#sk-container-id-2 div.sk-serial::before {content: \"\";position: absolute;border-left: 1px solid gray;box-sizing: border-box;top: 0;bottom: 0;left: 50%;z-index: 0;}#sk-container-id-2 div.sk-serial {display: flex;flex-direction: column;align-items: center;background-color: white;padding-right: 0.2em;padding-left: 0.2em;position: relative;}#sk-container-id-2 div.sk-item {position: relative;z-index: 1;}#sk-container-id-2 div.sk-parallel {display: flex;align-items: stretch;justify-content: center;background-color: white;position: relative;}#sk-container-id-2 div.sk-item::before, #sk-container-id-2 div.sk-parallel-item::before {content: \"\";position: absolute;border-left: 1px solid gray;box-sizing: border-box;top: 0;bottom: 0;left: 50%;z-index: -1;}#sk-container-id-2 div.sk-parallel-item {display: flex;flex-direction: column;z-index: 1;position: relative;background-color: white;}#sk-container-id-2 div.sk-parallel-item:first-child::after {align-self: flex-end;width: 50%;}#sk-container-id-2 div.sk-parallel-item:last-child::after {align-self: flex-start;width: 50%;}#sk-container-id-2 div.sk-parallel-item:only-child::after {width: 0;}#sk-container-id-2 div.sk-dashed-wrapped {border: 1px dashed gray;margin: 0 0.4em 0.5em 0.4em;box-sizing: border-box;padding-bottom: 0.4em;background-color: white;}#sk-container-id-2 div.sk-label label {font-family: monospace;font-weight: bold;display: inline-block;line-height: 1.2em;}#sk-container-id-2 div.sk-label-container {text-align: center;}#sk-container-id-2 div.sk-container {/* jupyter's `normalize.less` sets `[hidden] { display: none; }` but bootstrap.min.css set `[hidden] { display: none !important; }` so we also need the `!important` here to be able to override the default hidden behavior on the sphinx rendered scikit-learn.org. See: https://github.com/scikit-learn/scikit-learn/issues/21755 */display: inline-block !important;position: relative;}#sk-container-id-2 div.sk-text-repr-fallback {display: none;}</style><div id=\"sk-container-id-2\" class=\"sk-top-container\"><div class=\"sk-text-repr-fallback\"><pre>MinMaxScaler()</pre><b>In a Jupyter environment, please rerun this cell to show the HTML representation or trust the notebook. <br />On GitHub, the HTML representation is unable to render, please try loading this page with nbviewer.org.</b></div><div class=\"sk-container\" hidden><div class=\"sk-item\"><div class=\"sk-estimator sk-toggleable\"><input class=\"sk-toggleable__control sk-hidden--visually\" id=\"sk-estimator-id-2\" type=\"checkbox\" checked><label for=\"sk-estimator-id-2\" class=\"sk-toggleable__label sk-toggleable__label-arrow\">MinMaxScaler</label><div class=\"sk-toggleable__content\"><pre>MinMaxScaler()</pre></div></div></div></div></div>"
      ],
      "text/plain": [
       "MinMaxScaler()"
      ]
     },
     "execution_count": 20,
     "metadata": {},
     "output_type": "execute_result"
    }
   ],
   "source": [
    "minmax_scaler = MinMaxScaler()\n",
    "minmax_scaler.fit(X_train)"
   ]
  },
  {
   "cell_type": "code",
   "execution_count": 21,
   "metadata": {},
   "outputs": [
    {
     "data": {
      "text/html": [
       "<style>#sk-container-id-3 {color: black;}#sk-container-id-3 pre{padding: 0;}#sk-container-id-3 div.sk-toggleable {background-color: white;}#sk-container-id-3 label.sk-toggleable__label {cursor: pointer;display: block;width: 100%;margin-bottom: 0;padding: 0.3em;box-sizing: border-box;text-align: center;}#sk-container-id-3 label.sk-toggleable__label-arrow:before {content: \"▸\";float: left;margin-right: 0.25em;color: #696969;}#sk-container-id-3 label.sk-toggleable__label-arrow:hover:before {color: black;}#sk-container-id-3 div.sk-estimator:hover label.sk-toggleable__label-arrow:before {color: black;}#sk-container-id-3 div.sk-toggleable__content {max-height: 0;max-width: 0;overflow: hidden;text-align: left;background-color: #f0f8ff;}#sk-container-id-3 div.sk-toggleable__content pre {margin: 0.2em;color: black;border-radius: 0.25em;background-color: #f0f8ff;}#sk-container-id-3 input.sk-toggleable__control:checked~div.sk-toggleable__content {max-height: 200px;max-width: 100%;overflow: auto;}#sk-container-id-3 input.sk-toggleable__control:checked~label.sk-toggleable__label-arrow:before {content: \"▾\";}#sk-container-id-3 div.sk-estimator input.sk-toggleable__control:checked~label.sk-toggleable__label {background-color: #d4ebff;}#sk-container-id-3 div.sk-label input.sk-toggleable__control:checked~label.sk-toggleable__label {background-color: #d4ebff;}#sk-container-id-3 input.sk-hidden--visually {border: 0;clip: rect(1px 1px 1px 1px);clip: rect(1px, 1px, 1px, 1px);height: 1px;margin: -1px;overflow: hidden;padding: 0;position: absolute;width: 1px;}#sk-container-id-3 div.sk-estimator {font-family: monospace;background-color: #f0f8ff;border: 1px dotted black;border-radius: 0.25em;box-sizing: border-box;margin-bottom: 0.5em;}#sk-container-id-3 div.sk-estimator:hover {background-color: #d4ebff;}#sk-container-id-3 div.sk-parallel-item::after {content: \"\";width: 100%;border-bottom: 1px solid gray;flex-grow: 1;}#sk-container-id-3 div.sk-label:hover label.sk-toggleable__label {background-color: #d4ebff;}#sk-container-id-3 div.sk-serial::before {content: \"\";position: absolute;border-left: 1px solid gray;box-sizing: border-box;top: 0;bottom: 0;left: 50%;z-index: 0;}#sk-container-id-3 div.sk-serial {display: flex;flex-direction: column;align-items: center;background-color: white;padding-right: 0.2em;padding-left: 0.2em;position: relative;}#sk-container-id-3 div.sk-item {position: relative;z-index: 1;}#sk-container-id-3 div.sk-parallel {display: flex;align-items: stretch;justify-content: center;background-color: white;position: relative;}#sk-container-id-3 div.sk-item::before, #sk-container-id-3 div.sk-parallel-item::before {content: \"\";position: absolute;border-left: 1px solid gray;box-sizing: border-box;top: 0;bottom: 0;left: 50%;z-index: -1;}#sk-container-id-3 div.sk-parallel-item {display: flex;flex-direction: column;z-index: 1;position: relative;background-color: white;}#sk-container-id-3 div.sk-parallel-item:first-child::after {align-self: flex-end;width: 50%;}#sk-container-id-3 div.sk-parallel-item:last-child::after {align-self: flex-start;width: 50%;}#sk-container-id-3 div.sk-parallel-item:only-child::after {width: 0;}#sk-container-id-3 div.sk-dashed-wrapped {border: 1px dashed gray;margin: 0 0.4em 0.5em 0.4em;box-sizing: border-box;padding-bottom: 0.4em;background-color: white;}#sk-container-id-3 div.sk-label label {font-family: monospace;font-weight: bold;display: inline-block;line-height: 1.2em;}#sk-container-id-3 div.sk-label-container {text-align: center;}#sk-container-id-3 div.sk-container {/* jupyter's `normalize.less` sets `[hidden] { display: none; }` but bootstrap.min.css set `[hidden] { display: none !important; }` so we also need the `!important` here to be able to override the default hidden behavior on the sphinx rendered scikit-learn.org. See: https://github.com/scikit-learn/scikit-learn/issues/21755 */display: inline-block !important;position: relative;}#sk-container-id-3 div.sk-text-repr-fallback {display: none;}</style><div id=\"sk-container-id-3\" class=\"sk-top-container\"><div class=\"sk-text-repr-fallback\"><pre>RobustScaler()</pre><b>In a Jupyter environment, please rerun this cell to show the HTML representation or trust the notebook. <br />On GitHub, the HTML representation is unable to render, please try loading this page with nbviewer.org.</b></div><div class=\"sk-container\" hidden><div class=\"sk-item\"><div class=\"sk-estimator sk-toggleable\"><input class=\"sk-toggleable__control sk-hidden--visually\" id=\"sk-estimator-id-3\" type=\"checkbox\" checked><label for=\"sk-estimator-id-3\" class=\"sk-toggleable__label sk-toggleable__label-arrow\">RobustScaler</label><div class=\"sk-toggleable__content\"><pre>RobustScaler()</pre></div></div></div></div></div>"
      ],
      "text/plain": [
       "RobustScaler()"
      ]
     },
     "execution_count": 21,
     "metadata": {},
     "output_type": "execute_result"
    }
   ],
   "source": [
    "rb_scaler = RobustScaler()\n",
    "rb_scaler.fit(X_train)"
   ]
  },
  {
   "cell_type": "code",
   "execution_count": 22,
   "metadata": {},
   "outputs": [],
   "source": [
    "# 3가지 버전의 스케일된 데이터셋 준비\n",
    "std_X_train = std_scaler.transform(X_train)\n",
    "std_X_test = std_scaler.transform(X_test)\n",
    "\n",
    "minmax_X_train = minmax_scaler.transform(X_train)\n",
    "minmax_X_test = minmax_scaler.transform(X_test)\n",
    "\n",
    "rb_X_train = rb_scaler.transform(X_train)\n",
    "rb_X_test = rb_scaler.transform(X_test)"
   ]
  },
  {
   "cell_type": "code",
   "execution_count": 23,
   "metadata": {},
   "outputs": [],
   "source": [
    "# 학습 진행 \n",
    "def print_score(n, modelname, scaled_x_train, scaled_x_test, name) :\n",
    "    train_scoreList =[]\n",
    "    test_scoreList =[]\n",
    "    for i in range(n) :\n",
    "        model = modelname()\n",
    "        model.fit(scaled_x_train, y_train)\n",
    "        train_score = model.score(scaled_x_train, y_train)\n",
    "        test_score = model.score(scaled_x_test, y_test)\n",
    "        train_scoreList.append(train_score)\n",
    "        test_scoreList.append(test_score)\n",
    "\n",
    "    print(f'[{name} 모델파라미터] ====>\\ncoef_: {model.coef_}\\nintercept_ : {model.intercept_}')\n",
    "    print(f'Train Score{i+1} : {train_score} --- Test Score{i+1} : {test_score}\\n')\n",
    "    print(f'max train score : {max(train_scoreList)} --- max test Score : {max(test_scoreList)}')\n",
    "    print(f'min train score : {min(train_scoreList)} --- min test Score : {min(test_scoreList)}\\n')"
   ]
  },
  {
   "cell_type": "code",
   "execution_count": 24,
   "metadata": {},
   "outputs": [
    {
     "name": "stdout",
     "output_type": "stream",
     "text": [
      "[std 모델파라미터] ====>\n",
      "coef_: [ -2.60724061 -10.38582472  -4.21190932  -2.31236466   8.12196062\n",
      "  -1.54326266  -4.93465566  15.48883907  -4.56266276]\n",
      "intercept_ : 23.597124600638978\n",
      "Train Score100 : 0.7456419163882984 --- Test Score100 : 0.8033907017220819\n",
      "\n",
      "max train score : 0.7456419163882984 --- max test Score : 0.8033907017220819\n",
      "min train score : 0.7456419163882984 --- min test Score : 0.8033907017220819\n",
      "\n",
      "\n",
      "[minmax 모델파라미터] ====>\n",
      "coef_: [-11.01171109 -39.70704685 -20.79482985 -10.26856075  31.49081429\n",
      "  -6.8596727  -21.3527505   75.79843756 -24.60416927]\n",
      "intercept_ : 37.65300859180076\n",
      "Train Score100 : 0.7456419163882984 --- Test Score100 : 0.8033907017220818\n",
      "\n",
      "max train score : 0.7456419163882984 --- max test Score : 0.8033907017220818\n",
      "min train score : 0.7456419163882984 --- min test Score : 0.8033907017220818\n",
      "\n",
      "\n",
      "[robust 모델파라미터] ====>\n",
      "coef_: [ -4.08997491 -16.41635012  -5.22775052  -3.24183238  10.90831803\n",
      "  -1.73822607  -6.00912381  15.71943406  -4.45075317]\n",
      "intercept_ : 24.723838065497183\n",
      "Train Score100 : 0.7456419163882984 --- Test Score100 : 0.8033907017220819\n",
      "\n",
      "max train score : 0.7456419163882984 --- max test Score : 0.8033907017220819\n",
      "min train score : 0.7456419163882984 --- min test Score : 0.8033907017220819\n",
      "\n"
     ]
    }
   ],
   "source": [
    "from sklearn.linear_model import LinearRegression\n",
    "print_score(100, LinearRegression, std_X_train, std_X_test, 'std')\n",
    "print()\n",
    "print_score(100, LinearRegression, minmax_X_train, minmax_X_test, 'minmax')\n",
    "print()\n",
    "print_score(100, LinearRegression, rb_X_train, rb_X_test, 'robust')"
   ]
  },
  {
   "cell_type": "code",
   "execution_count": 25,
   "metadata": {},
   "outputs": [],
   "source": [
    "from sklearn.neighbors import KNeighborsRegressor\n",
    "def print_score_k(n, modelname, scaled_x_train, scaled_x_test, name) :\n",
    "    train_scoreList =[]\n",
    "    test_scoreList =[]\n",
    "    for k in range(1, n) :\n",
    "        model = modelname(n_neighbors=k)\n",
    "        model.fit(scaled_x_train, y_train)\n",
    "        train_score = model.score(scaled_x_train, y_train)\n",
    "        test_score = model.score(scaled_x_test, y_test)\n",
    "        train_scoreList.append(train_score)\n",
    "        test_scoreList.append(test_score)\n",
    "    max_k=test_scoreList.index(max(test_scoreList))\n",
    "    print(f'{name} model')\n",
    "    print(f'Train Score{k} : {train_score} --- Test Score{k} : {test_score}\\n')\n",
    "    print(f'max train score : {max(train_scoreList)} --- max test Score : {max(test_scoreList)}')\n",
    "    print(f'min train score : {min(train_scoreList)} --- min test Score : {min(test_scoreList)}\\n')\n",
    "    print('max_k :', max_k)"
   ]
  },
  {
   "cell_type": "code",
   "execution_count": 26,
   "metadata": {},
   "outputs": [
    {
     "name": "stdout",
     "output_type": "stream",
     "text": [
      "std model\n",
      "Train Score99 : 0.7043843163503289 --- Test Score99 : 0.7642633471849267\n",
      "\n",
      "max train score : 0.9975877298964055 --- max test Score : 0.8576482749579151\n",
      "min train score : 0.7043843163503289 --- min test Score : 0.7437323609120773\n",
      "\n",
      "max_k : 4\n",
      "\n",
      "minmax model\n",
      "Train Score99 : 0.7033387212936946 --- Test Score99 : 0.7634574800177522\n",
      "\n",
      "max train score : 0.9975877298964055 --- max test Score : 0.8565134045900328\n",
      "min train score : 0.7033387212936946 --- min test Score : 0.7531399156048497\n",
      "\n",
      "max_k : 7\n",
      "\n",
      "robust model\n",
      "Train Score99 : 0.7062049270904165 --- Test Score99 : 0.7668207113692229\n",
      "\n",
      "max train score : 0.9975877298964055 --- max test Score : 0.8589814863124429\n",
      "min train score : 0.7062049270904165 --- min test Score : 0.7103409035714723\n",
      "\n",
      "max_k : 3\n"
     ]
    }
   ],
   "source": [
    "print_score_k(100, KNeighborsRegressor, std_X_train, std_X_test, 'std')\n",
    "print()\n",
    "print_score_k(100, KNeighborsRegressor, minmax_X_train, minmax_X_test, 'minmax')\n",
    "print()\n",
    "print_score_k(100, KNeighborsRegressor, rb_X_train, rb_X_test, 'robust')"
   ]
  },
  {
   "cell_type": "code",
   "execution_count": 27,
   "metadata": {},
   "outputs": [
    {
     "data": {
      "text/html": [
       "<style>#sk-container-id-4 {color: black;}#sk-container-id-4 pre{padding: 0;}#sk-container-id-4 div.sk-toggleable {background-color: white;}#sk-container-id-4 label.sk-toggleable__label {cursor: pointer;display: block;width: 100%;margin-bottom: 0;padding: 0.3em;box-sizing: border-box;text-align: center;}#sk-container-id-4 label.sk-toggleable__label-arrow:before {content: \"▸\";float: left;margin-right: 0.25em;color: #696969;}#sk-container-id-4 label.sk-toggleable__label-arrow:hover:before {color: black;}#sk-container-id-4 div.sk-estimator:hover label.sk-toggleable__label-arrow:before {color: black;}#sk-container-id-4 div.sk-toggleable__content {max-height: 0;max-width: 0;overflow: hidden;text-align: left;background-color: #f0f8ff;}#sk-container-id-4 div.sk-toggleable__content pre {margin: 0.2em;color: black;border-radius: 0.25em;background-color: #f0f8ff;}#sk-container-id-4 input.sk-toggleable__control:checked~div.sk-toggleable__content {max-height: 200px;max-width: 100%;overflow: auto;}#sk-container-id-4 input.sk-toggleable__control:checked~label.sk-toggleable__label-arrow:before {content: \"▾\";}#sk-container-id-4 div.sk-estimator input.sk-toggleable__control:checked~label.sk-toggleable__label {background-color: #d4ebff;}#sk-container-id-4 div.sk-label input.sk-toggleable__control:checked~label.sk-toggleable__label {background-color: #d4ebff;}#sk-container-id-4 input.sk-hidden--visually {border: 0;clip: rect(1px 1px 1px 1px);clip: rect(1px, 1px, 1px, 1px);height: 1px;margin: -1px;overflow: hidden;padding: 0;position: absolute;width: 1px;}#sk-container-id-4 div.sk-estimator {font-family: monospace;background-color: #f0f8ff;border: 1px dotted black;border-radius: 0.25em;box-sizing: border-box;margin-bottom: 0.5em;}#sk-container-id-4 div.sk-estimator:hover {background-color: #d4ebff;}#sk-container-id-4 div.sk-parallel-item::after {content: \"\";width: 100%;border-bottom: 1px solid gray;flex-grow: 1;}#sk-container-id-4 div.sk-label:hover label.sk-toggleable__label {background-color: #d4ebff;}#sk-container-id-4 div.sk-serial::before {content: \"\";position: absolute;border-left: 1px solid gray;box-sizing: border-box;top: 0;bottom: 0;left: 50%;z-index: 0;}#sk-container-id-4 div.sk-serial {display: flex;flex-direction: column;align-items: center;background-color: white;padding-right: 0.2em;padding-left: 0.2em;position: relative;}#sk-container-id-4 div.sk-item {position: relative;z-index: 1;}#sk-container-id-4 div.sk-parallel {display: flex;align-items: stretch;justify-content: center;background-color: white;position: relative;}#sk-container-id-4 div.sk-item::before, #sk-container-id-4 div.sk-parallel-item::before {content: \"\";position: absolute;border-left: 1px solid gray;box-sizing: border-box;top: 0;bottom: 0;left: 50%;z-index: -1;}#sk-container-id-4 div.sk-parallel-item {display: flex;flex-direction: column;z-index: 1;position: relative;background-color: white;}#sk-container-id-4 div.sk-parallel-item:first-child::after {align-self: flex-end;width: 50%;}#sk-container-id-4 div.sk-parallel-item:last-child::after {align-self: flex-start;width: 50%;}#sk-container-id-4 div.sk-parallel-item:only-child::after {width: 0;}#sk-container-id-4 div.sk-dashed-wrapped {border: 1px dashed gray;margin: 0 0.4em 0.5em 0.4em;box-sizing: border-box;padding-bottom: 0.4em;background-color: white;}#sk-container-id-4 div.sk-label label {font-family: monospace;font-weight: bold;display: inline-block;line-height: 1.2em;}#sk-container-id-4 div.sk-label-container {text-align: center;}#sk-container-id-4 div.sk-container {/* jupyter's `normalize.less` sets `[hidden] { display: none; }` but bootstrap.min.css set `[hidden] { display: none !important; }` so we also need the `!important` here to be able to override the default hidden behavior on the sphinx rendered scikit-learn.org. See: https://github.com/scikit-learn/scikit-learn/issues/21755 */display: inline-block !important;position: relative;}#sk-container-id-4 div.sk-text-repr-fallback {display: none;}</style><div id=\"sk-container-id-4\" class=\"sk-top-container\"><div class=\"sk-text-repr-fallback\"><pre>KNeighborsRegressor(n_neighbors=7)</pre><b>In a Jupyter environment, please rerun this cell to show the HTML representation or trust the notebook. <br />On GitHub, the HTML representation is unable to render, please try loading this page with nbviewer.org.</b></div><div class=\"sk-container\" hidden><div class=\"sk-item\"><div class=\"sk-estimator sk-toggleable\"><input class=\"sk-toggleable__control sk-hidden--visually\" id=\"sk-estimator-id-4\" type=\"checkbox\" checked><label for=\"sk-estimator-id-4\" class=\"sk-toggleable__label sk-toggleable__label-arrow\">KNeighborsRegressor</label><div class=\"sk-toggleable__content\"><pre>KNeighborsRegressor(n_neighbors=7)</pre></div></div></div></div></div>"
      ],
      "text/plain": [
       "KNeighborsRegressor(n_neighbors=7)"
      ]
     },
     "execution_count": 27,
     "metadata": {},
     "output_type": "execute_result"
    }
   ],
   "source": [
    "std_k = 5\n",
    "model2 = KNeighborsRegressor(n_neighbors=std_k)\n",
    "model2.fit(std_X_train, y_train) \n",
    "\n",
    "minmax_k = 7\n",
    "model2 = KNeighborsRegressor(n_neighbors=minmax_k)\n",
    "model2.fit(minmax_X_train, y_train) \n",
    "\n",
    "rb_k = 3\n",
    "model2 = KNeighborsRegressor(n_neighbors=minmax_k)\n",
    "model2.fit(rb_X_train, y_train) "
   ]
  },
  {
   "cell_type": "code",
   "execution_count": 28,
   "metadata": {},
   "outputs": [
    {
     "name": "stdout",
     "output_type": "stream",
     "text": [
      "std_train :  0.5710324948980795\n",
      "std_test :  0.6406092870164846\n",
      "minmax_test :  0.4179909466457421\n",
      "minmax_test :  0.48849793136270836\n",
      "robust_train :  0.778807850100949\n",
      "robust_test :  0.8530433118522849\n"
     ]
    }
   ],
   "source": [
    "print('std_train : ', model2.score(std_X_train, y_train))\n",
    "print('std_test : ', model2.score(std_X_test, y_test))\n",
    "print('minmax_test : ', model2.score(minmax_X_train, y_train))\n",
    "print('minmax_test : ', model2.score(minmax_X_test, y_test))\n",
    "print('robust_train : ', model2.score(rb_X_train, y_train))\n",
    "print('robust_test : ', model2.score(rb_X_test, y_test)) # 31 -> 82%"
   ]
  },
  {
   "cell_type": "code",
   "execution_count": 29,
   "metadata": {},
   "outputs": [
    {
     "name": "stdout",
     "output_type": "stream",
     "text": [
      "[std]\n",
      "[성능평가]\n",
      "1) 평균제곱오차: 23.322025316455694\n",
      "2) 평균절대오차: 3.5569620253164542\n",
      "3) 루트제곱오차: 0.6407698431471194\n",
      "4) 평균제곱근오차: 4.829288282599797\n",
      "\n",
      "[minmax]\n",
      "[성능평가]\n",
      "1) 평균제곱오차: 33.210632911392395\n",
      "2) 평균절대오차: 4.430379746835443\n",
      "3) 루트제곱오차: 0.4884551959762643\n",
      "4) 평균제곱근오차: 5.762866726846318\n",
      "\n",
      "[robust]\n",
      "[성능평가]\n",
      "1) 평균제곱오차: 9.55367088607595\n",
      "2) 평균절대오차: 2.212658227848101\n",
      "3) 루트제곱오차: 0.8528443973300931\n",
      "4) 평균제곱근오차: 3.090901306427617\n"
     ]
    }
   ],
   "source": [
    "# 성능 평가\n",
    "\n",
    "from sklearn.metrics import mean_absolute_error, mean_squared_error, r2_score # 모델의 성능을 평가할 떄 사용함\n",
    "\n",
    "def evolution(scaled_X_test):\n",
    "\n",
    "    y_pre = model2.predict(scaled_X_test) # 예측값 계산\n",
    "\n",
    "    y_pre = np.round(y_pre, 1)\n",
    "\n",
    "    print('[성능평가]')\n",
    "\n",
    "\n",
    "    # 1) MSE\n",
    "    print('1) 평균제곱오차:', mean_squared_error(y_test, y_pre))\n",
    "\n",
    "    # 2) MAE\n",
    "    print('2) 평균절대오차:', mean_absolute_error(y_test, y_pre))\n",
    "\n",
    "    # 3) R2\n",
    "    r2_scores = r2_score(y_test, y_pre)\n",
    "    print('3) 루트제곱오차:', r2_scores)\n",
    "\n",
    "    # 4) RMSE\n",
    "    rmse = mean_squared_error(y_test, y_pre, squared=False)\n",
    "    print('4) 평균제곱근오차:', rmse)\n",
    "\n",
    "print('[std]')\n",
    "evolution(std_X_test)\n",
    "print()\n",
    "print('[minmax]')\n",
    "evolution(minmax_X_test)\n",
    "print()\n",
    "print('[robust]')\n",
    "evolution(rb_X_test)"
   ]
  },
  {
   "cell_type": "code",
   "execution_count": null,
   "metadata": {},
   "outputs": [],
   "source": []
  },
  {
   "cell_type": "code",
   "execution_count": null,
   "metadata": {},
   "outputs": [],
   "source": []
  },
  {
   "cell_type": "code",
   "execution_count": null,
   "metadata": {},
   "outputs": [],
   "source": []
  },
  {
   "cell_type": "code",
   "execution_count": null,
   "metadata": {},
   "outputs": [],
   "source": []
  },
  {
   "cell_type": "code",
   "execution_count": null,
   "metadata": {},
   "outputs": [],
   "source": []
  }
 ],
 "metadata": {
  "kernelspec": {
   "display_name": "EXAM_ML",
   "language": "python",
   "name": "python3"
  },
  "language_info": {
   "codemirror_mode": {
    "name": "ipython",
    "version": 3
   },
   "file_extension": ".py",
   "mimetype": "text/x-python",
   "name": "python",
   "nbconvert_exporter": "python",
   "pygments_lexer": "ipython3",
   "version": "3.9.18"
  }
 },
 "nbformat": 4,
 "nbformat_minor": 2
}
