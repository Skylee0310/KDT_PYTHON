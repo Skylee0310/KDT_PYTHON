{
 "cells": [
  {
   "cell_type": "markdown",
   "source": [
    "#### 모델 : 생선 품종 분류 모델\n",
    "- 데이터 : fish.csv (2가지 품종의 생선 데이터)\n",
    "- 피  쳐 : Weight, Length\n",
    "- 타  겟 : Species\n",
    "- 학습유형: 지도학습 + 분류 (도미, 빙어 분류는 이진 분류)"
   ],
   "metadata": {
    "collapsed": false
   },
   "id": "9d1d0baa10f0e502"
  },
  {
   "cell_type": "markdown",
   "source": [
    "(1) 모듈 로딩 & 데이터 준비"
   ],
   "metadata": {
    "collapsed": false
   },
   "id": "9a1c2ecd8226da10"
  },
  {
   "cell_type": "code",
   "outputs": [],
   "source": [
    "import pandas as pd                                     #데이터 파일 관련 모듈\n",
    "from sklearn.neighbors import KNeighborsClassifier      #기계학습 관련 모듈"
   ],
   "metadata": {
    "collapsed": false,
    "ExecuteTime": {
     "end_time": "2024-02-26T04:20:49.250814300Z",
     "start_time": "2024-02-26T04:20:49.133825700Z"
    }
   },
   "id": "3b75ac5bea2dd3aa",
   "execution_count": 469
  },
  {
   "cell_type": "code",
   "outputs": [],
   "source": [
    "data_file = '../data/fish.csv'"
   ],
   "metadata": {
    "collapsed": false,
    "ExecuteTime": {
     "end_time": "2024-02-26T04:20:49.260294900Z",
     "start_time": "2024-02-26T04:20:49.242212600Z"
    }
   },
   "id": "bb456087e1d7920b",
   "execution_count": 470
  },
  {
   "cell_type": "code",
   "outputs": [
    {
     "name": "stdout",
     "output_type": "stream",
     "text": [
      "<class 'pandas.core.frame.DataFrame'>\n",
      "RangeIndex: 159 entries, 0 to 158\n",
      "Data columns (total 3 columns):\n",
      " #   Column   Non-Null Count  Dtype  \n",
      "---  ------   --------------  -----  \n",
      " 0   Species  159 non-null    object \n",
      " 1   Weight   159 non-null    float64\n",
      " 2   Length   159 non-null    float64\n",
      "dtypes: float64(2), object(1)\n",
      "memory usage: 3.9+ KB\n"
     ]
    }
   ],
   "source": [
    "# 5개 피쳐/특성 중 2개의 피쳐/특성 선택\n",
    "fishDF = pd.read_csv(data_file, usecols = [0,1,2])\n",
    "fishDF.info()"
   ],
   "metadata": {
    "collapsed": false,
    "ExecuteTime": {
     "end_time": "2024-02-26T04:20:49.298918800Z",
     "start_time": "2024-02-26T04:20:49.263489800Z"
    }
   },
   "id": "8f1a1f7860dc4882",
   "execution_count": 471
  },
  {
   "cell_type": "code",
   "outputs": [
    {
     "data": {
      "text/plain": "   Species  Weight  Length\n0    Bream   242.0    25.4\n1    Bream   290.0    26.3\n2    Bream   340.0    26.5\n3    Bream   363.0    29.0\n4    Bream   430.0    29.0\n5    Bream   450.0    29.7\n6    Bream   500.0    29.7\n7    Bream   390.0    30.0\n8    Bream   450.0    30.0\n9    Bream   500.0    30.7\n10   Bream   475.0    31.0\n11   Bream   500.0    31.0\n12   Bream   500.0    31.5\n13   Bream   340.0    32.0\n14   Bream   600.0    32.0\n15   Bream   600.0    32.0\n16   Bream   700.0    33.0\n17   Bream   700.0    33.0\n18   Bream   610.0    33.5\n19   Bream   650.0    33.5\n20   Bream   575.0    34.0\n21   Bream   685.0    34.0\n22   Bream   620.0    34.5\n23   Bream   680.0    35.0\n24   Bream   700.0    35.0\n25   Bream   725.0    35.0\n26   Bream   720.0    35.0\n27   Bream   714.0    36.0\n28   Bream   850.0    36.0\n29   Bream  1000.0    37.0\n30   Bream   920.0    38.5\n31   Bream   955.0    38.5\n32   Bream   925.0    39.5\n33   Bream   975.0    41.0\n34   Bream   950.0    41.0\n35   Smelt     6.7     9.8\n36   Smelt     7.5    10.5\n37   Smelt     7.0    10.6\n38   Smelt     9.7    11.0\n39   Smelt     9.8    11.2\n40   Smelt     8.7    11.3\n41   Smelt    10.0    11.8\n42   Smelt     9.9    11.8\n43   Smelt     9.8    12.0\n44   Smelt    12.2    12.2\n45   Smelt    13.4    12.4\n46   Smelt    12.2    13.0\n47   Smelt    19.7    14.3\n48   Smelt    19.9    15.0",
      "text/html": "<div>\n<style scoped>\n    .dataframe tbody tr th:only-of-type {\n        vertical-align: middle;\n    }\n\n    .dataframe tbody tr th {\n        vertical-align: top;\n    }\n\n    .dataframe thead th {\n        text-align: right;\n    }\n</style>\n<table border=\"1\" class=\"dataframe\">\n  <thead>\n    <tr style=\"text-align: right;\">\n      <th></th>\n      <th>Species</th>\n      <th>Weight</th>\n      <th>Length</th>\n    </tr>\n  </thead>\n  <tbody>\n    <tr>\n      <th>0</th>\n      <td>Bream</td>\n      <td>242.0</td>\n      <td>25.4</td>\n    </tr>\n    <tr>\n      <th>1</th>\n      <td>Bream</td>\n      <td>290.0</td>\n      <td>26.3</td>\n    </tr>\n    <tr>\n      <th>2</th>\n      <td>Bream</td>\n      <td>340.0</td>\n      <td>26.5</td>\n    </tr>\n    <tr>\n      <th>3</th>\n      <td>Bream</td>\n      <td>363.0</td>\n      <td>29.0</td>\n    </tr>\n    <tr>\n      <th>4</th>\n      <td>Bream</td>\n      <td>430.0</td>\n      <td>29.0</td>\n    </tr>\n    <tr>\n      <th>5</th>\n      <td>Bream</td>\n      <td>450.0</td>\n      <td>29.7</td>\n    </tr>\n    <tr>\n      <th>6</th>\n      <td>Bream</td>\n      <td>500.0</td>\n      <td>29.7</td>\n    </tr>\n    <tr>\n      <th>7</th>\n      <td>Bream</td>\n      <td>390.0</td>\n      <td>30.0</td>\n    </tr>\n    <tr>\n      <th>8</th>\n      <td>Bream</td>\n      <td>450.0</td>\n      <td>30.0</td>\n    </tr>\n    <tr>\n      <th>9</th>\n      <td>Bream</td>\n      <td>500.0</td>\n      <td>30.7</td>\n    </tr>\n    <tr>\n      <th>10</th>\n      <td>Bream</td>\n      <td>475.0</td>\n      <td>31.0</td>\n    </tr>\n    <tr>\n      <th>11</th>\n      <td>Bream</td>\n      <td>500.0</td>\n      <td>31.0</td>\n    </tr>\n    <tr>\n      <th>12</th>\n      <td>Bream</td>\n      <td>500.0</td>\n      <td>31.5</td>\n    </tr>\n    <tr>\n      <th>13</th>\n      <td>Bream</td>\n      <td>340.0</td>\n      <td>32.0</td>\n    </tr>\n    <tr>\n      <th>14</th>\n      <td>Bream</td>\n      <td>600.0</td>\n      <td>32.0</td>\n    </tr>\n    <tr>\n      <th>15</th>\n      <td>Bream</td>\n      <td>600.0</td>\n      <td>32.0</td>\n    </tr>\n    <tr>\n      <th>16</th>\n      <td>Bream</td>\n      <td>700.0</td>\n      <td>33.0</td>\n    </tr>\n    <tr>\n      <th>17</th>\n      <td>Bream</td>\n      <td>700.0</td>\n      <td>33.0</td>\n    </tr>\n    <tr>\n      <th>18</th>\n      <td>Bream</td>\n      <td>610.0</td>\n      <td>33.5</td>\n    </tr>\n    <tr>\n      <th>19</th>\n      <td>Bream</td>\n      <td>650.0</td>\n      <td>33.5</td>\n    </tr>\n    <tr>\n      <th>20</th>\n      <td>Bream</td>\n      <td>575.0</td>\n      <td>34.0</td>\n    </tr>\n    <tr>\n      <th>21</th>\n      <td>Bream</td>\n      <td>685.0</td>\n      <td>34.0</td>\n    </tr>\n    <tr>\n      <th>22</th>\n      <td>Bream</td>\n      <td>620.0</td>\n      <td>34.5</td>\n    </tr>\n    <tr>\n      <th>23</th>\n      <td>Bream</td>\n      <td>680.0</td>\n      <td>35.0</td>\n    </tr>\n    <tr>\n      <th>24</th>\n      <td>Bream</td>\n      <td>700.0</td>\n      <td>35.0</td>\n    </tr>\n    <tr>\n      <th>25</th>\n      <td>Bream</td>\n      <td>725.0</td>\n      <td>35.0</td>\n    </tr>\n    <tr>\n      <th>26</th>\n      <td>Bream</td>\n      <td>720.0</td>\n      <td>35.0</td>\n    </tr>\n    <tr>\n      <th>27</th>\n      <td>Bream</td>\n      <td>714.0</td>\n      <td>36.0</td>\n    </tr>\n    <tr>\n      <th>28</th>\n      <td>Bream</td>\n      <td>850.0</td>\n      <td>36.0</td>\n    </tr>\n    <tr>\n      <th>29</th>\n      <td>Bream</td>\n      <td>1000.0</td>\n      <td>37.0</td>\n    </tr>\n    <tr>\n      <th>30</th>\n      <td>Bream</td>\n      <td>920.0</td>\n      <td>38.5</td>\n    </tr>\n    <tr>\n      <th>31</th>\n      <td>Bream</td>\n      <td>955.0</td>\n      <td>38.5</td>\n    </tr>\n    <tr>\n      <th>32</th>\n      <td>Bream</td>\n      <td>925.0</td>\n      <td>39.5</td>\n    </tr>\n    <tr>\n      <th>33</th>\n      <td>Bream</td>\n      <td>975.0</td>\n      <td>41.0</td>\n    </tr>\n    <tr>\n      <th>34</th>\n      <td>Bream</td>\n      <td>950.0</td>\n      <td>41.0</td>\n    </tr>\n    <tr>\n      <th>35</th>\n      <td>Smelt</td>\n      <td>6.7</td>\n      <td>9.8</td>\n    </tr>\n    <tr>\n      <th>36</th>\n      <td>Smelt</td>\n      <td>7.5</td>\n      <td>10.5</td>\n    </tr>\n    <tr>\n      <th>37</th>\n      <td>Smelt</td>\n      <td>7.0</td>\n      <td>10.6</td>\n    </tr>\n    <tr>\n      <th>38</th>\n      <td>Smelt</td>\n      <td>9.7</td>\n      <td>11.0</td>\n    </tr>\n    <tr>\n      <th>39</th>\n      <td>Smelt</td>\n      <td>9.8</td>\n      <td>11.2</td>\n    </tr>\n    <tr>\n      <th>40</th>\n      <td>Smelt</td>\n      <td>8.7</td>\n      <td>11.3</td>\n    </tr>\n    <tr>\n      <th>41</th>\n      <td>Smelt</td>\n      <td>10.0</td>\n      <td>11.8</td>\n    </tr>\n    <tr>\n      <th>42</th>\n      <td>Smelt</td>\n      <td>9.9</td>\n      <td>11.8</td>\n    </tr>\n    <tr>\n      <th>43</th>\n      <td>Smelt</td>\n      <td>9.8</td>\n      <td>12.0</td>\n    </tr>\n    <tr>\n      <th>44</th>\n      <td>Smelt</td>\n      <td>12.2</td>\n      <td>12.2</td>\n    </tr>\n    <tr>\n      <th>45</th>\n      <td>Smelt</td>\n      <td>13.4</td>\n      <td>12.4</td>\n    </tr>\n    <tr>\n      <th>46</th>\n      <td>Smelt</td>\n      <td>12.2</td>\n      <td>13.0</td>\n    </tr>\n    <tr>\n      <th>47</th>\n      <td>Smelt</td>\n      <td>19.7</td>\n      <td>14.3</td>\n    </tr>\n    <tr>\n      <th>48</th>\n      <td>Smelt</td>\n      <td>19.9</td>\n      <td>15.0</td>\n    </tr>\n  </tbody>\n</table>\n</div>"
     },
     "execution_count": 472,
     "metadata": {},
     "output_type": "execute_result"
    }
   ],
   "source": [
    "# Bream, Smelt 품종 행만 추출\n",
    "mask = fishDF.Species.isin(['Bream', 'Smelt']) #Boolean Indexing\n",
    "\n",
    "#해당 행만 도출\n",
    "twoFishDF = fishDF[mask]\n",
    "twoFishDF.index\n",
    "\n",
    "# 인덱스 정리\n",
    "twoFishDF.reset_index(drop=True,inplace =True)\n",
    "twoFishDF"
   ],
   "metadata": {
    "collapsed": false,
    "ExecuteTime": {
     "end_time": "2024-02-26T04:20:49.302614100Z",
     "start_time": "2024-02-26T04:20:49.294771900Z"
    }
   },
   "id": "d5d785d62c29339c",
   "execution_count": 472
  },
  {
   "cell_type": "code",
   "outputs": [
    {
     "data": {
      "text/plain": "Species     object\nWeight     float64\nLength     float64\ndtype: object"
     },
     "execution_count": 473,
     "metadata": {},
     "output_type": "execute_result"
    }
   ],
   "source": [
    "# Bream, Smelt 품종명을 수치화\n",
    "#twoFishDF.Species.replace({'Bream':0, 'Smelt':1}, inplace = True)\n",
    "\n",
    "twoFishDF.loc[:,'Species'] = twoFishDF['Species'].replace({'Bream':0, 'Smelt':1}).copy()      \n",
    "# 이르케하면 경고가 안뜬다. 다만, object로 되어있기 때문에 int로 바꾸어 주어야 한다.\n",
    "#twoFishDF.head()\n",
    "twoFishDF.dtypes"
   ],
   "metadata": {
    "collapsed": false,
    "ExecuteTime": {
     "end_time": "2024-02-26T04:20:49.318312Z",
     "start_time": "2024-02-26T04:20:49.303773500Z"
    }
   },
   "id": "a0320cbb8dd7c6c4",
   "execution_count": 473
  },
  {
   "cell_type": "code",
   "outputs": [
    {
     "name": "stderr",
     "output_type": "stream",
     "text": [
      "C:\\Users\\kdp\\AppData\\Local\\Temp\\ipykernel_12032\\4197498798.py:1: SettingWithCopyWarning: \n",
      "A value is trying to be set on a copy of a slice from a DataFrame.\n",
      "Try using .loc[row_indexer,col_indexer] = value instead\n",
      "\n",
      "See the caveats in the documentation: https://pandas.pydata.org/pandas-docs/stable/user_guide/indexing.html#returning-a-view-versus-a-copy\n",
      "  twoFishDF['Species'] = twoFishDF['Species'].astype('int64')\n"
     ]
    },
    {
     "data": {
      "text/plain": "Species      int64\nWeight     float64\nLength     float64\ndtype: object"
     },
     "execution_count": 474,
     "metadata": {},
     "output_type": "execute_result"
    }
   ],
   "source": [
    "twoFishDF['Species'] = twoFishDF['Species'].astype('int64')\n",
    "twoFishDF.dtypes"
   ],
   "metadata": {
    "collapsed": false,
    "ExecuteTime": {
     "end_time": "2024-02-26T04:20:49.362536200Z",
     "start_time": "2024-02-26T04:20:49.316256700Z"
    }
   },
   "id": "3dc3391fe35194e2",
   "execution_count": 474
  },
  {
   "cell_type": "markdown",
   "source": [
    "(2) 데이터 전처리"
   ],
   "metadata": {
    "collapsed": false
   },
   "id": "ef823529da65acd2"
  },
  {
   "cell_type": "code",
   "outputs": [
    {
     "name": "stdout",
     "output_type": "stream",
     "text": [
      "<class 'pandas.core.frame.DataFrame'>\n",
      "RangeIndex: 49 entries, 0 to 48\n",
      "Data columns (total 3 columns):\n",
      " #   Column   Non-Null Count  Dtype  \n",
      "---  ------   --------------  -----  \n",
      " 0   Species  49 non-null     int64  \n",
      " 1   Weight   49 non-null     float64\n",
      " 2   Length   49 non-null     float64\n",
      "dtypes: float64(2), int64(1)\n",
      "memory usage: 1.3 KB\n"
     ]
    }
   ],
   "source": [
    "# Weight, Length로 품종 구별이 가능한지 시각화\n",
    "\n",
    "twoFishDF.info()"
   ],
   "metadata": {
    "collapsed": false,
    "ExecuteTime": {
     "end_time": "2024-02-26T04:20:49.391039200Z",
     "start_time": "2024-02-26T04:20:49.331474Z"
    }
   },
   "id": "d509e804edc6635a",
   "execution_count": 475
  },
  {
   "cell_type": "markdown",
   "source": [],
   "metadata": {
    "collapsed": false
   },
   "id": "5db887d21f7abeeb"
  },
  {
   "cell_type": "code",
   "outputs": [
    {
     "data": {
      "text/plain": "<Figure size 640x480 with 1 Axes>",
      "image/png": "[encoded data removed]"
     },
     "metadata": {},
     "output_type": "display_data"
    }
   ],
   "source": [
    "Weight_data = twoFishDF.Weight\n",
    "Length_data = twoFishDF.Length\n",
    "\n",
    "import matplotlib.pyplot as plt\n",
    "\n",
    "plt.scatter(Weight_data, Length_data, c = twoFishDF.Species)\n",
    "plt.show()"
   ],
   "metadata": {
    "collapsed": false,
    "ExecuteTime": {
     "end_time": "2024-02-26T04:20:49.504333800Z",
     "start_time": "2024-02-26T04:20:49.358393100Z"
    }
   },
   "id": "3406e1e085d20d43",
   "execution_count": 476
  },
  {
   "cell_type": "markdown",
   "source": [
    "(3) 기계학습을 위한 데이터 준비\n",
    "- 피쳐/특성 + 타겟/라벨/클래스\n",
    "- 학습용 데이터셋  : 80%\n",
    "- 테스트용 데이터셋 : 20%\n",
    "\n",
    "(+) 꼭 8:2 할 필요 없다. .75:.25도 해도 되고 암튼 그럼"
   ],
   "metadata": {
    "collapsed": false
   },
   "id": "a64b7d51a210183d"
  },
  {
   "cell_type": "markdown",
   "source": [
    "(3-1) 직접 타겟/라벨 컬럼의 비율을 고려해서 학습 & 테스트용 데이터셋 준비"
   ],
   "metadata": {
    "collapsed": false
   },
   "id": "f4c79087156d93ad"
  },
  {
   "cell_type": "code",
   "outputs": [
    {
     "name": "stdout",
     "output_type": "stream",
     "text": [
      "(49, 3)\n"
     ]
    }
   ],
   "source": [
    "# 데이터 섞기 => 100% 모두 섞기\n",
    "# 만약 섞지 않는다면 학습은 브림 위주, 테스트는 다른 종 위주여서 의미가 없음. 그래서 데이터를 섞고 나누어주어야 한다.\n",
    "twoFishDF = twoFishDF.sample(frac = 1.)\n",
    "#만약 frac 파라미터 값을 .5로 줬다면 반틈만 섞인다.\n",
    "print(twoFishDF.shape)\n",
    "\n",
    "# ======> 하지만 원본 데이터가 bream과 smelt가 개수가 같지않으므로 한쪽으로 편향 될 가능성이 크다."
   ],
   "metadata": {
    "collapsed": false,
    "ExecuteTime": {
     "end_time": "2024-02-26T04:20:49.564617300Z",
     "start_time": "2024-02-26T04:20:49.459671600Z"
    }
   },
   "id": "ed7981038b2bee4a",
   "execution_count": 477
  },
  {
   "cell_type": "code",
   "outputs": [
    {
     "name": "stdout",
     "output_type": "stream",
     "text": [
      "trainDF.shape: (40, 3)\n",
      "testDF.shape: (10, 3)\n"
     ]
    }
   ],
   "source": [
    "# 학습과 테스트 비율 조절 개수를 계산\n",
    "num = round(twoFishDF.shape[0] * 0.8)\n",
    "\n",
    "# 학습 데이터셋 추출\n",
    "trainDF = twoFishDF.iloc[:num+1]\n",
    "print(f\"trainDF.shape: {trainDF.shape}\")\n",
    "\n",
    "# 테스트 데이터셋 추출\n",
    "testDF = twoFishDF.iloc[num:]\n",
    "print(f\"testDF.shape: {testDF.shape}\")"
   ],
   "metadata": {
    "collapsed": false,
    "ExecuteTime": {
     "end_time": "2024-02-26T04:20:49.565685300Z",
     "start_time": "2024-02-26T04:20:49.477758Z"
    }
   },
   "id": "618788a8f7d11f9f",
   "execution_count": 478
  },
  {
   "cell_type": "markdown",
   "source": [
    "(3-2) scikit-learn 모듈 활용한 학습&테스트용 데이터셋 준비\n",
    "- 추가 모듈 로딩"
   ],
   "metadata": {
    "collapsed": false
   },
   "id": "fbbf0432de4a21d7"
  },
  {
   "cell_type": "code",
   "outputs": [],
   "source": [
    "from sklearn.model_selection import train_test_split"
   ],
   "metadata": {
    "collapsed": false,
    "ExecuteTime": {
     "end_time": "2024-02-26T04:20:49.579217500Z",
     "start_time": "2024-02-26T04:20:49.509511200Z"
    }
   },
   "id": "f5959569fb27c9f5",
   "execution_count": 479
  },
  {
   "cell_type": "code",
   "outputs": [
    {
     "name": "stdout",
     "output_type": "stream",
     "text": [
      "featureDF => (49, 2) \n",
      "     Weight  Length\n",
      "37     7.0    10.6\n",
      "12   500.0    31.5\n",
      "targetSR => (49,) \n",
      " 37    1\n",
      "12    0\n",
      "Name: Species, dtype: int64\n"
     ]
    }
   ],
   "source": [
    "# 특성과 타겟 분리\n",
    "featureDF = twoFishDF[twoFishDF.columns[1:]]\n",
    "targetSR = twoFishDF.Species\n",
    "\n",
    "print(f\"featureDF => {featureDF.shape} \\n {featureDF.head(2)}\")\n",
    "print(f\"targetSR => {targetSR.shape} \\n {targetSR.head(2)}\")"
   ],
   "metadata": {
    "collapsed": false,
    "ExecuteTime": {
     "end_time": "2024-02-26T04:20:49.612871900Z",
     "start_time": "2024-02-26T04:20:49.573018700Z"
    }
   },
   "id": "83be5a87a046331c",
   "execution_count": 480
  },
  {
   "cell_type": "code",
   "outputs": [],
   "source": [
    "## -- 비율 설정 없이 학습/테스트 셋 분리\n",
    "## -- [전달] 피쳐 데이터, 타겟 데이터\n",
    "## -- [기본] shuffle = True, train: test = 0.75:0.25\n",
    "## -- [반환] 학습용 피쳐, 태스트용 피쳐, 학습용 타겟, 테스트용 타겟\n",
    "X_train, X_test, y_train, y_test = train_test_split(featureDF,targetSR)"
   ],
   "metadata": {
    "collapsed": false,
    "ExecuteTime": {
     "end_time": "2024-02-26T04:20:49.633657500Z",
     "start_time": "2024-02-26T04:20:49.601251600Z"
    }
   },
   "id": "468ac2acf7289337",
   "execution_count": 481
  },
  {
   "cell_type": "code",
   "outputs": [
    {
     "name": "stdout",
     "output_type": "stream",
     "text": [
      "X_train : (36, 2)\n",
      "    Weight  Length\n",
      "24   700.0    35.0\n",
      "15   600.0    32.0\n",
      "\n",
      "y_train : (36,)\n",
      "24    0\n",
      "15    0\n",
      "Name: Species, dtype: int64\n",
      "\n",
      "X_test : (13, 2)\n",
      "    Weight  Length\n",
      "43     9.8    12.0\n",
      "41    10.0    11.8\n",
      "\n",
      "y_test : (13,)\n",
      "43    1\n",
      "41    1\n",
      "Name: Species, dtype: int64\n"
     ]
    }
   ],
   "source": [
    "print(f\"X_train : {X_train.shape}\")\n",
    "print(X_train.head(2))\n",
    "print()\n",
    "print(f\"y_train : {y_train.shape}\")\n",
    "print(y_train.head(2))\n",
    "print()\n",
    "print(f\"X_test : {X_test.shape}\")\n",
    "print(X_test.head(2))\n",
    "print()\n",
    "print(f\"y_test : {y_test.shape}\")\n",
    "print(y_test.head(2))"
   ],
   "metadata": {
    "collapsed": false,
    "ExecuteTime": {
     "end_time": "2024-02-26T04:20:49.653442200Z",
     "start_time": "2024-02-26T04:20:49.639809200Z"
    }
   },
   "id": "adcef4972ecb7155",
   "execution_count": 482
  },
  {
   "cell_type": "code",
   "outputs": [
    {
     "name": "stdout",
     "output_type": "stream",
     "text": [
      "Species\n",
      "0    0.75\n",
      "1    0.25\n",
      "Name: count, dtype: float64\n",
      "Species\n",
      "0    0.615385\n",
      "1    0.384615\n",
      "Name: count, dtype: float64\n"
     ]
    }
   ],
   "source": [
    "# 타겟/클래스 비율\n",
    "print(y_train.value_counts()/y_train.shape[0])\n",
    "print(y_test.value_counts()/y_test.shape[0])"
   ],
   "metadata": {
    "collapsed": false,
    "ExecuteTime": {
     "end_time": "2024-02-26T04:20:49.686908700Z",
     "start_time": "2024-02-26T04:20:49.656537500Z"
    }
   },
   "id": "222653504e465d00",
   "execution_count": 483
  },
  {
   "cell_type": "code",
   "outputs": [],
   "source": [
    "## -- 비율 설정과 함께 학습/테스트 셋 분리 - 1\n",
    "## -- [전달] 피쳐 데이터, 타겟 데이터\n",
    "## -- [기본] shuffle = True\n",
    "## -- [설정] train:test = 0.9:0.1 => test_size, train_size 매개변수 값 설정\n",
    "## -- [반환] 학습용 피쳐, 태스트용 피쳐, 학습용 타겟, 테스트용 타겟\n",
    "X_train, X_test, y_train, y_test = train_test_split(featureDF, targetSR, test_size = 0.1)\n",
    "\n",
    "#test_size 나 train_size 중 1개의 값을 정해주면 거기서 뺀 거를 다른 거의 사이즈로 자동 설정됨\n",
    "#근데 이렇게 해도 종 종류별로 그 비율을 맞춰주지는 않는다는 문제점이 발생"
   ],
   "metadata": {
    "collapsed": false,
    "ExecuteTime": {
     "end_time": "2024-02-26T04:20:49.703587600Z",
     "start_time": "2024-02-26T04:20:49.673271200Z"
    }
   },
   "id": "4fb61e6a885a8439",
   "execution_count": 484
  },
  {
   "cell_type": "code",
   "outputs": [
    {
     "name": "stdout",
     "output_type": "stream",
     "text": [
      "X_train : (44, 2)\n",
      "    Weight  Length\n",
      "11   500.0    31.0\n",
      "5    450.0    29.7\n",
      "\n",
      "y_train : (44,)\n",
      "11    0\n",
      "5     0\n",
      "Name: Species, dtype: int64\n",
      "\n",
      "X_test : (5, 2)\n",
      "    Weight  Length\n",
      "30   920.0    38.5\n",
      "18   610.0    33.5\n",
      "\n",
      "y_test : (5,)\n",
      "30    0\n",
      "18    0\n",
      "Name: Species, dtype: int64\n"
     ]
    }
   ],
   "source": [
    "print(f\"X_train : {X_train.shape}\")\n",
    "print(X_train.head(2))\n",
    "print()\n",
    "print(f\"y_train : {y_train.shape}\")\n",
    "print(y_train.head(2))\n",
    "print()\n",
    "print(f\"X_test : {X_test.shape}\")\n",
    "print(X_test.head(2))\n",
    "print()\n",
    "print(f\"y_test : {y_test.shape}\")\n",
    "print(y_test.head(2))"
   ],
   "metadata": {
    "collapsed": false,
    "ExecuteTime": {
     "end_time": "2024-02-26T04:20:49.726673700Z",
     "start_time": "2024-02-26T04:20:49.698353600Z"
    }
   },
   "id": "6caa22f86c72c9ed",
   "execution_count": 485
  },
  {
   "cell_type": "code",
   "outputs": [],
   "source": [
    "## -- 비율 설정과 함께 학습/테스트 셋 분리 - 2\n",
    "## -- [전달] 피쳐 데이터, 타겟 데이터\n",
    "## -- [기본] shuffle = True\n",
    "## -- [설정] train:test = 0.9:0.1 => test_size, train_size 매개변수 값 설정\n",
    "## --       분류의 경우 target이 불균형일 경우 비율 지정하는 stratify 매개변수를 target으로 설정\n",
    "## -- [반환] 학습용 피쳐, 태스트용 피쳐, 학습용 타겟, 테스트용 타겟\n",
    "X_train, X_test, y_train, y_test = train_test_split(featureDF, targetSR, test_size = 0.1, stratify = targetSR)"
   ],
   "metadata": {
    "collapsed": false,
    "ExecuteTime": {
     "end_time": "2024-02-26T04:20:49.727671Z",
     "start_time": "2024-02-26T04:20:49.708817500Z"
    }
   },
   "id": "de4681580d60d1e6",
   "execution_count": 486
  },
  {
   "cell_type": "code",
   "outputs": [
    {
     "name": "stdout",
     "output_type": "stream",
     "text": [
      "X_train : (44, 2)\n",
      "    Weight  Length\n",
      "43     9.8    12.0\n",
      "35     6.7     9.8\n",
      "\n",
      "y_train : (44,)\n",
      "43    1\n",
      "35    1\n",
      "Name: Species, dtype: int64\n",
      "\n",
      "X_test : (5, 2)\n",
      "    Weight  Length\n",
      "2    340.0    26.5\n",
      "15   600.0    32.0\n",
      "\n",
      "y_test : (5,)\n",
      "2     0\n",
      "15    0\n",
      "Name: Species, dtype: int64\n"
     ]
    }
   ],
   "source": [
    "print(f\"X_train : {X_train.shape}\")\n",
    "print(X_train.head(2))\n",
    "print()\n",
    "print(f\"y_train : {y_train.shape}\")\n",
    "print(y_train.head(2))\n",
    "print()\n",
    "print(f\"X_test : {X_test.shape}\")\n",
    "print(X_test.head(2))\n",
    "print()\n",
    "print(f\"y_test : {y_test.shape}\")\n",
    "print(y_test.head(2))"
   ],
   "metadata": {
    "collapsed": false,
    "ExecuteTime": {
     "end_time": "2024-02-26T04:20:49.757963600Z",
     "start_time": "2024-02-26T04:20:49.731799800Z"
    }
   },
   "id": "f94379749ef045eb",
   "execution_count": 487
  },
  {
   "cell_type": "code",
   "outputs": [
    {
     "name": "stdout",
     "output_type": "stream",
     "text": [
      "Species\n",
      "0    0.704545\n",
      "1    0.295455\n",
      "Name: count, dtype: float64\n",
      "Species\n",
      "0    0.8\n",
      "1    0.2\n",
      "Name: count, dtype: float64\n"
     ]
    }
   ],
   "source": [
    "# 타겟/클래스 비율\n",
    "print(y_train.value_counts()/y_train.shape[0])\n",
    "print(y_test.value_counts()/y_test.shape[0])"
   ],
   "metadata": {
    "collapsed": false,
    "ExecuteTime": {
     "end_time": "2024-02-26T04:20:49.772631800Z",
     "start_time": "2024-02-26T04:20:49.746458700Z"
    }
   },
   "id": "5b190564a7c036c3",
   "execution_count": 488
  },
  {
   "cell_type": "code",
   "outputs": [],
   "source": [
    "### 검증용 데이터셋 준비 ==> 학습용 데이터셋에서 분리\n",
    "X_train, X_val, y_train, y_val = train_test_split(X_train, y_train, test_size = 0.1, stratify=y_train)"
   ],
   "metadata": {
    "collapsed": false,
    "ExecuteTime": {
     "end_time": "2024-02-26T04:20:49.806302Z",
     "start_time": "2024-02-26T04:20:49.765242700Z"
    }
   },
   "id": "8001acec40efeb08",
   "execution_count": 489
  },
  {
   "cell_type": "code",
   "outputs": [
    {
     "name": "stdout",
     "output_type": "stream",
     "text": [
      "X_train : (39, 2)\n",
      "    Weight  Length\n",
      "27   714.0    36.0\n",
      "13   340.0    32.0\n",
      "\n",
      "y_train : (39,)\n",
      "27    0\n",
      "13    0\n",
      "Name: Species, dtype: int64\n",
      "\n",
      "X_val : (5, 2)\n",
      "    Weight  Length\n",
      "2    340.0    26.5\n",
      "15   600.0    32.0\n",
      "\n",
      "y_val : (5,)\n",
      "2     0\n",
      "15    0\n",
      "Name: Species, dtype: int64\n"
     ]
    }
   ],
   "source": [
    "print(f\"X_train : {X_train.shape}\")\n",
    "print(X_train.head(2))\n",
    "print()\n",
    "print(f\"y_train : {y_train.shape}\")\n",
    "print(y_train.head(2))\n",
    "print()\n",
    "print(f\"X_val : {X_val.shape}\")\n",
    "print(X_test.head(2))\n",
    "print()\n",
    "print(f\"y_val : {y_val.shape}\")\n",
    "print(y_test.head(2))"
   ],
   "metadata": {
    "collapsed": false,
    "ExecuteTime": {
     "end_time": "2024-02-26T04:20:49.825064800Z",
     "start_time": "2024-02-26T04:20:49.797250800Z"
    }
   },
   "id": "7d47077517282d6c",
   "execution_count": 490
  },
  {
   "cell_type": "markdown",
   "source": [
    "(4) 학습 진행\n",
    "- 학습 방법 : 지도학습 / 분류 => KNN\n",
    "- 모델 인스턴스 생성 => fit( ) 메서드"
   ],
   "metadata": {
    "collapsed": false
   },
   "id": "3641f5b7f4bb5c67"
  },
  {
   "cell_type": "code",
   "outputs": [
    {
     "data": {
      "text/plain": "KNeighborsClassifier()",
      "text/html": "<style>#sk-container-id-25 {color: black;}#sk-container-id-25 pre{padding: 0;}#sk-container-id-25 div.sk-toggleable {background-color: white;}#sk-container-id-25 label.sk-toggleable__label {cursor: pointer;display: block;width: 100%;margin-bottom: 0;padding: 0.3em;box-sizing: border-box;text-align: center;}#sk-container-id-25 label.sk-toggleable__label-arrow:before {content: \"▸\";float: left;margin-right: 0.25em;color: #696969;}#sk-container-id-25 label.sk-toggleable__label-arrow:hover:before {color: black;}#sk-container-id-25 div.sk-estimator:hover label.sk-toggleable__label-arrow:before {color: black;}#sk-container-id-25 div.sk-toggleable__content {max-height: 0;max-width: 0;overflow: hidden;text-align: left;background-color: #f0f8ff;}#sk-container-id-25 div.sk-toggleable__content pre {margin: 0.2em;color: black;border-radius: 0.25em;background-color: #f0f8ff;}#sk-container-id-25 input.sk-toggleable__control:checked~div.sk-toggleable__content {max-height: 200px;max-width: 100%;overflow: auto;}#sk-container-id-25 input.sk-toggleable__control:checked~label.sk-toggleable__label-arrow:before {content: \"▾\";}#sk-container-id-25 div.sk-estimator input.sk-toggleable__control:checked~label.sk-toggleable__label {background-color: #d4ebff;}#sk-container-id-25 div.sk-label input.sk-toggleable__control:checked~label.sk-toggleable__label {background-color: #d4ebff;}#sk-container-id-25 input.sk-hidden--visually {border: 0;clip: rect(1px 1px 1px 1px);clip: rect(1px, 1px, 1px, 1px);height: 1px;margin: -1px;overflow: hidden;padding: 0;position: absolute;width: 1px;}#sk-container-id-25 div.sk-estimator {font-family: monospace;background-color: #f0f8ff;border: 1px dotted black;border-radius: 0.25em;box-sizing: border-box;margin-bottom: 0.5em;}#sk-container-id-25 div.sk-estimator:hover {background-color: #d4ebff;}#sk-container-id-25 div.sk-parallel-item::after {content: \"\";width: 100%;border-bottom: 1px solid gray;flex-grow: 1;}#sk-container-id-25 div.sk-label:hover label.sk-toggleable__label {background-color: #d4ebff;}#sk-container-id-25 div.sk-serial::before {content: \"\";position: absolute;border-left: 1px solid gray;box-sizing: border-box;top: 0;bottom: 0;left: 50%;z-index: 0;}#sk-container-id-25 div.sk-serial {display: flex;flex-direction: column;align-items: center;background-color: white;padding-right: 0.2em;padding-left: 0.2em;position: relative;}#sk-container-id-25 div.sk-item {position: relative;z-index: 1;}#sk-container-id-25 div.sk-parallel {display: flex;align-items: stretch;justify-content: center;background-color: white;position: relative;}#sk-container-id-25 div.sk-item::before, #sk-container-id-25 div.sk-parallel-item::before {content: \"\";position: absolute;border-left: 1px solid gray;box-sizing: border-box;top: 0;bottom: 0;left: 50%;z-index: -1;}#sk-container-id-25 div.sk-parallel-item {display: flex;flex-direction: column;z-index: 1;position: relative;background-color: white;}#sk-container-id-25 div.sk-parallel-item:first-child::after {align-self: flex-end;width: 50%;}#sk-container-id-25 div.sk-parallel-item:last-child::after {align-self: flex-start;width: 50%;}#sk-container-id-25 div.sk-parallel-item:only-child::after {width: 0;}#sk-container-id-25 div.sk-dashed-wrapped {border: 1px dashed gray;margin: 0 0.4em 0.5em 0.4em;box-sizing: border-box;padding-bottom: 0.4em;background-color: white;}#sk-container-id-25 div.sk-label label {font-family: monospace;font-weight: bold;display: inline-block;line-height: 1.2em;}#sk-container-id-25 div.sk-label-container {text-align: center;}#sk-container-id-25 div.sk-container {/* jupyter's `normalize.less` sets `[hidden] { display: none; }` but bootstrap.min.css set `[hidden] { display: none !important; }` so we also need the `!important` here to be able to override the default hidden behavior on the sphinx rendered scikit-learn.org. See: https://github.com/scikit-learn/scikit-learn/issues/21755 */display: inline-block !important;position: relative;}#sk-container-id-25 div.sk-text-repr-fallback {display: none;}</style><div id=\"sk-container-id-25\" class=\"sk-top-container\"><div class=\"sk-text-repr-fallback\"><pre>KNeighborsClassifier()</pre><b>In a Jupyter environment, please rerun this cell to show the HTML representation or trust the notebook. <br />On GitHub, the HTML representation is unable to render, please try loading this page with nbviewer.org.</b></div><div class=\"sk-container\" hidden><div class=\"sk-item\"><div class=\"sk-estimator sk-toggleable\"><input class=\"sk-toggleable__control sk-hidden--visually\" id=\"sk-estimator-id-25\" type=\"checkbox\" checked><label for=\"sk-estimator-id-25\" class=\"sk-toggleable__label sk-toggleable__label-arrow\">KNeighborsClassifier</label><div class=\"sk-toggleable__content\"><pre>KNeighborsClassifier()</pre></div></div></div></div></div>"
     },
     "execution_count": 491,
     "metadata": {},
     "output_type": "execute_result"
    }
   ],
   "source": [
    "# 모델 인스턴스 생성\n",
    "model = KNeighborsClassifier()\n",
    "model"
   ],
   "metadata": {
    "collapsed": false,
    "ExecuteTime": {
     "end_time": "2024-02-26T04:20:49.872778Z",
     "start_time": "2024-02-26T04:20:49.815612300Z"
    }
   },
   "id": "df0a34c29e57c476",
   "execution_count": 491
  },
  {
   "cell_type": "code",
   "outputs": [
    {
     "data": {
      "text/plain": "KNeighborsClassifier()",
      "text/html": "<style>#sk-container-id-26 {color: black;}#sk-container-id-26 pre{padding: 0;}#sk-container-id-26 div.sk-toggleable {background-color: white;}#sk-container-id-26 label.sk-toggleable__label {cursor: pointer;display: block;width: 100%;margin-bottom: 0;padding: 0.3em;box-sizing: border-box;text-align: center;}#sk-container-id-26 label.sk-toggleable__label-arrow:before {content: \"▸\";float: left;margin-right: 0.25em;color: #696969;}#sk-container-id-26 label.sk-toggleable__label-arrow:hover:before {color: black;}#sk-container-id-26 div.sk-estimator:hover label.sk-toggleable__label-arrow:before {color: black;}#sk-container-id-26 div.sk-toggleable__content {max-height: 0;max-width: 0;overflow: hidden;text-align: left;background-color: #f0f8ff;}#sk-container-id-26 div.sk-toggleable__content pre {margin: 0.2em;color: black;border-radius: 0.25em;background-color: #f0f8ff;}#sk-container-id-26 input.sk-toggleable__control:checked~div.sk-toggleable__content {max-height: 200px;max-width: 100%;overflow: auto;}#sk-container-id-26 input.sk-toggleable__control:checked~label.sk-toggleable__label-arrow:before {content: \"▾\";}#sk-container-id-26 div.sk-estimator input.sk-toggleable__control:checked~label.sk-toggleable__label {background-color: #d4ebff;}#sk-container-id-26 div.sk-label input.sk-toggleable__control:checked~label.sk-toggleable__label {background-color: #d4ebff;}#sk-container-id-26 input.sk-hidden--visually {border: 0;clip: rect(1px 1px 1px 1px);clip: rect(1px, 1px, 1px, 1px);height: 1px;margin: -1px;overflow: hidden;padding: 0;position: absolute;width: 1px;}#sk-container-id-26 div.sk-estimator {font-family: monospace;background-color: #f0f8ff;border: 1px dotted black;border-radius: 0.25em;box-sizing: border-box;margin-bottom: 0.5em;}#sk-container-id-26 div.sk-estimator:hover {background-color: #d4ebff;}#sk-container-id-26 div.sk-parallel-item::after {content: \"\";width: 100%;border-bottom: 1px solid gray;flex-grow: 1;}#sk-container-id-26 div.sk-label:hover label.sk-toggleable__label {background-color: #d4ebff;}#sk-container-id-26 div.sk-serial::before {content: \"\";position: absolute;border-left: 1px solid gray;box-sizing: border-box;top: 0;bottom: 0;left: 50%;z-index: 0;}#sk-container-id-26 div.sk-serial {display: flex;flex-direction: column;align-items: center;background-color: white;padding-right: 0.2em;padding-left: 0.2em;position: relative;}#sk-container-id-26 div.sk-item {position: relative;z-index: 1;}#sk-container-id-26 div.sk-parallel {display: flex;align-items: stretch;justify-content: center;background-color: white;position: relative;}#sk-container-id-26 div.sk-item::before, #sk-container-id-26 div.sk-parallel-item::before {content: \"\";position: absolute;border-left: 1px solid gray;box-sizing: border-box;top: 0;bottom: 0;left: 50%;z-index: -1;}#sk-container-id-26 div.sk-parallel-item {display: flex;flex-direction: column;z-index: 1;position: relative;background-color: white;}#sk-container-id-26 div.sk-parallel-item:first-child::after {align-self: flex-end;width: 50%;}#sk-container-id-26 div.sk-parallel-item:last-child::after {align-self: flex-start;width: 50%;}#sk-container-id-26 div.sk-parallel-item:only-child::after {width: 0;}#sk-container-id-26 div.sk-dashed-wrapped {border: 1px dashed gray;margin: 0 0.4em 0.5em 0.4em;box-sizing: border-box;padding-bottom: 0.4em;background-color: white;}#sk-container-id-26 div.sk-label label {font-family: monospace;font-weight: bold;display: inline-block;line-height: 1.2em;}#sk-container-id-26 div.sk-label-container {text-align: center;}#sk-container-id-26 div.sk-container {/* jupyter's `normalize.less` sets `[hidden] { display: none; }` but bootstrap.min.css set `[hidden] { display: none !important; }` so we also need the `!important` here to be able to override the default hidden behavior on the sphinx rendered scikit-learn.org. See: https://github.com/scikit-learn/scikit-learn/issues/21755 */display: inline-block !important;position: relative;}#sk-container-id-26 div.sk-text-repr-fallback {display: none;}</style><div id=\"sk-container-id-26\" class=\"sk-top-container\"><div class=\"sk-text-repr-fallback\"><pre>KNeighborsClassifier()</pre><b>In a Jupyter environment, please rerun this cell to show the HTML representation or trust the notebook. <br />On GitHub, the HTML representation is unable to render, please try loading this page with nbviewer.org.</b></div><div class=\"sk-container\" hidden><div class=\"sk-item\"><div class=\"sk-estimator sk-toggleable\"><input class=\"sk-toggleable__control sk-hidden--visually\" id=\"sk-estimator-id-26\" type=\"checkbox\" checked><label for=\"sk-estimator-id-26\" class=\"sk-toggleable__label sk-toggleable__label-arrow\">KNeighborsClassifier</label><div class=\"sk-toggleable__content\"><pre>KNeighborsClassifier()</pre></div></div></div></div></div>"
     },
     "execution_count": 492,
     "metadata": {},
     "output_type": "execute_result"
    }
   ],
   "source": [
    "# 학습 진행 => 학습용 데이터로 진행\n",
    "model.fit(X_train, y_train)"
   ],
   "metadata": {
    "collapsed": false,
    "ExecuteTime": {
     "end_time": "2024-02-26T04:20:49.875978900Z",
     "start_time": "2024-02-26T04:20:49.831228500Z"
    }
   },
   "id": "21d25f36956e68ca",
   "execution_count": 492
  },
  {
   "cell_type": "markdown",
   "source": [
    "(5) 테스트 진행 => 학습에 사용되지 않은 데이터로 진행"
   ],
   "metadata": {
    "collapsed": false
   },
   "id": "4526a4dbbe526467"
  },
  {
   "cell_type": "code",
   "outputs": [
    {
     "data": {
      "text/plain": "1.0"
     },
     "execution_count": 493,
     "metadata": {},
     "output_type": "execute_result"
    }
   ],
   "source": [
    "model.score(X_val, y_val)\n",
    "#지금은 뭘해도 100이 나올것 , 데이터 크기가 작아서 ~!"
   ],
   "metadata": {
    "collapsed": false,
    "ExecuteTime": {
     "end_time": "2024-02-26T04:20:49.889567600Z",
     "start_time": "2024-02-26T04:20:49.844767600Z"
    }
   },
   "id": "d819a0188345006f",
   "execution_count": 493
  },
  {
   "cell_type": "markdown",
   "source": [
    "(6) 모델 활용 예측 => 새로운 데이터로 진행"
   ],
   "metadata": {
    "collapsed": false
   },
   "id": "9c8580aafbef3a10"
  },
  {
   "cell_type": "code",
   "outputs": [
    {
     "data": {
      "text/plain": "array([0, 0, 0, 1, 0], dtype=int64)"
     },
     "execution_count": 494,
     "metadata": {},
     "output_type": "execute_result"
    }
   ],
   "source": [
    "model.predict(X_test)"
   ],
   "metadata": {
    "collapsed": false,
    "ExecuteTime": {
     "end_time": "2024-02-26T04:20:49.942692400Z",
     "start_time": "2024-02-26T04:20:49.880087100Z"
    }
   },
   "id": "5ee554814676abc6",
   "execution_count": 494
  },
  {
   "cell_type": "code",
   "outputs": [
    {
     "data": {
      "text/plain": "2     0\n15    0\n14    0\n46    1\n18    0\nName: Species, dtype: int64"
     },
     "execution_count": 495,
     "metadata": {},
     "output_type": "execute_result"
    }
   ],
   "source": [
    "y_test\n",
    "#위에서 예측한것과 일치하는가? 결과를 보니 위의 반환값과 일치한다."
   ],
   "metadata": {
    "collapsed": false,
    "ExecuteTime": {
     "end_time": "2024-02-26T04:20:49.960132800Z",
     "start_time": "2024-02-26T04:20:49.929080600Z"
    }
   },
   "id": "29a1f7dcc57b6fc9",
   "execution_count": 495
  },
  {
   "cell_type": "code",
   "outputs": [],
   "source": [],
   "metadata": {
    "collapsed": false,
    "ExecuteTime": {
     "end_time": "2024-02-26T04:20:49.998571500Z",
     "start_time": "2024-02-26T04:20:49.951257900Z"
    }
   },
   "id": "712a7b54628f4e9f",
   "execution_count": 495
  },
  {
   "cell_type": "code",
   "outputs": [],
   "source": [],
   "metadata": {
    "collapsed": false,
    "ExecuteTime": {
     "end_time": "2024-02-26T04:20:50.004567800Z",
     "start_time": "2024-02-26T04:20:49.968495600Z"
    }
   },
   "id": "e0ac7a677c4f525",
   "execution_count": 495
  }
 ],
 "metadata": {
  "kernelspec": {
   "display_name": "Python 3",
   "language": "python",
   "name": "python3"
  },
  "language_info": {
   "codemirror_mode": {
    "name": "ipython",
    "version": 2
   },
   "file_extension": ".py",
   "mimetype": "text/x-python",
   "name": "python",
   "nbconvert_exporter": "python",
   "pygments_lexer": "ipython2",
   "version": "2.7.6"
  }
 },
 "nbformat": 4,
 "nbformat_minor": 5
}
