{
 "cells": [
  {
   "cell_type": "markdown",
   "id": "9b76465e-b2b7-4ebd-9cdb-c73d754dc6b4",
   "metadata": {},
   "source": [
    "### [ 데이터기반 시각화 ]\n",
    "- 데이터 : 남북한발전전략.xlsx\n",
    "- 남북한 수력발전전력에 대한 시각화"
   ]
  },
  {
   "cell_type": "markdown",
   "id": "441bc10e-cbdc-48c8-839d-9514f960b722",
   "metadata": {},
   "source": [
    "(1) 모듈 로딩 <hr>"
   ]
  },
  {
   "cell_type": "code",
   "execution_count": 14,
   "id": "1272b346-5d8c-4418-880a-b731a8788cad",
   "metadata": {},
   "outputs": [],
   "source": [
    "import pandas as pd\n",
    "import matplotlib.pyplot as plt"
   ]
  },
  {
   "cell_type": "markdown",
   "id": "96b8a96c-09cb-4a9a-ae0c-2999dcb75e3e",
   "metadata": {},
   "source": [
    "(2) 데이터 준비"
   ]
  },
  {
   "cell_type": "code",
   "execution_count": 15,
   "id": "f4637c80-3244-4cbb-817b-5c3576d9703a",
   "metadata": {},
   "outputs": [],
   "source": [
    "file ='남북한발전전력량.xlsx'"
   ]
  },
  {
   "cell_type": "markdown",
   "id": "cad8193f-e252-42ed-93a7-de4ad14a865b",
   "metadata": {},
   "source": [
    "- 실제 데이터 파일 확인 결과\n",
    "* 첫번쨰 행은 컬럼명 데이터\n",
    "* 첫번째와 두번째 컬럼을 행 인덱스 사용으로 적합\n",
    "* 입력값이 없는 쉘에 '-' 채워져 있음 => isnull()/isna()로는 결측치 체크 X\n",
    "    - 삭제하지 않고 대체로 처리 => 대체값 0"
   ]
  },
  {
   "cell_type": "markdown",
   "id": "8524ae24-bf17-4838-a832-80c4277263de",
   "metadata": {},
   "source": [
    "(3) 데이터 저장 : EXCEL => DataFrame <hr>"
   ]
  },
  {
   "cell_type": "code",
   "execution_count": 16,
   "id": "fef02f96-d677-4365-9efd-67cb53aec432",
   "metadata": {},
   "outputs": [],
   "source": [
    "korpowerDF = pd.read_excel(file, index_col=[0,1])"
   ]
  },
  {
   "cell_type": "markdown",
   "id": "58814b24-aa03-4db2-bb86-fbb3166076b8",
   "metadata": {},
   "source": [
    "(4) 데이터 확인 <hr>"
   ]
  },
  {
   "cell_type": "markdown",
   "id": "67bc3a3a-96a7-4f75-ae3f-952d59a95db0",
   "metadata": {},
   "source": [
    "(4-1) 데이터 타입과 실제 데이터 체크   \n",
    "- '-'데이터를 '0'으로 변경.\n",
    "- object 타입을 uint16"
   ]
  },
  {
   "cell_type": "code",
   "execution_count": 17,
   "id": "3660a1d9-e78b-474c-9819-806a5640b0e2",
   "metadata": {},
   "outputs": [
    {
     "name": "stdout",
     "output_type": "stream",
     "text": [
      "<class 'pandas.core.frame.DataFrame'>\n",
      "MultiIndex: 9 entries, ('남한', '합계') to ('북한', '원자력')\n",
      "Data columns (total 27 columns):\n",
      " #   Column  Non-Null Count  Dtype \n",
      "---  ------  --------------  ----- \n",
      " 0   1990    9 non-null      object\n",
      " 1   1991    9 non-null      object\n",
      " 2   1992    9 non-null      object\n",
      " 3   1993    9 non-null      object\n",
      " 4   1994    9 non-null      object\n",
      " 5   1995    9 non-null      object\n",
      " 6   1996    9 non-null      object\n",
      " 7   1997    9 non-null      object\n",
      " 8   1998    9 non-null      object\n",
      " 9   1999    9 non-null      object\n",
      " 10  2000    9 non-null      object\n",
      " 11  2001    9 non-null      object\n",
      " 12  2002    9 non-null      object\n",
      " 13  2003    9 non-null      object\n",
      " 14  2004    9 non-null      object\n",
      " 15  2005    9 non-null      object\n",
      " 16  2006    9 non-null      object\n",
      " 17  2007    9 non-null      object\n",
      " 18  2008    9 non-null      object\n",
      " 19  2009    9 non-null      object\n",
      " 20  2010    9 non-null      object\n",
      " 21  2011    9 non-null      object\n",
      " 22  2012    9 non-null      object\n",
      " 23  2013    9 non-null      object\n",
      " 24  2014    9 non-null      object\n",
      " 25  2015    9 non-null      object\n",
      " 26  2016    9 non-null      object\n",
      "dtypes: object(27)\n",
      "memory usage: 2.4+ KB\n"
     ]
    }
   ],
   "source": [
    "korpowerDF.info()"
   ]
  },
  {
   "cell_type": "code",
   "execution_count": 18,
   "id": "af58adaf-6eb5-40c9-be38-7f277cd94673",
   "metadata": {},
   "outputs": [
    {
     "data": {
      "text/html": [
       "<div>\n",
       "<style scoped>\n",
       "    .dataframe tbody tr th:only-of-type {\n",
       "        vertical-align: middle;\n",
       "    }\n",
       "\n",
       "    .dataframe tbody tr th {\n",
       "        vertical-align: top;\n",
       "    }\n",
       "\n",
       "    .dataframe thead th {\n",
       "        text-align: right;\n",
       "    }\n",
       "</style>\n",
       "<table border=\"1\" class=\"dataframe\">\n",
       "  <thead>\n",
       "    <tr style=\"text-align: right;\">\n",
       "      <th></th>\n",
       "      <th></th>\n",
       "      <th>1990</th>\n",
       "      <th>1991</th>\n",
       "      <th>1992</th>\n",
       "      <th>1993</th>\n",
       "      <th>1994</th>\n",
       "      <th>1995</th>\n",
       "      <th>1996</th>\n",
       "      <th>1997</th>\n",
       "      <th>1998</th>\n",
       "      <th>1999</th>\n",
       "      <th>...</th>\n",
       "      <th>2007</th>\n",
       "      <th>2008</th>\n",
       "      <th>2009</th>\n",
       "      <th>2010</th>\n",
       "      <th>2011</th>\n",
       "      <th>2012</th>\n",
       "      <th>2013</th>\n",
       "      <th>2014</th>\n",
       "      <th>2015</th>\n",
       "      <th>2016</th>\n",
       "    </tr>\n",
       "    <tr>\n",
       "      <th>전력량 (억㎾h)</th>\n",
       "      <th>발전 전력별</th>\n",
       "      <th></th>\n",
       "      <th></th>\n",
       "      <th></th>\n",
       "      <th></th>\n",
       "      <th></th>\n",
       "      <th></th>\n",
       "      <th></th>\n",
       "      <th></th>\n",
       "      <th></th>\n",
       "      <th></th>\n",
       "      <th></th>\n",
       "      <th></th>\n",
       "      <th></th>\n",
       "      <th></th>\n",
       "      <th></th>\n",
       "      <th></th>\n",
       "      <th></th>\n",
       "      <th></th>\n",
       "      <th></th>\n",
       "      <th></th>\n",
       "      <th></th>\n",
       "    </tr>\n",
       "  </thead>\n",
       "  <tbody>\n",
       "    <tr>\n",
       "      <th rowspan=\"5\" valign=\"top\">남한</th>\n",
       "      <th>합계</th>\n",
       "      <td>1077</td>\n",
       "      <td>1186</td>\n",
       "      <td>1310</td>\n",
       "      <td>1444</td>\n",
       "      <td>1650</td>\n",
       "      <td>1847</td>\n",
       "      <td>2055</td>\n",
       "      <td>2244</td>\n",
       "      <td>2153</td>\n",
       "      <td>2393</td>\n",
       "      <td>...</td>\n",
       "      <td>4031</td>\n",
       "      <td>4224</td>\n",
       "      <td>4336</td>\n",
       "      <td>4747</td>\n",
       "      <td>4969</td>\n",
       "      <td>5096</td>\n",
       "      <td>5171</td>\n",
       "      <td>5220</td>\n",
       "      <td>5281</td>\n",
       "      <td>5404</td>\n",
       "    </tr>\n",
       "    <tr>\n",
       "      <th>수력</th>\n",
       "      <td>64</td>\n",
       "      <td>51</td>\n",
       "      <td>49</td>\n",
       "      <td>60</td>\n",
       "      <td>41</td>\n",
       "      <td>55</td>\n",
       "      <td>52</td>\n",
       "      <td>54</td>\n",
       "      <td>61</td>\n",
       "      <td>61</td>\n",
       "      <td>...</td>\n",
       "      <td>50</td>\n",
       "      <td>56</td>\n",
       "      <td>56</td>\n",
       "      <td>65</td>\n",
       "      <td>78</td>\n",
       "      <td>77</td>\n",
       "      <td>84</td>\n",
       "      <td>78</td>\n",
       "      <td>58</td>\n",
       "      <td>66</td>\n",
       "    </tr>\n",
       "    <tr>\n",
       "      <th>화력</th>\n",
       "      <td>484</td>\n",
       "      <td>573</td>\n",
       "      <td>696</td>\n",
       "      <td>803</td>\n",
       "      <td>1022</td>\n",
       "      <td>1122</td>\n",
       "      <td>1264</td>\n",
       "      <td>1420</td>\n",
       "      <td>1195</td>\n",
       "      <td>1302</td>\n",
       "      <td>...</td>\n",
       "      <td>2551</td>\n",
       "      <td>2658</td>\n",
       "      <td>2802</td>\n",
       "      <td>3196</td>\n",
       "      <td>3343</td>\n",
       "      <td>3430</td>\n",
       "      <td>3581</td>\n",
       "      <td>3427</td>\n",
       "      <td>3402</td>\n",
       "      <td>3523</td>\n",
       "    </tr>\n",
       "    <tr>\n",
       "      <th>원자력</th>\n",
       "      <td>529</td>\n",
       "      <td>563</td>\n",
       "      <td>565</td>\n",
       "      <td>581</td>\n",
       "      <td>587</td>\n",
       "      <td>670</td>\n",
       "      <td>739</td>\n",
       "      <td>771</td>\n",
       "      <td>897</td>\n",
       "      <td>1031</td>\n",
       "      <td>...</td>\n",
       "      <td>1429</td>\n",
       "      <td>1510</td>\n",
       "      <td>1478</td>\n",
       "      <td>1486</td>\n",
       "      <td>1547</td>\n",
       "      <td>1503</td>\n",
       "      <td>1388</td>\n",
       "      <td>1564</td>\n",
       "      <td>1648</td>\n",
       "      <td>1620</td>\n",
       "    </tr>\n",
       "    <tr>\n",
       "      <th>신재생</th>\n",
       "      <td>-</td>\n",
       "      <td>-</td>\n",
       "      <td>-</td>\n",
       "      <td>-</td>\n",
       "      <td>-</td>\n",
       "      <td>-</td>\n",
       "      <td>-</td>\n",
       "      <td>-</td>\n",
       "      <td>-</td>\n",
       "      <td>-</td>\n",
       "      <td>...</td>\n",
       "      <td>-</td>\n",
       "      <td>-</td>\n",
       "      <td>-</td>\n",
       "      <td>-</td>\n",
       "      <td>-</td>\n",
       "      <td>86</td>\n",
       "      <td>118</td>\n",
       "      <td>151</td>\n",
       "      <td>173</td>\n",
       "      <td>195</td>\n",
       "    </tr>\n",
       "  </tbody>\n",
       "</table>\n",
       "<p>5 rows × 27 columns</p>\n",
       "</div>"
      ],
      "text/plain": [
       "                  1990  1991  1992  1993  1994  1995  1996  1997  1998  1999  \\\n",
       "전력량 (억㎾h) 발전 전력별                                                               \n",
       "남한        합계      1077  1186  1310  1444  1650  1847  2055  2244  2153  2393   \n",
       "          수력        64    51    49    60    41    55    52    54    61    61   \n",
       "          화력       484   573   696   803  1022  1122  1264  1420  1195  1302   \n",
       "          원자력      529   563   565   581   587   670   739   771   897  1031   \n",
       "          신재생        -     -     -     -     -     -     -     -     -     -   \n",
       "\n",
       "                  ...  2007  2008  2009  2010  2011  2012  2013  2014  2015  \\\n",
       "전력량 (억㎾h) 발전 전력별  ...                                                         \n",
       "남한        합계      ...  4031  4224  4336  4747  4969  5096  5171  5220  5281   \n",
       "          수력      ...    50    56    56    65    78    77    84    78    58   \n",
       "          화력      ...  2551  2658  2802  3196  3343  3430  3581  3427  3402   \n",
       "          원자력     ...  1429  1510  1478  1486  1547  1503  1388  1564  1648   \n",
       "          신재생     ...     -     -     -     -     -    86   118   151   173   \n",
       "\n",
       "                  2016  \n",
       "전력량 (억㎾h) 발전 전력별        \n",
       "남한        합계      5404  \n",
       "          수력        66  \n",
       "          화력      3523  \n",
       "          원자력     1620  \n",
       "          신재생      195  \n",
       "\n",
       "[5 rows x 27 columns]"
      ]
     },
     "execution_count": 18,
     "metadata": {},
     "output_type": "execute_result"
    }
   ],
   "source": [
    "korpowerDF.head()"
   ]
  },
  {
   "cell_type": "markdown",
   "id": "5b621afb-4370-42b7-98ac-4afdf705481e",
   "metadata": {},
   "source": [
    "(4-2) 인덱스와 컬럼 속성 확인"
   ]
  },
  {
   "cell_type": "code",
   "execution_count": 19,
   "id": "a8711e0a-54c2-4b62-9d79-75008d8301db",
   "metadata": {},
   "outputs": [
    {
     "name": "stdout",
     "output_type": "stream",
     "text": [
      "MultiIndex([('남한',  '합계'),\n",
      "            ('남한',  '수력'),\n",
      "            ('남한',  '화력'),\n",
      "            ('남한', '원자력'),\n",
      "            ('남한', '신재생'),\n",
      "            ('북한',  '합계'),\n",
      "            ('북한',  '수력'),\n",
      "            ('북한',  '화력'),\n",
      "            ('북한', '원자력')],\n",
      "           names=['전력량 (억㎾h)', '발전 전력별'])\n",
      "\n",
      "Index(['1990', '1991', '1992', '1993', '1994', '1995', '1996', '1997', '1998',\n",
      "       '1999', '2000', '2001', '2002', '2003', '2004', '2005', '2006', '2007',\n",
      "       '2008', '2009', '2010', '2011', '2012', '2013', '2014', '2015', '2016'],\n",
      "      dtype='object')\n"
     ]
    }
   ],
   "source": [
    "print(korpowerDF.index, korpowerDF.columns, sep='\\n\\n')"
   ]
  },
  {
   "cell_type": "markdown",
   "id": "60e69121-9411-494e-86ce-b2e3d40f2310",
   "metadata": {},
   "source": [
    "(5) 데이터 전처리"
   ]
  },
  {
   "cell_type": "markdown",
   "id": "09109e71-9e4c-4256-a905-99606f9c3524",
   "metadata": {},
   "source": [
    "- (5-1) 데이터 자료형 변환"
   ]
  },
  {
   "cell_type": "code",
   "execution_count": 20,
   "id": "f1a2ea7d-2de8-489a-ac0c-ae5bd1a8aa1b",
   "metadata": {},
   "outputs": [],
   "source": [
    "# '-' => '0'\n",
    "korpowerDF2 = korpowerDF.replace('-', '0')"
   ]
  },
  {
   "cell_type": "code",
   "execution_count": 26,
   "id": "3a72ed18-0303-4be3-acb6-30ef42ecb228",
   "metadata": {},
   "outputs": [
    {
     "name": "stdout",
     "output_type": "stream",
     "text": [
      "<class 'pandas.core.frame.DataFrame'>\n",
      "MultiIndex: 9 entries, ('남한', '합계') to ('북한', '원자력')\n",
      "Data columns (total 27 columns):\n",
      " #   Column  Non-Null Count  Dtype\n",
      "---  ------  --------------  -----\n",
      " 0   1990    9 non-null      int16\n",
      " 1   1991    9 non-null      int16\n",
      " 2   1992    9 non-null      int16\n",
      " 3   1993    9 non-null      int16\n",
      " 4   1994    9 non-null      int16\n",
      " 5   1995    9 non-null      int16\n",
      " 6   1996    9 non-null      int16\n",
      " 7   1997    9 non-null      int16\n",
      " 8   1998    9 non-null      int16\n",
      " 9   1999    9 non-null      int16\n",
      " 10  2000    9 non-null      int16\n",
      " 11  2001    9 non-null      int16\n",
      " 12  2002    9 non-null      int16\n",
      " 13  2003    9 non-null      int16\n",
      " 14  2004    9 non-null      int16\n",
      " 15  2005    9 non-null      int16\n",
      " 16  2006    9 non-null      int16\n",
      " 17  2007    9 non-null      int16\n",
      " 18  2008    9 non-null      int16\n",
      " 19  2009    9 non-null      int16\n",
      " 20  2010    9 non-null      int16\n",
      " 21  2011    9 non-null      int16\n",
      " 22  2012    9 non-null      int16\n",
      " 23  2013    9 non-null      int16\n",
      " 24  2014    9 non-null      int16\n",
      " 25  2015    9 non-null      int16\n",
      " 26  2016    9 non-null      int16\n",
      "dtypes: int16(27)\n",
      "memory usage: 1018.0+ bytes\n"
     ]
    }
   ],
   "source": [
    "#object => int16\n",
    "korpowerDF2 = korpowerDF2.astype('int16')\n",
    "korpowerDF2.info()"
   ]
  },
  {
   "cell_type": "markdown",
   "id": "796fb80c-0bad-448d-bdc8-ffab46008167",
   "metadata": {},
   "source": [
    "(6) 데이터 분석 작업"
   ]
  },
  {
   "cell_type": "markdown",
   "id": "d859288a-d6fd-4785-a59b-b7b085f3dbf2",
   "metadata": {},
   "source": [
    "- 남북한의 수력발전량 비교하기"
   ]
  },
  {
   "cell_type": "code",
   "execution_count": 30,
   "id": "3fad8a9e-97f2-490b-8ce5-fbaffd6f1583",
   "metadata": {},
   "outputs": [
    {
     "data": {
      "text/plain": [
       "(2, 27)"
      ]
     },
     "execution_count": 30,
     "metadata": {},
     "output_type": "execute_result"
    }
   ],
   "source": [
    "# 수력발전량 행 데이터 추출\n",
    "waterDF = korpowerDF2.xs('수력', level=1)\n",
    "waterDF.shape"
   ]
  },
  {
   "cell_type": "code",
   "execution_count": 31,
   "id": "f3d31d2c-5df4-477e-839b-23e3da97c24f",
   "metadata": {},
   "outputs": [
    {
     "data": {
      "text/html": [
       "<div>\n",
       "<style scoped>\n",
       "    .dataframe tbody tr th:only-of-type {\n",
       "        vertical-align: middle;\n",
       "    }\n",
       "\n",
       "    .dataframe tbody tr th {\n",
       "        vertical-align: top;\n",
       "    }\n",
       "\n",
       "    .dataframe thead th {\n",
       "        text-align: right;\n",
       "    }\n",
       "</style>\n",
       "<table border=\"1\" class=\"dataframe\">\n",
       "  <thead>\n",
       "    <tr style=\"text-align: right;\">\n",
       "      <th></th>\n",
       "      <th>1990</th>\n",
       "      <th>1991</th>\n",
       "      <th>1992</th>\n",
       "      <th>1993</th>\n",
       "      <th>1994</th>\n",
       "      <th>1995</th>\n",
       "      <th>1996</th>\n",
       "      <th>1997</th>\n",
       "      <th>1998</th>\n",
       "      <th>1999</th>\n",
       "      <th>...</th>\n",
       "      <th>2007</th>\n",
       "      <th>2008</th>\n",
       "      <th>2009</th>\n",
       "      <th>2010</th>\n",
       "      <th>2011</th>\n",
       "      <th>2012</th>\n",
       "      <th>2013</th>\n",
       "      <th>2014</th>\n",
       "      <th>2015</th>\n",
       "      <th>2016</th>\n",
       "    </tr>\n",
       "    <tr>\n",
       "      <th>전력량 (억㎾h)</th>\n",
       "      <th></th>\n",
       "      <th></th>\n",
       "      <th></th>\n",
       "      <th></th>\n",
       "      <th></th>\n",
       "      <th></th>\n",
       "      <th></th>\n",
       "      <th></th>\n",
       "      <th></th>\n",
       "      <th></th>\n",
       "      <th></th>\n",
       "      <th></th>\n",
       "      <th></th>\n",
       "      <th></th>\n",
       "      <th></th>\n",
       "      <th></th>\n",
       "      <th></th>\n",
       "      <th></th>\n",
       "      <th></th>\n",
       "      <th></th>\n",
       "      <th></th>\n",
       "    </tr>\n",
       "  </thead>\n",
       "  <tbody>\n",
       "    <tr>\n",
       "      <th>남한</th>\n",
       "      <td>64</td>\n",
       "      <td>51</td>\n",
       "      <td>49</td>\n",
       "      <td>60</td>\n",
       "      <td>41</td>\n",
       "      <td>55</td>\n",
       "      <td>52</td>\n",
       "      <td>54</td>\n",
       "      <td>61</td>\n",
       "      <td>61</td>\n",
       "      <td>...</td>\n",
       "      <td>50</td>\n",
       "      <td>56</td>\n",
       "      <td>56</td>\n",
       "      <td>65</td>\n",
       "      <td>78</td>\n",
       "      <td>77</td>\n",
       "      <td>84</td>\n",
       "      <td>78</td>\n",
       "      <td>58</td>\n",
       "      <td>66</td>\n",
       "    </tr>\n",
       "    <tr>\n",
       "      <th>북한</th>\n",
       "      <td>156</td>\n",
       "      <td>150</td>\n",
       "      <td>142</td>\n",
       "      <td>133</td>\n",
       "      <td>138</td>\n",
       "      <td>142</td>\n",
       "      <td>125</td>\n",
       "      <td>107</td>\n",
       "      <td>102</td>\n",
       "      <td>103</td>\n",
       "      <td>...</td>\n",
       "      <td>133</td>\n",
       "      <td>141</td>\n",
       "      <td>125</td>\n",
       "      <td>134</td>\n",
       "      <td>132</td>\n",
       "      <td>135</td>\n",
       "      <td>139</td>\n",
       "      <td>130</td>\n",
       "      <td>100</td>\n",
       "      <td>128</td>\n",
       "    </tr>\n",
       "  </tbody>\n",
       "</table>\n",
       "<p>2 rows × 27 columns</p>\n",
       "</div>"
      ],
      "text/plain": [
       "           1990  1991  1992  1993  1994  1995  1996  1997  1998  1999  ...  \\\n",
       "전력량 (억㎾h)                                                              ...   \n",
       "남한           64    51    49    60    41    55    52    54    61    61  ...   \n",
       "북한          156   150   142   133   138   142   125   107   102   103  ...   \n",
       "\n",
       "           2007  2008  2009  2010  2011  2012  2013  2014  2015  2016  \n",
       "전력량 (억㎾h)                                                              \n",
       "남한           50    56    56    65    78    77    84    78    58    66  \n",
       "북한          133   141   125   134   132   135   139   130   100   128  \n",
       "\n",
       "[2 rows x 27 columns]"
      ]
     },
     "execution_count": 31,
     "metadata": {},
     "output_type": "execute_result"
    }
   ],
   "source": [
    "waterDF.head()"
   ]
  },
  {
   "cell_type": "code",
   "execution_count": 34,
   "id": "9370023c-9c71-4f30-8a80-3df462bf3107",
   "metadata": {},
   "outputs": [
    {
     "data": {
      "image/png": "[encoded data removed]",
      "text/plain": [
       "<Figure size 640x480 with 1 Axes>"
      ]
     },
     "metadata": {},
     "output_type": "display_data"
    }
   ],
   "source": [
    "x = waterDF.columns\n",
    "y = waterDF.loc['남한']\n",
    "plt.plot(y)\n",
    "plt.show()"
   ]
  },
  {
   "cell_type": "code",
   "execution_count": 36,
   "id": "c10db24b-657e-4c22-a65d-d8cefdae92c7",
   "metadata": {},
   "outputs": [
    {
     "data": {
      "image/png": "[encoded data removed]",
      "text/plain": [
       "<Figure size 640x480 with 1 Axes>"
      ]
     },
     "metadata": {},
     "output_type": "display_data"
    }
   ],
   "source": [
    "plt.plot(waterDF.loc['남한'],'bo-', waterDF.loc['북한'], 'ro-')\n",
    "plt.show()"
   ]
  },
  {
   "cell_type": "code",
   "execution_count": null,
   "id": "11b5b65e-3fe3-4286-8075-6b194e9dea45",
   "metadata": {},
   "outputs": [],
   "source": []
  }
 ],
 "metadata": {
  "kernelspec": {
   "display_name": "Python 3 (ipykernel)",
   "language": "python",
   "name": "python3"
  },
  "language_info": {
   "codemirror_mode": {
    "name": "ipython",
    "version": 3
   },
   "file_extension": ".py",
   "mimetype": "text/x-python",
   "name": "python",
   "nbconvert_exporter": "python",
   "pygments_lexer": "ipython3",
   "version": "3.8.18"
  }
 },
 "nbformat": 4,
 "nbformat_minor": 5
}
