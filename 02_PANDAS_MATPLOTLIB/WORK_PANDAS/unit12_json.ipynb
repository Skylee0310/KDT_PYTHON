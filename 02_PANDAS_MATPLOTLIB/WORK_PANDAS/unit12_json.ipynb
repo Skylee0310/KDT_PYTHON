{
 "cells": [
  {
   "cell_type": "markdown",
   "id": "f29c484d-de1a-4ca4-81bb-720b190cf640",
   "metadata": {},
   "source": [
    "12. 가져오기와 내보내기\n",
    "    - <데이터셋>\n",
    "    - csv : 값을 쉼표로 구분\n",
    "    - tsv : 값을 탭으로 구분.\n",
    "    - xlsx"
   ]
  },
  {
   "cell_type": "markdown",
   "id": "9a497c80-ed12-4c02-8d7b-4df7c4c3d3b2",
   "metadata": {},
   "source": [
    "12.1 JSON 파일 읽고 쓰기"
   ]
  },
  {
   "cell_type": "markdown",
   "id": "9e72e9c0-bb11-4faa-a022-43b483dd8d5d",
   "metadata": {},
   "source": [
    "- json :\n",
    "    * 키 - 값 쌍으로 구성.\n",
    "    * 키가 고유 식별자 역할. (키는 문자열이어야 함.)\n",
    "    * 콜론 기호는 키를 값에 연결."
   ]
  },
  {
   "cell_type": "markdown",
   "id": "56eb8fe8-4b9a-4224-9622-d55446604d4f",
   "metadata": {},
   "source": [
    "12.1.1 JSON 파일을 DataFrame으로 불러오기"
   ]
  },
  {
   "cell_type": "code",
   "execution_count": 195,
   "id": "4f1abd26-22e7-45a4-816f-400475d21b26",
   "metadata": {},
   "outputs": [],
   "source": [
    "import pandas as pd"
   ]
  },
  {
   "cell_type": "code",
   "execution_count": 196,
   "id": "ac0c50c6-672c-4f18-86c7-a0db69d36a9d",
   "metadata": {},
   "outputs": [],
   "source": [
    "file = '../DATA/nobel.json'"
   ]
  },
  {
   "cell_type": "code",
   "execution_count": 197,
   "id": "90290ecf-e77d-43ed-912e-8729e2fad1d1",
   "metadata": {},
   "outputs": [],
   "source": [
    "nobel = pd.read_json(file)"
   ]
  },
  {
   "cell_type": "code",
   "execution_count": 198,
   "id": "ef810b09-3c90-4999-a132-3bd9c91a5677",
   "metadata": {},
   "outputs": [
    {
     "data": {
      "text/html": [
       "<div>\n",
       "<style scoped>\n",
       "    .dataframe tbody tr th:only-of-type {\n",
       "        vertical-align: middle;\n",
       "    }\n",
       "\n",
       "    .dataframe tbody tr th {\n",
       "        vertical-align: top;\n",
       "    }\n",
       "\n",
       "    .dataframe thead th {\n",
       "        text-align: right;\n",
       "    }\n",
       "</style>\n",
       "<table border=\"1\" class=\"dataframe\">\n",
       "  <thead>\n",
       "    <tr style=\"text-align: right;\">\n",
       "      <th></th>\n",
       "      <th>id</th>\n",
       "      <th>firstname</th>\n",
       "      <th>surname</th>\n",
       "      <th>motivation</th>\n",
       "      <th>share</th>\n",
       "      <th>year</th>\n",
       "      <th>category</th>\n",
       "    </tr>\n",
       "  </thead>\n",
       "  <tbody>\n",
       "    <tr>\n",
       "      <th>0</th>\n",
       "      <td>976</td>\n",
       "      <td>John</td>\n",
       "      <td>Goodenough</td>\n",
       "      <td>\"for the development of lithium-ion batteries\"</td>\n",
       "      <td>3</td>\n",
       "      <td>2019</td>\n",
       "      <td>chemistry</td>\n",
       "    </tr>\n",
       "    <tr>\n",
       "      <th>1</th>\n",
       "      <td>977</td>\n",
       "      <td>M. Stanley</td>\n",
       "      <td>Whittingham</td>\n",
       "      <td>\"for the development of lithium-ion batteries\"</td>\n",
       "      <td>3</td>\n",
       "      <td>2019</td>\n",
       "      <td>chemistry</td>\n",
       "    </tr>\n",
       "    <tr>\n",
       "      <th>2</th>\n",
       "      <td>978</td>\n",
       "      <td>Akira</td>\n",
       "      <td>Yoshino</td>\n",
       "      <td>\"for the development of lithium-ion batteries\"</td>\n",
       "      <td>3</td>\n",
       "      <td>2019</td>\n",
       "      <td>chemistry</td>\n",
       "    </tr>\n",
       "    <tr>\n",
       "      <th>3</th>\n",
       "      <td>982</td>\n",
       "      <td>Abhijit</td>\n",
       "      <td>Banerjee</td>\n",
       "      <td>\"for their experimental approach to alleviatin...</td>\n",
       "      <td>3</td>\n",
       "      <td>2019</td>\n",
       "      <td>economics</td>\n",
       "    </tr>\n",
       "    <tr>\n",
       "      <th>4</th>\n",
       "      <td>983</td>\n",
       "      <td>Esther</td>\n",
       "      <td>Duflo</td>\n",
       "      <td>\"for their experimental approach to alleviatin...</td>\n",
       "      <td>3</td>\n",
       "      <td>2019</td>\n",
       "      <td>economics</td>\n",
       "    </tr>\n",
       "  </tbody>\n",
       "</table>\n",
       "</div>"
      ],
      "text/plain": [
       "    id   firstname      surname  \\\n",
       "0  976        John   Goodenough   \n",
       "1  977  M. Stanley  Whittingham   \n",
       "2  978       Akira      Yoshino   \n",
       "3  982     Abhijit     Banerjee   \n",
       "4  983      Esther        Duflo   \n",
       "\n",
       "                                          motivation  share  year   category  \n",
       "0     \"for the development of lithium-ion batteries\"      3  2019  chemistry  \n",
       "1     \"for the development of lithium-ion batteries\"      3  2019  chemistry  \n",
       "2     \"for the development of lithium-ion batteries\"      3  2019  chemistry  \n",
       "3  \"for their experimental approach to alleviatin...      3  2019  economics  \n",
       "4  \"for their experimental approach to alleviatin...      3  2019  economics  "
      ]
     },
     "execution_count": 198,
     "metadata": {},
     "output_type": "execute_result"
    }
   ],
   "source": [
    "nobel.head()"
   ]
  },
  {
   "cell_type": "code",
   "execution_count": 199,
   "id": "6d3c607f-ced9-49f0-9c5d-85874419a7a5",
   "metadata": {},
   "outputs": [
    {
     "ename": "KeyError",
     "evalue": "'prizes'",
     "output_type": "error",
     "traceback": [
      "\u001b[1;31m---------------------------------------------------------------------------\u001b[0m",
      "\u001b[1;31mKeyError\u001b[0m                                  Traceback (most recent call last)",
      "File \u001b[1;32mC:\\ProgramData\\anaconda3\\envs\\My_38\\lib\\site-packages\\pandas\\core\\indexes\\base.py:3653\u001b[0m, in \u001b[0;36mIndex.get_loc\u001b[1;34m(self, key)\u001b[0m\n\u001b[0;32m   3652\u001b[0m \u001b[38;5;28;01mtry\u001b[39;00m:\n\u001b[1;32m-> 3653\u001b[0m     \u001b[38;5;28;01mreturn\u001b[39;00m \u001b[38;5;28;43mself\u001b[39;49m\u001b[38;5;241;43m.\u001b[39;49m\u001b[43m_engine\u001b[49m\u001b[38;5;241;43m.\u001b[39;49m\u001b[43mget_loc\u001b[49m\u001b[43m(\u001b[49m\u001b[43mcasted_key\u001b[49m\u001b[43m)\u001b[49m\n\u001b[0;32m   3654\u001b[0m \u001b[38;5;28;01mexcept\u001b[39;00m \u001b[38;5;167;01mKeyError\u001b[39;00m \u001b[38;5;28;01mas\u001b[39;00m err:\n",
      "File \u001b[1;32mC:\\ProgramData\\anaconda3\\envs\\My_38\\lib\\site-packages\\pandas\\_libs\\index.pyx:147\u001b[0m, in \u001b[0;36mpandas._libs.index.IndexEngine.get_loc\u001b[1;34m()\u001b[0m\n",
      "File \u001b[1;32mC:\\ProgramData\\anaconda3\\envs\\My_38\\lib\\site-packages\\pandas\\_libs\\index.pyx:176\u001b[0m, in \u001b[0;36mpandas._libs.index.IndexEngine.get_loc\u001b[1;34m()\u001b[0m\n",
      "File \u001b[1;32mpandas\\_libs\\hashtable_class_helper.pxi:7080\u001b[0m, in \u001b[0;36mpandas._libs.hashtable.PyObjectHashTable.get_item\u001b[1;34m()\u001b[0m\n",
      "File \u001b[1;32mpandas\\_libs\\hashtable_class_helper.pxi:7088\u001b[0m, in \u001b[0;36mpandas._libs.hashtable.PyObjectHashTable.get_item\u001b[1;34m()\u001b[0m\n",
      "\u001b[1;31mKeyError\u001b[0m: 'prizes'",
      "\nThe above exception was the direct cause of the following exception:\n",
      "\u001b[1;31mKeyError\u001b[0m                                  Traceback (most recent call last)",
      "Cell \u001b[1;32mIn[199], line 1\u001b[0m\n\u001b[1;32m----> 1\u001b[0m \u001b[43mnobel\u001b[49m\u001b[38;5;241;43m.\u001b[39;49m\u001b[43mloc\u001b[49m\u001b[43m[\u001b[49m\u001b[38;5;241;43m2\u001b[39;49m\u001b[43m,\u001b[49m\u001b[43m \u001b[49m\u001b[38;5;124;43m'\u001b[39;49m\u001b[38;5;124;43mprizes\u001b[39;49m\u001b[38;5;124;43m'\u001b[39;49m\u001b[43m]\u001b[49m\n",
      "File \u001b[1;32mC:\\ProgramData\\anaconda3\\envs\\My_38\\lib\\site-packages\\pandas\\core\\indexing.py:1096\u001b[0m, in \u001b[0;36m_LocationIndexer.__getitem__\u001b[1;34m(self, key)\u001b[0m\n\u001b[0;32m   1094\u001b[0m     key \u001b[38;5;241m=\u001b[39m \u001b[38;5;28mtuple\u001b[39m(com\u001b[38;5;241m.\u001b[39mapply_if_callable(x, \u001b[38;5;28mself\u001b[39m\u001b[38;5;241m.\u001b[39mobj) \u001b[38;5;28;01mfor\u001b[39;00m x \u001b[38;5;129;01min\u001b[39;00m key)\n\u001b[0;32m   1095\u001b[0m     \u001b[38;5;28;01mif\u001b[39;00m \u001b[38;5;28mself\u001b[39m\u001b[38;5;241m.\u001b[39m_is_scalar_access(key):\n\u001b[1;32m-> 1096\u001b[0m         \u001b[38;5;28;01mreturn\u001b[39;00m \u001b[38;5;28;43mself\u001b[39;49m\u001b[38;5;241;43m.\u001b[39;49m\u001b[43mobj\u001b[49m\u001b[38;5;241;43m.\u001b[39;49m\u001b[43m_get_value\u001b[49m\u001b[43m(\u001b[49m\u001b[38;5;241;43m*\u001b[39;49m\u001b[43mkey\u001b[49m\u001b[43m,\u001b[49m\u001b[43m \u001b[49m\u001b[43mtakeable\u001b[49m\u001b[38;5;241;43m=\u001b[39;49m\u001b[38;5;28;43mself\u001b[39;49m\u001b[38;5;241;43m.\u001b[39;49m\u001b[43m_takeable\u001b[49m\u001b[43m)\u001b[49m\n\u001b[0;32m   1097\u001b[0m     \u001b[38;5;28;01mreturn\u001b[39;00m \u001b[38;5;28mself\u001b[39m\u001b[38;5;241m.\u001b[39m_getitem_tuple(key)\n\u001b[0;32m   1098\u001b[0m \u001b[38;5;28;01melse\u001b[39;00m:\n\u001b[0;32m   1099\u001b[0m     \u001b[38;5;66;03m# we by definition only have the 0th axis\u001b[39;00m\n",
      "File \u001b[1;32mC:\\ProgramData\\anaconda3\\envs\\My_38\\lib\\site-packages\\pandas\\core\\frame.py:3870\u001b[0m, in \u001b[0;36mDataFrame._get_value\u001b[1;34m(self, index, col, takeable)\u001b[0m\n\u001b[0;32m   3867\u001b[0m     series \u001b[38;5;241m=\u001b[39m \u001b[38;5;28mself\u001b[39m\u001b[38;5;241m.\u001b[39m_ixs(col, axis\u001b[38;5;241m=\u001b[39m\u001b[38;5;241m1\u001b[39m)\n\u001b[0;32m   3868\u001b[0m     \u001b[38;5;28;01mreturn\u001b[39;00m series\u001b[38;5;241m.\u001b[39m_values[index]\n\u001b[1;32m-> 3870\u001b[0m series \u001b[38;5;241m=\u001b[39m \u001b[38;5;28;43mself\u001b[39;49m\u001b[38;5;241;43m.\u001b[39;49m\u001b[43m_get_item_cache\u001b[49m\u001b[43m(\u001b[49m\u001b[43mcol\u001b[49m\u001b[43m)\u001b[49m\n\u001b[0;32m   3871\u001b[0m engine \u001b[38;5;241m=\u001b[39m \u001b[38;5;28mself\u001b[39m\u001b[38;5;241m.\u001b[39mindex\u001b[38;5;241m.\u001b[39m_engine\n\u001b[0;32m   3873\u001b[0m \u001b[38;5;28;01mif\u001b[39;00m \u001b[38;5;129;01mnot\u001b[39;00m \u001b[38;5;28misinstance\u001b[39m(\u001b[38;5;28mself\u001b[39m\u001b[38;5;241m.\u001b[39mindex, MultiIndex):\n\u001b[0;32m   3874\u001b[0m     \u001b[38;5;66;03m# CategoricalIndex: Trying to use the engine fastpath may give incorrect\u001b[39;00m\n\u001b[0;32m   3875\u001b[0m     \u001b[38;5;66;03m#  results if our categories are integers that dont match our codes\u001b[39;00m\n\u001b[0;32m   3876\u001b[0m     \u001b[38;5;66;03m# IntervalIndex: IntervalTree has no get_loc\u001b[39;00m\n",
      "File \u001b[1;32mC:\\ProgramData\\anaconda3\\envs\\My_38\\lib\\site-packages\\pandas\\core\\frame.py:4255\u001b[0m, in \u001b[0;36mDataFrame._get_item_cache\u001b[1;34m(self, item)\u001b[0m\n\u001b[0;32m   4250\u001b[0m res \u001b[38;5;241m=\u001b[39m cache\u001b[38;5;241m.\u001b[39mget(item)\n\u001b[0;32m   4251\u001b[0m \u001b[38;5;28;01mif\u001b[39;00m res \u001b[38;5;129;01mis\u001b[39;00m \u001b[38;5;28;01mNone\u001b[39;00m:\n\u001b[0;32m   4252\u001b[0m     \u001b[38;5;66;03m# All places that call _get_item_cache have unique columns,\u001b[39;00m\n\u001b[0;32m   4253\u001b[0m     \u001b[38;5;66;03m#  pending resolution of GH#33047\u001b[39;00m\n\u001b[1;32m-> 4255\u001b[0m     loc \u001b[38;5;241m=\u001b[39m \u001b[38;5;28;43mself\u001b[39;49m\u001b[38;5;241;43m.\u001b[39;49m\u001b[43mcolumns\u001b[49m\u001b[38;5;241;43m.\u001b[39;49m\u001b[43mget_loc\u001b[49m\u001b[43m(\u001b[49m\u001b[43mitem\u001b[49m\u001b[43m)\u001b[49m\n\u001b[0;32m   4256\u001b[0m     res \u001b[38;5;241m=\u001b[39m \u001b[38;5;28mself\u001b[39m\u001b[38;5;241m.\u001b[39m_ixs(loc, axis\u001b[38;5;241m=\u001b[39m\u001b[38;5;241m1\u001b[39m)\n\u001b[0;32m   4258\u001b[0m     cache[item] \u001b[38;5;241m=\u001b[39m res\n",
      "File \u001b[1;32mC:\\ProgramData\\anaconda3\\envs\\My_38\\lib\\site-packages\\pandas\\core\\indexes\\base.py:3655\u001b[0m, in \u001b[0;36mIndex.get_loc\u001b[1;34m(self, key)\u001b[0m\n\u001b[0;32m   3653\u001b[0m     \u001b[38;5;28;01mreturn\u001b[39;00m \u001b[38;5;28mself\u001b[39m\u001b[38;5;241m.\u001b[39m_engine\u001b[38;5;241m.\u001b[39mget_loc(casted_key)\n\u001b[0;32m   3654\u001b[0m \u001b[38;5;28;01mexcept\u001b[39;00m \u001b[38;5;167;01mKeyError\u001b[39;00m \u001b[38;5;28;01mas\u001b[39;00m err:\n\u001b[1;32m-> 3655\u001b[0m     \u001b[38;5;28;01mraise\u001b[39;00m \u001b[38;5;167;01mKeyError\u001b[39;00m(key) \u001b[38;5;28;01mfrom\u001b[39;00m \u001b[38;5;21;01merr\u001b[39;00m\n\u001b[0;32m   3656\u001b[0m \u001b[38;5;28;01mexcept\u001b[39;00m \u001b[38;5;167;01mTypeError\u001b[39;00m:\n\u001b[0;32m   3657\u001b[0m     \u001b[38;5;66;03m# If we have a listlike key, _check_indexing_error will raise\u001b[39;00m\n\u001b[0;32m   3658\u001b[0m     \u001b[38;5;66;03m#  InvalidIndexError. Otherwise we fall through and re-raise\u001b[39;00m\n\u001b[0;32m   3659\u001b[0m     \u001b[38;5;66;03m#  the TypeError.\u001b[39;00m\n\u001b[0;32m   3660\u001b[0m     \u001b[38;5;28mself\u001b[39m\u001b[38;5;241m.\u001b[39m_check_indexing_error(key)\n",
      "\u001b[1;31mKeyError\u001b[0m: 'prizes'"
     ]
    }
   ],
   "source": [
    " #nobel.loc[2, 'prizes'] #실행이 안됨."
   ]
  },
  {
   "cell_type": "code",
   "execution_count": 200,
   "id": "92e47e05-5331-483a-82ef-6461959268ca",
   "metadata": {},
   "outputs": [
    {
     "ename": "KeyError",
     "evalue": "'prizes'",
     "output_type": "error",
     "traceback": [
      "\u001b[1;31m---------------------------------------------------------------------------\u001b[0m",
      "\u001b[1;31mKeyError\u001b[0m                                  Traceback (most recent call last)",
      "File \u001b[1;32mC:\\ProgramData\\anaconda3\\envs\\My_38\\lib\\site-packages\\pandas\\core\\indexes\\base.py:3653\u001b[0m, in \u001b[0;36mIndex.get_loc\u001b[1;34m(self, key)\u001b[0m\n\u001b[0;32m   3652\u001b[0m \u001b[38;5;28;01mtry\u001b[39;00m:\n\u001b[1;32m-> 3653\u001b[0m     \u001b[38;5;28;01mreturn\u001b[39;00m \u001b[38;5;28;43mself\u001b[39;49m\u001b[38;5;241;43m.\u001b[39;49m\u001b[43m_engine\u001b[49m\u001b[38;5;241;43m.\u001b[39;49m\u001b[43mget_loc\u001b[49m\u001b[43m(\u001b[49m\u001b[43mcasted_key\u001b[49m\u001b[43m)\u001b[49m\n\u001b[0;32m   3654\u001b[0m \u001b[38;5;28;01mexcept\u001b[39;00m \u001b[38;5;167;01mKeyError\u001b[39;00m \u001b[38;5;28;01mas\u001b[39;00m err:\n",
      "File \u001b[1;32mC:\\ProgramData\\anaconda3\\envs\\My_38\\lib\\site-packages\\pandas\\_libs\\index.pyx:147\u001b[0m, in \u001b[0;36mpandas._libs.index.IndexEngine.get_loc\u001b[1;34m()\u001b[0m\n",
      "File \u001b[1;32mC:\\ProgramData\\anaconda3\\envs\\My_38\\lib\\site-packages\\pandas\\_libs\\index.pyx:176\u001b[0m, in \u001b[0;36mpandas._libs.index.IndexEngine.get_loc\u001b[1;34m()\u001b[0m\n",
      "File \u001b[1;32mpandas\\_libs\\hashtable_class_helper.pxi:7080\u001b[0m, in \u001b[0;36mpandas._libs.hashtable.PyObjectHashTable.get_item\u001b[1;34m()\u001b[0m\n",
      "File \u001b[1;32mpandas\\_libs\\hashtable_class_helper.pxi:7088\u001b[0m, in \u001b[0;36mpandas._libs.hashtable.PyObjectHashTable.get_item\u001b[1;34m()\u001b[0m\n",
      "\u001b[1;31mKeyError\u001b[0m: 'prizes'",
      "\nThe above exception was the direct cause of the following exception:\n",
      "\u001b[1;31mKeyError\u001b[0m                                  Traceback (most recent call last)",
      "Cell \u001b[1;32mIn[200], line 1\u001b[0m\n\u001b[1;32m----> 1\u001b[0m \u001b[38;5;28mtype\u001b[39m(\u001b[43mnobel\u001b[49m\u001b[38;5;241;43m.\u001b[39;49m\u001b[43mloc\u001b[49m\u001b[43m[\u001b[49m\u001b[38;5;241;43m2\u001b[39;49m\u001b[43m,\u001b[49m\u001b[38;5;124;43m'\u001b[39;49m\u001b[38;5;124;43mprizes\u001b[39;49m\u001b[38;5;124;43m'\u001b[39;49m\u001b[43m]\u001b[49m)\n",
      "File \u001b[1;32mC:\\ProgramData\\anaconda3\\envs\\My_38\\lib\\site-packages\\pandas\\core\\indexing.py:1096\u001b[0m, in \u001b[0;36m_LocationIndexer.__getitem__\u001b[1;34m(self, key)\u001b[0m\n\u001b[0;32m   1094\u001b[0m     key \u001b[38;5;241m=\u001b[39m \u001b[38;5;28mtuple\u001b[39m(com\u001b[38;5;241m.\u001b[39mapply_if_callable(x, \u001b[38;5;28mself\u001b[39m\u001b[38;5;241m.\u001b[39mobj) \u001b[38;5;28;01mfor\u001b[39;00m x \u001b[38;5;129;01min\u001b[39;00m key)\n\u001b[0;32m   1095\u001b[0m     \u001b[38;5;28;01mif\u001b[39;00m \u001b[38;5;28mself\u001b[39m\u001b[38;5;241m.\u001b[39m_is_scalar_access(key):\n\u001b[1;32m-> 1096\u001b[0m         \u001b[38;5;28;01mreturn\u001b[39;00m \u001b[38;5;28;43mself\u001b[39;49m\u001b[38;5;241;43m.\u001b[39;49m\u001b[43mobj\u001b[49m\u001b[38;5;241;43m.\u001b[39;49m\u001b[43m_get_value\u001b[49m\u001b[43m(\u001b[49m\u001b[38;5;241;43m*\u001b[39;49m\u001b[43mkey\u001b[49m\u001b[43m,\u001b[49m\u001b[43m \u001b[49m\u001b[43mtakeable\u001b[49m\u001b[38;5;241;43m=\u001b[39;49m\u001b[38;5;28;43mself\u001b[39;49m\u001b[38;5;241;43m.\u001b[39;49m\u001b[43m_takeable\u001b[49m\u001b[43m)\u001b[49m\n\u001b[0;32m   1097\u001b[0m     \u001b[38;5;28;01mreturn\u001b[39;00m \u001b[38;5;28mself\u001b[39m\u001b[38;5;241m.\u001b[39m_getitem_tuple(key)\n\u001b[0;32m   1098\u001b[0m \u001b[38;5;28;01melse\u001b[39;00m:\n\u001b[0;32m   1099\u001b[0m     \u001b[38;5;66;03m# we by definition only have the 0th axis\u001b[39;00m\n",
      "File \u001b[1;32mC:\\ProgramData\\anaconda3\\envs\\My_38\\lib\\site-packages\\pandas\\core\\frame.py:3870\u001b[0m, in \u001b[0;36mDataFrame._get_value\u001b[1;34m(self, index, col, takeable)\u001b[0m\n\u001b[0;32m   3867\u001b[0m     series \u001b[38;5;241m=\u001b[39m \u001b[38;5;28mself\u001b[39m\u001b[38;5;241m.\u001b[39m_ixs(col, axis\u001b[38;5;241m=\u001b[39m\u001b[38;5;241m1\u001b[39m)\n\u001b[0;32m   3868\u001b[0m     \u001b[38;5;28;01mreturn\u001b[39;00m series\u001b[38;5;241m.\u001b[39m_values[index]\n\u001b[1;32m-> 3870\u001b[0m series \u001b[38;5;241m=\u001b[39m \u001b[38;5;28;43mself\u001b[39;49m\u001b[38;5;241;43m.\u001b[39;49m\u001b[43m_get_item_cache\u001b[49m\u001b[43m(\u001b[49m\u001b[43mcol\u001b[49m\u001b[43m)\u001b[49m\n\u001b[0;32m   3871\u001b[0m engine \u001b[38;5;241m=\u001b[39m \u001b[38;5;28mself\u001b[39m\u001b[38;5;241m.\u001b[39mindex\u001b[38;5;241m.\u001b[39m_engine\n\u001b[0;32m   3873\u001b[0m \u001b[38;5;28;01mif\u001b[39;00m \u001b[38;5;129;01mnot\u001b[39;00m \u001b[38;5;28misinstance\u001b[39m(\u001b[38;5;28mself\u001b[39m\u001b[38;5;241m.\u001b[39mindex, MultiIndex):\n\u001b[0;32m   3874\u001b[0m     \u001b[38;5;66;03m# CategoricalIndex: Trying to use the engine fastpath may give incorrect\u001b[39;00m\n\u001b[0;32m   3875\u001b[0m     \u001b[38;5;66;03m#  results if our categories are integers that dont match our codes\u001b[39;00m\n\u001b[0;32m   3876\u001b[0m     \u001b[38;5;66;03m# IntervalIndex: IntervalTree has no get_loc\u001b[39;00m\n",
      "File \u001b[1;32mC:\\ProgramData\\anaconda3\\envs\\My_38\\lib\\site-packages\\pandas\\core\\frame.py:4255\u001b[0m, in \u001b[0;36mDataFrame._get_item_cache\u001b[1;34m(self, item)\u001b[0m\n\u001b[0;32m   4250\u001b[0m res \u001b[38;5;241m=\u001b[39m cache\u001b[38;5;241m.\u001b[39mget(item)\n\u001b[0;32m   4251\u001b[0m \u001b[38;5;28;01mif\u001b[39;00m res \u001b[38;5;129;01mis\u001b[39;00m \u001b[38;5;28;01mNone\u001b[39;00m:\n\u001b[0;32m   4252\u001b[0m     \u001b[38;5;66;03m# All places that call _get_item_cache have unique columns,\u001b[39;00m\n\u001b[0;32m   4253\u001b[0m     \u001b[38;5;66;03m#  pending resolution of GH#33047\u001b[39;00m\n\u001b[1;32m-> 4255\u001b[0m     loc \u001b[38;5;241m=\u001b[39m \u001b[38;5;28;43mself\u001b[39;49m\u001b[38;5;241;43m.\u001b[39;49m\u001b[43mcolumns\u001b[49m\u001b[38;5;241;43m.\u001b[39;49m\u001b[43mget_loc\u001b[49m\u001b[43m(\u001b[49m\u001b[43mitem\u001b[49m\u001b[43m)\u001b[49m\n\u001b[0;32m   4256\u001b[0m     res \u001b[38;5;241m=\u001b[39m \u001b[38;5;28mself\u001b[39m\u001b[38;5;241m.\u001b[39m_ixs(loc, axis\u001b[38;5;241m=\u001b[39m\u001b[38;5;241m1\u001b[39m)\n\u001b[0;32m   4258\u001b[0m     cache[item] \u001b[38;5;241m=\u001b[39m res\n",
      "File \u001b[1;32mC:\\ProgramData\\anaconda3\\envs\\My_38\\lib\\site-packages\\pandas\\core\\indexes\\base.py:3655\u001b[0m, in \u001b[0;36mIndex.get_loc\u001b[1;34m(self, key)\u001b[0m\n\u001b[0;32m   3653\u001b[0m     \u001b[38;5;28;01mreturn\u001b[39;00m \u001b[38;5;28mself\u001b[39m\u001b[38;5;241m.\u001b[39m_engine\u001b[38;5;241m.\u001b[39mget_loc(casted_key)\n\u001b[0;32m   3654\u001b[0m \u001b[38;5;28;01mexcept\u001b[39;00m \u001b[38;5;167;01mKeyError\u001b[39;00m \u001b[38;5;28;01mas\u001b[39;00m err:\n\u001b[1;32m-> 3655\u001b[0m     \u001b[38;5;28;01mraise\u001b[39;00m \u001b[38;5;167;01mKeyError\u001b[39;00m(key) \u001b[38;5;28;01mfrom\u001b[39;00m \u001b[38;5;21;01merr\u001b[39;00m\n\u001b[0;32m   3656\u001b[0m \u001b[38;5;28;01mexcept\u001b[39;00m \u001b[38;5;167;01mTypeError\u001b[39;00m:\n\u001b[0;32m   3657\u001b[0m     \u001b[38;5;66;03m# If we have a listlike key, _check_indexing_error will raise\u001b[39;00m\n\u001b[0;32m   3658\u001b[0m     \u001b[38;5;66;03m#  InvalidIndexError. Otherwise we fall through and re-raise\u001b[39;00m\n\u001b[0;32m   3659\u001b[0m     \u001b[38;5;66;03m#  the TypeError.\u001b[39;00m\n\u001b[0;32m   3660\u001b[0m     \u001b[38;5;28mself\u001b[39m\u001b[38;5;241m.\u001b[39m_check_indexing_error(key)\n",
      "\u001b[1;31mKeyError\u001b[0m: 'prizes'"
     ]
    }
   ],
   "source": [
    "type(nobel.loc[2,'prizes'])"
   ]
  },
  {
   "cell_type": "markdown",
   "id": "7a038b5f-0a85-4fa3-af19-ea7140eb9ac1",
   "metadata": {},
   "source": [
    "-평탄화, 정규화 : 중첩된 데이터 레코드를 단일 1차원 리스트로 변경하는 과정"
   ]
  },
  {
   "cell_type": "code",
   "execution_count": null,
   "id": "0ba68630-66e5-4d97-9e4a-33556cea730c",
   "metadata": {},
   "outputs": [],
   "source": [
    "chemistry_2019 = nobel.loc[0, \"prizes\"]"
   ]
  },
  {
   "cell_type": "code",
   "execution_count": null,
   "id": "9dc0355f-d8b4-43f2-b7ad-3bccdd737a50",
   "metadata": {},
   "outputs": [],
   "source": [
    "chemistry_2019"
   ]
  },
  {
   "cell_type": "code",
   "execution_count": null,
   "id": "24ec22c8-1095-4ab0-b58d-aa71c11b82e3",
   "metadata": {},
   "outputs": [],
   "source": [
    "pd.json_normalize(data = chemistry_2019)"
   ]
  },
  {
   "cell_type": "code",
   "execution_count": null,
   "id": "802f7265-9499-4861-b634-5d4ee9316779",
   "metadata": {},
   "outputs": [],
   "source": [
    "pd.json_normalize(data = chemistry_2019, record_path = \"laureates\") #\"laureates\" : 수상자"
   ]
  },
  {
   "cell_type": "code",
   "execution_count": null,
   "id": "76240e79-06ff-41b4-89cc-9fa83aaefd26",
   "metadata": {},
   "outputs": [],
   "source": [
    "pd.json_normalize(data = chemistry_2019,\n",
    "                  record_path='laureates',\n",
    "                  meta = ['year', 'category']\n",
    "                 )"
   ]
  },
  {
   "cell_type": "code",
   "execution_count": null,
   "id": "b6da0db6-bb56-43e8-bcb0-042d9e651db6",
   "metadata": {},
   "outputs": [],
   "source": [
    "cheese_consumption = {\n",
    "    \"France\" : 57.9,\n",
    "    \"Germany\" : 53.2,\n",
    "    \"Luxembourg\" : 53.2\n",
    "}"
   ]
  },
  {
   "cell_type": "code",
   "execution_count": null,
   "id": "d5fa9d86-26d5-4110-826c-91337477f11a",
   "metadata": {},
   "outputs": [],
   "source": [
    "cheese_consumption.setdefault(\"France\", 100) \n",
    "#딕셔너리에 키가 없는 경우에 키-값 쌍 추가\n",
    "#키가 있는 경우 ▶ 기존값 반환."
   ]
  },
  {
   "cell_type": "code",
   "execution_count": null,
   "id": "73ec7989-698b-4ac5-ad22-2b61ec8664f9",
   "metadata": {},
   "outputs": [],
   "source": [
    "cheese_consumption"
   ]
  },
  {
   "cell_type": "code",
   "execution_count": null,
   "id": "a832eaf2-5d5c-4372-99c0-076c7a2c0355",
   "metadata": {},
   "outputs": [],
   "source": [
    "cheese_consumption.setdefault(\"Italy\", 48)"
   ]
  },
  {
   "cell_type": "code",
   "execution_count": null,
   "id": "f9b7c6ed-fb61-4117-9b58-1d09ce6dc0ba",
   "metadata": {},
   "outputs": [],
   "source": [
    "cheese_consumption"
   ]
  },
  {
   "cell_type": "code",
   "execution_count": null,
   "id": "d04d94ce-e289-447f-965b-688e3c387e29",
   "metadata": {},
   "outputs": [],
   "source": [
    "def add_laureates_key(entry) :\n",
    "    entry.setdefault(\"laureates\", []) #딕셔너리에 laureates 키가 없으면 빈리스트를 값으로 갖는 키 추가.\n",
    "\n",
    "\n",
    "nobel[\"prizes\"].apply(add_laureates_key)"
   ]
  },
  {
   "cell_type": "code",
   "execution_count": null,
   "id": "0efb92b1-9d2f-4267-91b4-c9ae7207ae0c",
   "metadata": {},
   "outputs": [],
   "source": [
    "winners = pd.json_normalize(\n",
    "    data = nobel['prizes'],\n",
    "    record_path = 'laureates',\n",
    "    meta = ['year', 'category']\n",
    ")"
   ]
  },
  {
   "cell_type": "code",
   "execution_count": null,
   "id": "eed85ad6-a66a-480f-b28e-cd5758e670b3",
   "metadata": {},
   "outputs": [],
   "source": [
    "winners"
   ]
  },
  {
   "cell_type": "markdown",
   "id": "d59be51a-7ede-4df7-a86f-4febcd73d763",
   "metadata": {},
   "source": [
    "12.1.2. DataFrame을 JSON 파일로 내보내기"
   ]
  },
  {
   "cell_type": "code",
   "execution_count": null,
   "id": "760ee768-b488-4bf5-b95d-1977c1af6daa",
   "metadata": {},
   "outputs": [],
   "source": [
    "winners.head(2)"
   ]
  },
  {
   "cell_type": "code",
   "execution_count": null,
   "id": "25099849-31b9-4a38-82d1-2abbb1d653aa",
   "metadata": {},
   "outputs": [],
   "source": [
    "winners.head(2).to_json(orient = \"records\")"
   ]
  },
  {
   "cell_type": "code",
   "execution_count": null,
   "id": "bceb926a-bf9a-4d0e-9a6a-70cdf0d7fe9d",
   "metadata": {},
   "outputs": [],
   "source": [
    "winners.head(2).to_json(orient = \"split\")"
   ]
  },
  {
   "cell_type": "code",
   "execution_count": null,
   "id": "11486ae8-02f9-47e1-873b-18d5e78e8586",
   "metadata": {},
   "outputs": [],
   "source": [
    "winners.to_json('winners.json', orient = 'records')"
   ]
  },
  {
   "cell_type": "markdown",
   "id": "450a89d2-461c-4aac-8d68-e8c9f5aa1e37",
   "metadata": {},
   "source": [
    "12.2 csv 파일 읽고 쓰기"
   ]
  },
  {
   "cell_type": "code",
   "execution_count": null,
   "id": "8a873c00-fb14-423b-9329-35b60be6bf05",
   "metadata": {},
   "outputs": [],
   "source": [
    "url = 'http://data.cityofnewyork.us/api/views/25th-nujf/rows.csv'\n",
    "baby_names = pd.read_csv(url)\n",
    "baby_names.head()"
   ]
  },
  {
   "cell_type": "code",
   "execution_count": null,
   "id": "aa85b66f-92d4-412d-a136-c9cdc7c65c35",
   "metadata": {},
   "outputs": [],
   "source": [
    "baby_names.head(10).to_csv()"
   ]
  },
  {
   "cell_type": "code",
   "execution_count": null,
   "id": "cda473da-d296-442a-ba3d-3b72d541b0e3",
   "metadata": {},
   "outputs": [],
   "source": [
    "baby_names.head(10).to_csv(index = False)"
   ]
  },
  {
   "cell_type": "code",
   "execution_count": null,
   "id": "292584a7-d50e-47e2-ab47-fb54fbe7f123",
   "metadata": {},
   "outputs": [],
   "source": [
    "baby_names.head(10).to_csv(\"NYC_Baby_Names.csv\", index = False)"
   ]
  },
  {
   "cell_type": "code",
   "execution_count": null,
   "id": "9bcc5a64-b031-4233-be0a-fd8744ea9f02",
   "metadata": {},
   "outputs": [],
   "source": [
    "baby_names.to_csv(\n",
    "    \"NYC_BaBy_Names.csv\",\n",
    "    index = False,\n",
    "    columns = ['Gender', \"Child's First Name\", \"Count\"])"
   ]
  },
  {
   "cell_type": "markdown",
   "id": "a2044580-5e49-44ff-b3ef-821f9936d9b7",
   "metadata": {},
   "source": [
    "12.3 엑셀 통합문서에 읽고 쓰기."
   ]
  },
  {
   "cell_type": "markdown",
   "id": "9758f192-a99c-4bb0-89df-b058c6d0e50f",
   "metadata": {},
   "source": [
    "12.4 엑셀 통합문서 가져오기"
   ]
  },
  {
   "cell_type": "code",
   "execution_count": null,
   "id": "0430f466-8e9e-41c8-ab20-18c6f818e1d2",
   "metadata": {},
   "outputs": [],
   "source": [
    "file3 = '../DATA/Single Worksheet.xlsx'\n",
    "pd.read_excel(file3)"
   ]
  },
  {
   "cell_type": "code",
   "execution_count": null,
   "id": "33794336-6ea3-4646-8b68-126ef93f5f63",
   "metadata": {},
   "outputs": [],
   "source": [
    "pd.read_excel(io = file3, usecols= ['City', 'First Name', 'Last Name'],\n",
    "             index_col = 'City')"
   ]
  },
  {
   "cell_type": "code",
   "execution_count": null,
   "id": "fe31f96d-026c-4b33-b8b9-32c852c91e01",
   "metadata": {},
   "outputs": [],
   "source": [
    "file4 = '../DATA/Multiple Worksheets.xlsx'\n",
    "pd.read_excel(file4)"
   ]
  },
  {
   "cell_type": "code",
   "execution_count": null,
   "id": "35ec146e-11a0-42de-b916-2c5e5702354e",
   "metadata": {},
   "outputs": [],
   "source": [
    "pd.read_excel(file4, sheet_name = 0) #None을 지정하면 모든 워크시트를 가져옴.\n",
    "pd.read_excel(file4, sheet_name = 'Data 1')"
   ]
  },
  {
   "cell_type": "code",
   "execution_count": null,
   "id": "cdcfa336-7fc8-4dde-8da2-5b7e15bd5fa0",
   "metadata": {},
   "outputs": [],
   "source": [
    "work = pd.read_excel(file4, sheet_name = None)"
   ]
  },
  {
   "cell_type": "code",
   "execution_count": null,
   "id": "33bcc545-4253-4d4a-869b-ce87eaa5aa96",
   "metadata": {},
   "outputs": [],
   "source": [
    "type(work)"
   ]
  },
  {
   "cell_type": "code",
   "execution_count": null,
   "id": "813afabf-b55f-48ae-85d4-6c0bce5acc74",
   "metadata": {},
   "outputs": [],
   "source": [
    "work['Data 2']"
   ]
  },
  {
   "cell_type": "code",
   "execution_count": null,
   "id": "f1da71ff-ab3a-460c-b0ef-ab8202d26096",
   "metadata": {},
   "outputs": [],
   "source": [
    "pd.read_excel(file4, sheet_name=['Data 1', 'Data 3'])"
   ]
  },
  {
   "cell_type": "code",
   "execution_count": null,
   "id": "c20c5f9f-c208-4420-8df7-673fbcb66e83",
   "metadata": {},
   "outputs": [],
   "source": [
    "pd.read_excel(file4, sheet_name=[1, 2])"
   ]
  },
  {
   "cell_type": "markdown",
   "id": "3b221013-4b01-463b-af03-8cd9a838b562",
   "metadata": {},
   "source": [
    "12.3.3. 엑셀 통합문서 내보내기"
   ]
  },
  {
   "cell_type": "code",
   "execution_count": null,
   "id": "f1ff6bb1-dad2-4847-af9b-e4f05b933776",
   "metadata": {},
   "outputs": [],
   "source": [
    "baby_names.head()"
   ]
  },
  {
   "cell_type": "code",
   "execution_count": null,
   "id": "8df11a7d-219d-440c-85db-773cd0abaa70",
   "metadata": {},
   "outputs": [],
   "source": [
    "girls = baby_names[baby_names['Gender'] == 'FEMALE']"
   ]
  },
  {
   "cell_type": "code",
   "execution_count": null,
   "id": "9ae02c6e-43dc-410c-8fb8-675f32b6feb4",
   "metadata": {},
   "outputs": [],
   "source": [
    "boys = baby_names[baby_names['Gender'] == 'MALE']"
   ]
  },
  {
   "cell_type": "code",
   "execution_count": null,
   "id": "b5d8d24b-2296-43e4-a0c9-eb8e0775178f",
   "metadata": {},
   "outputs": [],
   "source": [
    "excel_file = pd.ExcelWriter(\"Baby_Names.xlsx\")\n",
    "excel_file"
   ]
  },
  {
   "cell_type": "code",
   "execution_count": null,
   "id": "73cfb641-77ed-4d88-8694-9efb069a67e3",
   "metadata": {},
   "outputs": [],
   "source": [
    "girls.to_excel(excel_writer = excel_file, sheet_name= 'Girls', index = False)"
   ]
  },
  {
   "cell_type": "code",
   "execution_count": null,
   "id": "5ef8aa6c-c168-4dc2-8d15-a4e85f2e0605",
   "metadata": {},
   "outputs": [],
   "source": [
    "boys.to_excel(excel_file, sheet_name='Boys', index = False, columns=[\"Child's First Name\", \"Count\", \"Rank\"])"
   ]
  },
  {
   "cell_type": "code",
   "execution_count": null,
   "id": "ed4912dd-cc22-42c7-aa64-ccfa19c1907d",
   "metadata": {},
   "outputs": [],
   "source": [
    "excel_file.save()"
   ]
  },
  {
   "cell_type": "code",
   "execution_count": null,
   "id": "cdf74de8-afb9-4fa5-91aa-3e9b9eb7d593",
   "metadata": {},
   "outputs": [],
   "source": [
    "#실행 불가?"
   ]
  }
 ],
 "metadata": {
  "kernelspec": {
   "display_name": "Python 3 (ipykernel)",
   "language": "python",
   "name": "python3"
  },
  "language_info": {
   "codemirror_mode": {
    "name": "ipython",
    "version": 3
   },
   "file_extension": ".py",
   "mimetype": "text/x-python",
   "name": "python",
   "nbconvert_exporter": "python",
   "pygments_lexer": "ipython3",
   "version": "3.8.18"
  }
 },
 "nbformat": 4,
 "nbformat_minor": 5
}
