{
 "cells": [
  {
   "cell_type": "code",
   "execution_count": 1,
   "id": "3e4f154b-405b-46b5-abca-2a91bee9e410",
   "metadata": {},
   "outputs": [],
   "source": [
    "import pandas as pd"
   ]
  },
  {
   "cell_type": "code",
   "execution_count": 2,
   "id": "a0cb3578-acb5-4523-a70e-f6f35bec2a09",
   "metadata": {},
   "outputs": [],
   "source": [
    "import numpy as np"
   ]
  },
  {
   "cell_type": "code",
   "execution_count": 3,
   "id": "0c389617-7004-4e2b-baa0-88ad0c0a3287",
   "metadata": {},
   "outputs": [],
   "source": [
    "filename = '../DATA/남북한발전전력량.xlsx'"
   ]
  },
  {
   "cell_type": "markdown",
   "id": "45a6ba46-70d6-4942-a7a9-e0bd58d9caca",
   "metadata": {},
   "source": [
    "1. 파일 DF로 저장.\n",
    "2. wttageDF.loc[len()] # 값을 문자열로 지정.\n",
    "3. 먼저 데이터 프레임을 만들고 결측치 확인.\n",
    "4. print를 써서 0이 아니면 '결측치 있음' 문구 출력.\n",
    "5. "
   ]
  },
  {
   "cell_type": "markdown",
   "id": "0c075231-de59-4a24-b260-940c6064d99f",
   "metadata": {},
   "source": [
    "１．모듈\n",
    "２．파일　생성．\n",
    "３．　"
   ]
  },
  {
   "cell_type": "markdown",
   "id": "984c8fc4-9342-4615-a6ef-116a134ae37b",
   "metadata": {},
   "source": [
    "2번 문제\n",
    "1. 데이터프레임 지정.\n",
    "2. 결측치 확인.\n",
    "3. 연도별로 인터프레임(?)을 만들어서 "
   ]
  },
  {
   "cell_type": "markdown",
   "id": "eabe549d-c279-402f-9d13-df00530abb12",
   "metadata": {},
   "source": [
    "2번 문제\n",
    "- 가나다 순으로 전입지별 정렬."
   ]
  }
 ],
 "metadata": {
  "kernelspec": {
   "display_name": "Python 3 (ipykernel)",
   "language": "python",
   "name": "python3"
  },
  "language_info": {
   "codemirror_mode": {
    "name": "ipython",
    "version": 3
   },
   "file_extension": ".py",
   "mimetype": "text/x-python",
   "name": "python",
   "nbconvert_exporter": "python",
   "pygments_lexer": "ipython3",
   "version": "3.8.18"
  }
 },
 "nbformat": 4,
 "nbformat_minor": 5
}
