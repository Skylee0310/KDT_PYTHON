{
 "cells": [
  {
   "cell_type": "code",
   "execution_count": 57,
   "metadata": {},
   "outputs": [],
   "source": [
    "import torch\n",
    "import torch.nn.functional as F\n",
    "import torch.optim as optim\n"
   ]
  },
  {
   "cell_type": "code",
   "execution_count": 58,
   "metadata": {},
   "outputs": [],
   "source": [
    "# a = torch.IntTensor(10)\n",
    "# b = torch.Tensor([2.], requires_grad=True)\n",
    "\n",
    "\n",
    "a = torch.IntTensor(10)\n",
    "b = torch.tensor(2., requires_grad=True)"
   ]
  },
  {
   "cell_type": "code",
   "execution_count": 59,
   "metadata": {},
   "outputs": [
    {
     "name": "stdout",
     "output_type": "stream",
     "text": [
      "torch.Size([10]), 1, False, None, True, None\n",
      "torch.Size([]), 0, True, None, True, None\n"
     ]
    }
   ],
   "source": [
    "print(f'{a.shape}, {a.ndim}, {a.requires_grad}, {a.grad}, {a.is_leaf}, {a.grad_fn}')\n",
    "print(f'{b.shape}, {b.ndim}, {b.requires_grad}, {b.grad}, {b.is_leaf}, {b.grad_fn}')"
   ]
  },
  {
   "cell_type": "code",
   "execution_count": 60,
   "metadata": {},
   "outputs": [],
   "source": [
    "c =a.mul(b)"
   ]
  },
  {
   "cell_type": "code",
   "execution_count": 61,
   "metadata": {},
   "outputs": [
    {
     "name": "stdout",
     "output_type": "stream",
     "text": [
      "c tensor torch.Size([10]), 1, True, None, False, <MulBackward0 object at 0x00000228D3055610>\n"
     ]
    },
    {
     "name": "stderr",
     "output_type": "stream",
     "text": [
      "C:\\Users\\KDP-48\\AppData\\Local\\Temp\\ipykernel_14624\\1260115119.py:1: UserWarning: The .grad attribute of a Tensor that is not a leaf Tensor is being accessed. Its .grad attribute won't be populated during autograd.backward(). If you indeed want the .grad field to be populated for a non-leaf Tensor, use .retain_grad() on the non-leaf Tensor. If you access the non-leaf Tensor by mistake, make sure you access the leaf Tensor instead. See github.com/pytorch/pytorch/pull/30531 for more informations. (Triggered internally at C:\\b\\abs_6fueooay2f\\croot\\pytorch-select_1707342446212\\work\\build\\aten\\src\\ATen/core/TensorBody.h:494.)\n",
      "  print('c tensor', f'{c.shape}, {c.ndim}, {c.requires_grad}, {c.grad}, {c.is_leaf}, {c.grad_fn}')\n"
     ]
    }
   ],
   "source": [
    "print('c tensor', f'{c.shape}, {c.ndim}, {c.requires_grad}, {c.grad}, {c.is_leaf}, {c.grad_fn}')"
   ]
  },
  {
   "cell_type": "code",
   "execution_count": 62,
   "metadata": {},
   "outputs": [
    {
     "data": {
      "text/plain": [
       "<bound method Tensor.backward of tensor([0., 0., 0., 0., 0., 0., 0., 0., 0., 0.], grad_fn=<MulBackward0>)>"
      ]
     },
     "execution_count": 62,
     "metadata": {},
     "output_type": "execute_result"
    }
   ],
   "source": [
    "c.backward"
   ]
  },
  {
   "cell_type": "code",
   "execution_count": 63,
   "metadata": {},
   "outputs": [
    {
     "data": {
      "text/plain": [
       "<bound method Tensor.backward of tensor(2., requires_grad=True)>"
      ]
     },
     "execution_count": 63,
     "metadata": {},
     "output_type": "execute_result"
    }
   ],
   "source": [
    "b.backward"
   ]
  },
  {
   "cell_type": "code",
   "execution_count": 64,
   "metadata": {},
   "outputs": [],
   "source": [
    "sgd = optim.SGD"
   ]
  },
  {
   "cell_type": "code",
   "execution_count": 65,
   "metadata": {},
   "outputs": [],
   "source": [
    "x = torch.ones(5)                           # input tensor\n",
    "y = torch.zeros(3)                          # expected output\n",
    "w = torch.randn(5,3, requires_grad=True)\n",
    "b = torch.randn(3, requires_grad=True)\n",
    "z = torch.matmul(x, w) + b\n",
    "#loss = torch.nn.functional.binary_cross_entropy_with_logits(z, y)\n",
    "\n",
    "y2 = torch.zeros(1)                         # expected output\n",
    "w2 = torch.randn(3, requires_grad=True)\n",
    "b2 = torch.randn(1, requires_grad=True)\n",
    "z2 = torch.matmul(z,w2)+b2\n",
    "#x2 = torch.tensor((5, 5), z)          \n",
    "\n",
    "#print(z, z.shape, w.shape)\n",
    "\n",
    "loss = torch.nn.functional.binary_cross_entropy_with_logits(z2, y2)\n"
   ]
  },
  {
   "cell_type": "code",
   "execution_count": 66,
   "metadata": {},
   "outputs": [
    {
     "name": "stdout",
     "output_type": "stream",
     "text": [
      "x tensor torch.Size([5]), 1, False, None, True, None\n",
      "y tensor torch.Size([3]), 1, False, None, True, None\n",
      "w tensor torch.Size([5, 3]), 2, True, None, True, None\n",
      "b tensor torch.Size([3]), 1, True, None, True, None\n",
      "z tensor torch.Size([3]), 1, True, None, False, <AddBackward0 object at 0x00000228D307CB80>\n",
      "\n",
      "y2 tensor torch.Size([1]), 1, False, None, True, None\n",
      "w2 tensor torch.Size([3]), 1, True, None, True, None\n",
      "b2 tensor torch.Size([1]), 1, True, None, True, None\n",
      "z2 tensor torch.Size([1]), 1, True, None, False, <AddBackward0 object at 0x00000228D307CAF0>\n",
      "loss True, None, False, <BinaryCrossEntropyWithLogitsBackward0 object at 0x00000228D307CC40>\n"
     ]
    },
    {
     "name": "stderr",
     "output_type": "stream",
     "text": [
      "C:\\Users\\KDP-48\\AppData\\Local\\Temp\\ipykernel_14624\\1569453660.py:5: UserWarning: The .grad attribute of a Tensor that is not a leaf Tensor is being accessed. Its .grad attribute won't be populated during autograd.backward(). If you indeed want the .grad field to be populated for a non-leaf Tensor, use .retain_grad() on the non-leaf Tensor. If you access the non-leaf Tensor by mistake, make sure you access the leaf Tensor instead. See github.com/pytorch/pytorch/pull/30531 for more informations. (Triggered internally at C:\\b\\abs_6fueooay2f\\croot\\pytorch-select_1707342446212\\work\\build\\aten\\src\\ATen/core/TensorBody.h:494.)\n",
      "  print('z tensor', f'{z.shape}, {z.ndim}, {z.requires_grad}, {z.grad}, {z.is_leaf}, {z.grad_fn}')\n",
      "C:\\Users\\KDP-48\\AppData\\Local\\Temp\\ipykernel_14624\\1569453660.py:11: UserWarning: The .grad attribute of a Tensor that is not a leaf Tensor is being accessed. Its .grad attribute won't be populated during autograd.backward(). If you indeed want the .grad field to be populated for a non-leaf Tensor, use .retain_grad() on the non-leaf Tensor. If you access the non-leaf Tensor by mistake, make sure you access the leaf Tensor instead. See github.com/pytorch/pytorch/pull/30531 for more informations. (Triggered internally at C:\\b\\abs_6fueooay2f\\croot\\pytorch-select_1707342446212\\work\\build\\aten\\src\\ATen/core/TensorBody.h:494.)\n",
      "  print('z2 tensor', f'{z2.shape}, {z2.ndim}, {z2.requires_grad}, {z2.grad}, {z2.is_leaf}, {z2.grad_fn}')\n",
      "C:\\Users\\KDP-48\\AppData\\Local\\Temp\\ipykernel_14624\\1569453660.py:12: UserWarning: The .grad attribute of a Tensor that is not a leaf Tensor is being accessed. Its .grad attribute won't be populated during autograd.backward(). If you indeed want the .grad field to be populated for a non-leaf Tensor, use .retain_grad() on the non-leaf Tensor. If you access the non-leaf Tensor by mistake, make sure you access the leaf Tensor instead. See github.com/pytorch/pytorch/pull/30531 for more informations. (Triggered internally at C:\\b\\abs_6fueooay2f\\croot\\pytorch-select_1707342446212\\work\\build\\aten\\src\\ATen/core/TensorBody.h:494.)\n",
      "  print('loss', f'{loss.requires_grad}, {loss.grad}, {loss.is_leaf}, {loss.grad_fn}')\n"
     ]
    }
   ],
   "source": [
    "print('x tensor', f'{x.shape}, {x.ndim}, {x.requires_grad}, {x.grad}, {x.is_leaf}, {x.grad_fn}')\n",
    "print('y tensor', f'{y.shape}, {y.ndim}, {y.requires_grad}, {y.grad}, {y.is_leaf}, {y.grad_fn}')\n",
    "print('w tensor', f'{w.shape}, {w.ndim}, {w.requires_grad}, {w.grad}, {w.is_leaf}, {w.grad_fn}')\n",
    "print('b tensor', f'{b.shape}, {b.ndim}, {b.requires_grad}, {b.grad}, {b.is_leaf}, {b.grad_fn}')\n",
    "print('z tensor', f'{z.shape}, {z.ndim}, {z.requires_grad}, {z.grad}, {z.is_leaf}, {z.grad_fn}')\n",
    "print()\n",
    "#print('x2 tensor', f'{x.shape}, {x.ndim}, {x.requires_grad}, {x.grad}, {x.is_leaf}, {x.grad_fn}')\n",
    "print('y2 tensor', f'{y2.shape}, {y2.ndim}, {y2.requires_grad}, {y2.grad}, {y2.is_leaf}, {y2.grad_fn}')\n",
    "print('w2 tensor', f'{w2.shape}, {w2.ndim}, {w2.requires_grad}, {w2.grad}, {w2.is_leaf}, {w2.grad_fn}')\n",
    "print('b2 tensor', f'{b2.shape}, {b2.ndim}, {b2.requires_grad}, {b2.grad}, {b2.is_leaf}, {b2.grad_fn}')\n",
    "print('z2 tensor', f'{z2.shape}, {z2.ndim}, {z2.requires_grad}, {z2.grad}, {z2.is_leaf}, {z2.grad_fn}')\n",
    "print('loss', f'{loss.requires_grad}, {loss.grad}, {loss.is_leaf}, {loss.grad_fn}')\n"
   ]
  },
  {
   "cell_type": "code",
   "execution_count": 67,
   "metadata": {},
   "outputs": [
    {
     "data": {
      "text/plain": [
       "(None, None, None, None)"
      ]
     },
     "execution_count": 67,
     "metadata": {},
     "output_type": "execute_result"
    }
   ],
   "source": [
    "w2.grad, b2.grad, w.grad, b.grad"
   ]
  },
  {
   "cell_type": "code",
   "execution_count": 68,
   "metadata": {},
   "outputs": [
    {
     "name": "stdout",
     "output_type": "stream",
     "text": [
      "tensor([ 0.5918,  0.0201, -0.1932], requires_grad=True) None\n",
      "tensor([0.2629], requires_grad=True) None\n",
      "tensor([[-0.1467,  0.9337,  0.9606],\n",
      "        [-1.3627,  1.6311,  1.2476],\n",
      "        [-0.2522, -0.5432, -0.0099],\n",
      "        [ 1.2500, -1.4319, -0.7281],\n",
      "        [-0.1357,  0.1278, -0.6782]], requires_grad=True) None\n",
      "tensor([-1.2911, -0.6386, -0.3170], requires_grad=True) None\n"
     ]
    }
   ],
   "source": [
    "print(w2, w2.grad)\n",
    "print(b2, b2.grad)\n",
    "print(w, w.grad)\n",
    "print(b, b.grad)"
   ]
  },
  {
   "cell_type": "code",
   "execution_count": 69,
   "metadata": {},
   "outputs": [],
   "source": [
    "loss.backward()"
   ]
  },
  {
   "cell_type": "code",
   "execution_count": 70,
   "metadata": {},
   "outputs": [
    {
     "name": "stdout",
     "output_type": "stream",
     "text": [
      "tensor([ 0.5918,  0.0201, -0.1932], requires_grad=True) tensor([-0.5312,  0.0216,  0.1302])\n",
      "tensor([0.2629], requires_grad=True) tensor([0.2740])\n",
      "tensor([[-0.1467,  0.9337,  0.9606],\n",
      "        [-1.3627,  1.6311,  1.2476],\n",
      "        [-0.2522, -0.5432, -0.0099],\n",
      "        [ 1.2500, -1.4319, -0.7281],\n",
      "        [-0.1357,  0.1278, -0.6782]], requires_grad=True) tensor([[ 0.1621,  0.0055, -0.0529],\n",
      "        [ 0.1621,  0.0055, -0.0529],\n",
      "        [ 0.1621,  0.0055, -0.0529],\n",
      "        [ 0.1621,  0.0055, -0.0529],\n",
      "        [ 0.1621,  0.0055, -0.0529]])\n",
      "tensor([-1.2911, -0.6386, -0.3170], requires_grad=True) tensor([ 0.1621,  0.0055, -0.0529])\n"
     ]
    }
   ],
   "source": [
    "print(w2, w2.grad)\n",
    "print(b2, b2.grad)\n",
    "print(w, w.grad)\n",
    "print(b, b.grad)"
   ]
  },
  {
   "cell_type": "code",
   "execution_count": null,
   "metadata": {},
   "outputs": [],
   "source": []
  }
 ],
 "metadata": {
  "kernelspec": {
   "display_name": "Torch_py38",
   "language": "python",
   "name": "python3"
  },
  "language_info": {
   "codemirror_mode": {
    "name": "ipython",
    "version": 3
   },
   "file_extension": ".py",
   "mimetype": "text/x-python",
   "name": "python",
   "nbconvert_exporter": "python",
   "pygments_lexer": "ipython3",
   "version": "3.8.12"
  }
 },
 "nbformat": 4,
 "nbformat_minor": 2
}
